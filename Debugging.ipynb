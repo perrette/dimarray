{
 "metadata": {
  "name": ""
 },
 "nbformat": 3,
 "nbformat_minor": 0,
 "worksheets": [
  {
   "cells": [
    {
     "cell_type": "heading",
     "level": 1,
     "metadata": {},
     "source": [
      "Debug Tests"
     ]
    },
    {
     "cell_type": "code",
     "collapsed": false,
     "input": [
      "import dimarray.core as da\n",
      "import dimarray.transform as tr\n",
      "import dimarray.metadata as md\n",
      "import dimarray.axes as ax\n",
      "import dimarray.ncio as nc\n",
      "import dimarray.collect as co\n",
      "reload(md)\n",
      "reload(ax)\n",
      "reload(tr)\n",
      "reload(da)\n",
      "reload(nc)\n",
      "#reload(co)\n",
      "#da.DimArray(np.arange(5)*2, [('time',arange(5))])\n",
      "v = da.array(randn(5,7), time=arange(1950,1955), lat=linspace(-90,90,7))\n",
      "w = v.reindex(time=arange(1940,1955))\n",
      "#w.save(\"test.nc\")\n",
      "#rm test.nc\n",
      "w.save('test.nc','myvar',mode='w')\n",
      "nc.summary('test.nc')\n",
      "w = nc.read('test.nc')\n",
      "w"
     ],
     "language": "python",
     "metadata": {},
     "outputs": [
      {
       "output_type": "stream",
       "stream": "stdout",
       "text": [
        "write to test.nc\n",
        "test.nc:\n",
        "-------\n",
        "dimensions: time x lat\n",
        "time (15): 1940 to 1954\n",
        "lat (7): -90.0 to 90.0\n",
        "myvar : time x lat\n",
        "read from test.nc\n"
       ]
      },
      {
       "metadata": {},
       "output_type": "pyout",
       "prompt_number": 4,
       "text": [
        "Dataset of 1 variables\n",
        "\n",
        "dimarray: 35 non-null elements (70 null)\n",
        "dimensions: time x lat\n",
        "time (15): 1940 to 1954\n",
        "lat (7): -90.0 to 90.0"
       ]
      }
     ],
     "prompt_number": 4
    },
    {
     "cell_type": "code",
     "collapsed": false,
     "input": [
      "%debug"
     ],
     "language": "python",
     "metadata": {},
     "outputs": [
      {
       "output_type": "stream",
       "stream": "stdout",
       "text": [
        "> \u001b[1;32m/home/perrette/Projects/dimarray/netCDF4.pyx\u001b[0m(1034)\u001b[0;36mnetCDF4._set_att (netCDF4.c:16159)\u001b[1;34m()\u001b[0m\n",
        "\n"
       ]
      },
      {
       "name": "stdout",
       "output_type": "stream",
       "stream": "stdout",
       "text": [
        "ipdb> up\n"
       ]
      },
      {
       "output_type": "stream",
       "stream": "stdout",
       "text": [
        "> \u001b[1;32m/home/perrette/Projects/dimarray/dimarray/ncio.py\u001b[0m(271)\u001b[0;36mwrite_variable\u001b[1;34m()\u001b[0m\n",
        "\u001b[1;32m    270 \u001b[1;33m    \u001b[1;32mfor\u001b[0m \u001b[0mk\u001b[0m \u001b[1;32min\u001b[0m \u001b[0mobj\u001b[0m\u001b[1;33m.\u001b[0m\u001b[0mncattrs\u001b[0m\u001b[1;33m(\u001b[0m\u001b[1;33m)\u001b[0m\u001b[1;33m:\u001b[0m\u001b[1;33m\u001b[0m\u001b[0m\n",
        "\u001b[0m\u001b[1;32m--> 271 \u001b[1;33m        \u001b[0mf\u001b[0m\u001b[1;33m.\u001b[0m\u001b[0mvariables\u001b[0m\u001b[1;33m[\u001b[0m\u001b[0mname\u001b[0m\u001b[1;33m]\u001b[0m\u001b[1;33m.\u001b[0m\u001b[0msetncattr\u001b[0m\u001b[1;33m(\u001b[0m\u001b[0mk\u001b[0m\u001b[1;33m,\u001b[0m \u001b[0mgetattr\u001b[0m\u001b[1;33m(\u001b[0m\u001b[0mobj\u001b[0m\u001b[1;33m,\u001b[0m \u001b[0mk\u001b[0m\u001b[1;33m)\u001b[0m\u001b[1;33m)\u001b[0m\u001b[1;33m\u001b[0m\u001b[0m\n",
        "\u001b[0m\u001b[1;32m    272 \u001b[1;33m\u001b[1;33m\u001b[0m\u001b[0m\n",
        "\u001b[0m\n"
       ]
      },
      {
       "name": "stdout",
       "output_type": "stream",
       "stream": "stdout",
       "text": [
        "ipdb> k\n"
       ]
      },
      {
       "output_type": "stream",
       "stream": "stdout",
       "text": [
        "'name'\n"
       ]
      },
      {
       "name": "stdout",
       "output_type": "stream",
       "stream": "stdout",
       "text": [
        "ipdb> getattr(obj, k)\n"
       ]
      },
      {
       "name": "stdout",
       "output_type": "stream",
       "stream": "stdout",
       "text": [
        "ipdb> obj\n"
       ]
      },
      {
       "output_type": "stream",
       "stream": "stdout",
       "text": [
        "dimarray: 35 non-null elements (70 null)\n",
        "name: \n",
        "dimensions: time x lat\n",
        "time (15): 1940 to 1954\n",
        "lat (7): -90.0 to 90.0\n"
       ]
      },
      {
       "name": "stdout",
       "output_type": "stream",
       "stream": "stdout",
       "text": [
        "ipdb> q\n"
       ]
      }
     ],
     "prompt_number": 3
    },
    {
     "cell_type": "markdown",
     "metadata": {},
     "source": [
      "Interpolation / regridding"
     ]
    },
    {
     "cell_type": "code",
     "collapsed": false,
     "input": [
      "#w = v.reindex_axis(arange(1940,1960), axis='time') \n",
      "v = da.array(randn(5,7), time=arange(1950,1955), lon=linspace(-90,90,7))\n",
      "w = v.interp1d(arange(1948.,1960,2), axis='time')\n",
      "%matplotlib inline\n",
      "clf()\n",
      "plot(v.time, v.values[:,0], label='original')\n",
      "plot(w.time, w.values[:,0], label='interp')\n",
      "legend()"
     ],
     "language": "python",
     "metadata": {},
     "outputs": []
    },
    {
     "cell_type": "markdown",
     "metadata": {},
     "source": [
      "multi-dimension operation / alignment"
     ]
    },
    {
     "cell_type": "code",
     "collapsed": false,
     "input": [
      "mymap = da.array(randn(50,7), lon=linspace(-180,180,50), lat=linspace(-90,90,7))\n",
      "ts = da.DimArray(np.arange(5), [('time',arange(1950,1955))])\n",
      "ts2 = da.DimArray(np.arange(10), [('time',arange(1950,1960))])\n",
      "mymap*ts\n",
      "ts*mymap\n",
      "print 'ts',ts\n",
      "print 'ts2',ts2\n",
      "print \"sum\",ts+ts2"
     ],
     "language": "python",
     "metadata": {},
     "outputs": []
    },
    {
     "cell_type": "code",
     "collapsed": false,
     "input": [
      "np.where?"
     ],
     "language": "python",
     "metadata": {},
     "outputs": []
    }
   ],
   "metadata": {}
  }
 ]
}