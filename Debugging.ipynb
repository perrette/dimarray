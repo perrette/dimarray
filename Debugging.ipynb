{
 "metadata": {
  "name": ""
 },
 "nbformat": 3,
 "nbformat_minor": 0,
 "worksheets": [
  {
   "cells": [
    {
     "cell_type": "heading",
     "level": 1,
     "metadata": {},
     "source": [
      "Debug Tests"
     ]
    },
    {
     "cell_type": "code",
     "collapsed": false,
     "input": [
      "import dimarray.metadata as md\n",
      "reload(md)\n",
      "v = md.Variable(zeros(4))\n",
      "v.yo = 123\n",
      "v.name = 'myname'\n",
      "v.ya = 'hio'\n",
      "v.repr_meta()\n",
      "v._metadata"
     ],
     "language": "python",
     "metadata": {},
     "outputs": [
      {
       "metadata": {},
       "output_type": "pyout",
       "prompt_number": 41,
       "text": [
        "OrderedDict([('yo', 123), ('name', 'myname'), ('ya', 'hio')])"
       ]
      }
     ],
     "prompt_number": 41
    },
    {
     "cell_type": "code",
     "collapsed": false,
     "input": [
      "import dimarray.axes as ax\n",
      "reload(ax)\n",
      "ax.test()"
     ],
     "language": "python",
     "metadata": {},
     "outputs": [
      {
       "output_type": "stream",
       "stream": "stdout",
       "text": [
        "**********************************************************************\n",
        "File \"dimarray/axes.py\", line 251, in dimarray.axes.Locator\n",
        "Failed example:\n",
        "    loc(1951.4, method=\"exact\")     # doctest: +ELLIPSIS\n",
        "Exception raised:\n",
        "    Traceback (most recent call last):\n",
        "      File \"/usr/lib/python2.7/doctest.py\", line 1289, in __run\n",
        "        compileflags, 1) in test.globs\n",
        "      File \"<doctest dimarray.axes.Locator[5]>\", line 1, in <module>\n",
        "        loc(1951.4, method=\"exact\")     # doctest: +ELLIPSIS\n",
        "      File \"dimarray/axes.py\", line 336, in __call__\n",
        "        return self.set(method=method)[idx]\n",
        "      File \"dimarray/axes.py\", line 318, in __getitem__\n",
        "        return self.locate(ix)\n",
        "      File \"dimarray/axes.py\", line 379, in locate\n",
        "        return getattr(self, method)(val)\n",
        "      File \"dimarray/axes.py\", line 352, in index\n",
        "        return list(self.values).index(val)\n",
        "    ValueError: 1951.4000000000001 is not in list\n",
        "**********************************************************************\n",
        "1 items had failures:\n",
        "   1 of  17 in dimarray.axes.Locator\n",
        "***Test Failed*** 1 failures.\n"
       ]
      }
     ],
     "prompt_number": 21
    },
    {
     "cell_type": "code",
     "collapsed": false,
     "input": [
      "d = {'A':1}\n",
      "for a, b in d.iteritems(): print a,b"
     ],
     "language": "python",
     "metadata": {},
     "outputs": [
      {
       "output_type": "stream",
       "stream": "stdout",
       "text": [
        "A 1\n"
       ]
      }
     ],
     "prompt_number": 20
    }
   ],
   "metadata": {}
  }
 ]
}