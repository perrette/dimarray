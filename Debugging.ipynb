{
 "metadata": {
  "name": ""
 },
 "nbformat": 3,
 "nbformat_minor": 0,
 "worksheets": [
  {
   "cells": [
    {
     "cell_type": "heading",
     "level": 1,
     "metadata": {},
     "source": [
      "Debug Tests"
     ]
    },
    {
     "cell_type": "code",
     "collapsed": false,
     "input": [
      "# Test basearray\n",
      "import dimarray.basearray as ba\n",
      "reload(ba)\n",
      "a = ba.get_testdata()\n",
      "values = a.values\n",
      "ba.test_doc()"
     ],
     "language": "python",
     "metadata": {},
     "outputs": [
      {
       "metadata": {},
       "output_type": "pyout",
       "prompt_number": 6,
       "text": [
        "TestResults(failed=0, attempted=12)"
       ]
      }
     ],
     "prompt_number": 6
    },
    {
     "cell_type": "code",
     "collapsed": false,
     "input": [
      "# Test nanarray\n",
      "import dimarray.nanarray as na\n",
      "reload(na)\n",
      "a = na.get_testdata()\n",
      "na.test_doc()"
     ],
     "language": "python",
     "metadata": {},
     "outputs": [
      {
       "output_type": "stream",
       "stream": "stdout",
       "text": [
        "**********************************************************************\n",
        "File \"dimarray/nanarray.py\", line 99, in dimarray.nanarray.NanArray.apply\n",
        "Failed example:\n",
        "    res = b.sum()\n",
        "Exception raised:\n",
        "    Traceback (most recent call last):\n",
        "      File \"/usr/lib/python2.7/doctest.py\", line 1289, in __run\n",
        "        compileflags, 1) in test.globs\n",
        "      File \"<doctest dimarray.nanarray.NanArray.apply[2]>\", line 1, in <module>\n",
        "        res = b.sum()\n",
        "      File \"dimarray/nanarray.py\", line 111, in apply\n",
        "        if axis is None:\n",
        "    NameError: global name 'axis' is not defined\n",
        "**********************************************************************\n",
        "File \"dimarray/nanarray.py\", line 101, in dimarray.nanarray.NanArray.apply\n",
        "Failed example:\n",
        "    b.sum()\n",
        "Exception raised:\n",
        "    Traceback (most recent call last):\n",
        "      File \"/usr/lib/python2.7/doctest.py\", line 1289, in __run\n",
        "        compileflags, 1) in test.globs\n",
        "      File \"<doctest dimarray.nanarray.NanArray.apply[4]>\", line 1, in <module>\n",
        "        b.sum()\n",
        "      File \"dimarray/nanarray.py\", line 111, in apply\n",
        "        if axis is None:\n",
        "    NameError: global name 'axis' is not defined\n",
        "**********************************************************************\n",
        "File \"dimarray/nanarray.py\", line 102, in dimarray.nanarray.NanArray.apply\n",
        "Failed example:\n",
        "    b == c\n",
        "Exception raised:\n",
        "    Traceback (most recent call last):\n",
        "      File \"/usr/lib/python2.7/doctest.py\", line 1289, in __run\n",
        "        compileflags, 1) in test.globs\n",
        "      File \"<doctest dimarray.nanarray.NanArray.apply[5]>\", line 1, in <module>\n",
        "        b == c\n",
        "    NameError: name 'c' is not defined\n",
        "**********************************************************************\n",
        "1 items had failures:\n",
        "   3 of   6 in dimarray.nanarray.NanArray.apply\n",
        "***Test Failed*** 3 failures.\n"
       ]
      },
      {
       "metadata": {},
       "output_type": "pyout",
       "prompt_number": 4,
       "text": [
        "TestResults(failed=3, attempted=6)"
       ]
      }
     ],
     "prompt_number": 4
    },
    {
     "cell_type": "code",
     "collapsed": false,
     "input": [
      "a\n",
      "a.take([2,3], axis=1)"
     ],
     "language": "python",
     "metadata": {},
     "outputs": [
      {
       "metadata": {},
       "output_type": "pyout",
       "prompt_number": 2,
       "text": [
        "array([[ 2.,  3.],\n",
        "       [ 3.,  4.],\n",
        "       [ 4.,  5.],\n",
        "       [ 5.,  6.],\n",
        "       [ 6.,  7.]])"
       ]
      }
     ],
     "prompt_number": 2
    }
   ],
   "metadata": {}
  }
 ]
}