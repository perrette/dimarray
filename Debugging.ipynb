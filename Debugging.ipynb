{
 "metadata": {
  "name": ""
 },
 "nbformat": 3,
 "nbformat_minor": 0,
 "worksheets": [
  {
   "cells": [
    {
     "cell_type": "heading",
     "level": 1,
     "metadata": {},
     "source": [
      "Debug Tests"
     ]
    },
    {
     "cell_type": "code",
     "collapsed": false,
     "input": [
      "# Test basearray\n",
      "import numpy as np\n",
      "import dimarray.basearray as ba\n",
      "reload(ba)\n",
      "a = ba.get_testdata()\n",
      "values = a.values\n",
      "ba.test_doc()"
     ],
     "language": "python",
     "metadata": {},
     "outputs": [
      {
       "metadata": {},
       "output_type": "pyout",
       "prompt_number": 3,
       "text": [
        "TestResults(failed=0, attempted=12)"
       ]
      }
     ],
     "prompt_number": 3
    },
    {
     "cell_type": "code",
     "collapsed": false,
     "input": [
      "# Test nanarray\n",
      "import dimarray.nanarray as na\n",
      "reload(na)\n",
      "a = na.get_testdata()\n",
      "na.test_doc()"
     ],
     "language": "python",
     "metadata": {},
     "outputs": [
      {
       "output_type": "stream",
       "stream": "stdout",
       "text": [
        "**********************************************************************\n",
        "File \"dimarray/nanarray.py\", line 76, in dimarray.nanarray.NanArray.apply\n",
        "Failed example:\n",
        "    b.sum(axis=0)\n",
        "Expected:\n",
        "    <NanArray>\n",
        "    array([  9.,   12.,   15.,   18.,   21.,   24.])\n",
        "Got:\n",
        "    masked_array(data = [9.0 13.0 17.0 21.0 25.0 29.0],\n",
        "                 mask = [False False False False False False],\n",
        "           fill_value = 1e+20)\n",
        "    <BLANKLINE>\n",
        "**********************************************************************\n",
        "File \"dimarray/nanarray.py\", line 79, in dimarray.nanarray.NanArray.apply\n",
        "Failed example:\n",
        "    b.values.sum(axis=0)\n",
        "Expected:\n",
        "    <NanArray>\n",
        "    array([ nan,  nan,  nan,  nan,  nan,  nan])\n",
        "Got:\n",
        "    array([ nan,  nan,  nan,  nan,  nan,  nan])\n",
        "**********************************************************************\n",
        "1 items had failures:\n",
        "   2 of   5 in dimarray.nanarray.NanArray.apply\n",
        "***Test Failed*** 2 failures.\n"
       ]
      },
      {
       "metadata": {},
       "output_type": "pyout",
       "prompt_number": 4,
       "text": [
        "TestResults(failed=2, attempted=5)"
       ]
      }
     ],
     "prompt_number": 4
    },
    {
     "cell_type": "code",
     "collapsed": false,
     "input": [
      "import numpy as np\n",
      "reload(na)\n",
      "a = na.get_testdata()\n",
      "a\n",
      "b = a.copy()\n",
      "b[2] = np.nan\n",
      "b\n",
      "c = b.sum(axis=0)\n",
      "c\n",
      "c.fill_value\n",
      "c\n",
      "c.filled(np.nan)"
     ],
     "language": "python",
     "metadata": {},
     "outputs": [
      {
       "metadata": {},
       "output_type": "pyout",
       "prompt_number": 6,
       "text": [
        "array([  8.,  12.,  16.,  20.,  24.,  28.])"
       ]
      }
     ],
     "prompt_number": 6
    },
    {
     "cell_type": "code",
     "collapsed": false,
     "input": [
      "%debug"
     ],
     "language": "python",
     "metadata": {},
     "outputs": [
      {
       "output_type": "stream",
       "stream": "stdout",
       "text": [
        "> \u001b[1;32m/home/perrette/Projects/dimarray/dimarray/nanarray.py\u001b[0m(97)\u001b[0;36mapply\u001b[1;34m()\u001b[0m\n",
        "\u001b[1;32m     96 \u001b[1;33m\u001b[1;33m\u001b[0m\u001b[0m\n",
        "\u001b[0m\u001b[1;32m---> 97 \u001b[1;33m        \u001b[1;36m1\u001b[0m\u001b[1;33m/\u001b[0m\u001b[1;36m0\u001b[0m\u001b[1;33m\u001b[0m\u001b[0m\n",
        "\u001b[0m\u001b[1;32m     98 \u001b[1;33m\u001b[1;33m\u001b[0m\u001b[0m\n",
        "\u001b[0m\n"
       ]
      },
      {
       "name": "stdout",
       "output_type": "stream",
       "stream": "stdout",
       "text": [
        "ipdb> list\n"
       ]
      },
      {
       "output_type": "stream",
       "stream": "stdout",
       "text": [
        "\u001b[0;32m     92 \u001b[0m\u001b[1;33m\u001b[0m\u001b[0m\n",
        "\u001b[0;32m     93 \u001b[0m        \u001b[1;31m# if scalar, just return it\u001b[0m\u001b[1;33m\u001b[0m\u001b[1;33m\u001b[0m\u001b[0m\n",
        "\u001b[0;32m     94 \u001b[0m        \u001b[1;32mif\u001b[0m \u001b[1;32mnot\u001b[0m \u001b[0misinstance\u001b[0m\u001b[1;33m(\u001b[0m\u001b[0mresult\u001b[0m\u001b[1;33m,\u001b[0m \u001b[0mnp\u001b[0m\u001b[1;33m.\u001b[0m\u001b[0mndarray\u001b[0m\u001b[1;33m)\u001b[0m\u001b[1;33m:\u001b[0m\u001b[1;33m\u001b[0m\u001b[0m\n",
        "\u001b[0;32m     95 \u001b[0m            \u001b[1;32mreturn\u001b[0m \u001b[0mresult\u001b[0m\u001b[1;33m\u001b[0m\u001b[0m\n",
        "\u001b[0;32m     96 \u001b[0m\u001b[1;33m\u001b[0m\u001b[0m\n",
        "\u001b[1;32m---> 97 \u001b[1;33m        \u001b[1;36m1\u001b[0m\u001b[1;33m/\u001b[0m\u001b[1;36m0\u001b[0m\u001b[1;33m\u001b[0m\u001b[0m\n",
        "\u001b[0m\u001b[0;32m     98 \u001b[0m\u001b[1;33m\u001b[0m\u001b[0m\n",
        "\u001b[0;32m     99 \u001b[0m        \u001b[1;31m# otherwise, fill NaNs back in\u001b[0m\u001b[1;33m\u001b[0m\u001b[1;33m\u001b[0m\u001b[0m\n",
        "\u001b[0;32m    100 \u001b[0m        \u001b[0mresult\u001b[0m\u001b[1;33m.\u001b[0m\u001b[0mfill\u001b[0m\u001b[1;33m(\u001b[0m\u001b[0mnp\u001b[0m\u001b[1;33m.\u001b[0m\u001b[0mnan\u001b[0m\u001b[1;33m)\u001b[0m\u001b[1;33m\u001b[0m\u001b[0m\n",
        "\u001b[0;32m    101 \u001b[0m\u001b[1;33m\u001b[0m\u001b[0m\n",
        "\u001b[0;32m    102 \u001b[0m        \u001b[1;32mreturn\u001b[0m \u001b[0mNanArray\u001b[0m\u001b[1;33m(\u001b[0m\u001b[0mresult\u001b[0m\u001b[1;33m)\u001b[0m\u001b[1;33m\u001b[0m\u001b[0m\n",
        "\n"
       ]
      },
      {
       "name": "stdout",
       "output_type": "stream",
       "stream": "stdout",
       "text": [
        "ipdb> result\n"
       ]
      },
      {
       "output_type": "stream",
       "stream": "stdout",
       "text": [
        "masked_array(data = [8.0 12.0 16.0 20.0 24.0 28.0],\n",
        "             mask = [False False False False False False],\n",
        "       fill_value = 1e+20)\n",
        "\n"
       ]
      },
      {
       "name": "stdout",
       "output_type": "stream",
       "stream": "stdout",
       "text": [
        "ipdb> q\n"
       ]
      }
     ],
     "prompt_number": 10
    }
   ],
   "metadata": {}
  }
 ]
}