{
 "metadata": {
  "name": ""
 },
 "nbformat": 3,
 "nbformat_minor": 0,
 "worksheets": [
  {
   "cells": [
    {
     "cell_type": "heading",
     "level": 1,
     "metadata": {},
     "source": [
      "Debug Tests"
     ]
    },
    {
     "cell_type": "code",
     "collapsed": false,
     "input": [
      "import dimarray.core as da\n",
      "import dimarray.transform as tr\n",
      "import dimarray.metadata as md\n",
      "import dimarray.axes as ax\n",
      "import dimarray.ncio as nc\n",
      "import dimarray.collect as co\n",
      "#reload(md)\n",
      "reload(ax)\n",
      "#reload(tr)\n",
      "reload(da)\n",
      "#reload(co)\n",
      "#da.DimArray(np.arange(5)*2, [('time',arange(5))])\n",
      "v = da.array(randn(2,5,7), time=arange(1950,1955), lat=linspace(-90,90,7), items=array(['greenland','antarctica']))\n",
      "print v\n",
      "v.collapse(('time','lat'))"
     ],
     "language": "python",
     "metadata": {},
     "outputs": [
      {
       "ename": "TypeError",
       "evalue": "sequence item 0: expected string, tuple found",
       "output_type": "pyerr",
       "traceback": [
        "\u001b[1;31m---------------------------------------------------------------------------\u001b[0m\n\u001b[1;31mTypeError\u001b[0m                                 Traceback (most recent call last)",
        "\u001b[1;32m<ipython-input-40-a9a97461eb49>\u001b[0m in \u001b[0;36m<module>\u001b[1;34m()\u001b[0m\n\u001b[0;32m     13\u001b[0m \u001b[0mv\u001b[0m \u001b[1;33m=\u001b[0m \u001b[0mda\u001b[0m\u001b[1;33m.\u001b[0m\u001b[0marray\u001b[0m\u001b[1;33m(\u001b[0m\u001b[0mrandn\u001b[0m\u001b[1;33m(\u001b[0m\u001b[1;36m2\u001b[0m\u001b[1;33m,\u001b[0m\u001b[1;36m5\u001b[0m\u001b[1;33m,\u001b[0m\u001b[1;36m7\u001b[0m\u001b[1;33m)\u001b[0m\u001b[1;33m,\u001b[0m \u001b[0mtime\u001b[0m\u001b[1;33m=\u001b[0m\u001b[0marange\u001b[0m\u001b[1;33m(\u001b[0m\u001b[1;36m1950\u001b[0m\u001b[1;33m,\u001b[0m\u001b[1;36m1955\u001b[0m\u001b[1;33m)\u001b[0m\u001b[1;33m,\u001b[0m \u001b[0mlat\u001b[0m\u001b[1;33m=\u001b[0m\u001b[0mlinspace\u001b[0m\u001b[1;33m(\u001b[0m\u001b[1;33m-\u001b[0m\u001b[1;36m90\u001b[0m\u001b[1;33m,\u001b[0m\u001b[1;36m90\u001b[0m\u001b[1;33m,\u001b[0m\u001b[1;36m7\u001b[0m\u001b[1;33m)\u001b[0m\u001b[1;33m,\u001b[0m \u001b[0mitems\u001b[0m\u001b[1;33m=\u001b[0m\u001b[0marray\u001b[0m\u001b[1;33m(\u001b[0m\u001b[1;33m[\u001b[0m\u001b[1;34m'greenland'\u001b[0m\u001b[1;33m,\u001b[0m\u001b[1;34m'antarctica'\u001b[0m\u001b[1;33m]\u001b[0m\u001b[1;33m)\u001b[0m\u001b[1;33m)\u001b[0m\u001b[1;33m\u001b[0m\u001b[0m\n\u001b[0;32m     14\u001b[0m \u001b[1;32mprint\u001b[0m \u001b[0mv\u001b[0m\u001b[1;33m\u001b[0m\u001b[0m\n\u001b[1;32m---> 15\u001b[1;33m \u001b[0mv\u001b[0m\u001b[1;33m.\u001b[0m\u001b[0mcollapse\u001b[0m\u001b[1;33m(\u001b[0m\u001b[1;33m(\u001b[0m\u001b[1;34m'time'\u001b[0m\u001b[1;33m,\u001b[0m\u001b[1;34m'lat'\u001b[0m\u001b[1;33m)\u001b[0m\u001b[1;33m)\u001b[0m\u001b[1;33m\u001b[0m\u001b[0m\n\u001b[0m",
        "\u001b[1;32m/usr/local/lib/python2.7/dist-packages/IPython/core/displayhook.pyc\u001b[0m in \u001b[0;36m__call__\u001b[1;34m(self, result)\u001b[0m\n\u001b[0;32m    245\u001b[0m             \u001b[0mself\u001b[0m\u001b[1;33m.\u001b[0m\u001b[0mstart_displayhook\u001b[0m\u001b[1;33m(\u001b[0m\u001b[1;33m)\u001b[0m\u001b[1;33m\u001b[0m\u001b[0m\n\u001b[0;32m    246\u001b[0m             \u001b[0mself\u001b[0m\u001b[1;33m.\u001b[0m\u001b[0mwrite_output_prompt\u001b[0m\u001b[1;33m(\u001b[0m\u001b[1;33m)\u001b[0m\u001b[1;33m\u001b[0m\u001b[0m\n\u001b[1;32m--> 247\u001b[1;33m             \u001b[0mformat_dict\u001b[0m\u001b[1;33m,\u001b[0m \u001b[0mmd_dict\u001b[0m \u001b[1;33m=\u001b[0m \u001b[0mself\u001b[0m\u001b[1;33m.\u001b[0m\u001b[0mcompute_format_data\u001b[0m\u001b[1;33m(\u001b[0m\u001b[0mresult\u001b[0m\u001b[1;33m)\u001b[0m\u001b[1;33m\u001b[0m\u001b[0m\n\u001b[0m\u001b[0;32m    248\u001b[0m             \u001b[0mself\u001b[0m\u001b[1;33m.\u001b[0m\u001b[0mwrite_format_data\u001b[0m\u001b[1;33m(\u001b[0m\u001b[0mformat_dict\u001b[0m\u001b[1;33m,\u001b[0m \u001b[0mmd_dict\u001b[0m\u001b[1;33m)\u001b[0m\u001b[1;33m\u001b[0m\u001b[0m\n\u001b[0;32m    249\u001b[0m             \u001b[0mself\u001b[0m\u001b[1;33m.\u001b[0m\u001b[0mupdate_user_ns\u001b[0m\u001b[1;33m(\u001b[0m\u001b[0mresult\u001b[0m\u001b[1;33m)\u001b[0m\u001b[1;33m\u001b[0m\u001b[0m\n",
        "\u001b[1;32m/usr/local/lib/python2.7/dist-packages/IPython/core/displayhook.pyc\u001b[0m in \u001b[0;36mcompute_format_data\u001b[1;34m(self, result)\u001b[0m\n\u001b[0;32m    155\u001b[0m \u001b[1;33m\u001b[0m\u001b[0m\n\u001b[0;32m    156\u001b[0m         \"\"\"\n\u001b[1;32m--> 157\u001b[1;33m         \u001b[1;32mreturn\u001b[0m \u001b[0mself\u001b[0m\u001b[1;33m.\u001b[0m\u001b[0mshell\u001b[0m\u001b[1;33m.\u001b[0m\u001b[0mdisplay_formatter\u001b[0m\u001b[1;33m.\u001b[0m\u001b[0mformat\u001b[0m\u001b[1;33m(\u001b[0m\u001b[0mresult\u001b[0m\u001b[1;33m)\u001b[0m\u001b[1;33m\u001b[0m\u001b[0m\n\u001b[0m\u001b[0;32m    158\u001b[0m \u001b[1;33m\u001b[0m\u001b[0m\n\u001b[0;32m    159\u001b[0m     \u001b[1;32mdef\u001b[0m \u001b[0mwrite_format_data\u001b[0m\u001b[1;33m(\u001b[0m\u001b[0mself\u001b[0m\u001b[1;33m,\u001b[0m \u001b[0mformat_dict\u001b[0m\u001b[1;33m,\u001b[0m \u001b[0mmd_dict\u001b[0m\u001b[1;33m=\u001b[0m\u001b[0mNone\u001b[0m\u001b[1;33m)\u001b[0m\u001b[1;33m:\u001b[0m\u001b[1;33m\u001b[0m\u001b[0m\n",
        "\u001b[1;32m/usr/local/lib/python2.7/dist-packages/IPython/core/formatters.pyc\u001b[0m in \u001b[0;36mformat\u001b[1;34m(self, obj, include, exclude)\u001b[0m\n\u001b[0;32m    150\u001b[0m             \u001b[0mmd\u001b[0m \u001b[1;33m=\u001b[0m \u001b[0mNone\u001b[0m\u001b[1;33m\u001b[0m\u001b[0m\n\u001b[0;32m    151\u001b[0m             \u001b[1;32mtry\u001b[0m\u001b[1;33m:\u001b[0m\u001b[1;33m\u001b[0m\u001b[0m\n\u001b[1;32m--> 152\u001b[1;33m                 \u001b[0mdata\u001b[0m \u001b[1;33m=\u001b[0m \u001b[0mformatter\u001b[0m\u001b[1;33m(\u001b[0m\u001b[0mobj\u001b[0m\u001b[1;33m)\u001b[0m\u001b[1;33m\u001b[0m\u001b[0m\n\u001b[0m\u001b[0;32m    153\u001b[0m             \u001b[1;32mexcept\u001b[0m\u001b[1;33m:\u001b[0m\u001b[1;33m\u001b[0m\u001b[0m\n\u001b[0;32m    154\u001b[0m                 \u001b[1;31m# FIXME: log the exception\u001b[0m\u001b[1;33m\u001b[0m\u001b[1;33m\u001b[0m\u001b[0m\n",
        "\u001b[1;32m/usr/local/lib/python2.7/dist-packages/IPython/core/formatters.pyc\u001b[0m in \u001b[0;36m__call__\u001b[1;34m(self, obj)\u001b[0m\n\u001b[0;32m    479\u001b[0m                 \u001b[0mtype_pprinters\u001b[0m\u001b[1;33m=\u001b[0m\u001b[0mself\u001b[0m\u001b[1;33m.\u001b[0m\u001b[0mtype_printers\u001b[0m\u001b[1;33m,\u001b[0m\u001b[1;33m\u001b[0m\u001b[0m\n\u001b[0;32m    480\u001b[0m                 deferred_pprinters=self.deferred_printers)\n\u001b[1;32m--> 481\u001b[1;33m             \u001b[0mprinter\u001b[0m\u001b[1;33m.\u001b[0m\u001b[0mpretty\u001b[0m\u001b[1;33m(\u001b[0m\u001b[0mobj\u001b[0m\u001b[1;33m)\u001b[0m\u001b[1;33m\u001b[0m\u001b[0m\n\u001b[0m\u001b[0;32m    482\u001b[0m             \u001b[0mprinter\u001b[0m\u001b[1;33m.\u001b[0m\u001b[0mflush\u001b[0m\u001b[1;33m(\u001b[0m\u001b[1;33m)\u001b[0m\u001b[1;33m\u001b[0m\u001b[0m\n\u001b[0;32m    483\u001b[0m             \u001b[1;32mreturn\u001b[0m \u001b[0mstream\u001b[0m\u001b[1;33m.\u001b[0m\u001b[0mgetvalue\u001b[0m\u001b[1;33m(\u001b[0m\u001b[1;33m)\u001b[0m\u001b[1;33m\u001b[0m\u001b[0m\n",
        "\u001b[1;32m/usr/local/lib/python2.7/dist-packages/IPython/lib/pretty.pyc\u001b[0m in \u001b[0;36mpretty\u001b[1;34m(self, obj)\u001b[0m\n\u001b[0;32m    360\u001b[0m                             \u001b[1;32mif\u001b[0m \u001b[0mcallable\u001b[0m\u001b[1;33m(\u001b[0m\u001b[0mmeth\u001b[0m\u001b[1;33m)\u001b[0m\u001b[1;33m:\u001b[0m\u001b[1;33m\u001b[0m\u001b[0m\n\u001b[0;32m    361\u001b[0m                                 \u001b[1;32mreturn\u001b[0m \u001b[0mmeth\u001b[0m\u001b[1;33m(\u001b[0m\u001b[0mobj\u001b[0m\u001b[1;33m,\u001b[0m \u001b[0mself\u001b[0m\u001b[1;33m,\u001b[0m \u001b[0mcycle\u001b[0m\u001b[1;33m)\u001b[0m\u001b[1;33m\u001b[0m\u001b[0m\n\u001b[1;32m--> 362\u001b[1;33m             \u001b[1;32mreturn\u001b[0m \u001b[0m_default_pprint\u001b[0m\u001b[1;33m(\u001b[0m\u001b[0mobj\u001b[0m\u001b[1;33m,\u001b[0m \u001b[0mself\u001b[0m\u001b[1;33m,\u001b[0m \u001b[0mcycle\u001b[0m\u001b[1;33m)\u001b[0m\u001b[1;33m\u001b[0m\u001b[0m\n\u001b[0m\u001b[0;32m    363\u001b[0m         \u001b[1;32mfinally\u001b[0m\u001b[1;33m:\u001b[0m\u001b[1;33m\u001b[0m\u001b[0m\n\u001b[0;32m    364\u001b[0m             \u001b[0mself\u001b[0m\u001b[1;33m.\u001b[0m\u001b[0mend_group\u001b[0m\u001b[1;33m(\u001b[0m\u001b[1;33m)\u001b[0m\u001b[1;33m\u001b[0m\u001b[0m\n",
        "\u001b[1;32m/usr/local/lib/python2.7/dist-packages/IPython/lib/pretty.pyc\u001b[0m in \u001b[0;36m_default_pprint\u001b[1;34m(obj, p, cycle)\u001b[0m\n\u001b[0;32m    480\u001b[0m     \u001b[1;32mif\u001b[0m \u001b[0mgetattr\u001b[0m\u001b[1;33m(\u001b[0m\u001b[0mklass\u001b[0m\u001b[1;33m,\u001b[0m \u001b[1;34m'__repr__'\u001b[0m\u001b[1;33m,\u001b[0m \u001b[0mNone\u001b[0m\u001b[1;33m)\u001b[0m \u001b[1;32mnot\u001b[0m \u001b[1;32min\u001b[0m \u001b[0m_baseclass_reprs\u001b[0m\u001b[1;33m:\u001b[0m\u001b[1;33m\u001b[0m\u001b[0m\n\u001b[0;32m    481\u001b[0m         \u001b[1;31m# A user-provided repr.\u001b[0m\u001b[1;33m\u001b[0m\u001b[1;33m\u001b[0m\u001b[0m\n\u001b[1;32m--> 482\u001b[1;33m         \u001b[0mp\u001b[0m\u001b[1;33m.\u001b[0m\u001b[0mtext\u001b[0m\u001b[1;33m(\u001b[0m\u001b[0mrepr\u001b[0m\u001b[1;33m(\u001b[0m\u001b[0mobj\u001b[0m\u001b[1;33m)\u001b[0m\u001b[1;33m)\u001b[0m\u001b[1;33m\u001b[0m\u001b[0m\n\u001b[0m\u001b[0;32m    483\u001b[0m         \u001b[1;32mreturn\u001b[0m\u001b[1;33m\u001b[0m\u001b[0m\n\u001b[0;32m    484\u001b[0m     \u001b[0mp\u001b[0m\u001b[1;33m.\u001b[0m\u001b[0mbegin_group\u001b[0m\u001b[1;33m(\u001b[0m\u001b[1;36m1\u001b[0m\u001b[1;33m,\u001b[0m \u001b[1;34m'<'\u001b[0m\u001b[1;33m)\u001b[0m\u001b[1;33m\u001b[0m\u001b[0m\n",
        "\u001b[1;32m/home/perrette/Projects/dimarray/dimarray/core.py\u001b[0m in \u001b[0;36m__repr__\u001b[1;34m(self)\u001b[0m\n\u001b[0;32m    969\u001b[0m \u001b[1;33m\u001b[0m\u001b[0m\n\u001b[0;32m    970\u001b[0m         \u001b[1;32mif\u001b[0m \u001b[0mTrue\u001b[0m\u001b[1;33m:\u001b[0m \u001b[1;31m#self.size > 1:\u001b[0m\u001b[1;33m\u001b[0m\u001b[0m\n\u001b[1;32m--> 971\u001b[1;33m             \u001b[0mline\u001b[0m \u001b[1;33m=\u001b[0m \u001b[0mrepr\u001b[0m\u001b[1;33m(\u001b[0m\u001b[0mself\u001b[0m\u001b[1;33m.\u001b[0m\u001b[0maxes\u001b[0m\u001b[1;33m)\u001b[0m\u001b[1;33m\u001b[0m\u001b[0m\n\u001b[0m\u001b[0;32m    972\u001b[0m             \u001b[0mlines\u001b[0m\u001b[1;33m.\u001b[0m\u001b[0mappend\u001b[0m\u001b[1;33m(\u001b[0m\u001b[0mline\u001b[0m\u001b[1;33m)\u001b[0m\u001b[1;33m\u001b[0m\u001b[0m\n\u001b[0;32m    973\u001b[0m \u001b[1;33m\u001b[0m\u001b[0m\n",
        "\u001b[1;32m/home/perrette/Projects/dimarray/dimarray/axes.py\u001b[0m in \u001b[0;36m__repr__\u001b[1;34m(self)\u001b[0m\n\u001b[0;32m    241\u001b[0m \t\"\"\" string representation\n\u001b[0;32m    242\u001b[0m \t\"\"\"\n\u001b[1;32m--> 243\u001b[1;33m         \u001b[0mheader\u001b[0m \u001b[1;33m=\u001b[0m \u001b[1;34m\"dimensions: \"\u001b[0m\u001b[1;33m+\u001b[0m \u001b[1;34m\" x \"\u001b[0m\u001b[1;33m.\u001b[0m\u001b[0mjoin\u001b[0m\u001b[1;33m(\u001b[0m\u001b[1;33m[\u001b[0m\u001b[0max\u001b[0m\u001b[1;33m.\u001b[0m\u001b[0mname\u001b[0m \u001b[1;32mfor\u001b[0m \u001b[0max\u001b[0m \u001b[1;32min\u001b[0m \u001b[0mself\u001b[0m\u001b[1;33m]\u001b[0m\u001b[1;33m)\u001b[0m\u001b[1;33m\u001b[0m\u001b[0m\n\u001b[0m\u001b[0;32m    244\u001b[0m         \u001b[0mbody\u001b[0m \u001b[1;33m=\u001b[0m \u001b[1;34m\"\\n\"\u001b[0m\u001b[1;33m.\u001b[0m\u001b[0mjoin\u001b[0m\u001b[1;33m(\u001b[0m\u001b[1;33m[\u001b[0m\u001b[1;34m\"{} / {}\"\u001b[0m\u001b[1;33m.\u001b[0m\u001b[0mformat\u001b[0m\u001b[1;33m(\u001b[0m\u001b[0mi\u001b[0m\u001b[1;33m,\u001b[0m \u001b[0mrepr\u001b[0m\u001b[1;33m(\u001b[0m\u001b[0max\u001b[0m\u001b[1;33m)\u001b[0m\u001b[1;33m.\u001b[0m\u001b[0msplit\u001b[0m\u001b[1;33m(\u001b[0m\u001b[1;34m'\\n'\u001b[0m\u001b[1;33m)\u001b[0m\u001b[1;33m[\u001b[0m\u001b[1;36m0\u001b[0m\u001b[1;33m]\u001b[0m\u001b[1;33m)\u001b[0m \u001b[1;32mfor\u001b[0m \u001b[0mi\u001b[0m\u001b[1;33m,\u001b[0m\u001b[0max\u001b[0m \u001b[1;32min\u001b[0m \u001b[0menumerate\u001b[0m\u001b[1;33m(\u001b[0m\u001b[0mself\u001b[0m\u001b[1;33m)\u001b[0m\u001b[1;33m]\u001b[0m\u001b[1;33m)\u001b[0m\u001b[1;33m\u001b[0m\u001b[0m\n\u001b[0;32m    245\u001b[0m         \u001b[1;32mreturn\u001b[0m \u001b[1;34m\"\\n\"\u001b[0m\u001b[1;33m.\u001b[0m\u001b[0mjoin\u001b[0m\u001b[1;33m(\u001b[0m\u001b[1;33m[\u001b[0m\u001b[0mheader\u001b[0m\u001b[1;33m,\u001b[0m \u001b[0mbody\u001b[0m\u001b[1;33m]\u001b[0m\u001b[1;33m)\u001b[0m\u001b[1;33m\u001b[0m\u001b[0m\n",
        "\u001b[1;31mTypeError\u001b[0m: sequence item 0: expected string, tuple found"
       ]
      },
      {
       "output_type": "stream",
       "stream": "stdout",
       "text": [
        "dimarray: 70 non-null elements (0 null)\n",
        "dimensions: items x time x lat\n",
        "0 / items (2): greenland to antarctica\n",
        "1 / time (5): 1950 to 1954\n",
        "2 / lat (7): -90.0 to 90.0\n",
        "array([[[-0.92188022,  0.1051607 ,  0.8630607 , -0.74933047, -0.50510003,\n",
        "          0.045246  ,  1.20479804],\n",
        "        [ 0.82768193, -0.74787774,  1.11209456, -1.69595457,  2.98188983,\n",
        "         -1.19347737, -0.30914178],\n",
        "        [ 0.32298105, -0.70242814,  1.71840072, -0.77042683, -1.11365667,\n",
        "         -0.16416425, -1.29708387],\n",
        "        [-1.39169716,  1.4251862 , -0.91477079, -1.14081356, -1.42234222,\n",
        "          0.4599042 ,  0.36930803],\n",
        "        [-0.38277579,  0.90960812,  0.44502437, -1.37885315, -0.76185814,\n",
        "          0.74502183,  0.19613849]],\n",
        "\n",
        "       [[-1.14870421,  0.06072061,  1.32870038,  1.64041544, -0.68721184,\n",
        "         -0.14534935,  0.18649315],\n",
        "        [-0.15062914,  1.1816169 ,  0.46406356, -0.0832212 , -1.2540218 ,\n",
        "          1.05601666,  1.33789346],\n",
        "        [-1.25043458, -1.61709723,  0.80728237,  0.22123203,  0.65071103,\n",
        "          0.30619553,  0.2618915 ],\n",
        "        [-1.0264643 , -0.41509988, -1.50466013, -1.16929743, -1.2791959 ,\n",
        "         -0.26525835, -0.14010532],\n",
        "        [-0.53846003, -0.8161741 , -1.03450681,  0.21565389,  0.74462983,\n",
        "         -0.10073628,  1.68969725]]])\n"
       ]
      }
     ],
     "prompt_number": 40
    },
    {
     "cell_type": "code",
     "collapsed": false,
     "input": [
      "%debug"
     ],
     "language": "python",
     "metadata": {},
     "outputs": [
      {
       "output_type": "stream",
       "stream": "stdout",
       "text": [
        "> \u001b[1;32m/home/perrette/Projects/dimarray/dimarray/core.py\u001b[0m(128)\u001b[0;36m__init__\u001b[1;34m()\u001b[0m\n",
        "\u001b[1;32m    127 \u001b[1;33m            \u001b[1;32mprint\u001b[0m \u001b[1;34m\"shape inferred from data: \"\u001b[0m\u001b[1;33m,\u001b[0m\u001b[0mself\u001b[0m\u001b[1;33m.\u001b[0m\u001b[0mvalues\u001b[0m\u001b[1;33m.\u001b[0m\u001b[0mshape\u001b[0m\u001b[1;33m\u001b[0m\u001b[0m\n",
        "\u001b[0m\u001b[1;32m--> 128 \u001b[1;33m            \u001b[1;32mraise\u001b[0m \u001b[0mException\u001b[0m\u001b[1;33m(\u001b[0m\u001b[1;34m\"mismatch between values and axes\"\u001b[0m\u001b[1;33m)\u001b[0m\u001b[1;33m\u001b[0m\u001b[0m\n",
        "\u001b[0m\u001b[1;32m    129 \u001b[1;33m\u001b[1;33m\u001b[0m\u001b[0m\n",
        "\u001b[0m\n"
       ]
      },
      {
       "name": "stdout",
       "output_type": "stream",
       "stream": "stdout",
       "text": [
        "ipdb> up\n"
       ]
      },
      {
       "output_type": "stream",
       "stream": "stdout",
       "text": [
        "> \u001b[1;32m/home/perrette/Projects/dimarray/dimarray/core.py\u001b[0m(151)\u001b[0;36m_constructor\u001b[1;34m()\u001b[0m\n",
        "\u001b[1;32m    150 \u001b[1;33m\t\"\"\"\n",
        "\u001b[0m\u001b[1;32m--> 151 \u001b[1;33m        \u001b[1;32mreturn\u001b[0m \u001b[0mDimarray\u001b[0m\u001b[1;33m(\u001b[0m\u001b[0mvalues\u001b[0m\u001b[1;33m,\u001b[0m \u001b[1;33m*\u001b[0m\u001b[0maxes\u001b[0m\u001b[1;33m,\u001b[0m \u001b[1;33m**\u001b[0m\u001b[0mmetadata\u001b[0m\u001b[1;33m)\u001b[0m\u001b[1;33m\u001b[0m\u001b[0m\n",
        "\u001b[0m\u001b[1;32m    152 \u001b[1;33m\u001b[1;33m\u001b[0m\u001b[0m\n",
        "\u001b[0m\n"
       ]
      },
      {
       "name": "stdout",
       "output_type": "stream",
       "stream": "stdout",
       "text": [
        "ipdb> up\n"
       ]
      },
      {
       "output_type": "stream",
       "stream": "stdout",
       "text": [
        "> \u001b[1;32m/home/perrette/Projects/dimarray/dimarray/core.py\u001b[0m(713)\u001b[0;36mcollapse\u001b[1;34m()\u001b[0m\n",
        "\u001b[1;32m    712 \u001b[1;33m        \u001b[1;31m# Define the new array\u001b[0m\u001b[1;33m\u001b[0m\u001b[1;33m\u001b[0m\u001b[0m\n",
        "\u001b[0m\u001b[1;32m--> 713 \u001b[1;33m        \u001b[0mnew\u001b[0m \u001b[1;33m=\u001b[0m \u001b[0mself\u001b[0m\u001b[1;33m.\u001b[0m\u001b[0m_constructor\u001b[0m\u001b[1;33m(\u001b[0m\u001b[0mnewvalues\u001b[0m\u001b[1;33m,\u001b[0m \u001b[1;33m[\u001b[0m\u001b[0mfirst_axis\u001b[0m\u001b[1;33m,\u001b[0m\u001b[1;33m]\u001b[0m\u001b[1;33m+\u001b[0m\u001b[0mb\u001b[0m\u001b[1;33m.\u001b[0m\u001b[0maxes\u001b[0m\u001b[1;33m[\u001b[0m\u001b[0mn\u001b[0m\u001b[1;33m:\u001b[0m\u001b[1;33m]\u001b[0m\u001b[1;33m,\u001b[0m \u001b[1;33m**\u001b[0m\u001b[0mb\u001b[0m\u001b[1;33m.\u001b[0m\u001b[0m_metadata\u001b[0m\u001b[1;33m)\u001b[0m\u001b[1;33m\u001b[0m\u001b[0m\n",
        "\u001b[0m\u001b[1;32m    714 \u001b[1;33m\u001b[1;33m\u001b[0m\u001b[0m\n",
        "\u001b[0m\n"
       ]
      },
      {
       "name": "stdout",
       "output_type": "stream",
       "stream": "stdout",
       "text": [
        "ipdb> first_axois\n"
       ]
      },
      {
       "output_type": "stream",
       "stream": "stdout",
       "text": [
        "*** NameError: name 'first_axois' is not defined\n"
       ]
      },
      {
       "name": "stdout",
       "output_type": "stream",
       "stream": "stdout",
       "text": [
        "ipdb> first_axis\n"
       ]
      },
      {
       "output_type": "stream",
       "stream": "stdout",
       "text": [
        "('time', 'lat') (70): [ 1950.   -90.] to [ 1954.    90.]\n",
        "\n"
       ]
      },
      {
       "name": "stdout",
       "output_type": "stream",
       "stream": "stdout",
       "text": [
        "ipdb> axis_values\n"
       ]
      },
      {
       "output_type": "stream",
       "stream": "stdout",
       "text": [
        "array([[ 1950.,   -90.],\n",
        "       [ 1950.,   -60.],\n",
        "       [ 1950.,   -30.],\n",
        "       [ 1950.,     0.],\n",
        "       [ 1950.,    30.],\n",
        "       [ 1950.,    60.],\n",
        "       [ 1950.,    90.],\n",
        "       [ 1951.,   -90.],\n",
        "       [ 1951.,   -60.],\n",
        "       [ 1951.,   -30.],\n",
        "       [ 1951.,     0.],\n",
        "       [ 1951.,    30.],\n",
        "       [ 1951.,    60.],\n",
        "       [ 1951.,    90.],\n",
        "       [ 1952.,   -90.],\n",
        "       [ 1952.,   -60.],\n",
        "       [ 1952.,   -30.],\n",
        "       [ 1952.,     0.],\n",
        "       [ 1952.,    30.],\n",
        "       [ 1952.,    60.],\n",
        "       [ 1952.,    90.],\n",
        "       [ 1953.,   -90.],\n",
        "       [ 1953.,   -60.],\n",
        "       [ 1953.,   -30.],\n",
        "       [ 1953.,     0.],\n",
        "       [ 1953.,    30.],\n",
        "       [ 1953.,    60.],\n",
        "       [ 1953.,    90.],\n",
        "       [ 1954.,   -90.],\n",
        "       [ 1954.,   -60.],\n",
        "       [ 1954.,   -30.],\n",
        "       [ 1954.,     0.],\n",
        "       [ 1954.,    30.],\n",
        "       [ 1954.,    60.],\n",
        "       [ 1954.,    90.]])\n"
       ]
      },
      {
       "name": "stdout",
       "output_type": "stream",
       "stream": "stdout",
       "text": [
        "ipdb> dims\n"
       ]
      },
      {
       "output_type": "stream",
       "stream": "stdout",
       "text": [
        "('time', 'lat')\n"
       ]
      },
      {
       "name": "stdout",
       "output_type": "stream",
       "stream": "stdout",
       "text": [
        "ipdb> axis_values.shape\n"
       ]
      },
      {
       "output_type": "stream",
       "stream": "stdout",
       "text": [
        "(35, 2)\n"
       ]
      },
      {
       "name": "stdout",
       "output_type": "stream",
       "stream": "stdout",
       "text": [
        "ipdb> first_axis\n"
       ]
      },
      {
       "output_type": "stream",
       "stream": "stdout",
       "text": [
        "('time', 'lat') (70): [ 1950.   -90.] to [ 1954.    90.]\n",
        "\n"
       ]
      },
      {
       "name": "stdout",
       "output_type": "stream",
       "stream": "stdout",
       "text": [
        "ipdb> first_axis.values.shape[0]\n"
       ]
      },
      {
       "output_type": "stream",
       "stream": "stdout",
       "text": [
        "35\n"
       ]
      },
      {
       "name": "stdout",
       "output_type": "stream",
       "stream": "stdout",
       "text": [
        "ipdb> object('a','b')\n"
       ]
      },
      {
       "output_type": "stream",
       "stream": "stdout",
       "text": [
        "*** TypeError: object.__new__() takes no parameters\n"
       ]
      },
      {
       "name": "stdout",
       "output_type": "stream",
       "stream": "stdout",
       "text": [
        "ipdb> q\n"
       ]
      }
     ],
     "prompt_number": 39
    },
    {
     "cell_type": "markdown",
     "metadata": {},
     "source": [
      "Indexing / Slicing"
     ]
    },
    {
     "cell_type": "code",
     "collapsed": false,
     "input": [
      "#da.DimArray(np.arange(5)*2, [('time',arange(5))])\n",
      "v = da.array(randn(2,5,7), time=arange(1950,1955), lat=linspace(-90,90,7), items=array(['greenland','antarctica']))\n",
      "print v.xs(time=1950, lat=50)\n",
      "print \"\"\n",
      "print v.xs(time=1950, lat=50, items='greenland')\n",
      "print \"\"\n",
      "v.xs(time=1950, lat=50, items='greenland', keepdims=True)"
     ],
     "language": "python",
     "metadata": {},
     "outputs": [
      {
       "output_type": "stream",
       "stream": "stdout",
       "text": [
        "dimarray: 2 non-null elements (0 null)\n",
        "stamp: [\"lat=60.0\", \"time=1950\"]\n",
        "dimensions: items\n",
        "items (2): greenland to antarctica\n",
        "array([-0.92021219, -0.19087058])\n",
        "\n",
        "-0.920212194284\n",
        "\n"
       ]
      },
      {
       "metadata": {},
       "output_type": "pyout",
       "prompt_number": 11,
       "text": [
        "dimarray: 1 non-null elements (0 null)\n",
        "dimensions: items x time x lat\n",
        "items (1): greenland to greenland\n",
        "time (1): 1950 to 1950\n",
        "lat (1): 60.0 to 60.0\n",
        "array([[[-0.92021219]]])"
       ]
      }
     ],
     "prompt_number": 11
    },
    {
     "cell_type": "markdown",
     "metadata": {},
     "source": [
      "Interpolation / regridding"
     ]
    },
    {
     "cell_type": "code",
     "collapsed": false,
     "input": [
      "#w = v.reindex_axis(arange(1940,1960), axis='time') \n",
      "v = da.array(randn(5,7), time=arange(1950,1955), lon=linspace(-90,90,7))\n",
      "w = v.interp1d(arange(1948.,1960,2), axis='time')\n",
      "%matplotlib inline\n",
      "clf()\n",
      "plot(v.time, v.values[:,0], label='original')\n",
      "plot(w.time, w.values[:,0], label='interp')\n",
      "legend()"
     ],
     "language": "python",
     "metadata": {},
     "outputs": [
      {
       "output_type": "stream",
       "stream": "stdout",
       "text": [
        "recursive call\n",
        "recursive call\n",
        "recursive call\n",
        "recursive call\n",
        "recursive call\n",
        "recursive call\n",
        "recursive call\n"
       ]
      },
      {
       "metadata": {},
       "output_type": "pyout",
       "prompt_number": 7,
       "text": [
        "<matplotlib.legend.Legend at 0x9a4ef0c>"
       ]
      },
      {
       "metadata": {},
       "output_type": "display_data",
       "png": "[encoded data removed]",
       "text": [
        "<matplotlib.figure.Figure at 0x96d488c>"
       ]
      }
     ],
     "prompt_number": 7
    },
    {
     "cell_type": "markdown",
     "metadata": {},
     "source": [
      "Multi-dimension operation / alignment"
     ]
    },
    {
     "cell_type": "code",
     "collapsed": false,
     "input": [
      "mymap = da.array(randn(50,7), lon=linspace(-180,180,50), lat=linspace(-90,90,7))\n",
      "ts = da.Dimarray(np.arange(5), ('time',arange(1950,1955)))\n",
      "ts2 = da.Dimarray(np.arange(10), ('time',arange(1950,1960)))\n",
      "\n",
      "mymap*ts\n",
      "mymap.axes['lat'].weights = lambda x: np.cos(np.radians(x))\n",
      "mymap.axes['lat'].get_weights().reshape(('lat','lon'))\n",
      "\n",
      "#da.Dimarray(randn(5,4))\n",
      "#da.Dimarray(randn(5,4), 'd0','d1')\n",
      "#da.Dimarray(randn(5,4), list(\"abcde\"), list(\"1234\"))\n",
      "#da.Dimarray(randn(5,4), ('d0',list(\"abcde\")), ('d1',list(\"1234\")))\n",
      "da.array(randn(5,4), d0=list(\"abcde\"), d1=list(\"1234\"))"
     ],
     "language": "python",
     "metadata": {},
     "outputs": [
      {
       "metadata": {},
       "output_type": "pyout",
       "prompt_number": 6,
       "text": [
        "dimarray: 20 non-null elements (0 null)\n",
        "dimensions: d0 x d1\n",
        "d0 (5): a to e\n",
        "d1 (4): 1 to 4\n",
        "array([[-1.26057325,  0.12734642,  0.42631744, -0.95607303],\n",
        "       [-0.68905005,  0.17572791, -0.82612861,  0.49503811],\n",
        "       [-1.88708373,  0.18472434, -1.30705253, -1.05002775],\n",
        "       [ 0.68548235, -1.10513252, -1.20897134, -1.26167097],\n",
        "       [-0.85341824, -0.08788101,  1.08029165, -0.44098687]])"
       ]
      }
     ],
     "prompt_number": 6
    },
    {
     "cell_type": "markdown",
     "metadata": {},
     "source": [
      "NetCDF I/O"
     ]
    },
    {
     "cell_type": "code",
     "collapsed": false,
     "input": [
      "reload(nc)"
     ],
     "language": "python",
     "metadata": {},
     "outputs": []
    },
    {
     "cell_type": "code",
     "collapsed": false,
     "input": [
      "# writing\n",
      "v = da.array(randn(2,5,7), time=arange(1950,1955), lat=linspace(-90,90,7), items=array(['greenland','antarctica']))\n",
      "print v\n",
      "v.save(\"test2.nc\",\"myvarstr\")"
     ],
     "language": "python",
     "metadata": {},
     "outputs": [
      {
       "output_type": "stream",
       "stream": "stdout",
       "text": [
        "write to test2.nc\n"
       ]
      }
     ],
     "prompt_number": 8
    },
    {
     "cell_type": "code",
     "collapsed": false,
     "input": [
      "# checking\n",
      "nc.summary(\"test2.nc\")"
     ],
     "language": "python",
     "metadata": {},
     "outputs": []
    },
    {
     "cell_type": "code",
     "collapsed": false,
     "input": [
      "# reading\n",
      "w = nc.read(\"test2.nc\")\n",
      "w['myvarstr']"
     ],
     "language": "python",
     "metadata": {},
     "outputs": [
      {
       "output_type": "stream",
       "stream": "stdout",
       "text": [
        "read from test2.nc\n"
       ]
      },
      {
       "metadata": {},
       "output_type": "pyout",
       "prompt_number": 10,
       "text": [
        "Dataset of 1 variables\n",
        "\n",
        "dimarray: 70 non-null elements (0 null)\n",
        "name: myvarstr\n",
        "dimensions: items x time x lat\n",
        "items (2): greenland to antarctica\n",
        "time (5): 1950 to 1954\n",
        "lat (7): -90.0 to 90.0\n",
        "array([[[  1.11525989e+00,   3.20644019e-01,   5.48161519e-01,\n",
        "          -1.51141926e+00,   3.71733372e-01,   4.91531539e-01,\n",
        "          -2.06165407e-01],\n",
        "        [  4.73106129e-01,  -4.37800451e-01,   1.68776846e+00,\n",
        "          -3.17394277e-01,   1.19414274e+00,  -4.93247752e-01,\n",
        "          -7.25096617e-01],\n",
        "        [  1.72172578e+00,  -1.06085786e+00,   1.23904184e+00,\n",
        "           9.90152995e-01,   1.03904887e+00,  -5.36471566e-01,\n",
        "          -9.04151219e-01],\n",
        "        [  4.48790419e-01,  -1.36622881e+00,   1.84528615e+00,\n",
        "          -9.72057014e-01,  -1.44350547e+00,   5.52672020e-01,\n",
        "          -1.25778687e-01],\n",
        "        [ -3.04420401e-01,  -1.94645055e-01,   6.60916741e-04,\n",
        "          -1.16476973e+00,  -8.52724451e-01,  -1.07497219e+00,\n",
        "          -1.36851650e+00]],\n",
        "\n",
        "       [[ -2.35388038e-02,   1.40383480e+00,   5.19773922e-01,\n",
        "           1.92814977e-01,   9.83652838e-01,  -5.91642406e-01,\n",
        "          -5.20323156e-01],\n",
        "        [  2.65460696e-02,  -9.45303401e-01,  -2.80039573e-01,\n",
        "           2.00178048e+00,  -4.69206248e-01,   6.53271798e-01,\n",
        "          -1.00276568e+00],\n",
        "        [ -1.23766054e+00,   9.63118735e-01,  -9.53795249e-02,\n",
        "           1.95023938e-01,  -5.22942588e-01,   8.08429873e-01,\n",
        "           2.75549757e-01],\n",
        "        [ -2.46537140e+00,  -3.32147744e-01,   7.50070967e-01,\n",
        "           1.08911981e+00,   3.40663832e-01,   1.04786197e+00,\n",
        "           2.24474773e-01],\n",
        "        [ -6.94334896e-01,   1.21421850e+00,  -5.17034056e-01,\n",
        "           5.07976657e-01,  -5.25556688e-02,  -9.00213164e-02,\n",
        "          -9.32545444e-01]]])"
       ]
      }
     ],
     "prompt_number": 10
    }
   ],
   "metadata": {}
  }
 ]
}