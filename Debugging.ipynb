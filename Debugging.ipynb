{
 "metadata": {
  "name": ""
 },
 "nbformat": 3,
 "nbformat_minor": 0,
 "worksheets": [
  {
   "cells": [
    {
     "cell_type": "heading",
     "level": 1,
     "metadata": {},
     "source": [
      "Debug Tests"
     ]
    },
    {
     "cell_type": "code",
     "collapsed": false,
     "input": [
      "# Test basearray\n",
      "import numpy as np\n",
      "import dimarray.basearray as ba\n",
      "reload(ba)\n",
      "a = ba.get_testdata()\n",
      "values = a.values\n",
      "ba.test_doc()"
     ],
     "language": "python",
     "metadata": {},
     "outputs": []
    },
    {
     "cell_type": "code",
     "collapsed": false,
     "input": [
      "# Test nanarray\n",
      "import dimarray.nanarray as na\n",
      "reload(na)\n",
      "a = na.get_testdata()\n",
      "na.test_doc()"
     ],
     "language": "python",
     "metadata": {},
     "outputs": []
    },
    {
     "cell_type": "code",
     "collapsed": false,
     "input": [
      "# Test laxarray\n",
      "import dimarray.laxarray as la\n",
      "reload(la)\n",
      "a = la.get_testdata()\n",
      "la.test_doc()"
     ],
     "language": "python",
     "metadata": {},
     "outputs": [
      {
       "metadata": {},
       "output_type": "pyout",
       "prompt_number": 11,
       "text": [
        "TestResults(failed=0, attempted=33)"
       ]
      }
     ],
     "prompt_number": 11
    },
    {
     "cell_type": "code",
     "collapsed": false,
     "input": [],
     "language": "python",
     "metadata": {},
     "outputs": []
    },
    {
     "cell_type": "code",
     "collapsed": false,
     "input": [
      "%debug"
     ],
     "language": "python",
     "metadata": {},
     "outputs": []
    },
    {
     "cell_type": "code",
     "collapsed": false,
     "input": [
      "import numpy as np\n",
      "a\n",
      ">>> d = la.array(np.arange(2), ['time']) \n",
      ">>> e = la.array(np.arange(2), ['sample']) \n",
      ">>> a\n",
      "#>>> a4D = d * a * e # some 4D data over time, lat, lon, sample\n",
      ">>> d*e"
     ],
     "language": "python",
     "metadata": {},
     "outputs": []
    },
    {
     "cell_type": "code",
     "collapsed": false,
     "input": [
      "def f(x):\n",
      "    assert set(x.names) == set((\"lon\",\"lat\")), \"error\"\n",
      "    return x #  some 2D transform, return itself\n",
      "\n",
      "a4D\n",
      "res = a4D.apply_recursive(('lon','lat'), f)"
     ],
     "language": "python",
     "metadata": {},
     "outputs": []
    },
    {
     "cell_type": "code",
     "collapsed": false,
     "input": [
      "import dimarray.laxarray as la\n",
      "reload(la)\n",
      "a = la.get_testdata()\n",
      "b = a.take([0], axis='lat')\n",
      "b.squeeze()\n",
      "b\n",
      "c = b.take([1],axis=1) \n",
      "c"
     ],
     "language": "python",
     "metadata": {},
     "outputs": []
    },
    {
     "cell_type": "code",
     "collapsed": false,
     "input": [
      "import numpy as np\n",
      "a = np.array([[[1]]])\n",
      "a\n",
      "a.take([0]).take([0])\n",
      "np.take?\n"
     ],
     "language": "python",
     "metadata": {},
     "outputs": []
    }
   ],
   "metadata": {}
  }
 ]
}