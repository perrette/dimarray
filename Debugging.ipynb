{
 "metadata": {
  "name": ""
 },
 "nbformat": 3,
 "nbformat_minor": 0,
 "worksheets": [
  {
   "cells": [
    {
     "cell_type": "heading",
     "level": 1,
     "metadata": {},
     "source": [
      "Debug Tests"
     ]
    },
    {
     "cell_type": "code",
     "collapsed": false,
     "input": [
      "import dimarray.metadata as md\n",
      "reload(md)\n",
      "v = md.Variable(zeros(4))\n",
      "v.yo = 123\n",
      "v.name = 'myname'\n",
      "v.ya = 'hio'\n",
      "v.repr_meta()\n",
      "v._metadata"
     ],
     "language": "python",
     "metadata": {},
     "outputs": [
      {
       "metadata": {},
       "output_type": "pyout",
       "prompt_number": 41,
       "text": [
        "OrderedDict([('yo', 123), ('name', 'myname'), ('ya', 'hio')])"
       ]
      }
     ],
     "prompt_number": 41
    },
    {
     "cell_type": "code",
     "collapsed": false,
     "input": [
      "import dimarray.axes as ax\n",
      "reload(ax)\n",
      "ax.test()"
     ],
     "language": "python",
     "metadata": {},
     "outputs": [
      {
       "output_type": "stream",
       "stream": "stdout",
       "text": [
        "**********************************************************************\n",
        "File \"dimarray/axes.py\", line 251, in dimarray.axes.Locator\n",
        "Failed example:\n",
        "    loc(1951.4, method=\"exact\")     # doctest: +ELLIPSIS\n",
        "Exception raised:\n",
        "    Traceback (most recent call last):\n",
        "      File \"/usr/lib/python2.7/doctest.py\", line 1289, in __run\n",
        "        compileflags, 1) in test.globs\n",
        "      File \"<doctest dimarray.axes.Locator[5]>\", line 1, in <module>\n",
        "        loc(1951.4, method=\"exact\")     # doctest: +ELLIPSIS\n",
        "      File \"dimarray/axes.py\", line 336, in __call__\n",
        "        return self.set(method=method)[idx]\n",
        "      File \"dimarray/axes.py\", line 318, in __getitem__\n",
        "        return self.locate(ix)\n",
        "      File \"dimarray/axes.py\", line 379, in locate\n",
        "        return getattr(self, method)(val)\n",
        "      File \"dimarray/axes.py\", line 352, in index\n",
        "        return list(self.values).index(val)\n",
        "    ValueError: 1951.4000000000001 is not in list\n",
        "**********************************************************************\n",
        "1 items had failures:\n",
        "   1 of  17 in dimarray.axes.Locator\n",
        "***Test Failed*** 1 failures.\n"
       ]
      }
     ],
     "prompt_number": 21
    },
    {
     "cell_type": "code",
     "collapsed": false,
     "input": [
      "l = ['a','b']\n"
     ],
     "language": "python",
     "metadata": {},
     "outputs": [
      {
       "metadata": {},
       "output_type": "pyout",
       "prompt_number": 111,
       "text": [
        "array(['a', 'b'], \n",
        "      dtype='|S1')"
       ]
      }
     ],
     "prompt_number": 111
    },
    {
     "cell_type": "code",
     "collapsed": false,
     "input": [
      "import dimarray\n",
      "import dimarray.metadata as md\n",
      "reload(md)\n",
      "u = md.Units.loads(\"m^2 m kg\")\n",
      "v = md.Units.loads(\"m^4 kg^-1\")\n",
      "u*v"
     ],
     "language": "python",
     "metadata": {},
     "outputs": [
      {
       "ename": "NameError",
       "evalue": "global name 'json' is not defined",
       "output_type": "pyerr",
       "traceback": [
        "\u001b[1;31m---------------------------------------------------------------------------\u001b[0m\n\u001b[1;31mNameError\u001b[0m                                 Traceback (most recent call last)",
        "\u001b[1;32m<ipython-input-218-6a5e8d1719f3>\u001b[0m in \u001b[0;36m<module>\u001b[1;34m()\u001b[0m\n\u001b[0;32m      2\u001b[0m \u001b[1;32mimport\u001b[0m \u001b[0mdimarray\u001b[0m\u001b[1;33m.\u001b[0m\u001b[0mmetadata\u001b[0m \u001b[1;32mas\u001b[0m \u001b[0mmd\u001b[0m\u001b[1;33m\u001b[0m\u001b[0m\n\u001b[0;32m      3\u001b[0m \u001b[0mreload\u001b[0m\u001b[1;33m(\u001b[0m\u001b[0mmd\u001b[0m\u001b[1;33m)\u001b[0m\u001b[1;33m\u001b[0m\u001b[0m\n\u001b[1;32m----> 4\u001b[1;33m \u001b[0mu\u001b[0m \u001b[1;33m=\u001b[0m \u001b[0mmd\u001b[0m\u001b[1;33m.\u001b[0m\u001b[0mUnits\u001b[0m\u001b[1;33m.\u001b[0m\u001b[0mloads\u001b[0m\u001b[1;33m(\u001b[0m\u001b[1;34m\"m^2 m kg\"\u001b[0m\u001b[1;33m)\u001b[0m\u001b[1;33m\u001b[0m\u001b[0m\n\u001b[0m\u001b[0;32m      5\u001b[0m \u001b[0mv\u001b[0m \u001b[1;33m=\u001b[0m \u001b[0mmd\u001b[0m\u001b[1;33m.\u001b[0m\u001b[0mUnits\u001b[0m\u001b[1;33m.\u001b[0m\u001b[0mloads\u001b[0m\u001b[1;33m(\u001b[0m\u001b[1;34m\"m^4 kg^-1\"\u001b[0m\u001b[1;33m)\u001b[0m\u001b[1;33m\u001b[0m\u001b[0m\n\u001b[0;32m      6\u001b[0m \u001b[0mu\u001b[0m\u001b[1;33m*\u001b[0m\u001b[0mv\u001b[0m\u001b[1;33m\u001b[0m\u001b[0m\n",
        "\u001b[1;32m/home/perrette/Projects/dimarray/dimarray/units.py\u001b[0m in \u001b[0;36mloads\u001b[1;34m(cls, rep)\u001b[0m\n\u001b[0;32m     61\u001b[0m         \u001b[0mu\u001b[0m \u001b[1;33m=\u001b[0m \u001b[0mcls\u001b[0m\u001b[1;33m(\u001b[0m\u001b[1;33m)\u001b[0m\u001b[1;33m\u001b[0m\u001b[0m\n\u001b[0;32m     62\u001b[0m         \u001b[1;32mfor\u001b[0m \u001b[0murep\u001b[0m \u001b[1;32min\u001b[0m \u001b[0mrep\u001b[0m\u001b[1;33m.\u001b[0m\u001b[0msplit\u001b[0m\u001b[1;33m(\u001b[0m\u001b[0mcls\u001b[0m\u001b[1;33m.\u001b[0m\u001b[0msep\u001b[0m\u001b[1;33m)\u001b[0m\u001b[1;33m:\u001b[0m\u001b[1;33m\u001b[0m\u001b[0m\n\u001b[1;32m---> 63\u001b[1;33m             \u001b[0mu\u001b[0m\u001b[1;33m.\u001b[0m\u001b[0mappend\u001b[0m\u001b[1;33m(\u001b[0m\u001b[0mBaseUnits\u001b[0m\u001b[1;33m.\u001b[0m\u001b[0mloads\u001b[0m\u001b[1;33m(\u001b[0m\u001b[0murep\u001b[0m\u001b[1;33m)\u001b[0m\u001b[1;33m)\u001b[0m\u001b[1;33m\u001b[0m\u001b[0m\n\u001b[0m\u001b[0;32m     64\u001b[0m         \u001b[1;32mreturn\u001b[0m \u001b[0mu\u001b[0m\u001b[1;33m\u001b[0m\u001b[0m\n\u001b[0;32m     65\u001b[0m \u001b[1;33m\u001b[0m\u001b[0m\n",
        "\u001b[1;32m/home/perrette/Projects/dimarray/dimarray/units.py\u001b[0m in \u001b[0;36mloads\u001b[1;34m(cls, rep)\u001b[0m\n\u001b[0;32m     22\u001b[0m         \u001b[1;32mif\u001b[0m \u001b[0mlen\u001b[0m\u001b[1;33m(\u001b[0m\u001b[0mbase_power\u001b[0m\u001b[1;33m)\u001b[0m \u001b[1;33m>\u001b[0m \u001b[1;36m1\u001b[0m\u001b[1;33m:\u001b[0m\u001b[1;33m\u001b[0m\u001b[0m\n\u001b[0;32m     23\u001b[0m             \u001b[0mbase\u001b[0m\u001b[1;33m,\u001b[0m \u001b[0mpower\u001b[0m \u001b[1;33m=\u001b[0m \u001b[0mbase_power\u001b[0m\u001b[1;33m\u001b[0m\u001b[0m\n\u001b[1;32m---> 24\u001b[1;33m             \u001b[0mpower\u001b[0m \u001b[1;33m=\u001b[0m \u001b[0mjson\u001b[0m\u001b[1;33m.\u001b[0m\u001b[0mloads\u001b[0m\u001b[1;33m(\u001b[0m\u001b[0mpower\u001b[0m\u001b[1;33m)\u001b[0m \u001b[1;31m# str to int or float\u001b[0m\u001b[1;33m\u001b[0m\u001b[0m\n\u001b[0m\u001b[0;32m     25\u001b[0m         \u001b[1;32melse\u001b[0m\u001b[1;33m:\u001b[0m\u001b[1;33m\u001b[0m\u001b[0m\n\u001b[0;32m     26\u001b[0m             \u001b[0mbase\u001b[0m \u001b[1;33m=\u001b[0m \u001b[0mbase_power\u001b[0m\u001b[1;33m[\u001b[0m\u001b[1;36m0\u001b[0m\u001b[1;33m]\u001b[0m\u001b[1;33m\u001b[0m\u001b[0m\n",
        "\u001b[1;31mNameError\u001b[0m: global name 'json' is not defined"
       ]
      }
     ],
     "prompt_number": 218
    },
    {
     "cell_type": "code",
     "collapsed": false,
     "input": [
      "a = np.arange(1900,2000.)\n",
      "a.take([2,5,7,200,1000,-10],mode='clip')\n",
      "#np.select?\n",
      "#np.choose\n",
      "np.compress?\n",
      "#map?\n",
      "ndi = numpy.lib.index_tricks \n",
      "#ndi.ndindex?\n",
      "#for i in ndi.ndindex(2,3,4): print i\n",
      "(2,)*(2)+(arange(5),)\n",
      "import pandas as pd\n",
      "#pd.DataFrame.reindex_axis?\n",
      "list(a)"
     ],
     "language": "python",
     "metadata": {},
     "outputs": [
      {
       "metadata": {},
       "output_type": "pyout",
       "prompt_number": 262,
       "text": [
        "[1900.0,\n",
        " 1901.0,\n",
        " 1902.0,\n",
        " 1903.0,\n",
        " 1904.0,\n",
        " 1905.0,\n",
        " 1906.0,\n",
        " 1907.0,\n",
        " 1908.0,\n",
        " 1909.0,\n",
        " 1910.0,\n",
        " 1911.0,\n",
        " 1912.0,\n",
        " 1913.0,\n",
        " 1914.0,\n",
        " 1915.0,\n",
        " 1916.0,\n",
        " 1917.0,\n",
        " 1918.0,\n",
        " 1919.0,\n",
        " 1920.0,\n",
        " 1921.0,\n",
        " 1922.0,\n",
        " 1923.0,\n",
        " 1924.0,\n",
        " 1925.0,\n",
        " 1926.0,\n",
        " 1927.0,\n",
        " 1928.0,\n",
        " 1929.0,\n",
        " 1930.0,\n",
        " 1931.0,\n",
        " 1932.0,\n",
        " 1933.0,\n",
        " 1934.0,\n",
        " 1935.0,\n",
        " 1936.0,\n",
        " 1937.0,\n",
        " 1938.0,\n",
        " 1939.0,\n",
        " 1940.0,\n",
        " 1941.0,\n",
        " 1942.0,\n",
        " 1943.0,\n",
        " 1944.0,\n",
        " 1945.0,\n",
        " 1946.0,\n",
        " 1947.0,\n",
        " 1948.0,\n",
        " 1949.0,\n",
        " 1950.0,\n",
        " 1951.0,\n",
        " 1952.0,\n",
        " 1953.0,\n",
        " 1954.0,\n",
        " 1955.0,\n",
        " 1956.0,\n",
        " 1957.0,\n",
        " 1958.0,\n",
        " 1959.0,\n",
        " 1960.0,\n",
        " 1961.0,\n",
        " 1962.0,\n",
        " 1963.0,\n",
        " 1964.0,\n",
        " 1965.0,\n",
        " 1966.0,\n",
        " 1967.0,\n",
        " 1968.0,\n",
        " 1969.0,\n",
        " 1970.0,\n",
        " 1971.0,\n",
        " 1972.0,\n",
        " 1973.0,\n",
        " 1974.0,\n",
        " 1975.0,\n",
        " 1976.0,\n",
        " 1977.0,\n",
        " 1978.0,\n",
        " 1979.0,\n",
        " 1980.0,\n",
        " 1981.0,\n",
        " 1982.0,\n",
        " 1983.0,\n",
        " 1984.0,\n",
        " 1985.0,\n",
        " 1986.0,\n",
        " 1987.0,\n",
        " 1988.0,\n",
        " 1989.0,\n",
        " 1990.0,\n",
        " 1991.0,\n",
        " 1992.0,\n",
        " 1993.0,\n",
        " 1994.0,\n",
        " 1995.0,\n",
        " 1996.0,\n",
        " 1997.0,\n",
        " 1998.0,\n",
        " 1999.0]"
       ]
      }
     ],
     "prompt_number": 262
    },
    {
     "cell_type": "code",
     "collapsed": false,
     "input": [
      "%load  /usr/local/lib/python2.7/dist-packages/pandas/core/frame.py"
     ],
     "language": "python",
     "metadata": {},
     "outputs": [
      {
       "name": "stdout",
       "output_type": "stream",
       "stream": "stdout",
       "text": [
        "The text you're trying to load seems pretty big (220063 characters). Continue (y/[N]) ? N\n"
       ]
      },
      {
       "output_type": "stream",
       "stream": "stdout",
       "text": [
        "Operation cancelled.\n"
       ]
      }
     ],
     "prompt_number": 260
    }
   ],
   "metadata": {}
  }
 ]
}