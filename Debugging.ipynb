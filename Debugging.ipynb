{
 "metadata": {
  "name": ""
 },
 "nbformat": 3,
 "nbformat_minor": 0,
 "worksheets": [
  {
   "cells": [
    {
     "cell_type": "heading",
     "level": 1,
     "metadata": {},
     "source": [
      "Debug Tests"
     ]
    },
    {
     "cell_type": "code",
     "collapsed": false,
     "input": [
      "import dimarray.core as da\n",
      "import dimarray.transform as tr\n",
      "import dimarray.metadata as md\n",
      "import dimarray.axes as ax\n",
      "import dimarray.ncio as nc\n",
      "import dimarray.collect as co\n",
      "reload(md)\n",
      "reload(ax)\n",
      "reload(tr)\n",
      "reload(da)\n",
      "reload(nc)\n",
      "#reload(co)\n",
      "#da.DimArray(np.arange(5)*2, [('time',arange(5))])\n",
      "v = da.array(randn(5,7), time=arange(1950,1955), lat=linspace(-90,90,7))\n",
      "w = v.reindex(time=arange(1940,1955))\n",
      "#w.save(\"test.nc\")\n",
      "#rm test.nc\n",
      "w.save('test.nc','myvar',mode='w')\n",
      "nc.summary('test.nc')\n",
      "w = nc.read('test.nc')\n",
      "w\n",
      "w['myvar']\n",
      "v"
     ],
     "language": "python",
     "metadata": {},
     "outputs": [
      {
       "output_type": "stream",
       "stream": "stdout",
       "text": [
        "write to test.nc\n",
        "test.nc:\n",
        "-------\n",
        "dimensions: time x lat\n",
        "time (15): 1940 to 1954\n",
        "lat (7): -90.0 to 90.0\n",
        "myvar : time x lat\n",
        "read from test.nc\n"
       ]
      },
      {
       "metadata": {},
       "output_type": "pyout",
       "prompt_number": 38,
       "text": [
        "dimarray: 35 non-null elements (0 null)\n",
        "dimensions: time x lat\n",
        "time (5): 1950 to 1954\n",
        "lat (7): -90.0 to 90.0\n",
        "array([[ 0.90657204, -1.42552073,  0.2146091 , -0.17813622,  1.23711519,\n",
        "        -1.69351034,  0.00817666],\n",
        "       [-0.8916087 ,  0.19228832, -0.10924562, -0.17272467, -0.5387321 ,\n",
        "         0.55280348, -0.53190557],\n",
        "       [ 2.13372515, -1.55861933, -1.23929046, -0.50941273, -0.93729686,\n",
        "         0.98888391,  1.92219549],\n",
        "       [ 1.42107281, -0.34539619,  1.68332254,  2.22419631,  1.35563683,\n",
        "         0.03722631, -1.02365299],\n",
        "       [ 1.57457767,  0.65612918,  0.74762717, -1.3026505 , -0.26878882,\n",
        "         0.31687955, -1.91218189]])"
       ]
      }
     ],
     "prompt_number": 38
    },
    {
     "cell_type": "code",
     "collapsed": false,
     "input": [
      "'aa' < 'ba'"
     ],
     "language": "python",
     "metadata": {},
     "outputs": [
      {
       "metadata": {},
       "output_type": "pyout",
       "prompt_number": 26,
       "text": [
        "True"
       ]
      }
     ],
     "prompt_number": 26
    },
    {
     "cell_type": "markdown",
     "metadata": {},
     "source": [
      "Interpolation / regridding"
     ]
    },
    {
     "cell_type": "code",
     "collapsed": false,
     "input": [
      "#w = v.reindex_axis(arange(1940,1960), axis='time') \n",
      "v = da.array(randn(5,7), time=arange(1950,1955), lon=linspace(-90,90,7))\n",
      "w = v.interp1d(arange(1948.,1960,2), axis='time')\n",
      "%matplotlib inline\n",
      "clf()\n",
      "plot(v.time, v.values[:,0], label='original')\n",
      "plot(w.time, w.values[:,0], label='interp')\n",
      "legend()"
     ],
     "language": "python",
     "metadata": {},
     "outputs": []
    },
    {
     "cell_type": "markdown",
     "metadata": {},
     "source": [
      "multi-dimension operation / alignment"
     ]
    },
    {
     "cell_type": "code",
     "collapsed": false,
     "input": [
      "mymap = da.array(randn(50,7), lon=linspace(-180,180,50), lat=linspace(-90,90,7))\n",
      "ts = da.Dimarray(np.arange(5), [('time',arange(1950,1955))])\n",
      "ts2 = da.Dimarray(np.arange(10), [('time',arange(1950,1960))])\n",
      "mymap*ts\n",
      "ts*mymap\n",
      "print 'ts',ts\n",
      "print 'ts2',ts2\n",
      "print \"sum\",ts+ts2"
     ],
     "language": "python",
     "metadata": {},
     "outputs": [
      {
       "output_type": "stream",
       "stream": "stdout",
       "text": [
        "ts dimarray: 5 non-null elements (0 null)\n",
        "dimensions: time\n",
        "time (5): 1950 to 1954\n",
        "array([0, 1, 2, 3, 4])\n",
        "ts2 dimarray: 10 non-null elements (0 null)\n",
        "dimensions: time\n",
        "time (10): 1950 to 1959\n",
        "array([0, 1, 2, 3, 4, 5, 6, 7, 8, 9])\n",
        "sum dimarray: 5 non-null elements (5 null)\n",
        "dimensions: time\n",
        "time (10): 1950 to 1959\n",
        "array([  0.,   2.,   4.,   6.,   8.,  nan,  nan,  nan,  nan,  nan])\n"
       ]
      }
     ],
     "prompt_number": 37
    },
    {
     "cell_type": "code",
     "collapsed": false,
     "input": [
      "np.where?"
     ],
     "language": "python",
     "metadata": {},
     "outputs": []
    }
   ],
   "metadata": {}
  }
 ]
}