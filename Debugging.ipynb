{
 "metadata": {
  "name": ""
 },
 "nbformat": 3,
 "nbformat_minor": 0,
 "worksheets": [
  {
   "cells": [
    {
     "cell_type": "heading",
     "level": 1,
     "metadata": {},
     "source": [
      "Debug Tests"
     ]
    },
    {
     "cell_type": "code",
     "collapsed": false,
     "input": [
      "import dimarray.core as da\n",
      "import dimarray.transform as tr\n",
      "import dimarray.metadata as md\n",
      "import dimarray.axes as ax\n",
      "reload(md)\n",
      "reload(ax)\n",
      "reload(tr)\n",
      "reload(da)\n",
      "#da.DimArray(np.arange(5)*2, [('time',arange(5))])\n",
      "v = da.array(np.arange(5), time=arange(1950,1955))\n",
      "v\n",
      "v.time\n",
      "v.axes[0].loc.set(method=\"exact\")(1952.2)"
     ],
     "language": "python",
     "metadata": {},
     "outputs": [
      {
       "metadata": {},
       "output_type": "pyout",
       "prompt_number": 31,
       "text": [
        "2"
       ]
      }
     ],
     "prompt_number": 31
    },
    {
     "cell_type": "code",
     "collapsed": false,
     "input": [
      "a = np.arange(1900,2000.)\n",
      "a.take([2,5,7,200,1000,-10],mode='clip')\n",
      "#np.select?\n",
      "#np.choose\n",
      "np.compress?\n",
      "#map?\n",
      "ndi = numpy.lib.index_tricks.\n",
      "#ndi.ndindex?\n",
      "#for i in ndi.ndindex(2,3,4): print i\n",
      "(2,)*(2)+(arange(5),)\n",
      "import pandas as pd\n",
      "#pd.DataFrame.reindex_axis?\n",
      "list(a)"
     ],
     "language": "python",
     "metadata": {},
     "outputs": [
      {
       "metadata": {},
       "output_type": "pyout",
       "prompt_number": 262,
       "text": [
        "[1900.0,\n",
        " 1901.0,\n",
        " 1902.0,\n",
        " 1903.0,\n",
        " 1904.0,\n",
        " 1905.0,\n",
        " 1906.0,\n",
        " 1907.0,\n",
        " 1908.0,\n",
        " 1909.0,\n",
        " 1910.0,\n",
        " 1911.0,\n",
        " 1912.0,\n",
        " 1913.0,\n",
        " 1914.0,\n",
        " 1915.0,\n",
        " 1916.0,\n",
        " 1917.0,\n",
        " 1918.0,\n",
        " 1919.0,\n",
        " 1920.0,\n",
        " 1921.0,\n",
        " 1922.0,\n",
        " 1923.0,\n",
        " 1924.0,\n",
        " 1925.0,\n",
        " 1926.0,\n",
        " 1927.0,\n",
        " 1928.0,\n",
        " 1929.0,\n",
        " 1930.0,\n",
        " 1931.0,\n",
        " 1932.0,\n",
        " 1933.0,\n",
        " 1934.0,\n",
        " 1935.0,\n",
        " 1936.0,\n",
        " 1937.0,\n",
        " 1938.0,\n",
        " 1939.0,\n",
        " 1940.0,\n",
        " 1941.0,\n",
        " 1942.0,\n",
        " 1943.0,\n",
        " 1944.0,\n",
        " 1945.0,\n",
        " 1946.0,\n",
        " 1947.0,\n",
        " 1948.0,\n",
        " 1949.0,\n",
        " 1950.0,\n",
        " 1951.0,\n",
        " 1952.0,\n",
        " 1953.0,\n",
        " 1954.0,\n",
        " 1955.0,\n",
        " 1956.0,\n",
        " 1957.0,\n",
        " 1958.0,\n",
        " 1959.0,\n",
        " 1960.0,\n",
        " 1961.0,\n",
        " 1962.0,\n",
        " 1963.0,\n",
        " 1964.0,\n",
        " 1965.0,\n",
        " 1966.0,\n",
        " 1967.0,\n",
        " 1968.0,\n",
        " 1969.0,\n",
        " 1970.0,\n",
        " 1971.0,\n",
        " 1972.0,\n",
        " 1973.0,\n",
        " 1974.0,\n",
        " 1975.0,\n",
        " 1976.0,\n",
        " 1977.0,\n",
        " 1978.0,\n",
        " 1979.0,\n",
        " 1980.0,\n",
        " 1981.0,\n",
        " 1982.0,\n",
        " 1983.0,\n",
        " 1984.0,\n",
        " 1985.0,\n",
        " 1986.0,\n",
        " 1987.0,\n",
        " 1988.0,\n",
        " 1989.0,\n",
        " 1990.0,\n",
        " 1991.0,\n",
        " 1992.0,\n",
        " 1993.0,\n",
        " 1994.0,\n",
        " 1995.0,\n",
        " 1996.0,\n",
        " 1997.0,\n",
        " 1998.0,\n",
        " 1999.0]"
       ]
      }
     ],
     "prompt_number": 262
    },
    {
     "cell_type": "code",
     "collapsed": false,
     "input": [
      "np.where?"
     ],
     "language": "python",
     "metadata": {},
     "outputs": [],
     "prompt_number": 272
    }
   ],
   "metadata": {}
  }
 ]
}