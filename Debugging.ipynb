{
 "metadata": {
  "name": ""
 },
 "nbformat": 3,
 "nbformat_minor": 0,
 "worksheets": [
  {
   "cells": [
    {
     "cell_type": "heading",
     "level": 1,
     "metadata": {},
     "source": [
      "Debug Tests"
     ]
    },
    {
     "cell_type": "code",
     "collapsed": false,
     "input": [
      "import dimarray.core as da\n",
      "import dimarray.transform as tr\n",
      "import dimarray.metadata as md\n",
      "import dimarray.axes as ax\n",
      "reload(md)\n",
      "reload(ax)\n",
      "reload(tr)\n",
      "reload(da)\n",
      "#da.DimArray(np.arange(5)*2, [('time',arange(5))])\n",
      "v = da.array(np.arange(5), time=arange(1950,1955))\n",
      "v.xs((1951,1954,2)) == v[1951:1954:2]\n",
      "v2 = da.array(randn(5,6), time=arange(1950,1955), lat=linspace(-90,90,6))\n",
      "v2\n",
      "v2[1950]\n",
      "v2.mean(axis='time')"
     ],
     "language": "python",
     "metadata": {},
     "outputs": [
      {
       "ename": "TypeError",
       "evalue": "an integer is required",
       "output_type": "pyerr",
       "traceback": [
        "\u001b[1;31m---------------------------------------------------------------------------\u001b[0m\n\u001b[1;31mTypeError\u001b[0m                                 Traceback (most recent call last)",
        "\u001b[1;32m<ipython-input-18-73801b23bb84>\u001b[0m in \u001b[0;36m<module>\u001b[1;34m()\u001b[0m\n\u001b[0;32m     13\u001b[0m \u001b[0mv2\u001b[0m\u001b[1;33m\u001b[0m\u001b[0m\n\u001b[0;32m     14\u001b[0m \u001b[0mv2\u001b[0m\u001b[1;33m[\u001b[0m\u001b[1;36m1950\u001b[0m\u001b[1;33m]\u001b[0m\u001b[1;33m\u001b[0m\u001b[0m\n\u001b[1;32m---> 15\u001b[1;33m \u001b[0mv2\u001b[0m\u001b[1;33m.\u001b[0m\u001b[0mmean\u001b[0m\u001b[1;33m(\u001b[0m\u001b[0maxis\u001b[0m\u001b[1;33m=\u001b[0m\u001b[1;34m'time'\u001b[0m\u001b[1;33m)\u001b[0m\u001b[1;33m\u001b[0m\u001b[0m\n\u001b[0m",
        "\u001b[1;32m/home/perrette/Projects/dimarray/dimarray/core.pyc\u001b[0m in \u001b[0;36mapply\u001b[1;34m(self, funcname, axis, skipna, args, **kwargs)\u001b[0m\n\u001b[0;32m    450\u001b[0m \u001b[1;33m\u001b[0m\u001b[0m\n\u001b[0;32m    451\u001b[0m         \u001b[0mkwargs\u001b[0m\u001b[1;33m[\u001b[0m\u001b[1;34m'axis'\u001b[0m\u001b[1;33m]\u001b[0m \u001b[1;33m=\u001b[0m \u001b[0maxis\u001b[0m\u001b[1;33m\u001b[0m\u001b[0m\n\u001b[1;32m--> 452\u001b[1;33m         \u001b[0mresult\u001b[0m \u001b[1;33m=\u001b[0m \u001b[0mgetattr\u001b[0m\u001b[1;33m(\u001b[0m\u001b[0mvalues\u001b[0m\u001b[1;33m,\u001b[0m \u001b[0mfuncname\u001b[0m\u001b[1;33m)\u001b[0m\u001b[1;33m(\u001b[0m\u001b[1;33m*\u001b[0m\u001b[0margs\u001b[0m\u001b[1;33m,\u001b[0m \u001b[1;33m**\u001b[0m\u001b[0mkwargs\u001b[0m\u001b[1;33m)\u001b[0m\u001b[1;33m\u001b[0m\u001b[0m\n\u001b[0m\u001b[0;32m    453\u001b[0m \u001b[1;33m\u001b[0m\u001b[0m\n\u001b[0;32m    454\u001b[0m         \u001b[1;31m# Special treatment for argmax and argmin: return the corresponding index\u001b[0m\u001b[1;33m\u001b[0m\u001b[1;33m\u001b[0m\u001b[0m\n",
        "\u001b[1;32m/usr/local/lib/python2.7/dist-packages/numpy/core/_methods.pyc\u001b[0m in \u001b[0;36m_mean\u001b[1;34m(a, axis, dtype, out, keepdims)\u001b[0m\n\u001b[0;32m     49\u001b[0m     \u001b[1;32melse\u001b[0m\u001b[1;33m:\u001b[0m\u001b[1;33m\u001b[0m\u001b[0m\n\u001b[0;32m     50\u001b[0m         ret = um.add.reduce(arr, axis=axis, dtype=dtype,\n\u001b[1;32m---> 51\u001b[1;33m                             out=out, keepdims=keepdims)\n\u001b[0m\u001b[0;32m     52\u001b[0m     \u001b[0mrcount\u001b[0m \u001b[1;33m=\u001b[0m \u001b[0m_count_reduce_items\u001b[0m\u001b[1;33m(\u001b[0m\u001b[0marr\u001b[0m\u001b[1;33m,\u001b[0m \u001b[0maxis\u001b[0m\u001b[1;33m)\u001b[0m\u001b[1;33m\u001b[0m\u001b[0m\n\u001b[0;32m     53\u001b[0m     \u001b[1;32mif\u001b[0m \u001b[0misinstance\u001b[0m\u001b[1;33m(\u001b[0m\u001b[0mret\u001b[0m\u001b[1;33m,\u001b[0m \u001b[0mmu\u001b[0m\u001b[1;33m.\u001b[0m\u001b[0mndarray\u001b[0m\u001b[1;33m)\u001b[0m\u001b[1;33m:\u001b[0m\u001b[1;33m\u001b[0m\u001b[0m\n",
        "\u001b[1;31mTypeError\u001b[0m: an integer is required"
       ]
      }
     ],
     "prompt_number": 18
    },
    {
     "cell_type": "code",
     "collapsed": false,
     "input": [
      "%debug"
     ],
     "language": "python",
     "metadata": {},
     "outputs": [
      {
       "output_type": "stream",
       "stream": "stdout",
       "text": [
        "> \u001b[1;32m/home/perrette/Projects/dimarray/dimarray/metadata.py\u001b[0m(147)\u001b[0;36mrepr_meta\u001b[1;34m()\u001b[0m\n",
        "\u001b[1;32m    146 \u001b[1;33m\t\"\"\"\n",
        "\u001b[0m\u001b[1;32m--> 147 \u001b[1;33m        \u001b[1;36m1\u001b[0m\u001b[1;33m/\u001b[0m\u001b[1;36m0\u001b[0m\u001b[1;33m\u001b[0m\u001b[0m\n",
        "\u001b[0m\u001b[1;32m    148 \u001b[1;33m        \u001b[1;32mreturn\u001b[0m \u001b[1;34m\", \"\u001b[0m\u001b[1;33m.\u001b[0m\u001b[0mjoin\u001b[0m\u001b[1;33m(\u001b[0m\u001b[1;33m[\u001b[0m\u001b[1;34m'{}: {}'\u001b[0m\u001b[1;33m.\u001b[0m\u001b[0mformat\u001b[0m\u001b[1;33m(\u001b[0m\u001b[0matt\u001b[0m\u001b[1;33m,\u001b[0m \u001b[0mgetattr\u001b[0m\u001b[1;33m(\u001b[0m\u001b[0mself\u001b[0m\u001b[1;33m,\u001b[0m \u001b[0matt\u001b[0m\u001b[1;33m)\u001b[0m\u001b[1;33m)\u001b[0m \u001b[1;32mfor\u001b[0m \u001b[0matt\u001b[0m \u001b[1;32min\u001b[0m \u001b[0mself\u001b[0m\u001b[1;33m.\u001b[0m\u001b[0mncattrs\u001b[0m\u001b[1;33m(\u001b[0m\u001b[1;33m)\u001b[0m\u001b[1;33m]\u001b[0m\u001b[1;33m)\u001b[0m\u001b[1;33m\u001b[0m\u001b[0m\n",
        "\u001b[0m\n"
       ]
      },
      {
       "name": "stdout",
       "output_type": "stream",
       "stream": "stdout",
       "text": [
        "ipdb> ['{}: {}'.format(att, getattr(self, att)) for att in self.ncattrs()]\n"
       ]
      },
      {
       "output_type": "stream",
       "stream": "stdout",
       "text": [
        "['stamp: None']\n"
       ]
      },
      {
       "name": "stdout",
       "output_type": "stream",
       "stream": "stdout",
       "text": [
        "ipdb> att\n"
       ]
      },
      {
       "output_type": "stream",
       "stream": "stdout",
       "text": [
        "'stamp'\n"
       ]
      },
      {
       "name": "stdout",
       "output_type": "stream",
       "stream": "stdout",
       "text": [
        "ipdb> getattr(self, 'stamp')\n"
       ]
      },
      {
       "name": "stdout",
       "output_type": "stream",
       "stream": "stdout",
       "text": [
        "ipdb> self.stamp\n"
       ]
      },
      {
       "name": "stdout",
       "output_type": "stream",
       "stream": "stdout",
       "text": [
        "ipdb> self._metadata['stamp']\n"
       ]
      },
      {
       "output_type": "stream",
       "stream": "stdout",
       "text": [
        "'[\"time=1950\"]'\n"
       ]
      },
      {
       "name": "stdout",
       "output_type": "stream",
       "stream": "stdout",
       "text": [
        "ipdb> \", \".join(['{}: {}'.format(att, self.getncattr(att)) for att in self.ncattrs()])\n"
       ]
      },
      {
       "output_type": "stream",
       "stream": "stdout",
       "text": [
        "'stamp: [\"time=1950\"]'\n"
       ]
      },
      {
       "name": "stdout",
       "output_type": "stream",
       "stream": "stdout",
       "text": [
        "ipdb> q\n"
       ]
      }
     ],
     "prompt_number": 15
    },
    {
     "cell_type": "code",
     "collapsed": false,
     "input": [
      "a = np.arange(1900,2000.)\n",
      "a.take([2,5,7,200,1000,-10],mode='clip')\n",
      "#np.select?\n",
      "#np.choose\n",
      "np.compress?\n",
      "#map?\n",
      "ndi = numpy.lib.index_tricks.\n",
      "#ndi.ndindex?\n",
      "#for i in ndi.ndindex(2,3,4): print i\n",
      "(2,)*(2)+(arange(5),)\n",
      "import pandas as pd\n",
      "#pd.DataFrame.reindex_axis?\n",
      "list(a)"
     ],
     "language": "python",
     "metadata": {},
     "outputs": [
      {
       "metadata": {},
       "output_type": "pyout",
       "prompt_number": 262,
       "text": [
        "[1900.0,\n",
        " 1901.0,\n",
        " 1902.0,\n",
        " 1903.0,\n",
        " 1904.0,\n",
        " 1905.0,\n",
        " 1906.0,\n",
        " 1907.0,\n",
        " 1908.0,\n",
        " 1909.0,\n",
        " 1910.0,\n",
        " 1911.0,\n",
        " 1912.0,\n",
        " 1913.0,\n",
        " 1914.0,\n",
        " 1915.0,\n",
        " 1916.0,\n",
        " 1917.0,\n",
        " 1918.0,\n",
        " 1919.0,\n",
        " 1920.0,\n",
        " 1921.0,\n",
        " 1922.0,\n",
        " 1923.0,\n",
        " 1924.0,\n",
        " 1925.0,\n",
        " 1926.0,\n",
        " 1927.0,\n",
        " 1928.0,\n",
        " 1929.0,\n",
        " 1930.0,\n",
        " 1931.0,\n",
        " 1932.0,\n",
        " 1933.0,\n",
        " 1934.0,\n",
        " 1935.0,\n",
        " 1936.0,\n",
        " 1937.0,\n",
        " 1938.0,\n",
        " 1939.0,\n",
        " 1940.0,\n",
        " 1941.0,\n",
        " 1942.0,\n",
        " 1943.0,\n",
        " 1944.0,\n",
        " 1945.0,\n",
        " 1946.0,\n",
        " 1947.0,\n",
        " 1948.0,\n",
        " 1949.0,\n",
        " 1950.0,\n",
        " 1951.0,\n",
        " 1952.0,\n",
        " 1953.0,\n",
        " 1954.0,\n",
        " 1955.0,\n",
        " 1956.0,\n",
        " 1957.0,\n",
        " 1958.0,\n",
        " 1959.0,\n",
        " 1960.0,\n",
        " 1961.0,\n",
        " 1962.0,\n",
        " 1963.0,\n",
        " 1964.0,\n",
        " 1965.0,\n",
        " 1966.0,\n",
        " 1967.0,\n",
        " 1968.0,\n",
        " 1969.0,\n",
        " 1970.0,\n",
        " 1971.0,\n",
        " 1972.0,\n",
        " 1973.0,\n",
        " 1974.0,\n",
        " 1975.0,\n",
        " 1976.0,\n",
        " 1977.0,\n",
        " 1978.0,\n",
        " 1979.0,\n",
        " 1980.0,\n",
        " 1981.0,\n",
        " 1982.0,\n",
        " 1983.0,\n",
        " 1984.0,\n",
        " 1985.0,\n",
        " 1986.0,\n",
        " 1987.0,\n",
        " 1988.0,\n",
        " 1989.0,\n",
        " 1990.0,\n",
        " 1991.0,\n",
        " 1992.0,\n",
        " 1993.0,\n",
        " 1994.0,\n",
        " 1995.0,\n",
        " 1996.0,\n",
        " 1997.0,\n",
        " 1998.0,\n",
        " 1999.0]"
       ]
      }
     ],
     "prompt_number": 262
    },
    {
     "cell_type": "code",
     "collapsed": false,
     "input": [
      "np.where?"
     ],
     "language": "python",
     "metadata": {},
     "outputs": [],
     "prompt_number": 272
    }
   ],
   "metadata": {}
  }
 ]
}