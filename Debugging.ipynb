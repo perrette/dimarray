{
 "metadata": {
  "name": ""
 },
 "nbformat": 3,
 "nbformat_minor": 0,
 "worksheets": [
  {
   "cells": [
    {
     "cell_type": "heading",
     "level": 1,
     "metadata": {},
     "source": [
      "Debug Tests"
     ]
    },
    {
     "cell_type": "code",
     "collapsed": false,
     "input": [
      "import dimarray.core as da\n",
      "import dimarray.transform as tr\n",
      "import dimarray.metadata as md\n",
      "import dimarray.axes as ax\n",
      "import dimarray.ncio as nc\n",
      "import dimarray.collect as co\n",
      "#reload(md)\n",
      "#reload(ax)\n",
      "#reload(tr)\n",
      "#reload(da)\n",
      "reload(nc)\n",
      "#reload(co)\n",
      "#da.DimArray(np.arange(5)*2, [('time',arange(5))])\n",
      "v = da.array(randn(2,5,7), time=arange(1950,1955), lat=linspace(-90,90,7), items=array(['greenland','antarctica']))\n",
      "v.xs(time=1950, lat=50, items='greenland')"
     ],
     "language": "python",
     "metadata": {},
     "outputs": [
      {
       "metadata": {},
       "output_type": "pyout",
       "prompt_number": 4,
       "text": [
        "0.62773025401476534"
       ]
      }
     ],
     "prompt_number": 4
    },
    {
     "cell_type": "code",
     "collapsed": false,
     "input": [
      "%debug"
     ],
     "language": "python",
     "metadata": {},
     "outputs": [
      {
       "output_type": "stream",
       "stream": "stdout",
       "text": [
        "> \u001b[1;32m/home/perrette/Projects/dimarray/dimarray/axes.py\u001b[0m(48)\u001b[0;36m__init__\u001b[1;34m()\u001b[0m\n",
        "\u001b[1;32m     47 \u001b[1;33m        \u001b[1;31m# if string, make it an object-typed array\u001b[0m\u001b[1;33m\u001b[0m\u001b[1;33m\u001b[0m\u001b[0m\n",
        "\u001b[0m\u001b[1;32m---> 48 \u001b[1;33m        \u001b[1;32mif\u001b[0m \u001b[0misinstance\u001b[0m\u001b[1;33m(\u001b[0m\u001b[0mtype\u001b[0m\u001b[1;33m(\u001b[0m\u001b[0mvalues\u001b[0m\u001b[1;33m[\u001b[0m\u001b[1;36m0\u001b[0m\u001b[1;33m]\u001b[0m\u001b[1;33m)\u001b[0m\u001b[1;33m,\u001b[0m \u001b[0mstr\u001b[0m\u001b[1;33m)\u001b[0m \u001b[1;32mor\u001b[0m \u001b[0mtype\u001b[0m\u001b[1;33m(\u001b[0m\u001b[0mvalues\u001b[0m\u001b[1;33m[\u001b[0m\u001b[1;36m0\u001b[0m\u001b[1;33m]\u001b[0m\u001b[1;33m)\u001b[0m \u001b[1;32mis\u001b[0m \u001b[0mnp\u001b[0m\u001b[1;33m.\u001b[0m\u001b[0mstr_\u001b[0m\u001b[1;33m:\u001b[0m\u001b[1;33m\u001b[0m\u001b[0m\n",
        "\u001b[0m\u001b[1;32m     49 \u001b[1;33m            \u001b[0mvalues\u001b[0m \u001b[1;33m=\u001b[0m \u001b[0mnp\u001b[0m\u001b[1;33m.\u001b[0m\u001b[0marray\u001b[0m\u001b[1;33m(\u001b[0m\u001b[0mvalues\u001b[0m\u001b[1;33m,\u001b[0m \u001b[0mdtype\u001b[0m\u001b[1;33m=\u001b[0m\u001b[0mobject\u001b[0m\u001b[1;33m)\u001b[0m \u001b[1;31m# make sure data is stored with object type\u001b[0m\u001b[1;33m\u001b[0m\u001b[0m\n",
        "\u001b[0m\n"
       ]
      },
      {
       "name": "stdout",
       "output_type": "stream",
       "stream": "stdout",
       "text": [
        "ipdb> values\n"
       ]
      },
      {
       "output_type": "stream",
       "stream": "stdout",
       "text": [
        "1950\n"
       ]
      },
      {
       "name": "stdout",
       "output_type": "stream",
       "stream": "stdout",
       "text": [
        "ipdb> up\n"
       ]
      },
      {
       "output_type": "stream",
       "stream": "stdout",
       "text": [
        "> \u001b[1;32m/home/perrette/Projects/dimarray/dimarray/axes.py\u001b[0m(102)\u001b[0;36m__getitem__\u001b[1;34m()\u001b[0m\n",
        "\u001b[1;32m    101 \u001b[1;33m\u001b[1;33m\u001b[0m\u001b[0m\n",
        "\u001b[0m\u001b[1;32m--> 102 \u001b[1;33m        \u001b[1;32mreturn\u001b[0m \u001b[0mAxis\u001b[0m\u001b[1;33m(\u001b[0m\u001b[0mvalues\u001b[0m\u001b[1;33m,\u001b[0m \u001b[0mself\u001b[0m\u001b[1;33m.\u001b[0m\u001b[0mname\u001b[0m\u001b[1;33m,\u001b[0m \u001b[0mweights\u001b[0m\u001b[1;33m=\u001b[0m\u001b[0mweights\u001b[0m\u001b[1;33m)\u001b[0m\u001b[1;33m\u001b[0m\u001b[0m\n",
        "\u001b[0m\u001b[1;32m    103 \u001b[1;33m\u001b[1;33m\u001b[0m\u001b[0m\n",
        "\u001b[0m\n"
       ]
      },
      {
       "name": "stdout",
       "output_type": "stream",
       "stream": "stdout",
       "text": [
        "ipdb> values\n"
       ]
      },
      {
       "output_type": "stream",
       "stream": "stdout",
       "text": [
        "1950\n"
       ]
      },
      {
       "name": "stdout",
       "output_type": "stream",
       "stream": "stdout",
       "text": [
        "ipdb> q\n"
       ]
      }
     ],
     "prompt_number": 7
    },
    {
     "cell_type": "code",
     "collapsed": false,
     "input": [
      "a = randn(3,4)\n",
      "reshape(1, [1,1])"
     ],
     "language": "python",
     "metadata": {},
     "outputs": [
      {
       "metadata": {},
       "output_type": "pyout",
       "prompt_number": 17,
       "text": [
        "array([[1]])"
       ]
      }
     ],
     "prompt_number": 17
    },
    {
     "cell_type": "code",
     "collapsed": false,
     "input": [
      "%debug"
     ],
     "language": "python",
     "metadata": {},
     "outputs": [
      {
       "output_type": "stream",
       "stream": "stdout",
       "text": [
        "> \u001b[1;32m/home/perrette/Projects/dimarray/dimarray/core.py\u001b[0m(128)\u001b[0;36m__init__\u001b[1;34m()\u001b[0m\n",
        "\u001b[1;32m    127 \u001b[1;33m            \u001b[1;32mprint\u001b[0m \u001b[1;34m\"shape inferred from data: \"\u001b[0m\u001b[1;33m,\u001b[0m\u001b[0mself\u001b[0m\u001b[1;33m.\u001b[0m\u001b[0mvalues\u001b[0m\u001b[1;33m.\u001b[0m\u001b[0mshape\u001b[0m\u001b[1;33m\u001b[0m\u001b[0m\n",
        "\u001b[0m\u001b[1;32m--> 128 \u001b[1;33m            \u001b[1;32mraise\u001b[0m \u001b[0mException\u001b[0m\u001b[1;33m(\u001b[0m\u001b[1;34m\"mismatch between values and axes\"\u001b[0m\u001b[1;33m)\u001b[0m\u001b[1;33m\u001b[0m\u001b[0m\n",
        "\u001b[0m\u001b[1;32m    129 \u001b[1;33m\u001b[1;33m\u001b[0m\u001b[0m\n",
        "\u001b[0m\n"
       ]
      },
      {
       "name": "stdout",
       "output_type": "stream",
       "stream": "stdout",
       "text": [
        "ipdb> up\n"
       ]
      },
      {
       "output_type": "stream",
       "stream": "stdout",
       "text": [
        "> \u001b[1;32m/home/perrette/Projects/dimarray/dimarray/ncio.py\u001b[0m(178)\u001b[0;36mread_variable\u001b[1;34m()\u001b[0m\n",
        "\u001b[1;32m    177 \u001b[1;33m    \u001b[1;31m# initialize a dimarray\u001b[0m\u001b[1;33m\u001b[0m\u001b[1;33m\u001b[0m\u001b[0m\n",
        "\u001b[0m\u001b[1;32m--> 178 \u001b[1;33m    \u001b[0mobj\u001b[0m \u001b[1;33m=\u001b[0m \u001b[0mDimarray\u001b[0m\u001b[1;33m(\u001b[0m\u001b[0mnewdata\u001b[0m\u001b[1;33m,\u001b[0m \u001b[1;33m*\u001b[0m\u001b[0mnewaxes\u001b[0m\u001b[1;33m)\u001b[0m\u001b[1;33m\u001b[0m\u001b[0m\n",
        "\u001b[0m\u001b[1;32m    179 \u001b[1;33m    \u001b[0mobj\u001b[0m\u001b[1;33m.\u001b[0m\u001b[0mname\u001b[0m \u001b[1;33m=\u001b[0m \u001b[0mv\u001b[0m\u001b[1;33m\u001b[0m\u001b[0m\n",
        "\u001b[0m\n"
       ]
      },
      {
       "name": "stdout",
       "output_type": "stream",
       "stream": "stdout",
       "text": [
        "ipdb> newdata\n"
       ]
      },
      {
       "output_type": "stream",
       "stream": "stdout",
       "text": [
        "array([[[ -1.11640409e+00,  -1.44438684e-01,  -3.96962508e-02,\n",
        "          -1.50404137e+00,   2.85520588e-02,  -8.87685207e-01,\n",
        "          -1.13034698e-01],\n",
        "        [ -1.14845271e+00,  -8.04354971e-01,   2.19329697e+00,\n",
        "          -1.52002839e-01,   4.11124411e-01,  -5.57104647e-01,\n",
        "          -1.12217380e+00],\n",
        "        [  1.13064193e+00,  -4.56822472e-01,   1.85650142e+00,\n",
        "           1.28096092e+00,  -9.55768033e-01,   2.94356209e+00,\n",
        "          -7.07758660e-01],\n",
        "        [  3.22043647e-01,  -2.35963864e+00,  -3.06753927e-01,\n",
        "          -1.14822378e+00,  -8.20934898e-01,   6.33565693e-01,\n",
        "          -8.34411223e-02],\n",
        "        [ -2.18350113e+00,   6.89243911e-01,  -2.08899030e-02,\n",
        "           9.85226015e-01,  -1.76932975e+00,  -1.95611749e+00,\n",
        "           1.01185520e+00]],\n",
        "\n",
        "       [[  1.60697661e+00,   1.59460460e-01,   4.08736712e-01,\n",
        "           6.27304529e-01,  -2.26853850e-01,  -1.19835600e+00,\n",
        "           6.57866063e-03],\n",
        "        [ -6.07599920e-01,  -4.29122791e-01,  -2.69559095e+00,\n",
        "          -1.09466761e+00,  -8.00416097e-01,  -6.93045072e-01,\n",
        "           6.13382749e-01],\n",
        "        [  1.46721106e+00,   5.71975170e-01,  -8.09676331e-01,\n",
        "           5.30152435e-01,  -1.42499023e+00,   5.29255226e-01,\n",
        "           2.82687365e+00],\n",
        "        [ -2.83498558e-01,  -1.59027058e-01,  -1.82209522e-01,\n",
        "          -3.99670359e-02,   1.60154078e-03,   5.46375592e-01,\n",
        "           8.94030000e-01],\n",
        "        [  6.80598379e-01,  -1.13060226e-01,  -1.00800733e+00,\n",
        "           1.23106976e+00,   8.85801112e-01,  -1.34728623e+00,\n",
        "           2.20562380e+00]]])\n"
       ]
      },
      {
       "name": "stdout",
       "output_type": "stream",
       "stream": "stdout",
       "text": [
        "ipdb> newaxes\n"
       ]
      },
      {
       "output_type": "stream",
       "stream": "stdout",
       "text": [
        "*** IndexError: 0-d arrays can't be indexed\n"
       ]
      },
      {
       "name": "stdout",
       "output_type": "stream",
       "stream": "stdout",
       "text": [
        "ipdb> newaxes[0]\n"
       ]
      },
      {
       "output_type": "stream",
       "stream": "stdout",
       "text": [
        "*** IndexError: 0-d arrays can't be indexed\n"
       ]
      },
      {
       "name": "stdout",
       "output_type": "stream",
       "stream": "stdout",
       "text": [
        "ipdb> newaxes[0].values\n"
       ]
      },
      {
       "output_type": "stream",
       "stream": "stdout",
       "text": [
        "array(items (2): greenland to antarctica\n",
        ", dtype=object)\n"
       ]
      },
      {
       "name": "stdout",
       "output_type": "stream",
       "stream": "stdout",
       "text": [
        "ipdb> list\n"
       ]
      },
      {
       "output_type": "stream",
       "stream": "stdout",
       "text": [
        "\u001b[0;32m    173 \u001b[0m    \u001b[1;31m# slice the data and dimensions\u001b[0m\u001b[1;33m\u001b[0m\u001b[1;33m\u001b[0m\u001b[0m\n",
        "\u001b[0;32m    174 \u001b[0m    \u001b[0mnewdata\u001b[0m \u001b[1;33m=\u001b[0m \u001b[0mf\u001b[0m\u001b[1;33m.\u001b[0m\u001b[0mvariables\u001b[0m\u001b[1;33m[\u001b[0m\u001b[0mv\u001b[0m\u001b[1;33m]\u001b[0m\u001b[1;33m[\u001b[0m\u001b[0mix\u001b[0m\u001b[1;33m]\u001b[0m\u001b[1;33m\u001b[0m\u001b[0m\n",
        "\u001b[0;32m    175 \u001b[0m    \u001b[0mnewaxes\u001b[0m \u001b[1;33m=\u001b[0m \u001b[1;33m[\u001b[0m\u001b[0mAxis\u001b[0m\u001b[1;33m(\u001b[0m\u001b[0max\u001b[0m\u001b[1;33m[\u001b[0m\u001b[0mix\u001b[0m\u001b[1;33m[\u001b[0m\u001b[0mi\u001b[0m\u001b[1;33m]\u001b[0m\u001b[1;33m]\u001b[0m\u001b[1;33m,\u001b[0m \u001b[0max\u001b[0m\u001b[1;33m.\u001b[0m\u001b[0mname\u001b[0m\u001b[1;33m)\u001b[0m \u001b[1;32mfor\u001b[0m \u001b[0mi\u001b[0m\u001b[1;33m,\u001b[0m \u001b[0max\u001b[0m \u001b[1;32min\u001b[0m \u001b[0menumerate\u001b[0m\u001b[1;33m(\u001b[0m\u001b[0maxes\u001b[0m\u001b[1;33m)\u001b[0m\u001b[1;33m]\u001b[0m \u001b[1;31m# also get the appropriate axes\u001b[0m\u001b[1;33m\u001b[0m\u001b[0m\n",
        "\u001b[0;32m    176 \u001b[0m\u001b[1;33m\u001b[0m\u001b[0m\n",
        "\u001b[0;32m    177 \u001b[0m    \u001b[1;31m# initialize a dimarray\u001b[0m\u001b[1;33m\u001b[0m\u001b[1;33m\u001b[0m\u001b[0m\n",
        "\u001b[1;32m--> 178 \u001b[1;33m    \u001b[0mobj\u001b[0m \u001b[1;33m=\u001b[0m \u001b[0mDimarray\u001b[0m\u001b[1;33m(\u001b[0m\u001b[0mnewdata\u001b[0m\u001b[1;33m,\u001b[0m \u001b[1;33m*\u001b[0m\u001b[0mnewaxes\u001b[0m\u001b[1;33m)\u001b[0m\u001b[1;33m\u001b[0m\u001b[0m\n",
        "\u001b[0m\u001b[0;32m    179 \u001b[0m    \u001b[0mobj\u001b[0m\u001b[1;33m.\u001b[0m\u001b[0mname\u001b[0m \u001b[1;33m=\u001b[0m \u001b[0mv\u001b[0m\u001b[1;33m\u001b[0m\u001b[0m\n",
        "\u001b[0;32m    180 \u001b[0m\u001b[1;33m\u001b[0m\u001b[0m\n",
        "\u001b[0;32m    181 \u001b[0m    \u001b[1;31m# Read attributes\u001b[0m\u001b[1;33m\u001b[0m\u001b[1;33m\u001b[0m\u001b[0m\n",
        "\u001b[0;32m    182 \u001b[0m    \u001b[0mattr\u001b[0m \u001b[1;33m=\u001b[0m \u001b[0mread_attributes\u001b[0m\u001b[1;33m(\u001b[0m\u001b[0mf\u001b[0m\u001b[1;33m,\u001b[0m \u001b[0mv\u001b[0m\u001b[1;33m)\u001b[0m\u001b[1;33m\u001b[0m\u001b[0m\n",
        "\u001b[0;32m    183 \u001b[0m    \u001b[0mobj\u001b[0m\u001b[1;33m.\u001b[0m\u001b[0m__dict__\u001b[0m\u001b[1;33m.\u001b[0m\u001b[0mupdate\u001b[0m\u001b[1;33m(\u001b[0m\u001b[0mattr\u001b[0m\u001b[1;33m)\u001b[0m\u001b[1;33m\u001b[0m\u001b[0m\n",
        "\n"
       ]
      },
      {
       "name": "stdout",
       "output_type": "stream",
       "stream": "stdout",
       "text": [
        "ipdb> q\n"
       ]
      }
     ],
     "prompt_number": 3
    },
    {
     "cell_type": "code",
     "collapsed": false,
     "input": [
      "mymap = da.array(randn(50,7), lon=linspace(-180,180,50), lat=linspace(-90,90,7))\n",
      "ts = da.Dimarray(np.arange(5), ('time',arange(1950,1955)))\n",
      "ts2 = da.Dimarray(np.arange(10), ('time',arange(1950,1960)))\n",
      "\n",
      "mymap*ts\n",
      "mymap.axes['lat'].weights = lambda x: np.cos(np.radians(x))\n",
      "mymap.axes['lat'].get_weights().reshape(('lat','lon'))\n",
      "\n",
      "#da.Dimarray(randn(5,4))\n",
      "#da.Dimarray(randn(5,4), 'd0','d1')\n",
      "#da.Dimarray(randn(5,4), list(\"abcde\"), list(\"1234\"))\n",
      "#da.Dimarray(randn(5,4), ('d0',list(\"abcde\")), ('d1',list(\"1234\")))\n",
      "da.array(randn(5,4), d0=list(\"abcde\"), d1=list(\"1234\"))"
     ],
     "language": "python",
     "metadata": {},
     "outputs": [
      {
       "metadata": {},
       "output_type": "pyout",
       "prompt_number": 6,
       "text": [
        "dimarray: 20 non-null elements (0 null)\n",
        "dimensions: d0 x d1\n",
        "d0 (5): a to e\n",
        "d1 (4): 1 to 4\n",
        "array([[-1.26057325,  0.12734642,  0.42631744, -0.95607303],\n",
        "       [-0.68905005,  0.17572791, -0.82612861,  0.49503811],\n",
        "       [-1.88708373,  0.18472434, -1.30705253, -1.05002775],\n",
        "       [ 0.68548235, -1.10513252, -1.20897134, -1.26167097],\n",
        "       [-0.85341824, -0.08788101,  1.08029165, -0.44098687]])"
       ]
      }
     ],
     "prompt_number": 6
    },
    {
     "cell_type": "markdown",
     "metadata": {},
     "source": [
      "Interpolation / regridding"
     ]
    },
    {
     "cell_type": "code",
     "collapsed": false,
     "input": [
      "#w = v.reindex_axis(arange(1940,1960), axis='time') \n",
      "v = da.array(randn(5,7), time=arange(1950,1955), lon=linspace(-90,90,7))\n",
      "w = v.interp1d(arange(1948.,1960,2), axis='time')\n",
      "%matplotlib inline\n",
      "clf()\n",
      "plot(v.time, v.values[:,0], label='original')\n",
      "plot(w.time, w.values[:,0], label='interp')\n",
      "legend()"
     ],
     "language": "python",
     "metadata": {},
     "outputs": [
      {
       "output_type": "stream",
       "stream": "stdout",
       "text": [
        "recursive call\n",
        "recursive call\n",
        "recursive call\n",
        "recursive call\n",
        "recursive call\n",
        "recursive call\n",
        "recursive call\n"
       ]
      },
      {
       "metadata": {},
       "output_type": "pyout",
       "prompt_number": 7,
       "text": [
        "<matplotlib.legend.Legend at 0x9a4ef0c>"
       ]
      },
      {
       "metadata": {},
       "output_type": "display_data",
       "png": "[encoded data removed]",
       "text": [
        "<matplotlib.figure.Figure at 0x96d488c>"
       ]
      }
     ],
     "prompt_number": 7
    },
    {
     "cell_type": "markdown",
     "metadata": {},
     "source": [
      "multi-dimension operation / alignment"
     ]
    },
    {
     "cell_type": "markdown",
     "metadata": {},
     "source": [
      "NetCDF I/O"
     ]
    },
    {
     "cell_type": "code",
     "collapsed": false,
     "input": [
      "# writing\n",
      "v = da.array(randn(2,5,7), time=arange(1950,1955), lat=linspace(-90,90,7), items=array(['greenland','antarctica']))\n",
      "print v\n",
      "v.save(\"test2.nc\",\"myvarstr\")"
     ],
     "language": "python",
     "metadata": {},
     "outputs": [
      {
       "output_type": "stream",
       "stream": "stdout",
       "text": [
        "write to test2.nc\n"
       ]
      }
     ],
     "prompt_number": 8
    },
    {
     "cell_type": "code",
     "collapsed": false,
     "input": [
      "# checking\n",
      "nc.summary(\"test2.nc\")"
     ],
     "language": "python",
     "metadata": {},
     "outputs": []
    },
    {
     "cell_type": "code",
     "collapsed": false,
     "input": [
      "# reading\n",
      "w = nc.read(\"test2.nc\")\n",
      "w['myvarstr']"
     ],
     "language": "python",
     "metadata": {},
     "outputs": [
      {
       "output_type": "stream",
       "stream": "stdout",
       "text": [
        "read from test2.nc\n"
       ]
      },
      {
       "metadata": {},
       "output_type": "pyout",
       "prompt_number": 10,
       "text": [
        "Dataset of 1 variables\n",
        "\n",
        "dimarray: 70 non-null elements (0 null)\n",
        "name: myvarstr\n",
        "dimensions: items x time x lat\n",
        "items (2): greenland to antarctica\n",
        "time (5): 1950 to 1954\n",
        "lat (7): -90.0 to 90.0\n",
        "array([[[  1.11525989e+00,   3.20644019e-01,   5.48161519e-01,\n",
        "          -1.51141926e+00,   3.71733372e-01,   4.91531539e-01,\n",
        "          -2.06165407e-01],\n",
        "        [  4.73106129e-01,  -4.37800451e-01,   1.68776846e+00,\n",
        "          -3.17394277e-01,   1.19414274e+00,  -4.93247752e-01,\n",
        "          -7.25096617e-01],\n",
        "        [  1.72172578e+00,  -1.06085786e+00,   1.23904184e+00,\n",
        "           9.90152995e-01,   1.03904887e+00,  -5.36471566e-01,\n",
        "          -9.04151219e-01],\n",
        "        [  4.48790419e-01,  -1.36622881e+00,   1.84528615e+00,\n",
        "          -9.72057014e-01,  -1.44350547e+00,   5.52672020e-01,\n",
        "          -1.25778687e-01],\n",
        "        [ -3.04420401e-01,  -1.94645055e-01,   6.60916741e-04,\n",
        "          -1.16476973e+00,  -8.52724451e-01,  -1.07497219e+00,\n",
        "          -1.36851650e+00]],\n",
        "\n",
        "       [[ -2.35388038e-02,   1.40383480e+00,   5.19773922e-01,\n",
        "           1.92814977e-01,   9.83652838e-01,  -5.91642406e-01,\n",
        "          -5.20323156e-01],\n",
        "        [  2.65460696e-02,  -9.45303401e-01,  -2.80039573e-01,\n",
        "           2.00178048e+00,  -4.69206248e-01,   6.53271798e-01,\n",
        "          -1.00276568e+00],\n",
        "        [ -1.23766054e+00,   9.63118735e-01,  -9.53795249e-02,\n",
        "           1.95023938e-01,  -5.22942588e-01,   8.08429873e-01,\n",
        "           2.75549757e-01],\n",
        "        [ -2.46537140e+00,  -3.32147744e-01,   7.50070967e-01,\n",
        "           1.08911981e+00,   3.40663832e-01,   1.04786197e+00,\n",
        "           2.24474773e-01],\n",
        "        [ -6.94334896e-01,   1.21421850e+00,  -5.17034056e-01,\n",
        "           5.07976657e-01,  -5.25556688e-02,  -9.00213164e-02,\n",
        "          -9.32545444e-01]]])"
       ]
      }
     ],
     "prompt_number": 10
    }
   ],
   "metadata": {}
  }
 ]
}