{
 "metadata": {
  "name": ""
 },
 "nbformat": 3,
 "nbformat_minor": 0,
 "worksheets": [
  {
   "cells": [
    {
     "cell_type": "heading",
     "level": 1,
     "metadata": {},
     "source": [
      "Debug Tests"
     ]
    },
    {
     "cell_type": "code",
     "collapsed": false,
     "input": [
      "import dimarray.core as da\n",
      "import dimarray.transform as tr\n",
      "import dimarray.metadata as md\n",
      "import dimarray.axes as ax\n",
      "import dimarray.ncio as nc\n",
      "import dimarray.collect as co\n",
      "reload(md)\n",
      "reload(ax)\n",
      "reload(tr)\n",
      "reload(da)\n",
      "reload(nc)\n",
      "#reload(co)\n",
      "#da.DimArray(np.arange(5)*2, [('time',arange(5))])\n",
      "v = da.array(randn(2,5,7), time=arange(1950,1955), lat=linspace(-90,90,7), items=array(['greenland','antarctica']))\n",
      "v.save(\"test2.nc\",\"myvarstr\")\n"
     ],
     "language": "python",
     "metadata": {},
     "outputs": [
      {
       "output_type": "stream",
       "stream": "stdout",
       "text": [
        "write to test2.nc\n"
       ]
      }
     ],
     "prompt_number": 27
    },
    {
     "cell_type": "code",
     "collapsed": false,
     "input": [
      "np.reshape?"
     ],
     "language": "python",
     "metadata": {},
     "outputs": [],
     "prompt_number": 53
    },
    {
     "cell_type": "code",
     "collapsed": false,
     "input": [
      "w = nc.read(\"test2.nc\")\n",
      "w['myvarstr'].axes['items'].values"
     ],
     "language": "python",
     "metadata": {},
     "outputs": [
      {
       "ename": "TypeError",
       "evalue": "super(type, obj): obj must be an instance or subtype of type",
       "output_type": "pyerr",
       "traceback": [
        "\u001b[1;31m---------------------------------------------------------------------------\u001b[0m\n\u001b[1;31mTypeError\u001b[0m                                 Traceback (most recent call last)",
        "\u001b[1;32m<ipython-input-78-88815535b1a2>\u001b[0m in \u001b[0;36m<module>\u001b[1;34m()\u001b[0m\n\u001b[0;32m      1\u001b[0m \u001b[1;31m#w = nc.read(\"test2.nc\")\u001b[0m\u001b[1;33m\u001b[0m\u001b[1;33m\u001b[0m\u001b[0m\n\u001b[1;32m----> 2\u001b[1;33m \u001b[0mw\u001b[0m\u001b[1;33m[\u001b[0m\u001b[1;34m'myvarstr'\u001b[0m\u001b[1;33m]\u001b[0m\u001b[1;33m.\u001b[0m\u001b[0maxes\u001b[0m\u001b[1;33m[\u001b[0m\u001b[1;34m'items'\u001b[0m\u001b[1;33m]\u001b[0m\u001b[1;33m.\u001b[0m\u001b[0mvalues\u001b[0m\u001b[1;33m\u001b[0m\u001b[0m\n\u001b[0m",
        "\u001b[1;32m/home/perrette/Projects/dimarray/dimarray/axes.pyc\u001b[0m in \u001b[0;36m__getitem__\u001b[1;34m(self, item)\u001b[0m\n\u001b[0;32m    189\u001b[0m             \u001b[1;32mreturn\u001b[0m \u001b[0mAxes\u001b[0m\u001b[1;33m(\u001b[0m\u001b[1;33m[\u001b[0m\u001b[0mself\u001b[0m\u001b[1;33m[\u001b[0m\u001b[0mi\u001b[0m\u001b[1;33m]\u001b[0m \u001b[1;32mfor\u001b[0m \u001b[0mi\u001b[0m \u001b[1;32min\u001b[0m \u001b[0mitem\u001b[0m\u001b[1;33m]\u001b[0m\u001b[1;33m)\u001b[0m\u001b[1;33m\u001b[0m\u001b[0m\n\u001b[0;32m    190\u001b[0m \u001b[1;33m\u001b[0m\u001b[0m\n\u001b[1;32m--> 191\u001b[1;33m         \u001b[1;32mreturn\u001b[0m \u001b[0msuper\u001b[0m\u001b[1;33m(\u001b[0m\u001b[0mAxes\u001b[0m\u001b[1;33m,\u001b[0m\u001b[0mself\u001b[0m\u001b[1;33m)\u001b[0m\u001b[1;33m.\u001b[0m\u001b[0m__getitem__\u001b[0m\u001b[1;33m(\u001b[0m\u001b[0mitem\u001b[0m\u001b[1;33m)\u001b[0m\u001b[1;33m\u001b[0m\u001b[0m\n\u001b[0m\u001b[0;32m    192\u001b[0m         \u001b[1;31m#return super(Axes,self)[item]\u001b[0m\u001b[1;33m\u001b[0m\u001b[1;33m\u001b[0m\u001b[0m\n\u001b[0;32m    193\u001b[0m \u001b[1;33m\u001b[0m\u001b[0m\n",
        "\u001b[1;31mTypeError\u001b[0m: super(type, obj): obj must be an instance or subtype of type"
       ]
      }
     ],
     "prompt_number": 78
    },
    {
     "cell_type": "code",
     "collapsed": false,
     "input": [
      "%debug"
     ],
     "language": "python",
     "metadata": {},
     "outputs": [
      {
       "output_type": "stream",
       "stream": "stdout",
       "text": [
        "> \u001b[1;32m/home/perrette/Projects/dimarray/dimarray/axes.py\u001b[0m(65)\u001b[0;36m__init__\u001b[1;34m()\u001b[0m\n",
        "\u001b[1;32m     64 \u001b[1;33m            \u001b[1;32mprint\u001b[0m \u001b[1;34m'watch out'\u001b[0m\u001b[1;33m,\u001b[0m \u001b[0mvalues\u001b[0m\u001b[1;33m.\u001b[0m\u001b[0mdtype\u001b[0m\u001b[1;33m\u001b[0m\u001b[0m\n",
        "\u001b[0m\u001b[1;32m---> 65 \u001b[1;33m            \u001b[1;36m1\u001b[0m\u001b[1;33m/\u001b[0m\u001b[1;36m0\u001b[0m\u001b[1;33m\u001b[0m\u001b[0m\n",
        "\u001b[0m\u001b[1;32m     66 \u001b[1;33m        \u001b[1;31m#import ipdb; ipdb.set_trace()\u001b[0m\u001b[1;33m\u001b[0m\u001b[1;33m\u001b[0m\u001b[0m\n",
        "\u001b[0m\n"
       ]
      },
      {
       "name": "stdout",
       "output_type": "stream",
       "stream": "stdout",
       "text": [
        "ipdb> isinstance(type(values[0]), np.str_)\n"
       ]
      },
      {
       "output_type": "stream",
       "stream": "stdout",
       "text": [
        "False\n"
       ]
      },
      {
       "name": "stdout",
       "output_type": "stream",
       "stream": "stdout",
       "text": [
        "ipdb> type(values[0] is np.str_\n"
       ]
      },
      {
       "output_type": "stream",
       "stream": "stdout",
       "text": [
        "*** SyntaxError: unexpected EOF while parsing (<stdin>, line 1)\n"
       ]
      },
      {
       "name": "stdout",
       "output_type": "stream",
       "stream": "stdout",
       "text": [
        "ipdb> type(values[0]) is np.str_\n"
       ]
      },
      {
       "output_type": "stream",
       "stream": "stdout",
       "text": [
        "True\n"
       ]
      },
      {
       "name": "stdout",
       "output_type": "stream",
       "stream": "stdout",
       "text": [
        "ipdb> q\n"
       ]
      }
     ],
     "prompt_number": 6
    },
    {
     "cell_type": "markdown",
     "metadata": {},
     "source": [
      "Interpolation / regridding"
     ]
    },
    {
     "cell_type": "code",
     "collapsed": false,
     "input": [
      "#w = v.reindex_axis(arange(1940,1960), axis='time') \n",
      "v = da.array(randn(5,7), time=arange(1950,1955), lon=linspace(-90,90,7))\n",
      "w = v.interp1d(arange(1948.,1960,2), axis='time')\n",
      "%matplotlib inline\n",
      "clf()\n",
      "plot(v.time, v.values[:,0], label='original')\n",
      "plot(w.time, w.values[:,0], label='interp')\n",
      "legend()"
     ],
     "language": "python",
     "metadata": {},
     "outputs": []
    },
    {
     "cell_type": "markdown",
     "metadata": {},
     "source": [
      "multi-dimension operation / alignment"
     ]
    },
    {
     "cell_type": "code",
     "collapsed": false,
     "input": [
      "mymap = da.array(randn(50,7), lon=linspace(-180,180,50), lat=linspace(-90,90,7))\n",
      "ts = da.Dimarray(np.arange(5), [('time',arange(1950,1955))])\n",
      "ts2 = da.Dimarray(np.arange(10), [('time',arange(1950,1960))])\n",
      "\n",
      "mymap*ts"
     ],
     "language": "python",
     "metadata": {},
     "outputs": [
      {
       "metadata": {},
       "output_type": "pyout",
       "prompt_number": 28,
       "text": [
        "dimarray: 1750 non-null elements (0 null)\n",
        "dimensions: lon x lat x time\n",
        "lon (50): -180.0 to 180.0\n",
        "lat (7): -90.0 to 90.0\n",
        "time (5): 1950 to 1954"
       ]
      }
     ],
     "prompt_number": 28
    },
    {
     "cell_type": "code",
     "collapsed": false,
     "input": [
      "%debug"
     ],
     "language": "python",
     "metadata": {},
     "outputs": [
      {
       "output_type": "stream",
       "stream": "stdout",
       "text": [
        "> \u001b[1;32m/home/perrette/Projects/dimarray/dimarray/core.py\u001b[0m(98)\u001b[0;36m__init__\u001b[1;34m()\u001b[0m\n",
        "\u001b[1;32m     97 \u001b[1;33m            \u001b[1;32mprint\u001b[0m \u001b[1;34m\"shape inferred from data: \"\u001b[0m\u001b[1;33m,\u001b[0m\u001b[0mself\u001b[0m\u001b[1;33m.\u001b[0m\u001b[0mvalues\u001b[0m\u001b[1;33m.\u001b[0m\u001b[0mshape\u001b[0m\u001b[1;33m\u001b[0m\u001b[0m\n",
        "\u001b[0m\u001b[1;32m---> 98 \u001b[1;33m            \u001b[1;32mraise\u001b[0m \u001b[0mException\u001b[0m\u001b[1;33m(\u001b[0m\u001b[1;34m\"mismatch between values and axes\"\u001b[0m\u001b[1;33m)\u001b[0m\u001b[1;33m\u001b[0m\u001b[0m\n",
        "\u001b[0m\u001b[1;32m     99 \u001b[1;33m\u001b[1;33m\u001b[0m\u001b[0m\n",
        "\u001b[0m\n"
       ]
      },
      {
       "name": "stdout",
       "output_type": "stream",
       "stream": "stdout",
       "text": [
        "ipdb> up\n"
       ]
      },
      {
       "output_type": "stream",
       "stream": "stdout",
       "text": [
        "> \u001b[1;32m/home/perrette/Projects/dimarray/dimarray/core.py\u001b[0m(129)\u001b[0;36m_constructor\u001b[1;34m()\u001b[0m\n",
        "\u001b[1;32m    128 \u001b[1;33m        \u001b[1;31m# or just with the normal class constructor\u001b[0m\u001b[1;33m\u001b[0m\u001b[1;33m\u001b[0m\u001b[0m\n",
        "\u001b[0m\u001b[1;32m--> 129 \u001b[1;33m        \u001b[0mnew\u001b[0m \u001b[1;33m=\u001b[0m \u001b[0mDimarray\u001b[0m\u001b[1;33m(\u001b[0m\u001b[0mvalues\u001b[0m\u001b[1;33m,\u001b[0m \u001b[0maxes\u001b[0m\u001b[1;33m,\u001b[0m \u001b[1;33m**\u001b[0m\u001b[0mmetadata\u001b[0m\u001b[1;33m)\u001b[0m\u001b[1;33m\u001b[0m\u001b[0m\n",
        "\u001b[0m\u001b[1;32m    130 \u001b[1;33m        \u001b[1;32mreturn\u001b[0m \u001b[0mnew\u001b[0m\u001b[1;33m\u001b[0m\u001b[0m\n",
        "\u001b[0m\n"
       ]
      },
      {
       "name": "stdout",
       "output_type": "stream",
       "stream": "stdout",
       "text": [
        "ipdb> up\n"
       ]
      },
      {
       "output_type": "stream",
       "stream": "stdout",
       "text": [
        "> \u001b[1;32m/home/perrette/Projects/dimarray/dimarray/core.py\u001b[0m(683)\u001b[0;36mreindex_axis\u001b[1;34m()\u001b[0m\n",
        "\u001b[1;32m    682 \u001b[1;33m        \u001b[1;31m# ...initialize Dimarray\u001b[0m\u001b[1;33m\u001b[0m\u001b[1;33m\u001b[0m\u001b[0m\n",
        "\u001b[0m\u001b[1;32m--> 683 \u001b[1;33m        \u001b[0mobj\u001b[0m \u001b[1;33m=\u001b[0m \u001b[0mself\u001b[0m\u001b[1;33m.\u001b[0m\u001b[0m_constructor\u001b[0m\u001b[1;33m(\u001b[0m\u001b[0mvalues\u001b[0m\u001b[1;33m,\u001b[0m \u001b[0maxes\u001b[0m\u001b[1;33m,\u001b[0m \u001b[1;33m**\u001b[0m\u001b[0mself\u001b[0m\u001b[1;33m.\u001b[0m\u001b[0m_metadata\u001b[0m\u001b[1;33m)\u001b[0m\u001b[1;33m\u001b[0m\u001b[0m\n",
        "\u001b[0m\u001b[1;32m    684 \u001b[1;33m        \u001b[1;32mreturn\u001b[0m \u001b[0mobj\u001b[0m\u001b[1;33m\u001b[0m\u001b[0m\n",
        "\u001b[0m\n"
       ]
      },
      {
       "name": "stdout",
       "output_type": "stream",
       "stream": "stdout",
       "text": [
        "ipdb> values\n"
       ]
      },
      {
       "output_type": "stream",
       "stream": "stdout",
       "text": [
        "array([[-0.43025068, -0.44035415,  0.49560737,  1.06883472,  0.39133379,\n",
        "         0.87679327, -0.81997942],\n",
        "       [ 0.58344521, -0.72918784,  1.13804414, -0.91497455, -0.65685936,\n",
        "        -1.10190852, -0.35237847],\n",
        "       [-1.02042188,  0.98270088,  0.44102938,  1.0401131 ,  0.73982759,\n",
        "         0.4118675 ,  0.87493043],\n",
        "       [-0.87111925,  0.63232091, -1.47811227,  2.56279816,  0.06072614,\n",
        "        -1.84080313,  0.15971347],\n",
        "       [ 0.96829151,  1.85699989, -0.90448318,  1.0054424 , -0.07258595,\n",
        "        -0.53275172, -1.13247305],\n",
        "       [-1.07524428,  0.24717252,  1.30567692, -0.72339106, -1.45170282,\n",
        "        -0.5272939 , -0.87199103],\n",
        "       [ 1.29107179,  1.34369969, -0.15387877, -1.09554881,  0.01380202,\n",
        "         0.0508403 , -0.90432172],\n",
        "       [ 1.11999065,  0.08368765, -0.74986349,  1.11602248, -1.2094956 ,\n",
        "        -0.07068732, -0.08068429],\n",
        "       [ 0.24062378, -1.20663226, -1.6844695 , -2.08629504,  1.07118857,\n",
        "         0.68443816, -0.96355112],\n",
        "       [-1.18935456, -0.03230528, -1.32515395, -0.61209065,  0.09647822,\n",
        "        -0.23438562,  1.10606398],\n",
        "       [-0.69892333,  1.26361272,  0.35304263, -0.23729315,  0.00653374,\n",
        "        -0.74369024, -0.21487064],\n",
        "       [-1.28594133,  1.42195027, -0.33575349, -0.56516075, -0.40701934,\n",
        "         1.52335169, -2.33744614],\n",
        "       [-0.15087814,  0.37290227, -1.62628506, -0.03882964, -0.48812289,\n",
        "         0.0808617 , -0.56236365],\n",
        "       [ 0.78843519,  0.14990723,  0.79041126,  0.88177205, -2.90064184,\n",
        "         0.69576668,  0.11231242],\n",
        "       [-0.66832642,  0.48261409, -1.67519829,  0.15673984, -0.8618179 ,\n",
        "         0.67562754,  0.15793132],\n",
        "       [-0.05461636,  1.12665713,  0.41030631,  1.58737262, -1.11921002,\n",
        "        -1.01782655,  0.01853523],\n",
        "       [-0.26792153, -0.76735927,  1.86442852,  0.76779843, -0.6608225 ,\n",
        "         1.20964505, -0.1908611 ],\n",
        "       [-0.35341319,  0.50811307,  1.26103665,  1.24505628,  0.07735522,\n",
        "        -0.70953103,  0.42537772],\n",
        "       [-2.01119595,  0.05388066, -0.83665622, -0.50450628,  0.22088662,\n",
        "         0.60778938,  0.03458458],\n",
        "       [-0.87882026,  0.83141837,  0.12560721, -0.40673344, -0.31302589,\n",
        "         1.37121076,  2.13811278],\n",
        "       [ 1.34861617, -0.46479581,  0.33354065,  0.27564253, -0.87759648,\n",
        "         1.02565523,  1.17870924],\n",
        "       [ 1.45880972, -0.99263659, -0.25401696, -1.02498082,  0.05713705,\n",
        "         0.86425629,  0.07053777],\n",
        "       [ 1.93201462,  2.00516161, -0.96128743,  1.17496137, -0.28785271,\n",
        "         0.14765544,  1.04170719],\n",
        "       [ 0.90406846,  0.9357315 ,  0.85507914,  1.38661465, -0.08071826,\n",
        "         0.75406363,  0.43086606],\n",
        "       [ 0.01795562, -0.18034063, -0.82119425, -0.3203592 , -1.24112706,\n",
        "        -0.92102631,  1.9421995 ],\n",
        "       [-1.2003994 ,  0.19967465, -1.60476759, -0.39749681,  0.00941753,\n",
        "         0.43476619, -1.94321509],\n",
        "       [ 0.45862144, -0.42134823, -0.722285  ,  0.3661157 ,  1.12308646,\n",
        "         1.39822437,  3.14682908],\n",
        "       [-0.18567354,  0.36112142, -1.16608154,  0.83742231, -0.67260635,\n",
        "         0.32190623,  0.64139682],\n",
        "       [ 1.32956051, -0.82476907, -0.36050488,  0.46552836,  0.35240329,\n",
        "        -1.1356487 ,  0.96503506],\n",
        "       [ 0.55639175, -0.32538432,  1.55062255,  0.5778237 , -0.92571723,\n",
        "        -0.27551259, -0.96232589],\n",
        "       [-0.2619195 ,  0.24291145, -0.0332994 , -1.03394466, -1.65019764,\n",
        "        -0.9253897 ,  0.05216238],\n",
        "       [-0.61622139,  1.05218658, -1.06813195, -1.55000374, -1.53596651,\n",
        "        -0.9374773 ,  1.15581171],\n",
        "       [-0.72011005, -1.50553821,  0.44287661, -0.22114573,  2.30382055,\n",
        "        -0.52823429,  0.20495831],\n",
        "       [-0.18425308, -0.40666001, -3.04552237,  0.78360363,  1.32930426,\n",
        "        -0.43993533, -1.63059234],\n",
        "       [-0.77392719,  0.23797718,  0.04437132,  0.29286464, -0.81906397,\n",
        "        -2.09765827,  1.44475697],\n",
        "       [ 0.78933063,  0.58965267,  1.24512498, -1.00499353,  2.62473662,\n",
        "        -1.95098024, -0.15302598],\n",
        "       [ 1.62802214,  1.09614958,  0.59394018, -0.32055161,  1.17827104,\n",
        "         0.29766889, -0.1753803 ],\n",
        "       [ 0.71988788,  1.34671512, -1.13711808,  0.4278693 ,  2.51406004,\n",
        "         1.25055729, -0.97643317],\n",
        "       [ 0.2840659 ,  0.61424126,  0.17098925, -0.52495683, -0.09477214,\n",
        "         0.90984863, -0.74158222],\n",
        "       [-0.93214133,  0.39281872,  0.47756269,  1.81053621, -0.08551375,\n",
        "         0.24464511,  0.63189976],\n",
        "       [ 0.29834784, -0.18593482,  0.58516028, -0.25939254, -0.71681981,\n",
        "         0.8253102 ,  0.76719549],\n",
        "       [ 2.11652479, -0.15670377,  0.33815929,  0.9592496 ,  1.02027938,\n",
        "         0.37793099, -0.32085739],\n",
        "       [-0.0549319 ,  0.67985178, -1.26650945,  0.05161181, -0.28676492,\n",
        "         0.82546217, -0.49141756],\n",
        "       [ 0.19906185, -1.03360141, -0.02602837, -0.92029594, -1.31187011,\n",
        "         1.73960672, -1.3150939 ],\n",
        "       [ 0.33241709, -0.99589985, -0.32824102,  0.44055668, -0.20379518,\n",
        "         1.42945322,  0.4273927 ],\n",
        "       [ 0.04102443,  0.67202413,  1.22372437, -0.91299803, -0.93093728,\n",
        "        -0.45275511,  0.09179562],\n",
        "       [ 1.13832054,  0.54589012, -0.07175443, -0.49196143,  0.03167637,\n",
        "         1.67759807,  1.87642229],\n",
        "       [ 1.35596601, -0.1426794 , -1.12976825,  1.17461172,  0.77108951,\n",
        "         2.44599543, -0.91835451],\n",
        "       [-0.02333826,  1.0839853 ,  1.31090715,  0.79685335, -0.23066354,\n",
        "        -0.33473127, -0.22066356],\n",
        "       [ 0.79816053,  0.84509449, -0.24597093,  0.36898779, -0.35566566,\n",
        "         0.2264954 ,  1.39503072]])\n"
       ]
      },
      {
       "name": "stdout",
       "output_type": "stream",
       "stream": "stdout",
       "text": [
        "ipdb> axes\n"
       ]
      },
      {
       "output_type": "stream",
       "stream": "stdout",
       "text": [
        "*** IndexError: 0-d arrays can't be indexed\n"
       ]
      },
      {
       "name": "stdout",
       "output_type": "stream",
       "stream": "stdout",
       "text": [
        "ipdb> axes[0].values\n"
       ]
      },
      {
       "output_type": "stream",
       "stream": "stdout",
       "text": [
        "array(lon (50): -180.0 to 180.0\n",
        ", dtype=object)\n"
       ]
      },
      {
       "name": "stdout",
       "output_type": "stream",
       "stream": "stdout",
       "text": [
        "ipdb> q\n"
       ]
      }
     ],
     "prompt_number": 26
    },
    {
     "cell_type": "code",
     "collapsed": false,
     "input": [
      "from heapq import merge\n",
      "list(merge(['a','c','b'],['a','c']))\n",
      "import itertools\n",
      "itertools.chain?"
     ],
     "language": "python",
     "metadata": {},
     "outputs": [],
     "prompt_number": 20
    }
   ],
   "metadata": {}
  }
 ]
}