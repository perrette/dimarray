{
 "metadata": {
  "name": ""
 },
 "nbformat": 3,
 "nbformat_minor": 0,
 "worksheets": [
  {
   "cells": [
    {
     "cell_type": "heading",
     "level": 1,
     "metadata": {},
     "source": [
      "Debug Tests"
     ]
    },
    {
     "cell_type": "code",
     "collapsed": false,
     "input": [
      "import dimarray.core as da\n",
      "import dimarray.transform as tr\n",
      "import dimarray.metadata as md\n",
      "import dimarray.axes as ax\n",
      "import dimarray.ncio as nc\n",
      "import dimarray.collect as co\n",
      "#reload(md)\n",
      "#reload(ax)\n",
      "#reload(tr)\n",
      "#reload(da)\n",
      "#reload(nc)\n",
      "#reload(co)\n",
      "#da.DimArray(np.arange(5)*2, [('time',arange(5))])\n",
      "v = da.array(randn(2,5,7), time=arange(1950,1955), lat=linspace(-90,90,7), items=array(['greenland','antarctica']))\n",
      "v"
     ],
     "language": "python",
     "metadata": {},
     "outputs": [
      {
       "metadata": {},
       "output_type": "pyout",
       "prompt_number": 3,
       "text": [
        "dimarray: 70 non-null elements (0 null)\n",
        "dimensions: items x time x lat\n",
        "items (2): greenland to antarctica\n",
        "time (5): 1950 to 1954\n",
        "lat (7): -90.0 to 90.0\n",
        "array([[[ 1.77712164, -2.82768237, -1.5090222 ,  0.55410724, -1.75195787,\n",
        "         -1.42516231,  1.10514966],\n",
        "        [-0.96520033, -1.56997528,  0.55803007, -0.87346471,  0.5143365 ,\n",
        "         -1.35627978,  1.19528669],\n",
        "        [-1.28640195, -0.21408378, -0.44733236, -1.95927034,  1.63343338,\n",
        "         -0.41585126,  0.81845652],\n",
        "        [ 0.50465335, -0.09918707,  0.33369839, -1.01747909,  1.00701105,\n",
        "          1.17654742, -1.29452905],\n",
        "        [-0.44895255, -1.58136496,  0.25439182,  0.62793984,  0.50975137,\n",
        "          0.37283942, -0.3086031 ]],\n",
        "\n",
        "       [[-0.72568543, -0.22488204, -0.52527294,  1.49542867, -1.43284164,\n",
        "         -0.78426079,  0.43010476],\n",
        "        [ 0.46922032, -0.44465159, -1.10470971, -1.31192661, -0.97941739,\n",
        "          0.81201094, -0.12878432],\n",
        "        [ 0.42439016, -0.14266157, -0.07473252, -0.18167043, -0.63320661,\n",
        "         -0.91545799,  0.49286822],\n",
        "        [ 0.80189423,  0.93520907, -1.50669289,  0.45217733,  0.99633124,\n",
        "         -0.56427472,  1.65315251],\n",
        "        [ 0.66339043, -0.0482873 ,  1.23476136, -1.52649465, -0.33197865,\n",
        "         -1.92176937, -0.52642318]]])"
       ]
      }
     ],
     "prompt_number": 3
    },
    {
     "cell_type": "code",
     "collapsed": false,
     "input": [
      "w = nc.read(\"test2.nc\")\n",
      "w['myvarstr']\n",
      "#nc.summary(\"test2.nc\")\n",
      "w"
     ],
     "language": "python",
     "metadata": {},
     "outputs": [
      {
       "output_type": "stream",
       "stream": "stdout",
       "text": [
        "read from test2.nc\n"
       ]
      },
      {
       "metadata": {},
       "output_type": "pyout",
       "prompt_number": 4,
       "text": [
        "Dataset of 1 variables\n",
        "\n",
        "dimarray: 70 non-null elements (0 null)\n",
        "name: myvarstr\n",
        "dimensions: items x time x lat\n",
        "items (2): greenland to antarctica\n",
        "time (5): 1950 to 1954\n",
        "lat (7): -90.0 to 90.0\n",
        "array([[[ -1.11640409e+00,  -1.44438684e-01,  -3.96962508e-02,\n",
        "          -1.50404137e+00,   2.85520588e-02,  -8.87685207e-01,\n",
        "          -1.13034698e-01],\n",
        "        [ -1.14845271e+00,  -8.04354971e-01,   2.19329697e+00,\n",
        "          -1.52002839e-01,   4.11124411e-01,  -5.57104647e-01,\n",
        "          -1.12217380e+00],\n",
        "        [  1.13064193e+00,  -4.56822472e-01,   1.85650142e+00,\n",
        "           1.28096092e+00,  -9.55768033e-01,   2.94356209e+00,\n",
        "          -7.07758660e-01],\n",
        "        [  3.22043647e-01,  -2.35963864e+00,  -3.06753927e-01,\n",
        "          -1.14822378e+00,  -8.20934898e-01,   6.33565693e-01,\n",
        "          -8.34411223e-02],\n",
        "        [ -2.18350113e+00,   6.89243911e-01,  -2.08899030e-02,\n",
        "           9.85226015e-01,  -1.76932975e+00,  -1.95611749e+00,\n",
        "           1.01185520e+00]],\n",
        "\n",
        "       [[  1.60697661e+00,   1.59460460e-01,   4.08736712e-01,\n",
        "           6.27304529e-01,  -2.26853850e-01,  -1.19835600e+00,\n",
        "           6.57866063e-03],\n",
        "        [ -6.07599920e-01,  -4.29122791e-01,  -2.69559095e+00,\n",
        "          -1.09466761e+00,  -8.00416097e-01,  -6.93045072e-01,\n",
        "           6.13382749e-01],\n",
        "        [  1.46721106e+00,   5.71975170e-01,  -8.09676331e-01,\n",
        "           5.30152435e-01,  -1.42499023e+00,   5.29255226e-01,\n",
        "           2.82687365e+00],\n",
        "        [ -2.83498558e-01,  -1.59027058e-01,  -1.82209522e-01,\n",
        "          -3.99670359e-02,   1.60154078e-03,   5.46375592e-01,\n",
        "           8.94030000e-01],\n",
        "        [  6.80598379e-01,  -1.13060226e-01,  -1.00800733e+00,\n",
        "           1.23106976e+00,   8.85801112e-01,  -1.34728623e+00,\n",
        "           2.20562380e+00]]])"
       ]
      }
     ],
     "prompt_number": 4
    },
    {
     "cell_type": "code",
     "collapsed": false,
     "input": [
      "%debug"
     ],
     "language": "python",
     "metadata": {},
     "outputs": [
      {
       "output_type": "stream",
       "stream": "stdout",
       "text": [
        "> \u001b[1;32m/home/perrette/Projects/dimarray/dimarray/ncio.py\u001b[0m(186)\u001b[0;36mread_variable\u001b[1;34m()\u001b[0m\n",
        "\u001b[1;32m    185 \u001b[1;33m\u001b[1;33m\u001b[0m\u001b[0m\n",
        "\u001b[0m\u001b[1;32m--> 186 \u001b[1;33m    \u001b[1;36m1\u001b[0m\u001b[1;33m/\u001b[0m\u001b[1;36m0\u001b[0m\u001b[1;33m\u001b[0m\u001b[0m\n",
        "\u001b[0m\u001b[1;32m    187 \u001b[1;33m\u001b[1;33m\u001b[0m\u001b[0m\n",
        "\u001b[0m\n"
       ]
      },
      {
       "name": "stdout",
       "output_type": "stream",
       "stream": "stdout",
       "text": [
        "ipdb> obj\n"
       ]
      },
      {
       "output_type": "stream",
       "stream": "stdout",
       "text": [
        "dimarray: 70 non-null elements (0 null)\n",
        "name: myvarstr\n",
        "dimensions: items x time x lat\n",
        "items (2): greenland to antarctica\n",
        "time (5): 1950 to 1954\n",
        "lat (7): -90.0 to 90.0\n",
        "array([[[ -1.11640409e+00,  -1.44438684e-01,  -3.96962508e-02,\n",
        "          -1.50404137e+00,   2.85520588e-02,  -8.87685207e-01,\n",
        "          -1.13034698e-01],\n",
        "        [ -1.14845271e+00,  -8.04354971e-01,   2.19329697e+00,\n",
        "          -1.52002839e-01,   4.11124411e-01,  -5.57104647e-01,\n",
        "          -1.12217380e+00],\n",
        "        [  1.13064193e+00,  -4.56822472e-01,   1.85650142e+00,\n",
        "           1.28096092e+00,  -9.55768033e-01,   2.94356209e+00,\n",
        "          -7.07758660e-01],\n",
        "        [  3.22043647e-01,  -2.35963864e+00,  -3.06753927e-01,\n",
        "          -1.14822378e+00,  -8.20934898e-01,   6.33565693e-01,\n",
        "          -8.34411223e-02],\n",
        "        [ -2.18350113e+00,   6.89243911e-01,  -2.08899030e-02,\n",
        "           9.85226015e-01,  -1.76932975e+00,  -1.95611749e+00,\n",
        "           1.01185520e+00]],\n",
        "\n",
        "       [[  1.60697661e+00,   1.59460460e-01,   4.08736712e-01,\n",
        "           6.27304529e-01,  -2.26853850e-01,  -1.19835600e+00,\n",
        "           6.57866063e-03],\n",
        "        [ -6.07599920e-01,  -4.29122791e-01,  -2.69559095e+00,\n",
        "          -1.09466761e+00,  -8.00416097e-01,  -6.93045072e-01,\n",
        "           6.13382749e-01],\n",
        "        [  1.46721106e+00,   5.71975170e-01,  -8.09676331e-01,\n",
        "           5.30152435e-01,  -1.42499023e+00,   5.29255226e-01,\n",
        "           2.82687365e+00],\n",
        "        [ -2.83498558e-01,  -1.59027058e-01,  -1.82209522e-01,\n",
        "          -3.99670359e-02,   1.60154078e-03,   5.46375592e-01,\n",
        "           8.94030000e-01],\n",
        "        [  6.80598379e-01,  -1.13060226e-01,  -1.00800733e+00,\n",
        "           1.23106976e+00,   8.85801112e-01,  -1.34728623e+00,\n",
        "           2.20562380e+00]]])\n"
       ]
      },
      {
       "name": "stdout",
       "output_type": "stream",
       "stream": "stdout",
       "text": [
        "ipdb> q\n"
       ]
      }
     ],
     "prompt_number": 55
    },
    {
     "cell_type": "code",
     "collapsed": false,
     "input": [
      "mymap = da.array(randn(50,7), lon=linspace(-180,180,50), lat=linspace(-90,90,7))\n",
      "ts = da.Dimarray(np.arange(5), ('time',arange(1950,1955)))\n",
      "ts2 = da.Dimarray(np.arange(10), ('time',arange(1950,1960)))\n",
      "\n",
      "mymap*ts\n",
      "mymap.axes['lat'].weights = lambda x: np.cos(np.radians(x))\n",
      "mymap.axes['lat'].get_weights().reshape(('lat','lon'))\n",
      "\n",
      "#da.Dimarray(randn(5,4))\n",
      "#da.Dimarray(randn(5,4), 'd0','d1')\n",
      "#da.Dimarray(randn(5,4), list(\"abcde\"), list(\"1234\"))\n",
      "#da.Dimarray(randn(5,4), ('d0',list(\"abcde\")), ('d1',list(\"1234\")))\n",
      "da.array(randn(5,4), d0=list(\"abcde\"), d1=list(\"1234\"))"
     ],
     "language": "python",
     "metadata": {},
     "outputs": [
      {
       "metadata": {},
       "output_type": "pyout",
       "prompt_number": 39,
       "text": [
        "dimarray: 20 non-null elements (0 null)\n",
        "dimensions: d0 x d1\n",
        "d0 (5): a to e\n",
        "d1 (4): 1 to 4\n",
        "array([[-0.62032334,  1.78515029,  0.50826807, -0.3459891 ],\n",
        "       [ 0.62775172, -1.04268162, -0.41795475,  0.06560869],\n",
        "       [-0.27374943,  0.71389647,  0.49348166,  0.35097513],\n",
        "       [-1.96595688,  0.36468175,  0.02319292, -1.40882953],\n",
        "       [ 0.84506349, -1.22757156, -0.31217573, -0.74679186]])"
       ]
      }
     ],
     "prompt_number": 39
    },
    {
     "cell_type": "markdown",
     "metadata": {},
     "source": [
      "Interpolation / regridding"
     ]
    },
    {
     "cell_type": "code",
     "collapsed": false,
     "input": [
      "#w = v.reindex_axis(arange(1940,1960), axis='time') \n",
      "v = da.array(randn(5,7), time=arange(1950,1955), lon=linspace(-90,90,7))\n",
      "w = v.interp1d(arange(1948.,1960,2), axis='time')\n",
      "%matplotlib inline\n",
      "clf()\n",
      "plot(v.time, v.values[:,0], label='original')\n",
      "plot(w.time, w.values[:,0], label='interp')\n",
      "legend()"
     ],
     "language": "python",
     "metadata": {},
     "outputs": []
    },
    {
     "cell_type": "markdown",
     "metadata": {},
     "source": [
      "multi-dimension operation / alignment"
     ]
    },
    {
     "cell_type": "markdown",
     "metadata": {},
     "source": [
      "NetCDF I/O"
     ]
    },
    {
     "cell_type": "code",
     "collapsed": false,
     "input": [
      "v = da.array(randn(2,5,7), time=arange(1950,1955), lat=linspace(-90,90,7), items=array(['greenland','antarctica']))\n",
      "v.save(\"test2.nc\",\"myvarstr\")"
     ],
     "language": "python",
     "metadata": {},
     "outputs": []
    },
    {
     "cell_type": "code",
     "collapsed": false,
     "input": [
      "from heapq import merge\n",
      "list(merge(['a','c','b'],['a','c']))\n",
      "import itertools\n",
      "itertools.chain?"
     ],
     "language": "python",
     "metadata": {},
     "outputs": [],
     "prompt_number": 20
    }
   ],
   "metadata": {}
  }
 ]
}