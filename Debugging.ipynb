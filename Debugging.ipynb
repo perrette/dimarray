{
 "metadata": {
  "name": ""
 },
 "nbformat": 3,
 "nbformat_minor": 0,
 "worksheets": [
  {
   "cells": [
    {
     "cell_type": "heading",
     "level": 1,
     "metadata": {},
     "source": [
      "Debug Tests"
     ]
    },
    {
     "cell_type": "code",
     "collapsed": false,
     "input": [
      "# Test basearray\n",
      "import numpy as np\n",
      "import dimarray.basearray as ba\n",
      "reload(ba)\n",
      "a = ba.get_testdata()\n",
      "values = a.values\n",
      "ba.test_doc()"
     ],
     "language": "python",
     "metadata": {},
     "outputs": []
    },
    {
     "cell_type": "code",
     "collapsed": false,
     "input": [
      "# Test nanarray\n",
      "import dimarray.nanarray as na\n",
      "reload(na)\n",
      "a = na.get_testdata()\n",
      "na.test_doc()"
     ],
     "language": "python",
     "metadata": {},
     "outputs": []
    },
    {
     "cell_type": "code",
     "collapsed": false,
     "input": [
      "# Test laxarray\n",
      "import dimarray.laxarray as la\n",
      "reload(la)\n",
      "a = la.get_testdata()\n",
      "la.test_doc()\n",
      "#la.test_readme()"
     ],
     "language": "python",
     "metadata": {},
     "outputs": [
      {
       "output_type": "stream",
       "stream": "stdout",
       "text": [
        "**********************************************************************\n",
        "File \"dimarray/laxarray.py\", line 403, in dimarray.laxarray.LaxArray.xs\n",
        "Failed example:\n",
        "    a.xs(lon=(0,5,2))        # as a tuple step > 1\n",
        "Expected:\n",
        "    dimensions(5, 3): lat, lon\n",
        "    array([[ 0.,  2.,  4.],\n",
        "           [ 1.,  3.,  5.],\n",
        "           [ 2.,  4.,  6.],\n",
        "           [ 3.,  5.,  7.],\n",
        "Got:\n",
        "    dimensions(5, 3): lat, lon\n",
        "    array([[ 0.,  2.,  4.],\n",
        "           [ 1.,  3.,  5.],\n",
        "           [ 2.,  4.,  6.],\n",
        "           [ 3.,  5.,  7.],\n",
        "           [ 4.,  6.,  8.]])\n",
        "**********************************************************************\n",
        "1 items had failures:\n",
        "   1 of   8 in dimarray.laxarray.LaxArray.xs\n",
        "***Test Failed*** 1 failures.\n"
       ]
      },
      {
       "metadata": {},
       "output_type": "pyout",
       "prompt_number": 4,
       "text": [
        "TestResults(failed=1, attempted=41)"
       ]
      }
     ],
     "prompt_number": 4
    },
    {
     "cell_type": "code",
     "collapsed": false,
     "input": [
      "a.xs(lat=3, lon=5)"
     ],
     "language": "python",
     "metadata": {},
     "outputs": [
      {
       "ename": "TypeError",
       "evalue": "_xs_axis() got an unexpected keyword argument 'lat'",
       "output_type": "pyerr",
       "traceback": [
        "\u001b[1;31m---------------------------------------------------------------------------\u001b[0m\n\u001b[1;31mTypeError\u001b[0m                                 Traceback (most recent call last)",
        "\u001b[1;32m<ipython-input-3-399b31d5b1ef>\u001b[0m in \u001b[0;36m<module>\u001b[1;34m()\u001b[0m\n\u001b[1;32m----> 1\u001b[1;33m \u001b[0ma\u001b[0m\u001b[1;33m.\u001b[0m\u001b[0mxs\u001b[0m\u001b[1;33m(\u001b[0m\u001b[0mlat\u001b[0m\u001b[1;33m=\u001b[0m\u001b[1;36m3\u001b[0m\u001b[1;33m,\u001b[0m \u001b[0mlon\u001b[0m\u001b[1;33m=\u001b[0m\u001b[1;36m5\u001b[0m\u001b[1;33m)\u001b[0m\u001b[1;33m\u001b[0m\u001b[0m\n\u001b[0m",
        "\u001b[1;31mTypeError\u001b[0m: _xs_axis() got an unexpected keyword argument 'lat'"
       ]
      }
     ],
     "prompt_number": 3
    },
    {
     "cell_type": "code",
     "collapsed": false,
     "input": [
      "q\n"
     ],
     "language": "python",
     "metadata": {},
     "outputs": [
      {
       "output_type": "stream",
       "stream": "stdout",
       "text": [
        "> \u001b[1;32m<ipython-input-3-399b31d5b1ef>\u001b[0m(1)\u001b[0;36m<module>\u001b[1;34m()\u001b[0m\n",
        "\u001b[1;32m----> 1 \u001b[1;33m\u001b[0ma\u001b[0m\u001b[1;33m.\u001b[0m\u001b[0mxs\u001b[0m\u001b[1;33m(\u001b[0m\u001b[0mlat\u001b[0m\u001b[1;33m=\u001b[0m\u001b[1;36m3\u001b[0m\u001b[1;33m,\u001b[0m \u001b[0mlon\u001b[0m\u001b[1;33m=\u001b[0m\u001b[1;36m5\u001b[0m\u001b[1;33m)\u001b[0m\u001b[1;33m\u001b[0m\u001b[0m\n",
        "\u001b[0m\n"
       ]
      },
      {
       "name": "stdout",
       "output_type": "stream",
       "stream": "stdout",
       "text": [
        "ipdb> q\n"
       ]
      }
     ],
     "prompt_number": 4
    }
   ],
   "metadata": {}
  }
 ]
}