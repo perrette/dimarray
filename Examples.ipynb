{
 "metadata": {
  "name": ""
 },
 "nbformat": 3,
 "nbformat_minor": 0,
 "worksheets": [
  {
   "cells": [
    {
     "cell_type": "heading",
     "level": 1,
     "metadata": {},
     "source": [
      "Examples / Debug Tests"
     ]
    },
    {
     "cell_type": "code",
     "collapsed": false,
     "input": [
      "import dimarray.core as da\n",
      "import dimarray.transform as tr\n",
      "import dimarray.metadata as md\n",
      "import dimarray.axes as ax\n",
      "import dimarray.ncio as nc\n",
      "import dimarray.collect as co"
     ],
     "language": "python",
     "metadata": {},
     "outputs": [],
     "prompt_number": 1
    },
    {
     "cell_type": "markdown",
     "metadata": {},
     "source": [
      "Define a Dimarray"
     ]
    },
    {
     "cell_type": "code",
     "collapsed": false,
     "input": [
      "#from dimarray import datasets\n",
      "values = randn(3,5)\n",
      "a= da.Dimarray(values)\n",
      "b= da.Dimarray(values, 'items','time')\n",
      "c= da.Dimarray(values, list(\"abc\"), np.arange(1950,1955))\n",
      "d= da.Dimarray(values, ('items',list(\"abc\")), ('time',np.arange(1950,1955)))\n",
      "e= da.Dimarray.from_kw(values, items=list(\"abc\"), time=np.arange(1950,1955))\n",
      "f= da.array(values, items=list(\"abc\"), time=np.arange(1950,1955))\n",
      "print e\n",
      "assert np.all(d == e == f) == True"
     ],
     "language": "python",
     "metadata": {},
     "outputs": [
      {
       "output_type": "stream",
       "stream": "stdout",
       "text": [
        "dimarray: 15 non-null elements (0 null)\n",
        "dimensions: 'items', 'time'\n",
        "0 / items (3): a to c\n",
        "1 / time (5): 1950 to 1954\n",
        "array([[-0.61530054, -0.59143645,  0.24764348,  0.74776574,  1.91941714],\n",
        "       [ 0.35995869,  1.6015071 , -1.48069072,  0.67446469,  0.09483872],\n",
        "       [ 0.3388976 , -0.44333001, -0.18649049, -0.96999045, -0.31698655]])\n"
       ]
      }
     ],
     "prompt_number": 2
    },
    {
     "cell_type": "markdown",
     "metadata": {},
     "source": [
      "Indexing / Slicing"
     ]
    },
    {
     "cell_type": "code",
     "collapsed": false,
     "input": [
      "#reload(md)\n",
      "#reload(ax)\n",
      "#reload(tr)\n",
      "#reload(da)\n",
      "#reload(co)\n",
      "#da.DimArray(np.arange(5)*2, [('time',arange(5))])\n",
      "random.seed(0)\n",
      "v = da.array(randn(2,5,7), time=arange(1950,1955), lat=linspace(-90,90,7), items=array(['greenland','antarctica']))\n",
      "#v = da.Dimarray.from_kw(values, items=list(\"abc\"), time=np.arange(1950,1955))\n",
      "v"
     ],
     "language": "python",
     "metadata": {},
     "outputs": [
      {
       "metadata": {},
       "output_type": "pyout",
       "prompt_number": 3,
       "text": [
        "dimarray: 70 non-null elements (0 null)\n",
        "dimensions: 'items', 'time', 'lat'\n",
        "0 / items (2): greenland to antarctica\n",
        "1 / time (5): 1950 to 1954\n",
        "2 / lat (7): -90.0 to 90.0\n",
        "array([[[ 1.76405235,  0.40015721,  0.97873798,  2.2408932 ,  1.86755799,\n",
        "         -0.97727788,  0.95008842],\n",
        "        [-0.15135721, -0.10321885,  0.4105985 ,  0.14404357,  1.45427351,\n",
        "          0.76103773,  0.12167502],\n",
        "        [ 0.44386323,  0.33367433,  1.49407907, -0.20515826,  0.3130677 ,\n",
        "         -0.85409574, -2.55298982],\n",
        "        [ 0.6536186 ,  0.8644362 , -0.74216502,  2.26975462, -1.45436567,\n",
        "          0.04575852, -0.18718385],\n",
        "        [ 1.53277921,  1.46935877,  0.15494743,  0.37816252, -0.88778575,\n",
        "         -1.98079647, -0.34791215]],\n",
        "\n",
        "       [[ 0.15634897,  1.23029068,  1.20237985, -0.38732682, -0.30230275,\n",
        "         -1.04855297, -1.42001794],\n",
        "        [-1.70627019,  1.9507754 , -0.50965218, -0.4380743 , -1.25279536,\n",
        "          0.77749036, -1.61389785],\n",
        "        [-0.21274028, -0.89546656,  0.3869025 , -0.51080514, -1.18063218,\n",
        "         -0.02818223,  0.42833187],\n",
        "        [ 0.06651722,  0.3024719 , -0.63432209, -0.36274117, -0.67246045,\n",
        "         -0.35955316, -0.81314628],\n",
        "        [-1.7262826 ,  0.17742614, -0.40178094, -1.63019835,  0.46278226,\n",
        "         -0.90729836,  0.0519454 ]]])"
       ]
      }
     ],
     "prompt_number": 3
    },
    {
     "cell_type": "code",
     "collapsed": false,
     "input": [
      "# Basic indexing\n",
      "v[:,:,60]\n",
      "v.ix[:,:,5]\n",
      "\n",
      "v.xs(lat=60)\n",
      "v.xs(60, axis='lat')\n",
      "v.xs(5, axis='lat', method='numpy')\n",
      "v.xs(lat=5, method='numpy')\n",
      "\n",
      "assert np.all(v.xs(lat=60) == v.xs(60, axis='lat') == v.xs(5, axis='lat', method='numpy') == v.xs(lat=5, method='numpy')\n",
      " \\\n",
      "              == v[:,:,60] == v.ix[:,:,5])\n",
      "\n",
      "print \"KEEP DIMS:\\n\\n\", v.xs(lat=60, items='greenland', keepdims=True)\n",
      "v.xs(lat=60, items='greenland')"
     ],
     "language": "python",
     "metadata": {},
     "outputs": [
      {
       "output_type": "stream",
       "stream": "stdout",
       "text": [
        "KEEP DIMS:\n",
        "\n",
        "dimarray: 5 non-null elements (0 null)\n",
        "dimensions: 'items', 'time', 'lat'\n",
        "0 / items (1): greenland to greenland\n",
        "1 / time (5): 1950 to 1954\n",
        "2 / lat (1): 60.0 to 60.0\n",
        "array([[[-0.97727788],\n",
        "        [ 0.76103773],\n",
        "        [-0.85409574],\n",
        "        [ 0.04575852],\n",
        "        [-1.98079647]]])\n"
       ]
      },
      {
       "metadata": {},
       "output_type": "pyout",
       "prompt_number": 4,
       "text": [
        "dimarray: 5 non-null elements (0 null)\n",
        "stamp: [\"lat=60.0\", \"items=greenland\"]\n",
        "dimensions: 'time'\n",
        "0 / time (5): 1950 to 1954\n",
        "array([-0.97727788,  0.76103773, -0.85409574,  0.04575852, -1.98079647])"
       ]
      }
     ],
     "prompt_number": 4
    },
    {
     "cell_type": "code",
     "collapsed": false,
     "input": [
      "# Nearest and interp indexing\n",
      "x = v.xs(lat=60)\n",
      "print \"Lat=60\\n\", x\n",
      "try:\n",
      "    v.xs(lat=50)\n",
      "except:\n",
      "    print \"\\n50 not present, try nearest:\\n\"\n",
      "    x = v.xs(lat=50, method='nearest')\n",
      "    print x\n",
      "\n",
      "print \"\\ninterp method, lat=50:\\n\"\n",
      "x = v.xs(lat=50, method='interp')\n",
      "print x"
     ],
     "language": "python",
     "metadata": {},
     "outputs": [
      {
       "output_type": "stream",
       "stream": "stdout",
       "text": [
        "Lat=60\n",
        "dimarray: 10 non-null elements (0 null)\n",
        "stamp: [\"lat=60.0\"]\n",
        "dimensions: 'items', 'time'\n",
        "0 / items (2): greenland to antarctica\n",
        "1 / time (5): 1950 to 1954\n",
        "array([[-0.97727788,  0.76103773, -0.85409574,  0.04575852, -1.98079647],\n",
        "       [-1.04855297,  0.77749036, -0.02818223, -0.35955316, -0.90729836]])\n",
        "\n",
        "50 not present, try nearest:\n",
        "\n",
        "dimarray: 10 non-null elements (0 null)\n",
        "stamp: [\"lat=60.0\"]\n",
        "dimensions: 'items', 'time'\n",
        "0 / items (2): greenland to antarctica\n",
        "1 / time (5): 1950 to 1954\n",
        "array([[-0.97727788,  0.76103773, -0.85409574,  0.04575852, -1.98079647],\n",
        "       [-1.04855297,  0.77749036, -0.02818223, -0.35955316, -0.90729836]])\n",
        "\n",
        "interp method, lat=50:\n",
        "\n",
        "dimarray: 10 non-null elements (0 null)\n",
        "dimensions: 'items', 'time'\n",
        "0 / items (2): greenland to antarctica\n",
        "1 / time (5): 1950 to 1954\n",
        "array([[-0.02899926,  0.99211632, -0.46504126, -0.45428288, -1.61645956],\n",
        "       [-0.79980289,  0.10072845, -0.41233221, -0.46385559, -0.45060482]])\n"
       ]
      }
     ],
     "prompt_number": 5
    },
    {
     "cell_type": "markdown",
     "metadata": {},
     "source": [
      "Repeat array to match dimensions of another array"
     ]
    },
    {
     "cell_type": "code",
     "collapsed": false,
     "input": [
      "# Single axis:\n",
      ">>> a = da.Dimarray.from_kw(arange(2), lon=[30., 40.])\n",
      ">>> b = a.reshape(('time','lon'))\n",
      ">>> b.repeat(np.arange(1950,1955), axis=\"time\")  # doctest: +ELLIPSIS\n",
      "\n",
      "# Multi-axis\n",
      "# ...create some dummy data:\n",
      ">>> lon = np.linspace(10, 30, 2)\n",
      ">>> lat = np.linspace(10, 50, 3)\n",
      ">>> time = np.arange(1950,1955)\n",
      ">>> ts = da.Dimarray.from_kw(np.arange(5), time=time)\n",
      ">>> cube = da.Dimarray.from_kw(np.zeros((3,2,5)), lon=lon, lat=lat, time=time)  # lat x lon x time\n",
      ">>> cube.axes  # doctest: +ELLIPSIS\n",
      "\n",
      "# ...expand from variable list\n",
      "## NEED DEBUG !\n",
      "#>>> ts3D = ts.repeat_like(cube) #  lat x lon x time"
     ],
     "language": "python",
     "metadata": {},
     "outputs": [
      {
       "metadata": {},
       "output_type": "pyout",
       "prompt_number": 6,
       "text": [
        "dimensions: 'lat', 'lon', 'time'\n",
        "0 / lat (3): 10.0 to 50.0\n",
        "1 / lon (2): 10.0 to 30.0\n",
        "2 / time (5): 1950 to 1954"
       ]
      }
     ],
     "prompt_number": 6
    },
    {
     "cell_type": "markdown",
     "metadata": {},
     "source": [
      "Align data, Dataset object"
     ]
    },
    {
     "cell_type": "code",
     "collapsed": false,
     "input": [
      "#reload(da)\n",
      "#reload(co)\n",
      "seed(0)\n",
      "mymap = da.array(randn(50,7), lon=linspace(-180,180,50), lat=linspace(-90,90,7))\n",
      "ts = da.Dimarray(np.arange(5), ('time',arange(1950,1955)))\n",
      "ts2 = da.Dimarray(np.arange(10), ('time',arange(1950,1960)))"
     ],
     "language": "python",
     "metadata": {},
     "outputs": [],
     "prompt_number": 7
    },
    {
     "cell_type": "code",
     "collapsed": false,
     "input": [
      "# Define a Dataset made of several variables\n",
      "data = co.Dataset({'ts':ts, 'ts2':ts2, 'mymap':mymap})\n",
      "data = co.Dataset([ts, ts2, mymap], keys=['ts','ts2','mymap'])\n",
      "print data"
     ],
     "language": "python",
     "metadata": {},
     "outputs": [
      {
       "output_type": "stream",
       "stream": "stdout",
       "text": [
        "Dataset of 3 variables\n",
        "dimensions: 'time', 'lon', 'lat'\n",
        "0 / time (10): 1950 to 1959\n",
        "1 / lon (50): -180.0 to 180.0\n",
        "2 / lat (7): -90.0 to 90.0\n",
        "ts: time\n",
        "ts2: time\n",
        "mymap: lon, lat\n"
       ]
      }
     ],
     "prompt_number": 8
    },
    {
     "cell_type": "code",
     "collapsed": false,
     "input": [
      "# Check data alignment\n",
      "print data['ts']\n",
      "print \"\"\n",
      "print data['ts2']"
     ],
     "language": "python",
     "metadata": {},
     "outputs": [
      {
       "output_type": "stream",
       "stream": "stdout",
       "text": [
        "dimarray: 5 non-null elements (5 null)\n",
        "name: ts\n",
        "dimensions: 'time'\n",
        "0 / time (10): 1950 to 1959\n",
        "array([  0.,   1.,   2.,   3.,   4.,  nan,  nan,  nan,  nan,  nan])\n",
        "\n",
        "dimarray: 10 non-null elements (0 null)\n",
        "name: ts2\n",
        "dimensions: 'time'\n",
        "0 / time (10): 1950 to 1959\n",
        "array([0, 1, 2, 3, 4, 5, 6, 7, 8, 9])\n"
       ]
      }
     ],
     "prompt_number": 9
    },
    {
     "cell_type": "code",
     "collapsed": false,
     "input": [
      "# Export to a Dimarray\n",
      "data.to_array()"
     ],
     "language": "python",
     "metadata": {},
     "outputs": [
      {
       "metadata": {},
       "output_type": "pyout",
       "prompt_number": 10,
       "text": [
        "dimarray: 8750 non-null elements (1750 null)\n",
        "dimensions: 'items', 'time', 'lon', 'lat'\n",
        "0 / items (3): ts to mymap\n",
        "1 / time (10): 1950 to 1959\n",
        "2 / lon (50): -180.0 to 180.0\n",
        "3 / lat (7): -90.0 to 90.0"
       ]
      }
     ],
     "prompt_number": 10
    },
    {
     "cell_type": "code",
     "collapsed": false,
     "input": [
      "# add anoter data along a different axis\n",
      "data['test'] = da.Dimarray([0],('items',['greenland']))\n",
      "print data\n",
      "\n",
      "# Export "
     ],
     "language": "python",
     "metadata": {},
     "outputs": [
      {
       "output_type": "stream",
       "stream": "stdout",
       "text": [
        "Dataset of 4 variables\n",
        "dimensions: 'time', 'lon', 'lat', 'items'\n",
        "0 / time (10): 1950 to 1959\n",
        "1 / lon (50): -180.0 to 180.0\n",
        "2 / lat (7): -90.0 to 90.0\n",
        "3 / items (1): greenland to greenland\n",
        "ts: time\n",
        "ts2: time\n",
        "mymap: lon, lat\n",
        "test: items\n"
       ]
      }
     ],
     "prompt_number": 11
    },
    {
     "cell_type": "markdown",
     "metadata": {},
     "source": [
      "Multi-dimension operation / alignment"
     ]
    },
    {
     "cell_type": "code",
     "collapsed": false,
     "input": [
      "mymap*ts\n",
      "ts+ts2"
     ],
     "language": "python",
     "metadata": {},
     "outputs": [
      {
       "metadata": {},
       "output_type": "pyout",
       "prompt_number": 12,
       "text": [
        "dimarray: 5 non-null elements (5 null)\n",
        "dimensions: 'time'\n",
        "0 / time (10): 1950 to 1959\n",
        "array([  0.,   2.,   4.,   6.,   8.,  nan,  nan,  nan,  nan,  nan])"
       ]
      }
     ],
     "prompt_number": 12
    },
    {
     "cell_type": "markdown",
     "metadata": {},
     "source": [
      "Transformation"
     ]
    },
    {
     "cell_type": "code",
     "collapsed": false,
     "input": [
      "np.random.seed(0)\n",
      "v = da.array(randn(5,7), time=arange(1950,1955), lat=linspace(-90,90,7))"
     ],
     "language": "python",
     "metadata": {},
     "outputs": [],
     "prompt_number": 13
    },
    {
     "cell_type": "code",
     "collapsed": false,
     "input": [
      "# BASIC TRANSFORMS: REDUCE AXIS\n",
      "\n",
      "v.sum() # sum over all axes\n",
      "v.sum(axis=0) # sum over first axis\n",
      "v.sum(axis='time') # named axis\n",
      "v.prod(axis='time') # named axis\n",
      "v.mean(axis='time') # named axis\n",
      "v.var(axis='time') # named axis\n",
      "v.std(axis='time') # named axis\n",
      "v.median(axis='time') # named axis\n",
      "v.min(axis='time') # named axis\n",
      "v.max(axis='time') # named axis\n",
      "v.ptp(axis='time') # named axis\n",
      "v.all(axis='time') # named axis\n",
      "v.any(axis='time') # named axis"
     ],
     "language": "python",
     "metadata": {},
     "outputs": [
      {
       "metadata": {},
       "output_type": "pyout",
       "prompt_number": 14,
       "text": [
        "dimarray: 7 non-null elements (0 null)\n",
        "stamp: [\"any(time(5)=1950:1954)\"]\n",
        "dimensions: 'lat'\n",
        "0 / lat (7): -90.0 to 90.0\n",
        "array([ True,  True,  True,  True,  True,  True,  True], dtype=bool)"
       ]
      }
     ],
     "prompt_number": 14
    },
    {
     "cell_type": "code",
     "collapsed": false,
     "input": [
      "# ARGMIN/ARGMAX: return axis value \n",
      "v.argmin(axis='time') \n",
      "v.argmin() # over all axes\n",
      "v.argmax(axis='time') \n",
      "v.argmax() # over all axes\n",
      "assert v[v.argmax()] == v.max(), \"problem with argmax/max\"\n",
      "assert v[v.argmin()] == v.min(), \"problem with argmin/min\"\n",
      "#[v.iloc[i] for i, ix in enumerate(v.argmax(axis=1).values)]\n",
      "#[v.iloc[i][90] for i, ix in enumerate(v.argmax(axis=1).values)]\n",
      "#[(ix, v.ix[i]) for i, ix in enumerate(v.argmax(axis=1).values)]\n",
      "#[v.ix[i][ix] for i, ix in enumerate(v.argmax(axis=1).values)]\n",
      "res = np.array([v.ix[i][ix] for i, ix in enumerate(v.argmax(axis=1).values)])\n",
      "assert np.all(res == v.max(axis=1)), \"problem with argmax/max\""
     ],
     "language": "python",
     "metadata": {},
     "outputs": [],
     "prompt_number": 15
    },
    {
     "cell_type": "code",
     "collapsed": false,
     "input": [
      "# CUMSUM/CUMPROD: KEEP AXIS\n",
      "v.cumsum() # last axis\n",
      "v.cumsum(axis=None) # return numpy array\n",
      "assert np.all(v.cumsum(axis=-1) == v.cumsum()), \"default last axis\""
     ],
     "language": "python",
     "metadata": {},
     "outputs": [],
     "prompt_number": 16
    },
    {
     "cell_type": "code",
     "collapsed": false,
     "input": [
      "# DIFF\n",
      "v.diff(axis='time', keepaxis=False)\n",
      "v.diff(axis=0, keepaxis=False, scheme='centered')\n",
      "v.diff(axis=0, keepaxis=False, scheme='backward')\n",
      "v.diff(axis=0, keepaxis=False, scheme='forward')\n",
      "v.diff(axis=0, keepaxis=True, scheme='backward')\n",
      "v.diff(axis=0, keepaxis=True, scheme='forward')\n",
      "v.diff(n=2,axis=('time'), scheme='centered')"
     ],
     "language": "python",
     "metadata": {},
     "outputs": [
      {
       "metadata": {},
       "output_type": "pyout",
       "prompt_number": 17,
       "text": [
        "dimarray: 21 non-null elements (0 null)\n",
        "dimensions: 'time', 'lat'\n",
        "0 / time (3): 1951.0 to 1953.0\n",
        "1 / lat (7): -90.0 to 90.0\n",
        "array([[ 2.51063   ,  0.94026924,  1.65162005,  1.74764779, -0.72792132,\n",
        "        -3.35344907, -1.84625143],\n",
        "       [-0.38546508,  0.09386869, -3.31972466,  2.82411472, -0.62622757,\n",
        "         2.51498772,  5.0404708 ],\n",
        "       [ 0.66940526,  0.0741607 ,  3.13335654, -4.36650499,  2.3340133 ,\n",
        "        -2.92640924, -2.52653427]])"
       ]
      }
     ],
     "prompt_number": 17
    },
    {
     "cell_type": "code",
     "collapsed": false,
     "input": [
      "# CHECK AGAINST PANDAS\n",
      "assert np.all(v.std(ddof=1, axis=0).values==v.to_pandas().std().values), \"std vs pandas\"\n",
      "assert np.sum((v.var(ddof=1, axis=0).values-v.to_pandas().var().values)**2)<1e-10, \"var vs pandas\"\n",
      "assert np.all(v.cumsum(axis=0).values == v.to_pandas().cumsum().values), \"error against pandas\"\n",
      "assert np.all(v.cumprod(axis=0).values == v.to_pandas().cumprod().values), \"error against pandas\"\n",
      "assert np.nansum((v.diff(axis=0, keepaxis=True).cumsum(axis=0).values - v.to_pandas().diff().cumsum().values)**2) \\\n",
      "  < 1e-10, \"error against pandas\""
     ],
     "language": "python",
     "metadata": {},
     "outputs": [],
     "prompt_number": 18
    },
    {
     "cell_type": "markdown",
     "metadata": {},
     "source": [
      "NetCDF I/O"
     ]
    },
    {
     "cell_type": "code",
     "collapsed": false,
     "input": [
      "import dimarray.core as da\n",
      "import dimarray.ncio as nc\n",
      "#reload(nc)\n",
      "import dimarray.collect as co\n",
      "seed(0)\n",
      "v = da.array(randn(2,5,7), time=arange(1950,1955), lat=linspace(-90,90,7), items=array(['greenland','antarctica']))"
     ],
     "language": "python",
     "metadata": {},
     "outputs": [],
     "prompt_number": 19
    },
    {
     "cell_type": "code",
     "collapsed": false,
     "input": [
      "# writing\n",
      "print v\n",
      "v.write(\"test2.nc\",\"myvarstr\")"
     ],
     "language": "python",
     "metadata": {},
     "outputs": [
      {
       "output_type": "stream",
       "stream": "stdout",
       "text": [
        "dimarray: 70 non-null elements (0 null)\n",
        "dimensions: 'items', 'time', 'lat'\n",
        "0 / items (2): greenland to antarctica\n",
        "1 / time (5): 1950 to 1954\n",
        "2 / lat (7): -90.0 to 90.0\n",
        "array([[[ 1.76405235,  0.40015721,  0.97873798,  2.2408932 ,  1.86755799,\n",
        "         -0.97727788,  0.95008842],\n",
        "        [-0.15135721, -0.10321885,  0.4105985 ,  0.14404357,  1.45427351,\n",
        "          0.76103773,  0.12167502],\n",
        "        [ 0.44386323,  0.33367433,  1.49407907, -0.20515826,  0.3130677 ,\n",
        "         -0.85409574, -2.55298982],\n",
        "        [ 0.6536186 ,  0.8644362 , -0.74216502,  2.26975462, -1.45436567,\n",
        "          0.04575852, -0.18718385],\n",
        "        [ 1.53277921,  1.46935877,  0.15494743,  0.37816252, -0.88778575,\n",
        "         -1.98079647, -0.34791215]],\n",
        "\n",
        "       [[ 0.15634897,  1.23029068,  1.20237985, -0.38732682, -0.30230275,\n",
        "         -1.04855297, -1.42001794],\n",
        "        [-1.70627019,  1.9507754 , -0.50965218, -0.4380743 , -1.25279536,\n",
        "          0.77749036, -1.61389785],\n",
        "        [-0.21274028, -0.89546656,  0.3869025 , -0.51080514, -1.18063218,\n",
        "         -0.02818223,  0.42833187],\n",
        "        [ 0.06651722,  0.3024719 , -0.63432209, -0.36274117, -0.67246045,\n",
        "         -0.35955316, -0.81314628],\n",
        "        [-1.7262826 ,  0.17742614, -0.40178094, -1.63019835,  0.46278226,\n",
        "         -0.90729836,  0.0519454 ]]])\n",
        "write to test2.nc\n"
       ]
      }
     ],
     "prompt_number": 20
    },
    {
     "cell_type": "code",
     "collapsed": false,
     "input": [
      "# checking\n",
      "nc.summary(\"test2.nc\")"
     ],
     "language": "python",
     "metadata": {},
     "outputs": [
      {
       "output_type": "stream",
       "stream": "stdout",
       "text": [
        "test2.nc:\n",
        "--------\n",
        "dimensions: u'items', u'time', u'lat'\n",
        "0 / items (2): greenland to antarctica\n",
        "1 / time (5): 1950 to 1954\n",
        "2 / lat (7): -90.0 to 90.0\n",
        "myvarstr : items, time, lat\n"
       ]
      }
     ],
     "prompt_number": 21
    },
    {
     "cell_type": "code",
     "collapsed": false,
     "input": [
      "# reading\n",
      "w = nc.read(\"test2.nc\")\n",
      "assert np.all(w['myvarstr'] == v), \"Problem when reading netcdf\""
     ],
     "language": "python",
     "metadata": {},
     "outputs": [
      {
       "output_type": "stream",
       "stream": "stdout",
       "text": [
        "read from test2.nc\n"
       ]
      }
     ],
     "prompt_number": 22
    },
    {
     "cell_type": "markdown",
     "metadata": {},
     "source": [
      "Group / Ungroup"
     ]
    },
    {
     "cell_type": "code",
     "collapsed": false,
     "input": [
      ">>> np.random.seed(0)\n",
      ">>> v = da.array(randn(2,5,180), time=arange(1950,1955), lat=linspace(-90,90,180), items=array(['greenland','antarctica']))\n",
      "#axes = v.axes[('time','lat')]\n",
      "#ax.GroupedAxis(*[v.axes[k] for k in ('time','lat')])\n",
      "print v\n",
      "\n",
      "# group time, lat\n",
      ">>> w = v.group(('time','lat'))\n",
      "print \"\\nBasic grouping:\\n\\n\", w\n",
      "\n",
      "# group dimensions and insert as first dimension\n",
      ">>> w = v.group(('time','lat'), insert=0) \n",
      "print \"\\nGroup + insert as first:\\n\\n\", w\n",
      "\n",
      "# group and ungroup\n",
      ">>> v2 = v.group(('time','items')).ungroup()\n",
      "print \"\\ngroup/ungroup no reshaping:\", np.all(v2 == v)\n",
      "print \"\\ngroup/ungroup with reshaping:\", np.all(v2.reshape(v.dims) == v)\n",
      "\n",
      "# grouping in transformations\n",
      ">>> res = v.mean(axis=('time','lat'))\n",
      "print \"\\nmean with grouping time,lat grouping:\\n\\n\",res"
     ],
     "language": "python",
     "metadata": {},
     "outputs": [
      {
       "output_type": "stream",
       "stream": "stdout",
       "text": [
        "dimarray: 1800 non-null elements (0 null)\n",
        "dimensions: 'items', 'time', 'lat'\n",
        "0 / items (2): greenland to antarctica\n",
        "1 / time (5): 1950 to 1954\n",
        "2 / lat (180): -90.0 to 90.0\n",
        "\n",
        "Basic grouping:\n",
        "\n",
        "dimarray: 1800 non-null elements (0 null)\n",
        "dimensions: 'items', 'time,lat'\n",
        "0 / items (2): greenland to antarctica\n",
        "1 / time,lat (900): (1950, -90.0) to (1954, 90.0)\n",
        "\n",
        "Group + insert as first:\n",
        "\n",
        "dimarray: 1800 non-null elements (0 null)\n",
        "dimensions: 'time,lat', 'items'\n",
        "0 / time,lat (900): (1950, -90.0) to (1954, 90.0)\n",
        "1 / items (2): greenland to antarctica\n",
        "\n",
        "group/ungroup no reshaping: False\n",
        "\n",
        "group/ungroup with reshaping: True\n",
        "\n",
        "mean with grouping time,lat grouping:\n",
        "\n",
        "dimarray: 2 non-null elements (0 null)\n",
        "stamp: [\"mean(time(5)=1950:1954,lat(180)=-90.0:90.0)\"]\n",
        "dimensions: 'items'\n",
        "0 / items (2): greenland to antarctica\n",
        "array([-0.06849458,  0.04075616])\n"
       ]
      }
     ],
     "prompt_number": 23
    },
    {
     "cell_type": "markdown",
     "metadata": {},
     "source": [
      "Weighted mean"
     ]
    },
    {
     "cell_type": "code",
     "collapsed": false,
     "input": [
      ">>> np.random.seed(0)\n",
      ">>> data = da.array(randn(7), lat=linspace(-90,90,7))\n",
      "\n",
      ">>> umean = data.mean(axis='lat')\n",
      "print \"\\nunweighted zonal mean:\\n\\n\", umean\n",
      "\n",
      "# now add weights\n",
      ">>> data.axes['lat'].weights = lambda x: np.cos(np.radians(x))\n",
      "\n",
      ">>> wmean = data.mean(axis='lat')\n",
      "print \"\\nweighted zonal mean:\\n\", wmean\n",
      "\n",
      ">>> wmean = data[:].mean(axis='lat')\n",
      "print \"\\nweighted zonal mean after [:]:\\n\", wmean\n",
      "\n",
      ">>> test =  data.mean(axis='lat', weights=None) \n",
      ">>> test2 =  data._mean(axis='lat') \n",
      "print \"\\nCHECK:\", test == test2 == umean\n",
      "\n",
      "# Weighted mean with grouping\n",
      "#>>> mymap[mymap.lon > 0])\n",
      "#lon=linspace(-180,180,50), \n",
      ">>> mymap = data.reshape(('lat','lon')).repeat(lon=linspace(-180,180,5))\n",
      ">>> mymap.values[:,0] = np.nan\n",
      "#>>> print mymap\n",
      "#lon=linspace(-180,180,50)\n",
      ">>> wmean = mymap.mean()\n",
      "print \"\\nNaN + flatten all:\\n\",umean\n",
      "#>>> wmean = mymap.mean(axis=('lon','lat'))\n",
      ">>> wmean = mymap.mean(axis='lon').mean(axis='lat')\n",
      "print \"\\nNaN + sequential:\\n\",wmean\n",
      ">>> cube = da.array(randn(5,50,7), lon=linspace(-180,180,50), lat=linspace(-90,90,7), time=arange(1950,1955))\n",
      ">>> cube.axes['lat'].weights = lambda x: np.cos(np.radians(x))"
     ],
     "language": "python",
     "metadata": {},
     "outputs": [
      {
       "output_type": "stream",
       "stream": "stdout",
       "text": [
        "\n",
        "unweighted zonal mean:\n",
        "\n",
        "1.03202989506\n",
        "\n",
        "weighted zonal mean:\n",
        "1.18361129352\n",
        "\n",
        "weighted zonal mean after [:]:\n",
        "1.18361129352\n",
        "\n",
        "CHECK: True\n",
        "\n",
        "NaN + flatten all:\n",
        "1.03202989506\n",
        "\n",
        "NaN + sequential:\n",
        "1.18361129352\n"
       ]
      }
     ],
     "prompt_number": 24
    },
    {
     "cell_type": "markdown",
     "metadata": {},
     "source": [
      "Interpolation / regridding"
     ]
    },
    {
     "cell_type": "code",
     "collapsed": false,
     "input": [
      "reload(ax)\n",
      "reload(tr)\n",
      "reload(da)\n",
      "random.seed(0)\n",
      "v = da.array(randn(5,7), time=arange(1950,1955), lon=linspace(-90,90,7))"
     ],
     "language": "python",
     "metadata": {},
     "outputs": [],
     "prompt_number": 25
    },
    {
     "cell_type": "code",
     "collapsed": false,
     "input": [
      "#w = v.reindex_axis(arange(1940,1960), axis='time') \n",
      "w = v.interp1d(arange(1948.,1960,2), axis='time')\n",
      "#%matplotlib inline\n",
      "clf()\n",
      "plot(v.time, v.values[:,0], label='original')\n",
      "plot(w.time, w.values[:,0], label='interp')\n",
      "legend()\n",
      "show()\n",
      "#draw()"
     ],
     "language": "python",
     "metadata": {},
     "outputs": [
      {
       "metadata": {},
       "output_type": "display_data",
       "png": "[encoded data removed]",
       "text": [
        "<matplotlib.figure.Figure at 0xb818d2c>"
       ]
      }
     ],
     "prompt_number": 26
    },
    {
     "cell_type": "markdown",
     "metadata": {},
     "source": [
      "Export to other formats"
     ]
    },
    {
     "cell_type": "code",
     "collapsed": false,
     "input": [
      "reload(da) # for dict\n",
      "v = da.array(randn(2,5,7), time=arange(1950,1955), lat=linspace(-90,90,7), items=array(['greenland','antarctica']))\n",
      "reload(co) # for dict\n",
      "\n",
      "print \"\\nExport to pandas\\n\"\n",
      "print v.to_pandas()\n",
      "print \"\\nExport to larry\\n\"\n",
      "print v.to_larry()\n",
      "print \"\\nExport to Dataset\\n\"\n",
      "print v.to_dict()\n",
      "#v.to_MaskedArray() # to masked array"
     ],
     "language": "python",
     "metadata": {},
     "outputs": [
      {
       "output_type": "stream",
       "stream": "stdout",
       "text": [
        "\n",
        "Export to pandas\n",
        "\n",
        "<class 'pandas.core.panel.Panel'>\n",
        "Dimensions: 2 (items) x 5 (major_axis) x 7 (minor_axis)\n",
        "Items axis: greenland to antarctica\n",
        "Major_axis axis: 1950 to 1954\n",
        "Minor_axis axis: -90.0 to 90.0\n",
        "\n",
        "Export to larry\n",
        "\n",
        "warning: dimension names have not been passed to larry\n",
        "label_0\n",
        "    greenland\n",
        "    antarctica\n",
        "label_1\n",
        "    1950\n",
        "    1951\n",
        "    1952\n",
        "    1953\n",
        "    1954\n",
        "label_2\n",
        "    -90.0\n",
        "    -60.0\n",
        "    -30.0\n",
        "    0.0\n",
        "    30.0\n",
        "    60.0\n",
        "    90.0\n",
        "x\n",
        "array([[[ 0.15634897,  1.23029068,  1.20237985, -0.38732682, -0.30230275,\n",
        "         -1.04855297, -1.42001794],\n",
        "        [-1.70627019,  1.9507754 , -0.50965218, -0.4380743 , -1.25279536,\n",
        "          0.77749036, -1.61389785],\n",
        "        [-0.21274028, -0.89546656,  0.3869025 , -0.51080514, -1.18063218,\n",
        "         -0.02818223,  0.42833187],\n",
        "        [ 0.06651722,  0.3024719 , -0.63432209, -0.36274117, -0.67246045,\n",
        "         -0.35955316, -0.81314628],\n",
        "        [-1.7262826 ,  0.17742614, -0.40178094, -1.63019835,  0.46278226,\n",
        "         -0.90729836,  0.0519454 ]],\n",
        "\n",
        "       [[ 0.72909056,  0.12898291,  1.13940068, -1.23482582,  0.40234164,\n",
        "         -0.68481009, -0.87079715],\n",
        "        [-0.57884966, -0.31155253,  0.05616534, -1.16514984,  0.90082649,\n",
        "          0.46566244, -1.53624369],\n",
        "        [ 1.48825219,  1.89588918,  1.17877957, -0.17992484, -1.07075262,\n",
        "          1.05445173, -0.40317695],\n",
        "        [ 1.22244507,  0.20827498,  0.97663904,  0.3563664 ,  0.70657317,\n",
        "          0.01050002,  1.78587049],\n",
        "        [ 0.12691209,  0.40198936,  1.8831507 , -1.34775906, -1.270485  ,\n",
        "          0.96939671, -1.17312341]]])\n",
        "\n",
        "Export to Dataset\n",
        "\n",
        "Dataset of 2 variables\n",
        "dimensions: 'time', 'lat'\n",
        "0 / time (5): 1950 to 1954\n",
        "1 / lat (7): -90.0 to 90.0\n",
        "greenland: time, lat\n",
        "antarctica: time, lat\n"
       ]
      }
     ],
     "prompt_number": 27
    }
   ],
   "metadata": {}
  }
 ]
}