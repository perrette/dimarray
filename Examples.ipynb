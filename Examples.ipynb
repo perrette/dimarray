{
 "metadata": {
  "name": ""
 },
 "nbformat": 3,
 "nbformat_minor": 0,
 "worksheets": [
  {
   "cells": [
    {
     "cell_type": "heading",
     "level": 1,
     "metadata": {},
     "source": [
      "Examples / Debug Tests"
     ]
    },
    {
     "cell_type": "code",
     "collapsed": false,
     "input": [
      "import dimarray.core as da\n",
      "import dimarray.transform as tr\n",
      "import dimarray.metadata as md\n",
      "import dimarray.axes as ax\n",
      "import dimarray.ncio as nc\n",
      "import dimarray.collect as co\n",
      "#reload(md)\n",
      "reload(ax)\n",
      "reload(tr)\n",
      "reload(da)\n",
      "#reload(co)\n",
      "#da.DimArray(np.arange(5)*2, [('time',arange(5))])\n",
      "v = da.array(randn(2,5,7), time=arange(1950,1955), lat=linspace(-90,90,7), items=array(['greenland','antarctica']))"
     ],
     "language": "python",
     "metadata": {},
     "outputs": [],
     "prompt_number": 26
    },
    {
     "cell_type": "markdown",
     "metadata": {},
     "source": [
      "Define a Dimarray"
     ]
    },
    {
     "cell_type": "code",
     "collapsed": false,
     "input": [
      "from dimarray import datasets\n",
      "values = randn(3,5)\n",
      "a= da.Dimarray(values)\n",
      "b= da.Dimarray(values, 'items','time')\n",
      "c= da.Dimarray(values, list(\"abc\"), np.arange(1950,1955))\n",
      "d= da.Dimarray(values, ('items',list(\"abc\")), ('time',np.arange(1950,1955)))\n",
      "e= da.Dimarray.from_kw(values, items=list(\"abc\"), time=np.arange(1950,1955))\n",
      "f= da.array(values, items=list(\"abc\"), time=np.arange(1950,1955))\n",
      "print e\n",
      "print np.all(d == e == f)"
     ],
     "language": "python",
     "metadata": {},
     "outputs": [
      {
       "output_type": "stream",
       "stream": "stdout",
       "text": [
        "dimarray: 15 non-null elements (0 null)\n",
        "dimensions: 'items', 'time'\n",
        "0 / items (3): a to c\n",
        "1 / time (5): 1950 to 1954\n",
        "array([[ 0.91017891,  0.31721822,  0.78632796, -0.4664191 , -0.94444626],\n",
        "       [-0.41004969, -0.01702041,  0.37915174,  2.25930895, -0.04225715],\n",
        "       [-0.955945  , -0.34598178, -0.46359597,  0.48148147, -1.54079701]])\n",
        "True\n"
       ]
      }
     ],
     "prompt_number": 27
    },
    {
     "cell_type": "code",
     "collapsed": false,
     "input": [],
     "language": "python",
     "metadata": {},
     "outputs": []
    },
    {
     "cell_type": "markdown",
     "metadata": {},
     "source": [
      "Expand dimension"
     ]
    },
    {
     "cell_type": "code",
     "collapsed": false,
     "input": [
      "%doctest_mode"
     ],
     "language": "python",
     "metadata": {},
     "outputs": [
      {
       "output_type": "stream",
       "stream": "stdout",
       "text": [
        "Exception reporting mode: Plain\n",
        "Doctest mode is: ON\n"
       ]
      }
     ],
     "prompt_number": 66
    },
    {
     "cell_type": "code",
     "collapsed": false,
     "input": [
      "reload(ax)\n",
      "reload(da)"
     ],
     "language": "python",
     "metadata": {},
     "outputs": [
      {
       "metadata": {},
       "output_type": "pyout",
       "prompt_number": 77,
       "text": [
        "<module 'dimarray.core' from 'dimarray/core.py'>"
       ]
      }
     ],
     "prompt_number": 77
    },
    {
     "cell_type": "code",
     "collapsed": false,
     "input": [
      "# Single axis:\n",
      ">>> a = da.Dimarray.from_kw(arange(2), lon=[30., 40.])\n",
      ">>> a.expand_axis(np.arange(1950,1955), axis=\"time\")  # doctest: +ELLIPSIS\n",
      "\n",
      "# Multi-axis\n",
      "# ...create some dummy data:\n",
      ">>> lon = np.linspace(10, 30, 2)\n",
      ">>> lat = np.linspace(10, 50, 3)\n",
      ">>> time = np.arange(1950,1955)\n",
      ">>> values = lon[:, None].dot(lat[None,:])\n",
      ">>> ts = da.Dimarray.from_kw(np.arange(5), time=time)\n",
      ">>> slab = da.Dimarray.from_kw(np.zeros((3,2)), lon=lon, lat=lat)  # lat x lon\n",
      "\n",
      "# ...expand from variable list\n",
      ">>> ts3D = ts.expand(*slab.axes) #  lat x lon x time\n",
      "print ts3D\n",
      "\n",
      "# ...expand from keyword arguments\n",
      ">>> ts3D_2 = ts.expand(lon=slab.lon, lat=slab.lat)  # random order, here lon x lat x time, doctest: +ELLIPSIS\n",
      "print np.all(ts3D_2.transpose(ts3D.dims)==ts3D)"
     ],
     "language": "python",
     "metadata": {},
     "outputs": [
      {
       "output_type": "stream",
       "stream": "stdout",
       "text": [
        "dimarray: 30 non-null elements (0 null)\n",
        "dimensions: 'lat', 'lon', 'time'\n",
        "0 / lat (3): 10.0 to 50.0\n",
        "1 / lon (2): 10.0 to 30.0\n",
        "2 / time (5): 1950 to 1954\n",
        "array([[[0, 1, 2, 3, 4],\n",
        "        [0, 1, 2, 3, 4]],\n",
        "\n",
        "       [[0, 1, 2, 3, 4],\n",
        "        [0, 1, 2, 3, 4]],\n",
        "\n",
        "       [[0, 1, 2, 3, 4],\n",
        "        [0, 1, 2, 3, 4]]])\n",
        "True\n"
       ]
      }
     ],
     "prompt_number": 28
    },
    {
     "cell_type": "markdown",
     "metadata": {},
     "source": [
      "Group / Ungroup"
     ]
    },
    {
     "cell_type": "code",
     "collapsed": false,
     "input": [
      "#reload(md)\n",
      "#reload(ax)\n",
      "reload(da)\n",
      "#%doctest_mode"
     ],
     "language": "python",
     "metadata": {},
     "outputs": []
    },
    {
     "cell_type": "code",
     "collapsed": false,
     "input": [
      ">>> np.random.seed(0)\n",
      ">>> v = da.array(randn(2,5,180), time=arange(1950,1955), lat=linspace(-90,90,180), items=array(['greenland','antarctica']))\n",
      "#axes = v.axes[('time','lat')]\n",
      "#ax.GroupedAxis(*[v.axes[k] for k in ('time','lat')])\n",
      "print v\n",
      "\n",
      "# group time, lat\n",
      ">>> w = v.group(('time','lat'))\n",
      "print \"\\nBasic grouping:\\n\\n\", w\n",
      "\n",
      "# group dimensions and insert as first dimension\n",
      ">>> w = v.group(('time','lat'), insert=0) \n",
      "print \"\\nGroup + insert as first:\\n\\n\", w\n",
      "\n",
      "# group and ungroup\n",
      ">>> v2 = v.group(('time','items')).ungroup()\n",
      "print \"\\ngroup/ungroup no reshaping:\", np.all(v2 == v)\n",
      "print \"\\ngroup/ungroup with reshaping:\", np.all(v2.reshape(v.dims) == v)\n",
      "\n",
      "# grouping in transformations\n",
      ">>> res = v.mean(axis=('time','lat'))\n",
      "print \"\\nmean with grouping time,lat grouping:\\n\\n\",res"
     ],
     "language": "python",
     "metadata": {},
     "outputs": [
      {
       "output_type": "stream",
       "stream": "stdout",
       "text": [
        "dimarray: 1800 non-null elements (0 null)\n",
        "dimensions: 'items', 'time', 'lat'\n",
        "0 / items (2): greenland to antarctica\n",
        "1 / time (5): 1950 to 1954\n",
        "2 / lat (180): -90.0 to 90.0\n",
        "\n",
        "Basic grouping:\n",
        "\n",
        "dimarray: 1800 non-null elements (0 null)\n",
        "dimensions: 'items', 'time,lat'\n",
        "0 / items (2): greenland to antarctica\n",
        "1 / time,lat (900): (1950, -90.0) to (1954, 90.0)\n",
        "\n",
        "Group + insert as first:\n",
        "\n",
        "dimarray: 1800 non-null elements (0 null)\n",
        "dimensions: 'time,lat', 'items'\n",
        "0 / time,lat (900): (1950, -90.0) to (1954, 90.0)\n",
        "1 / items (2): greenland to antarctica\n",
        "\n",
        "group/ungroup no reshaping: False\n",
        "\n",
        "group/ungroup with reshaping: True\n",
        "\n",
        "mean with grouping time,lat grouping:\n",
        "\n",
        "dimarray: 2 non-null elements (0 null)\n",
        "stamp: [\"mean(time(5)=1950:1954,lat(180)=-90.0:90.0)\"]\n",
        "dimensions: 'items'\n",
        "0 / items (2): greenland to antarctica\n",
        "array([-0.06849458,  0.04075616])\n"
       ]
      }
     ],
     "prompt_number": 67
    },
    {
     "cell_type": "markdown",
     "metadata": {},
     "source": [
      "Transformation"
     ]
    },
    {
     "cell_type": "markdown",
     "metadata": {},
     "source": [
      "reload(tr)\n",
      "reload(ax)\n",
      "reload(da)\n",
      "v = da.array(randn(5,7), time=arange(1950,1955), lat=linspace(-90,90,7))\n",
      "pdres = v.to_pandas().diff().cumsum()\n",
      "dares = v.diff().cumsum().to_pandas()\n",
      "print \"TEST diff then cumsum vs pandas:\", np.all(isnan(pdres) | (dares==pdres))\n",
      "pdres = v.to_pandas().std()\n",
      "dares = v.std(ddof=1).to_pandas()\n",
      "print \"TEST std vs pandas:\", ((dares-pdres)**2).sum() < 1e-10\n",
      "pdres = v.to_pandas().var()\n",
      "dares = v.var(ddof=1).to_pandas()\n",
      "print \"TEST var vs pandas:\", ((dares-pdres)**2).sum() < 1e-10"
     ]
    },
    {
     "cell_type": "code",
     "collapsed": false,
     "input": [
      "import pandas as pd\n",
      "pd.DataFrame.std?"
     ],
     "language": "python",
     "metadata": {},
     "outputs": [],
     "prompt_number": 55
    },
    {
     "cell_type": "markdown",
     "metadata": {},
     "source": [
      "Weights"
     ]
    },
    {
     "cell_type": "code",
     "collapsed": false,
     "input": [
      "np.random.seed(0)\n",
      "data = da.Dimarray(randn(7,5), arange(1950, 1957), list('abcde'))\n",
      "data\n",
      "#data.axes['x0'].weights = np.arange(7)\n",
      "data.iloc[:,3]"
     ],
     "language": "python",
     "metadata": {},
     "outputs": [
      {
       "ename": "ValueError",
       "evalue": "3 is not in list",
       "output_type": "pyerr",
       "traceback": [
        "Traceback \u001b[1;36m(most recent call last)\u001b[0m:\n",
        "  File \u001b[0;32m\"<ipython-input-121-011606563b82>\"\u001b[0m, line \u001b[0;32m5\u001b[0m, in \u001b[0;35m<module>\u001b[0m\n    data.iloc[:,3]\n",
        "  File \u001b[0;32m\"dimarray/core.py\"\u001b[0m, line \u001b[0;32m280\u001b[0m, in \u001b[0;35m__getitem__\u001b[0m\n",
        "  File \u001b[0;32m\"dimarray/core.py\"\u001b[0m, line \u001b[0;32m388\u001b[0m, in \u001b[0;35mxs\u001b[0m\n    if ix is not None:\n",
        "  File \u001b[0;32m\"dimarray/core.py\"\u001b[0m, line \u001b[0;32m316\u001b[0m, in \u001b[0;35mxs_axis\u001b[0m\n    if method == \"numpy\":\n",
        "  File \u001b[0;32m\"dimarray/axes.py\"\u001b[0m, line \u001b[0;32m478\u001b[0m, in \u001b[0;35m__call__\u001b[0m\n    def __call__(self, idx, method = None):\n",
        "  File \u001b[0;32m\"dimarray/axes.py\"\u001b[0m, line \u001b[0;32m460\u001b[0m, in \u001b[0;35m__getitem__\u001b[0m\n",
        "  File \u001b[0;32m\"dimarray/axes.py\"\u001b[0m, line \u001b[0;32m516\u001b[0m, in \u001b[0;35mlocate\u001b[0m\n    dx = self.values[1] - self.values[0]\n",
        "\u001b[1;36m  File \u001b[1;32m\"dimarray/axes.py\"\u001b[1;36m, line \u001b[1;32m494\u001b[1;36m, in \u001b[1;35mindex\u001b[1;36m\u001b[0m\n\u001b[1;33m    return self.set(method=method)[idx]\u001b[0m\n",
        "\u001b[1;31mValueError\u001b[0m\u001b[1;31m:\u001b[0m 3 is not in list\n"
       ]
      }
     ],
     "prompt_number": 121
    },
    {
     "cell_type": "code",
     "collapsed": false,
     "input": [
      "%debug"
     ],
     "language": "python",
     "metadata": {},
     "outputs": [
      {
       "output_type": "stream",
       "stream": "stdout",
       "text": [
        "> \u001b[1;32m/home/perrette/Projects/dimarray/dimarray/axes.py\u001b[0m(494)\u001b[0;36mindex\u001b[1;34m()\u001b[0m\n",
        "\u001b[1;32m    493 \u001b[1;33m        \u001b[1;32mif\u001b[0m \u001b[0mmethod\u001b[0m \u001b[1;32mis\u001b[0m \u001b[0mNone\u001b[0m\u001b[1;33m:\u001b[0m \u001b[0mmethod\u001b[0m \u001b[1;33m=\u001b[0m \u001b[0mself\u001b[0m\u001b[1;33m.\u001b[0m\u001b[0mmethod\u001b[0m\u001b[1;33m\u001b[0m\u001b[0m\n",
        "\u001b[0m\u001b[1;32m--> 494 \u001b[1;33m        \u001b[1;32mreturn\u001b[0m \u001b[0mself\u001b[0m\u001b[1;33m.\u001b[0m\u001b[0mset\u001b[0m\u001b[1;33m(\u001b[0m\u001b[0mmethod\u001b[0m\u001b[1;33m=\u001b[0m\u001b[0mmethod\u001b[0m\u001b[1;33m)\u001b[0m\u001b[1;33m[\u001b[0m\u001b[0midx\u001b[0m\u001b[1;33m]\u001b[0m\u001b[1;33m\u001b[0m\u001b[0m\n",
        "\u001b[0m\u001b[1;32m    495 \u001b[1;33m\u001b[1;33m\u001b[0m\u001b[0m\n",
        "\u001b[0m\n"
       ]
      },
      {
       "name": "stdout",
       "output_type": "stream",
       "stream": "stdout",
       "text": [
        "ipdb> up\n"
       ]
      },
      {
       "output_type": "stream",
       "stream": "stdout",
       "text": [
        "> \u001b[1;32m/home/perrette/Projects/dimarray/dimarray/axes.py\u001b[0m(516)\u001b[0;36mlocate\u001b[1;34m()\u001b[0m\n",
        "\u001b[1;32m    515 \u001b[1;33m        \u001b[1;32mif\u001b[0m \u001b[0mcheck_bounds\u001b[0m\u001b[1;33m:\u001b[0m\u001b[1;33m\u001b[0m\u001b[0m\n",
        "\u001b[0m\u001b[1;32m--> 516 \u001b[1;33m            \u001b[0mdx\u001b[0m \u001b[1;33m=\u001b[0m \u001b[0mself\u001b[0m\u001b[1;33m.\u001b[0m\u001b[0mvalues\u001b[0m\u001b[1;33m[\u001b[0m\u001b[1;36m1\u001b[0m\u001b[1;33m]\u001b[0m \u001b[1;33m-\u001b[0m \u001b[0mself\u001b[0m\u001b[1;33m.\u001b[0m\u001b[0mvalues\u001b[0m\u001b[1;33m[\u001b[0m\u001b[1;36m0\u001b[0m\u001b[1;33m]\u001b[0m\u001b[1;33m\u001b[0m\u001b[0m\n",
        "\u001b[0m\u001b[1;32m    517 \u001b[1;33m            \u001b[0mmi\u001b[0m\u001b[1;33m,\u001b[0m \u001b[0mma\u001b[0m \u001b[1;33m=\u001b[0m \u001b[0mnp\u001b[0m\u001b[1;33m.\u001b[0m\u001b[0mmin\u001b[0m\u001b[1;33m(\u001b[0m\u001b[0mself\u001b[0m\u001b[1;33m.\u001b[0m\u001b[0mvalues\u001b[0m\u001b[1;33m)\u001b[0m\u001b[1;33m,\u001b[0m \u001b[0mnp\u001b[0m\u001b[1;33m.\u001b[0m\u001b[0mmax\u001b[0m\u001b[1;33m(\u001b[0m\u001b[0mself\u001b[0m\u001b[1;33m.\u001b[0m\u001b[0mvalues\u001b[0m\u001b[1;33m)\u001b[0m\u001b[1;33m\u001b[0m\u001b[0m\n",
        "\u001b[0m\n"
       ]
      },
      {
       "name": "stdout",
       "output_type": "stream",
       "stream": "stdout",
       "text": [
        "ipdb> up\n"
       ]
      },
      {
       "output_type": "stream",
       "stream": "stdout",
       "text": [
        "> \u001b[1;32m/home/perrette/Projects/dimarray/dimarray/axes.py\u001b[0m(460)\u001b[0;36m__getitem__\u001b[1;34m()\u001b[0m\n",
        "\u001b[1;32m    459 \u001b[1;33m        \u001b[0mself\u001b[0m\u001b[1;33m.\u001b[0m\u001b[0mmethod\u001b[0m \u001b[1;33m=\u001b[0m \u001b[0mmethod\u001b[0m \u001b[1;31m#  default method\u001b[0m\u001b[1;33m\u001b[0m\u001b[0m\n",
        "\u001b[0m\u001b[1;32m--> 460 \u001b[1;33m\u001b[1;33m\u001b[0m\u001b[0m\n",
        "\u001b[0m\u001b[1;32m    461 \u001b[1;33m    \u001b[1;31m#\u001b[0m\u001b[1;33m\u001b[0m\u001b[1;33m\u001b[0m\u001b[0m\n",
        "\u001b[0m\n"
       ]
      },
      {
       "name": "stdout",
       "output_type": "stream",
       "stream": "stdout",
       "text": [
        "ipdb> method\n"
       ]
      },
      {
       "output_type": "stream",
       "stream": "stdout",
       "text": [
        "*** NameError: name 'method' is not defined\n"
       ]
      },
      {
       "name": "stdout",
       "output_type": "stream",
       "stream": "stdout",
       "text": [
        "ipdb> up\n"
       ]
      },
      {
       "output_type": "stream",
       "stream": "stdout",
       "text": [
        "> \u001b[1;32m/home/perrette/Projects/dimarray/dimarray/axes.py\u001b[0m(478)\u001b[0;36m__call__\u001b[1;34m()\u001b[0m\n",
        "\u001b[1;32m    477 \u001b[1;33m\u001b[1;33m\u001b[0m\u001b[0m\n",
        "\u001b[0m\u001b[1;32m--> 478 \u001b[1;33m    \u001b[1;32mdef\u001b[0m \u001b[0m__call__\u001b[0m\u001b[1;33m(\u001b[0m\u001b[0mself\u001b[0m\u001b[1;33m,\u001b[0m \u001b[0midx\u001b[0m\u001b[1;33m,\u001b[0m \u001b[0mmethod\u001b[0m \u001b[1;33m=\u001b[0m \u001b[0mNone\u001b[0m\u001b[1;33m)\u001b[0m\u001b[1;33m:\u001b[0m\u001b[1;33m\u001b[0m\u001b[0m\n",
        "\u001b[0m\u001b[1;32m    479 \u001b[1;33m\t\"\"\" general wrapper method\n",
        "\u001b[0m\n"
       ]
      },
      {
       "name": "stdout",
       "output_type": "stream",
       "stream": "stdout",
       "text": [
        "ipdb> method\n"
       ]
      },
      {
       "output_type": "stream",
       "stream": "stdout",
       "text": [
        "'index'\n"
       ]
      },
      {
       "name": "stdout",
       "output_type": "stream",
       "stream": "stdout",
       "text": [
        "ipdb> up\n"
       ]
      },
      {
       "output_type": "stream",
       "stream": "stdout",
       "text": [
        "> \u001b[1;32m/home/perrette/Projects/dimarray/dimarray/core.py\u001b[0m(316)\u001b[0;36mxs_axis\u001b[1;34m()\u001b[0m\n",
        "\u001b[1;32m    315 \u001b[1;33m        \u001b[1;31m# numpy-like indexing, do nothing\u001b[0m\u001b[1;33m\u001b[0m\u001b[1;33m\u001b[0m\u001b[0m\n",
        "\u001b[0m\u001b[1;32m--> 316 \u001b[1;33m        \u001b[1;32mif\u001b[0m \u001b[0mmethod\u001b[0m \u001b[1;33m==\u001b[0m \u001b[1;34m\"numpy\"\u001b[0m\u001b[1;33m:\u001b[0m\u001b[1;33m\u001b[0m\u001b[0m\n",
        "\u001b[0m\u001b[1;32m    317 \u001b[1;33m            \u001b[0mindex\u001b[0m \u001b[1;33m=\u001b[0m \u001b[0mix\u001b[0m\u001b[1;33m\u001b[0m\u001b[0m\n",
        "\u001b[0m\n"
       ]
      },
      {
       "name": "stdout",
       "output_type": "stream",
       "stream": "stdout",
       "text": [
        "ipdb> method\n"
       ]
      },
      {
       "name": "stdout",
       "output_type": "stream",
       "stream": "stdout",
       "text": [
        "ipdb> self.indexing\n"
       ]
      },
      {
       "output_type": "stream",
       "stream": "stdout",
       "text": [
        "*** AttributeError: 'Dimarray' object has no attribute 'indexing'\n"
       ]
      },
      {
       "name": "stdout",
       "output_type": "stream",
       "stream": "stdout",
       "text": [
        "ipdb> q\n"
       ]
      }
     ],
     "prompt_number": 122
    },
    {
     "cell_type": "markdown",
     "metadata": {},
     "source": [
      "Weighted mean"
     ]
    },
    {
     "cell_type": "code",
     "collapsed": false,
     "input": [
      "reload(ax)\n",
      "reload(tr)\n",
      "reload(da)\n",
      "%doctest_mode"
     ],
     "language": "python",
     "metadata": {},
     "outputs": [
      {
       "output_type": "stream",
       "stream": "stdout",
       "text": [
        "Exception reporting mode: Plain\n",
        "Doctest mode is: ON\n"
       ]
      }
     ],
     "prompt_number": 92
    },
    {
     "cell_type": "code",
     "collapsed": false,
     "input": [
      ">>> np.random.seed(0)\n",
      ">>> data = da.array(randn(7), lat=linspace(-90,90,7))\n",
      "\n",
      ">>> umean = data.mean(axis='lat')\n",
      "print \"\\nunweighted zonal mean:\\n\\n\", umean\n",
      "\n",
      "# now add weights\n",
      ">>> data.axes['lat'].weights = lambda x: np.cos(np.radians(x))\n",
      "\n",
      ">>> wmean = data.mean(axis='lat')\n",
      "print \"\\nweighted zonal mean:\\n\", wmean\n",
      "\n",
      ">>> test =  data.mean(axis='lat', weights=None) \n",
      ">>> test2 =  data._mean(axis='lat') \n",
      "print \"\\nCHECK:\", test == test2 == umean\n",
      "\n",
      "# Weighted mean with grouping\n",
      "#>>> mymap[mymap.lon > 0])\n",
      "#lon=linspace(-180,180,50), \n",
      ">>> mymap = data.expand(lon=linspace(-180,180,5))\n",
      ">>> mymap.values[:,0] = np.nan\n",
      "#>>> print mymap\n",
      "#lon=linspace(-180,180,50)\n",
      ">>> wmean = mymap.mean()\n",
      "print \"\\nNaN + flatten all:\\n\",umean\n",
      "#>>> wmean = mymap.mean(axis=('lon','lat'))\n",
      ">>> wmean = mymap.mean(axis='lon').mean(axis='lat')\n",
      "print \"\\nNaN + sequential:\\n\",wmean\n",
      ">>> cube = da.array(randn(5,50,7), lon=linspace(-180,180,50), lat=linspace(-90,90,7), time=arange(1950,1955))\n",
      ">>> cube.axes['lat'].weights = lambda x: np.cos(np.radians(x))"
     ],
     "language": "python",
     "metadata": {},
     "outputs": [
      {
       "output_type": "stream",
       "stream": "stdout",
       "text": [
        "\n",
        "unweighted zonal mean:\n",
        "\n",
        "1.03202989506\n",
        "\n",
        "weighted zonal mean:\n",
        "1.18361129352\n",
        "\n",
        "CHECK: True\n",
        "\n",
        "NaN + flatten all:\n",
        "1.03202989506\n",
        "\n",
        "NaN + sequential:\n",
        "1.18361129352\n"
       ]
      }
     ],
     "prompt_number": 103
    },
    {
     "cell_type": "code",
     "collapsed": false,
     "input": [
      "a = np.array(4)"
     ],
     "language": "python",
     "metadata": {},
     "outputs": [
      {
       "ename": "IndexError",
       "evalue": "0-d arrays can't be indexed.",
       "output_type": "pyerr",
       "traceback": [
        "\u001b[1;31m---------------------------------------------------------------------------\u001b[0m\n\u001b[1;31mIndexError\u001b[0m                                Traceback (most recent call last)",
        "\u001b[1;32m<ipython-input-86-f8076adca775>\u001b[0m in \u001b[0;36m<module>\u001b[1;34m()\u001b[0m\n\u001b[0;32m      1\u001b[0m \u001b[0ma\u001b[0m \u001b[1;33m=\u001b[0m \u001b[0mnp\u001b[0m\u001b[1;33m.\u001b[0m\u001b[0marray\u001b[0m\u001b[1;33m(\u001b[0m\u001b[1;36m4\u001b[0m\u001b[1;33m)\u001b[0m\u001b[1;33m\u001b[0m\u001b[0m\n\u001b[1;32m----> 2\u001b[1;33m \u001b[0ma\u001b[0m\u001b[1;33m[\u001b[0m\u001b[0ma\u001b[0m\u001b[1;33m>\u001b[0m\u001b[1;36m2\u001b[0m\u001b[1;33m]\u001b[0m \u001b[1;33m=\u001b[0m \u001b[1;36m3\u001b[0m\u001b[1;33m\u001b[0m\u001b[0m\n\u001b[0m",
        "\u001b[1;31mIndexError\u001b[0m: 0-d arrays can't be indexed."
       ]
      }
     ],
     "prompt_number": 86
    },
    {
     "cell_type": "markdown",
     "metadata": {},
     "source": [
      "Indexing / Slicing"
     ]
    },
    {
     "cell_type": "code",
     "collapsed": false,
     "input": [
      "import dimarray.axes as ax\n",
      "import dimarray.core as da\n",
      "reload(ax)\n",
      "reload(da)\n",
      "#da.DimArray(np.arange(5)*2, [('time',arange(5))])\n",
      "seed(0)\n",
      "v = da.array(randn(2,7), lat=linspace(-90,90,7), items=array(['greenland','antarctica']))\n",
      "x = v.xs(lat=60)\n",
      "#print \"Lat=60\\n\", x\n",
      "try:\n",
      "    v.xs(lat=50)\n",
      "except:\n",
      "    #print \"\\n50 not present, try nearest:\\n\"\n",
      "    x = v.xs(lat=50, method='nearest')\n",
      "    #print x\n",
      "    \n",
      "v.xs(lat=5, method='numpy')\n",
      "v.iloc[:,5]\n",
      "v.iloc[:,2:3]\n",
      "\n",
      "\"\\nLat=30\\n\\n:\",v.xs(lat=30)\n",
      "\"\\nLat=60\\n\\n:\",v.xs(lat=60)\n",
      "# print \"\\ninterpolated 45N:\\n\", v.xs(lat=45, method='interp')\n",
      "v.lat\n",
      "#v.xs(linspace(-89,100,5), axis='lat', method='interp')\n",
      "print \"interp\\n\\n:\", v.xs(90, axis='lat', method='interp', keepdims=1)\n",
      "print \"\\nnearest\\n\\n:\", v.xs(90, axis='lat', method='nearest', keepdims=1)\n",
      "\n",
      "#print \"print \"Lat=60\\n\",\"\n",
      "#v.xs(lat=50, items='greenland', keepdims=True)"
     ],
     "language": "python",
     "metadata": {},
     "outputs": [
      {
       "output_type": "stream",
       "stream": "stdout",
       "text": [
        " interp\n",
        "\n",
        ": dimarray: 2 non-null elements (0 null)\n",
        "dimensions: 'lat', lat (1): 90.0 to 90.0\n",
        "0 / lat (2): 0 to 1\n",
        "1 / lat(1)=90.0:90.0 (1): 0 to 0\n",
        "array([[ 0.95008842],\n",
        "       [ 0.12167502]])\n",
        "\n",
        "nearest\n",
        "\n",
        ": dimarray: 2 non-null elements (0 null)\n",
        "dimensions: 'items', 'lat'\n",
        "0 / items (2): greenland to antarctica\n",
        "1 / lat (1): 90.0 to 90.0\n",
        "array([[ 0.95008842],\n",
        "       [ 0.12167502]])\n"
       ]
      }
     ],
     "prompt_number": 112
    },
    {
     "cell_type": "code",
     "collapsed": false,
     "input": [
      "%debug"
     ],
     "language": "python",
     "metadata": {},
     "outputs": [
      {
       "output_type": "stream",
       "stream": "stdout",
       "text": [
        "> \u001b[1;32m/home/perrette/Projects/dimarray/dimarray/core.py\u001b[0m(371)\u001b[0;36m_take_interp\u001b[1;34m()\u001b[0m\n",
        "\u001b[1;32m    370 \u001b[1;33m        \u001b[0mover\u001b[0m \u001b[1;33m=\u001b[0m \u001b[0mi1\u001b[0m \u001b[1;33m==\u001b[0m \u001b[0max\u001b[0m\u001b[1;33m.\u001b[0m\u001b[0msize\u001b[0m\u001b[1;33m\u001b[0m\u001b[0m\n",
        "\u001b[0m\u001b[1;32m--> 371 \u001b[1;33m        \u001b[1;36m1\u001b[0m\u001b[1;33m/\u001b[0m\u001b[1;36m0\u001b[0m\u001b[1;33m\u001b[0m\u001b[0m\n",
        "\u001b[0m\u001b[1;32m    372 \u001b[1;33m        \u001b[1;32mif\u001b[0m \u001b[0mi1\u001b[0m\u001b[1;33m.\u001b[0m\u001b[0msize\u001b[0m \u001b[1;33m==\u001b[0m \u001b[1;36m1\u001b[0m\u001b[1;33m:\u001b[0m\u001b[1;33m\u001b[0m\u001b[0m\n",
        "\u001b[0m\n"
       ]
      },
      {
       "name": "stdout",
       "output_type": "stream",
       "stream": "stdout",
       "text": [
        "ipdb> i1.size\n"
       ]
      },
      {
       "output_type": "stream",
       "stream": "stdout",
       "text": [
        "1\n"
       ]
      },
      {
       "name": "stdout",
       "output_type": "stream",
       "stream": "stdout",
       "text": [
        "ipdb> over\n"
       ]
      },
      {
       "output_type": "stream",
       "stream": "stdout",
       "text": [
        "True\n"
       ]
      },
      {
       "name": "stdout",
       "output_type": "stream",
       "stream": "stdout",
       "text": [
        "ipdb> ax.size\n"
       ]
      },
      {
       "output_type": "stream",
       "stream": "stdout",
       "text": [
        "7\n"
       ]
      },
      {
       "name": "stdout",
       "output_type": "stream",
       "stream": "stdout",
       "text": [
        "ipdb> ix\n"
       ]
      },
      {
       "output_type": "stream",
       "stream": "stdout",
       "text": [
        "90\n"
       ]
      },
      {
       "name": "stdout",
       "output_type": "stream",
       "stream": "stdout",
       "text": [
        "ipdb> i1\n"
       ]
      },
      {
       "output_type": "stream",
       "stream": "stdout",
       "text": [
        "7\n"
       ]
      },
      {
       "name": "stdout",
       "output_type": "stream",
       "stream": "stdout",
       "text": [
        "ipdb> i0\n"
       ]
      },
      {
       "output_type": "stream",
       "stream": "stdout",
       "text": [
        "array(6)\n"
       ]
      },
      {
       "name": "stdout",
       "output_type": "stream",
       "stream": "stdout",
       "text": [
        "ipdb> i1.size == 1\n"
       ]
      },
      {
       "output_type": "stream",
       "stream": "stdout",
       "text": [
        "True\n"
       ]
      },
      {
       "name": "stdout",
       "output_type": "stream",
       "stream": "stdout",
       "text": [
        "ipdb> over\n"
       ]
      },
      {
       "output_type": "stream",
       "stream": "stdout",
       "text": [
        "True\n"
       ]
      },
      {
       "name": "stdout",
       "output_type": "stream",
       "stream": "stdout",
       "text": [
        "ipdb> i0\n"
       ]
      },
      {
       "output_type": "stream",
       "stream": "stdout",
       "text": [
        "array(6)\n"
       ]
      },
      {
       "name": "stdout",
       "output_type": "stream",
       "stream": "stdout",
       "text": [
        "ipdb> i1\n"
       ]
      },
      {
       "output_type": "stream",
       "stream": "stdout",
       "text": [
        "7\n"
       ]
      },
      {
       "name": "stdout",
       "output_type": "stream",
       "stream": "stdout",
       "text": [
        "ipdb>                 i0 -= 1                 i1 -= 1\n"
       ]
      },
      {
       "output_type": "stream",
       "stream": "stdout",
       "text": [
        "*** SyntaxError: invalid syntax (<stdin>, line 1)\n"
       ]
      },
      {
       "name": "stdout",
       "output_type": "stream",
       "stream": "stdout",
       "text": [
        "ipdb> i0-=1\n"
       ]
      },
      {
       "name": "stdout",
       "output_type": "stream",
       "stream": "stdout",
       "text": [
        "ipdb> i1-=1\n"
       ]
      },
      {
       "name": "stdout",
       "output_type": "stream",
       "stream": "stdout",
       "text": [
        "ipdb> i0\n"
       ]
      },
      {
       "output_type": "stream",
       "stream": "stdout",
       "text": [
        "array(5)\n"
       ]
      },
      {
       "name": "stdout",
       "output_type": "stream",
       "stream": "stdout",
       "text": [
        "ipdb> i1\n"
       ]
      },
      {
       "output_type": "stream",
       "stream": "stdout",
       "text": [
        "6\n"
       ]
      },
      {
       "name": "stdout",
       "output_type": "stream",
       "stream": "stdout",
       "text": [
        "ipdb> w1 = ii-i0\n"
       ]
      },
      {
       "name": "stdout",
       "output_type": "stream",
       "stream": "stdout",
       "text": [
        "ipdb> v0 = self._xs_axis(i0, axis=axis, method=\"numpy\", keepdims=keepdims)\n"
       ]
      },
      {
       "name": "stdout",
       "output_type": "stream",
       "stream": "stdout",
       "text": [
        "ipdb> v1 = self._xs_axis(i1, axis=axis, method=\"numpy\", keepdims=keepdims)\n"
       ]
      },
      {
       "name": "stdout",
       "output_type": "stream",
       "stream": "stdout",
       "text": [
        "ipdb> v0.values*(1-w1) + v1.values*w1\n"
       ]
      },
      {
       "output_type": "stream",
       "stream": "stdout",
       "text": [
        "array([[ 0.95008842],\n",
        "       [ 0.12167502]])\n"
       ]
      },
      {
       "name": "stdout",
       "output_type": "stream",
       "stream": "stdout",
       "text": [
        "ipdb> self.xs(lat=90)\n"
       ]
      },
      {
       "output_type": "stream",
       "stream": "stdout",
       "text": [
        "dimarray: 2 non-null elements (0 null)\n",
        "stamp: [\"lat=90.0\"]\n",
        "dimensions: 'items'\n",
        "0 / items (2): greenland to antarctica\n",
        "array([ 0.95008842,  0.12167502])\n"
       ]
      },
      {
       "name": "stdout",
       "output_type": "stream",
       "stream": "stdout",
       "text": [
        "ipdb> q\n"
       ]
      }
     ],
     "prompt_number": 104
    },
    {
     "cell_type": "markdown",
     "metadata": {},
     "source": [
      "Interpolation / regridding"
     ]
    },
    {
     "cell_type": "code",
     "collapsed": false,
     "input": [
      "#w = v.reindex_axis(arange(1940,1960), axis='time') \n",
      "v = da.array(randn(5,7), time=arange(1950,1955), lon=linspace(-90,90,7))\n",
      "w = v.interp1d(arange(1948.,1960,2), axis='time')\n",
      "%matplotlib inline\n",
      "clf()\n",
      "plot(v.time, v.values[:,0], label='original')\n",
      "plot(w.time, w.values[:,0], label='interp')\n",
      "legend()"
     ],
     "language": "python",
     "metadata": {},
     "outputs": []
    },
    {
     "cell_type": "markdown",
     "metadata": {},
     "source": [
      "Multi-dimension operation / alignment"
     ]
    },
    {
     "cell_type": "code",
     "collapsed": false,
     "input": [
      "mymap = da.array(randn(50,7), lon=linspace(-180,180,50), lat=linspace(-90,90,7))\n",
      "ts = da.Dimarray(np.arange(5), ('time',arange(1950,1955)))\n",
      "ts2 = da.Dimarray(np.arange(10), ('time',arange(1950,1960)))\n",
      "mymap*ts\n",
      "ts+ts2"
     ],
     "language": "python",
     "metadata": {},
     "outputs": [
      {
       "metadata": {},
       "output_type": "pyout",
       "prompt_number": 42,
       "text": [
        "dimarray: 5 non-null elements (5 null)\n",
        "dimensions: 'time'\n",
        "0 / time (10): 1950 to 1959\n",
        "array([  0.,   2.,   4.,   6.,   8.,  nan,  nan,  nan,  nan,  nan])"
       ]
      }
     ],
     "prompt_number": 42
    },
    {
     "cell_type": "markdown",
     "metadata": {},
     "source": [
      "NetCDF I/O"
     ]
    },
    {
     "cell_type": "code",
     "collapsed": false,
     "input": [
      "reload(nc)"
     ],
     "language": "python",
     "metadata": {},
     "outputs": []
    },
    {
     "cell_type": "code",
     "collapsed": false,
     "input": [
      "# writing\n",
      "v = da.array(randn(2,5,7), time=arange(1950,1955), lat=linspace(-90,90,7), items=array(['greenland','antarctica']))\n",
      "print v\n",
      "v.save(\"test2.nc\",\"myvarstr\")"
     ],
     "language": "python",
     "metadata": {},
     "outputs": []
    },
    {
     "cell_type": "code",
     "collapsed": false,
     "input": [
      "# checking\n",
      "nc.summary(\"test2.nc\")"
     ],
     "language": "python",
     "metadata": {},
     "outputs": []
    },
    {
     "cell_type": "code",
     "collapsed": false,
     "input": [
      "# reading\n",
      "w = nc.read(\"test2.nc\")\n",
      "w['myvarstr']"
     ],
     "language": "python",
     "metadata": {},
     "outputs": []
    },
    {
     "cell_type": "markdown",
     "metadata": {},
     "source": [
      "Export to other formats"
     ]
    },
    {
     "cell_type": "code",
     "collapsed": false,
     "input": [
      "v = da.array(randn(2,5,7), time=arange(1950,1955), lat=linspace(-90,90,7), items=array(['greenland','antarctica']))\n",
      "reload(co) # for dict\n",
      "\n",
      "print \"\\nExport to pandas\\n\"\n",
      "print v.to_pandas()\n",
      "print \"\\nExport to larry\\n\"\n",
      "print v.to_larry()\n",
      "print \"\\nExport to Dataset\\n\"\n",
      "print v.to_dict()\n",
      "#v.to_MaskedArray() # to masked array"
     ],
     "language": "python",
     "metadata": {},
     "outputs": []
    }
   ],
   "metadata": {}
  }
 ]
}