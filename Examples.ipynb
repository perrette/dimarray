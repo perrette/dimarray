{
 "metadata": {
  "name": ""
 },
 "nbformat": 3,
 "nbformat_minor": 0,
 "worksheets": [
  {
   "cells": [
    {
     "cell_type": "heading",
     "level": 1,
     "metadata": {},
     "source": [
      "Debug Tests"
     ]
    },
    {
     "cell_type": "code",
     "collapsed": false,
     "input": [
      "import dimarray.core as da\n",
      "import dimarray.transform as tr\n",
      "import dimarray.metadata as md\n",
      "import dimarray.axes as ax\n",
      "import dimarray.ncio as nc\n",
      "import dimarray.collect as co\n",
      "#reload(md)\n",
      "reload(ax)\n",
      "#reload(tr)\n",
      "reload(da)\n",
      "#reload(co)\n",
      "#da.DimArray(np.arange(5)*2, [('time',arange(5))])\n",
      "v = da.array(randn(2,5,7), time=arange(1950,1955), lat=linspace(-90,90,7), items=array(['greenland','antarctica']))"
     ],
     "language": "python",
     "metadata": {},
     "outputs": [],
     "prompt_number": 51
    },
    {
     "cell_type": "markdown",
     "metadata": {},
     "source": [
      "Define a Dimarray"
     ]
    },
    {
     "cell_type": "code",
     "collapsed": false,
     "input": [
      "from dimarray import datasets\n",
      "#reload(ax)\n",
      "#%doctest_mode\n",
      "#lon, lat, values = datasets.make_data()\n",
      "print values.shape\n",
      "values = randn(3,5)\n",
      "da.Dimarray(values)\n",
      "da.Dimarray(values, 'items','time')\n",
      "da.Dimarray(values, list(\"abc\"), np.arange(1950,1955))\n",
      "da.Dimarray(values, ('items',list(\"abc\")), ('time',np.arange(1950,1955)))\n",
      "#da.array(values, items=list(\"abc\"), time=np.arange(1950,1955))"
     ],
     "language": "python",
     "metadata": {},
     "outputs": [
      {
       "output_type": "stream",
       "stream": "stdout",
       "text": [
        "(3, 5)\n"
       ]
      },
      {
       "metadata": {},
       "output_type": "pyout",
       "prompt_number": 55,
       "text": [
        "dimarray: 15 non-null elements (0 null)\n",
        "dimensions: 'items', 'time'\n",
        "0 / items (3): a to c\n",
        "1 / time (5): 1950 to 1954\n",
        "array([[ 1.1428796 ,  0.41841267,  0.85425341,  0.27862345,  2.26674182],\n",
        "       [-1.34229184,  0.03654742, -0.6399767 ,  0.27653369,  0.62407923],\n",
        "       [ 0.94191144,  1.21903161,  0.95405128,  1.81493798, -0.58801474]])"
       ]
      }
     ],
     "prompt_number": 55
    },
    {
     "cell_type": "code",
     "collapsed": false,
     "input": [
      "%debug"
     ],
     "language": "python",
     "metadata": {},
     "outputs": [
      {
       "output_type": "stream",
       "stream": "stdout",
       "text": [
        "> \u001b[1;32m/home/perrette/Projects/dimarray/dimarray/core.py\u001b[0m(743)\u001b[0;36m_expand\u001b[1;34m()\u001b[0m\n",
        "\u001b[1;32m    742 \u001b[1;33m        \u001b[0mnewshape\u001b[0m\u001b[1;33m[\u001b[0m\u001b[0max_id\u001b[0m\u001b[1;33m]\u001b[0m \u001b[1;33m=\u001b[0m \u001b[0mlen\u001b[0m\u001b[1;33m(\u001b[0m\u001b[0mdims\u001b[0m\u001b[1;33m)\u001b[0m\u001b[1;33m\u001b[0m\u001b[0m\n",
        "\u001b[0m\u001b[1;32m--> 743 \u001b[1;33m        \u001b[0mnewvalues\u001b[0m \u001b[1;33m=\u001b[0m \u001b[0mself\u001b[0m\u001b[1;33m.\u001b[0m\u001b[0mvalues\u001b[0m\u001b[1;33m.\u001b[0m\u001b[0mreshape\u001b[0m\u001b[1;33m(\u001b[0m\u001b[0mnewshape\u001b[0m\u001b[1;33m)\u001b[0m\u001b[1;33m\u001b[0m\u001b[0m\n",
        "\u001b[0m\u001b[1;32m    744 \u001b[1;33m\u001b[1;33m\u001b[0m\u001b[0m\n",
        "\u001b[0m\n"
       ]
      },
      {
       "name": "stdout",
       "output_type": "stream",
       "stream": "stdout",
       "text": [
        "ipdb> self.values.shape\n"
       ]
      },
      {
       "output_type": "stream",
       "stream": "stdout",
       "text": [
        "(35, 2)\n"
       ]
      },
      {
       "name": "stdout",
       "output_type": "stream",
       "stream": "stdout",
       "text": [
        "ipdb> newsha\u00fce\n"
       ]
      },
      {
       "output_type": "stream",
       "stream": "stdout",
       "text": [
        "*** SyntaxError: invalid syntax (<stdin>, line 1)\n"
       ]
      },
      {
       "name": "stdout",
       "output_type": "stream",
       "stream": "stdout",
       "text": [
        "ipdb> newshape\n"
       ]
      },
      {
       "output_type": "stream",
       "stream": "stdout",
       "text": [
        "[2, 2]\n"
       ]
      },
      {
       "name": "stdout",
       "output_type": "stream",
       "stream": "stdout",
       "text": [
        "ipdb> list(self.shape)\n"
       ]
      },
      {
       "output_type": "stream",
       "stream": "stdout",
       "text": [
        "*** Error in argument: '(self.shape)'\n"
       ]
      },
      {
       "name": "stdout",
       "output_type": "stream",
       "stream": "stdout",
       "text": [
        "ipdb> self.shape\n"
       ]
      },
      {
       "output_type": "stream",
       "stream": "stdout",
       "text": [
        "(35, 2)\n"
       ]
      },
      {
       "name": "stdout",
       "output_type": "stream",
       "stream": "stdout",
       "text": [
        "ipdb> expanded_shape = [ax.size for ax in expanded_axes]\n"
       ]
      },
      {
       "name": "stdout",
       "output_type": "stream",
       "stream": "stdout",
       "text": [
        "ipdb> expanded_shape\n"
       ]
      },
      {
       "output_type": "stream",
       "stream": "stdout",
       "text": [
        "[5, 7]\n"
       ]
      },
      {
       "name": "stdout",
       "output_type": "stream",
       "stream": "stdout",
       "text": [
        "ipdb> self.shape[:ax_id] + tuple(expanded_shape) + self.shape[ax_id+1:]\n"
       ]
      },
      {
       "output_type": "stream",
       "stream": "stdout",
       "text": [
        "(5, 7, 2)\n"
       ]
      },
      {
       "name": "stdout",
       "output_type": "stream",
       "stream": "stdout",
       "text": [
        "ipdb> self.shape\n"
       ]
      },
      {
       "output_type": "stream",
       "stream": "stdout",
       "text": [
        "(35, 2)\n"
       ]
      },
      {
       "name": "stdout",
       "output_type": "stream",
       "stream": "stdout",
       "text": [
        "ipdb> newshape = self.shape[:ax_id] + tuple(expanded_shape) + self.shape[ax_id+1:]\n"
       ]
      },
      {
       "name": "stdout",
       "output_type": "stream",
       "stream": "stdout",
       "text": [
        "ipdb>         newvalues = self.values.reshape(newshape)\n"
       ]
      },
      {
       "name": "stdout",
       "output_type": "stream",
       "stream": "stdout",
       "text": [
        "ipdb> newaxes = self.axes[:ax_id] + expanded_axes + self.axes[ax_id+1:]\n"
       ]
      },
      {
       "name": "stdout",
       "output_type": "stream",
       "stream": "stdout",
       "text": [
        "ipdb> newaxes\n"
       ]
      },
      {
       "output_type": "stream",
       "stream": "stdout",
       "text": [
        "[time (5): 1950.0 to 1954.0\n",
        ", lat (7): -90.0 to 90.0\n",
        ", items (2): greenland to antarctica\n",
        "]\n"
       ]
      },
      {
       "name": "stdout",
       "output_type": "stream",
       "stream": "stdout",
       "text": [
        "ipdb> self._constructor(newvalues, newaxes, **self._metadata)\n"
       ]
      },
      {
       "output_type": "stream",
       "stream": "stdout",
       "text": [
        "dimarray: 70 non-null elements (0 null)\n",
        "dimensions: u'time' x u'lat' x 'items'\n",
        "0 / time (5): 1950.0 to 1954.0\n",
        "1 / lat (7): -90.0 to 90.0\n",
        "2 / items (2): greenland to antarctica\n",
        "array([[[-0.55459597, -0.44723508],\n",
        "        [ 0.0482156 , -1.12117303],\n",
        "        [-1.49759938,  0.50781974],\n",
        "        [ 0.27469458,  1.11155658],\n",
        "        [ 1.69593244,  0.96694194],\n",
        "        [ 0.81294805,  2.68782345],\n",
        "        [ 0.39128029,  0.18054058]],\n",
        "\n",
        "       [[ 1.25574247, -0.2368868 ],\n",
        "        [ 1.1730216 , -1.20816205],\n",
        "        [-0.16083013, -0.1940072 ],\n",
        "        [ 0.7924705 , -1.48829123],\n",
        "        [-0.51382167, -0.143923  ],\n",
        "        [-0.3025377 ,  0.70304639],\n",
        "        [-0.09205201, -0.13141564]],\n",
        "\n",
        "       [[ 0.16490016,  0.68360818],\n",
        "        [-0.05629411, -0.84260907],\n",
        "        [ 0.21977969,  1.23433868],\n",
        "        [ 0.17007354, -1.28349433],\n",
        "        [ 1.53296716, -0.90651008],\n",
        "        [-0.1598684 ,  0.30094006],\n",
        "        [-2.32709931, -0.89537465]],\n",
        "\n",
        "       [[ 0.32465582, -0.57788205],\n",
        "        [ 0.32679535, -0.27401568],\n",
        "        [-1.63754344,  0.2391941 ],\n",
        "        [ 0.54415465,  0.46893701],\n",
        "        [ 1.26943815,  1.18171178],\n",
        "        [ 0.93752877, -0.03073901],\n",
        "        [-0.10382759,  0.34479654]],\n",
        "\n",
        "       [[ 0.93815725, -0.67066881],\n",
        "        [ 0.68562677,  1.40600142],\n",
        "        [ 1.14587032,  0.71242577],\n",
        "        [ 0.18788329,  1.18142578],\n",
        "        [ 1.40468504, -0.78428817],\n",
        "        [-0.78006302, -1.46609559],\n",
        "        [-0.55253343,  0.39003049]]])\n"
       ]
      },
      {
       "name": "stdout",
       "output_type": "stream",
       "stream": "stdout",
       "text": [
        "ipdb> q\n"
       ]
      }
     ],
     "prompt_number": 8
    },
    {
     "cell_type": "markdown",
     "metadata": {},
     "source": [
      "Collapse / Expand "
     ]
    },
    {
     "cell_type": "code",
     "collapsed": false,
     "input": [
      "v = da.array(randn(2,5,7), time=arange(1950,1955), lat=linspace(-90,90,7), items=array(['greenland','antarctica']))\n",
      "w = v.collapse(('time','lat'))\n",
      "w.axes[0].values[]\n",
      "#w._expand(0)"
     ],
     "language": "python",
     "metadata": {},
     "outputs": [
      {
       "metadata": {},
       "output_type": "pyout",
       "prompt_number": 22,
       "text": [
        "array([[ 1950.,   -90.],\n",
        "       [ 1950.,   -60.],\n",
        "       [ 1950.,   -30.],\n",
        "       [ 1950.,     0.],\n",
        "       [ 1950.,    30.],\n",
        "       [ 1950.,    60.],\n",
        "       [ 1950.,    90.],\n",
        "       [ 1951.,   -90.],\n",
        "       [ 1951.,   -60.],\n",
        "       [ 1951.,   -30.],\n",
        "       [ 1951.,     0.],\n",
        "       [ 1951.,    30.],\n",
        "       [ 1951.,    60.],\n",
        "       [ 1951.,    90.],\n",
        "       [ 1952.,   -90.],\n",
        "       [ 1952.,   -60.],\n",
        "       [ 1952.,   -30.],\n",
        "       [ 1952.,     0.],\n",
        "       [ 1952.,    30.],\n",
        "       [ 1952.,    60.],\n",
        "       [ 1952.,    90.],\n",
        "       [ 1953.,   -90.],\n",
        "       [ 1953.,   -60.],\n",
        "       [ 1953.,   -30.],\n",
        "       [ 1953.,     0.],\n",
        "       [ 1953.,    30.],\n",
        "       [ 1953.,    60.],\n",
        "       [ 1953.,    90.],\n",
        "       [ 1954.,   -90.],\n",
        "       [ 1954.,   -60.],\n",
        "       [ 1954.,   -30.],\n",
        "       [ 1954.,     0.],\n",
        "       [ 1954.,    30.],\n",
        "       [ 1954.,    60.],\n",
        "       [ 1954.,    90.]])"
       ]
      }
     ],
     "prompt_number": 22
    },
    {
     "cell_type": "markdown",
     "metadata": {},
     "source": [
      "Transformation"
     ]
    },
    {
     "cell_type": "code",
     "collapsed": false,
     "input": [
      "reload(ax)\n",
      "reload(da)\n",
      "v = da.array(randn(2,5,7), time=arange(1950,1955), lat=linspace(-90,90,7), items=array(['greenland','antarctica']))\n",
      "v.mean()\n",
      "pd = v['greenland'].to_pandas()\n",
      "print \"TEST diff then cumsum\"\n",
      "print \"pandas:\\n\",pd.diff().cumsum()\n",
      "print \"\"\n",
      "print \"dimarray:\\n\",v['greenland'].diff().cumsum().to_pandas()"
     ],
     "language": "python",
     "metadata": {},
     "outputs": [
      {
       "output_type": "stream",
       "stream": "stdout",
       "text": [
        "pandas:\n",
        "lat        -90       -60       -30        0         30        60        90\n",
        "time                                                                      \n",
        "1950       NaN       NaN       NaN       NaN       NaN       NaN       NaN\n",
        "1951  0.277546  0.443815 -2.045907  3.485405  0.922607 -1.546392  1.730883\n",
        "1952  1.712048 -2.102786 -1.045237  2.374010 -0.270433 -0.815094  0.288340\n",
        "1953  0.006229 -0.133785 -0.747632  4.643240  2.369748 -1.329441  1.268427\n",
        "1954 -0.767834 -3.038719 -1.217168  3.899487  2.274499 -1.046677  0.975873"
       ]
      },
      {
       "output_type": "stream",
       "stream": "stdout",
       "text": [
        "\n",
        "\n",
        "dimarray:\n",
        "lat        -90       -60       -30        0         30        60        90\n",
        "time                                                                      \n",
        "1950       NaN       NaN       NaN       NaN       NaN       NaN       NaN\n",
        "1951  0.277546  0.443815 -2.045907  3.485405  0.922607 -1.546392  1.730883\n",
        "1952  1.712048 -2.102786 -1.045237  2.374010 -0.270433 -0.815094  0.288340\n",
        "1953  0.006229 -0.133785 -0.747632  4.643240  2.369748 -1.329441  1.268427\n",
        "1954 -0.767834 -3.038719 -1.217168  3.899487  2.274499 -1.046677  0.975873"
       ]
      },
      {
       "output_type": "stream",
       "stream": "stdout",
       "text": [
        "\n"
       ]
      }
     ],
     "prompt_number": 40
    },
    {
     "cell_type": "markdown",
     "metadata": {},
     "source": [
      "Indexing / Slicing"
     ]
    },
    {
     "cell_type": "code",
     "collapsed": false,
     "input": [
      "#da.DimArray(np.arange(5)*2, [('time',arange(5))])\n",
      "v = da.array(randn(2,5,7), time=arange(1950,1955), lat=linspace(-90,90,7), items=array(['greenland','antarctica']))\n",
      "print v.xs(time=1950, lat=50)\n",
      "print \"\"\n",
      "print v.xs(time=1950, lat=50, items='greenland')\n",
      "print \"\"\n",
      "v.xs(time=1950, lat=50, items='greenland', keepdims=True)"
     ],
     "language": "python",
     "metadata": {},
     "outputs": [
      {
       "output_type": "stream",
       "stream": "stdout",
       "text": [
        "dimarray: 2 non-null elements (0 null)\n",
        "stamp: [\"lat=60.0\", \"time=1950\"]\n",
        "dimensions: items\n",
        "items (2): greenland to antarctica\n",
        "array([-0.92021219, -0.19087058])\n",
        "\n",
        "-0.920212194284\n",
        "\n"
       ]
      },
      {
       "metadata": {},
       "output_type": "pyout",
       "prompt_number": 11,
       "text": [
        "dimarray: 1 non-null elements (0 null)\n",
        "dimensions: items x time x lat\n",
        "items (1): greenland to greenland\n",
        "time (1): 1950 to 1950\n",
        "lat (1): 60.0 to 60.0\n",
        "array([[[-0.92021219]]])"
       ]
      }
     ],
     "prompt_number": 11
    },
    {
     "cell_type": "markdown",
     "metadata": {},
     "source": [
      "Interpolation / regridding"
     ]
    },
    {
     "cell_type": "code",
     "collapsed": false,
     "input": [
      "#w = v.reindex_axis(arange(1940,1960), axis='time') \n",
      "v = da.array(randn(5,7), time=arange(1950,1955), lon=linspace(-90,90,7))\n",
      "w = v.interp1d(arange(1948.,1960,2), axis='time')\n",
      "%matplotlib inline\n",
      "clf()\n",
      "plot(v.time, v.values[:,0], label='original')\n",
      "plot(w.time, w.values[:,0], label='interp')\n",
      "legend()"
     ],
     "language": "python",
     "metadata": {},
     "outputs": [
      {
       "output_type": "stream",
       "stream": "stdout",
       "text": [
        "recursive call\n",
        "recursive call\n",
        "recursive call\n",
        "recursive call\n",
        "recursive call\n",
        "recursive call\n",
        "recursive call\n"
       ]
      },
      {
       "metadata": {},
       "output_type": "pyout",
       "prompt_number": 7,
       "text": [
        "<matplotlib.legend.Legend at 0x9a4ef0c>"
       ]
      },
      {
       "metadata": {},
       "output_type": "display_data",
       "png": "[encoded data removed]",
       "text": [
        "<matplotlib.figure.Figure at 0x96d488c>"
       ]
      }
     ],
     "prompt_number": 7
    },
    {
     "cell_type": "markdown",
     "metadata": {},
     "source": [
      "Multi-dimension operation / alignment"
     ]
    },
    {
     "cell_type": "code",
     "collapsed": false,
     "input": [
      "mymap = da.array(randn(50,7), lon=linspace(-180,180,50), lat=linspace(-90,90,7))\n",
      "ts = da.Dimarray(np.arange(5), ('time',arange(1950,1955)))\n",
      "ts2 = da.Dimarray(np.arange(10), ('time',arange(1950,1960)))\n",
      "\n",
      "mymap*ts\n",
      "mymap.axes['lat'].weights = lambda x: np.cos(np.radians(x))\n",
      "mymap.axes['lat'].get_weights().reshape(('lat','lon'))"
     ],
     "language": "python",
     "metadata": {},
     "outputs": [
      {
       "metadata": {},
       "output_type": "pyout",
       "prompt_number": 6,
       "text": [
        "dimarray: 20 non-null elements (0 null)\n",
        "dimensions: d0 x d1\n",
        "d0 (5): a to e\n",
        "d1 (4): 1 to 4\n",
        "array([[-1.26057325,  0.12734642,  0.42631744, -0.95607303],\n",
        "       [-0.68905005,  0.17572791, -0.82612861,  0.49503811],\n",
        "       [-1.88708373,  0.18472434, -1.30705253, -1.05002775],\n",
        "       [ 0.68548235, -1.10513252, -1.20897134, -1.26167097],\n",
        "       [-0.85341824, -0.08788101,  1.08029165, -0.44098687]])"
       ]
      }
     ],
     "prompt_number": 6
    },
    {
     "cell_type": "markdown",
     "metadata": {},
     "source": [
      "NetCDF I/O"
     ]
    },
    {
     "cell_type": "code",
     "collapsed": false,
     "input": [
      "reload(nc)"
     ],
     "language": "python",
     "metadata": {},
     "outputs": []
    },
    {
     "cell_type": "code",
     "collapsed": false,
     "input": [
      "# writing\n",
      "v = da.array(randn(2,5,7), time=arange(1950,1955), lat=linspace(-90,90,7), items=array(['greenland','antarctica']))\n",
      "print v\n",
      "v.save(\"test2.nc\",\"myvarstr\")"
     ],
     "language": "python",
     "metadata": {},
     "outputs": [
      {
       "output_type": "stream",
       "stream": "stdout",
       "text": [
        "write to test2.nc\n"
       ]
      }
     ],
     "prompt_number": 8
    },
    {
     "cell_type": "code",
     "collapsed": false,
     "input": [
      "# checking\n",
      "nc.summary(\"test2.nc\")"
     ],
     "language": "python",
     "metadata": {},
     "outputs": []
    },
    {
     "cell_type": "code",
     "collapsed": false,
     "input": [
      "# reading\n",
      "w = nc.read(\"test2.nc\")\n",
      "w['myvarstr']"
     ],
     "language": "python",
     "metadata": {},
     "outputs": [
      {
       "output_type": "stream",
       "stream": "stdout",
       "text": [
        "read from test2.nc\n"
       ]
      },
      {
       "metadata": {},
       "output_type": "pyout",
       "prompt_number": 10,
       "text": [
        "Dataset of 1 variables\n",
        "\n",
        "dimarray: 70 non-null elements (0 null)\n",
        "name: myvarstr\n",
        "dimensions: items x time x lat\n",
        "items (2): greenland to antarctica\n",
        "time (5): 1950 to 1954\n",
        "lat (7): -90.0 to 90.0\n",
        "array([[[  1.11525989e+00,   3.20644019e-01,   5.48161519e-01,\n",
        "          -1.51141926e+00,   3.71733372e-01,   4.91531539e-01,\n",
        "          -2.06165407e-01],\n",
        "        [  4.73106129e-01,  -4.37800451e-01,   1.68776846e+00,\n",
        "          -3.17394277e-01,   1.19414274e+00,  -4.93247752e-01,\n",
        "          -7.25096617e-01],\n",
        "        [  1.72172578e+00,  -1.06085786e+00,   1.23904184e+00,\n",
        "           9.90152995e-01,   1.03904887e+00,  -5.36471566e-01,\n",
        "          -9.04151219e-01],\n",
        "        [  4.48790419e-01,  -1.36622881e+00,   1.84528615e+00,\n",
        "          -9.72057014e-01,  -1.44350547e+00,   5.52672020e-01,\n",
        "          -1.25778687e-01],\n",
        "        [ -3.04420401e-01,  -1.94645055e-01,   6.60916741e-04,\n",
        "          -1.16476973e+00,  -8.52724451e-01,  -1.07497219e+00,\n",
        "          -1.36851650e+00]],\n",
        "\n",
        "       [[ -2.35388038e-02,   1.40383480e+00,   5.19773922e-01,\n",
        "           1.92814977e-01,   9.83652838e-01,  -5.91642406e-01,\n",
        "          -5.20323156e-01],\n",
        "        [  2.65460696e-02,  -9.45303401e-01,  -2.80039573e-01,\n",
        "           2.00178048e+00,  -4.69206248e-01,   6.53271798e-01,\n",
        "          -1.00276568e+00],\n",
        "        [ -1.23766054e+00,   9.63118735e-01,  -9.53795249e-02,\n",
        "           1.95023938e-01,  -5.22942588e-01,   8.08429873e-01,\n",
        "           2.75549757e-01],\n",
        "        [ -2.46537140e+00,  -3.32147744e-01,   7.50070967e-01,\n",
        "           1.08911981e+00,   3.40663832e-01,   1.04786197e+00,\n",
        "           2.24474773e-01],\n",
        "        [ -6.94334896e-01,   1.21421850e+00,  -5.17034056e-01,\n",
        "           5.07976657e-01,  -5.25556688e-02,  -9.00213164e-02,\n",
        "          -9.32545444e-01]]])"
       ]
      }
     ],
     "prompt_number": 10
    },
    {
     "cell_type": "markdown",
     "metadata": {},
     "source": [
      "Export to other formats"
     ]
    },
    {
     "cell_type": "code",
     "collapsed": false,
     "input": [
      "v = da.array(randn(2,5,7), time=arange(1950,1955), lat=linspace(-90,90,7), items=array(['greenland','antarctica']))\n",
      "reload(co) # for dict\n",
      "\n",
      "print \"\\nExport to pandas\\n\"\n",
      "print v.to_pandas()\n",
      "print \"\\nExport to larry\\n\"\n",
      "print v.to_larry()\n",
      "print \"\\nExport to Dataset\\n\"\n",
      "print v.to_dict()\n",
      "#v.to_MaskedArray() # to masked array"
     ],
     "language": "python",
     "metadata": {},
     "outputs": [
      {
       "output_type": "stream",
       "stream": "stdout",
       "text": [
        "\n",
        "Export to pandas\n",
        "\n",
        "<class 'pandas.core.panel.Panel'>\n",
        "Dimensions: 2 (items) x 5 (major_axis) x 7 (minor_axis)\n",
        "Items axis: greenland to antarctica\n",
        "Major_axis axis: 1950 to 1954\n",
        "Minor_axis axis: -90.0 to 90.0\n",
        "\n",
        "Export to larry\n",
        "\n",
        "warning: dimension names have not been passed to larry\n",
        "label_0\n",
        "    greenland\n",
        "    antarctica\n",
        "label_1\n",
        "    1950\n",
        "    1951\n",
        "    1952\n",
        "    1953\n",
        "    1954\n",
        "label_2\n",
        "    -90.0\n",
        "    -60.0\n",
        "    -30.0\n",
        "    0.0\n",
        "    30.0\n",
        "    60.0\n",
        "    90.0\n",
        "x\n",
        "array([[[  2.07812591e+00,   1.71773302e-01,  -1.18688168e+00,\n",
        "           8.91856073e-01,  -3.97449839e-01,   1.39345526e+00,\n",
        "           9.26081780e-01],\n",
        "        [ -1.14335832e+00,  -2.85644746e-01,  -1.13373305e-01,\n",
        "           1.99332974e+00,  -8.18852610e-02,  -6.89149606e-01,\n",
        "          -1.05052887e+00],\n",
        "        [  4.84874584e-01,  -3.66744390e-01,   1.74786300e+00,\n",
        "          -2.49988620e-01,  -6.21929282e-01,  -1.52118276e-01,\n",
        "           1.47555918e+00],\n",
        "        [ -3.42948148e-01,  -1.48985857e+00,   2.00340693e+00,\n",
        "          -3.72202793e-01,   1.27697334e-01,  -1.22373248e+00,\n",
        "          -8.14313032e-01],\n",
        "        [  7.39945929e-01,  -6.07785120e-01,   7.96178779e-02,\n",
        "           3.25736495e-01,  -4.48812139e-01,  -4.46046458e-01,\n",
        "           1.43207687e+00]],\n",
        "\n",
        "       [[  9.03219368e-01,  -8.51162443e-01,   3.47650779e-01,\n",
        "          -6.26722706e-04,   7.09142859e-01,  -5.06620706e-01,\n",
        "           4.42522569e-01],\n",
        "        [  1.25601873e+00,   4.41609214e-01,   5.08653675e-01,\n",
        "          -1.74509418e+00,  -5.90447052e-01,  -1.06491749e+00,\n",
        "          -6.92378529e-01],\n",
        "        [ -8.19861585e-01,   5.66416026e-01,   5.53669706e-01,\n",
        "           1.39437083e+00,  -1.07700126e+00,   1.00460416e+00,\n",
        "           2.24163377e+00],\n",
        "        [  3.45194052e-01,   7.00182628e-01,  -1.16262456e+00,\n",
        "           6.45449006e-01,  -1.78412133e-01,  -9.13229184e-01,\n",
        "          -1.12330699e+00],\n",
        "        [  3.39029826e-01,   5.54147189e-02,  -1.50657774e+00,\n",
        "          -2.23903917e+00,  -6.95427580e-01,  -2.23588464e-01,\n",
        "          -8.12046858e-02]]])\n",
        "\n",
        "Export to Dataset\n",
        "\n",
        "Dataset of 2 variables\n",
        "\n",
        "dimarray: 35 non-null elements (0 null)\n",
        "stamp: [\"items=greenland\"]\n",
        "dimensions: 'time' x 'lat'\n",
        "0 / time (5): 1950 to 1954\n",
        "1 / lat (7): -90.0 to 90.0\n",
        "array([[ 2.07812591,  0.1717733 , -1.18688168,  0.89185607, -0.39744984,\n",
        "         1.39345526,  0.92608178],\n",
        "       [-1.14335832, -0.28564475, -0.1133733 ,  1.99332974, -0.08188526,\n",
        "        -0.68914961, -1.05052887],\n",
        "       [ 0.48487458, -0.36674439,  1.747863  , -0.24998862, -0.62192928,\n",
        "        -0.15211828,  1.47555918],\n",
        "       [-0.34294815, -1.48985857,  2.00340693, -0.37220279,  0.12769733,\n",
        "        -1.22373248, -0.81431303],\n",
        "       [ 0.73994593, -0.60778512,  0.07961788,  0.3257365 , -0.44881214,\n",
        "        -0.44604646,  1.43207687]])\n",
        "\n",
        "dimarray: 35 non-null elements (0 null)\n",
        "stamp: [\"items=antarctica\"]\n",
        "dimensions: 'time' x 'lat'\n",
        "0 / time (5): 1950 to 1954\n",
        "1 / lat (7): -90.0 to 90.0\n",
        "array([[  9.03219368e-01,  -8.51162443e-01,   3.47650779e-01,\n",
        "         -6.26722706e-04,   7.09142859e-01,  -5.06620706e-01,\n",
        "          4.42522569e-01],\n",
        "       [  1.25601873e+00,   4.41609214e-01,   5.08653675e-01,\n",
        "         -1.74509418e+00,  -5.90447052e-01,  -1.06491749e+00,\n",
        "         -6.92378529e-01],\n",
        "       [ -8.19861585e-01,   5.66416026e-01,   5.53669706e-01,\n",
        "          1.39437083e+00,  -1.07700126e+00,   1.00460416e+00,\n",
        "          2.24163377e+00],\n",
        "       [  3.45194052e-01,   7.00182628e-01,  -1.16262456e+00,\n",
        "          6.45449006e-01,  -1.78412133e-01,  -9.13229184e-01,\n",
        "         -1.12330699e+00],\n",
        "       [  3.39029826e-01,   5.54147189e-02,  -1.50657774e+00,\n",
        "         -2.23903917e+00,  -6.95427580e-01,  -2.23588464e-01,\n",
        "         -8.12046858e-02]])\n"
       ]
      }
     ],
     "prompt_number": 23
    }
   ],
   "metadata": {}
  }
 ]
}