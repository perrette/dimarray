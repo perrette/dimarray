{
 "metadata": {
  "name": ""
 },
 "nbformat": 3,
 "nbformat_minor": 0,
 "worksheets": [
  {
   "cells": [
    {
     "cell_type": "heading",
     "level": 1,
     "metadata": {},
     "source": [
      "Introduction to dimarray"
     ]
    },
    {
     "cell_type": "markdown",
     "metadata": {},
     "source": [
      "Download dimarray on [github](https://github.com/perrette/dimarray/) or just take a look at this notebook on [nbviewer](http://nbviewer.ipython.org/github/perrette/dimarray/blob/master/dimarray.ipynb)"
     ]
    },
    {
     "cell_type": "code",
     "collapsed": false,
     "input": [
      "import numpy as np\n",
      "import dimarray as da\n",
      "from dimarray import DimArray"
     ],
     "language": "python",
     "metadata": {},
     "outputs": [],
     "prompt_number": 1
    },
    {
     "cell_type": "markdown",
     "metadata": {},
     "source": [
      "##Definition and attributes of a DimArray"
     ]
    },
    {
     "cell_type": "markdown",
     "metadata": {},
     "source": [
      "A __`DimArray`__ can be defined just like a numpy array, with additional information about its dimensions, which are referred to as `axes`, for consistency with numpy and pandas. The default way it to provide axes as a list of tuples (`axis name`, `axis values`) to fully identify the array. "
     ]
    },
    {
     "cell_type": "code",
     "collapsed": false,
     "input": [
      "a = DimArray([[1,2,3],[4,5,6]], axes=[(\"dim0\",[\"a\",\"b\"]), (\"dim1\", [0,1,2])]) \n",
      "a"
     ],
     "language": "python",
     "metadata": {},
     "outputs": [
      {
       "metadata": {},
       "output_type": "pyout",
       "prompt_number": 2,
       "text": [
        "dimarray: 6 non-null elements (0 null)\n",
        "dimensions: 'dim0', 'dim1'\n",
        "0 / dim0 (2): a to b\n",
        "1 / dim1 (3): 0 to 2\n",
        "array([[1, 2, 3],\n",
        "       [4, 5, 6]])"
       ]
      }
     ],
     "prompt_number": 2
    },
    {
     "cell_type": "markdown",
     "metadata": {},
     "source": [
      "Array data are stored in a `values` attribute:"
     ]
    },
    {
     "cell_type": "code",
     "collapsed": false,
     "input": [
      "a.values"
     ],
     "language": "python",
     "metadata": {},
     "outputs": [
      {
       "metadata": {},
       "output_type": "pyout",
       "prompt_number": 3,
       "text": [
        "array([[1, 2, 3],\n",
        "       [4, 5, 6]])"
       ]
      }
     ],
     "prompt_number": 3
    },
    {
     "cell_type": "markdown",
     "metadata": {},
     "source": [
      "While dimensions are stored in an `axes` attribute, which is a custom list of __`Axis`__ objects:"
     ]
    },
    {
     "cell_type": "code",
     "collapsed": false,
     "input": [
      "a.axes"
     ],
     "language": "python",
     "metadata": {},
     "outputs": [
      {
       "metadata": {},
       "output_type": "pyout",
       "prompt_number": 4,
       "text": [
        "dimensions: 'dim0', 'dim1'\n",
        "0 / dim0 (2): a to b\n",
        "1 / dim1 (3): 0 to 2"
       ]
      }
     ],
     "prompt_number": 4
    },
    {
     "cell_type": "code",
     "collapsed": false,
     "input": [
      "ax = a.axes[0]  # by integer position\n",
      "ax = a.axes['dim0'] # by axis name (for pythonistas: list with overloaded __getitem__ property)\n",
      "ax"
     ],
     "language": "python",
     "metadata": {},
     "outputs": [
      {
       "metadata": {},
       "output_type": "pyout",
       "prompt_number": 5,
       "text": [
        "dim0 (2): a to b"
       ]
      }
     ],
     "prompt_number": 5
    },
    {
     "cell_type": "markdown",
     "metadata": {},
     "source": [
      "An __`Axis`__ object itself has `name` and `values` attributes:"
     ]
    },
    {
     "cell_type": "code",
     "collapsed": false,
     "input": [
      "ax.name"
     ],
     "language": "python",
     "metadata": {},
     "outputs": [
      {
       "metadata": {},
       "output_type": "pyout",
       "prompt_number": 6,
       "text": [
        "'dim0'"
       ]
      }
     ],
     "prompt_number": 6
    },
    {
     "cell_type": "code",
     "collapsed": false,
     "input": [
      "ax.values"
     ],
     "language": "python",
     "metadata": {},
     "outputs": [
      {
       "metadata": {},
       "output_type": "pyout",
       "prompt_number": 7,
       "text": [
        "array(['a', 'b'], dtype=object)"
       ]
      }
     ],
     "prompt_number": 7
    },
    {
     "cell_type": "markdown",
     "metadata": {},
     "source": [
      "For convenience, axis names and values can be accessed directly via `dims` and `labels` attributes, and directly by their names (as long as the name does not conflict with another protected attribute of the class, in that case it needs to be accessed by axes[<axis name>].values):"
     ]
    },
    {
     "cell_type": "code",
     "collapsed": false,
     "input": [
      "a.dims # alias for a.axes[0].name, a.axes[1].name"
     ],
     "language": "python",
     "metadata": {},
     "outputs": [
      {
       "metadata": {},
       "output_type": "pyout",
       "prompt_number": 8,
       "text": [
        "('dim0', 'dim1')"
       ]
      }
     ],
     "prompt_number": 8
    },
    {
     "cell_type": "code",
     "collapsed": false,
     "input": [
      "a.dim0, a.dim1   # alias for a.axes['dim0'].values, a.axes['dim1'].values\n",
      "a.labels"
     ],
     "language": "python",
     "metadata": {},
     "outputs": [
      {
       "metadata": {},
       "output_type": "pyout",
       "prompt_number": 9,
       "text": [
        "(array(['a', 'b'], dtype=object), array([0, 1, 2]))"
       ]
      }
     ],
     "prompt_number": 9
    },
    {
     "cell_type": "markdown",
     "metadata": {},
     "source": [
      "Note that numpy-like attribute `shape` and `ndim`, among others, are also defined:"
     ]
    },
    {
     "cell_type": "code",
     "collapsed": false,
     "input": [
      "a.shape"
     ],
     "language": "python",
     "metadata": {},
     "outputs": [
      {
       "metadata": {},
       "output_type": "pyout",
       "prompt_number": 10,
       "text": [
        "(2, 3)"
       ]
      }
     ],
     "prompt_number": 10
    },
    {
     "cell_type": "code",
     "collapsed": false,
     "input": [
      "a.ndim"
     ],
     "language": "python",
     "metadata": {},
     "outputs": [
      {
       "metadata": {},
       "output_type": "pyout",
       "prompt_number": 11,
       "text": [
        "2"
       ]
      }
     ],
     "prompt_number": 11
    },
    {
     "cell_type": "markdown",
     "metadata": {},
     "source": [
      "In another world (like in R), one could also have chosen `dims` instead of `axes`. `numpy` has decided otherwise and was followed by `pandas`, so `dimarray` will just stick to it to reduce confusion. \n",
      "\n",
      "The convention chosen in `dimarray` is to refer to axis names as `dims`  (for dimensions) and to axis values as `labels`. This choice may seem a bit arbitrary, and to a certain extent it is, but it also has some internal logics. In particular, `dimensions` in the physical sense of the term refers to things with units, such time or space dimensions. A dimension is more like a fundamental property of an axis. It is conserved by indexing or slicing along an axis, and it determines whether two axes can be aligned or concatenated. `labels` may be more awkward when actually thinking about axis `values`, but it makes full sense when realizing that axis values serve as labelling the elements of an array elements. There is even a handy package whose name is drawn from it (`larry`, for labelled array). \n",
      "\n",
      "\n",
      "Well, in the hope it makes some sense to you, let's go on."
     ]
    },
    {
     "cell_type": "markdown",
     "metadata": {},
     "source": [
      "For consistency with the wording `dims`, `labels` to refer to axis names and values, the alternative definition below is equivalent to the one introduced at the beginning of this tutorial:"
     ]
    },
    {
     "cell_type": "code",
     "collapsed": false,
     "input": [
      "a = DimArray(values=[[1,2,3],[4,5,6]], labels=[[\"a\",\"b\"], [0,1,2]], dims=['dim0','dim1']) \n",
      "a"
     ],
     "language": "python",
     "metadata": {},
     "outputs": [
      {
       "metadata": {},
       "output_type": "pyout",
       "prompt_number": 12,
       "text": [
        "dimarray: 6 non-null elements (0 null)\n",
        "dimensions: 'dim0', 'dim1'\n",
        "0 / dim0 (2): a to b\n",
        "1 / dim1 (3): 0 to 2\n",
        "array([[1, 2, 3],\n",
        "       [4, 5, 6]])"
       ]
      }
     ],
     "prompt_number": 12
    },
    {
     "cell_type": "markdown",
     "metadata": {},
     "source": [
      "Note that if any of `axes=`, `dims=` or `labels=` is omitted, dimarray proceeds to automatic naming / labelling, using np.arange() for axis values, and \"x0\", \"x1\" etc... for axis names:"
     ]
    },
    {
     "cell_type": "code",
     "collapsed": false,
     "input": [
      "a = DimArray(values=[[1,2,3],[4,5,6]], dims=['dim1','dim1']) # axis values defined as np.arange()\n",
      "a.labels"
     ],
     "language": "python",
     "metadata": {},
     "outputs": [
      {
       "metadata": {},
       "output_type": "pyout",
       "prompt_number": 13,
       "text": [
        "(array([0, 1]), array([0, 1, 2]))"
       ]
      }
     ],
     "prompt_number": 13
    },
    {
     "cell_type": "code",
     "collapsed": false,
     "input": [
      "a = DimArray(values=[[1,2,3],[4,5,6]], labels=[['a','b'],[1,2,3]]) # axis values defined as np.arange()\n",
      "a.dims"
     ],
     "language": "python",
     "metadata": {},
     "outputs": [
      {
       "metadata": {},
       "output_type": "pyout",
       "prompt_number": 14,
       "text": [
        "('x0', 'x1')"
       ]
      }
     ],
     "prompt_number": 14
    },
    {
     "cell_type": "markdown",
     "metadata": {},
     "source": [
      "As a convenience for the 1-D case when axis name is less relevant, the brackets on `labels` can be omitted, with or without keywords:\n"
     ]
    },
    {
     "cell_type": "code",
     "collapsed": false,
     "input": [
      "a = DimArray(values=[1,6], labels=['a', 'b']) \n",
      "a = DimArray([1,6], ['a', 'b']) \n",
      "a"
     ],
     "language": "python",
     "metadata": {},
     "outputs": [
      {
       "metadata": {},
       "output_type": "pyout",
       "prompt_number": 15,
       "text": [
        "dimarray: 2 non-null elements (0 null)\n",
        "dimensions: 'x0'\n",
        "0 / x0 (2): a to b\n",
        "array([1, 6])"
       ]
      }
     ],
     "prompt_number": 15
    },
    {
     "cell_type": "markdown",
     "metadata": {},
     "source": [
      "## From a collections of Dimarray"
     ]
    },
    {
     "cell_type": "code",
     "collapsed": false,
     "input": [
      "from dimarray import DimArray\n",
      "a = DimArray([1,2,3])\n",
      "DimArray.from_arrays({'a':a, '2*a':2*a}) "
     ],
     "language": "python",
     "metadata": {},
     "outputs": [
      {
       "metadata": {},
       "output_type": "pyout",
       "prompt_number": 19,
       "text": [
        "dimarray: 6 non-null elements (0 null)\n",
        "dimensions: 'items', 'x0'\n",
        "0 / items (2): a to 2*a\n",
        "1 / x0 (3): 0 to 2\n",
        "array([[1, 2, 3],\n",
        "       [2, 4, 6]])"
       ]
      }
     ],
     "prompt_number": 19
    },
    {
     "cell_type": "markdown",
     "metadata": {},
     "source": [
      "or with a list"
     ]
    },
    {
     "cell_type": "code",
     "collapsed": false,
     "input": [
      "DimArray.from_arrays([a, 2*a], keys=['a','2*a']) # keys would be v0 and v1 by default"
     ],
     "language": "python",
     "metadata": {},
     "outputs": [
      {
       "metadata": {},
       "output_type": "pyout",
       "prompt_number": 20,
       "text": [
        "dimarray: 6 non-null elements (0 null)\n",
        "dimensions: 'items', 'x0'\n",
        "0 / items (2): a to 2*a\n",
        "1 / x0 (3): 0 to 2\n",
        "array([[1, 2, 3],\n",
        "       [2, 4, 6]])"
       ]
      }
     ],
     "prompt_number": 20
    },
    {
     "cell_type": "markdown",
     "metadata": {},
     "source": [
      "this allows on the fly axis alignment:"
     ]
    },
    {
     "cell_type": "code",
     "collapsed": false,
     "input": [
      "d = {'a':DimArray([10,20,30.],[0,1,2]), 'b':DimArray([1,2,3.],[1.,2.,3])}\n",
      "a = DimArray.from_arrays(d, keys=['a','b']) # keys= just needed to enforce ordering\n",
      "a"
     ],
     "language": "python",
     "metadata": {},
     "outputs": [
      {
       "metadata": {},
       "output_type": "pyout",
       "prompt_number": 21,
       "text": [
        "dimarray: 6 non-null elements (2 null)\n",
        "dimensions: 'items', 'x0'\n",
        "0 / items (2): a to b\n",
        "1 / x0 (4): 0 to 3\n",
        "array([[ 10.,  20.,  30.,  nan],\n",
        "       [ nan,   1.,   2.,   3.]])"
       ]
      }
     ],
     "prompt_number": 21
    },
    {
     "cell_type": "markdown",
     "metadata": {},
     "source": [
      "##Support for metadata"
     ]
    },
    {
     "cell_type": "markdown",
     "metadata": {},
     "source": [
      "`DimArray` and `Axis` objects, support metadata. They can be passed by keyword arguments to DimArray (not via da.array_kw or DimArray.from_kw !)"
     ]
    },
    {
     "cell_type": "code",
     "collapsed": false,
     "input": [
      "a = DimArray([[1,2,3],[4,5,6]], name='myname', units='myunits') \n",
      "a.name, a.units"
     ],
     "language": "python",
     "metadata": {},
     "outputs": [
      {
       "metadata": {},
       "output_type": "pyout",
       "prompt_number": 22,
       "text": [
        "('myname', 'myunits')"
       ]
      }
     ],
     "prompt_number": 22
    },
    {
     "cell_type": "code",
     "collapsed": false,
     "input": [
      "ax = a.axes[0]\n",
      "ax.units = \"meters\""
     ],
     "language": "python",
     "metadata": {},
     "outputs": [],
     "prompt_number": 23
    },
    {
     "cell_type": "markdown",
     "metadata": {},
     "source": [
      "metadata are conserved by slicing and along-axis transformation, but are lost with any other transformation"
     ]
    },
    {
     "cell_type": "code",
     "collapsed": false,
     "input": [
      "a[:].units"
     ],
     "language": "python",
     "metadata": {},
     "outputs": [
      {
       "metadata": {},
       "output_type": "pyout",
       "prompt_number": 24,
       "text": [
        "'myunits'"
       ]
      }
     ],
     "prompt_number": 24
    },
    {
     "cell_type": "code",
     "collapsed": false,
     "input": [
      "ax[:].units"
     ],
     "language": "python",
     "metadata": {},
     "outputs": [
      {
       "metadata": {},
       "output_type": "pyout",
       "prompt_number": 25,
       "text": [
        "'meters'"
       ]
      }
     ],
     "prompt_number": 25
    },
    {
     "cell_type": "markdown",
     "metadata": {},
     "source": [
      "##Indexing"
     ]
    },
    {
     "cell_type": "markdown",
     "metadata": {},
     "source": [
      "### by axis values"
     ]
    },
    {
     "cell_type": "code",
     "collapsed": false,
     "input": [
      "from dimarray import DimArray\n",
      "import numpy as np\n",
      "v = DimArray([[1,2,3],[4,5,6]], axes=[[\"aa\",\"bb\"], [10.,20.,30.]], dims=['x0','x1'], dtype=float) \n",
      "v"
     ],
     "language": "python",
     "metadata": {},
     "outputs": [
      {
       "metadata": {},
       "output_type": "pyout",
       "prompt_number": 4,
       "text": [
        "dimarray: 6 non-null elements (0 null)\n",
        "dimensions: 'x0', 'x1'\n",
        "0 / x0 (2): aa to bb\n",
        "1 / x1 (3): 10.0 to 30.0\n",
        "array([[ 1.,  2.,  3.],\n",
        "       [ 4.,  5.,  6.]])"
       ]
      }
     ],
     "prompt_number": 4
    },
    {
     "cell_type": "code",
     "collapsed": false,
     "input": [
      "### Single value\n",
      "a = v[:,10]\n",
      "b = v.take(10, axis=1)\n",
      "c = v.take(10, axis='x1')\n",
      "d = v.take({'x1':10}) # dict\n",
      "assert(np.all(a==b) and np.all(a==b) and np.all(a==c) and np.all(a==d))\n",
      "a"
     ],
     "language": "python",
     "metadata": {},
     "outputs": [
      {
       "metadata": {},
       "output_type": "pyout",
       "prompt_number": 5,
       "text": [
        "dimarray: 2 non-null elements (0 null)\n",
        "dimensions: 'x0'\n",
        "0 / x0 (2): aa to bb\n",
        "array([ 1.,  4.])"
       ]
      }
     ],
     "prompt_number": 5
    },
    {
     "cell_type": "code",
     "collapsed": false,
     "input": [
      "#string\n",
      "v[\"aa\"]\n",
      "v.take(\"aa\", axis=0)\n",
      "v.take(\"aa\", axis=0, keepdims=1)"
     ],
     "language": "python",
     "metadata": {},
     "outputs": [
      {
       "metadata": {},
       "output_type": "pyout",
       "prompt_number": 6,
       "text": [
        "dimarray: 3 non-null elements (0 null)\n",
        "dimensions: 'x0', 'x1'\n",
        "0 / x0 (1): aa to aa\n",
        "1 / x1 (3): 10.0 to 30.0\n",
        "array([[ 1.,  2.,  3.]])"
       ]
      }
     ],
     "prompt_number": 6
    },
    {
     "cell_type": "code",
     "collapsed": false,
     "input": [
      "v['aa',10]\n",
      "v[[\"aa\"]]\n",
      "d = v.take({'x1':10}) # dict\n",
      "v.take((\"aa\", 10), axis=0)"
     ],
     "language": "python",
     "metadata": {},
     "outputs": [
      {
       "metadata": {},
       "output_type": "pyout",
       "prompt_number": 7,
       "text": [
        "1.0"
       ]
      }
     ],
     "prompt_number": 7
    },
    {
     "cell_type": "code",
     "collapsed": false,
     "input": [
      "### List\n",
      "import numpy as np\n",
      "a = v[:,[10,20]]\n",
      "b = v.take([10,20], axis='x1')\n",
      "assert np.all(a==b)\n",
      "a"
     ],
     "language": "python",
     "metadata": {},
     "outputs": [
      {
       "metadata": {},
       "output_type": "pyout",
       "prompt_number": 8,
       "text": [
        "dimarray: 4 non-null elements (0 null)\n",
        "dimensions: 'x0', 'x1'\n",
        "0 / x0 (2): aa to bb\n",
        "1 / x1 (2): 10.0 to 20.0\n",
        "array([[ 1.,  2.],\n",
        "       [ 4.,  5.]])"
       ]
      }
     ],
     "prompt_number": 8
    },
    {
     "cell_type": "code",
     "collapsed": false,
     "input": [
      "### Slice\n",
      "c = v[:,10:20] # slice include last element\n",
      "d = v.take(slice(10,20), axis='x1') # slice via tuple"
     ],
     "language": "python",
     "metadata": {},
     "outputs": [],
     "prompt_number": 9
    },
    {
     "cell_type": "markdown",
     "metadata": {},
     "source": [
      "### by integer position"
     ]
    },
    {
     "cell_type": "code",
     "collapsed": false,
     "input": [
      "### Single values\n",
      "v.ix[:,0]  # WARNING: 'ix' stands for integer index, in contrast to pandas\n",
      "v.take(0, axis=1, indexing='position')\n",
      "v.take(0, axis='x1', indexing='position')\n",
      "v.take({\"x1\":0},indexing='position') # keyword arguments: EXPERIMENTAL"
     ],
     "language": "python",
     "metadata": {},
     "outputs": [
      {
       "metadata": {},
       "output_type": "pyout",
       "prompt_number": 10,
       "text": [
        "dimarray: 2 non-null elements (0 null)\n",
        "dimensions: 'x0'\n",
        "0 / x0 (2): aa to bb\n",
        "array([ 1.,  4.])"
       ]
      }
     ],
     "prompt_number": 10
    },
    {
     "cell_type": "code",
     "collapsed": false,
     "input": [
      "### list\n",
      "a = v.ix[:,[0,1]]\n",
      "b = v.take([0,1], axis='x1', indexing='position')"
     ],
     "language": "python",
     "metadata": {},
     "outputs": [],
     "prompt_number": 11
    },
    {
     "cell_type": "code",
     "collapsed": false,
     "input": [
      "a = v.ix[:,0:1]  # does NOT include last element\n",
      "b = v.take(slice(0,1), axis='x1', indexing='position') # slice via tuple"
     ],
     "language": "python",
     "metadata": {},
     "outputs": [],
     "prompt_number": 12
    },
    {
     "cell_type": "markdown",
     "metadata": {},
     "source": [
      "### Multi-indexing"
     ]
    },
    {
     "cell_type": "code",
     "collapsed": false,
     "input": [
      "import numpy as np\n",
      "from dimarray import DimArray\n",
      "#v = DimArray([[1,2,3],[4,5,6]], axes=[[\"aa\",\"bb\"], [10.,20.,30.]], dims=['x0','x1'], dtype=float) \n",
      "v = DimArray(np.arange(2*3*4).reshape(2,3,4))\n",
      "a = v[[0,1],:,[0,0,0]]\n",
      "b = v.ix[[0,1],:,[0,0,0]]\n",
      "assert np.all(a==b)\n",
      "a"
     ],
     "language": "python",
     "metadata": {},
     "outputs": [
      {
       "metadata": {},
       "output_type": "pyout",
       "prompt_number": 13,
       "text": [
        "dimarray: 18 non-null elements (0 null)\n",
        "dimensions: 'x0', 'x1', 'x2'\n",
        "0 / x0 (2): 0 to 1\n",
        "1 / x1 (3): 0 to 2\n",
        "2 / x2 (3): 0 to 0\n",
        "array([[[ 0,  0,  0],\n",
        "        [ 4,  4,  4],\n",
        "        [ 8,  8,  8]],\n",
        "\n",
        "       [[12, 12, 12],\n",
        "        [16, 16, 16],\n",
        "        [20, 20, 20]]])"
       ]
      }
     ],
     "prompt_number": 13
    },
    {
     "cell_type": "code",
     "collapsed": false,
     "input": [
      "import numpy as np\n",
      "from dimarray import DimArray\n",
      "#v = DimArray([[1,2,3],[4,5,6]], axes=[[\"aa\",\"bb\"], [10.,20.,30.]], dims=['x0','x1'], dtype=float) \n",
      "v = DimArray(np.arange(2*3*4).reshape(2,3,4))\n",
      "a = v.values[v> 3]\n",
      "v.axes.loc[v>3]\n",
      "#v.values[v.x0>0, v.x1>0 ,v.x2>0]\n",
      "np.dtype(bool)\n",
      "#v.x1 > 0\n",
      "#v.x0 > 0\n",
      "#v.values[[[(v.values>3)]]].shape\n",
      "#np.index_exp[v.values == 45]\n",
      "a = DimArray(np.arange(2*3).reshape(2,3))\n",
      "a[a.x0>0,a.x1>0]\n",
      "a[:,a.x1>0]"
     ],
     "language": "python",
     "metadata": {},
     "outputs": [
      {
       "metadata": {},
       "output_type": "pyout",
       "prompt_number": 14,
       "text": [
        "dimarray: 4 non-null elements (0 null)\n",
        "dimensions: 'x0', 'x1'\n",
        "0 / x0 (2): 0 to 1\n",
        "1 / x1 (2): 1 to 2\n",
        "array([[1, 2],\n",
        "       [4, 5]])"
       ]
      }
     ],
     "prompt_number": 14
    },
    {
     "cell_type": "markdown",
     "metadata": {},
     "source": [
      "This is in contrast to numpy, which would fail, since it tries to broadcast any indexing array on the same shape:"
     ]
    },
    {
     "cell_type": "code",
     "collapsed": false,
     "input": [
      "try:\n",
      "    v.values[[0,1],:,[0,0,0]]\n",
      "except Exception, msg:\n",
      "    print \"failed:\", msg"
     ],
     "language": "python",
     "metadata": {},
     "outputs": [
      {
       "output_type": "stream",
       "stream": "stdout",
       "text": [
        "failed: shape mismatch: objects cannot be broadcast to a single shape\n"
       ]
      }
     ],
     "prompt_number": 15
    },
    {
     "cell_type": "code",
     "collapsed": false,
     "input": [
      "v = DimArray(np.arange(2*3*4).reshape(2,3,4))\n",
      "v[[0,1],:,[0,0,0]].shape\n",
      "v[[0,1],[0,0,0],[0,0]]"
     ],
     "language": "python",
     "metadata": {},
     "outputs": [
      {
       "metadata": {},
       "output_type": "pyout",
       "prompt_number": 16,
       "text": [
        "dimarray: 12 non-null elements (0 null)\n",
        "dimensions: 'x0', 'x1', 'x2'\n",
        "0 / x0 (2): 0 to 1\n",
        "1 / x1 (3): 0 to 0\n",
        "2 / x2 (2): 0 to 0\n",
        "array([[[ 0,  0],\n",
        "        [ 0,  0],\n",
        "        [ 0,  0]],\n",
        "\n",
        "       [[12, 12],\n",
        "        [12, 12],\n",
        "        [12, 12]]])"
       ]
      }
     ],
     "prompt_number": 16
    },
    {
     "cell_type": "code",
     "collapsed": false,
     "input": [
      "import numpy as np\n",
      "from dimarray import DimArray\n",
      "#v = DimArray([[1,2,3],[4,5,6]], axes=[[\"aa\",\"bb\"], [10.,20.,30.]], dims=['x0','x1'], dtype=float) \n",
      "v = DimArray(np.arange(2*3*4).reshape(2,3,4))\n",
      "a = v[[0,1],:,[0,0,0]]\n",
      "b = v.take({'x0':[0,1], 'x2':[0,0,0]})\n",
      "assert np.all(a==b), \"pb chained multi-indexing\""
     ],
     "language": "python",
     "metadata": {},
     "outputs": [],
     "prompt_number": 17
    },
    {
     "cell_type": "code",
     "collapsed": false,
     "input": [
      "from dimarray import DimArray\n",
      "import numpy as np\n",
      "big = DimArray(np.zeros((2,3,4,5)))\n",
      "indices = {'x0':0 ,'x1':[2,1],'x3':[1,4]}\n",
      "sub = big.take(indices)*0\n",
      "big.put(sub+1, indices, inplace=True)\n",
      "sub2 = big.take(indices)\n",
      "sub2"
     ],
     "language": "python",
     "metadata": {},
     "outputs": [
      {
       "metadata": {},
       "output_type": "pyout",
       "prompt_number": 18,
       "text": [
        "dimarray: 16 non-null elements (0 null)\n",
        "dimensions: 'x1', 'x2', 'x3'\n",
        "0 / x1 (2): 2 to 1\n",
        "1 / x2 (4): 0 to 3\n",
        "2 / x3 (2): 1 to 4\n",
        "array([[[ 1.,  1.],\n",
        "        [ 1.,  1.],\n",
        "        [ 1.,  1.],\n",
        "        [ 1.,  1.]],\n",
        "\n",
        "       [[ 1.,  1.],\n",
        "        [ 1.,  1.],\n",
        "        [ 1.,  1.],\n",
        "        [ 1.,  1.]]])"
       ]
      }
     ],
     "prompt_number": 18
    },
    {
     "cell_type": "markdown",
     "metadata": {},
     "source": [
      "###Concatenate two array"
     ]
    },
    {
     "cell_type": "code",
     "collapsed": false,
     "input": [
      "import dimarray as da\n",
      "from dimarray import DimArray\n",
      "a = DimArray([[1,2,3],[11,22,33]])\n",
      "b = DimArray([[4,5,6],[44,55,66]])\n",
      "da.concatenate((a, b), axis=0)\n",
      "#print a"
     ],
     "language": "python",
     "metadata": {},
     "outputs": [
      {
       "metadata": {},
       "output_type": "pyout",
       "prompt_number": 19,
       "text": [
        "dimarray: 12 non-null elements (0 null)\n",
        "dimensions: 'x0', 'x1'\n",
        "0 / x0 (4): 0 to 1\n",
        "1 / x1 (3): 0 to 2\n",
        "array([[ 1,  2,  3],\n",
        "       [11, 22, 33],\n",
        "       [ 4,  5,  6],\n",
        "       [44, 55, 66]])"
       ]
      }
     ],
     "prompt_number": 19
    },
    {
     "cell_type": "markdown",
     "metadata": {},
     "source": [
      "## Reindex Axis"
     ]
    },
    {
     "cell_type": "code",
     "collapsed": false,
     "input": [
      "#import dim\n",
      "import dimarray.core._indexing as re; reload(re)\n",
      "import dimarray as da\n",
      "a = da.DimArray([1,2,3],[('x0', [1,2,3])])\n",
      "b = da.DimArray([3,4],[('x0',[1,3])])\n",
      "b.reindex_axis([1,2,3])"
     ],
     "language": "python",
     "metadata": {},
     "outputs": [
      {
       "metadata": {},
       "output_type": "pyout",
       "prompt_number": 45,
       "text": [
        "dimarray: 2 non-null elements (1 null)\n",
        "dimensions: 'x0'\n",
        "0 / x0 (3): 1 to 3\n",
        "array([  3.,  nan,   4.])"
       ]
      }
     ],
     "prompt_number": 45
    },
    {
     "cell_type": "code",
     "collapsed": false,
     "input": [
      "# Can also reindex in \"interp\" mode\n",
      "b.reindex_axis([0,1,2,3], method='interp')"
     ],
     "language": "python",
     "metadata": {},
     "outputs": [
      {
       "metadata": {},
       "output_type": "pyout",
       "prompt_number": 46,
       "text": [
        "dimarray: 3 non-null elements (1 null)\n",
        "dimensions: 'x0'\n",
        "0 / x0 (4): 0 to 3\n",
        "array([ nan,  3. ,  3.5,  4. ])"
       ]
      }
     ],
     "prompt_number": 46
    },
    {
     "cell_type": "code",
     "collapsed": false,
     "input": [
      "# Or like another array\n",
      "c = da.DimArray([[1,2,3], [1,2,3]],[('x1',[\"a\",\"b\"]),('x0',[1, 2, 3])])\n",
      "b.reindex_like(c, method='interp')\n",
      "#b.reindex_axis([1,2,3], method='interp')"
     ],
     "language": "python",
     "metadata": {},
     "outputs": [
      {
       "metadata": {},
       "output_type": "pyout",
       "prompt_number": 47,
       "text": [
        "dimarray: 3 non-null elements (0 null)\n",
        "dimensions: 'x0'\n",
        "0 / x0 (3): 1 to 3\n",
        "array([ 3. ,  3.5,  4. ])"
       ]
      }
     ],
     "prompt_number": 47
    },
    {
     "cell_type": "markdown",
     "metadata": {},
     "source": [
      "Also works with string indices"
     ]
    },
    {
     "cell_type": "code",
     "collapsed": false,
     "input": [
      "a = da.DimArray([1,2,3],[('x0', ['a','b','c'])])\n",
      "a.reindex_axis(['b','d'])"
     ],
     "language": "python",
     "metadata": {},
     "outputs": [
      {
       "metadata": {},
       "output_type": "pyout",
       "prompt_number": 48,
       "text": [
        "dimarray: 1 non-null elements (1 null)\n",
        "dimensions: 'x0'\n",
        "0 / x0 (2): b to d\n",
        "array([  2.,  nan])"
       ]
      }
     ],
     "prompt_number": 48
    },
    {
     "cell_type": "markdown",
     "metadata": {},
     "source": [
      "## Missing values"
     ]
    },
    {
     "cell_type": "code",
     "collapsed": false,
     "input": [
      "import dimarray as da\n",
      "import numpy as np\n",
      "a = da.DimArray([[1,2,-99]])\n",
      "a.setna([-99,2])  \n",
      "#a.setna([-99, a>1])  # multi-dim, multi-values, boolean"
     ],
     "language": "python",
     "metadata": {},
     "outputs": [
      {
       "metadata": {},
       "output_type": "pyout",
       "prompt_number": 1,
       "text": [
        "dimarray: 1 non-null elements (2 null)\n",
        "dimensions: 'x0', 'x1'\n",
        "0 / x0 (1): 0 to 0\n",
        "1 / x1 (3): 0 to 2\n",
        "array([[  1.,  nan,  nan]])"
       ]
      }
     ],
     "prompt_number": 1
    },
    {
     "cell_type": "markdown",
     "metadata": {},
     "source": [
      "##Modify dimensions: basic functionality"
     ]
    },
    {
     "cell_type": "markdown",
     "metadata": {},
     "source": [
      "Basic numpy methods to modify array dimensions are implemented in dimarray, with some additional functionality allowed by named dimensions."
     ]
    },
    {
     "cell_type": "markdown",
     "metadata": {},
     "source": [
      "###Transpose"
     ]
    },
    {
     "cell_type": "markdown",
     "metadata": {},
     "source": [
      "Transpose, just like its numpy equivalent, permutes dimensions, but in dimarray it can be provided with axis names instead of just axis position."
     ]
    },
    {
     "cell_type": "code",
     "collapsed": false,
     "input": [
      "a = DimArray([[1,2,3],[3,4,5]],dims=('x0','x1'))\n",
      "a.transpose()\n",
      "a.T"
     ],
     "language": "python",
     "metadata": {},
     "outputs": [
      {
       "metadata": {},
       "output_type": "pyout",
       "prompt_number": 49,
       "text": [
        "dimarray: 6 non-null elements (0 null)\n",
        "dimensions: 'x1', 'x0'\n",
        "0 / x1 (3): 0 to 2\n",
        "1 / x0 (2): 0 to 1\n",
        "array([[1, 3],\n",
        "       [2, 4],\n",
        "       [3, 5]])"
       ]
      }
     ],
     "prompt_number": 49
    },
    {
     "cell_type": "code",
     "collapsed": false,
     "input": [
      "a = DimArray([[[1,2,3],[3,4,5]]],dims=('x2','x0','x1'))\n",
      "a.transpose(('x1','x2','x0'))"
     ],
     "language": "python",
     "metadata": {},
     "outputs": [
      {
       "metadata": {},
       "output_type": "pyout",
       "prompt_number": 50,
       "text": [
        "dimarray: 6 non-null elements (0 null)\n",
        "dimensions: 'x1', 'x2', 'x0'\n",
        "0 / x1 (3): 0 to 2\n",
        "1 / x2 (1): 0 to 0\n",
        "2 / x0 (2): 0 to 1\n",
        "array([[[1, 3]],\n",
        "\n",
        "       [[2, 4]],\n",
        "\n",
        "       [[3, 5]]])"
       ]
      }
     ],
     "prompt_number": 50
    },
    {
     "cell_type": "markdown",
     "metadata": {},
     "source": [
      "###Insert new axis"
     ]
    },
    {
     "cell_type": "markdown",
     "metadata": {},
     "source": [
      "Numpy provides a np.newaxis constant (equal to None), to augment the array dimensions with new singleton axes. In dimarray, newaxis has been implemented as an array method, which requires to indicate axis name and optionally axis position (`pos=`). Under the `repeat` section, you'll see it is also possible to input the values of the new axis in order to repeast the array along it."
     ]
    },
    {
     "cell_type": "code",
     "collapsed": false,
     "input": [
      "a = DimArray([1,2])\n",
      "a.newaxis('new', pos=1)  # singleton"
     ],
     "language": "python",
     "metadata": {},
     "outputs": [
      {
       "metadata": {},
       "output_type": "pyout",
       "prompt_number": 51,
       "text": [
        "dimarray: 2 non-null elements (0 null)\n",
        "dimensions: 'x0', 'new'\n",
        "0 / x0 (2): 0 to 1\n",
        "1 / new (1): None to None\n",
        "array([[1],\n",
        "       [2]])"
       ]
      }
     ],
     "prompt_number": 51
    },
    {
     "cell_type": "markdown",
     "metadata": {},
     "source": [
      "###Reshape"
     ]
    },
    {
     "cell_type": "code",
     "collapsed": false,
     "input": [
      "a = da.DimArray.from_kw(np.arange(2), lon=[30., 40.])\n",
      "b = a.reshape(('time','lon'))\n",
      "b"
     ],
     "language": "python",
     "metadata": {},
     "outputs": [
      {
       "metadata": {},
       "output_type": "pyout",
       "prompt_number": 52,
       "text": [
        "dimarray: 2 non-null elements (0 null)\n",
        "dimensions: 'time', 'lon'\n",
        "0 / time (1): None to None\n",
        "1 / lon (2): 30.0 to 40.0\n",
        "array([[0, 1]])"
       ]
      }
     ],
     "prompt_number": 52
    },
    {
     "cell_type": "markdown",
     "metadata": {},
     "source": [
      "### Repeat"
     ]
    },
    {
     "cell_type": "code",
     "collapsed": false,
     "input": [
      "### Single axis:\n",
      ">>> b.repeat(np.arange(1950,1955), axis=\"time\")  # doctest: +ELLIPSIS"
     ],
     "language": "python",
     "metadata": {},
     "outputs": [
      {
       "metadata": {},
       "output_type": "pyout",
       "prompt_number": 53,
       "text": [
        "dimarray: 10 non-null elements (0 null)\n",
        "dimensions: 'time', 'lon'\n",
        "0 / time (5): 1950 to 1954\n",
        "1 / lon (2): 30.0 to 40.0\n",
        "array([[0, 1],\n",
        "       [0, 1],\n",
        "       [0, 1],\n",
        "       [0, 1],\n",
        "       [0, 1]])"
       ]
      }
     ],
     "prompt_number": 53
    },
    {
     "cell_type": "code",
     "collapsed": false,
     "input": [
      "### Multi-axis\n",
      "# ...create some dummy data:\n",
      "lon = np.linspace(10, 30, 2)\n",
      "lat = np.linspace(10, 50, 3)\n",
      "time = np.arange(1950,1955)\n",
      "ts = da.DimArray.from_kw(np.arange(5), time=time)\n",
      "cube = da.DimArray.from_kw(np.zeros((3,2,5)), lon=lon, lat=lat, time=time)  # lat x lon x time\n",
      "cube.axes  # doctest: +ELLIPSIS"
     ],
     "language": "python",
     "metadata": {},
     "outputs": [
      {
       "metadata": {},
       "output_type": "pyout",
       "prompt_number": 54,
       "text": [
        "dimensions: 'lat', 'lon', 'time'\n",
        "0 / lat (3): 10.0 to 50.0\n",
        "1 / lon (2): 10.0 to 30.0\n",
        "2 / time (5): 1950 to 1954"
       ]
      }
     ],
     "prompt_number": 54
    },
    {
     "cell_type": "code",
     "collapsed": false,
     "input": [
      "### In combination with repeat\n",
      "a.newaxis('new', values=['a','b'],pos=1) # repeat 2 times along the first axis"
     ],
     "language": "python",
     "metadata": {},
     "outputs": [
      {
       "metadata": {},
       "output_type": "pyout",
       "prompt_number": 55,
       "text": [
        "dimarray: 4 non-null elements (0 null)\n",
        "dimensions: 'lon', 'new'\n",
        "0 / lon (2): 30.0 to 40.0\n",
        "1 / new (2): a to b\n",
        "array([[0, 0],\n",
        "       [1, 1]])"
       ]
      }
     ],
     "prompt_number": 55
    },
    {
     "cell_type": "markdown",
     "metadata": {},
     "source": [
      "###Broadcast"
     ]
    },
    {
     "cell_type": "code",
     "collapsed": false,
     "input": [
      "# broadcast along new axes (reshape + repeat array)\n",
      ">>> ts3D = ts.broadcast(cube) #  lat x lon x time\n",
      "ts3D"
     ],
     "language": "python",
     "metadata": {},
     "outputs": [
      {
       "metadata": {},
       "output_type": "pyout",
       "prompt_number": 56,
       "text": [
        "dimarray: 30 non-null elements (0 null)\n",
        "dimensions: 'lat', 'lon', 'time'\n",
        "0 / lat (3): 10.0 to 50.0\n",
        "1 / lon (2): 10.0 to 30.0\n",
        "2 / time (5): 1950 to 1954\n",
        "array([[[0, 1, 2, 3, 4],\n",
        "        [0, 1, 2, 3, 4]],\n",
        "\n",
        "       [[0, 1, 2, 3, 4],\n",
        "        [0, 1, 2, 3, 4]],\n",
        "\n",
        "       [[0, 1, 2, 3, 4],\n",
        "        [0, 1, 2, 3, 4]]])"
       ]
      }
     ],
     "prompt_number": 56
    },
    {
     "cell_type": "markdown",
     "metadata": {},
     "source": [
      "##Align arrays"
     ]
    },
    {
     "cell_type": "markdown",
     "metadata": {},
     "source": [
      "###Align dimensions"
     ]
    },
    {
     "cell_type": "code",
     "collapsed": false,
     "input": [
      "# Keep new axes as singleton dimensions\n",
      "x = da.DimArray(np.arange(2), dims=('x0',))\n",
      "y = da.DimArray(np.arange(3), dims=('x1',))\n",
      "da.align_dims(x, y)"
     ],
     "language": "python",
     "metadata": {},
     "outputs": [
      {
       "metadata": {},
       "output_type": "pyout",
       "prompt_number": 57,
       "text": [
        "[dimarray: 2 non-null elements (0 null)\n",
        "dimensions: 'x0', 'x1'\n",
        "0 / x0 (2): 0 to 1\n",
        "1 / x1 (1): None to None\n",
        "array([[0],\n",
        "       [1]]),\n",
        " dimarray: 3 non-null elements (0 null)\n",
        "dimensions: 'x0', 'x1'\n",
        "0 / x0 (1): None to None\n",
        "1 / x1 (3): 0 to 2\n",
        "array([[0, 1, 2]])]"
       ]
      }
     ],
     "prompt_number": 57
    },
    {
     "cell_type": "code",
     "collapsed": false,
     "input": [
      "# Broadcast arrays: all array have same size\n",
      "da.broadcast_arrays(x, y)"
     ],
     "language": "python",
     "metadata": {},
     "outputs": [
      {
       "metadata": {},
       "output_type": "pyout",
       "prompt_number": 58,
       "text": [
        "[dimarray: 6 non-null elements (0 null)\n",
        "dimensions: 'x0', 'x1'\n",
        "0 / x0 (2): 0 to 1\n",
        "1 / x1 (3): 0 to 2\n",
        "array([[0, 0, 0],\n",
        "       [1, 1, 1]]),\n",
        " dimarray: 6 non-null elements (0 null)\n",
        "dimensions: 'x0', 'x1'\n",
        "0 / x0 (2): 0 to 1\n",
        "1 / x1 (3): 0 to 2\n",
        "array([[0, 1, 2],\n",
        "       [0, 1, 2]])]"
       ]
      }
     ],
     "prompt_number": 58
    },
    {
     "cell_type": "markdown",
     "metadata": {},
     "source": [
      "### Align axes"
     ]
    },
    {
     "cell_type": "code",
     "collapsed": false,
     "input": [
      "a = da.DimArray([1,2,3],('x0',[1,2,3]))\n",
      "b = da.DimArray([3,4],('x0',[2,4]))\n",
      "da.align_axes(a, b)"
     ],
     "language": "python",
     "metadata": {},
     "outputs": [
      {
       "metadata": {},
       "output_type": "pyout",
       "prompt_number": 59,
       "text": [
        "[dimarray: 3 non-null elements (1 null)\n",
        "dimensions: 'x0'\n",
        "0 / x0 (4): 1 to 4\n",
        "array([  1.,   2.,   3.,  nan]),\n",
        " dimarray: 2 non-null elements (2 null)\n",
        "dimensions: 'x0'\n",
        "0 / x0 (4): 1 to 4\n",
        "array([ nan,   3.,  nan,   4.])]"
       ]
      }
     ],
     "prompt_number": 59
    },
    {
     "cell_type": "markdown",
     "metadata": {},
     "source": [
      "##Concatenate (along-axis) arrays"
     ]
    },
    {
     "cell_type": "code",
     "collapsed": false,
     "input": [
      "import dimarray as da\n",
      "import numpy as np\n",
      "a = da.DimArray([[1.,2,3]],axes=[('line',[1]), ('col',['a','b','c'])])\n",
      "b = da.DimArray([[4,5,6],[7,8,9]], axes=[('line',[2,3]), ('col',['a','b','c'])])\n",
      "da.concatenate((a,b))"
     ],
     "language": "python",
     "metadata": {},
     "outputs": [
      {
       "metadata": {},
       "output_type": "pyout",
       "prompt_number": 10,
       "text": [
        "dimarray: 9 non-null elements (0 null)\n",
        "dimensions: 'line', 'col'\n",
        "0 / line (3): 1 to 3\n",
        "1 / col (3): a to c\n",
        "array([[ 1.,  2.,  3.],\n",
        "       [ 4.,  5.,  6.],\n",
        "       [ 7.,  8.,  9.]])"
       ]
      }
     ],
     "prompt_number": 10
    },
    {
     "cell_type": "markdown",
     "metadata": {},
     "source": [
      "## Aggregate arrays of varying dimensions (multi-axis)"
     ]
    },
    {
     "cell_type": "code",
     "collapsed": false,
     "input": [
      "%pylab\n",
      "a = arange(4)\n",
      "a[(a==2)+0]\n",
      "(a==2)+0\n",
      "a[[0,1,0,1]]\n",
      "#a[np.array([0,1,0,1])]\n",
      "a[np.array([0,1,0,1], dtype=int) == True]"
     ],
     "language": "python",
     "metadata": {},
     "outputs": [
      {
       "output_type": "stream",
       "stream": "stdout",
       "text": [
        "Using matplotlib backend: GTKAgg\n",
        "Populating the interactive namespace from numpy and matplotlib\n"
       ]
      },
      {
       "metadata": {},
       "output_type": "pyout",
       "prompt_number": 31,
       "text": [
        "array([1, 3])"
       ]
      }
     ],
     "prompt_number": 31
    },
    {
     "cell_type": "markdown",
     "metadata": {},
     "source": [
      "Here a nice example of puzzle filling (values in the output array indicate the order of insertion):"
     ]
    },
    {
     "cell_type": "code",
     "collapsed": false,
     "input": [
      "import dimarray as da\n",
      "import numpy as np\n",
      "a = da.DimArray([[1.,2,3]],axes=[('line',[1]), ('col',['a','b','c'])])\n",
      "b = da.DimArray([[4],[5]], axes=[('line',[2,3]), ('col',['d'])])\n",
      "c = da.DimArray([[6]], axes=[('line',[2]), ('col',['b'])])\n",
      "d = da.DimArray([-7], axes=[('line',[4])])\n",
      "da.aggregate((a,b,c,d))"
     ],
     "language": "python",
     "metadata": {},
     "outputs": [
      {
       "metadata": {},
       "output_type": "pyout",
       "prompt_number": 1,
       "text": [
        "dimarray: 10 non-null elements (6 null)\n",
        "dimensions: 'line', 'col'\n",
        "0 / line (4): 1 to 4\n",
        "1 / col (4): a to d\n",
        "array([[  1.,   2.,   3.,  nan],\n",
        "       [ nan,   6.,  nan,   4.],\n",
        "       [ nan,  nan,  nan,   5.],\n",
        "       [ -7.,  -7.,  -7.,  -7.]])"
       ]
      }
     ],
     "prompt_number": 1
    },
    {
     "cell_type": "markdown",
     "metadata": {},
     "source": [
      "Risk of overlapping checked. In case of overlapping of a valid and an invalid value, keep the valid one"
     ]
    },
    {
     "cell_type": "code",
     "collapsed": false,
     "input": [
      "a = da.DimArray([[1.,2,3]],axes=[('line',[1]), ('col',['a','b','c'])])\n",
      "e = da.DimArray([[np.nan],[5]], axes=[('line',[1,2]), ('col',['b'])])\n",
      "da.aggregate((a,e)) # does not overwrite `2` at location (1, 'b')"
     ],
     "language": "python",
     "metadata": {},
     "outputs": [
      {
       "metadata": {},
       "output_type": "pyout",
       "prompt_number": 2,
       "text": [
        "dimarray: 4 non-null elements (2 null)\n",
        "dimensions: 'line', 'col'\n",
        "0 / line (2): 1 to 2\n",
        "1 / col (3): a to c\n",
        "array([[  1.,   2.,   3.],\n",
        "       [ nan,   5.,  nan]])"
       ]
      }
     ],
     "prompt_number": 2
    },
    {
     "cell_type": "markdown",
     "metadata": {},
     "source": [
      "But any loss of data (overlap between two valid values) is prevented by raising an exception:"
     ]
    },
    {
     "cell_type": "code",
     "collapsed": false,
     "input": [
      "a = da.DimArray([[1.,2,3]],axes=[('line',[1]), ('col',['a','b','c'])])\n",
      "e = da.DimArray([[4],[5]], axes=[('line',[1,2]), ('col',['b'])])\n",
      "try:\n",
      "    da.aggregate((a,e))\n",
      "except Exception, msg:\n",
      "    print msg"
     ],
     "language": "python",
     "metadata": {},
     "outputs": [
      {
       "output_type": "stream",
       "stream": "stdout",
       "text": [
        "Overlapping arrays: set check_overlap to False to suppress this error.\n"
       ]
      }
     ],
     "prompt_number": 6
    },
    {
     "cell_type": "markdown",
     "metadata": {},
     "source": [
      "Unless specified otherwise with `check_overlap=False` (will also speedup the operation)"
     ]
    },
    {
     "cell_type": "code",
     "collapsed": false,
     "input": [
      "da.aggregate((a,e), check_overlap=False)"
     ],
     "language": "python",
     "metadata": {},
     "outputs": [
      {
       "metadata": {},
       "output_type": "pyout",
       "prompt_number": 7,
       "text": [
        "dimarray: 4 non-null elements (2 null)\n",
        "dimensions: 'line', 'col'\n",
        "0 / line (2): 1 to 2\n",
        "1 / col (3): a to c\n",
        "array([[  1.,   4.,   3.],\n",
        "       [ nan,   5.,  nan]])"
       ]
      }
     ],
     "prompt_number": 7
    },
    {
     "cell_type": "markdown",
     "metadata": {},
     "source": [
      "##Operations"
     ]
    },
    {
     "cell_type": "markdown",
     "metadata": {},
     "source": [
      "###Basic Operations        "
     ]
    },
    {
     "cell_type": "code",
     "collapsed": false,
     "input": [
      "a = da.DimArray([[1,2,3],[3,4,5]],dims=('x0','x1'))\n",
      "assert np.all(a == a)\n",
      "assert np.all(a+2 == a + np.ones(a.shape)*2)\n",
      "assert np.all(a+a == a*2)\n",
      "assert np.all(a*a == a**2)\n",
      "assert np.all((a - a.values) == a - a)\n",
      "a == a"
     ],
     "language": "python",
     "metadata": {},
     "outputs": [
      {
       "metadata": {},
       "output_type": "pyout",
       "prompt_number": 60,
       "text": [
        "dimarray: 6 non-null elements (0 null)\n",
        "dimensions: 'x0', 'x1'\n",
        "0 / x0 (2): 0 to 1\n",
        "1 / x1 (3): 0 to 2\n",
        "array([[ True,  True,  True],\n",
        "       [ True,  True,  True]], dtype=bool)"
       ]
      }
     ],
     "prompt_number": 60
    },
    {
     "cell_type": "markdown",
     "metadata": {},
     "source": [
      "### Operation with data alignment "
     ]
    },
    {
     "cell_type": "code",
     "collapsed": false,
     "input": [
      "import dimarray as da\n",
      "import numpy as np\n",
      "test = da.DimArray([1, 2]) == 1\n",
      "test2 = da.DimArray([1, 2]) == da.DimArray([1, 2])\n",
      "test3 = da.DimArray([1, 2]) == np.array([1, 2])\n"
     ],
     "language": "python",
     "metadata": {},
     "outputs": [],
     "prompt_number": 61
    },
    {
     "cell_type": "code",
     "collapsed": false,
     "input": [
      "# broadcasting\n",
      "x = da.DimArray(np.arange(2), dims=('x0',))\n",
      "y = da.DimArray(np.arange(3), dims=('x1',))\n",
      "x+y"
     ],
     "language": "python",
     "metadata": {},
     "outputs": [
      {
       "metadata": {},
       "output_type": "pyout",
       "prompt_number": 62,
       "text": [
        "dimarray: 6 non-null elements (0 null)\n",
        "dimensions: 'x0', 'x1'\n",
        "0 / x0 (2): 0 to 1\n",
        "1 / x1 (3): 0 to 2\n",
        "array([[0, 1, 2],\n",
        "       [1, 2, 3]])"
       ]
      }
     ],
     "prompt_number": 62
    },
    {
     "cell_type": "code",
     "collapsed": false,
     "input": [
      "# axis alignment\n",
      "z = da.DimArray([0,1,2],('x0',[0,1,2]))\n",
      "x+z"
     ],
     "language": "python",
     "metadata": {},
     "outputs": [
      {
       "metadata": {},
       "output_type": "pyout",
       "prompt_number": 63,
       "text": [
        "dimarray: 2 non-null elements (1 null)\n",
        "dimensions: 'x0'\n",
        "0 / x0 (3): 0 to 2\n",
        "array([  0.,   2.,  nan])"
       ]
      }
     ],
     "prompt_number": 63
    },
    {
     "cell_type": "code",
     "collapsed": false,
     "input": [
      "# or both\n",
      "(x+y)+(x+z)"
     ],
     "language": "python",
     "metadata": {},
     "outputs": [
      {
       "metadata": {},
       "output_type": "pyout",
       "prompt_number": 64,
       "text": [
        "dimarray: 6 non-null elements (3 null)\n",
        "dimensions: 'x0', 'x1'\n",
        "0 / x0 (3): 0 to 2\n",
        "1 / x1 (3): 0 to 2\n",
        "array([[  0.,   1.,   2.],\n",
        "       [  3.,   4.,   5.],\n",
        "       [ nan,  nan,  nan]])"
       ]
      }
     ],
     "prompt_number": 64
    },
    {
     "cell_type": "markdown",
     "metadata": {},
     "source": [
      "##Numpy Transformations"
     ]
    },
    {
     "cell_type": "code",
     "collapsed": false,
     "input": [
      "np.random.seed(0)\n",
      "v = da.DimArray(np.random.randn(5,7), {'time':np.arange(1950,1955), 'lat':np.linspace(-90,90,7)})"
     ],
     "language": "python",
     "metadata": {},
     "outputs": [],
     "prompt_number": 65
    },
    {
     "cell_type": "markdown",
     "metadata": {},
     "source": [
      "Basic transforms: reduce axis"
     ]
    },
    {
     "cell_type": "code",
     "collapsed": false,
     "input": [
      "v.sum() # sum over all axes\n",
      "v.sum(axis=0) # sum over first axis\n",
      "v.sum(axis='time') # named axis\n",
      "v.prod(axis='time') # named axis\n",
      "v.mean(axis='time') # named axis\n",
      "v.var(axis='time') # named axis\n",
      "v.std(axis='time') # named axis\n",
      "v.median(axis='time') # named axis\n",
      "v.min(axis='time') # named axis\n",
      "v.max(axis='time') # named axis\n",
      "v.ptp(axis='time') # named axis\n",
      "v.all(axis='time') # named axis\n",
      "v.any(axis='time') # named axis"
     ],
     "language": "python",
     "metadata": {},
     "outputs": [
      {
       "metadata": {},
       "output_type": "pyout",
       "prompt_number": 66,
       "text": [
        "dimarray: 7 non-null elements (0 null)\n",
        "dimensions: 'lat'\n",
        "0 / lat (7): -90.0 to 90.0\n",
        "array([ True,  True,  True,  True,  True,  True,  True], dtype=bool)"
       ]
      }
     ],
     "prompt_number": 66
    },
    {
     "cell_type": "markdown",
     "metadata": {},
     "source": [
      "locmin/locmax as dimarray equivalent of argmin/argmax: return axis value "
     ]
    },
    {
     "cell_type": "code",
     "collapsed": false,
     "input": [
      "v.locmin(axis='time') \n",
      "v.locmin() # over all axes\n",
      "v.locmax(axis='time') \n",
      "v.locmax() # over all axes\n",
      "v.locmax(axis='time')\n",
      "assert v[v.locmax()] == v.max(), \"problem with locmax/max\"\n",
      "assert v[v.locmin()] == v.min(), \"problem with locmin/min\"\n",
      "res = np.array([v.ix[i][ix] for i, ix in enumerate(v.locmax(axis=1).values)])\n",
      "assert np.all(res == v.max(axis=1)), \"problem with locmax/max\"\n",
      "v.locmax()"
     ],
     "language": "python",
     "metadata": {},
     "outputs": [
      {
       "metadata": {},
       "output_type": "pyout",
       "prompt_number": 67,
       "text": [
        "(1953, 0.0)"
       ]
      }
     ],
     "prompt_number": 67
    },
    {
     "cell_type": "markdown",
     "metadata": {},
     "source": [
      "cumulative transformation"
     ]
    },
    {
     "cell_type": "code",
     "collapsed": false,
     "input": [
      "v.cumsum() # last axis\n",
      "v.cumsum(axis=None) # return numpy array\n",
      "assert np.all(v.cumsum(axis=-1) == v.cumsum()), \"default last axis\""
     ],
     "language": "python",
     "metadata": {},
     "outputs": [],
     "prompt_number": 68
    },
    {
     "cell_type": "markdown",
     "metadata": {},
     "source": [
      "new diff method"
     ]
    },
    {
     "cell_type": "code",
     "collapsed": false,
     "input": [
      "v.diff(axis='time', keepaxis=False)\n",
      "v.diff(axis=0, keepaxis=False, scheme='centered')\n",
      "v.diff(axis=0, keepaxis=False, scheme='backward')\n",
      "v.diff(axis=0, keepaxis=False, scheme='forward')\n",
      "v.diff(axis=0, keepaxis=True, scheme='backward')\n",
      "v.diff(axis=0, keepaxis=True, scheme='forward')\n",
      "v.diff(n=2,axis=('time'), scheme='centered')"
     ],
     "language": "python",
     "metadata": {},
     "outputs": [
      {
       "metadata": {},
       "output_type": "pyout",
       "prompt_number": 69,
       "text": [
        "dimarray: 21 non-null elements (0 null)\n",
        "dimensions: 'time', 'lat'\n",
        "0 / time (3): 1951.0 to 1953.0\n",
        "1 / lat (7): -90.0 to 90.0\n",
        "array([[ 2.51063   ,  0.94026924,  1.65162005,  1.74764779, -0.72792132,\n",
        "        -3.35344907, -1.84625143],\n",
        "       [-0.38546508,  0.09386869, -3.31972466,  2.82411472, -0.62622757,\n",
        "         2.51498772,  5.0404708 ],\n",
        "       [ 0.66940526,  0.0741607 ,  3.13335654, -4.36650499,  2.3340133 ,\n",
        "        -2.92640924, -2.52653427]])"
       ]
      }
     ],
     "prompt_number": 69
    },
    {
     "cell_type": "code",
     "collapsed": false,
     "input": [
      "# CHECK AGAINST PANDAS\n",
      "assert np.all(v.std(ddof=1, axis=0).values==v.to_pandas().std().values), \"std vs pandas\"\n",
      "assert np.sum((v.var(ddof=1, axis=0).values-v.to_pandas().var().values)**2)<1e-10, \"var vs pandas\"\n",
      "assert np.all(v.cumsum(axis=0).values == v.to_pandas().cumsum().values), \"error against pandas\"\n",
      "assert np.all(v.cumprod(axis=0).values == v.to_pandas().cumprod().values), \"error against pandas\"\n",
      "assert np.nansum((v.diff(axis=0, keepaxis=True).cumsum(axis=0).values - v.to_pandas().diff().cumsum().values)**2) \\\n",
      "  < 1e-10, \"error against pandas\""
     ],
     "language": "python",
     "metadata": {},
     "outputs": [],
     "prompt_number": 70
    },
    {
     "cell_type": "markdown",
     "metadata": {},
     "source": [
      "##Dataset"
     ]
    },
    {
     "cell_type": "markdown",
     "metadata": {},
     "source": [
      "Aggregate several DimArray to a Dataset object, it will automatically align the data.\n",
      "\n",
      "It can be empty, just given some axes:"
     ]
    },
    {
     "cell_type": "code",
     "collapsed": false,
     "input": [
      "import dimarray as da\n",
      "axes = da.Axes.from_tuples(('time',[1, 2, 3]))\n",
      "ds = da.Dataset(axes=axes)\n",
      "a = da.DimArray([[0, 1],[2, 3]], dims=('time','items'))\n",
      "ds['yo'] = a.reindex_like(ds)"
     ],
     "language": "python",
     "metadata": {},
     "outputs": [],
     "prompt_number": 71
    },
    {
     "cell_type": "code",
     "collapsed": false,
     "input": [
      "import dimarray as da\n",
      "%pylab\n",
      "seed(0)\n",
      "mymap = da.DimArray.from_kw(randn(50,7), lon=linspace(-180,180,50), lat=linspace(-90,90,7))\n",
      "ts = da.DimArray(np.arange(5), ('time',arange(1950,1955)))\n",
      "ts2 = da.DimArray(np.arange(10), ('time',arange(1950,1960)))\n",
      "\n",
      "# Define a Dataset made of several variables\n",
      "data = da.Dataset({'ts':ts, 'ts2':ts2, 'mymap':mymap})\n",
      "data = da.Dataset([ts, ts2, mymap], keys=['ts','ts2','mymap'])"
     ],
     "language": "python",
     "metadata": {},
     "outputs": [
      {
       "output_type": "stream",
       "stream": "stdout",
       "text": [
        "Using matplotlib backend: GTKAgg\n",
        "Populating the interactive namespace from numpy and matplotlib\n"
       ]
      },
      {
       "output_type": "stream",
       "stream": "stderr",
       "text": [
        "WARNING: pylab import has clobbered these variables: ['indices', 'axes', 'f', 'test', 'e']\n",
        "`%pylab --no-import-all` prevents importing * from pylab and numpy\n"
       ]
      }
     ],
     "prompt_number": 72
    },
    {
     "cell_type": "markdown",
     "metadata": {},
     "source": [
      "Data have been automatically aligned, while keeping the same shape"
     ]
    },
    {
     "cell_type": "code",
     "collapsed": false,
     "input": [
      "assert np.all(data['ts'].time == data['ts2'].time),\"Dataset: pb data alignment\" \n",
      "data['ts']"
     ],
     "language": "python",
     "metadata": {},
     "outputs": []
    },
    {
     "cell_type": "markdown",
     "metadata": {},
     "source": [
      "Can also add any other data as long as it is aligned with the dataset"
     ]
    },
    {
     "cell_type": "code",
     "collapsed": false,
     "input": [
      "data['test'] = da.DimArray([0],('source',['greenland']))  # new axis\n",
      "try:\n",
      "    data['test2'] = da.DimArray([0,3],('source',['greenland','antarctica']))\n",
      "except Exception, msg:\n",
      "    print msg\n",
      "data\n",
      "## TODO: \"expand\" Dataset (such as reindex_axis)"
     ],
     "language": "python",
     "metadata": {},
     "outputs": []
    },
    {
     "cell_type": "code",
     "collapsed": false,
     "input": [
      "# Export to a DimArray\n",
      "print data.to_array()"
     ],
     "language": "python",
     "metadata": {},
     "outputs": [
      {
       "ename": "NameError",
       "evalue": "name 'data' is not defined",
       "output_type": "pyerr",
       "traceback": [
        "\u001b[1;31m---------------------------------------------------------------------------\u001b[0m\n\u001b[1;31mNameError\u001b[0m                                 Traceback (most recent call last)",
        "\u001b[1;32m<ipython-input-44-410bc5942745>\u001b[0m in \u001b[0;36m<module>\u001b[1;34m()\u001b[0m\n\u001b[0;32m      1\u001b[0m \u001b[1;31m# Export to a DimArray\u001b[0m\u001b[1;33m\u001b[0m\u001b[1;33m\u001b[0m\u001b[0m\n\u001b[1;32m----> 2\u001b[1;33m \u001b[1;32mprint\u001b[0m \u001b[0mdata\u001b[0m\u001b[1;33m.\u001b[0m\u001b[0mto_array\u001b[0m\u001b[1;33m(\u001b[0m\u001b[1;33m)\u001b[0m\u001b[1;33m\u001b[0m\u001b[0m\n\u001b[0m",
        "\u001b[1;31mNameError\u001b[0m: name 'data' is not defined"
       ]
      }
     ],
     "prompt_number": 44
    },
    {
     "cell_type": "markdown",
     "metadata": {},
     "source": [
      "##NetCDF I/O"
     ]
    },
    {
     "cell_type": "code",
     "collapsed": false,
     "input": [
      "from dimarray import DimArray, summary_nc, read_nc\n",
      "a = DimArray([1,2], dims='xx0')\n",
      "b = DimArray([3,4,5], dims='xx1')\n",
      "a.write_nc(\"test.nc\",\"a\", mode='w')\n",
      "b.write_nc(\"test.nc\",\"b\", mode='a')\n",
      "data = read_nc(\"test.nc\")\n",
      "data"
     ],
     "language": "python",
     "metadata": {},
     "outputs": []
    },
    {
     "cell_type": "markdown",
     "metadata": {},
     "source": [
      "A real-data example"
     ]
    },
    {
     "cell_type": "code",
     "collapsed": false,
     "input": [
      "path=\"/media/Data/Data/All/Etopo/Etopo5.cdf\"\n",
      "import dimarray.io.nc as ncio; reload(ncio) \n",
      "import dimarray as da\n",
      "print da.summary_nc(path)\n",
      "da.read_nc(path, \"elev\", indices={\"X\":slice(0.0,10), \"Y\":slice(80., 70)}, tol=0.1)\n",
      "#da.read_nc(path, \"elev\", indices={\"X\":slice(10), \"Y\":slice(-10,None)}, numpy_indexing=True)"
     ],
     "language": "python",
     "metadata": {},
     "outputs": []
    },
    {
     "cell_type": "markdown",
     "metadata": {},
     "source": [
      "### From a DimArray"
     ]
    },
    {
     "cell_type": "code",
     "collapsed": false,
     "input": [
      "seed(0)\n",
      "v = da.DimArray(randn(5,7,2), [(\"time\",np.arange(1950,1955)), (\"lat\",np.linspace(-90,90,7)), (\"items\",np.array(['greenland','antarctica']))])\n",
      "v"
     ],
     "language": "python",
     "metadata": {},
     "outputs": []
    },
    {
     "cell_type": "code",
     "collapsed": false,
     "input": [
      "# writing\n",
      "v.write_nc(\"test2.nc\",\"myvarstr\", mode=\"w\")"
     ],
     "language": "python",
     "metadata": {},
     "outputs": []
    },
    {
     "cell_type": "code",
     "collapsed": false,
     "input": [
      "# checking\n",
      "da.summary_nc(\"test2.nc\")"
     ],
     "language": "python",
     "metadata": {},
     "outputs": []
    },
    {
     "cell_type": "code",
     "collapsed": false,
     "input": [
      "# reading\n",
      "w = da.read_nc(\"test2.nc\")\n",
      "assert np.all(w['myvarstr'] == v), \"Problem when reading netcdf\"\n",
      "w"
     ],
     "language": "python",
     "metadata": {},
     "outputs": []
    },
    {
     "cell_type": "markdown",
     "metadata": {},
     "source": [
      "### From/To Dataset"
     ]
    },
    {
     "cell_type": "code",
     "collapsed": false,
     "input": [
      "data.write('test3.nc','w')\n",
      "da.summary_nc('test3.nc')"
     ],
     "language": "python",
     "metadata": {},
     "outputs": []
    },
    {
     "cell_type": "markdown",
     "metadata": {},
     "source": [
      "##Experimental Features"
     ]
    },
    {
     "cell_type": "markdown",
     "metadata": {},
     "source": [
      "###Group / Ungroup"
     ]
    },
    {
     "cell_type": "code",
     "collapsed": false,
     "input": [
      "%pylab\n",
      "import dimarray as da\n",
      "np.random.seed(0)\n",
      "v = da.DimArray.from_kw(np.random.randn(2,5,180), time=np.arange(1950,1955), lat=np.linspace(-90,90,180), items=np.array(['greenland','antarctica']))\n",
      "v"
     ],
     "language": "python",
     "metadata": {},
     "outputs": []
    },
    {
     "cell_type": "markdown",
     "metadata": {},
     "source": [
      "Flatten a set of dimensions:"
     ]
    },
    {
     "cell_type": "code",
     "collapsed": false,
     "input": [
      "w = v.group(('time','lat'))\n",
      "w"
     ],
     "language": "python",
     "metadata": {},
     "outputs": []
    },
    {
     "cell_type": "markdown",
     "metadata": {},
     "source": [
      "Ungroup: get back to previous full n-d array"
     ]
    },
    {
     "cell_type": "code",
     "collapsed": false,
     "input": [
      "w.ungroup()"
     ],
     "language": "python",
     "metadata": {},
     "outputs": []
    },
    {
     "cell_type": "markdown",
     "metadata": {},
     "source": [
      "pass a tuple or list of dimensions to an axis-transform, to pre-flatten grouping in transformations"
     ]
    },
    {
     "cell_type": "code",
     "collapsed": false,
     "input": [
      "v.mean(axis=('time','lat'))"
     ],
     "language": "python",
     "metadata": {},
     "outputs": []
    },
    {
     "cell_type": "markdown",
     "metadata": {},
     "source": [
      "###Weighted mean"
     ]
    },
    {
     "cell_type": "markdown",
     "metadata": {},
     "source": [
      "Each axis can have a `weights` attribute. If not None, it will be automatically used when computing mean, var, std"
     ]
    },
    {
     "cell_type": "code",
     "collapsed": false,
     "input": [
      ">>> np.random.seed(0)\n",
      ">>> data = da.DimArray(randn(7), ('lat',linspace(-90,90,7)))\n",
      "\n",
      ">>> umean = data.mean(axis='lat')\n",
      "print \"\\nunweighted zonal mean:\\n\\n\", umean\n",
      "\n",
      "# now add weights\n",
      ">>> data.axes['lat'].weights = lambda x: np.cos(np.radians(x))\n",
      "\n",
      ">>> wmean = data.mean(axis='lat')\n",
      "print \"\\nweighted zonal mean:\\n\", wmean\n",
      "\n",
      ">>> wmean = data[:].mean(axis='lat')\n",
      "print \"\\nweighted zonal mean after [:]:\\n\", wmean\n",
      "\n",
      ">>> test =  data.mean(axis='lat', weights=None) \n",
      "print \"\\nCHECK:\", test == umean"
     ],
     "language": "python",
     "metadata": {},
     "outputs": []
    },
    {
     "cell_type": "code",
     "collapsed": false,
     "input": [
      "# Weighted mean with grouping\n",
      "#>>> mymap[mymap.lon > 0])\n",
      "#lon=linspace(-180,180,50), \n",
      "mymap = data.reshape(('lat','lon')).repeat(linspace(-180,180,5), axis='lon')\n",
      "mymap.values[:,0] = np.nan\n",
      "#>>> print mymap\n",
      "#lon=linspace(-180,180,50)\n",
      "wmean = mymap.mean()\n",
      "print \"\\nNaN + flatten all:\\n\",umean\n",
      "#>>> wmean = mymap.mean(axis=('lon','lat'))\n",
      "wmean = mymap.mean(axis='lon').mean(axis='lat')\n",
      "print \"\\nNaN + sequential:\\n\",wmean\n",
      "cube = da.DimArray(randn(50,7,5), [('lon',linspace(-180,180,50)), (\"lat\",linspace(-90,90,7)), ('time',arange(1950,1955))])\n",
      "cube.axes['lat'].weights = lambda x: np.cos(np.radians(x))"
     ],
     "language": "python",
     "metadata": {},
     "outputs": []
    },
    {
     "cell_type": "markdown",
     "metadata": {},
     "source": [
      "###Interpolation"
     ]
    },
    {
     "cell_type": "code",
     "collapsed": false,
     "input": [
      "time=np.linspace(1950,1955,8)\n",
      "v = da.DimArray.from_kw(cos(time), time=time)\n",
      "#w = v.reindex_axis(arange(1940,1960), axis='time') \n",
      "w = da.interp1d(v, np.linspace(1948,1957,10), axis='time')\n",
      "#%matplotlib inline\n",
      "clf()\n",
      "plot(v.time, v.values, label='original')\n",
      "plot(w.time, w.values, label='interp')\n",
      "legend()\n",
      "show()\n",
      "draw()"
     ],
     "language": "python",
     "metadata": {},
     "outputs": []
    },
    {
     "cell_type": "markdown",
     "metadata": {},
     "source": [
      "###Export to other formats"
     ]
    },
    {
     "cell_type": "code",
     "collapsed": false,
     "input": [
      "#reload(da) # for dict\n",
      "v = da.DimArray.from_kw(randn(2,5,7), time=arange(1950,1955), lat=linspace(-90,90,7), items=array(['greenland','antarctica']))\n",
      "#reload(co) # for dict\n",
      "\n",
      "print \"\\nExport to pandas\\n\"\n",
      "print v.to_pandas()\n",
      "print \"\\nExport to larry\\n\"\n",
      "print v.to_larry()\n",
      "#print \"\\nExport to Dataset\\n\"\n",
      "#print v.to()\n",
      "#v.to_MaskedArray() # to masked array"
     ],
     "language": "python",
     "metadata": {},
     "outputs": []
    },
    {
     "cell_type": "code",
     "collapsed": false,
     "input": [
      ">>> from pandas import Series, DataFrame\n",
      ">>> s = Series([3,5,6], index=['a','b','c'])\n",
      ">>> s.index.name = 'dim0'\n",
      ">>> print DimArray.from_pandas(s)\n",
      ">>> d = DataFrame([[3,5,6],[1,2,3]], index=[50,20], columns=['a','b','c'])\n",
      ">>> d.index.name = 'ii'\n",
      ">>> d.columns.name = 'cc'\n",
      ">>> print \n",
      ">>> print DimArray.from_pandas(d)"
     ],
     "language": "python",
     "metadata": {},
     "outputs": []
    },
    {
     "cell_type": "markdown",
     "metadata": {},
     "source": [
      "##doctest framework"
     ]
    },
    {
     "cell_type": "code",
     "collapsed": false,
     "input": [
      "import dimarray.tests as tests\n",
      "#import dimarray.tests as tests\n",
      "tests.main()\n",
      "#run test.test_all()"
     ],
     "language": "python",
     "metadata": {},
     "outputs": []
    },
    {
     "cell_type": "code",
     "collapsed": false,
     "input": [
      "%debug"
     ],
     "language": "python",
     "metadata": {},
     "outputs": []
    }
   ],
   "metadata": {}
  }
 ]
}