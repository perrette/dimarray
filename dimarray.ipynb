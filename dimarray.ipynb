{
 "metadata": {
  "name": ""
 },
 "nbformat": 3,
 "nbformat_minor": 0,
 "worksheets": [
  {
   "cells": [
    {
     "cell_type": "heading",
     "level": 1,
     "metadata": {},
     "source": [
      "Introduction to dimarray"
     ]
    },
    {
     "cell_type": "markdown",
     "metadata": {},
     "source": [
      "Download dimarray on [github](https://github.com/perrette/dimarray/) or just take a look at this notebook on [nbviewer](http://nbviewer.ipython.org/github/perrette/dimarray/blob/master/dimarray.ipynb)"
     ]
    },
    {
     "cell_type": "markdown",
     "metadata": {},
     "source": [
      "### Table of Content\n",
      "- [Get started](#Get-started)\n",
      "- [More on defininig a DimArray:](#More-on-defininig-a-DimArray:)\n",
      "- [Indexing](#Indexing)\n",
      "    - [Basics: integer, array, slice](#Basics:-integer,-array,-slice)\n",
      "    - [Modify array values](#Modify-array-values)\n",
      "    - [`take` and `put` methods](#take-and-put-methods)\n",
      "- [Reindex Axis](#Reindex-Axis)\n",
      "- [Modify dimensions: basic functionality](#Modify-dimensions:-basic-functionality)\n",
      "    - [Transpose](#Transpose)\n",
      "    - [Insert new axis](#Insert-new-axis)\n",
      "    - [Reshape](#Reshape)\n",
      "    - [Group / Ungroup [Experimental]](#Group-/-Ungroup-[Experimental])\n",
      "    - [Repeat](#Repeat)\n",
      "    - [Broadcast](#Broadcast)\n",
      "- [Align arrays](#Align-arrays)\n",
      "- [Join arrays](#Join-arrays)\n",
      "    - [Concatenate arrays along existing axis](#Concatenate-arrays-along-existing-axis)\n",
      "    - [Concatenate a collection of arrays along a new axis](#Concatenate-a-collection-of-arrays-along-a-new-axis)\n",
      "- [Operations](#Operations)\n",
      "    - [Basic Operations        ](#Basic-Operations--------)\n",
      "    - [Operation with data alignment ](#Operation-with-data-alignment-)\n",
      "- [Numpy Transformations](#Numpy-Transformations)\n",
      "- [Missing values](#Missing-values)\n",
      "- [Dataset](#Dataset)\n",
      "- [NetCDF I/O](#NetCDF-I/O)\n",
      "    - [From a DimArray](#From-a-DimArray)\n",
      "    - [From/To Dataset](#From/To-Dataset)\n",
      "- [Experimental Features](#Experimental-Features)\n",
      "    - [Aggregate arrays of varying dimensions](#Aggregate-arrays-of-varying-dimensions)\n",
      "    - [Metadata](#Metadata)\n",
      "    - [Weighted mean](#Weighted-mean)\n",
      "    - [Interpolation](#Interpolation)\n",
      "    - [Export to other formats](#Export-to-other-formats)\n",
      "- [doctest framework](#doctest-framework)"
     ]
    },
    {
     "cell_type": "heading",
     "level": 2,
     "metadata": {},
     "source": [
      "Get started"
     ]
    },
    {
     "cell_type": "markdown",
     "metadata": {},
     "source": [
      "A __`DimArray`__ can be defined just like a numpy array, with additional information about its dimensions, which are referred to as `axes`, for consistency with numpy and pandas. The default way it to provide axes as a list of tuples (`axis name`, `axis values`) to fully identify the array. "
     ]
    },
    {
     "cell_type": "code",
     "collapsed": false,
     "input": [
      "import numpy as np\n",
      "import dimarray as da\n",
      "from dimarray import DimArray"
     ],
     "language": "python",
     "metadata": {},
     "outputs": [],
     "prompt_number": 2
    },
    {
     "cell_type": "code",
     "collapsed": false,
     "input": [
      "a = DimArray([[1,2,3],[4,5,6]], axes=[(\"dim0\",[\"a\",\"b\"]), (\"dim1\", [0,1,2])]) \n",
      "a"
     ],
     "language": "python",
     "metadata": {},
     "outputs": [
      {
       "metadata": {},
       "output_type": "pyout",
       "prompt_number": 3,
       "text": [
        "dimarray: 6 non-null elements (0 null)\n",
        "dimensions: 'dim0', 'dim1'\n",
        "0 / dim0 (2): a to b\n",
        "1 / dim1 (3): 0 to 2\n",
        "array([[1, 2, 3],\n",
        "       [4, 5, 6]])"
       ]
      }
     ],
     "prompt_number": 3
    },
    {
     "cell_type": "markdown",
     "metadata": {},
     "source": [
      "Array data are stored in a `values` attribute:"
     ]
    },
    {
     "cell_type": "code",
     "collapsed": false,
     "input": [
      "a.values"
     ],
     "language": "python",
     "metadata": {},
     "outputs": [
      {
       "metadata": {},
       "output_type": "pyout",
       "prompt_number": 4,
       "text": [
        "array([[1, 2, 3],\n",
        "       [4, 5, 6]])"
       ]
      }
     ],
     "prompt_number": 4
    },
    {
     "cell_type": "markdown",
     "metadata": {},
     "source": [
      "While dimensions are stored in an `axes` attribute, which is a custom list of __`Axis`__ objects:"
     ]
    },
    {
     "cell_type": "code",
     "collapsed": false,
     "input": [
      "a.axes"
     ],
     "language": "python",
     "metadata": {},
     "outputs": [
      {
       "metadata": {},
       "output_type": "pyout",
       "prompt_number": 5,
       "text": [
        "dimensions: 'dim0', 'dim1'\n",
        "0 / dim0 (2): a to b\n",
        "1 / dim1 (3): 0 to 2"
       ]
      }
     ],
     "prompt_number": 5
    },
    {
     "cell_type": "code",
     "collapsed": false,
     "input": [
      "ax = a.axes[0]  # by integer position\n",
      "ax = a.axes['dim0'] # by axis name (for pythonistas: list with overloaded __getitem__ property)\n",
      "ax"
     ],
     "language": "python",
     "metadata": {},
     "outputs": [
      {
       "metadata": {},
       "output_type": "pyout",
       "prompt_number": 6,
       "text": [
        "dim0 (2): a to b"
       ]
      }
     ],
     "prompt_number": 6
    },
    {
     "cell_type": "markdown",
     "metadata": {},
     "source": [
      "An __`Axis`__ object itself has `name` and `values` attributes:"
     ]
    },
    {
     "cell_type": "code",
     "collapsed": false,
     "input": [
      "ax.name"
     ],
     "language": "python",
     "metadata": {},
     "outputs": [
      {
       "metadata": {},
       "output_type": "pyout",
       "prompt_number": 7,
       "text": [
        "'dim0'"
       ]
      }
     ],
     "prompt_number": 7
    },
    {
     "cell_type": "code",
     "collapsed": false,
     "input": [
      "ax.values"
     ],
     "language": "python",
     "metadata": {},
     "outputs": [
      {
       "metadata": {},
       "output_type": "pyout",
       "prompt_number": 8,
       "text": [
        "array(['a', 'b'], dtype=object)"
       ]
      }
     ],
     "prompt_number": 8
    },
    {
     "cell_type": "markdown",
     "metadata": {},
     "source": [
      "For convenience, axis names and values can be accessed directly via `dims` and `labels` attributes, and directly by their names (as long as the name does not conflict with another protected attribute of the class, in that case it needs to be accessed by axes[<axis name>].values):"
     ]
    },
    {
     "cell_type": "code",
     "collapsed": false,
     "input": [
      "a.dims # alias for a.axes[0].name, a.axes[1].name"
     ],
     "language": "python",
     "metadata": {},
     "outputs": [
      {
       "metadata": {},
       "output_type": "pyout",
       "prompt_number": 9,
       "text": [
        "('dim0', 'dim1')"
       ]
      }
     ],
     "prompt_number": 9
    },
    {
     "cell_type": "code",
     "collapsed": false,
     "input": [
      "a.dim0, a.dim1   # alias for a.axes['dim0'].values, a.axes['dim1'].values\n",
      "a.labels"
     ],
     "language": "python",
     "metadata": {},
     "outputs": [
      {
       "metadata": {},
       "output_type": "pyout",
       "prompt_number": 10,
       "text": [
        "(array(['a', 'b'], dtype=object), array([0, 1, 2]))"
       ]
      }
     ],
     "prompt_number": 10
    },
    {
     "cell_type": "markdown",
     "metadata": {},
     "source": [
      "Note that numpy-like attribute `shape` and `ndim`, among others, are also defined:"
     ]
    },
    {
     "cell_type": "code",
     "collapsed": false,
     "input": [
      "a.shape"
     ],
     "language": "python",
     "metadata": {},
     "outputs": [
      {
       "metadata": {},
       "output_type": "pyout",
       "prompt_number": 11,
       "text": [
        "(2, 3)"
       ]
      }
     ],
     "prompt_number": 11
    },
    {
     "cell_type": "code",
     "collapsed": false,
     "input": [
      "a.ndim"
     ],
     "language": "python",
     "metadata": {},
     "outputs": [
      {
       "metadata": {},
       "output_type": "pyout",
       "prompt_number": 12,
       "text": [
        "2"
       ]
      }
     ],
     "prompt_number": 12
    },
    {
     "cell_type": "heading",
     "level": 2,
     "metadata": {},
     "source": [
      "More on defininig a DimArray:"
     ]
    },
    {
     "cell_type": "markdown",
     "metadata": {},
     "source": [
      "In another world (like in R), one could also have chosen `dims` instead of `axes`. `numpy` has decided otherwise and was followed by `pandas`, so `dimarray` will just stick to it to reduce confusion. \n",
      "\n",
      "The convention chosen in `dimarray` is to refer to axis names as `dims`  (for dimensions) and to axis values as `labels`. This choice may seem a bit arbitrary, and to a certain extent it is, but it also has some internal logics. In particular, `dimensions` in the physical sense of the term refers to things with units, such time or space dimensions. A dimension is more like a fundamental property of an axis. It is conserved by indexing or slicing along an axis, and it determines whether two axes can be aligned or concatenated. `labels` may be more awkward when actually thinking about axis `values`, but it makes full sense when realizing that axis values serve as labelling the elements of an array elements. There is even a handy package whose name is drawn from it (`larry`, for labelled array). \n",
      "\n",
      "\n",
      "Well, in the hope it makes some sense to you, let's go on."
     ]
    },
    {
     "cell_type": "markdown",
     "metadata": {},
     "source": [
      "For consistency with the wording `dims`, `labels` to refer to axis names and values, the alternative definition below is equivalent to the one introduced at the beginning of this tutorial:"
     ]
    },
    {
     "cell_type": "code",
     "collapsed": false,
     "input": [
      "a = DimArray(values=[[1,2,3],[4,5,6]], labels=[[\"a\",\"b\"], [0,1,2]], dims=['dim0','dim1']) \n",
      "a"
     ],
     "language": "python",
     "metadata": {},
     "outputs": [
      {
       "metadata": {},
       "output_type": "pyout",
       "prompt_number": 13,
       "text": [
        "dimarray: 6 non-null elements (0 null)\n",
        "dimensions: 'dim0', 'dim1'\n",
        "0 / dim0 (2): a to b\n",
        "1 / dim1 (3): 0 to 2\n",
        "array([[1, 2, 3],\n",
        "       [4, 5, 6]])"
       ]
      }
     ],
     "prompt_number": 13
    },
    {
     "cell_type": "markdown",
     "metadata": {},
     "source": [
      "Note that if any of `axes=`, `dims=` or `labels=` is omitted, dimarray proceeds to automatic naming / labelling, using np.arange() for axis values, and \"x0\", \"x1\" etc... for axis names:"
     ]
    },
    {
     "cell_type": "code",
     "collapsed": false,
     "input": [
      "a = DimArray(values=[[1,2,3],[4,5,6]], dims=['dim1','dim1']) # axis values defined as np.arange()\n",
      "a.labels"
     ],
     "language": "python",
     "metadata": {},
     "outputs": [
      {
       "metadata": {},
       "output_type": "pyout",
       "prompt_number": 14,
       "text": [
        "(array([0, 1]), array([0, 1, 2]))"
       ]
      }
     ],
     "prompt_number": 14
    },
    {
     "cell_type": "code",
     "collapsed": false,
     "input": [
      "a = DimArray(values=[[1,2,3],[4,5,6]], labels=[['a','b'],[1,2,3]]) # axis values defined as np.arange()\n",
      "a.dims"
     ],
     "language": "python",
     "metadata": {},
     "outputs": [
      {
       "metadata": {},
       "output_type": "pyout",
       "prompt_number": 15,
       "text": [
        "('x0', 'x1')"
       ]
      }
     ],
     "prompt_number": 15
    },
    {
     "cell_type": "markdown",
     "metadata": {},
     "source": [
      "As a convenience for the 1-D case when axis name is less relevant, the brackets on `labels` can be omitted, with or without keywords:\n"
     ]
    },
    {
     "cell_type": "code",
     "collapsed": false,
     "input": [
      "a = DimArray(values=[1,6], labels=['a', 'b']) \n",
      "a = DimArray([1,6], ['a', 'b']) \n",
      "a"
     ],
     "language": "python",
     "metadata": {},
     "outputs": [
      {
       "metadata": {},
       "output_type": "pyout",
       "prompt_number": 16,
       "text": [
        "dimarray: 2 non-null elements (0 null)\n",
        "dimensions: 'x0'\n",
        "0 / x0 (2): a to b\n",
        "array([1, 6])"
       ]
      }
     ],
     "prompt_number": 16
    },
    {
     "cell_type": "heading",
     "level": 2,
     "metadata": {},
     "source": [
      "Indexing"
     ]
    },
    {
     "cell_type": "heading",
     "level": 3,
     "metadata": {},
     "source": [
      "Basics: integer, array, slice"
     ]
    },
    {
     "cell_type": "markdown",
     "metadata": {},
     "source": [
      "There are various ways of indexing a DimArray, and all follow numpy's rules, except that in the default behaviour indices refer to axis values and not to position on the axis, in contrast to numpy. "
     ]
    },
    {
     "cell_type": "code",
     "collapsed": false,
     "input": [
      "from dimarray import DimArray\n",
      "import numpy as np"
     ],
     "language": "python",
     "metadata": {},
     "outputs": [],
     "prompt_number": 17
    },
    {
     "cell_type": "code",
     "collapsed": false,
     "input": [
      "v = DimArray([[1,2],[3,4],[5,6],[7,8]], labels=[[\"a\",\"b\",\"c\",\"d\"], [10.,20.]], dims=['x0','x1'], dtype=float) \n",
      "v"
     ],
     "language": "python",
     "metadata": {},
     "outputs": [
      {
       "metadata": {},
       "output_type": "pyout",
       "prompt_number": 18,
       "text": [
        "dimarray: 8 non-null elements (0 null)\n",
        "dimensions: 'x0', 'x1'\n",
        "0 / x0 (4): a to d\n",
        "1 / x1 (2): 10.0 to 20.0\n",
        "array([[ 1.,  2.],\n",
        "       [ 3.,  4.],\n",
        "       [ 5.,  6.],\n",
        "       [ 7.,  8.]])"
       ]
      }
     ],
     "prompt_number": 18
    },
    {
     "cell_type": "code",
     "collapsed": false,
     "input": [
      "v['a',20]  # extract a single item"
     ],
     "language": "python",
     "metadata": {},
     "outputs": [
      {
       "metadata": {},
       "output_type": "pyout",
       "prompt_number": 19,
       "text": [
        "2.0"
       ]
      }
     ],
     "prompt_number": 19
    },
    {
     "cell_type": "markdown",
     "metadata": {},
     "source": [
      "The `ix` attrubutes is the pendant for position (integer) indexing (and exclusively so !). It is therefore similar to indexing on the `values` attribute, except that it returns a new DimArray, where v.values[...] would return a numpy ndarray."
     ]
    },
    {
     "cell_type": "code",
     "collapsed": false,
     "input": [
      "v.ix[0, 1] # or use `ix` to use integer indexing"
     ],
     "language": "python",
     "metadata": {},
     "outputs": [
      {
       "metadata": {},
       "output_type": "pyout",
       "prompt_number": 20,
       "text": [
        "2.0"
       ]
      }
     ],
     "prompt_number": 20
    },
    {
     "cell_type": "markdown",
     "metadata": {},
     "source": [
      "Note that the last element of slices is INCLUDED, contrary to numpy's position indexing. Step argument is always intrepreted as an integer."
     ]
    },
    {
     "cell_type": "code",
     "collapsed": false,
     "input": [
      "v['a':'c',10]  # 'c' is INCLUDED"
     ],
     "language": "python",
     "metadata": {},
     "outputs": [
      {
       "metadata": {},
       "output_type": "pyout",
       "prompt_number": 21,
       "text": [
        "dimarray: 3 non-null elements (0 null)\n",
        "dimensions: 'x0'\n",
        "0 / x0 (3): a to c\n",
        "array([ 1.,  3.,  5.])"
       ]
      }
     ],
     "prompt_number": 21
    },
    {
     "cell_type": "code",
     "collapsed": false,
     "input": [
      "v[['a','c'],10]  # it is possible to provide a list"
     ],
     "language": "python",
     "metadata": {},
     "outputs": [
      {
       "metadata": {},
       "output_type": "pyout",
       "prompt_number": 22,
       "text": [
        "dimarray: 2 non-null elements (0 null)\n",
        "dimensions: 'x0'\n",
        "0 / x0 (2): a to c\n",
        "array([ 1.,  5.])"
       ]
      }
     ],
     "prompt_number": 22
    },
    {
     "cell_type": "code",
     "collapsed": false,
     "input": [
      "v[v.x0 != 'b',10]  # boolean indexing is also fine"
     ],
     "language": "python",
     "metadata": {},
     "outputs": [
      {
       "metadata": {},
       "output_type": "pyout",
       "prompt_number": 23,
       "text": [
        "dimarray: 3 non-null elements (0 null)\n",
        "dimensions: 'x0'\n",
        "0 / x0 (3): a to d\n",
        "array([ 1.,  5.,  7.])"
       ]
      }
     ],
     "prompt_number": 23
    },
    {
     "cell_type": "markdown",
     "metadata": {},
     "source": [
      "If several array-like indices are provided, they are broadcast into a single shape (like numpy does), and values are extracted along the corresponding line. "
     ]
    },
    {
     "cell_type": "code",
     "collapsed": false,
     "input": [
      "v[['a','c'],[10,20]]  # it is possible to provide a list"
     ],
     "language": "python",
     "metadata": {},
     "outputs": [
      {
       "metadata": {},
       "output_type": "pyout",
       "prompt_number": 24,
       "text": [
        "dimarray: 2 non-null elements (0 null)\n",
        "dimensions: 'x0,x1'\n",
        "0 / x0,x1 (2): ('a', '10.0') to ('c', '20.0')\n",
        "array([ 1.,  6.])"
       ]
      }
     ],
     "prompt_number": 24
    },
    {
     "cell_type": "markdown",
     "metadata": {},
     "source": [
      "This is in contrast to matlab or pandas, which use box-like indexing, along each dimension independently. This can be achieved with the `box` attribute:"
     ]
    },
    {
     "cell_type": "code",
     "collapsed": false,
     "input": [
      "v.box[['a','c'],[10,20]]  # indexing on each dimension, individually"
     ],
     "language": "python",
     "metadata": {},
     "outputs": [
      {
       "metadata": {},
       "output_type": "pyout",
       "prompt_number": 25,
       "text": [
        "dimarray: 4 non-null elements (0 null)\n",
        "dimensions: 'x0', 'x1'\n",
        "0 / x0 (2): a to c\n",
        "1 / x1 (2): 10.0 to 20.0\n",
        "array([[ 1.,  2.],\n",
        "       [ 5.,  6.]])"
       ]
      }
     ],
     "prompt_number": 25
    },
    {
     "cell_type": "heading",
     "level": 3,
     "metadata": {},
     "source": [
      "Modify array values"
     ]
    },
    {
     "cell_type": "markdown",
     "metadata": {},
     "source": [
      "All the above can be used to change array values, consistently with what you would expect. A few examples:"
     ]
    },
    {
     "cell_type": "code",
     "collapsed": false,
     "input": [
      "v[:] = 0\n",
      "v['d'] = 1\n",
      "v['b', 10] = 2\n",
      "v.box[['a','c'],[10,20]] = 3\n",
      "v[['a','c'],[10,20]] = 4\n",
      "v.values[-1] = 5 # last element to 5 \n",
      "v.ix[-1] = 6\n",
      "v"
     ],
     "language": "python",
     "metadata": {},
     "outputs": [
      {
       "metadata": {},
       "output_type": "pyout",
       "prompt_number": 26,
       "text": [
        "dimarray: 8 non-null elements (0 null)\n",
        "dimensions: 'x0', 'x1'\n",
        "0 / x0 (4): a to d\n",
        "1 / x1 (2): 10.0 to 20.0\n",
        "array([[ 4.,  3.],\n",
        "       [ 2.,  0.],\n",
        "       [ 3.,  4.],\n",
        "       [ 6.,  6.]])"
       ]
      }
     ],
     "prompt_number": 26
    },
    {
     "cell_type": "heading",
     "level": 3,
     "metadata": {},
     "source": [
      "`take` and `put` methods"
     ]
    },
    {
     "cell_type": "markdown",
     "metadata": {},
     "source": [
      "These two methods are the machinery to accessing and modifying items in the examples above.\n",
      "They may be useful to use directly for generic programming. \n",
      "They are similar to numpy methods of the same name, but also work in multiple dimensions.\n",
      "In particular, they both take dictionary, tuples and boolean arrays as `indices` argument."
     ]
    },
    {
     "cell_type": "code",
     "collapsed": false,
     "input": [
      "v = DimArray([[1,2],[3,4],[5,6],[7,8]], labels=[[\"a\",\"b\",\"c\",\"d\"], [10.,20.]], dims=['x0','x1'], dtype=float) "
     ],
     "language": "python",
     "metadata": {},
     "outputs": [],
     "prompt_number": 27
    },
    {
     "cell_type": "code",
     "collapsed": false,
     "input": [
      "a = v[:,10]\n",
      "b = v.take(10, axis=1)\n",
      "c = v.take(10, axis='x1')\n",
      "d = v.take({'x1':10}) # dict\n",
      "e = v.take((slice(None),10)) # tuple\n",
      "assert(np.all(a==b) and np.all(a==b) and np.all(a==c) and np.all(a==d) and np.all(a==e))\n",
      "a"
     ],
     "language": "python",
     "metadata": {},
     "outputs": [
      {
       "metadata": {},
       "output_type": "pyout",
       "prompt_number": 28,
       "text": [
        "dimarray: 4 non-null elements (0 null)\n",
        "dimensions: 'x0'\n",
        "0 / x0 (4): a to d\n",
        "array([ 1.,  3.,  5.,  7.])"
       ]
      }
     ],
     "prompt_number": 28
    },
    {
     "cell_type": "markdown",
     "metadata": {},
     "source": [
      "The two latter forms, `tuple` or `dict`, allow performing multi-indexing. Array broadcasting is controlled by \"broadcast_arrays\" parameter."
     ]
    },
    {
     "cell_type": "code",
     "collapsed": false,
     "input": [
      "v.take({'x0':['a','b'], 'x1':[10, 20]}) "
     ],
     "language": "python",
     "metadata": {},
     "outputs": [
      {
       "metadata": {},
       "output_type": "pyout",
       "prompt_number": 29,
       "text": [
        "dimarray: 2 non-null elements (0 null)\n",
        "dimensions: 'x0,x1'\n",
        "0 / x0,x1 (2): ('a', '10.0') to ('b', '20.0')\n",
        "array([ 1.,  4.])"
       ]
      }
     ],
     "prompt_number": 29
    },
    {
     "cell_type": "code",
     "collapsed": false,
     "input": [
      "v.take({'x0':['a','b'], 'x1':[10, 20]}, broadcast_arrays=False)  #  same as v.box[['a','b'],[10, 20]]"
     ],
     "language": "python",
     "metadata": {},
     "outputs": [
      {
       "metadata": {},
       "output_type": "pyout",
       "prompt_number": 30,
       "text": [
        "dimarray: 4 non-null elements (0 null)\n",
        "dimensions: 'x0', 'x1'\n",
        "0 / x0 (2): a to b\n",
        "1 / x1 (2): 10.0 to 20.0\n",
        "array([[ 1.,  2.],\n",
        "       [ 3.,  4.]])"
       ]
      }
     ],
     "prompt_number": 30
    },
    {
     "cell_type": "markdown",
     "metadata": {},
     "source": [
      "The 'indexing' parameter can be set to `position` (same as `ix`) instead of `values`"
     ]
    },
    {
     "cell_type": "code",
     "collapsed": false,
     "input": [
      "v.take(0, axis=1, indexing='position')"
     ],
     "language": "python",
     "metadata": {},
     "outputs": [
      {
       "metadata": {},
       "output_type": "pyout",
       "prompt_number": 31,
       "text": [
        "dimarray: 4 non-null elements (0 null)\n",
        "dimensions: 'x0'\n",
        "0 / x0 (4): a to d\n",
        "array([ 1.,  3.,  5.,  7.])"
       ]
      }
     ],
     "prompt_number": 31
    },
    {
     "cell_type": "markdown",
     "metadata": {},
     "source": [
      "Note the `put` command returns a copy by default (`inplace=` can be passed as True, though)."
     ]
    },
    {
     "cell_type": "code",
     "collapsed": false,
     "input": [
      "v.put(-99, indices=10, axis='x1')"
     ],
     "language": "python",
     "metadata": {},
     "outputs": [
      {
       "metadata": {},
       "output_type": "pyout",
       "prompt_number": 32,
       "text": [
        "dimarray: 8 non-null elements (0 null)\n",
        "dimensions: 'x0', 'x1'\n",
        "0 / x0 (4): a to d\n",
        "1 / x1 (2): 10.0 to 20.0\n",
        "array([[-99.,   2.],\n",
        "       [-99.,   4.],\n",
        "       [-99.,   6.],\n",
        "       [-99.,   8.]])"
       ]
      }
     ],
     "prompt_number": 32
    },
    {
     "cell_type": "heading",
     "level": 2,
     "metadata": {},
     "source": [
      "Reindex Axis"
     ]
    },
    {
     "cell_type": "code",
     "collapsed": false,
     "input": [
      "#import dim\n",
      "import dimarray.core._indexing as re; reload(re)\n",
      "import dimarray as da\n",
      "a = da.DimArray([1,2,3],[('x0', [1,2,3])])\n",
      "b = da.DimArray([3,4],[('x0',[1,3])])\n",
      "b.reindex_axis([1,2,3])"
     ],
     "language": "python",
     "metadata": {},
     "outputs": [
      {
       "metadata": {},
       "output_type": "pyout",
       "prompt_number": 33,
       "text": [
        "dimarray: 2 non-null elements (1 null)\n",
        "dimensions: 'x0'\n",
        "0 / x0 (3): 1 to 3\n",
        "array([  3.,  nan,   4.])"
       ]
      }
     ],
     "prompt_number": 33
    },
    {
     "cell_type": "code",
     "collapsed": false,
     "input": [
      "# Can also reindex in \"interp\" mode\n",
      "b.reindex_axis([0,1,2,3], method='interp')"
     ],
     "language": "python",
     "metadata": {},
     "outputs": [
      {
       "metadata": {},
       "output_type": "pyout",
       "prompt_number": 34,
       "text": [
        "dimarray: 3 non-null elements (1 null)\n",
        "dimensions: 'x0'\n",
        "0 / x0 (4): 0 to 3\n",
        "array([ nan,  3. ,  3.5,  4. ])"
       ]
      }
     ],
     "prompt_number": 34
    },
    {
     "cell_type": "code",
     "collapsed": false,
     "input": [
      "# Or like another array\n",
      "c = da.DimArray([[1,2,3], [1,2,3]],[('x1',[\"a\",\"b\"]),('x0',[1, 2, 3])])\n",
      "b.reindex_like(c, method='interp')\n",
      "#b.reindex_axis([1,2,3], method='interp')"
     ],
     "language": "python",
     "metadata": {},
     "outputs": [
      {
       "metadata": {},
       "output_type": "pyout",
       "prompt_number": 35,
       "text": [
        "dimarray: 3 non-null elements (0 null)\n",
        "dimensions: 'x0'\n",
        "0 / x0 (3): 1 to 3\n",
        "array([ 3. ,  3.5,  4. ])"
       ]
      }
     ],
     "prompt_number": 35
    },
    {
     "cell_type": "markdown",
     "metadata": {},
     "source": [
      "Also works with string indices"
     ]
    },
    {
     "cell_type": "code",
     "collapsed": false,
     "input": [
      "a = da.DimArray([1,2,3],[('x0', ['a','b','c'])])\n",
      "a.reindex_axis(['b','d'])"
     ],
     "language": "python",
     "metadata": {},
     "outputs": [
      {
       "metadata": {},
       "output_type": "pyout",
       "prompt_number": 36,
       "text": [
        "dimarray: 1 non-null elements (1 null)\n",
        "dimensions: 'x0'\n",
        "0 / x0 (2): b to d\n",
        "array([  2.,  nan])"
       ]
      }
     ],
     "prompt_number": 36
    },
    {
     "cell_type": "heading",
     "level": 2,
     "metadata": {},
     "source": [
      "Modify dimensions: basic functionality"
     ]
    },
    {
     "cell_type": "markdown",
     "metadata": {},
     "source": [
      "Basic numpy methods to modify array dimensions are implemented in dimarray, with some additional functionality allowed by named dimensions."
     ]
    },
    {
     "cell_type": "heading",
     "level": 3,
     "metadata": {},
     "source": [
      "Transpose"
     ]
    },
    {
     "cell_type": "markdown",
     "metadata": {},
     "source": [
      "Transpose, just like its numpy equivalent, permutes dimensions, but in dimarray it can be provided with axis names instead of just axis position."
     ]
    },
    {
     "cell_type": "code",
     "collapsed": false,
     "input": [
      "a = DimArray([[1,2,3],[3,4,5]],dims=('x0','x1'))\n",
      "a.transpose()\n",
      "a.T"
     ],
     "language": "python",
     "metadata": {},
     "outputs": [
      {
       "metadata": {},
       "output_type": "pyout",
       "prompt_number": 37,
       "text": [
        "dimarray: 6 non-null elements (0 null)\n",
        "dimensions: 'x1', 'x0'\n",
        "0 / x1 (3): 0 to 2\n",
        "1 / x0 (2): 0 to 1\n",
        "array([[1, 3],\n",
        "       [2, 4],\n",
        "       [3, 5]])"
       ]
      }
     ],
     "prompt_number": 37
    },
    {
     "cell_type": "code",
     "collapsed": false,
     "input": [
      "a = DimArray([[[1,2,3],[3,4,5]]],dims=('x2','x0','x1'))\n",
      "a.transpose('x1','x2','x0')"
     ],
     "language": "python",
     "metadata": {},
     "outputs": [
      {
       "metadata": {},
       "output_type": "pyout",
       "prompt_number": 38,
       "text": [
        "dimarray: 6 non-null elements (0 null)\n",
        "dimensions: 'x1', 'x2', 'x0'\n",
        "0 / x1 (3): 0 to 2\n",
        "1 / x2 (1): 0 to 0\n",
        "2 / x0 (2): 0 to 1\n",
        "array([[[1, 3]],\n",
        "\n",
        "       [[2, 4]],\n",
        "\n",
        "       [[3, 5]]])"
       ]
      }
     ],
     "prompt_number": 38
    },
    {
     "cell_type": "heading",
     "level": 3,
     "metadata": {},
     "source": [
      "Insert new axis"
     ]
    },
    {
     "cell_type": "markdown",
     "metadata": {},
     "source": [
      "Numpy provides a np.newaxis constant (equal to None), to augment the array dimensions with new singleton axes. In dimarray, newaxis has been implemented as an array method, which requires to indicate axis name and optionally axis position (`pos=`). Under the `repeat` section, you'll see it is also possible to input the values of the new axis in order to repeast the array along it."
     ]
    },
    {
     "cell_type": "code",
     "collapsed": false,
     "input": [
      "a = DimArray([1,2])\n",
      "a.newaxis('new', pos=1)  # singleton"
     ],
     "language": "python",
     "metadata": {},
     "outputs": [
      {
       "metadata": {},
       "output_type": "pyout",
       "prompt_number": 39,
       "text": [
        "dimarray: 2 non-null elements (0 null)\n",
        "dimensions: 'x0', 'new'\n",
        "0 / x0 (2): 0 to 1\n",
        "1 / new (1): None to None\n",
        "array([[1],\n",
        "       [2]])"
       ]
      }
     ],
     "prompt_number": 39
    },
    {
     "cell_type": "heading",
     "level": 3,
     "metadata": {},
     "source": [
      "Reshape"
     ]
    },
    {
     "cell_type": "markdown",
     "metadata": {},
     "source": [
      "reshape merely add or remove singleton dimensions in the right order (and transpose if needed)"
     ]
    },
    {
     "cell_type": "code",
     "collapsed": false,
     "input": [
      "a = da.DimArray.from_kw(np.arange(2), lon=[30., 40.])\n",
      "b = a.reshape(('time','lon'))\n",
      "b"
     ],
     "language": "python",
     "metadata": {},
     "outputs": [
      {
       "metadata": {},
       "output_type": "pyout",
       "prompt_number": 40,
       "text": [
        "dimarray: 2 non-null elements (0 null)\n",
        "dimensions: 'time', 'lon'\n",
        "0 / time (1): None to None\n",
        "1 / lon (2): 30.0 to 40.0\n",
        "array([[0, 1]])"
       ]
      }
     ],
     "prompt_number": 40
    },
    {
     "cell_type": "heading",
     "level": 3,
     "metadata": {},
     "source": [
      "Group / Ungroup [Experimental]"
     ]
    },
    {
     "cell_type": "markdown",
     "metadata": {},
     "source": [
      "As a new, experimental feature, it is possible to flatten (group) or any subset of dimensions. "
     ]
    },
    {
     "cell_type": "code",
     "collapsed": false,
     "input": [
      "np.random.seed(0)\n",
      "v = da.array_kw(np.random.randn(2,5,180), time=np.arange(1950,1955), lat=np.linspace(-90,90,180), items=np.array(['greenland','antarctica']))\n",
      "v"
     ],
     "language": "python",
     "metadata": {},
     "outputs": [
      {
       "metadata": {},
       "output_type": "pyout",
       "prompt_number": 177,
       "text": [
        "dimarray: 1800 non-null elements (0 null)\n",
        "dimensions: 'items', 'time', 'lat'\n",
        "0 / items (2): greenland to antarctica\n",
        "1 / time (5): 1950 to 1954\n",
        "2 / lat (180): -90.0 to 90.0\n",
        "array(...)"
       ]
      }
     ],
     "prompt_number": 177
    },
    {
     "cell_type": "markdown",
     "metadata": {},
     "source": [
      "Flatten a set of dimensions:"
     ]
    },
    {
     "cell_type": "code",
     "collapsed": false,
     "input": [
      "w = v.group(('time','lat'))\n",
      "w"
     ],
     "language": "python",
     "metadata": {},
     "outputs": [
      {
       "metadata": {},
       "output_type": "pyout",
       "prompt_number": 131,
       "text": [
        "dimarray: 1800 non-null elements (0 null)\n",
        "dimensions: 'time,lat', 'items'\n",
        "0 / time,lat (900): (1950, -90.0) to (1954, 90.0)\n",
        "1 / items (2): greenland to antarctica\n",
        "array(...)"
       ]
      }
     ],
     "prompt_number": 131
    },
    {
     "cell_type": "markdown",
     "metadata": {},
     "source": [
      "Ungroup: get back to previous full n-d array"
     ]
    },
    {
     "cell_type": "code",
     "collapsed": false,
     "input": [
      "w.ungroup()"
     ],
     "language": "python",
     "metadata": {},
     "outputs": [
      {
       "metadata": {},
       "output_type": "pyout",
       "prompt_number": 132,
       "text": [
        "dimarray: 1800 non-null elements (0 null)\n",
        "dimensions: 'time', 'lat', 'items'\n",
        "0 / time (5): 1950 to 1954\n",
        "1 / lat (180): -90.0 to 90.0\n",
        "2 / items (2): greenland to antarctica\n",
        "array(...)"
       ]
      }
     ],
     "prompt_number": 132
    },
    {
     "cell_type": "markdown",
     "metadata": {},
     "source": [
      "This is useful for example to average only over a set of axes:"
     ]
    },
    {
     "cell_type": "code",
     "collapsed": false,
     "input": [
      "v.mean(axis=('time','lat'))"
     ],
     "language": "python",
     "metadata": {},
     "outputs": [
      {
       "metadata": {},
       "output_type": "pyout",
       "prompt_number": 133,
       "text": [
        "dimarray: 2 non-null elements (0 null)\n",
        "dimensions: 'items'\n",
        "0 / items (2): greenland to antarctica\n",
        "array([-0.06849458,  0.04075616])"
       ]
      }
     ],
     "prompt_number": 133
    },
    {
     "cell_type": "markdown",
     "metadata": {},
     "source": [
      "Or to convert high-dimensional DimArray into a pandas' DataFrame, say for displaying a result of a sensitivity analysis:"
     ]
    },
    {
     "cell_type": "code",
     "collapsed": false,
     "input": [
      "large_array = da.array(np.arange(2*3*4*5).reshape(2,3,4,5), dims=('a','b','c','d'))\n",
      "large_array.group('a','b').group(('c','d'), insert=1).to_pandas()"
     ],
     "language": "python",
     "metadata": {},
     "outputs": [
      {
       "html": [
        "<div style=\"max-height:1000px;max-width:1500px;overflow:auto;\">\n",
        "<table border=\"1\" class=\"dataframe\">\n",
        "  <thead>\n",
        "    <tr>\n",
        "      <th></th>\n",
        "      <th>c</th>\n",
        "      <th colspan=\"5\" halign=\"left\">0</th>\n",
        "      <th colspan=\"5\" halign=\"left\">1</th>\n",
        "      <th colspan=\"5\" halign=\"left\">2</th>\n",
        "      <th colspan=\"5\" halign=\"left\">3</th>\n",
        "    </tr>\n",
        "    <tr>\n",
        "      <th></th>\n",
        "      <th>d</th>\n",
        "      <th>0</th>\n",
        "      <th>1</th>\n",
        "      <th>2</th>\n",
        "      <th>3</th>\n",
        "      <th>4</th>\n",
        "      <th>0</th>\n",
        "      <th>1</th>\n",
        "      <th>2</th>\n",
        "      <th>3</th>\n",
        "      <th>4</th>\n",
        "      <th>0</th>\n",
        "      <th>1</th>\n",
        "      <th>2</th>\n",
        "      <th>3</th>\n",
        "      <th>4</th>\n",
        "      <th>0</th>\n",
        "      <th>1</th>\n",
        "      <th>2</th>\n",
        "      <th>3</th>\n",
        "      <th>4</th>\n",
        "    </tr>\n",
        "    <tr>\n",
        "      <th>a</th>\n",
        "      <th>b</th>\n",
        "      <th></th>\n",
        "      <th></th>\n",
        "      <th></th>\n",
        "      <th></th>\n",
        "      <th></th>\n",
        "      <th></th>\n",
        "      <th></th>\n",
        "      <th></th>\n",
        "      <th></th>\n",
        "      <th></th>\n",
        "      <th></th>\n",
        "      <th></th>\n",
        "      <th></th>\n",
        "      <th></th>\n",
        "      <th></th>\n",
        "      <th></th>\n",
        "      <th></th>\n",
        "      <th></th>\n",
        "      <th></th>\n",
        "      <th></th>\n",
        "    </tr>\n",
        "  </thead>\n",
        "  <tbody>\n",
        "    <tr>\n",
        "      <th rowspan=\"3\" valign=\"top\">0</th>\n",
        "      <th>0</th>\n",
        "      <td>   0</td>\n",
        "      <td>   1</td>\n",
        "      <td>   2</td>\n",
        "      <td>   3</td>\n",
        "      <td>   4</td>\n",
        "      <td>   5</td>\n",
        "      <td>   6</td>\n",
        "      <td>   7</td>\n",
        "      <td>   8</td>\n",
        "      <td>   9</td>\n",
        "      <td>  10</td>\n",
        "      <td>  11</td>\n",
        "      <td>  12</td>\n",
        "      <td>  13</td>\n",
        "      <td>  14</td>\n",
        "      <td>  15</td>\n",
        "      <td>  16</td>\n",
        "      <td>  17</td>\n",
        "      <td>  18</td>\n",
        "      <td>  19</td>\n",
        "    </tr>\n",
        "    <tr>\n",
        "      <th>1</th>\n",
        "      <td>  20</td>\n",
        "      <td>  21</td>\n",
        "      <td>  22</td>\n",
        "      <td>  23</td>\n",
        "      <td>  24</td>\n",
        "      <td>  25</td>\n",
        "      <td>  26</td>\n",
        "      <td>  27</td>\n",
        "      <td>  28</td>\n",
        "      <td>  29</td>\n",
        "      <td>  30</td>\n",
        "      <td>  31</td>\n",
        "      <td>  32</td>\n",
        "      <td>  33</td>\n",
        "      <td>  34</td>\n",
        "      <td>  35</td>\n",
        "      <td>  36</td>\n",
        "      <td>  37</td>\n",
        "      <td>  38</td>\n",
        "      <td>  39</td>\n",
        "    </tr>\n",
        "    <tr>\n",
        "      <th>2</th>\n",
        "      <td>  40</td>\n",
        "      <td>  41</td>\n",
        "      <td>  42</td>\n",
        "      <td>  43</td>\n",
        "      <td>  44</td>\n",
        "      <td>  45</td>\n",
        "      <td>  46</td>\n",
        "      <td>  47</td>\n",
        "      <td>  48</td>\n",
        "      <td>  49</td>\n",
        "      <td>  50</td>\n",
        "      <td>  51</td>\n",
        "      <td>  52</td>\n",
        "      <td>  53</td>\n",
        "      <td>  54</td>\n",
        "      <td>  55</td>\n",
        "      <td>  56</td>\n",
        "      <td>  57</td>\n",
        "      <td>  58</td>\n",
        "      <td>  59</td>\n",
        "    </tr>\n",
        "    <tr>\n",
        "      <th rowspan=\"3\" valign=\"top\">1</th>\n",
        "      <th>0</th>\n",
        "      <td>  60</td>\n",
        "      <td>  61</td>\n",
        "      <td>  62</td>\n",
        "      <td>  63</td>\n",
        "      <td>  64</td>\n",
        "      <td>  65</td>\n",
        "      <td>  66</td>\n",
        "      <td>  67</td>\n",
        "      <td>  68</td>\n",
        "      <td>  69</td>\n",
        "      <td>  70</td>\n",
        "      <td>  71</td>\n",
        "      <td>  72</td>\n",
        "      <td>  73</td>\n",
        "      <td>  74</td>\n",
        "      <td>  75</td>\n",
        "      <td>  76</td>\n",
        "      <td>  77</td>\n",
        "      <td>  78</td>\n",
        "      <td>  79</td>\n",
        "    </tr>\n",
        "    <tr>\n",
        "      <th>1</th>\n",
        "      <td>  80</td>\n",
        "      <td>  81</td>\n",
        "      <td>  82</td>\n",
        "      <td>  83</td>\n",
        "      <td>  84</td>\n",
        "      <td>  85</td>\n",
        "      <td>  86</td>\n",
        "      <td>  87</td>\n",
        "      <td>  88</td>\n",
        "      <td>  89</td>\n",
        "      <td>  90</td>\n",
        "      <td>  91</td>\n",
        "      <td>  92</td>\n",
        "      <td>  93</td>\n",
        "      <td>  94</td>\n",
        "      <td>  95</td>\n",
        "      <td>  96</td>\n",
        "      <td>  97</td>\n",
        "      <td>  98</td>\n",
        "      <td>  99</td>\n",
        "    </tr>\n",
        "    <tr>\n",
        "      <th>2</th>\n",
        "      <td> 100</td>\n",
        "      <td> 101</td>\n",
        "      <td> 102</td>\n",
        "      <td> 103</td>\n",
        "      <td> 104</td>\n",
        "      <td> 105</td>\n",
        "      <td> 106</td>\n",
        "      <td> 107</td>\n",
        "      <td> 108</td>\n",
        "      <td> 109</td>\n",
        "      <td> 110</td>\n",
        "      <td> 111</td>\n",
        "      <td> 112</td>\n",
        "      <td> 113</td>\n",
        "      <td> 114</td>\n",
        "      <td> 115</td>\n",
        "      <td> 116</td>\n",
        "      <td> 117</td>\n",
        "      <td> 118</td>\n",
        "      <td> 119</td>\n",
        "    </tr>\n",
        "  </tbody>\n",
        "</table>\n",
        "</div>"
       ],
       "metadata": {},
       "output_type": "pyout",
       "prompt_number": 189,
       "text": [
        "c      0                        1                        2                        3                    \n",
        "d      0    1    2    3    4    0    1    2    3    4    0    1    2    3    4    0    1    2    3    4\n",
        "a b                                                                                                    \n",
        "0 0    0    1    2    3    4    5    6    7    8    9   10   11   12   13   14   15   16   17   18   19\n",
        "  1   20   21   22   23   24   25   26   27   28   29   30   31   32   33   34   35   36   37   38   39\n",
        "  2   40   41   42   43   44   45   46   47   48   49   50   51   52   53   54   55   56   57   58   59\n",
        "1 0   60   61   62   63   64   65   66   67   68   69   70   71   72   73   74   75   76   77   78   79\n",
        "  1   80   81   82   83   84   85   86   87   88   89   90   91   92   93   94   95   96   97   98   99\n",
        "  2  100  101  102  103  104  105  106  107  108  109  110  111  112  113  114  115  116  117  118  119"
       ]
      }
     ],
     "prompt_number": 189
    },
    {
     "cell_type": "heading",
     "level": 3,
     "metadata": {},
     "source": [
      "Repeat"
     ]
    },
    {
     "cell_type": "code",
     "collapsed": false,
     "input": [
      "### Single axis:\n",
      ">>> b.repeat(np.arange(1950,1955), axis=\"time\")  # doctest: +ELLIPSIS"
     ],
     "language": "python",
     "metadata": {},
     "outputs": [
      {
       "metadata": {},
       "output_type": "pyout",
       "prompt_number": 41,
       "text": [
        "dimarray: 10 non-null elements (0 null)\n",
        "dimensions: 'time', 'lon'\n",
        "0 / time (5): 1950 to 1954\n",
        "1 / lon (2): 30.0 to 40.0\n",
        "array([[0, 1],\n",
        "       [0, 1],\n",
        "       [0, 1],\n",
        "       [0, 1],\n",
        "       [0, 1]])"
       ]
      }
     ],
     "prompt_number": 41
    },
    {
     "cell_type": "code",
     "collapsed": false,
     "input": [
      "### Multi-axis\n",
      "# ...create some dummy data:\n",
      "lon = np.linspace(10, 30, 2)\n",
      "lat = np.linspace(10, 50, 3)\n",
      "time = np.arange(1950,1955)\n",
      "ts = da.DimArray.from_kw(np.arange(5), time=time)\n",
      "cube = da.DimArray.from_kw(np.zeros((3,2,5)), lon=lon, lat=lat, time=time)  # lat x lon x time\n",
      "cube.axes  # doctest: +ELLIPSIS"
     ],
     "language": "python",
     "metadata": {},
     "outputs": [
      {
       "metadata": {},
       "output_type": "pyout",
       "prompt_number": 42,
       "text": [
        "dimensions: 'lat', 'lon', 'time'\n",
        "0 / lat (3): 10.0 to 50.0\n",
        "1 / lon (2): 10.0 to 30.0\n",
        "2 / time (5): 1950 to 1954"
       ]
      }
     ],
     "prompt_number": 42
    },
    {
     "cell_type": "code",
     "collapsed": false,
     "input": [
      "### In combination with repeat\n",
      "a.newaxis('new', values=['a','b'],pos=1) # repeat 2 times along the first axis"
     ],
     "language": "python",
     "metadata": {},
     "outputs": [
      {
       "metadata": {},
       "output_type": "pyout",
       "prompt_number": 43,
       "text": [
        "dimarray: 4 non-null elements (0 null)\n",
        "dimensions: 'lon', 'new'\n",
        "0 / lon (2): 30.0 to 40.0\n",
        "1 / new (2): a to b\n",
        "array([[0, 0],\n",
        "       [1, 1]])"
       ]
      }
     ],
     "prompt_number": 43
    },
    {
     "cell_type": "heading",
     "level": 3,
     "metadata": {},
     "source": [
      "Broadcast"
     ]
    },
    {
     "cell_type": "code",
     "collapsed": false,
     "input": [
      "# broadcast along new axes (reshape + repeat array)\n",
      ">>> ts3D = ts.broadcast(cube) #  lat x lon x time\n",
      "ts3D"
     ],
     "language": "python",
     "metadata": {},
     "outputs": [
      {
       "metadata": {},
       "output_type": "pyout",
       "prompt_number": 44,
       "text": [
        "dimarray: 30 non-null elements (0 null)\n",
        "dimensions: 'lat', 'lon', 'time'\n",
        "0 / lat (3): 10.0 to 50.0\n",
        "1 / lon (2): 10.0 to 30.0\n",
        "2 / time (5): 1950 to 1954\n",
        "array([[[0, 1, 2, 3, 4],\n",
        "        [0, 1, 2, 3, 4]],\n",
        "\n",
        "       [[0, 1, 2, 3, 4],\n",
        "        [0, 1, 2, 3, 4]],\n",
        "\n",
        "       [[0, 1, 2, 3, 4],\n",
        "        [0, 1, 2, 3, 4]]])"
       ]
      }
     ],
     "prompt_number": 44
    },
    {
     "cell_type": "heading",
     "level": 2,
     "metadata": {},
     "source": [
      "Align arrays"
     ]
    },
    {
     "cell_type": "markdown",
     "metadata": {},
     "source": [
      "It is also possible to proceed to broadcasting or axis alignment on a sequence of arrays:"
     ]
    },
    {
     "cell_type": "code",
     "collapsed": false,
     "input": [
      "# align dimensions\n",
      "x = da.DimArray(np.arange(2), dims=('x0',))\n",
      "y = da.DimArray(np.arange(3), dims=('x1',))\n",
      "da.broadcast_arrays(x, y)"
     ],
     "language": "python",
     "metadata": {},
     "outputs": [
      {
       "metadata": {},
       "output_type": "pyout",
       "prompt_number": 90,
       "text": [
        "[dimarray: 6 non-null elements (0 null)\n",
        "dimensions: 'x0', 'x1'\n",
        "0 / x0 (2): 0 to 1\n",
        "1 / x1 (3): 0 to 2\n",
        "array([[0, 0, 0],\n",
        "       [1, 1, 1]]),\n",
        " dimarray: 6 non-null elements (0 null)\n",
        "dimensions: 'x0', 'x1'\n",
        "0 / x0 (2): 0 to 1\n",
        "1 / x1 (3): 0 to 2\n",
        "array([[0, 1, 2],\n",
        "       [0, 1, 2]])]"
       ]
      }
     ],
     "prompt_number": 90
    },
    {
     "cell_type": "code",
     "collapsed": false,
     "input": [
      "# align axes\n",
      "x = da.DimArray([1,2,3],('x0',[1,2,3]))\n",
      "y = da.DimArray([3,4],('x0',[2,4]))\n",
      "da.align_axes(x, y)"
     ],
     "language": "python",
     "metadata": {},
     "outputs": [
      {
       "metadata": {},
       "output_type": "pyout",
       "prompt_number": 91,
       "text": [
        "[dimarray: 3 non-null elements (1 null)\n",
        "dimensions: 'x0'\n",
        "0 / x0 (4): 1 to 4\n",
        "array([  1.,   2.,   3.,  nan]),\n",
        " dimarray: 2 non-null elements (2 null)\n",
        "dimensions: 'x0'\n",
        "0 / x0 (4): 1 to 4\n",
        "array([ nan,   3.,  nan,   4.])]"
       ]
      }
     ],
     "prompt_number": 91
    },
    {
     "cell_type": "heading",
     "level": 2,
     "metadata": {},
     "source": [
      "Join arrays"
     ]
    },
    {
     "cell_type": "heading",
     "level": 3,
     "metadata": {},
     "source": [
      "Concatenate arrays along existing axis"
     ]
    },
    {
     "cell_type": "code",
     "collapsed": false,
     "input": [
      "import dimarray as da\n",
      "import numpy as np\n",
      "a = da.DimArray([[1.,2,3]],axes=[('line',[1]), ('col',['a','b','c'])])\n",
      "b = da.DimArray([[4,5,6],[7,8,9]], axes=[('line',[2,3]), ('col',['a','b','c'])])\n",
      "da.concatenate((a,b), axis=0)"
     ],
     "language": "python",
     "metadata": {},
     "outputs": [
      {
       "metadata": {},
       "output_type": "pyout",
       "prompt_number": 172,
       "text": [
        "dimarray: 9 non-null elements (0 null)\n",
        "dimensions: 'line', 'col'\n",
        "0 / line (3): 1 to 3\n",
        "1 / col (3): a to c\n",
        "array([[ 1.,  2.,  3.],\n",
        "       [ 4.,  5.,  6.],\n",
        "       [ 7.,  8.,  9.]])"
       ]
      }
     ],
     "prompt_number": 172
    },
    {
     "cell_type": "heading",
     "level": 3,
     "metadata": {},
     "source": [
      "Concatenate a collection of arrays along a new axis"
     ]
    },
    {
     "cell_type": "code",
     "collapsed": false,
     "input": [
      "from dimarray import DimArray\n",
      "a = DimArray([1,2,3])\n",
      "DimArray.from_arrays({'a':a, '2*a':2*a}) "
     ],
     "language": "python",
     "metadata": {},
     "outputs": [
      {
       "metadata": {},
       "output_type": "pyout",
       "prompt_number": 93,
       "text": [
        "dimarray: 6 non-null elements (0 null)\n",
        "dimensions: 'items', 'x0'\n",
        "0 / items (2): a to 2*a\n",
        "1 / x0 (3): 0 to 2\n",
        "array([[1, 2, 3],\n",
        "       [2, 4, 6]])"
       ]
      }
     ],
     "prompt_number": 93
    },
    {
     "cell_type": "markdown",
     "metadata": {},
     "source": [
      "or with a list"
     ]
    },
    {
     "cell_type": "code",
     "collapsed": false,
     "input": [
      "DimArray.from_arrays([a, 2*a], keys=['a','2*a']) # keys would be v0 and v1 by default"
     ],
     "language": "python",
     "metadata": {},
     "outputs": [
      {
       "metadata": {},
       "output_type": "pyout",
       "prompt_number": 94,
       "text": [
        "dimarray: 6 non-null elements (0 null)\n",
        "dimensions: 'items', 'x0'\n",
        "0 / items (2): a to 2*a\n",
        "1 / x0 (3): 0 to 2\n",
        "array([[1, 2, 3],\n",
        "       [2, 4, 6]])"
       ]
      }
     ],
     "prompt_number": 94
    },
    {
     "cell_type": "markdown",
     "metadata": {},
     "source": [
      "this allows on the fly axis alignment:"
     ]
    },
    {
     "cell_type": "code",
     "collapsed": false,
     "input": [
      "d = {'a':DimArray([10,20,30.],labels=[0,1,2]), 'b':DimArray([1,2,3.],labels=[1.,2.,3])}\n",
      "a = DimArray.from_arrays(d, keys=['a','b']) # keys= just needed to enforce ordering\n",
      "a"
     ],
     "language": "python",
     "metadata": {},
     "outputs": [
      {
       "metadata": {},
       "output_type": "pyout",
       "prompt_number": 95,
       "text": [
        "dimarray: 6 non-null elements (2 null)\n",
        "dimensions: 'items', 'x0'\n",
        "0 / items (2): a to b\n",
        "1 / x0 (4): 0 to 3\n",
        "array([[ 10.,  20.,  30.,  nan],\n",
        "       [ nan,   1.,   2.,   3.]])"
       ]
      }
     ],
     "prompt_number": 95
    },
    {
     "cell_type": "markdown",
     "metadata": {},
     "source": [
      "Works in any number of dimensions"
     ]
    },
    {
     "cell_type": "code",
     "collapsed": false,
     "input": [
      "d = {'a':DimArray([[10,20,30.],[0,1,2]]), 'b':DimArray([[1,2,3.],[1.,2.,3]])}\n",
      "a = DimArray.from_arrays(d, keys=['a','b']) # keys= just needed to enforce ordering\n",
      "a"
     ],
     "language": "python",
     "metadata": {},
     "outputs": [
      {
       "metadata": {},
       "output_type": "pyout",
       "prompt_number": 96,
       "text": [
        "dimarray: 12 non-null elements (0 null)\n",
        "dimensions: 'items', 'x0', 'x1'\n",
        "0 / items (2): a to b\n",
        "1 / x0 (2): 0 to 1\n",
        "2 / x1 (3): 0 to 2\n",
        "array([[[ 10.,  20.,  30.],\n",
        "        [  0.,   1.,   2.]],\n",
        "\n",
        "       [[  1.,   2.,   3.],\n",
        "        [  1.,   2.,   3.]]])"
       ]
      }
     ],
     "prompt_number": 96
    },
    {
     "cell_type": "markdown",
     "metadata": {},
     "source": [
      "### See also (experimental): [Aggregate arrays of varying dimensions](#Aggregate-arrays-of-varying-dimensions)"
     ]
    },
    {
     "cell_type": "heading",
     "level": 2,
     "metadata": {},
     "source": [
      "Operations"
     ]
    },
    {
     "cell_type": "heading",
     "level": 3,
     "metadata": {},
     "source": [
      "Basic Operations        "
     ]
    },
    {
     "cell_type": "markdown",
     "metadata": {},
     "source": [
      "Most operations working in numpy should work with a DimArray, otherwise please file a bug report !"
     ]
    },
    {
     "cell_type": "code",
     "collapsed": false,
     "input": [
      "a = da.array([[1,2,3],[3,4,5]],dims=('x0','x1'))\n",
      "a + 2\n",
      "a / 2    # True division, returning a float in all cases\n",
      "a // 2   # floor division\n",
      "a * 2\n",
      "a ** 2\n",
      "a += 2\n",
      "a + a\n",
      "a - a\n",
      "a / a\n",
      "a // a\n",
      "a * a \n",
      "a ** a\n",
      "a == a"
     ],
     "language": "python",
     "metadata": {},
     "outputs": [
      {
       "metadata": {},
       "output_type": "pyout",
       "prompt_number": 176,
       "text": [
        "dimarray: 6 non-null elements (0 null)\n",
        "dimensions: 'x0', 'x1'\n",
        "0 / x0 (2): 0 to 1\n",
        "1 / x1 (3): 0 to 2\n",
        "array([[ True,  True,  True],\n",
        "       [ True,  True,  True]], dtype=bool)"
       ]
      }
     ],
     "prompt_number": 176
    },
    {
     "cell_type": "heading",
     "level": 3,
     "metadata": {},
     "source": [
      "Operation with data alignment "
     ]
    },
    {
     "cell_type": "code",
     "collapsed": false,
     "input": [
      "# broadcasting\n",
      "x = da.DimArray(np.arange(2), dims=('x0',))\n",
      "y = da.DimArray(np.arange(3), dims=('x1',))\n",
      "x+y"
     ],
     "language": "python",
     "metadata": {},
     "outputs": [
      {
       "metadata": {},
       "output_type": "pyout",
       "prompt_number": 104,
       "text": [
        "dimarray: 6 non-null elements (0 null)\n",
        "dimensions: 'x0', 'x1'\n",
        "0 / x0 (2): 0 to 1\n",
        "1 / x1 (3): 0 to 2\n",
        "array([[0, 1, 2],\n",
        "       [1, 2, 3]])"
       ]
      }
     ],
     "prompt_number": 104
    },
    {
     "cell_type": "code",
     "collapsed": false,
     "input": [
      "# axis alignment\n",
      "z = da.DimArray([0,1,2],('x0',[0,1,2]))\n",
      "x+z"
     ],
     "language": "python",
     "metadata": {},
     "outputs": [
      {
       "metadata": {},
       "output_type": "pyout",
       "prompt_number": 105,
       "text": [
        "dimarray: 2 non-null elements (1 null)\n",
        "dimensions: 'x0'\n",
        "0 / x0 (3): 0 to 2\n",
        "array([  0.,   2.,  nan])"
       ]
      }
     ],
     "prompt_number": 105
    },
    {
     "cell_type": "code",
     "collapsed": false,
     "input": [
      "# or both\n",
      "(x+y)+(x+z)"
     ],
     "language": "python",
     "metadata": {},
     "outputs": [
      {
       "metadata": {},
       "output_type": "pyout",
       "prompt_number": 106,
       "text": [
        "dimarray: 6 non-null elements (3 null)\n",
        "dimensions: 'x0', 'x1'\n",
        "0 / x0 (3): 0 to 2\n",
        "1 / x1 (3): 0 to 2\n",
        "array([[  0.,   1.,   2.],\n",
        "       [  3.,   4.,   5.],\n",
        "       [ nan,  nan,  nan]])"
       ]
      }
     ],
     "prompt_number": 106
    },
    {
     "cell_type": "heading",
     "level": 2,
     "metadata": {},
     "source": [
      "Numpy Transformations"
     ]
    },
    {
     "cell_type": "code",
     "collapsed": false,
     "input": [
      "np.random.seed(0)\n",
      "v = da.DimArray(np.random.randn(5,7), {'time':np.arange(1950,1955), 'lat':np.linspace(-90,90,7)})"
     ],
     "language": "python",
     "metadata": {},
     "outputs": [],
     "prompt_number": 107
    },
    {
     "cell_type": "markdown",
     "metadata": {},
     "source": [
      "Basic transforms: reduce axis"
     ]
    },
    {
     "cell_type": "code",
     "collapsed": false,
     "input": [
      "v.sum() # sum over all axes\n",
      "v.sum(axis=0) # sum over first axis\n",
      "v.sum(axis='time') # named axis\n",
      "v.prod(axis='time') # named axis\n",
      "v.mean(axis='time') # named axis\n",
      "v.var(axis='time') # named axis\n",
      "v.std(axis='time') # named axis\n",
      "v.median(axis='time') # named axis\n",
      "v.min(axis='time') # named axis\n",
      "v.max(axis='time') # named axis\n",
      "v.ptp(axis='time') # named axis\n",
      "v.all(axis='time') # named axis\n",
      "v.any(axis='time') # named axis"
     ],
     "language": "python",
     "metadata": {},
     "outputs": [
      {
       "metadata": {},
       "output_type": "pyout",
       "prompt_number": 108,
       "text": [
        "dimarray: 7 non-null elements (0 null)\n",
        "dimensions: 'lat'\n",
        "0 / lat (7): -90.0 to 90.0\n",
        "array([ True,  True,  True,  True,  True,  True,  True], dtype=bool)"
       ]
      }
     ],
     "prompt_number": 108
    },
    {
     "cell_type": "markdown",
     "metadata": {},
     "source": [
      "locmin/locmax as dimarray equivalent of argmin/argmax: return axis value "
     ]
    },
    {
     "cell_type": "code",
     "collapsed": false,
     "input": [
      "v.locmin(axis='time') \n",
      "v.locmin() # over all axes\n",
      "v.locmax(axis='time') \n",
      "v.locmax() # over all axes\n",
      "v.locmax(axis='time')\n",
      "assert v[v.locmax()] == v.max(), \"problem with locmax/max\"\n",
      "assert v[v.locmin()] == v.min(), \"problem with locmin/min\"\n",
      "res = np.array([v.ix[i][ix] for i, ix in enumerate(v.locmax(axis=1).values)])\n",
      "assert np.all(res == v.max(axis=1)), \"problem with locmax/max\"\n",
      "v.locmax()"
     ],
     "language": "python",
     "metadata": {},
     "outputs": [
      {
       "metadata": {},
       "output_type": "pyout",
       "prompt_number": 109,
       "text": [
        "(1953, 0.0)"
       ]
      }
     ],
     "prompt_number": 109
    },
    {
     "cell_type": "markdown",
     "metadata": {},
     "source": [
      "cumulative transformation"
     ]
    },
    {
     "cell_type": "code",
     "collapsed": false,
     "input": [
      "v.cumsum() # last axis\n",
      "v.cumsum(axis=None) # return numpy array\n",
      "assert np.all(v.cumsum(axis=-1) == v.cumsum()), \"default last axis\""
     ],
     "language": "python",
     "metadata": {},
     "outputs": [],
     "prompt_number": 110
    },
    {
     "cell_type": "markdown",
     "metadata": {},
     "source": [
      "new diff method"
     ]
    },
    {
     "cell_type": "code",
     "collapsed": false,
     "input": [
      "v.diff(axis='time', keepaxis=False)\n",
      "v.diff(axis=0, keepaxis=False, scheme='centered')\n",
      "v.diff(axis=0, keepaxis=False, scheme='backward')\n",
      "v.diff(axis=0, keepaxis=False, scheme='forward')\n",
      "v.diff(axis=0, keepaxis=True, scheme='backward')\n",
      "v.diff(axis=0, keepaxis=True, scheme='forward')\n",
      "v.diff(n=2,axis=('time'), scheme='centered')"
     ],
     "language": "python",
     "metadata": {},
     "outputs": [
      {
       "metadata": {},
       "output_type": "pyout",
       "prompt_number": 111,
       "text": [
        "dimarray: 21 non-null elements (0 null)\n",
        "dimensions: 'time', 'lat'\n",
        "0 / time (3): 1951.0 to 1953.0\n",
        "1 / lat (7): -90.0 to 90.0\n",
        "array([[ 2.51063   ,  0.94026924,  1.65162005,  1.74764779, -0.72792132,\n",
        "        -3.35344907, -1.84625143],\n",
        "       [-0.38546508,  0.09386869, -3.31972466,  2.82411472, -0.62622757,\n",
        "         2.51498772,  5.0404708 ],\n",
        "       [ 0.66940526,  0.0741607 ,  3.13335654, -4.36650499,  2.3340133 ,\n",
        "        -2.92640924, -2.52653427]])"
       ]
      }
     ],
     "prompt_number": 111
    },
    {
     "cell_type": "heading",
     "level": 2,
     "metadata": {},
     "source": [
      "Missing values"
     ]
    },
    {
     "cell_type": "code",
     "collapsed": false,
     "input": [
      "a = da.DimArray([[1,2,3],[4,5,6.]])\n",
      "a[1,2] = np.nan\n",
      "a"
     ],
     "language": "python",
     "metadata": {},
     "outputs": [
      {
       "metadata": {},
       "output_type": "pyout",
       "prompt_number": 145,
       "text": [
        "dimarray: 5 non-null elements (1 null)\n",
        "dimensions: 'x0', 'x1'\n",
        "0 / x0 (2): 0 to 1\n",
        "1 / x1 (3): 0 to 2\n",
        "array([[  1.,   2.,   3.],\n",
        "       [  4.,   5.,  nan]])"
       ]
      }
     ],
     "prompt_number": 145
    },
    {
     "cell_type": "code",
     "collapsed": false,
     "input": [
      "a.mean(axis=0)"
     ],
     "language": "python",
     "metadata": {},
     "outputs": [
      {
       "metadata": {},
       "output_type": "pyout",
       "prompt_number": 146,
       "text": [
        "dimarray: 2 non-null elements (1 null)\n",
        "dimensions: 'x1'\n",
        "0 / x1 (3): 0 to 2\n",
        "array([ 2.5,  3.5,  nan])"
       ]
      }
     ],
     "prompt_number": 146
    },
    {
     "cell_type": "code",
     "collapsed": false,
     "input": [
      "a.mean(axis=0, skipna=True)"
     ],
     "language": "python",
     "metadata": {},
     "outputs": [
      {
       "metadata": {},
       "output_type": "pyout",
       "prompt_number": 147,
       "text": [
        "dimarray: 3 non-null elements (0 null)\n",
        "dimensions: 'x1'\n",
        "0 / x1 (3): 0 to 2\n",
        "array([ 2.5,  3.5,  3. ])"
       ]
      }
     ],
     "prompt_number": 147
    },
    {
     "cell_type": "heading",
     "level": 2,
     "metadata": {},
     "source": [
      "Dataset"
     ]
    },
    {
     "cell_type": "markdown",
     "metadata": {},
     "source": [
      "A dataset is an ordered dictionary of DimArray objects"
     ]
    },
    {
     "cell_type": "code",
     "collapsed": false,
     "input": [
      "time = \"time\",np.arange(1950,1952)\n",
      "lat = \"lat\",np.linspace(-90,90,3)\n",
      "\n",
      "data = da.Dataset()\n",
      "data['timeseries'] = da.array(np.arange(2), time)\n",
      "data['greenland'] = da.array(np.arange(2*3).reshape(2,3), [time, lat])\n",
      "data['antarctica'] = data['greenland']*2\n",
      "data"
     ],
     "language": "python",
     "metadata": {},
     "outputs": [
      {
       "metadata": {},
       "output_type": "pyout",
       "prompt_number": 248,
       "text": [
        "Dataset of 3 variables\n",
        "dimensions: 'time', 'lat'\n",
        "0 / time (2): 1950 to 1951\n",
        "1 / lat (3): -90.0 to 90.0\n",
        "timeseries: ('time',)\n",
        "greenland: ('time', 'lat')\n",
        "antarctica: ('time', 'lat')"
       ]
      }
     ],
     "prompt_number": 248
    },
    {
     "cell_type": "markdown",
     "metadata": {},
     "source": [
      "Which can be exported to a Dimarray, along the default axis `items`:"
     ]
    },
    {
     "cell_type": "code",
     "collapsed": false,
     "input": [
      "a = data.to_array()\n",
      "a"
     ],
     "language": "python",
     "metadata": {},
     "outputs": [
      {
       "metadata": {},
       "output_type": "pyout",
       "prompt_number": 250,
       "text": [
        "dimarray: 18 non-null elements (0 null)\n",
        "dimensions: 'items', 'time', 'lat'\n",
        "0 / items (3): timeseries to antarctica\n",
        "1 / time (2): 1950 to 1951\n",
        "2 / lat (3): -90.0 to 90.0\n",
        "array([[[ 0,  0,  0],\n",
        "        [ 1,  1,  1]],\n",
        "\n",
        "       [[ 0,  1,  2],\n",
        "        [ 3,  4,  5]],\n",
        "\n",
        "       [[ 0,  2,  4],\n",
        "        [ 6,  8, 10]]])"
       ]
      }
     ],
     "prompt_number": 250
    },
    {
     "cell_type": "markdown",
     "metadata": {},
     "source": [
      "Note that the timeseries dimension has been broadcast to the same shape as others (by repeating its values along the `lat` axis):"
     ]
    },
    {
     "cell_type": "code",
     "collapsed": false,
     "input": [
      "a['timeseries']"
     ],
     "language": "python",
     "metadata": {},
     "outputs": [
      {
       "metadata": {},
       "output_type": "pyout",
       "prompt_number": 251,
       "text": [
        "dimarray: 6 non-null elements (0 null)\n",
        "dimensions: 'time', 'lat'\n",
        "0 / time (2): 1950 to 1951\n",
        "1 / lat (3): -90.0 to 90.0\n",
        "array([[0, 0, 0],\n",
        "       [1, 1, 1]])"
       ]
      }
     ],
     "prompt_number": 251
    },
    {
     "cell_type": "heading",
     "level": 2,
     "metadata": {},
     "source": [
      "NetCDF I/O"
     ]
    },
    {
     "cell_type": "markdown",
     "metadata": {},
     "source": [
      "A dataset is the natural object for I/O into the netCDF format:"
     ]
    },
    {
     "cell_type": "code",
     "collapsed": false,
     "input": [
      "data.write_nc('test.nc', 'w')"
     ],
     "language": "python",
     "metadata": {},
     "outputs": [
      {
       "output_type": "stream",
       "stream": "stdout",
       "text": [
        "write to test.nc\n"
       ]
      }
     ],
     "prompt_number": 293
    },
    {
     "cell_type": "markdown",
     "metadata": {},
     "source": [
      "Reading the data back is easy:"
     ]
    },
    {
     "cell_type": "code",
     "collapsed": false,
     "input": [
      "ds = da.read_nc('test.nc')\n",
      "ds"
     ],
     "language": "python",
     "metadata": {},
     "outputs": [
      {
       "output_type": "stream",
       "stream": "stdout",
       "text": [
        "read from test.nc\n"
       ]
      },
      {
       "metadata": {},
       "output_type": "pyout",
       "prompt_number": 294,
       "text": [
        "Dataset of 3 variables\n",
        "dimensions: 'time', 'lat'\n",
        "0 / time (2): 1950 to 1951\n",
        "1 / lat (3): -90.0 to 90.0\n",
        "timeseries: ('time',)\n",
        "greenland: ('time', 'lat')\n",
        "antarctica: ('time', 'lat')"
       ]
      }
     ],
     "prompt_number": 294
    },
    {
     "cell_type": "markdown",
     "metadata": {},
     "source": [
      "Single variables can be read as well:"
     ]
    },
    {
     "cell_type": "code",
     "collapsed": false,
     "input": [
      "da.read_nc('test.nc','greenland')"
     ],
     "language": "python",
     "metadata": {},
     "outputs": [
      {
       "output_type": "stream",
       "stream": "stdout",
       "text": [
        "read from test.nc\n"
       ]
      },
      {
       "metadata": {},
       "output_type": "pyout",
       "prompt_number": 295,
       "text": [
        "dimarray: 6 non-null elements (0 null)\n",
        "dimensions: 'time', 'lat'\n",
        "0 / time (2): 1950 to 1951\n",
        "1 / lat (3): -90.0 to 90.0\n",
        "array([[0, 1, 2],\n",
        "       [3, 4, 5]])"
       ]
      }
     ],
     "prompt_number": 295
    },
    {
     "cell_type": "markdown",
     "metadata": {},
     "source": [
      "Or even portions of a variable (that's what makes netCDF useful compared to just HDF I/O), especially for very large datasets."
     ]
    },
    {
     "cell_type": "code",
     "collapsed": false,
     "input": [
      "b = da.read_nc('test.nc','greenland', 1951, axis='time')\n",
      "b"
     ],
     "language": "python",
     "metadata": {},
     "outputs": [
      {
       "output_type": "stream",
       "stream": "stdout",
       "text": [
        "read from test.nc\n"
       ]
      },
      {
       "metadata": {},
       "output_type": "pyout",
       "prompt_number": 296,
       "text": [
        "dimarray: 3 non-null elements (0 null)\n",
        "dimensions: 'lat'\n",
        "0 / lat (3): -90.0 to 90.0\n",
        "array([3, 4, 5])"
       ]
      }
     ],
     "prompt_number": 296
    },
    {
     "cell_type": "markdown",
     "metadata": {},
     "source": [
      "Note that read_nc follows the same rules as `take`, except that multi-index arrays apply for each dimension individually (broadcast_array=False), reflecting netCDF design and underlying netCDF4 module.\n",
      "It is also possible to write a single array, by indicating its name (unless it has a `name` attribute different from None). Note the default mode is to append a variable to existing dataset."
     ]
    },
    {
     "cell_type": "code",
     "collapsed": false,
     "input": [
      "a.write_nc('test.nc',name='array')"
     ],
     "language": "python",
     "metadata": {},
     "outputs": [],
     "prompt_number": 298
    },
    {
     "cell_type": "markdown",
     "metadata": {},
     "source": [
      "The content of a netCDF file can also be checked without reading the actual variables (only the axes), useful for large variables:"
     ]
    },
    {
     "cell_type": "code",
     "collapsed": false,
     "input": [
      "# checking\n",
      "da.summary_nc(\"test.nc\")"
     ],
     "language": "python",
     "metadata": {},
     "outputs": [
      {
       "output_type": "stream",
       "stream": "stdout",
       "text": [
        "test.nc:\n",
        "-------\n",
        "Dataset of 4 variables\n",
        "dimensions: 'time', 'lat', 'items'\n",
        "0 / time (2): 1950 to 1951\n",
        "1 / lat (3): -90.0 to 90.0\n",
        "2 / items (3): timeseries to antarctica\n",
        "timeseries: (u'time',)\n",
        "greenland: (u'time', u'lat')\n",
        "antarctica: (u'time', u'lat')\n",
        "array: (u'items', u'time', u'lat')\n"
       ]
      }
     ],
     "prompt_number": 300
    },
    {
     "cell_type": "heading",
     "level": 2,
     "metadata": {},
     "source": [
      "Experimental Features"
     ]
    },
    {
     "cell_type": "heading",
     "level": 3,
     "metadata": {},
     "source": [
      "Aggregate arrays of varying dimensions"
     ]
    },
    {
     "cell_type": "markdown",
     "metadata": {},
     "source": [
      "Here a nice example of puzzle filling (values in the output array indicate the order of insertion):"
     ]
    },
    {
     "cell_type": "code",
     "collapsed": false,
     "input": [
      "import dimarray as da\n",
      "import numpy as np\n",
      "a = da.DimArray([[1.,2,3]],axes=[('line',[1]), ('col',['a','b','c'])])\n",
      "b = da.DimArray([[4],[5]], axes=[('line',[2,3]), ('col',['d'])])\n",
      "c = da.DimArray([[6]], axes=[('line',[2]), ('col',['b'])])\n",
      "d = da.DimArray([-7], axes=[('line',[4])])\n",
      "da.aggregate((a,b,c,d))"
     ],
     "language": "python",
     "metadata": {},
     "outputs": [
      {
       "metadata": {},
       "output_type": "pyout",
       "prompt_number": 98,
       "text": [
        "dimarray: 10 non-null elements (6 null)\n",
        "dimensions: 'line', 'col'\n",
        "0 / line (4): 1 to 4\n",
        "1 / col (4): a to d\n",
        "array([[  1.,   2.,   3.,  nan],\n",
        "       [ nan,   6.,  nan,   4.],\n",
        "       [ nan,  nan,  nan,   5.],\n",
        "       [ -7.,  -7.,  -7.,  -7.]])"
       ]
      }
     ],
     "prompt_number": 98
    },
    {
     "cell_type": "markdown",
     "metadata": {},
     "source": [
      "Risk of overlapping checked. In case of overlapping of a valid and an invalid value, keep the valid one"
     ]
    },
    {
     "cell_type": "code",
     "collapsed": false,
     "input": [
      "a = da.DimArray([[1.,2,3]],axes=[('line',[1]), ('col',['a','b','c'])])\n",
      "e = da.DimArray([[np.nan],[5]], axes=[('line',[1,2]), ('col',['b'])])\n",
      "da.aggregate((a,e)) # does not overwrite `2` at location (1, 'b')"
     ],
     "language": "python",
     "metadata": {},
     "outputs": [
      {
       "metadata": {},
       "output_type": "pyout",
       "prompt_number": 99,
       "text": [
        "dimarray: 4 non-null elements (2 null)\n",
        "dimensions: 'line', 'col'\n",
        "0 / line (2): 1 to 2\n",
        "1 / col (3): a to c\n",
        "array([[  1.,   2.,   3.],\n",
        "       [ nan,   5.,  nan]])"
       ]
      }
     ],
     "prompt_number": 99
    },
    {
     "cell_type": "markdown",
     "metadata": {},
     "source": [
      "But any loss of data (overlap between two valid values) is prevented by raising an exception:"
     ]
    },
    {
     "cell_type": "code",
     "collapsed": false,
     "input": [
      "a = da.DimArray([[1.,2,3]],axes=[('line',[1]), ('col',['a','b','c'])])\n",
      "e = da.DimArray([[4],[5]], axes=[('line',[1,2]), ('col',['b'])])\n",
      "try:\n",
      "    da.aggregate((a,e))\n",
      "except Exception, msg:\n",
      "    print msg"
     ],
     "language": "python",
     "metadata": {},
     "outputs": [
      {
       "output_type": "stream",
       "stream": "stdout",
       "text": [
        "Overlapping arrays: set check_overlap to False to suppress this error.\n"
       ]
      }
     ],
     "prompt_number": 100
    },
    {
     "cell_type": "markdown",
     "metadata": {},
     "source": [
      "Unless specified otherwise with `check_overlap=False` (will also speedup the operation)"
     ]
    },
    {
     "cell_type": "code",
     "collapsed": false,
     "input": [
      "da.aggregate((a,e), check_overlap=False)"
     ],
     "language": "python",
     "metadata": {},
     "outputs": [
      {
       "metadata": {},
       "output_type": "pyout",
       "prompt_number": 101,
       "text": [
        "dimarray: 4 non-null elements (2 null)\n",
        "dimensions: 'line', 'col'\n",
        "0 / line (2): 1 to 2\n",
        "1 / col (3): a to c\n",
        "array([[  1.,   4.,   3.],\n",
        "       [ nan,   5.,  nan]])"
       ]
      }
     ],
     "prompt_number": 101
    },
    {
     "cell_type": "heading",
     "level": 3,
     "metadata": {},
     "source": [
      "Metadata"
     ]
    },
    {
     "cell_type": "markdown",
     "metadata": {},
     "source": [
      "`DimArray` and `Axis` objects, support metadata. They can be passed by keyword arguments to DimArray (not via da.array_kw or DimArray.from_kw !)"
     ]
    },
    {
     "cell_type": "code",
     "collapsed": false,
     "input": [
      "a = DimArray([[1,2,3],[4,5,6]])\n",
      "a.name='myname'\n",
      "a.units='myunits'"
     ],
     "language": "python",
     "metadata": {},
     "outputs": [],
     "prompt_number": 126
    },
    {
     "cell_type": "code",
     "collapsed": false,
     "input": [
      "ax = a.axes[0]\n",
      "ax.units = \"meters\""
     ],
     "language": "python",
     "metadata": {},
     "outputs": [],
     "prompt_number": 127
    },
    {
     "cell_type": "markdown",
     "metadata": {},
     "source": [
      "metadata are conserved by slicing and along-axis transformation, but are lost with any other transformation"
     ]
    },
    {
     "cell_type": "code",
     "collapsed": false,
     "input": [
      "a[:].units"
     ],
     "language": "python",
     "metadata": {},
     "outputs": [
      {
       "metadata": {},
       "output_type": "pyout",
       "prompt_number": 128,
       "text": [
        "'myunits'"
       ]
      }
     ],
     "prompt_number": 128
    },
    {
     "cell_type": "code",
     "collapsed": false,
     "input": [
      "ax[:].units"
     ],
     "language": "python",
     "metadata": {},
     "outputs": [
      {
       "metadata": {},
       "output_type": "pyout",
       "prompt_number": 129,
       "text": [
        "'meters'"
       ]
      }
     ],
     "prompt_number": 129
    },
    {
     "cell_type": "heading",
     "level": 3,
     "metadata": {},
     "source": [
      "Weighted mean"
     ]
    },
    {
     "cell_type": "markdown",
     "metadata": {},
     "source": [
      "Each axis can have a `weights` attribute. If not None, it will be automatically used when computing mean, var, std"
     ]
    },
    {
     "cell_type": "code",
     "collapsed": false,
     "input": [
      ">>> np.random.seed(0)\n",
      ">>> data = da.DimArray(np.random.randn(7), ('lat',np.linspace(-90,90,7)))\n",
      "\n",
      ">>> umean = data.mean(axis='lat')\n",
      "print \"\\nunweighted zonal mean:\\n\\n\", umean\n",
      "\n",
      "# now add weights\n",
      ">>> data.axes['lat'].weights = lambda x: np.cos(np.radians(x))\n",
      "\n",
      ">>> wmean = data.mean(axis='lat')\n",
      "print \"\\nweighted zonal mean:\\n\", wmean\n",
      "\n",
      ">>> wmean = data[:].mean(axis='lat')\n",
      "print \"\\nweighted zonal mean after [:]:\\n\", wmean\n",
      "\n",
      ">>> testt =  data.mean(axis='lat', weights=None) \n",
      "print \"\\nCHECK:\", testt == umean"
     ],
     "language": "python",
     "metadata": {},
     "outputs": [
      {
       "output_type": "stream",
       "stream": "stdout",
       "text": [
        "\n",
        "unweighted zonal mean:\n",
        "\n",
        "1.03202989506\n",
        "\n",
        "weighted zonal mean:\n",
        "1.18361129352\n",
        "\n",
        "weighted zonal mean after [:]:\n",
        "1.18361129352\n",
        "\n",
        "CHECK: True\n"
       ]
      }
     ],
     "prompt_number": 134
    },
    {
     "cell_type": "code",
     "collapsed": false,
     "input": [
      "# Weighted mean with grouping\n",
      "#>>> mymap[mymap.lon > 0])\n",
      "#lon=linspace(-180,180,50), \n",
      "mymap = data.reshape(('lat','lon')).repeat(np.linspace(-180,180,5), axis='lon')\n",
      "mymap.values[:,0] = np.nan\n",
      "#>>> print mymap\n",
      "#lon=linspace(-180,180,50)\n",
      "wmean = mymap.mean()\n",
      "print \"\\nNaN + flatten all:\\n\",umean\n",
      "#>>> wmean = mymap.mean(axis=('lon','lat'))\n",
      "wmean = mymap.mean(axis='lon').mean(axis='lat')\n",
      "print \"\\nNaN + sequential:\\n\",wmean\n",
      "cube = da.DimArray(np.random.randn(50,7,5), [('lon',np.linspace(-180,180,50)), (\"lat\",np.linspace(-90,90,7)), ('time',np.arange(1950,1955))])\n",
      "cube.axes['lat'].weights = lambda x: np.cos(np.radians(x))"
     ],
     "language": "python",
     "metadata": {},
     "outputs": [
      {
       "output_type": "stream",
       "stream": "stdout",
       "text": [
        "\n",
        "NaN + flatten all:\n",
        "1.03202989506\n",
        "\n",
        "NaN + sequential:\n",
        "nan\n"
       ]
      }
     ],
     "prompt_number": 135
    },
    {
     "cell_type": "heading",
     "level": 3,
     "metadata": {},
     "source": [
      "Interpolation"
     ]
    },
    {
     "cell_type": "code",
     "collapsed": false,
     "input": [
      "time=np.linspace(1950,1955,8)\n",
      "v = da.DimArray.from_kw(np.cos(time), time=time)\n",
      "#w = v.reindex_axis(arange(1940,1960), axis='time') \n",
      "w = da.interp1d(v, np.linspace(1948,1957,10), axis='time')\n",
      "#%matplotlib inline\n",
      "\n",
      "import matplotlib.pyplot as plt\n",
      "plt.clf()\n",
      "plt.plot(v.time, v.values, label='original')\n",
      "plt.plot(w.time, w.values, label='interp')\n",
      "plt.legend()\n",
      "#plt.show()\n",
      "#plt.draw()"
     ],
     "language": "python",
     "metadata": {},
     "outputs": [],
     "prompt_number": 136
    },
    {
     "cell_type": "heading",
     "level": 3,
     "metadata": {},
     "source": [
      "Export to other formats"
     ]
    },
    {
     "cell_type": "code",
     "collapsed": false,
     "input": [
      "#reload(da) # for dict\n",
      "v = da.DimArray.from_kw(np.random.randn(2,5,7), time=np.arange(1950,1955), lat=np.linspace(-90,90,7), items=np.array(['greenland','antarctica']))\n",
      "#reload(co) # for dict\n",
      "\n",
      "print \"\\nExport to pandas\\n\"\n",
      "print v.to_pandas()\n",
      "print \"\\nExport to larry\\n\"\n",
      "print v.to_larry()\n",
      "#print \"\\nExport to Dataset\\n\"\n",
      "#print v.to()\n",
      "#v.to_MaskedArray() # to masked array"
     ],
     "language": "python",
     "metadata": {},
     "outputs": [
      {
       "output_type": "stream",
       "stream": "stdout",
       "text": [
        "\n",
        "Export to pandas\n",
        "\n",
        "<class 'pandas.core.panel.Panel'>\n",
        "Dimensions: 2 (items) x 5 (major_axis) x 7 (minor_axis)\n",
        "Items axis: greenland to antarctica\n",
        "Major_axis axis: 1950 to 1954\n",
        "Minor_axis axis: -90.0 to 90.0\n",
        "\n",
        "Export to larry\n",
        "\n",
        "warning: dimension names have not been passed to larry\n",
        "label_0\n",
        "    greenland\n",
        "    antarctica\n",
        "label_1\n",
        "    1950\n",
        "    1951\n",
        "    1952\n",
        "    1953\n",
        "    1954\n",
        "label_2\n",
        "    -90.0\n",
        "    -60.0\n",
        "    -30.0\n",
        "    0.0\n",
        "    30.0\n",
        "    60.0\n",
        "    90.0\n",
        "x\n",
        "array([[[ 0.02429091,  1.27981202, -0.88596648,  0.40088568, -0.00965724,\n",
        "         -1.79716462, -0.80225317],\n",
        "        [ 0.19321355,  1.29734209,  1.00133102,  0.5972125 , -0.81527566,\n",
        "          1.80121399,  0.21524047],\n",
        "        [-1.00636552, -0.18290498,  0.89624843,  0.0076175 ,  0.88686469,\n",
        "          1.10369396,  0.40053068],\n",
        "        [-0.85770262,  0.13545466,  0.04516586,  1.85934633, -1.62632194,\n",
        "         -0.13482245, -0.58409355],\n",
        "        [ 0.33510562, -2.43756436,  1.11492456,  0.01374849, -1.84470116,\n",
        "         -0.36111313,  0.60896234]],\n",
        "\n",
        "       [[-1.59144788,  0.00322222, -1.05747365, -0.55598503,  0.02673838,\n",
        "          0.18345025, -0.4707425 ],\n",
        "        [ 0.27279639,  0.81797761, -0.27891428,  1.43156776,  1.46221417,\n",
        "         -0.42870207, -0.63784056],\n",
        "        [-1.66417299, -0.12656933, -0.36343778,  0.77905122, -1.50966161,\n",
        "         -0.27739139,  0.96874439],\n",
        "        [-0.7303571 , -0.76236154, -1.44694033,  2.62057385, -0.74747318,\n",
        "         -1.30034683, -0.8038504 ],\n",
        "        [-0.77429508, -0.26938978,  0.82537223, -0.29832317, -0.92282331,\n",
        "         -1.4513385 ,  0.02185736]]])\n"
       ]
      }
     ],
     "prompt_number": 137
    },
    {
     "cell_type": "code",
     "collapsed": false,
     "input": [
      ">>> from pandas import Series, DataFrame\n",
      ">>> s = Series([3,5,6], index=['a','b','c'])\n",
      ">>> s.index.name = 'dim0'\n",
      ">>> print DimArray.from_pandas(s)\n",
      ">>> d = DataFrame([[3,5,6],[1,2,3]], index=[50,20], columns=['a','b','c'])\n",
      ">>> d.index.name = 'ii'\n",
      ">>> d.columns.name = 'cc'\n",
      ">>> print \n",
      ">>> print DimArray.from_pandas(d)"
     ],
     "language": "python",
     "metadata": {},
     "outputs": [
      {
       "output_type": "stream",
       "stream": "stdout",
       "text": [
        "dimarray: 3 non-null elements (0 null)\n",
        "dimensions: 'dim0'\n",
        "0 / dim0 (3): a to c\n",
        "array([3, 5, 6], dtype=int64)\n",
        "\n",
        "dimarray: 6 non-null elements (0 null)\n",
        "dimensions: 'ii', 'cc'\n",
        "0 / ii (2): 50 to 20\n",
        "1 / cc (3): a to c\n",
        "array([[3, 5, 6],\n",
        "       [1, 2, 3]], dtype=int64)\n"
       ]
      }
     ],
     "prompt_number": 138
    },
    {
     "cell_type": "heading",
     "level": 2,
     "metadata": {},
     "source": [
      "doctest framework"
     ]
    },
    {
     "cell_type": "code",
     "collapsed": false,
     "input": [
      "import dimarray.tests as tests\n",
      "#import dimarray.tests as tests\n",
      "tests.main()\n",
      "#run test.test_all()"
     ],
     "language": "python",
     "metadata": {},
     "outputs": [
      {
       "output_type": "stream",
       "stream": "stdout",
       "text": [
        "\n",
        "\n",
        "============================\n",
        "TEST dimarray.core.metadata\n",
        "============================\n",
        "\n",
        "\n",
        "\n",
        "\n",
        "============================\n",
        "TEST dimarray.core.dimarraycls\n",
        "============================\n",
        "\n",
        "\n",
        "\n",
        "\n",
        "============================"
       ]
      },
      {
       "output_type": "stream",
       "stream": "stdout",
       "text": [
        "\n",
        "TEST dimarray.core.axes\n",
        "============================\n",
        "\n",
        "\n",
        "\n",
        "\n",
        "============================"
       ]
      },
      {
       "output_type": "stream",
       "stream": "stdout",
       "text": [
        "\n",
        "TEST dimarray.core._indexing\n",
        "============================\n",
        "\n",
        "\n",
        "\n",
        "\n",
        "============================"
       ]
      },
      {
       "output_type": "stream",
       "stream": "stdout",
       "text": [
        "\n",
        "TEST dimarray.core._transform\n",
        "============================\n",
        "\n",
        "\n",
        "\n",
        "\n",
        "============================\n",
        "TEST dimarray.core._reshape\n",
        "============================\n",
        "\n",
        "\n",
        "\n",
        "\n",
        "============================"
       ]
      },
      {
       "output_type": "stream",
       "stream": "stdout",
       "text": [
        "\n",
        "TEST dimarray.core.missingvalues\n",
        "============================\n",
        "\n",
        "\n",
        "\n",
        "\n",
        "============================\n",
        "TEST dimarray.core._operation\n",
        "============================\n",
        "\n",
        "\n",
        "\n",
        "\n",
        "============================\n",
        "TEST dimarray.core.align\n",
        "============================\n",
        "\n",
        "\n",
        "\n",
        "\n",
        "============================"
       ]
      },
      {
       "output_type": "stream",
       "stream": "stdout",
       "text": [
        "\n",
        "TEST dimarray.core.tests\n",
        "============================\n",
        "\n",
        "\n",
        "\n",
        "\n",
        "============================\n",
        "TEST dimarray.geo.geoarray\n",
        "============================\n",
        "\n",
        "\n",
        "\n",
        "\n",
        "============================\n",
        "TEST dimarray.geo.region\n",
        "============================\n",
        "\n",
        "\n",
        "\n",
        "\n",
        "============================"
       ]
      },
      {
       "output_type": "stream",
       "stream": "stdout",
       "text": [
        "\n",
        "TEST dimarray.geo.transform\n",
        "============================\n",
        "\n",
        "\n",
        "\n",
        "\n",
        "============================\n",
        "TEST dimarray.geo.grid\n",
        "============================\n",
        "\n",
        "\n",
        "\n",
        "\n",
        "============================\n",
        "TEST decorator\n",
        "============================\n",
        "\n",
        "\n",
        "\n",
        "\n",
        "============================\n",
        "TEST dimarray\n",
        "============================\n",
        "\n",
        "\n",
        "\n",
        "\n",
        "============================\n",
        "TEST dimarray.dataset\n",
        "============================\n",
        "\n",
        "\n",
        "\n",
        "\n",
        "============================"
       ]
      },
      {
       "output_type": "stream",
       "stream": "stdout",
       "text": [
        "\n",
        "TEST README.rst\n",
        "============================\n",
        "\n",
        "\n"
       ]
      }
     ],
     "prompt_number": 139
    }
   ],
   "metadata": {}
  }
 ]
}