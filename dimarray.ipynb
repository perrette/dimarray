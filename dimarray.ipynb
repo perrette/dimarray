{
 "metadata": {
  "name": "",
  "signature": "sha256:ac0a85670a72f948e3b67d9af350233187555e6679b273c2adda79288e7a5a7a"
 },
 "nbformat": 3,
 "nbformat_minor": 0,
 "worksheets": [
  {
   "cells": [
    {
     "cell_type": "markdown",
     "metadata": {},
     "source": [
      "Documentation is now hosted at [http://pythonhosted.org/dimarray/](http://pythonhosted.org/dimarray/)"
     ]
    }
   ],
   "metadata": {}
  }
 ]
}
