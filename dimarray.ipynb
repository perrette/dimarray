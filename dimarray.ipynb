{
 "metadata": {
  "name": ""
 },
 "nbformat": 3,
 "nbformat_minor": 0,
 "worksheets": [
  {
   "cells": [
    {
     "cell_type": "heading",
     "level": 1,
     "metadata": {},
     "source": [
      "Introduction to dimarray"
     ]
    },
    {
     "cell_type": "markdown",
     "metadata": {},
     "source": [
      "Download dimarray on [github](https://github.com/perrette/dimarray/) or just take a look at this notebook on [nbviewer](http://nbviewer.ipython.org/github/perrette/dimarray/blob/master/dimarray.ipynb)"
     ]
    },
    {
     "cell_type": "markdown",
     "metadata": {},
     "source": [
      "### Table of Content\n",
      "- [Get started](#Get-started)\n",
      "- [Alternative definitions](#Alternative-definitions)\n",
      "    - [Axis object](#Axis-object)\n",
      "    - [Automatic naming](#Automatic-naming)\n",
      "    - [Key-word arguments](#Key-word-arguments)\n",
      "- [Indexing](#Indexing)\n",
      "    - [Basics: integer, array, slice](#Basics:-integer,-array,-slice)\n",
      "    - [Modify array values](#Modify-array-values)\n",
      "    - [take and put methods](#take-and-put-methods)\n",
      "- [Numpy Transformations](#Numpy-Transformations)\n",
      "- [Missing values](#Missing-values)\n",
      "- [Modify array shape](#Modify-array-shape)\n",
      "    - [transpose](#transpose)\n",
      "    - [newaxis](#newaxis)\n",
      "    - [reshape](#reshape)\n",
      "    - [group and ungroup [Experimental]](#group-and-ungroup-[Experimental])\n",
      "- [Repeat and broadcast: align dimensions](#Repeat-and-broadcast:-align-dimensions)\n",
      "    - [repeat](#repeat)\n",
      "    - [broadcast](#broadcast)\n",
      "    - [broadcast_arrays](#broadcast_arrays)\n",
      "- [Reindexing: align axes](#Reindexing:-align-axes)\n",
      "    - [reindex_axis](#reindex_axis)\n",
      "    - [reindex_like](#reindex_like)\n",
      "    - [Interpolation](#Interpolation)\n",
      "    - [align_axes](#align_axes)\n",
      "- [Join arrays](#Join-arrays)\n",
      "    - [concatenate arrays along existing axis](#concatenate-arrays-along-existing-axis)\n",
      "    - [join arrays along new axis](#join-arrays-along-new-axis)\n",
      "    - [aggregate arrays of varying dimensions [Experimental]](#aggregate-arrays-of-varying-dimensions-[Experimental])\n",
      "- [Operations](#Operations)\n",
      "    - [Basic Operations        ](#Basic-Operations--------)\n",
      "    - [Operation with data alignment ](#Operation-with-data-alignment-)\n",
      "- [Dataset](#Dataset)\n",
      "- [NetCDF I/O](#NetCDF-I/O)\n",
      "- [Experimental Features](#Experimental-Features)\n",
      "    - [Metadata](#Metadata)\n",
      "    - [Weighted mean](#Weighted-mean)\n",
      "    - [Compatibility with pandas and larry](#Compatibility-with-pandas-and-larry)\n",
      "- [doctest framework](#doctest-framework)"
     ]
    },
    {
     "cell_type": "heading",
     "level": 2,
     "metadata": {},
     "source": [
      "Get started"
     ]
    },
    {
     "cell_type": "markdown",
     "metadata": {},
     "source": [
      "A **``DimArray``** can be defined just like a numpy array, with\n",
      "additional information about its axes, which can be given\n",
      "via `labels` and `dims` parameters."
     ]
    },
    {
     "cell_type": "code",
     "collapsed": false,
     "input": [
      "from dimarray import DimArray, Dataset"
     ],
     "language": "python",
     "metadata": {},
     "outputs": [],
     "prompt_number": 1
    },
    {
     "cell_type": "code",
     "collapsed": false,
     "input": [
      "a = DimArray(values=[[1,2,3],[4,5,6.]], labels=[[\"a\",\"b\"], [0,1,2]], dims=['dim0','dim1']) \n",
      "a"
     ],
     "language": "python",
     "metadata": {},
     "outputs": [
      {
       "metadata": {},
       "output_type": "pyout",
       "prompt_number": 2,
       "text": [
        "dimarray: 6 non-null elements (0 null)\n",
        "dimensions: 'dim0', 'dim1'\n",
        "0 / dim0 (2): a to b\n",
        "1 / dim1 (3): 0 to 2\n",
        "array([[ 1.,  2.,  3.],\n",
        "       [ 4.,  5.,  6.]])"
       ]
      }
     ],
     "prompt_number": 2
    },
    {
     "cell_type": "markdown",
     "metadata": {},
     "source": [
      "Array data are stored in a `values` **attribute**:"
     ]
    },
    {
     "cell_type": "code",
     "collapsed": false,
     "input": [
      "a.values"
     ],
     "language": "python",
     "metadata": {},
     "outputs": [
      {
       "metadata": {},
       "output_type": "pyout",
       "prompt_number": 3,
       "text": [
        "array([[ 1.,  2.,  3.],\n",
        "       [ 4.,  5.,  6.]])"
       ]
      }
     ],
     "prompt_number": 3
    },
    {
     "cell_type": "markdown",
     "metadata": {},
     "source": [
      "and axis names and values can be accessed straightforwardly, just like `shape` and `ndim`:"
     ]
    },
    {
     "cell_type": "code",
     "collapsed": false,
     "input": [
      "a.dims "
     ],
     "language": "python",
     "metadata": {},
     "outputs": [
      {
       "metadata": {},
       "output_type": "pyout",
       "prompt_number": 4,
       "text": [
        "('dim0', 'dim1')"
       ]
      }
     ],
     "prompt_number": 4
    },
    {
     "cell_type": "code",
     "collapsed": false,
     "input": [
      "a.labels   # same as (a.dim0, a.dim1)"
     ],
     "language": "python",
     "metadata": {},
     "outputs": [
      {
       "metadata": {},
       "output_type": "pyout",
       "prompt_number": 5,
       "text": [
        "(array(['a', 'b'], dtype=object), array([0, 1, 2]))"
       ]
      }
     ],
     "prompt_number": 5
    },
    {
     "cell_type": "markdown",
     "metadata": {},
     "source": [
      "**Indexing** works on labels just as expected, including `slice` and boolean array."
     ]
    },
    {
     "cell_type": "code",
     "collapsed": false,
     "input": [
      "a['b', 1]"
     ],
     "language": "python",
     "metadata": {},
     "outputs": [
      {
       "metadata": {},
       "output_type": "pyout",
       "prompt_number": 6,
       "text": [
        "5.0"
       ]
      }
     ],
     "prompt_number": 6
    },
    {
     "cell_type": "markdown",
     "metadata": {},
     "source": [
      "but integer-index is always possible via `ix` toogle between `labels`- and `position`-based indexing:"
     ]
    },
    {
     "cell_type": "code",
     "collapsed": false,
     "input": [
      "a.ix[1, 1]"
     ],
     "language": "python",
     "metadata": {},
     "outputs": [
      {
       "metadata": {},
       "output_type": "pyout",
       "prompt_number": 7,
       "text": [
        "5.0"
       ]
      }
     ],
     "prompt_number": 7
    },
    {
     "cell_type": "markdown",
     "metadata": {},
     "source": [
      "Numpy **transformations** are defined, and now accept axis name:"
     ]
    },
    {
     "cell_type": "code",
     "collapsed": false,
     "input": [
      "a.mean(axis='dim0')"
     ],
     "language": "python",
     "metadata": {},
     "outputs": [
      {
       "metadata": {},
       "output_type": "pyout",
       "prompt_number": 8,
       "text": [
        "dimarray: 3 non-null elements (0 null)\n",
        "dimensions: 'dim1'\n",
        "0 / dim1 (3): 0 to 2\n",
        "array([ 2.5,  3.5,  4.5])"
       ]
      }
     ],
     "prompt_number": 8
    },
    {
     "cell_type": "markdown",
     "metadata": {},
     "source": [
      "and can ignore **missing values (nans)** if asked to:"
     ]
    },
    {
     "cell_type": "code",
     "collapsed": false,
     "input": [
      "import numpy as np"
     ],
     "language": "python",
     "metadata": {},
     "outputs": [],
     "prompt_number": 9
    },
    {
     "cell_type": "code",
     "collapsed": false,
     "input": [
      "a['a',2] = np.nan\n",
      "a"
     ],
     "language": "python",
     "metadata": {},
     "outputs": [
      {
       "metadata": {},
       "output_type": "pyout",
       "prompt_number": 10,
       "text": [
        "dimarray: 5 non-null elements (1 null)\n",
        "dimensions: 'dim0', 'dim1'\n",
        "0 / dim0 (2): a to b\n",
        "1 / dim1 (3): 0 to 2\n",
        "array([[  1.,   2.,  nan],\n",
        "       [  4.,   5.,   6.]])"
       ]
      }
     ],
     "prompt_number": 10
    },
    {
     "cell_type": "code",
     "collapsed": false,
     "input": [
      "a.mean(axis='dim0', skipna=True)"
     ],
     "language": "python",
     "metadata": {},
     "outputs": [
      {
       "metadata": {},
       "output_type": "pyout",
       "prompt_number": 11,
       "text": [
        "dimarray: 3 non-null elements (0 null)\n",
        "dimensions: 'dim1'\n",
        "0 / dim1 (3): 0 to 2\n",
        "array([ 2.5,  3.5,  6. ])"
       ]
      }
     ],
     "prompt_number": 11
    },
    {
     "cell_type": "markdown",
     "metadata": {},
     "source": [
      "Having axis name and axis values allow on-the-fly **axis alignment** and\n",
      "**dimension broadcasting** in basic operations (addition, etc...),\n",
      "so that rules can be defined for nearly every sequence of operands.\n",
      "\n",
      "Let's define some axes on dimensions `time` and `items`, using the tuple form (name, values)"
     ]
    },
    {
     "cell_type": "code",
     "collapsed": false,
     "input": [
      "time = ('time', [1950, 1951, 1952])\n",
      "incomplete_time = ('time', [1950, 1952])\n",
      "items = ('items', ['a','b'])"
     ],
     "language": "python",
     "metadata": {},
     "outputs": [],
     "prompt_number": 12
    },
    {
     "cell_type": "markdown",
     "metadata": {},
     "source": [
      "see how two arrays with different time indices align, and how the missing year in the second array is replaced by nan:"
     ]
    },
    {
     "cell_type": "code",
     "collapsed": false,
     "input": [
      "timeseries = DimArray([1,2,3], time)\n",
      "incomplete_timeseries = DimArray([4, 5], incomplete_time)\n",
      "timeseries + incomplete_timeseries"
     ],
     "language": "python",
     "metadata": {},
     "outputs": [
      {
       "metadata": {},
       "output_type": "pyout",
       "prompt_number": 13,
       "text": [
        "dimarray: 2 non-null elements (1 null)\n",
        "dimensions: 'time'\n",
        "0 / time (3): 1950 to 1952\n",
        "array([  5.,  nan,   8.])"
       ]
      }
     ],
     "prompt_number": 13
    },
    {
     "cell_type": "markdown",
     "metadata": {},
     "source": [
      "If one of the operands lacks a dimension, it is automatically repeated (broadcast) to match the other operand's shape. In this example, an array of weights is fixed in time, whereas the data to be weighted changes at each time step. "
     ]
    },
    {
     "cell_type": "code",
     "collapsed": false,
     "input": [
      "data = DimArray([[1,2,3],[40,50,60]], [items, time])\n",
      "weights = DimArray([2, 0.5], items)\n",
      "\n",
      "data * weights"
     ],
     "language": "python",
     "metadata": {},
     "outputs": [
      {
       "metadata": {},
       "output_type": "pyout",
       "prompt_number": 14,
       "text": [
        "dimarray: 6 non-null elements (0 null)\n",
        "dimensions: 'items', 'time'\n",
        "0 / items (2): a to b\n",
        "1 / time (3): 1950 to 1952\n",
        "array([[  2.,   4.,   6.],\n",
        "       [ 20.,  25.,  30.]])"
       ]
      }
     ],
     "prompt_number": 14
    },
    {
     "cell_type": "markdown",
     "metadata": {},
     "source": [
      "As a commodity, the **`Dataset`** class is an ordered dictionary of DimArrays which also maintains data aligment"
     ]
    },
    {
     "cell_type": "code",
     "collapsed": false,
     "input": [
      "dataset = Dataset({'data':data, 'weisghts':weights,'incomplete_timeseries':incomplete_timeseries})\n",
      "dataset"
     ],
     "language": "python",
     "metadata": {},
     "outputs": [
      {
       "metadata": {},
       "output_type": "pyout",
       "prompt_number": 15,
       "text": [
        "Dataset of 3 variables\n",
        "dimensions: 'items', 'time'\n",
        "0 / items (2): a to b\n",
        "1 / time (3): 1950 to 1952\n",
        "weisghts: ('items',)\n",
        "data: ('items', 'time')\n",
        "incomplete_timeseries: ('time',)"
       ]
      }
     ],
     "prompt_number": 15
    },
    {
     "cell_type": "markdown",
     "metadata": {},
     "source": [
      "A natural I/O format for such an array is netCDF, common in geophysics, which rely on\n",
      "the netCDF4 package. If netCDF4 is installed (much recommanded), a dataset can easily read and write to the netCDF format:"
     ]
    },
    {
     "cell_type": "code",
     "collapsed": false,
     "input": [
      "dataset.write_nc('test.nc', mode='w')"
     ],
     "language": "python",
     "metadata": {},
     "outputs": [
      {
       "output_type": "stream",
       "stream": "stdout",
       "text": [
        "write to test.nc\n"
       ]
      }
     ],
     "prompt_number": 16
    },
    {
     "cell_type": "code",
     "collapsed": false,
     "input": [
      "import dimarray as da\n",
      "da.read_nc('test.nc', 'incomplete_timeseries')"
     ],
     "language": "python",
     "metadata": {},
     "outputs": [
      {
       "output_type": "stream",
       "stream": "stdout",
       "text": [
        "read from test.nc\n"
       ]
      },
      {
       "metadata": {},
       "output_type": "pyout",
       "prompt_number": 17,
       "text": [
        "dimarray: 2 non-null elements (1 null)\n",
        "dimensions: 'time'\n",
        "0 / time (3): 1950 to 1952\n",
        "array([  4.,  nan,   5.])"
       ]
      }
     ],
     "prompt_number": 17
    },
    {
     "cell_type": "heading",
     "level": 2,
     "metadata": {},
     "source": [
      "Alternative definitions"
     ]
    },
    {
     "cell_type": "heading",
     "level": 3,
     "metadata": {},
     "source": [
      "Axis object"
     ]
    },
    {
     "cell_type": "markdown",
     "metadata": {},
     "source": [
      "Under the hood, information about axis names and values are stored under an `axes` attribute, for consistency with numpy and pandas. It is a custom list of __`Axis`__ objects:"
     ]
    },
    {
     "cell_type": "code",
     "collapsed": false,
     "input": [
      "a.axes"
     ],
     "language": "python",
     "metadata": {},
     "outputs": [
      {
       "metadata": {},
       "output_type": "pyout",
       "prompt_number": 18,
       "text": [
        "dimensions: 'dim0', 'dim1'\n",
        "0 / dim0 (2): a to b\n",
        "1 / dim1 (3): 0 to 2"
       ]
      }
     ],
     "prompt_number": 18
    },
    {
     "cell_type": "code",
     "collapsed": false,
     "input": [
      "ax = a.axes[0]  # by integer position\n",
      "ax = a.axes['dim0'] # by axis name (for pythonistas: list with overloaded __getitem__ property)\n",
      "ax"
     ],
     "language": "python",
     "metadata": {},
     "outputs": [
      {
       "metadata": {},
       "output_type": "pyout",
       "prompt_number": 19,
       "text": [
        "dim0 (2): a to b"
       ]
      }
     ],
     "prompt_number": 19
    },
    {
     "cell_type": "markdown",
     "metadata": {},
     "source": [
      "An __`Axis`__ object itself has `name` and `values` attributes:"
     ]
    },
    {
     "cell_type": "code",
     "collapsed": false,
     "input": [
      "ax.name"
     ],
     "language": "python",
     "metadata": {},
     "outputs": [
      {
       "metadata": {},
       "output_type": "pyout",
       "prompt_number": 20,
       "text": [
        "'dim0'"
       ]
      }
     ],
     "prompt_number": 20
    },
    {
     "cell_type": "code",
     "collapsed": false,
     "input": [
      "ax.values"
     ],
     "language": "python",
     "metadata": {},
     "outputs": [
      {
       "metadata": {},
       "output_type": "pyout",
       "prompt_number": 21,
       "text": [
        "array(['a', 'b'], dtype=object)"
       ]
      }
     ],
     "prompt_number": 21
    },
    {
     "cell_type": "markdown",
     "metadata": {},
     "source": [
      "It can be passed directly via the `axes=` parameter to initialize a DimArray, or be passed as a list of tuples (`axis name`, `axis values`):"
     ]
    },
    {
     "cell_type": "code",
     "collapsed": false,
     "input": [
      "a = DimArray([[1,2,3],[4,5,6]], axes=[(\"dim0\",[4,\"a\"]), (\"dim1\", [0,1,2])]) \n",
      "a"
     ],
     "language": "python",
     "metadata": {},
     "outputs": [
      {
       "metadata": {},
       "output_type": "pyout",
       "prompt_number": 22,
       "text": [
        "dimarray: 6 non-null elements (0 null)\n",
        "dimensions: 'dim0', 'dim1'\n",
        "0 / dim0 (2): 4 to a\n",
        "1 / dim1 (3): 0 to 2\n",
        "array([[1, 2, 3],\n",
        "       [4, 5, 6]])"
       ]
      }
     ],
     "prompt_number": 22
    },
    {
     "cell_type": "markdown",
     "metadata": {},
     "source": [
      "In another world (like in R), one could also have chosen `dims` instead of `axes`. `numpy` has decided otherwise and was followed by `pandas`, so `dimarray` will just stick to it to reduce confusion. \n",
      "\n",
      "The convention chosen in `dimarray` is to refer to axis names as `dims`  (for dimensions) and to axis values as `labels`. This choice may seem a bit arbitrary, and to a certain extent it is, but it also has some internal logics. In particular, `dimensions` in the physical sense of the term refers to things with units, such time or space dimensions. A dimension is more like a fundamental property of an axis. It is conserved by indexing or slicing along an axis, and it determines whether two axes can be aligned or concatenated. `labels` may be more awkward when actually thinking about axis `values`, but it makes full sense when realizing that axis values serve as labelling the elements of an array elements. There is even a handy package whose name is drawn from it (`larry`, for labelled array). \n",
      "\n",
      "\n",
      "Well, in the hope it makes some sense to you, let's go on."
     ]
    },
    {
     "cell_type": "heading",
     "level": 3,
     "metadata": {},
     "source": [
      "Automatic naming"
     ]
    },
    {
     "cell_type": "markdown",
     "metadata": {},
     "source": [
      "Note that if any of `axes=`, `dims=` or `labels=` is omitted, dimarray proceeds to automatic naming / labelling, using np.arange() for axis values, and \"x0\", \"x1\" etc... for axis names:"
     ]
    },
    {
     "cell_type": "code",
     "collapsed": false,
     "input": [
      "a = DimArray(values=[[1,2,3],[4,5,6]], dims=['dim1','dim1']) # axis values defined as np.arange()\n",
      "a.labels"
     ],
     "language": "python",
     "metadata": {},
     "outputs": [
      {
       "metadata": {},
       "output_type": "pyout",
       "prompt_number": 23,
       "text": [
        "(array([0, 1]), array([0, 1, 2]))"
       ]
      }
     ],
     "prompt_number": 23
    },
    {
     "cell_type": "code",
     "collapsed": false,
     "input": [
      "a = DimArray(values=[[1,2,3],[4,5,6]], labels=[['a','b'],[1,2,3]]) # axis values defined as np.arange()\n",
      "a.dims"
     ],
     "language": "python",
     "metadata": {},
     "outputs": [
      {
       "metadata": {},
       "output_type": "pyout",
       "prompt_number": 24,
       "text": [
        "('x0', 'x1')"
       ]
      }
     ],
     "prompt_number": 24
    },
    {
     "cell_type": "markdown",
     "metadata": {},
     "source": [
      "As a convenience for the 1-D case when axis name is less relevant, the brackets on `labels` can be omitted, with or without keywords:\n"
     ]
    },
    {
     "cell_type": "code",
     "collapsed": false,
     "input": [
      "a = DimArray(values=[1,6], labels=['a', 'b']) \n",
      "a = DimArray([1,6], ['a', 'b']) \n",
      "a"
     ],
     "language": "python",
     "metadata": {},
     "outputs": [
      {
       "metadata": {},
       "output_type": "pyout",
       "prompt_number": 25,
       "text": [
        "dimarray: 2 non-null elements (0 null)\n",
        "dimensions: 'x0'\n",
        "0 / x0 (2): a to b\n",
        "array([1, 6])"
       ]
      }
     ],
     "prompt_number": 25
    },
    {
     "cell_type": "heading",
     "level": 3,
     "metadata": {},
     "source": [
      "Key-word arguments"
     ]
    },
    {
     "cell_type": "markdown",
     "metadata": {},
     "source": [
      "Other convenience include the definition of da.array as alias for da.DimArray and da.array_kw as alias for DimArray.from_kw. The latter accepts axes as keyword arguments. But beware, as it cannot recover the order of axes unless it can be guessed from the array shape (i.e. all dimensions have different sizes)."
     ]
    },
    {
     "cell_type": "code",
     "collapsed": false,
     "input": [
      "a = da.array_kw([[1,2,3],[4,5,6]], labels=['a','b'], time=[2000,2001,2002])\n",
      "a"
     ],
     "language": "python",
     "metadata": {},
     "outputs": [
      {
       "metadata": {},
       "output_type": "pyout",
       "prompt_number": 26,
       "text": [
        "dimarray: 6 non-null elements (0 null)\n",
        "dimensions: 'labels', 'time'\n",
        "0 / labels (2): a to b\n",
        "1 / time (3): 2000 to 2002\n",
        "array([[1, 2, 3],\n",
        "       [4, 5, 6]])"
       ]
      }
     ],
     "prompt_number": 26
    },
    {
     "cell_type": "heading",
     "level": 2,
     "metadata": {},
     "source": [
      "Indexing"
     ]
    },
    {
     "cell_type": "code",
     "collapsed": false,
     "input": [
      "import numpy as np\n",
      "import dimarray as da\n",
      "from dimarray import DimArray"
     ],
     "language": "python",
     "metadata": {},
     "outputs": [],
     "prompt_number": 1
    },
    {
     "cell_type": "heading",
     "level": 3,
     "metadata": {},
     "source": [
      "Basics: integer, array, slice"
     ]
    },
    {
     "cell_type": "markdown",
     "metadata": {},
     "source": [
      "There are various ways of indexing a DimArray, and all follow numpy's rules, except that in the default behaviour indices refer to axis values and not to position on the axis, in contrast to numpy. "
     ]
    },
    {
     "cell_type": "code",
     "collapsed": false,
     "input": [
      "from dimarray import DimArray\n",
      "import numpy as np"
     ],
     "language": "python",
     "metadata": {},
     "outputs": [],
     "prompt_number": 28
    },
    {
     "cell_type": "code",
     "collapsed": false,
     "input": [
      "v = DimArray([[1,2],[3,4],[5,6],[7,8]], labels=[[\"a\",\"b\",\"c\",\"d\"], [10.,20.]], dims=['x0','x1'], dtype=float) \n",
      "v"
     ],
     "language": "python",
     "metadata": {},
     "outputs": [
      {
       "metadata": {},
       "output_type": "pyout",
       "prompt_number": 29,
       "text": [
        "dimarray: 8 non-null elements (0 null)\n",
        "dimensions: 'x0', 'x1'\n",
        "0 / x0 (4): a to d\n",
        "1 / x1 (2): 10.0 to 20.0\n",
        "array([[ 1.,  2.],\n",
        "       [ 3.,  4.],\n",
        "       [ 5.,  6.],\n",
        "       [ 7.,  8.]])"
       ]
      }
     ],
     "prompt_number": 29
    },
    {
     "cell_type": "code",
     "collapsed": false,
     "input": [
      "v['a',20]  # extract a single item"
     ],
     "language": "python",
     "metadata": {},
     "outputs": [
      {
       "metadata": {},
       "output_type": "pyout",
       "prompt_number": 30,
       "text": [
        "2.0"
       ]
      }
     ],
     "prompt_number": 30
    },
    {
     "cell_type": "markdown",
     "metadata": {},
     "source": [
      "The `ix` attrubutes is the pendant for position (integer) indexing (and exclusively so !). It is therefore similar to indexing on the `values` attribute, except that it returns a new DimArray, where v.values[...] would return a numpy ndarray."
     ]
    },
    {
     "cell_type": "code",
     "collapsed": false,
     "input": [
      "v.ix[0,:]"
     ],
     "language": "python",
     "metadata": {},
     "outputs": [
      {
       "metadata": {},
       "output_type": "pyout",
       "prompt_number": 31,
       "text": [
        "dimarray: 2 non-null elements (0 null)\n",
        "dimensions: 'x1'\n",
        "0 / x1 (2): 10.0 to 20.0\n",
        "array([ 1.,  2.])"
       ]
      }
     ],
     "prompt_number": 31
    },
    {
     "cell_type": "markdown",
     "metadata": {},
     "source": [
      "Note that the last element of slices is INCLUDED, contrary to numpy's position indexing. Step argument is always intrepreted as an integer."
     ]
    },
    {
     "cell_type": "code",
     "collapsed": false,
     "input": [
      "v['a':'c',10]  # 'c' is INCLUDED"
     ],
     "language": "python",
     "metadata": {},
     "outputs": [
      {
       "metadata": {},
       "output_type": "pyout",
       "prompt_number": 32,
       "text": [
        "dimarray: 3 non-null elements (0 null)\n",
        "dimensions: 'x0'\n",
        "0 / x0 (3): a to c\n",
        "array([ 1.,  3.,  5.])"
       ]
      }
     ],
     "prompt_number": 32
    },
    {
     "cell_type": "code",
     "collapsed": false,
     "input": [
      "v[['a','c'],10]  # it is possible to provide a list"
     ],
     "language": "python",
     "metadata": {},
     "outputs": [
      {
       "metadata": {},
       "output_type": "pyout",
       "prompt_number": 33,
       "text": [
        "dimarray: 2 non-null elements (0 null)\n",
        "dimensions: 'x0'\n",
        "0 / x0 (2): a to c\n",
        "array([ 1.,  5.])"
       ]
      }
     ],
     "prompt_number": 33
    },
    {
     "cell_type": "code",
     "collapsed": false,
     "input": [
      "v[v.x0 != 'b',10]  # boolean indexing is also fine"
     ],
     "language": "python",
     "metadata": {},
     "outputs": [
      {
       "metadata": {},
       "output_type": "pyout",
       "prompt_number": 34,
       "text": [
        "dimarray: 3 non-null elements (0 null)\n",
        "dimensions: 'x0'\n",
        "0 / x0 (3): a to d\n",
        "array([ 1.,  5.,  7.])"
       ]
      }
     ],
     "prompt_number": 34
    },
    {
     "cell_type": "markdown",
     "metadata": {},
     "source": [
      "If several array-like indices are provided, they are broadcast into a single shape (like numpy does), and values are extracted along the corresponding line. "
     ]
    },
    {
     "cell_type": "code",
     "collapsed": false,
     "input": [
      "v[['a','c'],[10,20]]  # it is possible to provide a list"
     ],
     "language": "python",
     "metadata": {},
     "outputs": [
      {
       "metadata": {},
       "output_type": "pyout",
       "prompt_number": 35,
       "text": [
        "dimarray: 2 non-null elements (0 null)\n",
        "dimensions: 'x0,x1'\n",
        "0 / x0,x1 (2): ('a', '10.0') to ('c', '20.0')\n",
        "array([ 1.,  6.])"
       ]
      }
     ],
     "prompt_number": 35
    },
    {
     "cell_type": "markdown",
     "metadata": {},
     "source": [
      "This is in contrast to matlab or pandas, which use box-like indexing, along each dimension independently. This can be achieved with the `box` attribute:"
     ]
    },
    {
     "cell_type": "code",
     "collapsed": false,
     "input": [
      "v.box[['a','c'],[10,20]]  # indexing on each dimension, individually"
     ],
     "language": "python",
     "metadata": {},
     "outputs": [
      {
       "metadata": {},
       "output_type": "pyout",
       "prompt_number": 36,
       "text": [
        "dimarray: 4 non-null elements (0 null)\n",
        "dimensions: 'x0', 'x1'\n",
        "0 / x0 (2): a to c\n",
        "1 / x1 (2): 10.0 to 20.0\n",
        "array([[ 1.,  2.],\n",
        "       [ 5.,  6.]])"
       ]
      }
     ],
     "prompt_number": 36
    },
    {
     "cell_type": "heading",
     "level": 3,
     "metadata": {},
     "source": [
      "Modify array values"
     ]
    },
    {
     "cell_type": "markdown",
     "metadata": {},
     "source": [
      "All the above can be used to change array values, consistently with what you would expect. A few examples:"
     ]
    },
    {
     "cell_type": "code",
     "collapsed": false,
     "input": [
      "v[:] = 0\n",
      "v['d'] = 1\n",
      "v['b', 10] = 2\n",
      "v.box[['a','c'],[10,20]] = 3\n",
      "v[['a','c'],[10,20]] = 4\n",
      "v.values[-1] = 5 # last element to 5 \n",
      "v.ix[-1] = 6\n",
      "v"
     ],
     "language": "python",
     "metadata": {},
     "outputs": [
      {
       "metadata": {},
       "output_type": "pyout",
       "prompt_number": 37,
       "text": [
        "dimarray: 8 non-null elements (0 null)\n",
        "dimensions: 'x0', 'x1'\n",
        "0 / x0 (4): a to d\n",
        "1 / x1 (2): 10.0 to 20.0\n",
        "array([[ 4.,  3.],\n",
        "       [ 2.,  0.],\n",
        "       [ 3.,  4.],\n",
        "       [ 6.,  6.]])"
       ]
      }
     ],
     "prompt_number": 37
    },
    {
     "cell_type": "heading",
     "level": 3,
     "metadata": {},
     "source": [
      "take and put methods"
     ]
    },
    {
     "cell_type": "markdown",
     "metadata": {},
     "source": [
      "These two methods are the machinery to accessing and modifying items in the examples above.\n",
      "They may be useful to use directly for generic programming. \n",
      "They are similar to numpy methods of the same name, but also work in multiple dimensions.\n",
      "In particular, they both take dictionary, tuples and boolean arrays as `indices` argument."
     ]
    },
    {
     "cell_type": "code",
     "collapsed": false,
     "input": [
      "v = DimArray([[1,2],[3,4],[5,6],[7,8]], labels=[[\"a\",\"b\",\"c\",\"d\"], [10.,20.]], dims=['x0','x1'], dtype=float) "
     ],
     "language": "python",
     "metadata": {},
     "outputs": [],
     "prompt_number": 38
    },
    {
     "cell_type": "code",
     "collapsed": false,
     "input": [
      "a = v[:,10]\n",
      "b = v.take(10, axis=1)\n",
      "c = v.take(10, axis='x1')\n",
      "d = v.take({'x1':10}) # dict\n",
      "e = v.take((slice(None),10)) # tuple\n",
      "assert(np.all(a==b) and np.all(a==b) and np.all(a==c) and np.all(a==d) and np.all(a==e))\n",
      "a"
     ],
     "language": "python",
     "metadata": {},
     "outputs": [
      {
       "metadata": {},
       "output_type": "pyout",
       "prompt_number": 39,
       "text": [
        "dimarray: 4 non-null elements (0 null)\n",
        "dimensions: 'x0'\n",
        "0 / x0 (4): a to d\n",
        "array([ 1.,  3.,  5.,  7.])"
       ]
      }
     ],
     "prompt_number": 39
    },
    {
     "cell_type": "markdown",
     "metadata": {},
     "source": [
      "The two latter forms, `tuple` or `dict`, allow performing multi-indexing. Array broadcasting is controlled by \"broadcast_arrays\" parameter."
     ]
    },
    {
     "cell_type": "code",
     "collapsed": false,
     "input": [
      "v.take({'x0':['a','b'], 'x1':[10, 20]}) "
     ],
     "language": "python",
     "metadata": {},
     "outputs": [
      {
       "metadata": {},
       "output_type": "pyout",
       "prompt_number": 40,
       "text": [
        "dimarray: 2 non-null elements (0 null)\n",
        "dimensions: 'x0,x1'\n",
        "0 / x0,x1 (2): ('a', '10.0') to ('b', '20.0')\n",
        "array([ 1.,  4.])"
       ]
      }
     ],
     "prompt_number": 40
    },
    {
     "cell_type": "code",
     "collapsed": false,
     "input": [
      "v.take({'x0':['a','b'], 'x1':[10, 20]}, broadcast_arrays=False)  #  same as v.box[['a','b'],[10, 20]]"
     ],
     "language": "python",
     "metadata": {},
     "outputs": [
      {
       "metadata": {},
       "output_type": "pyout",
       "prompt_number": 41,
       "text": [
        "dimarray: 4 non-null elements (0 null)\n",
        "dimensions: 'x0', 'x1'\n",
        "0 / x0 (2): a to b\n",
        "1 / x1 (2): 10.0 to 20.0\n",
        "array([[ 1.,  2.],\n",
        "       [ 3.,  4.]])"
       ]
      }
     ],
     "prompt_number": 41
    },
    {
     "cell_type": "markdown",
     "metadata": {},
     "source": [
      "The 'indexing' parameter can be set to `position` (same as `ix`) instead of `values`"
     ]
    },
    {
     "cell_type": "code",
     "collapsed": false,
     "input": [
      "v.take(0, axis=1, indexing='position')"
     ],
     "language": "python",
     "metadata": {},
     "outputs": [
      {
       "metadata": {},
       "output_type": "pyout",
       "prompt_number": 42,
       "text": [
        "dimarray: 4 non-null elements (0 null)\n",
        "dimensions: 'x0'\n",
        "0 / x0 (4): a to d\n",
        "array([ 1.,  3.,  5.,  7.])"
       ]
      }
     ],
     "prompt_number": 42
    },
    {
     "cell_type": "markdown",
     "metadata": {},
     "source": [
      "Note the `put` command returns a copy by default (`inplace=` can be passed as True, though)."
     ]
    },
    {
     "cell_type": "code",
     "collapsed": false,
     "input": [
      "v.put(-99, indices=10, axis='x1')"
     ],
     "language": "python",
     "metadata": {},
     "outputs": [
      {
       "metadata": {},
       "output_type": "pyout",
       "prompt_number": 43,
       "text": [
        "dimarray: 8 non-null elements (0 null)\n",
        "dimensions: 'x0', 'x1'\n",
        "0 / x0 (4): a to d\n",
        "1 / x1 (2): 10.0 to 20.0\n",
        "array([[-99.,   2.],\n",
        "       [-99.,   4.],\n",
        "       [-99.,   6.],\n",
        "       [-99.,   8.]])"
       ]
      }
     ],
     "prompt_number": 43
    },
    {
     "cell_type": "heading",
     "level": 2,
     "metadata": {},
     "source": [
      "Numpy Transformations"
     ]
    },
    {
     "cell_type": "markdown",
     "metadata": {},
     "source": [
      "Most numpy transformations are built in. Let's create some random data to try it out:"
     ]
    },
    {
     "cell_type": "code",
     "collapsed": false,
     "input": [
      "np.random.seed(0)\n",
      "values = np.round(np.random.rand(4,3)*10)\n",
      "time = 'time', np.arange(1950,1954) \n",
      "lat = 'lat', np.linspace(-90,90,3)\n",
      "v = da.DimArray(values, axes=[time, lat])\n",
      "v"
     ],
     "language": "python",
     "metadata": {},
     "outputs": [
      {
       "metadata": {},
       "output_type": "pyout",
       "prompt_number": 19,
       "text": [
        "dimarray: 12 non-null elements (0 null)\n",
        "dimensions: 'time', 'lat'\n",
        "0 / time (4): 1950 to 1953\n",
        "1 / lat (3): -90.0 to 90.0\n",
        "array([[  5.,   7.,   6.],\n",
        "       [  5.,   4.,   6.],\n",
        "       [  4.,   9.,  10.],\n",
        "       [  4.,   8.,   5.]])"
       ]
      }
     ],
     "prompt_number": 19
    },
    {
     "cell_type": "markdown",
     "metadata": {},
     "source": [
      "In axis-reduction operations, not providing the axis results in the operation being applied to the flattened array, following numpy's rule:"
     ]
    },
    {
     "cell_type": "code",
     "collapsed": false,
     "input": [
      "v.sum() # sum over all axes"
     ],
     "language": "python",
     "metadata": {},
     "outputs": [
      {
       "metadata": {},
       "output_type": "pyout",
       "prompt_number": 35,
       "text": [
        "73.0"
       ]
      }
     ],
     "prompt_number": 35
    },
    {
     "cell_type": "markdown",
     "metadata": {},
     "source": [
      "To perform the operation along an axis, it must be indicated by an integer (axis rank) or - new in dimarray - by a string (axis name):"
     ]
    },
    {
     "cell_type": "code",
     "collapsed": false,
     "input": [
      "v.sum(axis=0) # sum over first axis\n",
      "v.sum(axis='time') # named axis"
     ],
     "language": "python",
     "metadata": {},
     "outputs": [
      {
       "metadata": {},
       "output_type": "pyout",
       "prompt_number": 37,
       "text": [
        "dimarray: 3 non-null elements (0 null)\n",
        "dimensions: 'lat'\n",
        "0 / lat (3): -90.0 to 90.0\n",
        "array([ 18.,  28.,  27.])"
       ]
      }
     ],
     "prompt_number": 37
    },
    {
     "cell_type": "markdown",
     "metadata": {},
     "source": [
      "All axis-reduction transformations, following numpy:"
     ]
    },
    {
     "cell_type": "code",
     "collapsed": false,
     "input": [
      "# sum, product\n",
      "v.sum()\n",
      "v.prod()\n",
      "\n",
      "# moments\n",
      "v.mean() \n",
      "v.var() \n",
      "v.std() \n",
      "\n",
      "# median, min, max, peak-to-peak\n",
      "v.median() \n",
      "v.min() \n",
      "v.max() \n",
      "v.ptp() \n",
      "\n",
      "# argmin, argmax: locate the minimum and maximum of an array\n",
      "v.argmin() \n",
      "v.argmax() \n",
      "\n",
      "# determine if all or any of the elements are True (or non-zero)\n",
      "v.all() \n",
      "v.any()"
     ],
     "language": "python",
     "metadata": {},
     "outputs": []
    },
    {
     "cell_type": "markdown",
     "metadata": {},
     "source": [
      "In `dimarray`, the `argmin` and `argmax` functions return axis value instead of axis position."
     ]
    },
    {
     "cell_type": "code",
     "collapsed": false,
     "input": [
      "v.argmin() "
     ],
     "language": "python",
     "metadata": {},
     "outputs": [
      {
       "metadata": {},
       "output_type": "pyout",
       "prompt_number": 21,
       "text": [
        "(1951, 0.0)"
       ]
      }
     ],
     "prompt_number": 21
    },
    {
     "cell_type": "markdown",
     "metadata": {},
     "source": [
      "...which is consistent with indexing on axis values:"
     ]
    },
    {
     "cell_type": "code",
     "collapsed": false,
     "input": [
      "v[v.argmin()], v.min() "
     ],
     "language": "python",
     "metadata": {},
     "outputs": [
      {
       "metadata": {},
       "output_type": "pyout",
       "prompt_number": 22,
       "text": [
        "(4.0, 4.0)"
       ]
      }
     ],
     "prompt_number": 22
    },
    {
     "cell_type": "markdown",
     "metadata": {},
     "source": [
      "The along axis version works similarly:"
     ]
    },
    {
     "cell_type": "code",
     "collapsed": false,
     "input": [
      "date_min = v.argmin(axis='time') \n",
      "date_min"
     ],
     "language": "python",
     "metadata": {},
     "outputs": [
      {
       "metadata": {},
       "output_type": "pyout",
       "prompt_number": 23,
       "text": [
        "dimarray: 3 non-null elements (0 null)\n",
        "dimensions: 'lat'\n",
        "0 / lat (3): -90.0 to 90.0\n",
        "array([1952, 1951, 1953])"
       ]
      }
     ],
     "prompt_number": 23
    },
    {
     "cell_type": "code",
     "collapsed": false,
     "input": [
      "v[date_min, v.lat]  # this makes use of array-broadcasting when indexing with two arrays"
     ],
     "language": "python",
     "metadata": {},
     "outputs": [
      {
       "metadata": {},
       "output_type": "pyout",
       "prompt_number": 24,
       "text": [
        "dimarray: 3 non-null elements (0 null)\n",
        "dimensions: 'time,lat'\n",
        "0 / time,lat (3): (1952.0, -90.0) to (1953.0, 90.0)\n",
        "array([ 4.,  4.,  5.])"
       ]
      }
     ],
     "prompt_number": 24
    },
    {
     "cell_type": "markdown",
     "metadata": {},
     "source": [
      "Operations that accumulate along an axis are also implemented, by default along the last axis, consistently with numpy. Let's use a simpler 1-D example here."
     ]
    },
    {
     "cell_type": "code",
     "collapsed": false,
     "input": [
      "v = da.DimArray(np.arange(1,5), time, dtype=float)\n",
      "v"
     ],
     "language": "python",
     "metadata": {},
     "outputs": [
      {
       "metadata": {},
       "output_type": "pyout",
       "prompt_number": 54,
       "text": [
        "dimarray: 4 non-null elements (0 null)\n",
        "dimensions: 'time'\n",
        "0 / time (4): 1950 to 1953\n",
        "array([ 1.,  2.,  3.,  4.])"
       ]
      }
     ],
     "prompt_number": 54
    },
    {
     "cell_type": "code",
     "collapsed": false,
     "input": [
      "v.cumprod()\n",
      "v.cumsum()"
     ],
     "language": "python",
     "metadata": {},
     "outputs": [
      {
       "metadata": {},
       "output_type": "pyout",
       "prompt_number": 55,
       "text": [
        "dimarray: 4 non-null elements (0 null)\n",
        "dimensions: 'time'\n",
        "0 / time (4): 1950 to 1953\n",
        "array([  1.,   3.,   6.,  10.])"
       ]
      }
     ],
     "prompt_number": 55
    },
    {
     "cell_type": "markdown",
     "metadata": {},
     "source": [
      "A new `diff` method comes with `dimarray`, which reduces axis size by one, by default (and by default `diff` operates along the last axis, like `cumsum`)."
     ]
    },
    {
     "cell_type": "code",
     "collapsed": false,
     "input": [
      "s = v.cumsum()"
     ],
     "language": "python",
     "metadata": {},
     "outputs": [],
     "prompt_number": 84
    },
    {
     "cell_type": "code",
     "collapsed": false,
     "input": [
      "s.diff()"
     ],
     "language": "python",
     "metadata": {},
     "outputs": [
      {
       "metadata": {},
       "output_type": "pyout",
       "prompt_number": 85,
       "text": [
        "dimarray: 3 non-null elements (0 null)\n",
        "dimensions: 'time'\n",
        "0 / time (3): 1951 to 1953\n",
        "array([ 2.,  3.,  4.])"
       ]
      }
     ],
     "prompt_number": 85
    },
    {
     "cell_type": "markdown",
     "metadata": {},
     "source": [
      "The `keepaxis=` parameter fills array with `nan` where necessary to keep the axis unchanged. Default is backward differencing: `diff[i] = v[i] - v[i-1]`."
     ]
    },
    {
     "cell_type": "code",
     "collapsed": false,
     "input": [
      "s.diff(keepaxis=True)"
     ],
     "language": "python",
     "metadata": {},
     "outputs": [
      {
       "metadata": {},
       "output_type": "pyout",
       "prompt_number": 86,
       "text": [
        "dimarray: 3 non-null elements (1 null)\n",
        "dimensions: 'time'\n",
        "0 / time (4): 1950 to 1953\n",
        "array([ nan,   2.,   3.,   4.])"
       ]
      }
     ],
     "prompt_number": 86
    },
    {
     "cell_type": "markdown",
     "metadata": {},
     "source": [
      "But other schemes are available to control how the new axis is defined: `backward` (default), `forward` and even `centered`"
     ]
    },
    {
     "cell_type": "code",
     "collapsed": false,
     "input": [
      "s.diff(keepaxis=True, scheme=\"forward\") # diff[i] = v[i+1] - v[i]"
     ],
     "language": "python",
     "metadata": {},
     "outputs": [
      {
       "metadata": {},
       "output_type": "pyout",
       "prompt_number": 87,
       "text": [
        "dimarray: 3 non-null elements (1 null)\n",
        "dimensions: 'time'\n",
        "0 / time (4): 1950 to 1953\n",
        "array([  2.,   3.,   4.,  nan])"
       ]
      }
     ],
     "prompt_number": 87
    },
    {
     "cell_type": "markdown",
     "metadata": {},
     "source": [
      "The `keepaxis=True` option is invalid with the `centered` scheme, since every axis value is modified by definition:"
     ]
    },
    {
     "cell_type": "code",
     "collapsed": false,
     "input": [
      "s.diff(axis='time', scheme='centered')"
     ],
     "language": "python",
     "metadata": {},
     "outputs": [
      {
       "metadata": {},
       "output_type": "pyout",
       "prompt_number": 88,
       "text": [
        "dimarray: 3 non-null elements (0 null)\n",
        "dimensions: 'time'\n",
        "0 / time (3): 1950.5 to 1952.5\n",
        "array([ 2.,  3.,  4.])"
       ]
      }
     ],
     "prompt_number": 88
    },
    {
     "cell_type": "heading",
     "level": 2,
     "metadata": {},
     "source": [
      "Missing values"
     ]
    },
    {
     "cell_type": "markdown",
     "metadata": {},
     "source": [
      "`dimarray` treats `nan` as missing values, which can be skipped in transformations by passing skipna=True. Note that `nan` is has a `float` type so it cannot be assigned to an integer array."
     ]
    },
    {
     "cell_type": "code",
     "collapsed": false,
     "input": [
      "a = da.DimArray([[1,2,3],[4,5,6]], dtype=float)\n",
      "a[1,2] = np.nan\n",
      "a"
     ],
     "language": "python",
     "metadata": {},
     "outputs": [
      {
       "metadata": {},
       "output_type": "pyout",
       "prompt_number": 73,
       "text": [
        "dimarray: 5 non-null elements (1 null)\n",
        "dimensions: 'x0', 'x1'\n",
        "0 / x0 (2): 0 to 1\n",
        "1 / x1 (3): 0 to 2\n",
        "array([[  1.,   2.,   3.],\n",
        "       [  4.,   5.,  nan]])"
       ]
      }
     ],
     "prompt_number": 73
    },
    {
     "cell_type": "code",
     "collapsed": false,
     "input": [
      "a.mean(axis=0)"
     ],
     "language": "python",
     "metadata": {},
     "outputs": [
      {
       "metadata": {},
       "output_type": "pyout",
       "prompt_number": 68,
       "text": [
        "dimarray: 2 non-null elements (1 null)\n",
        "dimensions: 'x1'\n",
        "0 / x1 (3): 0 to 2\n",
        "array([ 2.5,  3.5,  nan])"
       ]
      }
     ],
     "prompt_number": 68
    },
    {
     "cell_type": "code",
     "collapsed": false,
     "input": [
      "a.mean(axis=0, skipna=True)"
     ],
     "language": "python",
     "metadata": {},
     "outputs": [
      {
       "metadata": {},
       "output_type": "pyout",
       "prompt_number": 69,
       "text": [
        "dimarray: 3 non-null elements (0 null)\n",
        "dimensions: 'x1'\n",
        "0 / x1 (3): 0 to 2\n",
        "array([ 2.5,  3.5,  3. ])"
       ]
      }
     ],
     "prompt_number": 69
    },
    {
     "cell_type": "markdown",
     "metadata": {},
     "source": [
      "A few other methods exist but are experimental. They are mere aliases for classical `a[np.isnan[a]] = value` syntax, but automatically coerce integer type to float, and perform a copy by default. This could also be useful in the future to define a missing value flag other than `nan`, for example when working with integer array."
     ]
    },
    {
     "cell_type": "code",
     "collapsed": false,
     "input": [
      "a.fillna(99)"
     ],
     "language": "python",
     "metadata": {},
     "outputs": [
      {
       "metadata": {},
       "output_type": "pyout",
       "prompt_number": 82,
       "text": [
        "dimarray: 6 non-null elements (0 null)\n",
        "dimensions: 'x0', 'x1'\n",
        "0 / x0 (2): 0 to 1\n",
        "1 / x1 (3): 0 to 2\n",
        "array([[  1.,   2.,   3.],\n",
        "       [  4.,   5.,  99.]])"
       ]
      }
     ],
     "prompt_number": 82
    },
    {
     "cell_type": "markdown",
     "metadata": {},
     "source": [
      "`setna` can also be provided with a list of values and mask to set to nan:"
     ]
    },
    {
     "cell_type": "code",
     "collapsed": false,
     "input": [
      "a.setna([2, a>=5])"
     ],
     "language": "python",
     "metadata": {},
     "outputs": [
      {
       "metadata": {},
       "output_type": "pyout",
       "prompt_number": 83,
       "text": [
        "dimarray: 3 non-null elements (3 null)\n",
        "dimensions: 'x0', 'x1'\n",
        "0 / x0 (2): 0 to 1\n",
        "1 / x1 (3): 0 to 2\n",
        "array([[  1.,  nan,   3.],\n",
        "       [  4.,  nan,  nan]])"
       ]
      }
     ],
     "prompt_number": 83
    },
    {
     "cell_type": "heading",
     "level": 2,
     "metadata": {},
     "source": [
      "Modify array shape"
     ]
    },
    {
     "cell_type": "markdown",
     "metadata": {},
     "source": [
      "Basic numpy methods to modify array dimensions are implemented in dimarray, with some additional functionality allowed by named dimensions."
     ]
    },
    {
     "cell_type": "heading",
     "level": 3,
     "metadata": {},
     "source": [
      "transpose"
     ]
    },
    {
     "cell_type": "markdown",
     "metadata": {},
     "source": [
      "Transpose, just like its numpy equivalent, permutes dimensions, but in dimarray it can be provided with axis names instead of just axis position."
     ]
    },
    {
     "cell_type": "code",
     "collapsed": false,
     "input": [
      "a = DimArray([[1,2,3],[3,4,5]],dims=('x0','x1'))\n",
      "a.transpose()\n",
      "a.T"
     ],
     "language": "python",
     "metadata": {},
     "outputs": [
      {
       "metadata": {},
       "output_type": "pyout",
       "prompt_number": 52,
       "text": [
        "dimarray: 6 non-null elements (0 null)\n",
        "dimensions: 'x1', 'x0'\n",
        "0 / x1 (3): 0 to 2\n",
        "1 / x0 (2): 0 to 1\n",
        "array([[1, 3],\n",
        "       [2, 4],\n",
        "       [3, 5]])"
       ]
      }
     ],
     "prompt_number": 52
    },
    {
     "cell_type": "code",
     "collapsed": false,
     "input": [
      "a = DimArray([[[1,2,3],[3,4,5]]],dims=('x2','x0','x1'))\n",
      "a.transpose('x1','x2','x0')"
     ],
     "language": "python",
     "metadata": {},
     "outputs": [
      {
       "metadata": {},
       "output_type": "pyout",
       "prompt_number": 53,
       "text": [
        "dimarray: 6 non-null elements (0 null)\n",
        "dimensions: 'x1', 'x2', 'x0'\n",
        "0 / x1 (3): 0 to 2\n",
        "1 / x2 (1): 0 to 0\n",
        "2 / x0 (2): 0 to 1\n",
        "array([[[1, 3]],\n",
        "\n",
        "       [[2, 4]],\n",
        "\n",
        "       [[3, 5]]])"
       ]
      }
     ],
     "prompt_number": 53
    },
    {
     "cell_type": "heading",
     "level": 3,
     "metadata": {},
     "source": [
      "newaxis"
     ]
    },
    {
     "cell_type": "markdown",
     "metadata": {},
     "source": [
      "Numpy provides a np.newaxis constant (equal to None), to augment the array dimensions with new singleton axes. In dimarray, newaxis has been implemented as an array method, which requires to indicate axis name and optionally axis position (`pos=`). Under the `repeat` section, you'll see it is also possible to input the values of the new axis in order to repeast the array along it."
     ]
    },
    {
     "cell_type": "code",
     "collapsed": false,
     "input": [
      "a = DimArray([1,2])\n",
      "a.newaxis('new', pos=1)  # singleton"
     ],
     "language": "python",
     "metadata": {},
     "outputs": [
      {
       "metadata": {},
       "output_type": "pyout",
       "prompt_number": 54,
       "text": [
        "dimarray: 2 non-null elements (0 null)\n",
        "dimensions: 'x0', 'new'\n",
        "0 / x0 (2): 0 to 1\n",
        "1 / new (1): None to None\n",
        "array([[1],\n",
        "       [2]])"
       ]
      }
     ],
     "prompt_number": 54
    },
    {
     "cell_type": "heading",
     "level": 3,
     "metadata": {},
     "source": [
      "reshape"
     ]
    },
    {
     "cell_type": "markdown",
     "metadata": {},
     "source": [
      "reshape merely add or remove singleton dimensions in the right order (and transpose if needed)"
     ]
    },
    {
     "cell_type": "code",
     "collapsed": false,
     "input": [
      "a = da.array_kw(np.arange(2), lon=[30., 40.])\n",
      "b = a.reshape(('time','lon'))\n",
      "b"
     ],
     "language": "python",
     "metadata": {},
     "outputs": [
      {
       "metadata": {},
       "output_type": "pyout",
       "prompt_number": 55,
       "text": [
        "dimarray: 2 non-null elements (0 null)\n",
        "dimensions: 'time', 'lon'\n",
        "0 / time (1): None to None\n",
        "1 / lon (2): 30.0 to 40.0\n",
        "array([[0, 1]])"
       ]
      }
     ],
     "prompt_number": 55
    },
    {
     "cell_type": "heading",
     "level": 3,
     "metadata": {},
     "source": [
      "group and ungroup [Experimental]"
     ]
    },
    {
     "cell_type": "markdown",
     "metadata": {},
     "source": [
      "As a new, experimental feature, it is possible to flatten (group) or any subset of dimensions. "
     ]
    },
    {
     "cell_type": "code",
     "collapsed": false,
     "input": [
      "import dimarray as da\n",
      "import numpy as np\n",
      "v = da.array_kw(np.arange(2*3*4).reshape(2,3,4), time=[1950,1955], lat=np.linspace(-90,90,3), lon=np.linspace(-180,180,4))\n",
      "v"
     ],
     "language": "python",
     "metadata": {},
     "outputs": [
      {
       "metadata": {},
       "output_type": "pyout",
       "prompt_number": 3,
       "text": [
        "dimarray: 24 non-null elements (0 null)\n",
        "dimensions: 'time', 'lat', 'lon'\n",
        "0 / time (2): 1950 to 1955\n",
        "1 / lat (3): -90.0 to 90.0\n",
        "2 / lon (4): -180.0 to 180.0\n",
        "array([[[ 0,  1,  2,  3],\n",
        "        [ 4,  5,  6,  7],\n",
        "        [ 8,  9, 10, 11]],\n",
        "\n",
        "       [[12, 13, 14, 15],\n",
        "        [16, 17, 18, 19],\n",
        "        [20, 21, 22, 23]]])"
       ]
      }
     ],
     "prompt_number": 3
    },
    {
     "cell_type": "markdown",
     "metadata": {},
     "source": [
      "Flatten a set of dimensions:"
     ]
    },
    {
     "cell_type": "code",
     "collapsed": false,
     "input": [
      "w = v.group(('lat','lon'), insert=1)\n",
      "w = v.group(('lon','lat'), insert=1)\n",
      "w"
     ],
     "language": "python",
     "metadata": {},
     "outputs": [
      {
       "metadata": {},
       "output_type": "pyout",
       "prompt_number": 10,
       "text": [
        "dimarray: 24 non-null elements (0 null)\n",
        "dimensions: 'time', 'lon,lat'\n",
        "0 / time (2): 1950 to 1955\n",
        "1 / lon,lat (12): (-180.0, -90.0) to (180.0, 90.0)\n",
        "array([[ 0,  4,  8,  1,  5,  9,  2,  6, 10,  3,  7, 11],\n",
        "       [12, 16, 20, 13, 17, 21, 14, 18, 22, 15, 19, 23]])"
       ]
      }
     ],
     "prompt_number": 10
    },
    {
     "cell_type": "markdown",
     "metadata": {},
     "source": [
      "Ungroup: get back to previous full n-d array"
     ]
    },
    {
     "cell_type": "code",
     "collapsed": false,
     "input": [
      "w.ungroup()"
     ],
     "language": "python",
     "metadata": {},
     "outputs": [
      {
       "metadata": {},
       "output_type": "pyout",
       "prompt_number": 7,
       "text": [
        "dimarray: 24 non-null elements (0 null)\n",
        "dimensions: 'time', 'lat', 'lon'\n",
        "0 / time (2): 1950 to 1955\n",
        "1 / lat (3): -90.0 to 90.0\n",
        "2 / lon (4): -180.0 to 180.0\n",
        "array([[[ 0,  1,  2,  3],\n",
        "        [ 4,  5,  6,  7],\n",
        "        [ 8,  9, 10, 11]],\n",
        "\n",
        "       [[12, 13, 14, 15],\n",
        "        [16, 17, 18, 19],\n",
        "        [20, 21, 22, 23]]])"
       ]
      }
     ],
     "prompt_number": 7
    },
    {
     "cell_type": "markdown",
     "metadata": {},
     "source": [
      "This is useful for example to average only over a set of axes:"
     ]
    },
    {
     "cell_type": "code",
     "collapsed": false,
     "input": [
      "v.mean(axis=('time','lat'))"
     ],
     "language": "python",
     "metadata": {},
     "outputs": [
      {
       "metadata": {},
       "output_type": "pyout",
       "prompt_number": 15,
       "text": [
        "dimarray: 2 non-null elements (0 null)\n",
        "dimensions: 'items'\n",
        "0 / items (2): greenland to antarctica\n",
        "array([-0.06849458,  0.04075616])"
       ]
      }
     ],
     "prompt_number": 15
    },
    {
     "cell_type": "markdown",
     "metadata": {},
     "source": [
      "Or to convert high-dimensional DimArray into a pandas' DataFrame, say for displaying a result of a sensitivity analysis:"
     ]
    },
    {
     "cell_type": "code",
     "collapsed": false,
     "input": [
      "large_array = da.array(np.arange(2*3*4*5).reshape(2,3,4,5), dims=('a','b','c','d'))\n",
      "large_array.reshape('a,b','c,d').to_pandas()"
     ],
     "language": "python",
     "metadata": {},
     "outputs": [
      {
       "html": [
        "<div style=\"max-height:1000px;max-width:1500px;overflow:auto;\">\n",
        "<table border=\"1\" class=\"dataframe\">\n",
        "  <thead>\n",
        "    <tr>\n",
        "      <th></th>\n",
        "      <th>c</th>\n",
        "      <th colspan=\"5\" halign=\"left\">0</th>\n",
        "      <th colspan=\"5\" halign=\"left\">1</th>\n",
        "      <th colspan=\"5\" halign=\"left\">2</th>\n",
        "      <th colspan=\"5\" halign=\"left\">3</th>\n",
        "    </tr>\n",
        "    <tr>\n",
        "      <th></th>\n",
        "      <th>d</th>\n",
        "      <th>0</th>\n",
        "      <th>1</th>\n",
        "      <th>2</th>\n",
        "      <th>3</th>\n",
        "      <th>4</th>\n",
        "      <th>0</th>\n",
        "      <th>1</th>\n",
        "      <th>2</th>\n",
        "      <th>3</th>\n",
        "      <th>4</th>\n",
        "      <th>0</th>\n",
        "      <th>1</th>\n",
        "      <th>2</th>\n",
        "      <th>3</th>\n",
        "      <th>4</th>\n",
        "      <th>0</th>\n",
        "      <th>1</th>\n",
        "      <th>2</th>\n",
        "      <th>3</th>\n",
        "      <th>4</th>\n",
        "    </tr>\n",
        "    <tr>\n",
        "      <th>a</th>\n",
        "      <th>b</th>\n",
        "      <th></th>\n",
        "      <th></th>\n",
        "      <th></th>\n",
        "      <th></th>\n",
        "      <th></th>\n",
        "      <th></th>\n",
        "      <th></th>\n",
        "      <th></th>\n",
        "      <th></th>\n",
        "      <th></th>\n",
        "      <th></th>\n",
        "      <th></th>\n",
        "      <th></th>\n",
        "      <th></th>\n",
        "      <th></th>\n",
        "      <th></th>\n",
        "      <th></th>\n",
        "      <th></th>\n",
        "      <th></th>\n",
        "      <th></th>\n",
        "    </tr>\n",
        "  </thead>\n",
        "  <tbody>\n",
        "    <tr>\n",
        "      <th rowspan=\"3\" valign=\"top\">0</th>\n",
        "      <th>0</th>\n",
        "      <td>   0</td>\n",
        "      <td>   1</td>\n",
        "      <td>   2</td>\n",
        "      <td>   3</td>\n",
        "      <td>   4</td>\n",
        "      <td>   5</td>\n",
        "      <td>   6</td>\n",
        "      <td>   7</td>\n",
        "      <td>   8</td>\n",
        "      <td>   9</td>\n",
        "      <td>  10</td>\n",
        "      <td>  11</td>\n",
        "      <td>  12</td>\n",
        "      <td>  13</td>\n",
        "      <td>  14</td>\n",
        "      <td>  15</td>\n",
        "      <td>  16</td>\n",
        "      <td>  17</td>\n",
        "      <td>  18</td>\n",
        "      <td>  19</td>\n",
        "    </tr>\n",
        "    <tr>\n",
        "      <th>1</th>\n",
        "      <td>  20</td>\n",
        "      <td>  21</td>\n",
        "      <td>  22</td>\n",
        "      <td>  23</td>\n",
        "      <td>  24</td>\n",
        "      <td>  25</td>\n",
        "      <td>  26</td>\n",
        "      <td>  27</td>\n",
        "      <td>  28</td>\n",
        "      <td>  29</td>\n",
        "      <td>  30</td>\n",
        "      <td>  31</td>\n",
        "      <td>  32</td>\n",
        "      <td>  33</td>\n",
        "      <td>  34</td>\n",
        "      <td>  35</td>\n",
        "      <td>  36</td>\n",
        "      <td>  37</td>\n",
        "      <td>  38</td>\n",
        "      <td>  39</td>\n",
        "    </tr>\n",
        "    <tr>\n",
        "      <th>2</th>\n",
        "      <td>  40</td>\n",
        "      <td>  41</td>\n",
        "      <td>  42</td>\n",
        "      <td>  43</td>\n",
        "      <td>  44</td>\n",
        "      <td>  45</td>\n",
        "      <td>  46</td>\n",
        "      <td>  47</td>\n",
        "      <td>  48</td>\n",
        "      <td>  49</td>\n",
        "      <td>  50</td>\n",
        "      <td>  51</td>\n",
        "      <td>  52</td>\n",
        "      <td>  53</td>\n",
        "      <td>  54</td>\n",
        "      <td>  55</td>\n",
        "      <td>  56</td>\n",
        "      <td>  57</td>\n",
        "      <td>  58</td>\n",
        "      <td>  59</td>\n",
        "    </tr>\n",
        "    <tr>\n",
        "      <th rowspan=\"3\" valign=\"top\">1</th>\n",
        "      <th>0</th>\n",
        "      <td>  60</td>\n",
        "      <td>  61</td>\n",
        "      <td>  62</td>\n",
        "      <td>  63</td>\n",
        "      <td>  64</td>\n",
        "      <td>  65</td>\n",
        "      <td>  66</td>\n",
        "      <td>  67</td>\n",
        "      <td>  68</td>\n",
        "      <td>  69</td>\n",
        "      <td>  70</td>\n",
        "      <td>  71</td>\n",
        "      <td>  72</td>\n",
        "      <td>  73</td>\n",
        "      <td>  74</td>\n",
        "      <td>  75</td>\n",
        "      <td>  76</td>\n",
        "      <td>  77</td>\n",
        "      <td>  78</td>\n",
        "      <td>  79</td>\n",
        "    </tr>\n",
        "    <tr>\n",
        "      <th>1</th>\n",
        "      <td>  80</td>\n",
        "      <td>  81</td>\n",
        "      <td>  82</td>\n",
        "      <td>  83</td>\n",
        "      <td>  84</td>\n",
        "      <td>  85</td>\n",
        "      <td>  86</td>\n",
        "      <td>  87</td>\n",
        "      <td>  88</td>\n",
        "      <td>  89</td>\n",
        "      <td>  90</td>\n",
        "      <td>  91</td>\n",
        "      <td>  92</td>\n",
        "      <td>  93</td>\n",
        "      <td>  94</td>\n",
        "      <td>  95</td>\n",
        "      <td>  96</td>\n",
        "      <td>  97</td>\n",
        "      <td>  98</td>\n",
        "      <td>  99</td>\n",
        "    </tr>\n",
        "    <tr>\n",
        "      <th>2</th>\n",
        "      <td> 100</td>\n",
        "      <td> 101</td>\n",
        "      <td> 102</td>\n",
        "      <td> 103</td>\n",
        "      <td> 104</td>\n",
        "      <td> 105</td>\n",
        "      <td> 106</td>\n",
        "      <td> 107</td>\n",
        "      <td> 108</td>\n",
        "      <td> 109</td>\n",
        "      <td> 110</td>\n",
        "      <td> 111</td>\n",
        "      <td> 112</td>\n",
        "      <td> 113</td>\n",
        "      <td> 114</td>\n",
        "      <td> 115</td>\n",
        "      <td> 116</td>\n",
        "      <td> 117</td>\n",
        "      <td> 118</td>\n",
        "      <td> 119</td>\n",
        "    </tr>\n",
        "  </tbody>\n",
        "</table>\n",
        "</div>"
       ],
       "metadata": {},
       "output_type": "pyout",
       "prompt_number": 20,
       "text": [
        "c      0                        1                        2                        3                    \n",
        "d      0    1    2    3    4    0    1    2    3    4    0    1    2    3    4    0    1    2    3    4\n",
        "a b                                                                                                    \n",
        "0 0    0    1    2    3    4    5    6    7    8    9   10   11   12   13   14   15   16   17   18   19\n",
        "  1   20   21   22   23   24   25   26   27   28   29   30   31   32   33   34   35   36   37   38   39\n",
        "  2   40   41   42   43   44   45   46   47   48   49   50   51   52   53   54   55   56   57   58   59\n",
        "1 0   60   61   62   63   64   65   66   67   68   69   70   71   72   73   74   75   76   77   78   79\n",
        "  1   80   81   82   83   84   85   86   87   88   89   90   91   92   93   94   95   96   97   98   99\n",
        "  2  100  101  102  103  104  105  106  107  108  109  110  111  112  113  114  115  116  117  118  119"
       ]
      }
     ],
     "prompt_number": 20
    },
    {
     "cell_type": "heading",
     "level": 2,
     "metadata": {},
     "source": [
      "Repeat and broadcast: align dimensions"
     ]
    },
    {
     "cell_type": "heading",
     "level": 3,
     "metadata": {},
     "source": [
      "repeat"
     ]
    },
    {
     "cell_type": "code",
     "collapsed": false,
     "input": [
      "### Single axis:\n",
      "b.repeat(np.arange(1950,1955), axis=\"time\")  # doctest: +ELLIPSIS"
     ],
     "language": "python",
     "metadata": {},
     "outputs": [
      {
       "metadata": {},
       "output_type": "pyout",
       "prompt_number": 61,
       "text": [
        "dimarray: 10 non-null elements (0 null)\n",
        "dimensions: 'time', 'lon'\n",
        "0 / time (5): 1950 to 1954\n",
        "1 / lon (2): 30.0 to 40.0\n",
        "array([[0, 1],\n",
        "       [0, 1],\n",
        "       [0, 1],\n",
        "       [0, 1],\n",
        "       [0, 1]])"
       ]
      }
     ],
     "prompt_number": 61
    },
    {
     "cell_type": "code",
     "collapsed": false,
     "input": [
      "### Multi-axis\n",
      "# ...create some dummy data:\n",
      "lon = np.linspace(10, 30, 2)\n",
      "lat = np.linspace(10, 50, 3)\n",
      "time = np.arange(1950,1955)\n",
      "ts = da.array_kw(np.arange(5), time=time)\n",
      "cube = da.array_kw(np.zeros((3,2,5)), lon=lon, lat=lat, time=time)  # lat x lon x time\n",
      "cube.axes  # doctest: +ELLIPSIS"
     ],
     "language": "python",
     "metadata": {},
     "outputs": [
      {
       "metadata": {},
       "output_type": "pyout",
       "prompt_number": 62,
       "text": [
        "dimensions: 'lat', 'lon', 'time'\n",
        "0 / lat (3): 10.0 to 50.0\n",
        "1 / lon (2): 10.0 to 30.0\n",
        "2 / time (5): 1950 to 1954"
       ]
      }
     ],
     "prompt_number": 62
    },
    {
     "cell_type": "code",
     "collapsed": false,
     "input": [
      "### In combination with repeat\n",
      "a.newaxis('new', values=['a','b'],pos=1) # repeat 2 times along the first axis"
     ],
     "language": "python",
     "metadata": {},
     "outputs": [
      {
       "metadata": {},
       "output_type": "pyout",
       "prompt_number": 63,
       "text": [
        "dimarray: 4 non-null elements (0 null)\n",
        "dimensions: 'lon', 'new'\n",
        "0 / lon (2): 30.0 to 40.0\n",
        "1 / new (2): a to b\n",
        "array([[0, 0],\n",
        "       [1, 1]])"
       ]
      }
     ],
     "prompt_number": 63
    },
    {
     "cell_type": "heading",
     "level": 3,
     "metadata": {},
     "source": [
      "broadcast"
     ]
    },
    {
     "cell_type": "code",
     "collapsed": false,
     "input": [
      "# broadcast along new axes (reshape + repeat array)\n",
      ">>> ts3D = ts.broadcast(cube) #  lat x lon x time\n",
      "ts3D"
     ],
     "language": "python",
     "metadata": {},
     "outputs": [
      {
       "metadata": {},
       "output_type": "pyout",
       "prompt_number": 64,
       "text": [
        "dimarray: 30 non-null elements (0 null)\n",
        "dimensions: 'lat', 'lon', 'time'\n",
        "0 / lat (3): 10.0 to 50.0\n",
        "1 / lon (2): 10.0 to 30.0\n",
        "2 / time (5): 1950 to 1954\n",
        "array([[[0, 1, 2, 3, 4],\n",
        "        [0, 1, 2, 3, 4]],\n",
        "\n",
        "       [[0, 1, 2, 3, 4],\n",
        "        [0, 1, 2, 3, 4]],\n",
        "\n",
        "       [[0, 1, 2, 3, 4],\n",
        "        [0, 1, 2, 3, 4]]])"
       ]
      }
     ],
     "prompt_number": 64
    },
    {
     "cell_type": "heading",
     "level": 3,
     "metadata": {},
     "source": [
      "broadcast_arrays"
     ]
    },
    {
     "cell_type": "markdown",
     "metadata": {},
     "source": [
      "It is also possible to proceed to broadcasting or axis alignment on a sequence of arrays:"
     ]
    },
    {
     "cell_type": "code",
     "collapsed": false,
     "input": [
      "# align dimensions\n",
      "x = da.DimArray(np.arange(2), dims=('x0',))\n",
      "y = da.DimArray(np.arange(3), dims=('x1',))\n",
      "da.broadcast_arrays(x, y)"
     ],
     "language": "python",
     "metadata": {},
     "outputs": [
      {
       "metadata": {},
       "output_type": "pyout",
       "prompt_number": 65,
       "text": [
        "[dimarray: 6 non-null elements (0 null)\n",
        "dimensions: 'x0', 'x1'\n",
        "0 / x0 (2): 0 to 1\n",
        "1 / x1 (3): 0 to 2\n",
        "array([[0, 0, 0],\n",
        "       [1, 1, 1]]),\n",
        " dimarray: 6 non-null elements (0 null)\n",
        "dimensions: 'x0', 'x1'\n",
        "0 / x0 (2): 0 to 1\n",
        "1 / x1 (3): 0 to 2\n",
        "array([[0, 1, 2],\n",
        "       [0, 1, 2]])]"
       ]
      }
     ],
     "prompt_number": 65
    },
    {
     "cell_type": "heading",
     "level": 2,
     "metadata": {},
     "source": [
      "Reindexing: align axes"
     ]
    },
    {
     "cell_type": "markdown",
     "metadata": {},
     "source": [
      "Reindexing is the action of shrinking or extending an array to match a new index, in some ways similar to interpolation, except that by default, the new index has to be present, or it is filled with NaN. Actual interpolation is performed by passing `method=\"nearest\"` or `method=\"interp\"` parameter."
     ]
    },
    {
     "cell_type": "heading",
     "level": 3,
     "metadata": {},
     "source": [
      "reindex_axis"
     ]
    },
    {
     "cell_type": "code",
     "collapsed": false,
     "input": [
      "a = da.DimArray([3,4],[('x0',[1,3])])\n",
      "a.reindex_axis([1,2,3])"
     ],
     "language": "python",
     "metadata": {},
     "outputs": [
      {
       "metadata": {},
       "output_type": "pyout",
       "prompt_number": 66,
       "text": [
        "dimarray: 2 non-null elements (1 null)\n",
        "dimensions: 'x0'\n",
        "0 / x0 (3): 1 to 3\n",
        "array([  3.,  nan,   4.])"
       ]
      }
     ],
     "prompt_number": 66
    },
    {
     "cell_type": "markdown",
     "metadata": {},
     "source": [
      "Also works with string indices"
     ]
    },
    {
     "cell_type": "code",
     "collapsed": false,
     "input": [
      "b = da.DimArray([1,2,3],[('x0', ['a','b','c'])])\n",
      "b.reindex_axis(['b','d'])"
     ],
     "language": "python",
     "metadata": {},
     "outputs": [
      {
       "metadata": {},
       "output_type": "pyout",
       "prompt_number": 67,
       "text": [
        "dimarray: 1 non-null elements (1 null)\n",
        "dimensions: 'x0'\n",
        "0 / x0 (2): b to d\n",
        "array([  2.,  nan])"
       ]
      }
     ],
     "prompt_number": 67
    },
    {
     "cell_type": "heading",
     "level": 3,
     "metadata": {},
     "source": [
      "reindex_like"
     ]
    },
    {
     "cell_type": "markdown",
     "metadata": {},
     "source": [
      "Same as reindex_axis, except that the new axes are searched for in another array."
     ]
    },
    {
     "cell_type": "code",
     "collapsed": false,
     "input": [
      "c = da.DimArray([[1,2,3], [4,5,6]],[('x0',[\"a\",\"b\"]),('x1',[1, 2, 3])])\n",
      "c.reindex_like(b)"
     ],
     "language": "python",
     "metadata": {},
     "outputs": [
      {
       "metadata": {},
       "output_type": "pyout",
       "prompt_number": 68,
       "text": [
        "dimarray: 6 non-null elements (3 null)\n",
        "dimensions: 'x0', 'x1'\n",
        "0 / x0 (3): a to c\n",
        "1 / x1 (3): 1 to 3\n",
        "array([[  1.,   2.,   3.],\n",
        "       [  4.,   5.,   6.],\n",
        "       [ nan,  nan,  nan]])"
       ]
      }
     ],
     "prompt_number": 68
    },
    {
     "cell_type": "heading",
     "level": 3,
     "metadata": {},
     "source": [
      "Interpolation"
     ]
    },
    {
     "cell_type": "markdown",
     "metadata": {},
     "source": [
      "The `method=` parameter can be passed to `reindex_axis` and `reindex_like` with values \"nearest\" and \"interp\" to proceed to nearest and linear interpolation."
     ]
    },
    {
     "cell_type": "code",
     "collapsed": false,
     "input": [
      "# Can also reindex in \"interp\" mode\n",
      "a.reindex_axis([0,1,2,3], method='interp')\n",
      "#c.reindex_like(b, method='interp')"
     ],
     "language": "python",
     "metadata": {},
     "outputs": [
      {
       "metadata": {},
       "output_type": "pyout",
       "prompt_number": 69,
       "text": [
        "dimarray: 3 non-null elements (1 null)\n",
        "dimensions: 'x0'\n",
        "0 / x0 (4): 0 to 3\n",
        "array([ nan,  3. ,  3.5,  4. ])"
       ]
      }
     ],
     "prompt_number": 69
    },
    {
     "cell_type": "code",
     "collapsed": false,
     "input": [
      "import numpy as np\n",
      "import dimarray as da\n",
      "time=np.linspace(1950,1955,8)\n",
      "v = da.array_kw(np.cos(time), time=time)\n",
      "#w1 = da.interp1d(v, np.linspace(1948,1957,10), axis='time')\n",
      "w = da.reindex_axis(v, np.linspace(1948,1957,10), axis='time', method='interp')\n",
      "x = v.reindex_axis(np.linspace(1948,1957,10), axis='time', method='nearest')"
     ],
     "language": "python",
     "metadata": {},
     "outputs": [],
     "prompt_number": 70
    },
    {
     "cell_type": "code",
     "collapsed": false,
     "input": [
      "import matplotlib.pyplot as plt\n",
      "%matplotlib inline\n",
      "plt.clf()\n",
      "plt.plot(v.time, v.values, 's-', label='original')\n",
      "plt.plot(w.time, w.values, 'o-', label='interp')\n",
      "#plt.plot(w1.time, w.values, 'o--', color='k', label='interp')\n",
      "plt.plot(x.time, x.values, '*-',label='nearest')\n",
      "plt.legend(loc='upper left')"
     ],
     "language": "python",
     "metadata": {},
     "outputs": [
      {
       "metadata": {},
       "output_type": "pyout",
       "prompt_number": 71,
       "text": [
        "<matplotlib.legend.Legend at 0xa4eddec>"
       ]
      },
      {
       "metadata": {},
       "output_type": "display_data",
       "png": "[encoded data removed]",
       "text": [
        "<matplotlib.figure.Figure at 0xa1387cc>"
       ]
      }
     ],
     "prompt_number": 71
    },
    {
     "cell_type": "heading",
     "level": 3,
     "metadata": {},
     "source": [
      "align_axes"
     ]
    },
    {
     "cell_type": "markdown",
     "metadata": {},
     "source": [
      "It is also possible to proceed to axis alignment on a sequence of arrays (not in interpolation mode!):"
     ]
    },
    {
     "cell_type": "code",
     "collapsed": false,
     "input": [
      "# align axes\n",
      "x = da.DimArray([1,2,3],('x0',[1,2,3]))\n",
      "y = da.DimArray([3,4],('x0',[2,4]))\n",
      "da.align_axes(x, y)"
     ],
     "language": "python",
     "metadata": {},
     "outputs": [
      {
       "metadata": {},
       "output_type": "pyout",
       "prompt_number": 72,
       "text": [
        "[dimarray: 3 non-null elements (1 null)\n",
        "dimensions: 'x0'\n",
        "0 / x0 (4): 1 to 4\n",
        "array([  1.,   2.,   3.,  nan]),\n",
        " dimarray: 2 non-null elements (2 null)\n",
        "dimensions: 'x0'\n",
        "0 / x0 (4): 1 to 4\n",
        "array([ nan,   3.,  nan,   4.])]"
       ]
      }
     ],
     "prompt_number": 72
    },
    {
     "cell_type": "heading",
     "level": 2,
     "metadata": {},
     "source": [
      "Join arrays"
     ]
    },
    {
     "cell_type": "heading",
     "level": 3,
     "metadata": {},
     "source": [
      "concatenate arrays along existing axis"
     ]
    },
    {
     "cell_type": "code",
     "collapsed": false,
     "input": [
      "a = da.DimArray([[1.,2,3]],axes=[('line',[1]), ('col',['a','b','c'])])\n",
      "b = da.DimArray([[4,5,6],[7,8,9]], axes=[('line',[2,3]), ('col',['a','b','c'])])\n",
      "da.concatenate((a,b), axis=0)"
     ],
     "language": "python",
     "metadata": {},
     "outputs": [
      {
       "metadata": {},
       "output_type": "pyout",
       "prompt_number": 73,
       "text": [
        "dimarray: 9 non-null elements (0 null)\n",
        "dimensions: 'line', 'col'\n",
        "0 / line (3): 1 to 3\n",
        "1 / col (3): a to c\n",
        "array([[ 1.,  2.,  3.],\n",
        "       [ 4.,  5.,  6.],\n",
        "       [ 7.,  8.,  9.]])"
       ]
      }
     ],
     "prompt_number": 73
    },
    {
     "cell_type": "heading",
     "level": 3,
     "metadata": {},
     "source": [
      "join arrays along new axis"
     ]
    },
    {
     "cell_type": "code",
     "collapsed": false,
     "input": [
      "a = da.DimArray([10,20,30])\n",
      "da.join({'a':a, '2*a':2*a}, axis='items')   # dictionary\n",
      "da.join([a, 2*a], keys=['a','2*a'], axis='items')  # list"
     ],
     "language": "python",
     "metadata": {},
     "outputs": [
      {
       "metadata": {},
       "output_type": "pyout",
       "prompt_number": 74,
       "text": [
        "dimarray: 6 non-null elements (0 null)\n",
        "dimensions: 'items', 'x0'\n",
        "0 / items (2): a to 2*a\n",
        "1 / x0 (3): 0 to 2\n",
        "array([[10, 20, 30],\n",
        "       [20, 40, 60]])"
       ]
      }
     ],
     "prompt_number": 74
    },
    {
     "cell_type": "markdown",
     "metadata": {},
     "source": [
      "automatic axis alignment"
     ]
    },
    {
     "cell_type": "code",
     "collapsed": false,
     "input": [
      "a = da.DimArray([10,20,30], ('x0',[0, 1, 2]))\n",
      "b = da.DimArray([1,2,3], ('x0', [1,2,3]))\n",
      "da.join([a,b], keys=['a','b']) "
     ],
     "language": "python",
     "metadata": {},
     "outputs": [
      {
       "metadata": {},
       "output_type": "pyout",
       "prompt_number": 75,
       "text": [
        "dimarray: 6 non-null elements (2 null)\n",
        "dimensions: 'items', 'x0'\n",
        "0 / items (2): a to b\n",
        "1 / x0 (4): 0 to 3\n",
        "array([[ 10.,  20.,  30.,  nan],\n",
        "       [ nan,   1.,   2.,   3.]])"
       ]
      }
     ],
     "prompt_number": 75
    },
    {
     "cell_type": "markdown",
     "metadata": {},
     "source": [
      "automatic broadcasting"
     ]
    },
    {
     "cell_type": "code",
     "collapsed": false,
     "input": [
      "a = da.DimArray([10,20,30], ('x0',[0, 1, 2]))\n",
      "c = da.DimArray([1,2,3], ('x1', [1,2,3]))\n",
      "da.join([a,c], keys=['a','c']) "
     ],
     "language": "python",
     "metadata": {},
     "outputs": [
      {
       "metadata": {},
       "output_type": "pyout",
       "prompt_number": 76,
       "text": [
        "dimarray: 18 non-null elements (0 null)\n",
        "dimensions: 'items', 'x0', 'x1'\n",
        "0 / items (2): a to c\n",
        "1 / x0 (3): 0 to 2\n",
        "2 / x1 (3): 1 to 3\n",
        "array([[[10, 10, 10],\n",
        "        [20, 20, 20],\n",
        "        [30, 30, 30]],\n",
        "\n",
        "       [[ 1,  2,  3],\n",
        "        [ 1,  2,  3],\n",
        "        [ 1,  2,  3]]])"
       ]
      }
     ],
     "prompt_number": 76
    },
    {
     "cell_type": "heading",
     "level": 3,
     "metadata": {},
     "source": [
      "aggregate arrays of varying dimensions [Experimental]"
     ]
    },
    {
     "cell_type": "markdown",
     "metadata": {},
     "source": [
      "Here a nice example of puzzle filling (values in the output array indicate the order of insertion):"
     ]
    },
    {
     "cell_type": "code",
     "collapsed": false,
     "input": [
      "a = da.DimArray([[1.,2,3]],axes=[('line',[1]), ('col',['a','b','c'])])\n",
      "b = da.DimArray([[4],[5]], axes=[('line',[2,3]), ('col',['d'])])\n",
      "c = da.DimArray([[6]], axes=[('line',[2]), ('col',['b'])])\n",
      "d = da.DimArray([-7], axes=[('line',[4])])\n",
      "da.aggregate((a,b,c,d))"
     ],
     "language": "python",
     "metadata": {},
     "outputs": [
      {
       "metadata": {},
       "output_type": "pyout",
       "prompt_number": 77,
       "text": [
        "dimarray: 10 non-null elements (6 null)\n",
        "dimensions: 'line', 'col'\n",
        "0 / line (4): 1 to 4\n",
        "1 / col (4): a to d\n",
        "array([[  1.,   2.,   3.,  nan],\n",
        "       [ nan,   6.,  nan,   4.],\n",
        "       [ nan,  nan,  nan,   5.],\n",
        "       [ -7.,  -7.,  -7.,  -7.]])"
       ]
      }
     ],
     "prompt_number": 77
    },
    {
     "cell_type": "markdown",
     "metadata": {},
     "source": [
      "Risk of overlapping checked. In case of overlapping of a valid and an invalid value, keep the valid one"
     ]
    },
    {
     "cell_type": "code",
     "collapsed": false,
     "input": [
      "a = da.DimArray([[1.,2,3]],axes=[('line',[1]), ('col',['a','b','c'])])\n",
      "e = da.DimArray([[np.nan],[5]], axes=[('line',[1,2]), ('col',['b'])])\n",
      "da.aggregate((a,e)) # does not overwrite `2` at location (1, 'b')"
     ],
     "language": "python",
     "metadata": {},
     "outputs": [
      {
       "metadata": {},
       "output_type": "pyout",
       "prompt_number": 78,
       "text": [
        "dimarray: 4 non-null elements (2 null)\n",
        "dimensions: 'line', 'col'\n",
        "0 / line (2): 1 to 2\n",
        "1 / col (3): a to c\n",
        "array([[  1.,   2.,   3.],\n",
        "       [ nan,   5.,  nan]])"
       ]
      }
     ],
     "prompt_number": 78
    },
    {
     "cell_type": "markdown",
     "metadata": {},
     "source": [
      "But any loss of data (overlap between two valid values) is prevented by raising an exception:"
     ]
    },
    {
     "cell_type": "code",
     "collapsed": false,
     "input": [
      "a = da.DimArray([[1.,2,3]],axes=[('line',[1]), ('col',['a','b','c'])])\n",
      "e = da.DimArray([[4],[5]], axes=[('line',[1,2]), ('col',['b'])])\n",
      "try:\n",
      "    da.aggregate((a,e))\n",
      "except Exception, msg:\n",
      "    print msg"
     ],
     "language": "python",
     "metadata": {},
     "outputs": [
      {
       "output_type": "stream",
       "stream": "stdout",
       "text": [
        "Overlapping arrays: set check_overlap to False to suppress this error.\n"
       ]
      }
     ],
     "prompt_number": 79
    },
    {
     "cell_type": "markdown",
     "metadata": {},
     "source": [
      "Unless specified otherwise with `check_overlap=False` (will also speedup the operation)"
     ]
    },
    {
     "cell_type": "code",
     "collapsed": false,
     "input": [
      "da.aggregate((a,e), check_overlap=False)"
     ],
     "language": "python",
     "metadata": {},
     "outputs": [
      {
       "metadata": {},
       "output_type": "pyout",
       "prompt_number": 80,
       "text": [
        "dimarray: 4 non-null elements (2 null)\n",
        "dimensions: 'line', 'col'\n",
        "0 / line (2): 1 to 2\n",
        "1 / col (3): a to c\n",
        "array([[  1.,   4.,   3.],\n",
        "       [ nan,   5.,  nan]])"
       ]
      }
     ],
     "prompt_number": 80
    },
    {
     "cell_type": "heading",
     "level": 2,
     "metadata": {},
     "source": [
      "Operations"
     ]
    },
    {
     "cell_type": "heading",
     "level": 3,
     "metadata": {},
     "source": [
      "Basic Operations        "
     ]
    },
    {
     "cell_type": "markdown",
     "metadata": {},
     "source": [
      "Most operations working in numpy should work with a DimArray, otherwise please file a bug report !"
     ]
    },
    {
     "cell_type": "code",
     "collapsed": false,
     "input": [
      "a = da.array([[1,2,3],[3,4,5]],dims=('x0','x1'))\n",
      "a + 2\n",
      "a / 2    # True division, returning a float in all cases\n",
      "a // 2   # floor division\n",
      "a * 2\n",
      "a ** 2\n",
      "a += 2\n",
      "a + a\n",
      "a - a\n",
      "a / a\n",
      "a // a\n",
      "a * a \n",
      "a ** a\n",
      "a == a"
     ],
     "language": "python",
     "metadata": {},
     "outputs": [
      {
       "metadata": {},
       "output_type": "pyout",
       "prompt_number": 81,
       "text": [
        "dimarray: 6 non-null elements (0 null)\n",
        "dimensions: 'x0', 'x1'\n",
        "0 / x0 (2): 0 to 1\n",
        "1 / x1 (3): 0 to 2\n",
        "array([[ True,  True,  True],\n",
        "       [ True,  True,  True]], dtype=bool)"
       ]
      }
     ],
     "prompt_number": 81
    },
    {
     "cell_type": "heading",
     "level": 3,
     "metadata": {},
     "source": [
      "Operation with data alignment "
     ]
    },
    {
     "cell_type": "code",
     "collapsed": false,
     "input": [
      "# broadcasting\n",
      "x = da.DimArray(np.arange(2), dims=('x0',))\n",
      "y = da.DimArray(np.arange(3), dims=('x1',))\n",
      "x+y"
     ],
     "language": "python",
     "metadata": {},
     "outputs": [
      {
       "metadata": {},
       "output_type": "pyout",
       "prompt_number": 82,
       "text": [
        "dimarray: 6 non-null elements (0 null)\n",
        "dimensions: 'x0', 'x1'\n",
        "0 / x0 (2): 0 to 1\n",
        "1 / x1 (3): 0 to 2\n",
        "array([[0, 1, 2],\n",
        "       [1, 2, 3]])"
       ]
      }
     ],
     "prompt_number": 82
    },
    {
     "cell_type": "code",
     "collapsed": false,
     "input": [
      "# axis alignment\n",
      "z = da.DimArray([0,1,2],('x0',[0,1,2]))\n",
      "x+z"
     ],
     "language": "python",
     "metadata": {},
     "outputs": [
      {
       "metadata": {},
       "output_type": "pyout",
       "prompt_number": 83,
       "text": [
        "dimarray: 2 non-null elements (1 null)\n",
        "dimensions: 'x0'\n",
        "0 / x0 (3): 0 to 2\n",
        "array([  0.,   2.,  nan])"
       ]
      }
     ],
     "prompt_number": 83
    },
    {
     "cell_type": "code",
     "collapsed": false,
     "input": [
      "# or both\n",
      "(x+y)+(x+z)"
     ],
     "language": "python",
     "metadata": {},
     "outputs": [
      {
       "metadata": {},
       "output_type": "pyout",
       "prompt_number": 84,
       "text": [
        "dimarray: 6 non-null elements (3 null)\n",
        "dimensions: 'x0', 'x1'\n",
        "0 / x0 (3): 0 to 2\n",
        "1 / x1 (3): 0 to 2\n",
        "array([[  0.,   1.,   2.],\n",
        "       [  3.,   4.,   5.],\n",
        "       [ nan,  nan,  nan]])"
       ]
      }
     ],
     "prompt_number": 84
    },
    {
     "cell_type": "heading",
     "level": 2,
     "metadata": {},
     "source": [
      "Dataset"
     ]
    },
    {
     "cell_type": "markdown",
     "metadata": {},
     "source": [
      "A dataset is an ordered dictionary of DimArray objects"
     ]
    },
    {
     "cell_type": "code",
     "collapsed": false,
     "input": [
      "time = \"time\",np.arange(1950,1952)\n",
      "lat = \"lat\",np.linspace(-90,90,3)\n",
      "\n",
      "data = da.Dataset()\n",
      "data['timeseries'] = da.array(np.arange(2), time)\n",
      "data['greenland'] = da.array(np.arange(2*3).reshape(2,3), [time, lat])\n",
      "data['antarctica'] = data['greenland']*2\n",
      "data"
     ],
     "language": "python",
     "metadata": {},
     "outputs": [
      {
       "metadata": {},
       "output_type": "pyout",
       "prompt_number": 85,
       "text": [
        "Dataset of 3 variables\n",
        "dimensions: 'time', 'lat'\n",
        "0 / time (2): 1950 to 1951\n",
        "1 / lat (3): -90.0 to 90.0\n",
        "timeseries: ('time',)\n",
        "greenland: ('time', 'lat')\n",
        "antarctica: ('time', 'lat')"
       ]
      }
     ],
     "prompt_number": 85
    },
    {
     "cell_type": "markdown",
     "metadata": {},
     "source": [
      "Which can be exported to a Dimarray, along the default axis `items`:"
     ]
    },
    {
     "cell_type": "code",
     "collapsed": false,
     "input": [
      "a = data.to_array()\n",
      "a"
     ],
     "language": "python",
     "metadata": {},
     "outputs": [
      {
       "metadata": {},
       "output_type": "pyout",
       "prompt_number": 86,
       "text": [
        "dimarray: 18 non-null elements (0 null)\n",
        "dimensions: 'items', 'time', 'lat'\n",
        "0 / items (3): timeseries to antarctica\n",
        "1 / time (2): 1950 to 1951\n",
        "2 / lat (3): -90.0 to 90.0\n",
        "array([[[ 0,  0,  0],\n",
        "        [ 1,  1,  1]],\n",
        "\n",
        "       [[ 0,  1,  2],\n",
        "        [ 3,  4,  5]],\n",
        "\n",
        "       [[ 0,  2,  4],\n",
        "        [ 6,  8, 10]]])"
       ]
      }
     ],
     "prompt_number": 86
    },
    {
     "cell_type": "markdown",
     "metadata": {},
     "source": [
      "Note that the timeseries dimension has been broadcast to the same shape as others (by repeating its values along the `lat` axis):"
     ]
    },
    {
     "cell_type": "code",
     "collapsed": false,
     "input": [
      "a['timeseries']"
     ],
     "language": "python",
     "metadata": {},
     "outputs": [
      {
       "metadata": {},
       "output_type": "pyout",
       "prompt_number": 87,
       "text": [
        "dimarray: 6 non-null elements (0 null)\n",
        "dimensions: 'time', 'lat'\n",
        "0 / time (2): 1950 to 1951\n",
        "1 / lat (3): -90.0 to 90.0\n",
        "array([[0, 0, 0],\n",
        "       [1, 1, 1]])"
       ]
      }
     ],
     "prompt_number": 87
    },
    {
     "cell_type": "heading",
     "level": 2,
     "metadata": {},
     "source": [
      "NetCDF I/O"
     ]
    },
    {
     "cell_type": "markdown",
     "metadata": {},
     "source": [
      "A dataset is the natural object for I/O into the netCDF format:"
     ]
    },
    {
     "cell_type": "code",
     "collapsed": false,
     "input": [
      "data.write_nc('test.nc', 'w')"
     ],
     "language": "python",
     "metadata": {},
     "outputs": [
      {
       "output_type": "stream",
       "stream": "stdout",
       "text": [
        "write to test.nc\n"
       ]
      }
     ],
     "prompt_number": 88
    },
    {
     "cell_type": "markdown",
     "metadata": {},
     "source": [
      "Reading the data back is easy:"
     ]
    },
    {
     "cell_type": "code",
     "collapsed": false,
     "input": [
      "ds = da.read_nc('test.nc')\n",
      "ds"
     ],
     "language": "python",
     "metadata": {},
     "outputs": [
      {
       "output_type": "stream",
       "stream": "stdout",
       "text": [
        "read from test.nc\n"
       ]
      },
      {
       "metadata": {},
       "output_type": "pyout",
       "prompt_number": 89,
       "text": [
        "Dataset of 3 variables\n",
        "dimensions: 'time', 'lat'\n",
        "0 / time (2): 1950 to 1951\n",
        "1 / lat (3): -90.0 to 90.0\n",
        "timeseries: ('time',)\n",
        "greenland: ('time', 'lat')\n",
        "antarctica: ('time', 'lat')"
       ]
      }
     ],
     "prompt_number": 89
    },
    {
     "cell_type": "markdown",
     "metadata": {},
     "source": [
      "Single variables can be read as well:"
     ]
    },
    {
     "cell_type": "code",
     "collapsed": false,
     "input": [
      "da.read_nc('test.nc','greenland')"
     ],
     "language": "python",
     "metadata": {},
     "outputs": [
      {
       "output_type": "stream",
       "stream": "stdout",
       "text": [
        "read from test.nc\n"
       ]
      },
      {
       "metadata": {},
       "output_type": "pyout",
       "prompt_number": 90,
       "text": [
        "dimarray: 6 non-null elements (0 null)\n",
        "dimensions: 'time', 'lat'\n",
        "0 / time (2): 1950 to 1951\n",
        "1 / lat (3): -90.0 to 90.0\n",
        "array([[0, 1, 2],\n",
        "       [3, 4, 5]])"
       ]
      }
     ],
     "prompt_number": 90
    },
    {
     "cell_type": "markdown",
     "metadata": {},
     "source": [
      "Or even portions of a variable (that's what makes netCDF useful compared to just HDF I/O), especially for very large datasets."
     ]
    },
    {
     "cell_type": "code",
     "collapsed": false,
     "input": [
      "b = da.read_nc('test.nc','greenland', 1951, axis='time')\n",
      "b"
     ],
     "language": "python",
     "metadata": {},
     "outputs": [
      {
       "output_type": "stream",
       "stream": "stdout",
       "text": [
        "read from test.nc\n"
       ]
      },
      {
       "metadata": {},
       "output_type": "pyout",
       "prompt_number": 91,
       "text": [
        "dimarray: 3 non-null elements (0 null)\n",
        "dimensions: 'lat'\n",
        "0 / lat (3): -90.0 to 90.0\n",
        "array([3, 4, 5])"
       ]
      }
     ],
     "prompt_number": 91
    },
    {
     "cell_type": "markdown",
     "metadata": {},
     "source": [
      "Note that read_nc follows the same rules as `take`, except that multi-index arrays apply for each dimension individually (broadcast_array=False), reflecting netCDF design and underlying netCDF4 module.\n",
      "It is also possible to write a single array, by indicating its name (unless it has a `name` attribute different from None). Note the default mode is to append a variable to existing dataset."
     ]
    },
    {
     "cell_type": "code",
     "collapsed": false,
     "input": [
      "a.write_nc('test.nc',name='array')"
     ],
     "language": "python",
     "metadata": {},
     "outputs": [],
     "prompt_number": 92
    },
    {
     "cell_type": "markdown",
     "metadata": {},
     "source": [
      "The content of a netCDF file can also be checked without reading the actual variables (only the axes), useful for large variables:"
     ]
    },
    {
     "cell_type": "code",
     "collapsed": false,
     "input": [
      "# checking\n",
      "da.summary_nc(\"test.nc\")"
     ],
     "language": "python",
     "metadata": {},
     "outputs": [
      {
       "output_type": "stream",
       "stream": "stdout",
       "text": [
        "test.nc:\n",
        "-------\n",
        "Dataset of 4 variables\n",
        "dimensions: 'time', 'lat', 'items'\n",
        "0 / time (2): 1950 to 1951\n",
        "1 / lat (3): -90.0 to 90.0\n",
        "2 / items (3): timeseries to antarctica\n",
        "timeseries: (u'time',)\n",
        "greenland: (u'time', u'lat')\n",
        "antarctica: (u'time', u'lat')\n",
        "array: (u'items', u'time', u'lat')\n"
       ]
      }
     ],
     "prompt_number": 93
    },
    {
     "cell_type": "heading",
     "level": 2,
     "metadata": {},
     "source": [
      "Experimental Features"
     ]
    },
    {
     "cell_type": "heading",
     "level": 3,
     "metadata": {},
     "source": [
      "Metadata"
     ]
    },
    {
     "cell_type": "markdown",
     "metadata": {},
     "source": [
      "`DimArray` and `Axis` objects, support metadata. They can be passed by keyword arguments to DimArray (not via da.array_kw or DimArray.from_kw NOTE: may remove this functionality), or afterwards:"
     ]
    },
    {
     "cell_type": "code",
     "collapsed": false,
     "input": [
      "a = DimArray([[1,2,3],[4,5,6]])\n",
      "a.name='myname'\n",
      "a.units='myunits'"
     ],
     "language": "python",
     "metadata": {},
     "outputs": [],
     "prompt_number": 94
    },
    {
     "cell_type": "code",
     "collapsed": false,
     "input": [
      "ax = a.axes[0]\n",
      "ax.units = \"meters\""
     ],
     "language": "python",
     "metadata": {},
     "outputs": [],
     "prompt_number": 95
    },
    {
     "cell_type": "markdown",
     "metadata": {},
     "source": [
      "metadata are conserved by slicing and along-axis transformation, but are lost with any other transformation"
     ]
    },
    {
     "cell_type": "code",
     "collapsed": false,
     "input": [
      "a[:].units"
     ],
     "language": "python",
     "metadata": {},
     "outputs": [
      {
       "metadata": {},
       "output_type": "pyout",
       "prompt_number": 96,
       "text": [
        "'myunits'"
       ]
      }
     ],
     "prompt_number": 96
    },
    {
     "cell_type": "code",
     "collapsed": false,
     "input": [
      "ax[:].units"
     ],
     "language": "python",
     "metadata": {},
     "outputs": [
      {
       "metadata": {},
       "output_type": "pyout",
       "prompt_number": 97,
       "text": [
        "'meters'"
       ]
      }
     ],
     "prompt_number": 97
    },
    {
     "cell_type": "heading",
     "level": 3,
     "metadata": {},
     "source": [
      "Weighted mean"
     ]
    },
    {
     "cell_type": "markdown",
     "metadata": {},
     "source": [
      "Each axis can have a `weights` attribute. If not None, it will be automatically used when computing mean, var, std"
     ]
    },
    {
     "cell_type": "code",
     "collapsed": false,
     "input": [
      "a = da.DimArray(np.arange(5))\n",
      "a"
     ],
     "language": "python",
     "metadata": {},
     "outputs": [
      {
       "metadata": {},
       "output_type": "pyout",
       "prompt_number": 98,
       "text": [
        "dimarray: 5 non-null elements (0 null)\n",
        "dimensions: 'x0'\n",
        "0 / x0 (5): 0 to 4\n",
        "array([0, 1, 2, 3, 4])"
       ]
      }
     ],
     "prompt_number": 98
    },
    {
     "cell_type": "markdown",
     "metadata": {},
     "source": [
      "The mean as you'd expect:"
     ]
    },
    {
     "cell_type": "code",
     "collapsed": false,
     "input": [
      "a.mean()  #  standard mean"
     ],
     "language": "python",
     "metadata": {},
     "outputs": [
      {
       "metadata": {},
       "output_type": "pyout",
       "prompt_number": 99,
       "text": [
        "2.0"
       ]
      }
     ],
     "prompt_number": 99
    },
    {
     "cell_type": "markdown",
     "metadata": {},
     "source": [
      "Now adding the weight parameter:"
     ]
    },
    {
     "cell_type": "code",
     "collapsed": false,
     "input": [
      "a.axes[0].weights = [0, 0, 0, 1, 0]\n",
      "a.mean()"
     ],
     "language": "python",
     "metadata": {},
     "outputs": [
      {
       "metadata": {},
       "output_type": "pyout",
       "prompt_number": 100,
       "text": [
        "3.0"
       ]
      }
     ],
     "prompt_number": 100
    },
    {
     "cell_type": "markdown",
     "metadata": {},
     "source": [
      "Note it is preserved via indexing "
     ]
    },
    {
     "cell_type": "code",
     "collapsed": false,
     "input": [
      "a.ix[-3:].axes[0].weights"
     ],
     "language": "python",
     "metadata": {},
     "outputs": [
      {
       "metadata": {},
       "output_type": "pyout",
       "prompt_number": 101,
       "text": [
        "array([0, 1, 0])"
       ]
      }
     ],
     "prompt_number": 101
    },
    {
     "cell_type": "markdown",
     "metadata": {},
     "source": [
      "Also possible as a function:"
     ]
    },
    {
     "cell_type": "code",
     "collapsed": false,
     "input": [
      "a.axes[0].weights = lambda x: x**2\n",
      "a.mean()"
     ],
     "language": "python",
     "metadata": {},
     "outputs": [
      {
       "metadata": {},
       "output_type": "pyout",
       "prompt_number": 102,
       "text": [
        "3.3333333333333335"
       ]
      }
     ],
     "prompt_number": 102
    },
    {
     "cell_type": "heading",
     "level": 3,
     "metadata": {},
     "source": [
      "Compatibility with pandas and larry"
     ]
    },
    {
     "cell_type": "code",
     "collapsed": false,
     "input": [
      "a = da.array(np.arange(2*3).reshape(2,3), [('items',np.array(['greenland','antarctica'])), ('xx',[2,3,4])])\n",
      "a"
     ],
     "language": "python",
     "metadata": {},
     "outputs": [
      {
       "metadata": {},
       "output_type": "pyout",
       "prompt_number": 103,
       "text": [
        "dimarray: 6 non-null elements (0 null)\n",
        "dimensions: 'items', 'xx'\n",
        "0 / items (2): greenland to antarctica\n",
        "1 / xx (3): 2 to 4\n",
        "array([[0, 1, 2],\n",
        "       [3, 4, 5]])"
       ]
      }
     ],
     "prompt_number": 103
    },
    {
     "cell_type": "code",
     "collapsed": false,
     "input": [
      "df = a.to_pandas()\n",
      "df"
     ],
     "language": "python",
     "metadata": {},
     "outputs": [
      {
       "html": [
        "<div style=\"max-height:1000px;max-width:1500px;overflow:auto;\">\n",
        "<table border=\"1\" class=\"dataframe\">\n",
        "  <thead>\n",
        "    <tr style=\"text-align: right;\">\n",
        "      <th>xx</th>\n",
        "      <th>2</th>\n",
        "      <th>3</th>\n",
        "      <th>4</th>\n",
        "    </tr>\n",
        "    <tr>\n",
        "      <th>items</th>\n",
        "      <th></th>\n",
        "      <th></th>\n",
        "      <th></th>\n",
        "    </tr>\n",
        "  </thead>\n",
        "  <tbody>\n",
        "    <tr>\n",
        "      <th>greenland</th>\n",
        "      <td> 0</td>\n",
        "      <td> 1</td>\n",
        "      <td> 2</td>\n",
        "    </tr>\n",
        "    <tr>\n",
        "      <th>antarctica</th>\n",
        "      <td> 3</td>\n",
        "      <td> 4</td>\n",
        "      <td> 5</td>\n",
        "    </tr>\n",
        "  </tbody>\n",
        "</table>\n",
        "</div>"
       ],
       "metadata": {},
       "output_type": "pyout",
       "prompt_number": 104,
       "text": [
        "xx          2  3  4\n",
        "items              \n",
        "greenland   0  1  2\n",
        "antarctica  3  4  5"
       ]
      }
     ],
     "prompt_number": 104
    },
    {
     "cell_type": "code",
     "collapsed": false,
     "input": [
      "da.from_pandas(df)"
     ],
     "language": "python",
     "metadata": {},
     "outputs": [
      {
       "metadata": {},
       "output_type": "pyout",
       "prompt_number": 105,
       "text": [
        "dimarray: 6 non-null elements (0 null)\n",
        "dimensions: 'items', 'xx'\n",
        "0 / items (2): greenland to antarctica\n",
        "1 / xx (3): 2 to 4\n",
        "array([[0, 1, 2],\n",
        "       [3, 4, 5]])"
       ]
      }
     ],
     "prompt_number": 105
    },
    {
     "cell_type": "code",
     "collapsed": false,
     "input": [
      "a.to_larry()"
     ],
     "language": "python",
     "metadata": {},
     "outputs": [
      {
       "output_type": "stream",
       "stream": "stdout",
       "text": [
        "warning: dimension names have not been passed to larry\n"
       ]
      },
      {
       "metadata": {},
       "output_type": "pyout",
       "prompt_number": 108,
       "text": [
        "label_0\n",
        "    greenland\n",
        "    antarctica\n",
        "label_1\n",
        "    2\n",
        "    3\n",
        "    4\n",
        "x\n",
        "array([[0, 1, 2],\n",
        "       [3, 4, 5]])"
       ]
      }
     ],
     "prompt_number": 108
    },
    {
     "cell_type": "heading",
     "level": 2,
     "metadata": {},
     "source": [
      "doctest framework"
     ]
    },
    {
     "cell_type": "markdown",
     "metadata": {},
     "source": [
      "All docstring are tested for bugs with the `doctest` module. Additional tests are underway (but not there yet) to make things more systematic."
     ]
    },
    {
     "cell_type": "code",
     "collapsed": false,
     "input": [
      "import dimarray.tests as tests\n",
      "#import dimarray.tests as tests\n",
      "tests.main()\n",
      "#run test.test_all()"
     ],
     "language": "python",
     "metadata": {},
     "outputs": [
      {
       "output_type": "stream",
       "stream": "stdout",
       "text": [
        "\n",
        "\n",
        "============================\n",
        "TEST dimarray.core.metadata\n",
        "============================\n",
        "\n",
        "\n",
        "\n",
        "\n",
        "============================\n",
        "TEST dimarray.core.dimarraycls\n",
        "============================\n",
        "\n",
        "\n",
        "\n",
        "\n",
        "============================"
       ]
      },
      {
       "output_type": "stream",
       "stream": "stdout",
       "text": [
        "\n",
        "TEST dimarray.core.axes\n",
        "============================\n",
        "\n",
        "\n",
        "\n",
        "\n",
        "============================"
       ]
      },
      {
       "output_type": "stream",
       "stream": "stdout",
       "text": [
        "\n",
        "TEST dimarray.core.indexing\n",
        "============================\n",
        "\n",
        "\n",
        "\n",
        "\n",
        "============================"
       ]
      },
      {
       "output_type": "stream",
       "stream": "stdout",
       "text": [
        "\n",
        "TEST dimarray.core.transform\n",
        "============================\n",
        "\n",
        "\n",
        "\n",
        "\n",
        "============================\n",
        "TEST dimarray.core.reshape\n",
        "============================\n",
        "\n",
        "\n",
        "\n",
        "\n",
        "============================"
       ]
      },
      {
       "output_type": "stream",
       "stream": "stdout",
       "text": [
        "\n",
        "TEST dimarray.core.missingvalues\n",
        "============================\n",
        "\n",
        "\n",
        "\n",
        "\n",
        "============================\n",
        "TEST dimarray.core.operation\n",
        "============================\n",
        "\n",
        "\n",
        "\n",
        "\n",
        "============================\n",
        "TEST dimarray.core.align\n",
        "============================\n",
        "\n",
        "\n",
        "\n",
        "\n",
        "============================"
       ]
      },
      {
       "output_type": "stream",
       "stream": "stdout",
       "text": [
        "\n",
        "TEST dimarray.core.tests\n",
        "============================\n",
        "\n",
        "\n",
        "read from dimarray/io/testdata/test.nc\n",
        "\n",
        "\n",
        "============================\n",
        "TEST dimarray.geo.geoarray\n",
        "============================\n",
        "\n",
        "\n",
        "\n",
        "\n",
        "============================\n",
        "TEST dimarray.geo.region\n",
        "============================\n",
        "\n",
        "\n",
        "\n",
        "\n",
        "============================"
       ]
      },
      {
       "output_type": "stream",
       "stream": "stdout",
       "text": [
        "\n",
        "TEST dimarray.geo.transform\n",
        "============================\n",
        "\n",
        "\n",
        "\n",
        "\n",
        "============================\n",
        "TEST dimarray.geo.grid\n",
        "============================\n",
        "\n",
        "\n",
        "\n",
        "\n",
        "============================\n",
        "TEST decorator\n",
        "============================\n",
        "\n",
        "\n",
        "\n",
        "\n",
        "============================\n",
        "TEST dimarray\n",
        "============================\n",
        "\n",
        "\n",
        "\n",
        "\n",
        "============================\n",
        "TEST dimarray.dataset\n",
        "============================\n",
        "\n",
        "\n",
        "\n",
        "\n",
        "============================"
       ]
      },
      {
       "output_type": "stream",
       "stream": "stdout",
       "text": [
        "\n",
        "TEST README.rst\n",
        "============================\n",
        "\n",
        "\n"
       ]
      }
     ],
     "prompt_number": 107
    }
   ],
   "metadata": {}
  }
 ]
}