{
 "metadata": {
  "name": "",
  "signature": "sha256:32e54030e454434b679bf07efcededb1d0e19b7f2391ad719ede30eec50a8c8d"
 },
 "nbformat": 3,
 "nbformat_minor": 0,
 "worksheets": [
  {
   "cells": [
    {
     "cell_type": "heading",
     "level": 1,
     "metadata": {},
     "source": [
      "Brief introduction to python, numpy and dimarray"
     ]
    },
    {
     "cell_type": "markdown",
     "metadata": {},
     "source": [
      "by Mah\u00e9 Perrette\n",
      "\n",
      "ModStrat Seminar, 22nd May, 2014\n",
      "\n",
      "Potsdam Institute for Climate Impact Research"
     ]
    },
    {
     "cell_type": "markdown",
     "metadata": {},
     "source": [
      "### Table of Content\n",
      "- [Brief introduction to python, numpy and dimarray](#Brief-introduction-to-python,-numpy-and-dimarray)\n",
      "    - [Brief introduction to python](#Brief-introduction-to-python)\n",
      "        - [namespace & import](#namespace-&-import)\n",
      "        - [indentation instead of parenthesis](#indentation-instead-of-parenthesis)\n",
      "        - [object oriented](#object-oriented)\n",
      "    - [Scientific python: numpy and matplotlib via pylab](#Scientific-python:-numpy-and-matplotlib-via-pylab)\n",
      "        - [pylab](#pylab)\n",
      "        - [numpy array: basic properties](#numpy-array:-basic-properties)\n",
      "        - [generating common arrays](#generating-common-arrays)\n",
      "        - [array attributes and methods](#array-attributes-and-methods)\n",
      "        - [multidimensional arrays](#multidimensional-arrays)\n",
      "        - [plotting](#plotting)\n",
      "    - [dimarray package](#dimarray-package)\n",
      "        - [Concept: Provide labelled axes along with arrays](#Concept:-Provide-labelled-axes-along-with-arrays)\n",
      "        - [data structure](#data-structure)\n",
      "        - [indexing](#indexing)\n",
      "        - [enhanced numpy transformations](#enhanced-numpy-transformations)\n",
      "    - [Examples using dimarray](#Examples-using-dimarray)\n",
      "        - [Read and plot netCDF files](#Read-and-plot-netCDF-files)\n",
      "        - [Alignment features](#Alignment-features)\n",
      "        - [Stack or concatenate arrays](#Stack-or-concatenate-arrays)\n",
      "        - [Save data to netCDF ](#Save-data-to-netCDF-)\n",
      "        - [Big data: grouping, reshaping, display](#Big-data:-grouping,-reshaping,-display)\n",
      "        - [geoarray features](#geoarray-features)\n",
      "    - [application: warming tool](#application:-warming-tool)\n",
      "    - [Useful links](#Useful-links)"
     ]
    },
    {
     "cell_type": "heading",
     "level": 2,
     "metadata": {},
     "source": [
      "Brief introduction to python"
     ]
    },
    {
     "cell_type": "markdown",
     "metadata": {
      "slideshow": {
       "slide_type": "slide"
      }
     },
     "source": [
      "- Open source, general-purpose programming language (e.g. can also create GUI applications, websites) \n",
      "- Use of namespaces\n",
      "- Object-oriented \n",
      "- Created in late 1980s by Guido van Rossum, later `numpy` package (2006), `matplotlib` etc..."
     ]
    },
    {
     "cell_type": "code",
     "collapsed": false,
     "input": [
      "2+3"
     ],
     "language": "python",
     "metadata": {},
     "outputs": [
      {
       "metadata": {},
       "output_type": "pyout",
       "prompt_number": 1,
       "text": [
        "5"
       ]
      }
     ],
     "prompt_number": 1
    },
    {
     "cell_type": "code",
     "collapsed": false,
     "input": [
      "mylist = ['a', 'b', 'c', 'd'] \n",
      "mylist"
     ],
     "language": "python",
     "metadata": {},
     "outputs": [
      {
       "metadata": {},
       "output_type": "pyout",
       "prompt_number": 2,
       "text": [
        "['a', 'b', 'c', 'd']"
       ]
      }
     ],
     "prompt_number": 2
    },
    {
     "cell_type": "code",
     "collapsed": false,
     "input": [
      "mylist[0]  # 0-based index"
     ],
     "language": "python",
     "metadata": {},
     "outputs": [
      {
       "metadata": {},
       "output_type": "pyout",
       "prompt_number": 3,
       "text": [
        "'a'"
       ]
      }
     ],
     "prompt_number": 3
    },
    {
     "cell_type": "code",
     "collapsed": false,
     "input": [
      "mydict = dict(a=1, b=2) \n",
      "mydict"
     ],
     "language": "python",
     "metadata": {},
     "outputs": [
      {
       "metadata": {},
       "output_type": "pyout",
       "prompt_number": 4,
       "text": [
        "{'a': 1, 'b': 2}"
       ]
      }
     ],
     "prompt_number": 4
    },
    {
     "cell_type": "code",
     "collapsed": false,
     "input": [
      "mydict['b']  # access element by key"
     ],
     "language": "python",
     "metadata": {},
     "outputs": [
      {
       "metadata": {},
       "output_type": "pyout",
       "prompt_number": 5,
       "text": [
        "2"
       ]
      }
     ],
     "prompt_number": 5
    },
    {
     "cell_type": "heading",
     "level": 3,
     "metadata": {},
     "source": [
      "namespace & import"
     ]
    },
    {
     "cell_type": "markdown",
     "metadata": {
      "slideshow": {
       "slide_type": "slide"
      }
     },
     "source": [
      "python is a __general-purpose__ programming language, with basic functionalities reduced to a minimum. \n",
      "    \n",
      "Some variables and function names are defined by default without the need of importing anything..."
     ]
    },
    {
     "cell_type": "code",
     "collapsed": false,
     "input": [
      "sum([1, 2, 3, 4])"
     ],
     "language": "python",
     "metadata": {},
     "outputs": [
      {
       "metadata": {},
       "output_type": "pyout",
       "prompt_number": 6,
       "text": [
        "10"
       ]
      }
     ],
     "prompt_number": 6
    },
    {
     "cell_type": "markdown",
     "metadata": {},
     "source": [
      "... but others are not:"
     ]
    },
    {
     "cell_type": "code",
     "collapsed": false,
     "input": [
      "exp(0)"
     ],
     "language": "python",
     "metadata": {},
     "outputs": [
      {
       "ename": "NameError",
       "evalue": "name 'exp' is not defined",
       "output_type": "pyerr",
       "traceback": [
        "\u001b[1;31m---------------------------------------------------------------------------\u001b[0m\n\u001b[1;31mNameError\u001b[0m                                 Traceback (most recent call last)",
        "\u001b[1;32m<ipython-input-7-0a236a9466c0>\u001b[0m in \u001b[0;36m<module>\u001b[1;34m()\u001b[0m\n\u001b[1;32m----> 1\u001b[1;33m \u001b[0mexp\u001b[0m\u001b[1;33m(\u001b[0m\u001b[1;36m0\u001b[0m\u001b[1;33m)\u001b[0m\u001b[1;33m\u001b[0m\u001b[0m\n\u001b[0m",
        "\u001b[1;31mNameError\u001b[0m: name 'exp' is not defined"
       ]
      }
     ],
     "prompt_number": 7
    },
    {
     "cell_type": "markdown",
     "metadata": {
      "slideshow": {
       "slide_type": "-"
      }
     },
     "source": [
      "In that case, need to __import specific packages__:\n",
      "after importing a package, it is possible to access its functions with \".\""
     ]
    },
    {
     "cell_type": "code",
     "collapsed": false,
     "input": [
      "import numpy"
     ],
     "language": "python",
     "metadata": {
      "slideshow": {
       "slide_type": "-"
      }
     },
     "outputs": [],
     "prompt_number": 8
    },
    {
     "cell_type": "code",
     "collapsed": false,
     "input": [
      "numpy.exp(0)  "
     ],
     "language": "python",
     "metadata": {},
     "outputs": [
      {
       "metadata": {},
       "output_type": "pyout",
       "prompt_number": 9,
       "text": [
        "1.0"
       ]
      }
     ],
     "prompt_number": 9
    },
    {
     "cell_type": "markdown",
     "metadata": {},
     "source": [
      "But `numpy` is a bit long to type for each command. There are quite a few ways of going around that, such as defining an __alias__:\n",
      "    \n",
      "    import numpy as np\n",
      "    np.exp(0)\n",
      "    \n",
      "or importing the function directly:\n",
      "    \n",
      "    from numpy import exp\n",
      "    exp(0)\n",
      "    \n",
      "or even importing everything (not recommanded):\n",
      "\n",
      "    from numpy import *   \n",
      "    exp(0)"
     ]
    },
    {
     "cell_type": "heading",
     "level": 3,
     "metadata": {},
     "source": [
      "indentation instead of parenthesis"
     ]
    },
    {
     "cell_type": "code",
     "collapsed": false,
     "input": [
      "for i in range(5):\n",
      "    print i"
     ],
     "language": "python",
     "metadata": {},
     "outputs": [
      {
       "output_type": "stream",
       "stream": "stdout",
       "text": [
        "0\n",
        "1\n",
        "2\n",
        "3\n",
        "4\n"
       ]
      }
     ],
     "prompt_number": 10
    },
    {
     "cell_type": "code",
     "collapsed": false,
     "input": [
      "if 4 > 2:\n",
      "    print 'no parenthesis'\n",
      "else:\n",
      "    print 'nope'"
     ],
     "language": "python",
     "metadata": {},
     "outputs": [
      {
       "output_type": "stream",
       "stream": "stdout",
       "text": [
        "no parenthesis\n"
       ]
      }
     ],
     "prompt_number": 11
    },
    {
     "cell_type": "markdown",
     "metadata": {},
     "source": [
      "Functions take named arguments, and optional arguments as well"
     ]
    },
    {
     "cell_type": "code",
     "collapsed": false,
     "input": [
      "def myfunc(a, b=2):\n",
      "    \"\"\" my documentation\n",
      "    \"\"\"\n",
      "    return a+b\n",
      "\n",
      "# functions are a particular type of variables\n",
      "myfunc"
     ],
     "language": "python",
     "metadata": {},
     "outputs": [
      {
       "metadata": {},
       "output_type": "pyout",
       "prompt_number": 12,
       "text": [
        "<function __main__.myfunc>"
       ]
      }
     ],
     "prompt_number": 12
    },
    {
     "cell_type": "code",
     "collapsed": false,
     "input": [
      "myfunc(3)"
     ],
     "language": "python",
     "metadata": {},
     "outputs": [
      {
       "metadata": {},
       "output_type": "pyout",
       "prompt_number": 13,
       "text": [
        "5"
       ]
      }
     ],
     "prompt_number": 13
    },
    {
     "cell_type": "code",
     "collapsed": false,
     "input": [
      "myfunc(3, b=5)"
     ],
     "language": "python",
     "metadata": {},
     "outputs": [
      {
       "metadata": {},
       "output_type": "pyout",
       "prompt_number": 14,
       "text": [
        "8"
       ]
      }
     ],
     "prompt_number": 14
    },
    {
     "cell_type": "heading",
     "level": 3,
     "metadata": {},
     "source": [
      "object oriented"
     ]
    },
    {
     "cell_type": "markdown",
     "metadata": {
      "slideshow": {
       "slide_type": "slide"
      }
     },
     "source": [
      "Like in C, classes can be defined with attributes and methods.\n",
      "Class attributes and methods can be accessed with __\".\"__ like for variables or functions in a module:"
     ]
    },
    {
     "cell_type": "code",
     "collapsed": false,
     "input": [
      "class Ocean:  \n",
      "    T = 25        # ocean temperature\n",
      "    cp = 4000  # sea water heat capacity\n",
      "    V = 1e6  # volume"
     ],
     "language": "python",
     "metadata": {},
     "outputs": [],
     "prompt_number": 15
    },
    {
     "cell_type": "code",
     "collapsed": false,
     "input": [
      "indian = Ocean ()\n",
      "indian"
     ],
     "language": "python",
     "metadata": {},
     "outputs": [
      {
       "metadata": {},
       "output_type": "pyout",
       "prompt_number": 16,
       "text": [
        "<__main__.Ocean instance at 0x7f3debfa8a28>"
       ]
      }
     ],
     "prompt_number": 16
    },
    {
     "cell_type": "code",
     "collapsed": false,
     "input": [
      "indian.T"
     ],
     "language": "python",
     "metadata": {},
     "outputs": [
      {
       "metadata": {},
       "output_type": "pyout",
       "prompt_number": 17,
       "text": [
        "25"
       ]
      }
     ],
     "prompt_number": 17
    },
    {
     "cell_type": "markdown",
     "metadata": {},
     "source": [
      "Add a method `energy`:"
     ]
    },
    {
     "cell_type": "code",
     "collapsed": false,
     "input": [
      "class Ocean2:  \n",
      "    T = 25        # ocean temperature\n",
      "    cp = 4000  # sea water heat capacity\n",
      "    V = 1e6  # volume\n",
      "    \n",
      "    def energy(self):  # class method, like a function defined within a class\n",
      "        return self.cp*self.T*self.V"
     ],
     "language": "python",
     "metadata": {},
     "outputs": [],
     "prompt_number": 18
    },
    {
     "cell_type": "code",
     "collapsed": false,
     "input": [
      "indian = Ocean2()\n",
      "indian.energy()"
     ],
     "language": "python",
     "metadata": {},
     "outputs": [
      {
       "metadata": {},
       "output_type": "pyout",
       "prompt_number": 19,
       "text": [
        "100000000000.0"
       ]
      }
     ],
     "prompt_number": 19
    },
    {
     "cell_type": "markdown",
     "metadata": {},
     "source": [
      "Overload operator, add an `__add__` method."
     ]
    },
    {
     "cell_type": "code",
     "collapsed": false,
     "input": [
      "class Ocean3:  \n",
      "    T = 25        # ocean temperature\n",
      "    cp = 4000  # sea water heat capacity\n",
      "    V = 1e6  # volume\n",
      "    \n",
      "    def energy(self):  # class method, like a function defined within a class\n",
      "        return self.cp*self.T*self.V\n",
      "    \n",
      "    def __add__(self, other):\n",
      "        res = Ocean3()\n",
      "        res.T = 0.5*(self.T + other.T)\n",
      "        res.cp = 0.5*(self.cp+other.cp) \n",
      "        res.V = self.V+other.V\n",
      "        return res"
     ],
     "language": "python",
     "metadata": {},
     "outputs": [],
     "prompt_number": 20
    },
    {
     "cell_type": "code",
     "collapsed": false,
     "input": [
      "indian = Ocean3()\n",
      "big = indian + indian"
     ],
     "language": "python",
     "metadata": {},
     "outputs": [],
     "prompt_number": 21
    },
    {
     "cell_type": "code",
     "collapsed": false,
     "input": [
      "big.energy()"
     ],
     "language": "python",
     "metadata": {},
     "outputs": [
      {
       "metadata": {},
       "output_type": "pyout",
       "prompt_number": 22,
       "text": [
        "200000000000.0"
       ]
      }
     ],
     "prompt_number": 22
    },
    {
     "cell_type": "markdown",
     "metadata": {},
     "source": [
      "- useful to package related information in a single object\n",
      "- can associate specific methods without polluting the general namespace\n",
      "- can define rules for addition, subtraction etc..."
     ]
    },
    {
     "cell_type": "heading",
     "level": 2,
     "metadata": {},
     "source": [
      "Scientific python: numpy and matplotlib via pylab"
     ]
    },
    {
     "cell_type": "markdown",
     "metadata": {
      "slideshow": {
       "slide_type": "-"
      }
     },
     "source": [
      "\n",
      "For scientific applications, need to use specific packages. `numpy` is one of them, to be installed via the package manager `pip`:\n",
      "    \n",
      "    pip install numpy\n",
      "    \n",
      "or shipped by default if python was installed with __anaconda__ (recommanded!)\n",
      "\n",
      "    http://continuum.io/downloads\n",
      "    \n",
      "Once installed on your system, it can be imported any time in the python console, and there are various ways of using the functions and variables defined in it."
     ]
    },
    {
     "cell_type": "heading",
     "level": 3,
     "metadata": {},
     "source": [
      "pylab"
     ]
    },
    {
     "cell_type": "markdown",
     "metadata": {
      "slideshow": {
       "slide_type": "slide"
      }
     },
     "source": [
      "- __`import *`__ form not recommended in general \n",
      "- names from numpy or other packages could silently overwrite existing variable names in current namespace\n",
      "- __pylab__ module is designed to safely import a selection of handy functions from __numpy__ and __matplotlib__ functions, in order to work in ways similar to matlab, without overwriting builtin python variables.\n",
      "- equivalent ipython form: `%pylab` or start ipython with `ipython --pylab`"
     ]
    },
    {
     "cell_type": "code",
     "collapsed": false,
     "input": [
      "%pylab"
     ],
     "language": "python",
     "metadata": {},
     "outputs": [
      {
       "output_type": "stream",
       "stream": "stdout",
       "text": [
        "Using matplotlib backend: Qt4Agg\n",
        "Populating the interactive namespace from numpy and matplotlib\n"
       ]
      }
     ],
     "prompt_number": 23
    },
    {
     "cell_type": "heading",
     "level": 3,
     "metadata": {},
     "source": [
      "numpy array: basic properties"
     ]
    },
    {
     "cell_type": "code",
     "collapsed": false,
     "input": [
      "array"
     ],
     "language": "python",
     "metadata": {},
     "outputs": [
      {
       "metadata": {},
       "output_type": "pyout",
       "prompt_number": 24,
       "text": [
        "<function numpy.core.multiarray.array>"
       ]
      }
     ],
     "prompt_number": 24
    },
    {
     "cell_type": "code",
     "collapsed": false,
     "input": [
      "a = array([2, 5, 7, 8, 3])  # define an array (same as np.array)\n",
      "a"
     ],
     "language": "python",
     "metadata": {},
     "outputs": [
      {
       "metadata": {},
       "output_type": "pyout",
       "prompt_number": 25,
       "text": [
        "array([2, 5, 7, 8, 3])"
       ]
      }
     ],
     "prompt_number": 25
    },
    {
     "cell_type": "markdown",
     "metadata": {},
     "source": [
      "Indexing works similarly to python lists, with slicing as `start:stop:step`"
     ]
    },
    {
     "cell_type": "code",
     "collapsed": false,
     "input": [
      "a[:3]  # first three elements"
     ],
     "language": "python",
     "metadata": {},
     "outputs": [
      {
       "metadata": {},
       "output_type": "pyout",
       "prompt_number": 26,
       "text": [
        "array([2, 5, 7])"
       ]
      }
     ],
     "prompt_number": 26
    },
    {
     "cell_type": "code",
     "collapsed": false,
     "input": [
      "a[-3:] # last three (negative indexing)"
     ],
     "language": "python",
     "metadata": {},
     "outputs": [
      {
       "metadata": {},
       "output_type": "pyout",
       "prompt_number": 27,
       "text": [
        "array([7, 8, 3])"
       ]
      }
     ],
     "prompt_number": 27
    },
    {
     "cell_type": "code",
     "collapsed": false,
     "input": [
      "a[::2] # every second element"
     ],
     "language": "python",
     "metadata": {},
     "outputs": [
      {
       "metadata": {},
       "output_type": "pyout",
       "prompt_number": 28,
       "text": [
        "array([2, 7, 3])"
       ]
      }
     ],
     "prompt_number": 28
    },
    {
     "cell_type": "markdown",
     "metadata": {},
     "source": [
      "operations work as you would expect:"
     ]
    },
    {
     "cell_type": "code",
     "collapsed": false,
     "input": [
      "array([1,2,3]) * 2"
     ],
     "language": "python",
     "metadata": {},
     "outputs": [
      {
       "metadata": {},
       "output_type": "pyout",
       "prompt_number": 29,
       "text": [
        "array([2, 4, 6])"
       ]
      }
     ],
     "prompt_number": 29
    },
    {
     "cell_type": "markdown",
     "metadata": {},
     "source": [
      "In contrast, addition and scalar multiplication mean concatenation for standard python list:"
     ]
    },
    {
     "cell_type": "code",
     "collapsed": false,
     "input": [
      "[1, 2, 3] * 2"
     ],
     "language": "python",
     "metadata": {},
     "outputs": [
      {
       "metadata": {},
       "output_type": "pyout",
       "prompt_number": 30,
       "text": [
        "[1, 2, 3, 1, 2, 3]"
       ]
      }
     ],
     "prompt_number": 30
    },
    {
     "cell_type": "heading",
     "level": 3,
     "metadata": {},
     "source": [
      "generating common arrays"
     ]
    },
    {
     "cell_type": "code",
     "collapsed": false,
     "input": [
      "arange(5)  # 0...4 : five elements numbered from 0, same as r_[:5]"
     ],
     "language": "python",
     "metadata": {},
     "outputs": [
      {
       "metadata": {},
       "output_type": "pyout",
       "prompt_number": 31,
       "text": [
        "array([0, 1, 2, 3, 4])"
       ]
      }
     ],
     "prompt_number": 31
    },
    {
     "cell_type": "code",
     "collapsed": false,
     "input": [
      "arange(1900, 2000, 5)  # alternative syntax: r_[1900:2000:5]"
     ],
     "language": "python",
     "metadata": {},
     "outputs": [
      {
       "metadata": {},
       "output_type": "pyout",
       "prompt_number": 32,
       "text": [
        "array([1900, 1905, 1910, 1915, 1920, 1925, 1930, 1935, 1940, 1945, 1950,\n",
        "       1955, 1960, 1965, 1970, 1975, 1980, 1985, 1990, 1995])"
       ]
      }
     ],
     "prompt_number": 32
    },
    {
     "cell_type": "code",
     "collapsed": false,
     "input": [
      "linspace(-1, 1, 10)  # 10 elements between -1 and 1"
     ],
     "language": "python",
     "metadata": {},
     "outputs": [
      {
       "metadata": {},
       "output_type": "pyout",
       "prompt_number": 33,
       "text": [
        "array([-1.        , -0.77777778, -0.55555556, -0.33333333, -0.11111111,\n",
        "        0.11111111,  0.33333333,  0.55555556,  0.77777778,  1.        ])"
       ]
      }
     ],
     "prompt_number": 33
    },
    {
     "cell_type": "code",
     "collapsed": false,
     "input": [
      "zeros(5)"
     ],
     "language": "python",
     "metadata": {},
     "outputs": [
      {
       "metadata": {},
       "output_type": "pyout",
       "prompt_number": 34,
       "text": [
        "array([ 0.,  0.,  0.,  0.,  0.])"
       ]
      }
     ],
     "prompt_number": 34
    },
    {
     "cell_type": "heading",
     "level": 3,
     "metadata": {},
     "source": [
      "array attributes and methods"
     ]
    },
    {
     "cell_type": "code",
     "collapsed": false,
     "input": [
      "a = ones((2,3))\n",
      "a"
     ],
     "language": "python",
     "metadata": {},
     "outputs": [
      {
       "metadata": {},
       "output_type": "pyout",
       "prompt_number": 35,
       "text": [
        "array([[ 1.,  1.,  1.],\n",
        "       [ 1.,  1.,  1.]])"
       ]
      }
     ],
     "prompt_number": 35
    },
    {
     "cell_type": "markdown",
     "metadata": {},
     "source": [
      "Arrays are objects (class instances) ! They have attributes and methods which can be accessed with the \".\" syntax:"
     ]
    },
    {
     "cell_type": "code",
     "collapsed": false,
     "input": [
      "a.ndim  # number of dimensions"
     ],
     "language": "python",
     "metadata": {},
     "outputs": [
      {
       "metadata": {},
       "output_type": "pyout",
       "prompt_number": 36,
       "text": [
        "2"
       ]
      }
     ],
     "prompt_number": 36
    },
    {
     "cell_type": "code",
     "collapsed": false,
     "input": [
      "a.shape"
     ],
     "language": "python",
     "metadata": {},
     "outputs": [
      {
       "metadata": {},
       "output_type": "pyout",
       "prompt_number": 37,
       "text": [
        "(2, 3)"
       ]
      }
     ],
     "prompt_number": 37
    },
    {
     "cell_type": "code",
     "collapsed": false,
     "input": [
      "a.size"
     ],
     "language": "python",
     "metadata": {},
     "outputs": [
      {
       "metadata": {},
       "output_type": "pyout",
       "prompt_number": 38,
       "text": [
        "6"
       ]
      }
     ],
     "prompt_number": 38
    },
    {
     "cell_type": "code",
     "collapsed": false,
     "input": [
      "a.mean    #  a method, itself an object"
     ],
     "language": "python",
     "metadata": {},
     "outputs": [
      {
       "metadata": {},
       "output_type": "pyout",
       "prompt_number": 39,
       "text": [
        "<function mean>"
       ]
      }
     ],
     "prompt_number": 39
    },
    {
     "cell_type": "code",
     "collapsed": false,
     "input": [
      "a.mean()"
     ],
     "language": "python",
     "metadata": {},
     "outputs": [
      {
       "metadata": {},
       "output_type": "pyout",
       "prompt_number": 40,
       "text": [
        "1.0"
       ]
      }
     ],
     "prompt_number": 40
    },
    {
     "cell_type": "markdown",
     "metadata": {},
     "source": [
      "classical function approach is also defined:"
     ]
    },
    {
     "cell_type": "code",
     "collapsed": false,
     "input": [
      "mean(a)"
     ],
     "language": "python",
     "metadata": {},
     "outputs": [
      {
       "metadata": {},
       "output_type": "pyout",
       "prompt_number": 41,
       "text": [
        "1.0"
       ]
      }
     ],
     "prompt_number": 41
    },
    {
     "cell_type": "heading",
     "level": 3,
     "metadata": {},
     "source": [
      "multidimensional arrays"
     ]
    },
    {
     "cell_type": "code",
     "collapsed": false,
     "input": [
      "a = arange(2*3).reshape(2,3)\n",
      "a"
     ],
     "language": "python",
     "metadata": {},
     "outputs": [
      {
       "metadata": {},
       "output_type": "pyout",
       "prompt_number": 42,
       "text": [
        "array([[0, 1, 2],\n",
        "       [3, 4, 5]])"
       ]
      }
     ],
     "prompt_number": 42
    },
    {
     "cell_type": "markdown",
     "metadata": {},
     "source": [
      "multi-dimensional indexing works similarly to matlab or R"
     ]
    },
    {
     "cell_type": "code",
     "collapsed": false,
     "input": [
      "a[1,0]  # multi-dimensional indexing: first index for line, second for columns"
     ],
     "language": "python",
     "metadata": {},
     "outputs": [
      {
       "metadata": {},
       "output_type": "pyout",
       "prompt_number": 43,
       "text": [
        "3"
       ]
      }
     ],
     "prompt_number": 43
    },
    {
     "cell_type": "code",
     "collapsed": false,
     "input": [
      "a[1]   # grab the whole line"
     ],
     "language": "python",
     "metadata": {},
     "outputs": [
      {
       "metadata": {},
       "output_type": "pyout",
       "prompt_number": 44,
       "text": [
        "array([3, 4, 5])"
       ]
      }
     ],
     "prompt_number": 44
    },
    {
     "cell_type": "code",
     "collapsed": false,
     "input": [
      "a[:, -1] # last column (negative integer start from the end)"
     ],
     "language": "python",
     "metadata": {},
     "outputs": [
      {
       "metadata": {},
       "output_type": "pyout",
       "prompt_number": 45,
       "text": [
        "array([2, 5])"
       ]
      }
     ],
     "prompt_number": 45
    },
    {
     "cell_type": "markdown",
     "metadata": {},
     "source": [
      "`axis` parameter accepted by most transformation "
     ]
    },
    {
     "cell_type": "code",
     "collapsed": false,
     "input": [
      "a.mean(axis=0)  # mean over lines"
     ],
     "language": "python",
     "metadata": {},
     "outputs": [
      {
       "metadata": {},
       "output_type": "pyout",
       "prompt_number": 46,
       "text": [
        "array([ 1.5,  2.5,  3.5])"
       ]
      }
     ],
     "prompt_number": 46
    },
    {
     "cell_type": "code",
     "collapsed": false,
     "input": [
      "a.mean(axis=1) # mean over columns"
     ],
     "language": "python",
     "metadata": {},
     "outputs": [
      {
       "metadata": {},
       "output_type": "pyout",
       "prompt_number": 47,
       "text": [
        "array([ 1.,  4.])"
       ]
      }
     ],
     "prompt_number": 47
    },
    {
     "cell_type": "heading",
     "level": 3,
     "metadata": {},
     "source": [
      "plotting"
     ]
    },
    {
     "cell_type": "markdown",
     "metadata": {},
     "source": [
      "matplotlib is a handy plotting package. It's functions are imported via the \"magicc\" ipython command `%pylab`. Another handy command is `%matplotlib inline` to display figures inline."
     ]
    },
    {
     "cell_type": "code",
     "collapsed": false,
     "input": [
      "#%pylab\n",
      "%matplotlib inline "
     ],
     "language": "python",
     "metadata": {},
     "outputs": [],
     "prompt_number": 48
    },
    {
     "cell_type": "code",
     "collapsed": false,
     "input": [
      "x = arange(10) \n",
      "y = x**2\n",
      "\n",
      "plot(x, y, label='my line')\n",
      "plot(x, y*0.5, label='my other line')\n",
      "\n",
      "legend(loc='upper left')\n",
      "xlabel('x axis')\n",
      "ylabel('y axis')\n",
      "title('My Figure')"
     ],
     "language": "python",
     "metadata": {
      "slideshow": {
       "slide_type": "-"
      }
     },
     "outputs": [
      {
       "metadata": {},
       "output_type": "pyout",
       "prompt_number": 49,
       "text": [
        "<matplotlib.text.Text at 0x7f3ddf9127d0>"
       ]
      },
      {
       "metadata": {},
       "output_type": "display_data",
       "png": "[encoded data removed]",
       "text": [
        "<matplotlib.figure.Figure at 0x7f3de0677790>"
       ]
      }
     ],
     "prompt_number": 49
    },
    {
     "cell_type": "heading",
     "level": 2,
     "metadata": {
      "slideshow": {
       "slide_type": "slide"
      }
     },
     "source": [
      "dimarray package"
     ]
    },
    {
     "cell_type": "markdown",
     "metadata": {},
     "source": [
      "See [installation instructions](http://dimarray.readthedocs.org/en/latest/introduction.html#installation)"
     ]
    },
    {
     "cell_type": "heading",
     "level": 3,
     "metadata": {},
     "source": [
      "Concept: Provide labelled axes along with arrays"
     ]
    },
    {
     "cell_type": "markdown",
     "metadata": {},
     "source": [
      "A **``DimArray``** can be defined just like a numpy array, with\n",
      "additional information about its axes, which can be given\n",
      "via `axes` and `dims` parameters."
     ]
    },
    {
     "cell_type": "code",
     "collapsed": false,
     "input": [
      "import dimarray as da"
     ],
     "language": "python",
     "metadata": {},
     "outputs": [],
     "prompt_number": 50
    },
    {
     "cell_type": "code",
     "collapsed": false,
     "input": [
      "data = [[1.,2,3], [4,5,6]]\n",
      "a = da.DimArray(data, axes=[['grl', 'ant'], [1950, 1960, 1970]], dims=['item', 'time']) \n",
      "a"
     ],
     "language": "python",
     "metadata": {},
     "outputs": [
      {
       "metadata": {},
       "output_type": "pyout",
       "prompt_number": 51,
       "text": [
        "dimarray: 6 non-null elements (0 null)\n",
        "0 / item (2): grl to ant\n",
        "1 / time (3): 1950 to 1970\n",
        "array([[ 1.,  2.,  3.],\n",
        "       [ 4.,  5.,  6.]])"
       ]
      }
     ],
     "prompt_number": 51
    },
    {
     "cell_type": "heading",
     "level": 3,
     "metadata": {},
     "source": [
      "data structure"
     ]
    },
    {
     "cell_type": "markdown",
     "metadata": {},
     "source": [
      "Array data are stored in a `values` **attribute**:"
     ]
    },
    {
     "cell_type": "code",
     "collapsed": false,
     "input": [
      "a.values"
     ],
     "language": "python",
     "metadata": {},
     "outputs": [
      {
       "metadata": {},
       "output_type": "pyout",
       "prompt_number": 52,
       "text": [
        "array([[ 1.,  2.,  3.],\n",
        "       [ 4.,  5.,  6.]])"
       ]
      }
     ],
     "prompt_number": 52
    },
    {
     "cell_type": "markdown",
     "metadata": {},
     "source": [
      "while dimensions are located in an `axes` attribute"
     ]
    },
    {
     "cell_type": "code",
     "collapsed": false,
     "input": [
      "a.axes"
     ],
     "language": "python",
     "metadata": {},
     "outputs": [
      {
       "metadata": {},
       "output_type": "pyout",
       "prompt_number": 53,
       "text": [
        "0 / item (2): grl to ant\n",
        "1 / time (3): 1950 to 1970"
       ]
      }
     ],
     "prompt_number": 53
    },
    {
     "cell_type": "markdown",
     "metadata": {},
     "source": [
      "Individual axes can be accessed as well:"
     ]
    },
    {
     "cell_type": "code",
     "collapsed": false,
     "input": [
      "ax = a.axes[1]\n",
      "ax.name , ax.values"
     ],
     "language": "python",
     "metadata": {},
     "outputs": [
      {
       "metadata": {},
       "output_type": "pyout",
       "prompt_number": 54,
       "text": [
        "('time', array([1950, 1960, 1970]))"
       ]
      }
     ],
     "prompt_number": 54
    },
    {
     "cell_type": "markdown",
     "metadata": {},
     "source": [
      "A few handy aliases are defined"
     ]
    },
    {
     "cell_type": "code",
     "collapsed": false,
     "input": [
      "a.dims   # grab axis names (the dimensions)"
     ],
     "language": "python",
     "metadata": {},
     "outputs": [
      {
       "metadata": {},
       "output_type": "pyout",
       "prompt_number": 55,
       "text": [
        "('item', 'time')"
       ]
      }
     ],
     "prompt_number": 55
    },
    {
     "cell_type": "code",
     "collapsed": false,
     "input": [
      "a.labels   # grab axis values"
     ],
     "language": "python",
     "metadata": {},
     "outputs": [
      {
       "metadata": {},
       "output_type": "pyout",
       "prompt_number": 56,
       "text": [
        "(array(['grl', 'ant'], dtype=object), array([1950, 1960, 1970]))"
       ]
      }
     ],
     "prompt_number": 56
    },
    {
     "cell_type": "heading",
     "level": 3,
     "metadata": {},
     "source": [
      "indexing"
     ]
    },
    {
     "cell_type": "markdown",
     "metadata": {},
     "source": [
      "**Indexing works on axis values** instead of integer position"
     ]
    },
    {
     "cell_type": "code",
     "collapsed": false,
     "input": [
      "a['grl', 1970]"
     ],
     "language": "python",
     "metadata": {},
     "outputs": [
      {
       "metadata": {},
       "output_type": "pyout",
       "prompt_number": 57,
       "text": [
        "3.0"
       ]
      }
     ],
     "prompt_number": 57
    },
    {
     "cell_type": "markdown",
     "metadata": {},
     "source": [
      "but integer-index is always possible via `ix` toogle between `labels`- and `position`-based indexing:"
     ]
    },
    {
     "cell_type": "code",
     "collapsed": false,
     "input": [
      "a.ix[0, -1]"
     ],
     "language": "python",
     "metadata": {},
     "outputs": [
      {
       "metadata": {},
       "output_type": "pyout",
       "prompt_number": 58,
       "text": [
        "3.0"
       ]
      }
     ],
     "prompt_number": 58
    },
    {
     "cell_type": "heading",
     "level": 3,
     "metadata": {},
     "source": [
      "enhanced numpy transformations"
     ]
    },
    {
     "cell_type": "markdown",
     "metadata": {},
     "source": [
      "Numpy **transformations** are defined, and now accept axis name:"
     ]
    },
    {
     "cell_type": "code",
     "collapsed": false,
     "input": [
      "a.mean(axis='time')"
     ],
     "language": "python",
     "metadata": {},
     "outputs": [
      {
       "metadata": {},
       "output_type": "pyout",
       "prompt_number": 59,
       "text": [
        "dimarray: 2 non-null elements (0 null)\n",
        "0 / item (2): grl to ant\n",
        "array([ 2.,  5.])"
       ]
      }
     ],
     "prompt_number": 59
    },
    {
     "cell_type": "markdown",
     "metadata": {},
     "source": [
      "They can handle nans if asked to:"
     ]
    },
    {
     "cell_type": "code",
     "collapsed": false,
     "input": [
      "a['ant', 1950] = nan\n",
      "a"
     ],
     "language": "python",
     "metadata": {},
     "outputs": [
      {
       "metadata": {},
       "output_type": "pyout",
       "prompt_number": 60,
       "text": [
        "dimarray: 5 non-null elements (1 null)\n",
        "0 / item (2): grl to ant\n",
        "1 / time (3): 1950 to 1970\n",
        "array([[  1.,   2.,   3.],\n",
        "       [ nan,   5.,   6.]])"
       ]
      }
     ],
     "prompt_number": 60
    },
    {
     "cell_type": "code",
     "collapsed": false,
     "input": [
      "a.mean(axis='time', skipna=True)"
     ],
     "language": "python",
     "metadata": {},
     "outputs": [
      {
       "metadata": {},
       "output_type": "pyout",
       "prompt_number": 61,
       "text": [
        "dimarray: 2 non-null elements (0 null)\n",
        "0 / item (2): grl to ant\n",
        "array([ 2. ,  5.5])"
       ]
      }
     ],
     "prompt_number": 61
    },
    {
     "cell_type": "markdown",
     "metadata": {},
     "source": [
      "and many more in the doc."
     ]
    },
    {
     "cell_type": "heading",
     "level": 2,
     "metadata": {},
     "source": [
      "Examples using dimarray"
     ]
    },
    {
     "cell_type": "heading",
     "level": 3,
     "metadata": {},
     "source": [
      "Read and plot netCDF files"
     ]
    },
    {
     "cell_type": "markdown",
     "metadata": {},
     "source": [
      "We have a few netCDF files in a data folder, let's go there"
     ]
    },
    {
     "cell_type": "code",
     "collapsed": false,
     "input": [
      "import os \n",
      "datadir = da.get_datadir()\n",
      "os.chdir(datadir)"
     ],
     "language": "python",
     "metadata": {},
     "outputs": [],
     "prompt_number": 62
    },
    {
     "cell_type": "markdown",
     "metadata": {},
     "source": [
      "List the content of the data folder (will work on unix systems only)"
     ]
    },
    {
     "cell_type": "code",
     "collapsed": false,
     "input": [
      "ls"
     ],
     "language": "python",
     "metadata": {},
     "outputs": [
      {
       "output_type": "stream",
       "stream": "stdout",
       "text": [
        "cmip5.CSIRO-Mk3-6-0.nc  cmip5.GFDL-ESM2G.nc  cmip5.HadGEM2-ES.nc  cmip5.IPSL-CM5A-LR.nc  cmip5.IPSL-CM5A-MR.nc  cmip5.MIROC5.nc  cmip5.MPI-ESM-MR.nc\r\n"
       ]
      }
     ],
     "prompt_number": 63
    },
    {
     "cell_type": "markdown",
     "metadata": {},
     "source": [
      "Read netCDF file to a Dataset object"
     ]
    },
    {
     "cell_type": "code",
     "collapsed": false,
     "input": [
      "datadir = da.get_datadir()\n",
      "ds = da.read_nc('cmip5.MPI-ESM-MR.nc')\n",
      "ds"
     ],
     "language": "python",
     "metadata": {},
     "outputs": [
      {
       "metadata": {},
       "output_type": "pyout",
       "prompt_number": 64,
       "text": [
        "Dataset of 2 variables\n",
        "0 / time (251): 1850 to 2100\n",
        "1 / scenario (4): historical to rcp85\n",
        "tsl: ('time', 'scenario')\n",
        "temp: ('time', 'scenario')"
       ]
      }
     ],
     "prompt_number": 64
    },
    {
     "cell_type": "code",
     "collapsed": false,
     "input": [
      "temp = ds['temp']\n",
      "temp"
     ],
     "language": "python",
     "metadata": {},
     "outputs": [
      {
       "metadata": {},
       "output_type": "pyout",
       "prompt_number": 65,
       "text": [
        "dimarray: 909 non-null elements (95 null)\n",
        "0 / time (251): 1850 to 2100\n",
        "1 / scenario (4): historical to rcp85\n",
        "array(...)"
       ]
      }
     ],
     "prompt_number": 65
    },
    {
     "cell_type": "code",
     "collapsed": false,
     "input": [
      "%matplotlib inline\n",
      "temp.plot()  "
     ],
     "language": "python",
     "metadata": {},
     "outputs": [
      {
       "metadata": {},
       "output_type": "pyout",
       "prompt_number": 66,
       "text": [
        "<matplotlib.axes.AxesSubplot at 0x7f3dd8ca85d0>"
       ]
      },
      {
       "metadata": {},
       "output_type": "display_data",
       "png": "[encoded data removed]",
       "text": [
        "<matplotlib.figure.Figure at 0x7f3dd8ca8250>"
       ]
      }
     ],
     "prompt_number": 66
    },
    {
     "cell_type": "heading",
     "level": 3,
     "metadata": {},
     "source": [
      "Alignment features"
     ]
    },
    {
     "cell_type": "markdown",
     "metadata": {},
     "source": [
      "Load new model. Note the time axis extends until 2300 and there is one more scenario"
     ]
    },
    {
     "cell_type": "code",
     "collapsed": false,
     "input": [
      "temp2 = da.read_nc('cmip5.IPSL-CM5A-LR.nc', 'temp')\n",
      "temp2"
     ],
     "language": "python",
     "metadata": {},
     "outputs": [
      {
       "metadata": {},
       "output_type": "pyout",
       "prompt_number": 67,
       "text": [
        "dimarray: 1760 non-null elements (495 null)\n",
        "0 / time (451): 1850 to 2300\n",
        "1 / scenario (5): historical to rcp85\n",
        "array(...)"
       ]
      }
     ],
     "prompt_number": 67
    },
    {
     "cell_type": "markdown",
     "metadata": {},
     "source": [
      "Compute reference period: reduce the time axis"
     ]
    },
    {
     "cell_type": "code",
     "collapsed": false,
     "input": [
      "ref1 = temp[1986:2005].mean(axis='time')\n",
      "ref1"
     ],
     "language": "python",
     "metadata": {},
     "outputs": [
      {
       "metadata": {},
       "output_type": "pyout",
       "prompt_number": 68,
       "text": [
        "dimarray: 4 non-null elements (0 null)\n",
        "0 / scenario (4): historical to rcp85\n",
        "array([ 14.48965673,  14.48965673,  14.48965673,  14.48965673])"
       ]
      }
     ],
     "prompt_number": 68
    },
    {
     "cell_type": "markdown",
     "metadata": {},
     "source": [
      "compute anomalies w.r.t reference period\n",
      "- automatic **dimension aligment**: never mind whether the first variable is 2-D while the second is 1-D "
     ]
    },
    {
     "cell_type": "code",
     "collapsed": false,
     "input": [
      "ano1 = temp - ref1\n",
      "ano1"
     ],
     "language": "python",
     "metadata": {},
     "outputs": [
      {
       "metadata": {},
       "output_type": "pyout",
       "prompt_number": 69,
       "text": [
        "dimarray: 909 non-null elements (95 null)\n",
        "0 / time (251): 1850 to 2100\n",
        "1 / scenario (4): historical to rcp85\n",
        "array(...)"
       ]
      }
     ],
     "prompt_number": 69
    },
    {
     "cell_type": "markdown",
     "metadata": {},
     "source": [
      "compute difference:\n",
      "- **automatic axis alignment**\n",
      "=> first time series is re-indexed to 2300 and filled with NaNs to match the second"
     ]
    },
    {
     "cell_type": "code",
     "collapsed": false,
     "input": [
      "ano2 = temp2 - temp2[1986:2005].mean(axis='time') # same as for ano1 \n",
      "\n",
      "ano1.shape, ano2.shape"
     ],
     "language": "python",
     "metadata": {},
     "outputs": [
      {
       "metadata": {},
       "output_type": "pyout",
       "prompt_number": 70,
       "text": [
        "((251, 4), (451, 5))"
       ]
      }
     ],
     "prompt_number": 70
    },
    {
     "cell_type": "code",
     "collapsed": false,
     "input": [
      "difference = ano2 - ano1\n",
      "difference"
     ],
     "language": "python",
     "metadata": {},
     "outputs": [
      {
       "metadata": {},
       "output_type": "pyout",
       "prompt_number": 71,
       "text": [
        "dimarray: 909 non-null elements (1346 null)\n",
        "0 / time (451): 1850 to 2300\n",
        "1 / scenario (5): historical to rcp85\n",
        "array(...)"
       ]
      }
     ],
     "prompt_number": 71
    },
    {
     "cell_type": "markdown",
     "metadata": {},
     "source": [
      "remove nans: every scenario which does not have at least one valid value is removed => RCP6.0 is eliminated "
     ]
    },
    {
     "cell_type": "code",
     "collapsed": false,
     "input": [
      "diffvalid = difference.dropna(axis='scenario', minvalid=1)\n",
      "diffvalid"
     ],
     "language": "python",
     "metadata": {},
     "outputs": [
      {
       "metadata": {},
       "output_type": "pyout",
       "prompt_number": 72,
       "text": [
        "dimarray: 909 non-null elements (895 null)\n",
        "0 / time (451): 1850 to 2300\n",
        "1 / scenario (4): historical to rcp85\n",
        "array(...)"
       ]
      }
     ],
     "prompt_number": 72
    },
    {
     "cell_type": "code",
     "collapsed": false,
     "input": [
      "#difference.plot()\n",
      "diffvalid.plot()"
     ],
     "language": "python",
     "metadata": {},
     "outputs": [
      {
       "metadata": {},
       "output_type": "pyout",
       "prompt_number": 73,
       "text": [
        "<matplotlib.axes.AxesSubplot at 0x7f3dd8a65350>"
       ]
      },
      {
       "metadata": {},
       "output_type": "display_data",
       "png": "[encoded data removed]",
       "text": [
        "<matplotlib.figure.Figure at 0x7f3dded77cd0>"
       ]
      }
     ],
     "prompt_number": 73
    },
    {
     "cell_type": "heading",
     "level": 3,
     "metadata": {},
     "source": [
      "Stack or concatenate arrays"
     ]
    },
    {
     "cell_type": "markdown",
     "metadata": {},
     "source": [
      "Instead of a difference, one could also have stacked the two models into a single array:"
     ]
    },
    {
     "cell_type": "code",
     "collapsed": false,
     "input": [
      "newa = da.stack((temp, temp2), axis='model', align=True, keys=['MPI-ESM-MR', 'IPSL-CM5A-LR'])\n",
      "newa"
     ],
     "language": "python",
     "metadata": {},
     "outputs": [
      {
       "metadata": {},
       "output_type": "pyout",
       "prompt_number": 74,
       "text": [
        "dimarray: 2669 non-null elements (1841 null)\n",
        "0 / model (2): MPI-ESM-MR to IPSL-CM5A-LR\n",
        "1 / time (451): 1850 to 2300\n",
        "2 / scenario (5): historical to rcp85\n",
        "array(...)"
       ]
      }
     ],
     "prompt_number": 74
    },
    {
     "cell_type": "heading",
     "level": 3,
     "metadata": {},
     "source": [
      "Save data to netCDF "
     ]
    },
    {
     "cell_type": "code",
     "collapsed": false,
     "input": [
      "newa.name = 'temperature'\n",
      "newa.date = '22nd May 2014'\n",
      "newa.description = 'my dimarray test'\n",
      "newa._metadata"
     ],
     "language": "python",
     "metadata": {},
     "outputs": [
      {
       "metadata": {},
       "output_type": "pyout",
       "prompt_number": 75,
       "text": [
        "{'date': '22nd May 2014',\n",
        " 'description': 'my dimarray test',\n",
        " 'name': 'temperature'}"
       ]
      }
     ],
     "prompt_number": 75
    },
    {
     "cell_type": "code",
     "collapsed": false,
     "input": [
      "newa.write_nc('/tmp/mydata.nc')"
     ],
     "language": "python",
     "metadata": {},
     "outputs": [],
     "prompt_number": 76
    },
    {
     "cell_type": "code",
     "collapsed": false,
     "input": [
      "ds = da.read_nc('/tmp/mydata.nc')\n",
      "ds\n",
      "ds['temperature']._metadata"
     ],
     "language": "python",
     "metadata": {},
     "outputs": [
      {
       "metadata": {},
       "output_type": "pyout",
       "prompt_number": 77,
       "text": [
        "{'date': u'22nd May 2014',\n",
        " 'description': u'my dimarray test',\n",
        " 'name': u'temperature'}"
       ]
      }
     ],
     "prompt_number": 77
    },
    {
     "cell_type": "heading",
     "level": 3,
     "metadata": {},
     "source": [
      "Big data: grouping, reshaping, display"
     ]
    },
    {
     "cell_type": "markdown",
     "metadata": {},
     "source": [
      "Use regular expressions to read several netCDF files"
     ]
    },
    {
     "cell_type": "code",
     "collapsed": false,
     "input": [
      "ds = da.read_nc('cmip5.*.nc', align=True, axis='model')\n",
      "ds"
     ],
     "language": "python",
     "metadata": {},
     "outputs": [
      {
       "metadata": {},
       "output_type": "pyout",
       "prompt_number": 78,
       "text": [
        "Dataset of 2 variables\n",
        "0 / model (7): cmip5.IPSL-CM5A-LR to cmip5.CSIRO-Mk3-6-0\n",
        "1 / time (451): 1850 to 2300\n",
        "2 / scenario (5): historical to rcp85\n",
        "tsl: ('model', 'time', 'scenario')\n",
        "temp: ('model', 'time', 'scenario')"
       ]
      }
     ],
     "prompt_number": 78
    },
    {
     "cell_type": "markdown",
     "metadata": {},
     "source": [
      "Note that all models have been automatically aligned along the longest time period (1850-2100) and with all scenarios, filling the rest with NaNs."
     ]
    },
    {
     "cell_type": "markdown",
     "metadata": {},
     "source": [
      "Export to one array and rename model axis to be more human-readable"
     ]
    },
    {
     "cell_type": "code",
     "collapsed": false,
     "input": [
      "a = ds.to_array(axis='variable')\n",
      "a\n",
      "#a['ohu',:,2100, 'rcp45']"
     ],
     "language": "python",
     "metadata": {},
     "outputs": [
      {
       "metadata": {},
       "output_type": "pyout",
       "prompt_number": 79,
       "text": [
        "dimarray: 16725 non-null elements (14845 null)\n",
        "0 / variable (2): tsl to temp\n",
        "1 / model (7): cmip5.IPSL-CM5A-LR to cmip5.CSIRO-Mk3-6-0\n",
        "2 / time (451): 1850 to 2300\n",
        "3 / scenario (5): historical to rcp85\n",
        "array(...)"
       ]
      }
     ],
     "prompt_number": 79
    },
    {
     "cell_type": "code",
     "collapsed": false,
     "input": [
      "# rename model axis"
     ],
     "language": "python",
     "metadata": {},
     "outputs": [],
     "prompt_number": 80
    },
    {
     "cell_type": "code",
     "collapsed": false,
     "input": [
      "def rename_axis(model_ax):\n",
      "    return [ax.replace('data/cmip5.','') for ax in model_ax]    \n",
      "\n",
      "a.model[:] = rename_axis(a.model)\n",
      "a"
     ],
     "language": "python",
     "metadata": {},
     "outputs": [
      {
       "metadata": {},
       "output_type": "pyout",
       "prompt_number": 81,
       "text": [
        "dimarray: 16725 non-null elements (14845 null)\n",
        "0 / variable (2): tsl to temp\n",
        "1 / model (7): cmip5.IPSL-CM5A-LR to cmip5.CSIRO-Mk3-6-0\n",
        "2 / time (451): 1850 to 2300\n",
        "3 / scenario (5): historical to rcp85\n",
        "array(...)"
       ]
      }
     ],
     "prompt_number": 81
    },
    {
     "cell_type": "markdown",
     "metadata": {},
     "source": [
      "Compute 21st change (warming, sea level rise...)"
     ]
    },
    {
     "cell_type": "code",
     "collapsed": false,
     "input": [
      "change = a[:,:, 2081:2099].mean('time') - a[:,:,1986:2005].mean('time')\n",
      "change"
     ],
     "language": "python",
     "metadata": {},
     "outputs": [
      {
       "metadata": {},
       "output_type": "pyout",
       "prompt_number": 82,
       "text": [
        "dimarray: 47 non-null elements (23 null)\n",
        "0 / variable (2): tsl to temp\n",
        "1 / model (7): cmip5.IPSL-CM5A-LR to cmip5.CSIRO-Mk3-6-0\n",
        "2 / scenario (5): historical to rcp85\n",
        "array([[[        nan,  0.11217237,  0.1677092 ,  0.17220445,  0.26592819],\n",
        "        [        nan,         nan,         nan,         nan,         nan],\n",
        "        [        nan,  0.12786021,  0.16702883,  0.18248119,  0.25204866],\n",
        "        [        nan,  0.12568446,  0.17624791,         nan,  0.26728292],\n",
        "        [        nan,  0.16828752,  0.19214832,  0.20351329,  0.27523558],\n",
        "        [        nan,  0.11636126,  0.17071112,         nan,  0.27740127],\n",
        "        [        nan,  0.15880893,  0.19516833,  0.19162792,  0.27442475]],\n",
        "\n",
        "       [[        nan,  1.2443886 ,  2.1304713 ,  2.52817959,  4.4514311 ],\n",
        "        [        nan,  0.26301486,  0.97925117,  1.50379534,  2.76831207],\n",
        "        [        nan,  1.38574405,  2.5184083 ,         nan,  4.64571374],\n",
        "        [        nan,  0.77803809,  1.70305479,         nan,  3.49509356],\n",
        "        [        nan,  0.999615  ,  1.66958345,  1.94570811,  3.29361974],\n",
        "        [        nan,  1.08099444,  2.24552594,         nan,  4.36739709],\n",
        "        [        nan,  1.43603482,  2.20179153,  2.4090637 ,  3.98745694]]])"
       ]
      }
     ],
     "prompt_number": 82
    },
    {
     "cell_type": "markdown",
     "metadata": {},
     "source": [
      "Use pandas to have a nice display"
     ]
    },
    {
     "cell_type": "code",
     "collapsed": false,
     "input": [
      "#rounded = change['temp'].apply(lambda x: np.round(x, 2)) # roudn to 2 decimals\n",
      "#rounded.to_pandas()\n",
      "change['temp'].to_pandas()"
     ],
     "language": "python",
     "metadata": {},
     "outputs": [
      {
       "html": [
        "<div style=\"max-height:1000px;max-width:1500px;overflow:auto;\">\n",
        "<table border=\"1\" class=\"dataframe\">\n",
        "  <thead>\n",
        "    <tr style=\"text-align: right;\">\n",
        "      <th>scenario</th>\n",
        "      <th>historical</th>\n",
        "      <th>rcp26</th>\n",
        "      <th>rcp45</th>\n",
        "      <th>rcp60</th>\n",
        "      <th>rcp85</th>\n",
        "    </tr>\n",
        "    <tr>\n",
        "      <th>model</th>\n",
        "      <th></th>\n",
        "      <th></th>\n",
        "      <th></th>\n",
        "      <th></th>\n",
        "      <th></th>\n",
        "    </tr>\n",
        "  </thead>\n",
        "  <tbody>\n",
        "    <tr>\n",
        "      <th>cmip5.IPSL-CM5A-LR</th>\n",
        "      <td>NaN</td>\n",
        "      <td> 1.244389</td>\n",
        "      <td> 2.130471</td>\n",
        "      <td> 2.528180</td>\n",
        "      <td> 4.451431</td>\n",
        "    </tr>\n",
        "    <tr>\n",
        "      <th>cmip5.GFDL-ESM2G</th>\n",
        "      <td>NaN</td>\n",
        "      <td> 0.263015</td>\n",
        "      <td> 0.979251</td>\n",
        "      <td> 1.503795</td>\n",
        "      <td> 2.768312</td>\n",
        "    </tr>\n",
        "    <tr>\n",
        "      <th>cmip5.HadGEM2-ES</th>\n",
        "      <td>NaN</td>\n",
        "      <td> 1.385744</td>\n",
        "      <td> 2.518408</td>\n",
        "      <td>      NaN</td>\n",
        "      <td> 4.645714</td>\n",
        "    </tr>\n",
        "    <tr>\n",
        "      <th>cmip5.MPI-ESM-MR</th>\n",
        "      <td>NaN</td>\n",
        "      <td> 0.778038</td>\n",
        "      <td> 1.703055</td>\n",
        "      <td>      NaN</td>\n",
        "      <td> 3.495094</td>\n",
        "    </tr>\n",
        "    <tr>\n",
        "      <th>cmip5.MIROC5</th>\n",
        "      <td>NaN</td>\n",
        "      <td> 0.999615</td>\n",
        "      <td> 1.669583</td>\n",
        "      <td> 1.945708</td>\n",
        "      <td> 3.293620</td>\n",
        "    </tr>\n",
        "    <tr>\n",
        "      <th>cmip5.IPSL-CM5A-MR</th>\n",
        "      <td>NaN</td>\n",
        "      <td> 1.080994</td>\n",
        "      <td> 2.245526</td>\n",
        "      <td>      NaN</td>\n",
        "      <td> 4.367397</td>\n",
        "    </tr>\n",
        "    <tr>\n",
        "      <th>cmip5.CSIRO-Mk3-6-0</th>\n",
        "      <td>NaN</td>\n",
        "      <td> 1.436035</td>\n",
        "      <td> 2.201792</td>\n",
        "      <td> 2.409064</td>\n",
        "      <td> 3.987457</td>\n",
        "    </tr>\n",
        "  </tbody>\n",
        "</table>\n",
        "</div>"
       ],
       "metadata": {},
       "output_type": "pyout",
       "prompt_number": 83,
       "text": [
        "scenario             historical     rcp26     rcp45     rcp60     rcp85\n",
        "model                                                                  \n",
        "cmip5.IPSL-CM5A-LR          NaN  1.244389  2.130471  2.528180  4.451431\n",
        "cmip5.GFDL-ESM2G            NaN  0.263015  0.979251  1.503795  2.768312\n",
        "cmip5.HadGEM2-ES            NaN  1.385744  2.518408       NaN  4.645714\n",
        "cmip5.MPI-ESM-MR            NaN  0.778038  1.703055       NaN  3.495094\n",
        "cmip5.MIROC5                NaN  0.999615  1.669583  1.945708  3.293620\n",
        "cmip5.IPSL-CM5A-MR          NaN  1.080994  2.245526       NaN  4.367397\n",
        "cmip5.CSIRO-Mk3-6-0         NaN  1.436035  2.201792  2.409064  3.987457"
       ]
      }
     ],
     "prompt_number": 83
    },
    {
     "cell_type": "markdown",
     "metadata": {},
     "source": [
      "can also group along all information"
     ]
    },
    {
     "cell_type": "code",
     "collapsed": false,
     "input": [
      "#rounded = change['temp'].apply(lambda x: np.round(x, 2)) # roudn to 2 decimals\n",
      "#rounded.to_pandas()\n",
      "grouped = change[:,:,['rcp26','rcp85']].group('model','scenario')\n",
      "grouped"
     ],
     "language": "python",
     "metadata": {},
     "outputs": [
      {
       "metadata": {},
       "output_type": "pyout",
       "prompt_number": 84,
       "text": [
        "dimarray: 26 non-null elements (2 null)\n",
        "0 / variable (2): tsl to temp\n",
        "1 / model,scenario (14): ('cmip5.IPSL-CM5A-LR', 'rcp26') to ('cmip5.CSIRO-Mk3-6-0', 'rcp85')\n",
        "array([[ 0.11217237,  0.26592819,         nan,         nan,  0.12786021,\n",
        "         0.25204866,  0.12568446,  0.26728292,  0.16828752,  0.27523558,\n",
        "         0.11636126,  0.27740127,  0.15880893,  0.27442475],\n",
        "       [ 1.2443886 ,  4.4514311 ,  0.26301486,  2.76831207,  1.38574405,\n",
        "         4.64571374,  0.77803809,  3.49509356,  0.999615  ,  3.29361974,\n",
        "         1.08099444,  4.36739709,  1.43603482,  3.98745694]])"
       ]
      }
     ],
     "prompt_number": 84
    },
    {
     "cell_type": "code",
     "collapsed": false,
     "input": [
      "grouped.to_pandas()"
     ],
     "language": "python",
     "metadata": {},
     "outputs": [
      {
       "html": [
        "<div style=\"max-height:1000px;max-width:1500px;overflow:auto;\">\n",
        "<table border=\"1\" class=\"dataframe\">\n",
        "  <thead>\n",
        "    <tr>\n",
        "      <th>model</th>\n",
        "      <th colspan=\"2\" halign=\"left\">cmip5.IPSL-CM5A-LR</th>\n",
        "      <th colspan=\"2\" halign=\"left\">cmip5.GFDL-ESM2G</th>\n",
        "      <th colspan=\"2\" halign=\"left\">cmip5.HadGEM2-ES</th>\n",
        "      <th colspan=\"2\" halign=\"left\">cmip5.MPI-ESM-MR</th>\n",
        "      <th colspan=\"2\" halign=\"left\">cmip5.MIROC5</th>\n",
        "      <th colspan=\"2\" halign=\"left\">cmip5.IPSL-CM5A-MR</th>\n",
        "      <th colspan=\"2\" halign=\"left\">cmip5.CSIRO-Mk3-6-0</th>\n",
        "    </tr>\n",
        "    <tr>\n",
        "      <th>scenario</th>\n",
        "      <th>rcp26</th>\n",
        "      <th>rcp85</th>\n",
        "      <th>rcp26</th>\n",
        "      <th>rcp85</th>\n",
        "      <th>rcp26</th>\n",
        "      <th>rcp85</th>\n",
        "      <th>rcp26</th>\n",
        "      <th>rcp85</th>\n",
        "      <th>rcp26</th>\n",
        "      <th>rcp85</th>\n",
        "      <th>rcp26</th>\n",
        "      <th>rcp85</th>\n",
        "      <th>rcp26</th>\n",
        "      <th>rcp85</th>\n",
        "    </tr>\n",
        "    <tr>\n",
        "      <th>variable</th>\n",
        "      <th></th>\n",
        "      <th></th>\n",
        "      <th></th>\n",
        "      <th></th>\n",
        "      <th></th>\n",
        "      <th></th>\n",
        "      <th></th>\n",
        "      <th></th>\n",
        "      <th></th>\n",
        "      <th></th>\n",
        "      <th></th>\n",
        "      <th></th>\n",
        "      <th></th>\n",
        "      <th></th>\n",
        "    </tr>\n",
        "  </thead>\n",
        "  <tbody>\n",
        "    <tr>\n",
        "      <th>tsl</th>\n",
        "      <td> 0.112172</td>\n",
        "      <td> 0.265928</td>\n",
        "      <td>      NaN</td>\n",
        "      <td>      NaN</td>\n",
        "      <td> 0.127860</td>\n",
        "      <td> 0.252049</td>\n",
        "      <td> 0.125684</td>\n",
        "      <td> 0.267283</td>\n",
        "      <td> 0.168288</td>\n",
        "      <td> 0.275236</td>\n",
        "      <td> 0.116361</td>\n",
        "      <td> 0.277401</td>\n",
        "      <td> 0.158809</td>\n",
        "      <td> 0.274425</td>\n",
        "    </tr>\n",
        "    <tr>\n",
        "      <th>temp</th>\n",
        "      <td> 1.244389</td>\n",
        "      <td> 4.451431</td>\n",
        "      <td> 0.263015</td>\n",
        "      <td> 2.768312</td>\n",
        "      <td> 1.385744</td>\n",
        "      <td> 4.645714</td>\n",
        "      <td> 0.778038</td>\n",
        "      <td> 3.495094</td>\n",
        "      <td> 0.999615</td>\n",
        "      <td> 3.293620</td>\n",
        "      <td> 1.080994</td>\n",
        "      <td> 4.367397</td>\n",
        "      <td> 1.436035</td>\n",
        "      <td> 3.987457</td>\n",
        "    </tr>\n",
        "  </tbody>\n",
        "</table>\n",
        "</div>"
       ],
       "metadata": {},
       "output_type": "pyout",
       "prompt_number": 85,
       "text": [
        "model     cmip5.IPSL-CM5A-LR            cmip5.GFDL-ESM2G            \\\n",
        "scenario               rcp26     rcp85             rcp26     rcp85   \n",
        "variable                                                             \n",
        "tsl                 0.112172  0.265928               NaN       NaN   \n",
        "temp                1.244389  4.451431          0.263015  2.768312   \n",
        "\n",
        "model     cmip5.HadGEM2-ES            cmip5.MPI-ESM-MR            \\\n",
        "scenario             rcp26     rcp85             rcp26     rcp85   \n",
        "variable                                                           \n",
        "tsl               0.127860  0.252049          0.125684  0.267283   \n",
        "temp              1.385744  4.645714          0.778038  3.495094   \n",
        "\n",
        "model     cmip5.MIROC5            cmip5.IPSL-CM5A-MR            \\\n",
        "scenario         rcp26     rcp85               rcp26     rcp85   \n",
        "variable                                                         \n",
        "tsl           0.168288  0.275236            0.116361  0.277401   \n",
        "temp          0.999615  3.293620            1.080994  4.367397   \n",
        "\n",
        "model     cmip5.CSIRO-Mk3-6-0            \n",
        "scenario                rcp26     rcp85  \n",
        "variable                                 \n",
        "tsl                  0.158809  0.274425  \n",
        "temp                 1.436035  3.987457  "
       ]
      }
     ],
     "prompt_number": 85
    },
    {
     "cell_type": "code",
     "collapsed": false,
     "input": [
      "grouped.ungroup()"
     ],
     "language": "python",
     "metadata": {},
     "outputs": [
      {
       "metadata": {},
       "output_type": "pyout",
       "prompt_number": 86,
       "text": [
        "dimarray: 26 non-null elements (2 null)\n",
        "0 / variable (2): tsl to temp\n",
        "1 / model (7): cmip5.IPSL-CM5A-LR to cmip5.CSIRO-Mk3-6-0\n",
        "2 / scenario (2): rcp26 to rcp85\n",
        "array([[[ 0.11217237,  0.26592819],\n",
        "        [        nan,         nan],\n",
        "        [ 0.12786021,  0.25204866],\n",
        "        [ 0.12568446,  0.26728292],\n",
        "        [ 0.16828752,  0.27523558],\n",
        "        [ 0.11636126,  0.27740127],\n",
        "        [ 0.15880893,  0.27442475]],\n",
        "\n",
        "       [[ 1.2443886 ,  4.4514311 ],\n",
        "        [ 0.26301486,  2.76831207],\n",
        "        [ 1.38574405,  4.64571374],\n",
        "        [ 0.77803809,  3.49509356],\n",
        "        [ 0.999615  ,  3.29361974],\n",
        "        [ 1.08099444,  4.36739709],\n",
        "        [ 1.43603482,  3.98745694]]])"
       ]
      }
     ],
     "prompt_number": 86
    },
    {
     "cell_type": "code",
     "collapsed": false,
     "input": [
      "change.reshape('variable,scenario','model')"
     ],
     "language": "python",
     "metadata": {},
     "outputs": [
      {
       "metadata": {},
       "output_type": "pyout",
       "prompt_number": 87,
       "text": [
        "dimarray: 47 non-null elements (23 null)\n",
        "0 / variable,scenario (10): (u'tsl', 'historical') to (u'temp', 'rcp85')\n",
        "1 / model (7): cmip5.IPSL-CM5A-LR to cmip5.CSIRO-Mk3-6-0\n",
        "array([[        nan,         nan,         nan,         nan,         nan,\n",
        "                nan,         nan],\n",
        "       [ 0.11217237,         nan,  0.12786021,  0.12568446,  0.16828752,\n",
        "         0.11636126,  0.15880893],\n",
        "       [ 0.1677092 ,         nan,  0.16702883,  0.17624791,  0.19214832,\n",
        "         0.17071112,  0.19516833],\n",
        "       [ 0.17220445,         nan,  0.18248119,         nan,  0.20351329,\n",
        "                nan,  0.19162792],\n",
        "       [ 0.26592819,         nan,  0.25204866,  0.26728292,  0.27523558,\n",
        "         0.27740127,  0.27442475],\n",
        "       [        nan,         nan,         nan,         nan,         nan,\n",
        "                nan,         nan],\n",
        "       [ 1.2443886 ,  0.26301486,  1.38574405,  0.77803809,  0.999615  ,\n",
        "         1.08099444,  1.43603482],\n",
        "       [ 2.1304713 ,  0.97925117,  2.5184083 ,  1.70305479,  1.66958345,\n",
        "         2.24552594,  2.20179153],\n",
        "       [ 2.52817959,  1.50379534,         nan,         nan,  1.94570811,\n",
        "                nan,  2.4090637 ],\n",
        "       [ 4.4514311 ,  2.76831207,  4.64571374,  3.49509356,  3.29361974,\n",
        "         4.36739709,  3.98745694]])"
       ]
      }
     ],
     "prompt_number": 87
    },
    {
     "cell_type": "heading",
     "level": 3,
     "metadata": {},
     "source": [
      "geoarray features"
     ]
    },
    {
     "cell_type": "markdown",
     "metadata": {},
     "source": [
      "Let's first make some 2-D data to play with"
     ]
    },
    {
     "cell_type": "code",
     "collapsed": false,
     "input": [
      "lon = linspace(-179.5, 179.5, 360)\n",
      "lat = linspace(-89.5, 89.5, 180)\n",
      "LON, LAT = meshgrid(lon, lat)\n",
      "values = cos(radians(LON)) + cos(radians(LAT))\n",
      "basic = da.DimArray(values, axes=[lat, lon], dims=['lat', 'lon'])\n",
      "basic.contourf(); colorbar()"
     ],
     "language": "python",
     "metadata": {},
     "outputs": [
      {
       "metadata": {},
       "output_type": "pyout",
       "prompt_number": 88,
       "text": [
        "<matplotlib.colorbar.Colorbar instance at 0x7f3dd88b05f0>"
       ]
      },
      {
       "metadata": {},
       "output_type": "display_data",
       "png": "[encoded data removed]",
       "text": [
        "<matplotlib.figure.Figure at 0x7f3dd8939890>"
       ]
      }
     ],
     "prompt_number": 88
    },
    {
     "cell_type": "markdown",
     "metadata": {},
     "source": [
      "Now, that's let's compute the global mean with the standard dimarray method:"
     ]
    },
    {
     "cell_type": "code",
     "collapsed": false,
     "input": [
      "basic.mean()"
     ],
     "language": "python",
     "metadata": {},
     "outputs": [
      {
       "metadata": {},
       "output_type": "pyout",
       "prompt_number": 89,
       "text": [
        "0.63662785266740252"
       ]
      }
     ],
     "prompt_number": 89
    },
    {
     "cell_type": "markdown",
     "metadata": {},
     "source": [
      "But in reality, high-latitude values are down-weighted because of the smaller surface they occupy. GeoArray is a subclass of DimArray that handles that recognizes typical dimensions and apply the desired weighting. "
     ]
    },
    {
     "cell_type": "code",
     "collapsed": false,
     "input": [
      "from dimarray.geo import GeoArray\n",
      "geo = GeoArray(basic)"
     ],
     "language": "python",
     "metadata": {},
     "outputs": [],
     "prompt_number": 90
    },
    {
     "cell_type": "code",
     "collapsed": false,
     "input": [
      "geo.mean()"
     ],
     "language": "python",
     "metadata": {},
     "outputs": [
      {
       "metadata": {},
       "output_type": "pyout",
       "prompt_number": 91,
       "text": [
        "0.78538819485364419"
       ]
      }
     ],
     "prompt_number": 91
    },
    {
     "cell_type": "markdown",
     "metadata": {},
     "source": [
      "It does little more than defining the axis attributes `weights`, here a lambda function..."
     ]
    },
    {
     "cell_type": "code",
     "collapsed": false,
     "input": [
      "geo.axes['lat'].weights"
     ],
     "language": "python",
     "metadata": {},
     "outputs": [
      {
       "metadata": {},
       "output_type": "pyout",
       "prompt_number": 92,
       "text": [
        "<function dimarray.geo.geoarray.<lambda>>"
       ]
      }
     ],
     "prompt_number": 92
    },
    {
     "cell_type": "markdown",
     "metadata": {},
     "source": [
      "that is called on every axis value when needed"
     ]
    },
    {
     "cell_type": "code",
     "collapsed": false,
     "input": [
      "geo.axes['lat'].weights(geo.lat)"
     ],
     "language": "python",
     "metadata": {},
     "outputs": [
      {
       "metadata": {},
       "output_type": "pyout",
       "prompt_number": 93,
       "text": [
        "array([ 0.00872654,  0.02617695,  0.04361939,  0.06104854,  0.0784591 ,\n",
        "        0.09584575,  0.11320321,  0.13052619,  0.14780941,  0.16504761,\n",
        "        0.18223553,  0.19936793,  0.21643961,  0.23344536,  0.25038   ,\n",
        "        0.26723838,  0.28401534,  0.3007058 ,  0.31730466,  0.33380686,\n",
        "        0.35020738,  0.36650123,  0.38268343,  0.39874907,  0.41469324,\n",
        "        0.4305111 ,  0.44619781,  0.46174861,  0.47715876,  0.49242356,\n",
        "        0.50753836,  0.52249856,  0.53729961,  0.55193699,  0.56640624,\n",
        "        0.58070296,  0.59482279,  0.60876143,  0.62251464,  0.63607822,\n",
        "        0.64944805,  0.66262005,  0.67559021,  0.68835458,  0.70090926,\n",
        "        0.71325045,  0.72537437,  0.73727734,  0.74895572,  0.76040597,\n",
        "        0.77162458,  0.78260816,  0.79335334,  0.80385686,  0.81411552,\n",
        "        0.82412619,  0.83388582,  0.84339145,  0.85264016,  0.86162916,\n",
        "        0.8703557 ,  0.87881711,  0.88701083,  0.89493436,  0.90258528,\n",
        "        0.90996127,  0.91706007,  0.92387953,  0.93041757,  0.93667219,\n",
        "        0.94264149,  0.94832366,  0.95371695,  0.95881973,  0.96363045,\n",
        "        0.96814764,  0.97236992,  0.97629601,  0.9799247 ,  0.98325491,\n",
        "        0.9862856 ,  0.98901586,  0.99144486,  0.99357186,  0.9953962 ,\n",
        "        0.99691733,  0.9981348 ,  0.99904822,  0.99965732,  0.99996192,\n",
        "        0.99996192,  0.99965732,  0.99904822,  0.9981348 ,  0.99691733,\n",
        "        0.9953962 ,  0.99357186,  0.99144486,  0.98901586,  0.9862856 ,\n",
        "        0.98325491,  0.9799247 ,  0.97629601,  0.97236992,  0.96814764,\n",
        "        0.96363045,  0.95881973,  0.95371695,  0.94832366,  0.94264149,\n",
        "        0.93667219,  0.93041757,  0.92387953,  0.91706007,  0.90996127,\n",
        "        0.90258528,  0.89493436,  0.88701083,  0.87881711,  0.8703557 ,\n",
        "        0.86162916,  0.85264016,  0.84339145,  0.83388582,  0.82412619,\n",
        "        0.81411552,  0.80385686,  0.79335334,  0.78260816,  0.77162458,\n",
        "        0.76040597,  0.74895572,  0.73727734,  0.72537437,  0.71325045,\n",
        "        0.70090926,  0.68835458,  0.67559021,  0.66262005,  0.64944805,\n",
        "        0.63607822,  0.62251464,  0.60876143,  0.59482279,  0.58070296,\n",
        "        0.56640624,  0.55193699,  0.53729961,  0.52249856,  0.50753836,\n",
        "        0.49242356,  0.47715876,  0.46174861,  0.44619781,  0.4305111 ,\n",
        "        0.41469324,  0.39874907,  0.38268343,  0.36650123,  0.35020738,\n",
        "        0.33380686,  0.31730466,  0.3007058 ,  0.28401534,  0.26723838,\n",
        "        0.25038   ,  0.23344536,  0.21643961,  0.19936793,  0.18223553,\n",
        "        0.16504761,  0.14780941,  0.13052619,  0.11320321,  0.09584575,\n",
        "        0.0784591 ,  0.06104854,  0.04361939,  0.02617695,  0.00872654])"
       ]
      }
     ],
     "prompt_number": 93
    },
    {
     "cell_type": "markdown",
     "metadata": {},
     "source": [
      "Additionally, there is a `modulo` attribute that ease indexing:"
     ]
    },
    {
     "cell_type": "code",
     "collapsed": false,
     "input": [
      "geo.axes['lon'].modulo"
     ],
     "language": "python",
     "metadata": {},
     "outputs": [
      {
       "metadata": {},
       "output_type": "pyout",
       "prompt_number": 94,
       "text": [
        "360"
       ]
      }
     ],
     "prompt_number": 94
    },
    {
     "cell_type": "code",
     "collapsed": false,
     "input": [
      "geo[:,[280.5]]"
     ],
     "language": "python",
     "metadata": {},
     "outputs": [
      {
       "metadata": {},
       "output_type": "pyout",
       "prompt_number": 95,
       "text": [
        "geoarray: 180 non-null elements (0 null)\n",
        "0 / lat (180): -89.5 to 89.5\n",
        "1 / lon (1): -79.5 to -79.5\n",
        "array(...)"
       ]
      }
     ],
     "prompt_number": 95
    },
    {
     "cell_type": "heading",
     "level": 2,
     "metadata": {},
     "source": [
      "application: warming tool"
     ]
    },
    {
     "cell_type": "markdown",
     "metadata": {},
     "source": [
      "Example of application using dimarray: http://54.72.92.185/choices"
     ]
    },
    {
     "cell_type": "heading",
     "level": 2,
     "metadata": {},
     "source": [
      "Useful links"
     ]
    },
    {
     "cell_type": "markdown",
     "metadata": {},
     "source": [
      "[An Informal Introduction to Python](https://docs.python.org/2.7/tutorial/introduction.html)\n",
      "\n",
      "[scipy.org](http://scipy.org): list major packages for scientific use\n",
      "\n",
      "[dimarray code](https://github.com/perrette/dimarray)\n",
      "\n",
      "[dimarray doc](http://dimarray.readthedocs.org)"
     ]
    }
   ],
   "metadata": {}
  }
 ]
}