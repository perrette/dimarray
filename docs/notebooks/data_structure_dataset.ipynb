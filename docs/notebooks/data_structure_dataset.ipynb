{
 "metadata": {
  "name": "",
  "signature": "sha256:d8423d9fd52ebfea0dfa00540dab65a598fd84b5fa13fbb8fc522c7ccadfcb67"
 },
 "nbformat": 3,
 "nbformat_minor": 0,
 "worksheets": [
  {
   "cells": [
    {
     "cell_type": "heading",
     "level": 2,
     "metadata": {},
     "source": [
      "Dataset"
     ]
    },
    {
     "cell_type": "markdown",
     "metadata": {},
     "source": [
      "Under construction..."
     ]
    }
   ],
   "metadata": {}
  }
 ]
}