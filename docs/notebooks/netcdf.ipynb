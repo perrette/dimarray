{
 "metadata": {
  "name": "",
  "signature": "sha256:52932585f05651928b8f0264e142a0d8703de46234d6ffdad2dde694ef0c39dc"
 },
 "nbformat": 3,
 "nbformat_minor": 0,
 "worksheets": [
  {
   "cells": [
    {
     "cell_type": "heading",
     "level": 1,
     "metadata": {},
     "source": [
      "NetCDF reading and writing"
     ]
    },
    {
     "cell_type": "heading",
     "level": 2,
     "metadata": {},
     "source": [
      "Read from one netCDF file"
     ]
    },
    {
     "cell_type": "code",
     "collapsed": false,
     "input": [
      "from dimarray import read_nc, get_datadir\n",
      "import os\n",
      "ncfile = os.path.join(get_datadir(), 'cmip5.CSIRO-Mk3-6-0.nc')  # get one netCDF file\n",
      "data = read_nc(ncfile)  # load full file\n",
      "data"
     ],
     "language": "python",
     "metadata": {},
     "outputs": [
      {
       "metadata": {},
       "output_type": "pyout",
       "prompt_number": 1,
       "text": [
        "Dataset of 2 variables\n",
        "0 / time (451): 1850 to 2300\n",
        "1 / scenario (5): u'historical' to u'rcp85'\n",
        "tsl: (u'time', u'scenario')\n",
        "temp: (u'time', u'scenario')"
       ]
      }
     ],
     "prompt_number": 1
    },
    {
     "cell_type": "markdown",
     "metadata": {},
     "source": [
      "Then access the variable of choice"
     ]
    },
    {
     "cell_type": "code",
     "collapsed": false,
     "input": [
      "%pylab\n",
      "%matplotlib inline  \n",
      "_ = data['temp'].plot()\n",
      "_ = plt.legend(loc='upper left')"
     ],
     "language": "python",
     "metadata": {},
     "outputs": [
      {
       "output_type": "stream",
       "stream": "stdout",
       "text": [
        "Using matplotlib backend: Qt4Agg\n",
        "Populating the interactive namespace from numpy and matplotlib\n"
       ]
      },
      {
       "metadata": {},
       "output_type": "display_data",
       "png": "[encoded data removed]",
       "text": [
        "<matplotlib.figure.Figure at 0x7f689dd99550>"
       ]
      }
     ],
     "prompt_number": 2
    },
    {
     "cell_type": "markdown",
     "metadata": {},
     "source": [
      "Load only one variable"
     ]
    },
    {
     "cell_type": "code",
     "collapsed": false,
     "input": [
      "data = read_nc(ncfile,'temp') # only one variable\n",
      "data = read_nc(ncfile,'temp', indices={\"time\":slice(2000,2100), \"scenario\":\"rcp45\"})  # load only a chunck of the data\n",
      "data = read_nc(ncfile,'temp', indices={\"time\":1950.3}, tol=0.5)  #  approximate matching, adjust tolerance\n",
      "data = read_nc(ncfile,'temp', indices={\"time\":-1}, indexing='position')  #  integer position indexing"
     ],
     "language": "python",
     "metadata": {},
     "outputs": [],
     "prompt_number": 3
    },
    {
     "cell_type": "heading",
     "level": 2,
     "metadata": {},
     "source": [
      " Read from multiple files"
     ]
    },
    {
     "cell_type": "markdown",
     "metadata": {},
     "source": [
      "Read variable 'temp' across multiple files (representing various climate models). \n",
      "In this case the variable is a time series, whose length may vary across experiments \n",
      "(thus align=True is passed to reindex axes before stacking). Under the hood the function \n",
      "py:func:`dimarray.stack` is called:"
     ]
    },
    {
     "cell_type": "code",
     "collapsed": false,
     "input": [
      "direc = get_datadir()\n",
      "temp = read_nc(direc+'/cmip5.*.nc', 'temp', align=True, axis='model')"
     ],
     "language": "python",
     "metadata": {},
     "outputs": [],
     "prompt_number": 4
    },
    {
     "cell_type": "markdown",
     "metadata": {},
     "source": [
      "A new 'model' axis is created labeled with file names. It is then \n",
      "possible to rename it more appropriately, e.g. keeping only the part\n",
      "directly relevant to identify the experiment:"
     ]
    },
    {
     "cell_type": "code",
     "collapsed": false,
     "input": [
      "getmodel = lambda x: os.path.basename(x).split('.')[1] # extract model name from path\n",
      "temp.set_axis(getmodel, axis='model', inplace=True) # would return a copy if inplace is not specified\n",
      "temp"
     ],
     "language": "python",
     "metadata": {},
     "outputs": [
      {
       "metadata": {},
       "output_type": "pyout",
       "prompt_number": 5,
       "text": [
        "dimarray: 9114 non-null elements (6671 null)\n",
        "0 / model (7): 'CSIRO-Mk3-6-0' to 'MPI-ESM-MR'\n",
        "1 / time (451): 1850 to 2300\n",
        "2 / scenario (5): u'historical' to u'rcp85'\n",
        "array(...)"
       ]
      }
     ],
     "prompt_number": 5
    },
    {
     "cell_type": "markdown",
     "metadata": {},
     "source": [
      "This works on datasets as well"
     ]
    },
    {
     "cell_type": "code",
     "collapsed": false,
     "input": [
      "ds = read_nc(direc+'/cmip5.*.nc', align=True, axis='model')\n",
      "ds.set_axis(getmodel, axis='model', inplace=True)\n",
      "ds"
     ],
     "language": "python",
     "metadata": {},
     "outputs": [
      {
       "metadata": {},
       "output_type": "pyout",
       "prompt_number": 6,
       "text": [
        "Dataset of 2 variables\n",
        "0 / model (7): 'CSIRO-Mk3-6-0' to 'MPI-ESM-MR'\n",
        "1 / time (451): 1850 to 2300\n",
        "2 / scenario (5): u'historical' to u'rcp85'\n",
        "tsl: ('model', u'time', u'scenario')\n",
        "temp: ('model', u'time', u'scenario')"
       ]
      }
     ],
     "prompt_number": 6
    },
    {
     "cell_type": "heading",
     "level": 2,
     "metadata": {},
     "source": [
      "Write to netCDF "
     ]
    },
    {
     "cell_type": "markdown",
     "metadata": {},
     "source": [
      "Let's define some dummy arrays representing temperature in northern and southern hemisphere for three years."
     ]
    },
    {
     "cell_type": "code",
     "collapsed": false,
     "input": [
      "from dimarray import DimArray\n",
      "temperature = DimArray([[1.,2,3], [4,5,6]], axes=[['north','south'], [1951, 1952, 1953]], dims=['lat', 'time'])\n",
      "global_mean = temperature.mean(axis='lat')  \n",
      "climatology = temperature.mean(axis='time')"
     ],
     "language": "python",
     "metadata": {},
     "outputs": [],
     "prompt_number": 7
    },
    {
     "cell_type": "markdown",
     "metadata": {},
     "source": [
      "Let's define a new dataset"
     ]
    },
    {
     "cell_type": "code",
     "collapsed": false,
     "input": [
      "from dimarray import Dataset\n",
      "ds = Dataset({'temperature':temperature, 'global':global_mean})\n",
      "ds"
     ],
     "language": "python",
     "metadata": {},
     "outputs": [
      {
       "metadata": {},
       "output_type": "pyout",
       "prompt_number": 8,
       "text": [
        "Dataset of 2 variables\n",
        "0 / time (3): 1951 to 1953\n",
        "1 / lat (2): 'north' to 'south'\n",
        "global: ('time',)\n",
        "temperature: ('lat', 'time')"
       ]
      }
     ],
     "prompt_number": 8
    },
    {
     "cell_type": "markdown",
     "metadata": {},
     "source": [
      "Saving the dataset to file is pretty simple:"
     ]
    },
    {
     "cell_type": "code",
     "collapsed": false,
     "input": [
      "ds.write_nc('/tmp/test.nc', mode='w')"
     ],
     "language": "python",
     "metadata": {},
     "outputs": [],
     "prompt_number": 9
    },
    {
     "cell_type": "markdown",
     "metadata": {},
     "source": [
      "It is possible to append more variables"
     ]
    },
    {
     "cell_type": "code",
     "collapsed": false,
     "input": [
      "climatology.write_nc('/tmp/test.nc', 'climatology', mode='a')  # by default mode='w'"
     ],
     "language": "python",
     "metadata": {},
     "outputs": [],
     "prompt_number": 10
    },
    {
     "cell_type": "markdown",
     "metadata": {},
     "source": [
      "Just as a check, all three variables seem to be there:"
     ]
    },
    {
     "cell_type": "code",
     "collapsed": false,
     "input": [
      "read_nc('/tmp/test.nc')"
     ],
     "language": "python",
     "metadata": {},
     "outputs": [
      {
       "metadata": {},
       "output_type": "pyout",
       "prompt_number": 11,
       "text": [
        "Dataset of 3 variables\n",
        "0 / time (3): 1951 to 1953\n",
        "1 / lat (2): u'north' to u'south'\n",
        "global: (u'time',)\n",
        "temperature: (u'lat', u'time')\n",
        "climatology: (u'lat',)"
       ]
      }
     ],
     "prompt_number": 11
    },
    {
     "cell_type": "markdown",
     "metadata": {},
     "source": [
      "Note that when appending a variable to a netCDF file or to a dataset, its axes must match, otherwise an error will be raised. In that case it may be necessary to reindex an axis (see :ref:`page_reindexing`). When initializing a dataset with bunch of dimarray however, reindexing is performed automatically."
     ]
    },
    {
     "cell_type": "heading",
     "level": 2,
     "metadata": {},
     "source": [
      "New NetCDF4 storage"
     ]
    },
    {
     "cell_type": "markdown",
     "metadata": {},
     "source": [
      ".. versionadded :: 0.2\n",
      "\n",
      "Since version 0.2, the methods above are a wrapper around :class:dimarray.DatasetOnDisk class, which allows lower level access with a DimArray feeling."
     ]
    },
    {
     "cell_type": "code",
     "collapsed": false,
     "input": [
      "import dimarray as da\n",
      "import numpy as np\n",
      "dima = da.DimArray([[1,2,3],[4,5,6]], axes=[('time',[2000,2045.5]),('scenario',['a','b','c'])])\n",
      "dima.units = 'myunits' # metadata \n",
      "dima.axes['time'].units = 'metadata-dim-in-memory'\n",
      "\n",
      "ds = da.open_nc('/tmp/test.nc', mode='w')\n",
      "ds['myvar'] = dima\n",
      "ds['myvar'].bla = 'bla'\n",
      "ds['myvar'].axes['time'].yo = 'metadata-dim-on-disk'\n",
      "ds.axes['scenario'].ya = 'metadata-var-on-disk'\n",
      "ds.yi = 'metadata-dataset-on-disk'\n",
      "ds.close()"
     ],
     "language": "python",
     "metadata": {},
     "outputs": [],
     "prompt_number": 12
    },
    {
     "cell_type": "markdown",
     "metadata": {},
     "source": [
      "Let's check the result:"
     ]
    },
    {
     "cell_type": "code",
     "collapsed": false,
     "input": [
      "ds2 = da.open_nc(\"/tmp/test.nc\", mode=\"a\")\n",
      "ds2"
     ],
     "language": "python",
     "metadata": {},
     "outputs": [
      {
       "metadata": {},
       "output_type": "pyout",
       "prompt_number": 13,
       "text": [
        "DatasetOnDisk of 1 variable (NETCDF4)\n",
        "0 / time (2): 2000.0 to 2045.5\n",
        "1 / scenario (3): u'a' to u'c'\n",
        "myvar: (u'time', u'scenario')"
       ]
      }
     ],
     "prompt_number": 13
    },
    {
     "cell_type": "code",
     "collapsed": false,
     "input": [
      "ds2.summary()"
     ],
     "language": "python",
     "metadata": {},
     "outputs": [
      {
       "output_type": "stream",
       "stream": "stdout",
       "text": [
        "DatasetOnDisk of 1 variable (NETCDF4)\n",
        "\n",
        "//dimensions:\n",
        "0 / time (2): 2000.0 to 2045.5\n",
        "    units: u'metadata-dim-in-memory'\n",
        "    yo: u'metadata-dim-on-disk'\n",
        "1 / scenario (3): u'a' to u'c'\n",
        "    ya: u'metadata-var-on-disk'\n",
        "\n",
        "//variables:\n",
        "myvar: (u'time', u'scenario')\n",
        "    units: u'myunits'\n",
        "    bla: u'bla'\n",
        "\n",
        "//global attributes:\n",
        "    yi: u'metadata-dataset-on-disk'\n"
       ]
      }
     ],
     "prompt_number": 14
    },
    {
     "cell_type": "code",
     "collapsed": false,
     "input": [
      "ds2['myvar']"
     ],
     "language": "python",
     "metadata": {},
     "outputs": [
      {
       "metadata": {},
       "output_type": "pyout",
       "prompt_number": 15,
       "text": [
        "DimArrayOnDisk: 'myvar' (6)\n",
        "0 / time (2): 2000.0 to 2045.5\n",
        "1 / scenario (3): u'a' to u'c'"
       ]
      }
     ],
     "prompt_number": 15
    },
    {
     "cell_type": "code",
     "collapsed": false,
     "input": [
      "ds2['myvar'].values  # doctest: +SKIP"
     ],
     "language": "python",
     "metadata": {},
     "outputs": [
      {
       "metadata": {},
       "output_type": "pyout",
       "prompt_number": 16,
       "text": [
        "<netCDF4.Variable at 0x7f68969cf440>"
       ]
      }
     ],
     "prompt_number": 16
    },
    {
     "cell_type": "code",
     "collapsed": false,
     "input": [
      "ds2['myvar'][:]"
     ],
     "language": "python",
     "metadata": {},
     "outputs": [
      {
       "metadata": {},
       "output_type": "pyout",
       "prompt_number": 17,
       "text": [
        "dimarray: 6 non-null elements (0 null)\n",
        "0 / time (2): 2000.0 to 2045.5\n",
        "1 / scenario (3): u'a' to u'c'\n",
        "array([[1, 2, 3],\n",
        "       [4, 5, 6]])"
       ]
      }
     ],
     "prompt_number": 17
    },
    {
     "cell_type": "code",
     "collapsed": false,
     "input": [
      "ds2['myvar'][2000, 'b'] = 77\n",
      "ds2['myvar'][:]"
     ],
     "language": "python",
     "metadata": {},
     "outputs": [
      {
       "metadata": {},
       "output_type": "pyout",
       "prompt_number": 18,
       "text": [
        "dimarray: 6 non-null elements (0 null)\n",
        "0 / time (2): 2000.0 to 2045.5\n",
        "1 / scenario (3): u'a' to u'c'\n",
        "array([[ 1, 77,  3],\n",
        "       [ 4,  5,  6]])"
       ]
      }
     ],
     "prompt_number": 18
    },
    {
     "cell_type": "code",
     "collapsed": false,
     "input": [
      "ds2['myvar'].ix[0, -1] = -1\n",
      "ds2['myvar'][:]"
     ],
     "language": "python",
     "metadata": {},
     "outputs": [
      {
       "metadata": {},
       "output_type": "pyout",
       "prompt_number": 19,
       "text": [
        "dimarray: 6 non-null elements (0 null)\n",
        "0 / time (2): 2000.0 to 2045.5\n",
        "1 / scenario (3): u'a' to u'c'\n",
        "array([[ 1, 77, -1],\n",
        "       [ 4,  5,  6]])"
       ]
      }
     ],
     "prompt_number": 19
    },
    {
     "cell_type": "code",
     "collapsed": false,
     "input": [
      "ds2.close()"
     ],
     "language": "python",
     "metadata": {},
     "outputs": [],
     "prompt_number": 20
    },
    {
     "cell_type": "heading",
     "level": 3,
     "metadata": {},
     "source": [
      "Create a variable with unlimited dimension"
     ]
    },
    {
     "cell_type": "code",
     "collapsed": false,
     "input": [
      "import dimarray as da\n",
      "\n",
      "ds = da.open_nc('/tmp/test.nc', 'w')\n",
      "ds.axes.append('time', None)\n",
      "print ds.nc.dimensions['time']  # underlying netCDF4 object"
     ],
     "language": "python",
     "metadata": {},
     "outputs": [
      {
       "output_type": "stream",
       "stream": "stdout",
       "text": [
        "<type 'netCDF4.Dimension'> (unlimited): name = 'time', size = 0\n",
        "\n"
       ]
      }
     ],
     "prompt_number": 24
    },
    {
     "cell_type": "markdown",
     "metadata": {},
     "source": [
      "Fill-up the variable:"
     ]
    },
    {
     "cell_type": "code",
     "collapsed": false,
     "input": [
      "ds['bla'] = da.DimArray([1,2,3,4,5], dims=['time'], axes=[list('abcde')])\n",
      "print ds.nc.dimensions['time'] # underlying netCDF4 object"
     ],
     "language": "python",
     "metadata": {},
     "outputs": [
      {
       "output_type": "stream",
       "stream": "stdout",
       "text": [
        "<type 'netCDF4.Dimension'> (unlimited): name = 'time', size = 5\n",
        "\n"
       ]
      }
     ],
     "prompt_number": 25
    },
    {
     "cell_type": "markdown",
     "metadata": {},
     "source": [
      "Append some new slices:"
     ]
    },
    {
     "cell_type": "code",
     "collapsed": false,
     "input": [
      "ds['bla'].ix[5] = da.DimArray([66], dims=['time'], axes=[['f']])\n",
      "print ds.nc.dimensions['time'] # underlying netCDF4 object"
     ],
     "language": "python",
     "metadata": {},
     "outputs": [
      {
       "output_type": "stream",
       "stream": "stdout",
       "text": [
        "<type 'netCDF4.Dimension'> (unlimited): name = 'time', size = 6\n",
        "\n"
       ]
      }
     ],
     "prompt_number": 26
    },
    {
     "cell_type": "code",
     "collapsed": false,
     "input": [
      "print ds['bla'].read()"
     ],
     "language": "python",
     "metadata": {},
     "outputs": [
      {
       "output_type": "stream",
       "stream": "stdout",
       "text": [
        "dimarray: 6 non-null elements (0 null)\n",
        "0 / time (6): u'a' to u'f'\n",
        "array([ 1,  2,  3,  4,  5, 66])\n"
       ]
      }
     ],
     "prompt_number": 28
    }
   ],
   "metadata": {}
  }
 ]
}