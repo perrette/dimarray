{
 "metadata": {
  "name": "",
  "signature": "sha256:a3080cddc55be18f19172948d949578f20d927aa8f3a62d7b9f71868c3a93772"
 },
 "nbformat": 3,
 "nbformat_minor": 0,
 "worksheets": [
  {
   "cells": [
    {
     "cell_type": "heading",
     "level": 1,
     "metadata": {},
     "source": [
      "NetCDF reading and writing"
     ]
    },
    {
     "cell_type": "heading",
     "level": 2,
     "metadata": {},
     "source": [
      "Read from one netCDF file"
     ]
    },
    {
     "cell_type": "code",
     "collapsed": false,
     "input": [
      "from dimarray import read_nc, get_datadir\n",
      "import os\n",
      "ncfile = os.path.join(get_datadir(), 'cmip5.CSIRO-Mk3-6-0.nc')  # get one netCDF file\n",
      "data = read_nc(ncfile)  # load full file\n",
      "data"
     ],
     "language": "python",
     "metadata": {},
     "outputs": [
      {
       "metadata": {},
       "output_type": "pyout",
       "prompt_number": 1,
       "text": [
        "Dataset of 2 variables\n",
        "0 / time (451): 1850 to 2300\n",
        "1 / scenario (5): historical to rcp85\n",
        "tsl: ('time', 'scenario')\n",
        "temp: ('time', 'scenario')"
       ]
      }
     ],
     "prompt_number": 1
    },
    {
     "cell_type": "markdown",
     "metadata": {},
     "source": [
      "Then access the variable of choice"
     ]
    },
    {
     "cell_type": "code",
     "collapsed": false,
     "input": [
      "%matplotlib inline  \n",
      "data['temp'].plot()"
     ],
     "language": "python",
     "metadata": {},
     "outputs": [
      {
       "metadata": {},
       "output_type": "pyout",
       "prompt_number": 2,
       "text": [
        "<matplotlib.axes.AxesSubplot at 0x7fd3ca039610>"
       ]
      },
      {
       "metadata": {},
       "output_type": "display_data",
       "png": "[encoded data removed]",
       "text": [
        "<matplotlib.figure.Figure at 0x7fd3ca039290>"
       ]
      }
     ],
     "prompt_number": 2
    },
    {
     "cell_type": "markdown",
     "metadata": {},
     "source": [
      "Load only one variable"
     ]
    },
    {
     "cell_type": "code",
     "collapsed": false,
     "input": [
      "data = read_nc(ncfile,'temp') # only one variable\n",
      "data = read_nc(ncfile,'temp', indices={\"time\":slice(2000,2100), \"scenario\":\"rcp45\"})  # load only a chunck of the data\n",
      "data = read_nc(ncfile,'temp', indices={\"time\":1950.3}, tol=0.5)  #  approximate matching, adjust tolerance\n",
      "data = read_nc(ncfile,'temp', indices={\"time\":-1}, indexing='position')  #  integer position indexing"
     ],
     "language": "python",
     "metadata": {},
     "outputs": [],
     "prompt_number": 3
    },
    {
     "cell_type": "heading",
     "level": 2,
     "metadata": {},
     "source": [
      " Read from multiple files"
     ]
    },
    {
     "cell_type": "markdown",
     "metadata": {},
     "source": [
      "Read variable 'temp' across multiple files (representing various climate models). \n",
      "In this case the variable is a time series, whose length may vary across experiments \n",
      "(thus align=True is passed to reindex axes before stacking). Under the hood the function \n",
      "py:func:`dimarray.stack` is called:"
     ]
    },
    {
     "cell_type": "code",
     "collapsed": false,
     "input": [
      "direc = get_datadir()\n",
      "temp = read_nc(direc+'/cmip5.*.nc', 'temp', align=True, axis='model')"
     ],
     "language": "python",
     "metadata": {},
     "outputs": [],
     "prompt_number": 4
    },
    {
     "cell_type": "markdown",
     "metadata": {},
     "source": [
      "A new 'model' axis is created labeled with file names. It is then \n",
      "possible to rename it more appropriately, e.g. keeping only the part\n",
      "directly relevant to identify the experiment:"
     ]
    },
    {
     "cell_type": "code",
     "collapsed": false,
     "input": [
      "getmodel = lambda x: os.path.basename(x).split('.')[1] # extract model name from path\n",
      "temp.set_axis(getmodel, axis='model', inplace=True) # would return a copy if inplace is not specified\n",
      "temp"
     ],
     "language": "python",
     "metadata": {},
     "outputs": [
      {
       "metadata": {},
       "output_type": "pyout",
       "prompt_number": 5,
       "text": [
        "dimarray: 9114 non-null elements (6671 null)\n",
        "0 / model (7): CSIRO-Mk3-6-0 to MPI-ESM-MR\n",
        "1 / time (451): 1850 to 2300\n",
        "2 / scenario (5): historical to rcp85\n",
        "array(...)"
       ]
      }
     ],
     "prompt_number": 5
    },
    {
     "cell_type": "markdown",
     "metadata": {},
     "source": [
      "This works on datasets as well"
     ]
    },
    {
     "cell_type": "code",
     "collapsed": false,
     "input": [
      "ds = read_nc(direc+'/cmip5.*.nc', align=True, axis='model')\n",
      "ds.set_axis(getmodel, axis='model', inplace=True)\n",
      "ds"
     ],
     "language": "python",
     "metadata": {},
     "outputs": [
      {
       "metadata": {},
       "output_type": "pyout",
       "prompt_number": 6,
       "text": [
        "Dataset of 2 variables\n",
        "0 / model (7): CSIRO-Mk3-6-0 to MPI-ESM-MR\n",
        "1 / time (451): 1850 to 2300\n",
        "2 / scenario (5): historical to rcp85\n",
        "tsl: ('model', 'time', 'scenario')\n",
        "temp: ('model', 'time', 'scenario')"
       ]
      }
     ],
     "prompt_number": 6
    },
    {
     "cell_type": "heading",
     "level": 2,
     "metadata": {},
     "source": [
      "Write to netCDF "
     ]
    },
    {
     "cell_type": "markdown",
     "metadata": {},
     "source": [
      "Let's define some dummy arrays representing temperature in northern and southern hemisphere for three years."
     ]
    },
    {
     "cell_type": "code",
     "collapsed": false,
     "input": [
      "from dimarray import DimArray\n",
      "temperature = DimArray([[1.,2,3], [4,5,6]], axes=[['north','south'], [1951, 1952, 1953]], dims=['lat', 'time'])\n",
      "global_mean = temperature.mean(axis='lat')  \n",
      "climatology = temperature.mean(axis='time')"
     ],
     "language": "python",
     "metadata": {},
     "outputs": [],
     "prompt_number": 7
    },
    {
     "cell_type": "markdown",
     "metadata": {},
     "source": [
      "Let's define a new dataset"
     ]
    },
    {
     "cell_type": "code",
     "collapsed": false,
     "input": [
      "from dimarray import Dataset\n",
      "ds = Dataset({'temperature':temperature, 'global':global_mean})\n",
      "ds"
     ],
     "language": "python",
     "metadata": {},
     "outputs": [
      {
       "metadata": {},
       "output_type": "pyout",
       "prompt_number": 8,
       "text": [
        "Dataset of 2 variables\n",
        "0 / time (3): 1951 to 1953\n",
        "1 / lat (2): north to south\n",
        "global: ('time',)\n",
        "temperature: ('lat', 'time')"
       ]
      }
     ],
     "prompt_number": 8
    },
    {
     "cell_type": "markdown",
     "metadata": {},
     "source": [
      "Saving the dataset to file is pretty simple:"
     ]
    },
    {
     "cell_type": "code",
     "collapsed": false,
     "input": [
      "ds.write_nc('/tmp/test.nc', mode='w')"
     ],
     "language": "python",
     "metadata": {},
     "outputs": [],
     "prompt_number": 9
    },
    {
     "cell_type": "markdown",
     "metadata": {},
     "source": [
      "It is possible to append more variables"
     ]
    },
    {
     "cell_type": "code",
     "collapsed": false,
     "input": [
      "climatology.write_nc('/tmp/test.nc', 'climatology')  # by default mode='a+'"
     ],
     "language": "python",
     "metadata": {},
     "outputs": [],
     "prompt_number": 10
    },
    {
     "cell_type": "markdown",
     "metadata": {},
     "source": [
      "Just as a check, all three variables seem to be there:"
     ]
    },
    {
     "cell_type": "code",
     "collapsed": false,
     "input": [
      "read_nc('/tmp/test.nc')"
     ],
     "language": "python",
     "metadata": {},
     "outputs": [
      {
       "metadata": {},
       "output_type": "pyout",
       "prompt_number": 11,
       "text": [
        "Dataset of 3 variables\n",
        "0 / time (3): 1951 to 1953\n",
        "1 / lat (2): north to south\n",
        "global: ('time',)\n",
        "temperature: ('lat', 'time')\n",
        "climatology: ('lat',)"
       ]
      }
     ],
     "prompt_number": 11
    },
    {
     "cell_type": "markdown",
     "metadata": {},
     "source": [
      "Note that when appending a variable to a netCDF file or to a dataset, its axes must match, otherwise an error will be raised. In that case it may be necessary to reindex an axis (see :ref:`page_reindexing`). When initializing a dataset with bunch of dimarray however, reindexing is performed automatically."
     ]
    }
   ],
   "metadata": {}
  }
 ]
}
