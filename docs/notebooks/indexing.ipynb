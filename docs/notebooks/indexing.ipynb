{
 "cells": [
  {
   "cell_type": "markdown",
   "metadata": {},
   "source": [
    "# Advanced Indexing"
   ]
  },
  {
   "cell_type": "markdown",
   "metadata": {},
   "source": [
    "Let's first define an array to test indexing"
   ]
  },
  {
   "cell_type": "code",
   "execution_count": 1,
   "metadata": {
    "collapsed": false
   },
   "outputs": [],
   "source": [
    "from dimarray import DimArray"
   ]
  },
  {
   "cell_type": "code",
   "execution_count": 2,
   "metadata": {
    "collapsed": false
   },
   "outputs": [
    {
     "data": {
      "text/plain": [
       "dimarray: 8 non-null elements (0 null)\n",
       "0 / x0 (4): 'a' to 'd'\n",
       "1 / x1 (2): 10.0 to 20.0\n",
       "array([[ 1.,  2.],\n",
       "       [ 3.,  4.],\n",
       "       [ 5.,  6.],\n",
       "       [ 7.,  8.]])"
      ]
     },
     "execution_count": 2,
     "metadata": {},
     "output_type": "execute_result"
    }
   ],
   "source": [
    "v = DimArray([[1,2],[3,4],[5,6],[7,8]], axes=[[\"a\",\"b\",\"c\",\"d\"], [10.,20.]], dims=['x0','x1'], dtype=float) \n",
    "v"
   ]
  },
  {
   "cell_type": "markdown",
   "metadata": {},
   "source": [
    "## Basics: integer, array, slice"
   ]
  },
  {
   "cell_type": "markdown",
   "metadata": {},
   "source": [
    "There are various ways of indexing a DimArray, and all follow numpy's rules, except that in the default behaviour indices refer to axis values and not to position on the axis, in contrast to numpy. "
   ]
  },
  {
   "cell_type": "code",
   "execution_count": 3,
   "metadata": {
    "collapsed": false
   },
   "outputs": [
    {
     "data": {
      "text/plain": [
       "2.0"
      ]
     },
     "execution_count": 3,
     "metadata": {},
     "output_type": "execute_result"
    }
   ],
   "source": [
    "v['a',20]  # extract a single item"
   ]
  },
  {
   "cell_type": "markdown",
   "metadata": {},
   "source": [
    "The `ix` attrubutes is the pendant for position (integer) indexing (and exclusively so !). It is therefore similar to indexing on the `values` attribute, except that it returns a new DimArray, where v.values[...] would return a numpy ndarray."
   ]
  },
  {
   "cell_type": "code",
   "execution_count": 4,
   "metadata": {
    "collapsed": false
   },
   "outputs": [
    {
     "data": {
      "text/plain": [
       "dimarray: 2 non-null elements (0 null)\n",
       "0 / x1 (2): 10.0 to 20.0\n",
       "array([ 1.,  2.])"
      ]
     },
     "execution_count": 4,
     "metadata": {},
     "output_type": "execute_result"
    }
   ],
   "source": [
    "v.ix[0,:]"
   ]
  },
  {
   "cell_type": "markdown",
   "metadata": {},
   "source": [
    "Note that the last element of slices is INCLUDED, contrary to numpy's position indexing. Step argument is always intrepreted as an integer."
   ]
  },
  {
   "cell_type": "code",
   "execution_count": 5,
   "metadata": {
    "collapsed": false
   },
   "outputs": [
    {
     "data": {
      "text/plain": [
       "dimarray: 3 non-null elements (0 null)\n",
       "0 / x0 (3): 'a' to 'c'\n",
       "array([ 1.,  3.,  5.])"
      ]
     },
     "execution_count": 5,
     "metadata": {},
     "output_type": "execute_result"
    }
   ],
   "source": [
    "v['a':'c',10]  # 'c' is INCLUDED"
   ]
  },
  {
   "cell_type": "code",
   "execution_count": 6,
   "metadata": {
    "collapsed": false
   },
   "outputs": [
    {
     "data": {
      "text/plain": [
       "dimarray: 2 non-null elements (0 null)\n",
       "0 / x0 (2): 'a' to 'c'\n",
       "array([ 1.,  5.])"
      ]
     },
     "execution_count": 6,
     "metadata": {},
     "output_type": "execute_result"
    }
   ],
   "source": [
    "v[['a','c'],10]  # it is possible to provide a list"
   ]
  },
  {
   "cell_type": "code",
   "execution_count": 7,
   "metadata": {
    "collapsed": false
   },
   "outputs": [
    {
     "data": {
      "text/plain": [
       "dimarray: 3 non-null elements (0 null)\n",
       "0 / x0 (3): 'a' to 'd'\n",
       "array([ 1.,  5.,  7.])"
      ]
     },
     "execution_count": 7,
     "metadata": {},
     "output_type": "execute_result"
    }
   ],
   "source": [
    "v[v.x0 != 'b',10]  # boolean indexing is also fine"
   ]
  },
  {
   "cell_type": "markdown",
   "metadata": {},
   "source": [
    "If several array-like indices are provided, \"orthogonal\" indexing is performed, along each dimension independently:"
   ]
  },
  {
   "cell_type": "code",
   "execution_count": 8,
   "metadata": {
    "collapsed": false
   },
   "outputs": [
    {
     "data": {
      "text/plain": [
       "dimarray: 4 non-null elements (0 null)\n",
       "0 / x0 (2): 'a' to 'c'\n",
       "1 / x1 (2): 10.0 to 20.0\n",
       "array([[ 1.,  2.],\n",
       "       [ 5.,  6.]])"
      ]
     },
     "execution_count": 8,
     "metadata": {},
     "output_type": "execute_result"
    }
   ],
   "source": [
    "v[['a','c'],[10,20]]  # it is possible to provide a list"
   ]
  },
  {
   "cell_type": "markdown",
   "metadata": {},
   "source": [
    " See below for the cases where you do need numpy-like index broadcasting, using the `take` method."
   ]
  },
  {
   "cell_type": "markdown",
   "metadata": {},
   "source": [
    "## Modify array values"
   ]
  },
  {
   "cell_type": "markdown",
   "metadata": {},
   "source": [
    "All the above can be used to change array values, consistently with what you would expect. "
   ]
  },
  {
   "cell_type": "code",
   "execution_count": 9,
   "metadata": {
    "collapsed": false
   },
   "outputs": [
    {
     "data": {
      "text/plain": [
       "dimarray: 8 non-null elements (0 null)\n",
       "0 / x0 (4): 'a' to 'd'\n",
       "1 / x1 (2): 10.0 to 20.0\n",
       "array([[ 11.,  33.],\n",
       "       [ 11.,  44.],\n",
       "       [ 11.,  22.],\n",
       "       [  7.,   8.]])"
      ]
     },
     "execution_count": 9,
     "metadata": {},
     "output_type": "execute_result"
    }
   ],
   "source": [
    "v['a':'c',10] = 11\n",
    "v.ix[2, -1] = 22   # same as v.values[2, -1] = 44\n",
    "v[v == 2] = 33\n",
    "v[v.x0 == 'b', v.x1 == 20] = 44\n",
    "v"
   ]
  },
  {
   "cell_type": "markdown",
   "metadata": {},
   "source": [
    "## take and put methods"
   ]
  },
  {
   "cell_type": "markdown",
   "metadata": {},
   "source": [
    "These two methods :py:meth:`dimarray.DimArray.put` and :py:meth:`dimarray.DimArray.take` are the machinery to accessing and modifying items in the examples above.\n",
    "They may be useful to use directly for generic programming. \n",
    "They are similar to numpy methods of the same name, but also work in multiple dimensions.\n",
    "In particular, they both take dictionary, tuples and boolean arrays as `indices` argument."
   ]
  },
  {
   "cell_type": "code",
   "execution_count": 10,
   "metadata": {
    "collapsed": false
   },
   "outputs": [],
   "source": [
    "v = DimArray([[1,2],[3,4],[5,6],[7,8]], labels=[[\"a\",\"b\",\"c\",\"d\"], [10.,20.]], dims=['x0','x1'], dtype=float) "
   ]
  },
  {
   "cell_type": "code",
   "execution_count": 11,
   "metadata": {
    "collapsed": false
   },
   "outputs": [
    {
     "data": {
      "text/plain": [
       "dimarray: 4 non-null elements (0 null)\n",
       "0 / x0 (4): 'a' to 'd'\n",
       "array([ 1.,  3.,  5.,  7.])"
      ]
     },
     "execution_count": 11,
     "metadata": {},
     "output_type": "execute_result"
    }
   ],
   "source": [
    "import numpy as np\n",
    "v[:,10]  # doctest: +SKIP\n",
    "v.take(10, axis=1)  # doctest: +SKIP\n",
    "v.take(10, axis='x1')  # doctest: +SKIP\n",
    "v.take({'x1':10}) # dict  # doctest: +SKIP\n",
    "v.take((slice(None),10)) # tuple # doctest: +SKIP"
   ]
  },
  {
   "cell_type": "markdown",
   "metadata": {},
   "source": [
    "The two latter forms, `tuple` or `dict`, allow performing multi-indexing. Array broadcasting is controlled by \"broadcast\" parameter."
   ]
  },
  {
   "cell_type": "code",
   "execution_count": 12,
   "metadata": {
    "collapsed": false
   },
   "outputs": [
    {
     "data": {
      "text/plain": [
       "dimarray: 2 non-null elements (0 null)\n",
       "0 / x0,x1 (2): ('a', '10.0') to ('b', '20.0')\n",
       "array([ 1.,  4.])"
      ]
     },
     "execution_count": 12,
     "metadata": {},
     "output_type": "execute_result"
    }
   ],
   "source": [
    "v.take({'x0':['a','b'], 'x1':[10, 20]}, broadcast=True) "
   ]
  },
  {
   "cell_type": "code",
   "execution_count": 13,
   "metadata": {
    "collapsed": false
   },
   "outputs": [
    {
     "data": {
      "text/plain": [
       "dimarray: 4 non-null elements (0 null)\n",
       "0 / x0 (2): 'a' to 'b'\n",
       "1 / x1 (2): 10.0 to 20.0\n",
       "array([[ 1.,  2.],\n",
       "       [ 3.,  4.]])"
      ]
     },
     "execution_count": 13,
     "metadata": {},
     "output_type": "execute_result"
    }
   ],
   "source": [
    "v.take({'x0':['a','b'], 'x1':[10, 20]}, broadcast=False)  #  same as v.box[['a','b'],[10, 20]]"
   ]
  },
  {
   "cell_type": "markdown",
   "metadata": {},
   "source": [
    "The 'indexing' parameter can be set to `position` (same as `ix`) instead of `values`"
   ]
  },
  {
   "cell_type": "code",
   "execution_count": 14,
   "metadata": {
    "collapsed": false
   },
   "outputs": [
    {
     "data": {
      "text/plain": [
       "dimarray: 4 non-null elements (0 null)\n",
       "0 / x0 (4): 'a' to 'd'\n",
       "array([ 1.,  3.,  5.,  7.])"
      ]
     },
     "execution_count": 14,
     "metadata": {},
     "output_type": "execute_result"
    }
   ],
   "source": [
    "v.take(0, axis=1, indexing='position')"
   ]
  },
  {
   "cell_type": "markdown",
   "metadata": {},
   "source": [
    "Note the `put` command modifies values in-place by default, unless `inplace=False`."
   ]
  },
  {
   "cell_type": "code",
   "execution_count": 15,
   "metadata": {
    "collapsed": false
   },
   "outputs": [
    {
     "data": {
      "text/plain": [
       "dimarray: 8 non-null elements (0 null)\n",
       "0 / x0 (4): 'a' to 'd'\n",
       "1 / x1 (2): 10.0 to 20.0\n",
       "array([[-99.,   2.],\n",
       "       [-99.,   4.],\n",
       "       [-99.,   6.],\n",
       "       [-99.,   8.]])"
      ]
     },
     "execution_count": 15,
     "metadata": {},
     "output_type": "execute_result"
    }
   ],
   "source": [
    "v.put(indices=10, values=-99, axis='x1', inplace=False)"
   ]
  }
 ],
 "metadata": {},
 "nbformat": 4,
 "nbformat_minor": 0
}