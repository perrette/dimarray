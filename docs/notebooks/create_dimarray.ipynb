{
 "metadata": {
  "name": "",
  "signature": "sha256:100de135d7f8332c10e5cdff094b8a30ec5cc59bab933a9f3642164ad5f24c74"
 },
 "nbformat": 3,
 "nbformat_minor": 0,
 "worksheets": [
  {
   "cells": [
    {
     "cell_type": "heading",
     "level": 1,
     "metadata": {},
     "source": [
      "Create a dimarray"
     ]
    },
    {
     "cell_type": "markdown",
     "metadata": {},
     "source": [
      "There are various ways of defining a DimArray instance. "
     ]
    },
    {
     "cell_type": "heading",
     "level": 2,
     "metadata": {},
     "source": [
      "Standard definition"
     ]
    },
    {
     "cell_type": "markdown",
     "metadata": {},
     "source": [
      "Provide a list of axis values (`axes=` parameter) and a list of axis names (`dims=`) parameter. "
     ]
    },
    {
     "cell_type": "code",
     "collapsed": false,
     "input": [
      "from dimarray import DimArray\n",
      "a = DimArray([[1.,2,3], [4,5,6]], axes=[['a', 'b'], [1950, 1960, 1970]], dims=['variable', 'time'])\n",
      "a"
     ],
     "language": "python",
     "metadata": {},
     "outputs": [
      {
       "metadata": {},
       "output_type": "pyout",
       "prompt_number": 1,
       "text": [
        "dimarray: 6 non-null elements (0 null)\n",
        "dimensions: 'variable', 'time'\n",
        "0 / variable (2): a to b\n",
        "1 / time (3): 1950 to 1970\n",
        "array([[ 1.,  2.,  3.],\n",
        "       [ 4.,  5.,  6.]])"
       ]
      }
     ],
     "prompt_number": 1
    },
    {
     "cell_type": "heading",
     "level": 2,
     "metadata": {},
     "source": [
      "List of tuples"
     ]
    },
    {
     "cell_type": "markdown",
     "metadata": {},
     "source": [
      "DimArray axes can also be initialized via a list of tuples (axis name, axis values):"
     ]
    },
    {
     "cell_type": "code",
     "collapsed": false,
     "input": [
      "a = DimArray([[1.,2,3], [4,5,6]], axes=[('variable', ['a', 'b']), ('time', [1950, 1960, 1970])])\n",
      "a"
     ],
     "language": "python",
     "metadata": {},
     "outputs": [
      {
       "metadata": {},
       "output_type": "pyout",
       "prompt_number": 2,
       "text": [
        "dimarray: 6 non-null elements (0 null)\n",
        "dimensions: 'variable', 'time'\n",
        "0 / variable (2): a to b\n",
        "1 / time (3): 1950 to 1970\n",
        "array([[ 1.,  2.,  3.],\n",
        "       [ 4.,  5.,  6.]])"
       ]
      }
     ],
     "prompt_number": 2
    }
   ],
   "metadata": {}
  }
 ]
}