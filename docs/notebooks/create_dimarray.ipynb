{
 "metadata": {
  "name": "",
  "signature": "sha256:8aba64aecdecf642f5cba4ab87eee094334151bda6bc9a9b028279e7fdb46704"
 },
 "nbformat": 3,
 "nbformat_minor": 0,
 "worksheets": [
  {
   "cells": [
    {
     "cell_type": "heading",
     "level": 1,
     "metadata": {},
     "source": [
      "Create a dimarray"
     ]
    },
    {
     "cell_type": "markdown",
     "metadata": {},
     "source": [
      "There are various ways of defining a DimArray instance. "
     ]
    },
    {
     "cell_type": "heading",
     "level": 2,
     "metadata": {},
     "source": [
      "Standard definition"
     ]
    },
    {
     "cell_type": "markdown",
     "metadata": {},
     "source": [
      "Provide a list of axis values (`axes=` parameter) and a list of axis names (`dims=`) parameter. "
     ]
    },
    {
     "cell_type": "code",
     "collapsed": false,
     "input": [
      "from dimarray import DimArray\n",
      "a = DimArray([[1.,2,3], [4,5,6]], axes=[['a', 'b'], [1950, 1960, 1970]], dims=['variable', 'time'])\n",
      "a"
     ],
     "language": "python",
     "metadata": {},
     "outputs": [
      {
       "metadata": {},
       "output_type": "pyout",
       "prompt_number": 1,
       "text": [
        "dimarray: 6 non-null elements (0 null)\n",
        "0 / variable (2): a to b\n",
        "1 / time (3): 1950 to 1970\n",
        "array([[ 1.,  2.,  3.],\n",
        "       [ 4.,  5.,  6.]])"
       ]
      }
     ],
     "prompt_number": 1
    },
    {
     "cell_type": "heading",
     "level": 2,
     "metadata": {},
     "source": [
      "List of tuples"
     ]
    },
    {
     "cell_type": "markdown",
     "metadata": {},
     "source": [
      "DimArray axes can also be initialized via a list of tuples (axis name, axis values):"
     ]
    },
    {
     "cell_type": "code",
     "collapsed": false,
     "input": [
      "a = DimArray([[1.,2,3], [4,5,6]], axes=[('variable', ['a', 'b']), ('time', [1950, 1960, 1970])])\n",
      "a"
     ],
     "language": "python",
     "metadata": {},
     "outputs": [
      {
       "metadata": {},
       "output_type": "pyout",
       "prompt_number": 2,
       "text": [
        "dimarray: 6 non-null elements (0 null)\n",
        "0 / variable (2): a to b\n",
        "1 / time (3): 1950 to 1970\n",
        "array([[ 1.,  2.,  3.],\n",
        "       [ 4.,  5.,  6.]])"
       ]
      }
     ],
     "prompt_number": 2
    },
    {
     "cell_type": "heading",
     "level": 2,
     "metadata": {},
     "source": [
      "Recursive definition : dict of dict"
     ]
    },
    {
     "cell_type": "markdown",
     "metadata": {},
     "source": [
      ".. versionadded :: 0.1.8\n",
      "\n",
      "It is possible to define a dimarray as a dictionary of dictionary. The only additional parameter needed is a list of dimension names, that should correspond to the dictionary's depth. "
     ]
    },
    {
     "cell_type": "code",
     "collapsed": false,
     "input": [
      "dict_ = {'a': {1:11,\n",
      "               2:22,\n",
      "               3:33},\n",
      "         'b': {1:111,\n",
      "               2:222,\n",
      "               3:333} }\n",
      "\n",
      "DimArray(dict_, dims=['dim1','dim2'])"
     ],
     "language": "python",
     "metadata": {},
     "outputs": [
      {
       "metadata": {},
       "output_type": "pyout",
       "prompt_number": 3,
       "text": [
        "dimarray: 6 non-null elements (0 null)\n",
        "0 / dim1 (2): a to b\n",
        "1 / dim2 (3): 1 to 3\n",
        "array([[ 11,  22,  33],\n",
        "       [111, 222, 333]])"
       ]
      }
     ],
     "prompt_number": 3
    }
   ],
   "metadata": {}
  }
 ]
}