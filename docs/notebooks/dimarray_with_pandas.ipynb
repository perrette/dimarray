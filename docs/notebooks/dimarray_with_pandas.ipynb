{
 "metadata": {
  "name": ""
 },
 "nbformat": 3,
 "nbformat_minor": 0,
 "worksheets": [
  {
   "cells": [
    {
     "cell_type": "heading",
     "level": 2,
     "metadata": {},
     "source": [
      "Reading a file with pandas and import into dimarray"
     ]
    },
    {
     "cell_type": "markdown",
     "metadata": {},
     "source": [
      "The data represent fit of Greenland ice sheet melting as a function of global \n",
      "mean temperature, obtained from: http://www.met.rdg.ac.uk/~jonathan/data/ar4_ice_sheet_smb.html\n",
      "(IPCC AR4, based on Gregory and Huybrechts, 2006, slightly outdated now but used here for the sake of the example)"
     ]
    },
    {
     "cell_type": "code",
     "collapsed": false,
     "input": [
      "import numpy as np\n",
      "import pandas as pd\n",
      "import dimarray as da"
     ],
     "language": "python",
     "metadata": {},
     "outputs": [],
     "prompt_number": 1
    },
    {
     "cell_type": "markdown",
     "metadata": {},
     "source": [
      "Read data:"
     ]
    },
    {
     "cell_type": "code",
     "collapsed": false,
     "input": [
      "df = pd.read_csv ('polyfits_greenland.dat', sep=\" *\", header=None, names=['a','b','c','GCM','HiRes'], skiprows=3)\n",
      "print 'shape:', df.shape\n",
      "df.iloc[:8]  # display first 8 rows"
     ],
     "language": "python",
     "metadata": {},
     "outputs": [
      {
       "output_type": "stream",
       "stream": "stdout",
       "text": [
        "shape: (72, 5)\n"
       ]
      },
      {
       "html": [
        "<div style=\"max-height:1000px;max-width:1500px;overflow:auto;\">\n",
        "<table border=\"1\" class=\"dataframe\">\n",
        "  <thead>\n",
        "    <tr style=\"text-align: right;\">\n",
        "      <th></th>\n",
        "      <th>a</th>\n",
        "      <th>b</th>\n",
        "      <th>c</th>\n",
        "      <th>GCM</th>\n",
        "      <th>HiRes</th>\n",
        "    </tr>\n",
        "  </thead>\n",
        "  <tbody>\n",
        "    <tr>\n",
        "      <th>0</th>\n",
        "      <td> 0.00735</td>\n",
        "      <td> 0.07831</td>\n",
        "      <td> 0.03819</td>\n",
        "      <td>       bccr_bcm2_0</td>\n",
        "      <td>          ECHAM4</td>\n",
        "    </tr>\n",
        "    <tr>\n",
        "      <th>1</th>\n",
        "      <td> 0.01111</td>\n",
        "      <td> 0.05073</td>\n",
        "      <td> 0.03384</td>\n",
        "      <td>       bccr_bcm2_0</td>\n",
        "      <td>          ECHAM5</td>\n",
        "    </tr>\n",
        "    <tr>\n",
        "      <th>2</th>\n",
        "      <td> 0.00630</td>\n",
        "      <td> 0.09292</td>\n",
        "      <td> 0.04120</td>\n",
        "      <td>       bccr_bcm2_0</td>\n",
        "      <td>         HadAM3H</td>\n",
        "    </tr>\n",
        "    <tr>\n",
        "      <th>3</th>\n",
        "      <td> 0.00635</td>\n",
        "      <td> 0.12761</td>\n",
        "      <td> 0.05857</td>\n",
        "      <td>       bccr_bcm2_0</td>\n",
        "      <td> MIROC3.2(hires)</td>\n",
        "    </tr>\n",
        "    <tr>\n",
        "      <th>4</th>\n",
        "      <td> 0.04127</td>\n",
        "      <td>-0.07570</td>\n",
        "      <td> 0.06731</td>\n",
        "      <td> cccma_cgcm3_1_t47</td>\n",
        "      <td>          ECHAM4</td>\n",
        "    </tr>\n",
        "    <tr>\n",
        "      <th>5</th>\n",
        "      <td> 0.02733</td>\n",
        "      <td>-0.06201</td>\n",
        "      <td> 0.04503</td>\n",
        "      <td> cccma_cgcm3_1_t47</td>\n",
        "      <td>          ECHAM5</td>\n",
        "    </tr>\n",
        "    <tr>\n",
        "      <th>6</th>\n",
        "      <td> 0.03029</td>\n",
        "      <td>-0.02258</td>\n",
        "      <td> 0.05704</td>\n",
        "      <td> cccma_cgcm3_1_t47</td>\n",
        "      <td>         HadAM3H</td>\n",
        "    </tr>\n",
        "    <tr>\n",
        "      <th>7</th>\n",
        "      <td> 0.04510</td>\n",
        "      <td>-0.03558</td>\n",
        "      <td> 0.08800</td>\n",
        "      <td> cccma_cgcm3_1_t47</td>\n",
        "      <td> MIROC3.2(hires)</td>\n",
        "    </tr>\n",
        "  </tbody>\n",
        "</table>\n",
        "<p>8 rows \u00d7 5 columns</p>\n",
        "</div>"
       ],
       "metadata": {},
       "output_type": "pyout",
       "prompt_number": 2,
       "text": [
        "         a        b        c                GCM            HiRes\n",
        "0  0.00735  0.07831  0.03819        bccr_bcm2_0           ECHAM4\n",
        "1  0.01111  0.05073  0.03384        bccr_bcm2_0           ECHAM5\n",
        "2  0.00630  0.09292  0.04120        bccr_bcm2_0          HadAM3H\n",
        "3  0.00635  0.12761  0.05857        bccr_bcm2_0  MIROC3.2(hires)\n",
        "4  0.04127 -0.07570  0.06731  cccma_cgcm3_1_t47           ECHAM4\n",
        "5  0.02733 -0.06201  0.04503  cccma_cgcm3_1_t47           ECHAM5\n",
        "6  0.03029 -0.02258  0.05704  cccma_cgcm3_1_t47          HadAM3H\n",
        "7  0.04510 -0.03558  0.08800  cccma_cgcm3_1_t47  MIROC3.2(hires)\n",
        "\n",
        "[8 rows x 5 columns]"
       ]
      }
     ],
     "prompt_number": 2
    },
    {
     "cell_type": "markdown",
     "metadata": {},
     "source": [
      "Two types of models are used: 18 general circulation models (coarse resolution, global domain) and 4 high-resulution regional models. \n",
      "Pandas' `set_index` method is convenient to \"factorize\" the data (but remains 2-D)."
     ]
    },
    {
     "cell_type": "code",
     "collapsed": false,
     "input": [
      "df2 = df.set_index(['GCM','HiRes'])\n",
      "df2.columns.name = 'coef' # column name\n",
      "df2.ix[:8] # display first 8 rows"
     ],
     "language": "python",
     "metadata": {},
     "outputs": [
      {
       "html": [
        "<div style=\"max-height:1000px;max-width:1500px;overflow:auto;\">\n",
        "<table border=\"1\" class=\"dataframe\">\n",
        "  <thead>\n",
        "    <tr style=\"text-align: right;\">\n",
        "      <th></th>\n",
        "      <th>coef</th>\n",
        "      <th>a</th>\n",
        "      <th>b</th>\n",
        "      <th>c</th>\n",
        "    </tr>\n",
        "    <tr>\n",
        "      <th>GCM</th>\n",
        "      <th>HiRes</th>\n",
        "      <th></th>\n",
        "      <th></th>\n",
        "      <th></th>\n",
        "    </tr>\n",
        "  </thead>\n",
        "  <tbody>\n",
        "    <tr>\n",
        "      <th rowspan=\"4\" valign=\"top\">bccr_bcm2_0</th>\n",
        "      <th>ECHAM4</th>\n",
        "      <td> 0.00735</td>\n",
        "      <td> 0.07831</td>\n",
        "      <td> 0.03819</td>\n",
        "    </tr>\n",
        "    <tr>\n",
        "      <th>ECHAM5</th>\n",
        "      <td> 0.01111</td>\n",
        "      <td> 0.05073</td>\n",
        "      <td> 0.03384</td>\n",
        "    </tr>\n",
        "    <tr>\n",
        "      <th>HadAM3H</th>\n",
        "      <td> 0.00630</td>\n",
        "      <td> 0.09292</td>\n",
        "      <td> 0.04120</td>\n",
        "    </tr>\n",
        "    <tr>\n",
        "      <th>MIROC3.2(hires)</th>\n",
        "      <td> 0.00635</td>\n",
        "      <td> 0.12761</td>\n",
        "      <td> 0.05857</td>\n",
        "    </tr>\n",
        "    <tr>\n",
        "      <th rowspan=\"4\" valign=\"top\">cccma_cgcm3_1_t47</th>\n",
        "      <th>ECHAM4</th>\n",
        "      <td> 0.04127</td>\n",
        "      <td>-0.07570</td>\n",
        "      <td> 0.06731</td>\n",
        "    </tr>\n",
        "    <tr>\n",
        "      <th>ECHAM5</th>\n",
        "      <td> 0.02733</td>\n",
        "      <td>-0.06201</td>\n",
        "      <td> 0.04503</td>\n",
        "    </tr>\n",
        "    <tr>\n",
        "      <th>HadAM3H</th>\n",
        "      <td> 0.03029</td>\n",
        "      <td>-0.02258</td>\n",
        "      <td> 0.05704</td>\n",
        "    </tr>\n",
        "    <tr>\n",
        "      <th>MIROC3.2(hires)</th>\n",
        "      <td> 0.04510</td>\n",
        "      <td>-0.03558</td>\n",
        "      <td> 0.08800</td>\n",
        "    </tr>\n",
        "  </tbody>\n",
        "</table>\n",
        "<p>8 rows \u00d7 3 columns</p>\n",
        "</div>"
       ],
       "metadata": {},
       "output_type": "pyout",
       "prompt_number": 3,
       "text": [
        "coef                                     a        b        c\n",
        "GCM               HiRes                                     \n",
        "bccr_bcm2_0       ECHAM4           0.00735  0.07831  0.03819\n",
        "                  ECHAM5           0.01111  0.05073  0.03384\n",
        "                  HadAM3H          0.00630  0.09292  0.04120\n",
        "                  MIROC3.2(hires)  0.00635  0.12761  0.05857\n",
        "cccma_cgcm3_1_t47 ECHAM4           0.04127 -0.07570  0.06731\n",
        "                  ECHAM5           0.02733 -0.06201  0.04503\n",
        "                  HadAM3H          0.03029 -0.02258  0.05704\n",
        "                  MIROC3.2(hires)  0.04510 -0.03558  0.08800\n",
        "\n",
        "[8 rows x 3 columns]"
       ]
      }
     ],
     "prompt_number": 3
    },
    {
     "cell_type": "markdown",
     "metadata": {},
     "source": [
      "Convert to dimarray, pandas' multiindex is automatically converted to GroupedAxis (still 2-D data):"
     ]
    },
    {
     "cell_type": "code",
     "collapsed": false,
     "input": [
      "a = da.from_pandas(df2)\n",
      "a.ix[:8] # display first 8 rows"
     ],
     "language": "python",
     "metadata": {},
     "outputs": [
      {
       "metadata": {},
       "output_type": "pyout",
       "prompt_number": 4,
       "text": [
        "dimarray: 24 non-null elements (0 null)\n",
        "0 / GCM,HiRes (8): ('bccr_bcm2_0', 'ECHAM4') to ('cccma_cgcm3_1_t47', 'MIROC3.2(hires)')\n",
        "1 / coef (3): a to c\n",
        "array([[ 0.00735,  0.07831,  0.03819],\n",
        "       [ 0.01111,  0.05073,  0.03384],\n",
        "       [ 0.0063 ,  0.09292,  0.0412 ],\n",
        "       [ 0.00635,  0.12761,  0.05857],\n",
        "       [ 0.04127, -0.0757 ,  0.06731],\n",
        "       [ 0.02733, -0.06201,  0.04503],\n",
        "       [ 0.03029, -0.02258,  0.05704],\n",
        "       [ 0.0451 , -0.03558,  0.088  ]])"
       ]
      }
     ],
     "prompt_number": 4
    },
    {
     "cell_type": "markdown",
     "metadata": {},
     "source": [
      "Expand the array with the \"ungroup\" command, to convert it to 3-D data"
     ]
    },
    {
     "cell_type": "code",
     "collapsed": false,
     "input": [
      "a3d = a.ungroup()\n",
      "a3d"
     ],
     "language": "python",
     "metadata": {},
     "outputs": [
      {
       "metadata": {},
       "output_type": "pyout",
       "prompt_number": 8,
       "text": [
        "dimarray: 216 non-null elements (0 null)\n",
        "0 / GCM (18): bccr_bcm2_0 to ukmo_hadgem1\n",
        "1 / HiRes (4): ECHAM4 to MIROC3.2(hires)\n",
        "2 / coef (3): a to c\n",
        "array(...)"
       ]
      }
     ],
     "prompt_number": 8
    },
    {
     "cell_type": "markdown",
     "metadata": {},
     "source": [
      "Use dimarray's multi-dimensional and axis-naming capability:"
     ]
    },
    {
     "cell_type": "code",
     "collapsed": false,
     "input": [
      "a3d.take('ECHAM4', axis='HiRes') # example 1\n",
      "a3d.mean(axis='GCM')  # example 2"
     ],
     "language": "python",
     "metadata": {},
     "outputs": [
      {
       "metadata": {},
       "output_type": "pyout",
       "prompt_number": 6,
       "text": [
        "dimarray: 12 non-null elements (0 null)\n",
        "0 / HiRes (4): ECHAM4 to MIROC3.2(hires)\n",
        "1 / coef (3): a to c\n",
        "array([[ 0.03266111,  0.00337889,  0.06739944],\n",
        "       [ 0.02346167,  0.01609167,  0.04287944],\n",
        "       [ 0.02455   ,  0.06477722,  0.05243722],\n",
        "       [ 0.03422056,  0.08279056,  0.08039   ]])"
       ]
      }
     ],
     "prompt_number": 6
    },
    {
     "cell_type": "heading",
     "level": 2,
     "metadata": {},
     "source": [
      "Write generic function using dimarray's axis naming"
     ]
    },
    {
     "cell_type": "code",
     "collapsed": false,
     "input": [
      "def projection(T, params):\n",
      "    \"\"\" project Greenland melting based on global mean temperature\n",
      "    T: dimarray representing global mean temperature anomaly, must have 'time' dimension\n",
      "    params: fit parameters as defined above (dimarray), must have 'coef' dimension\n",
      "    \"\"\"\n",
      "    a, b, c = params.swapaxes(0, 'coef') # coef as first dimension, then distribute into a, b, c\n",
      "    meltrate = a + b*T + c*T**2\n",
      "    cummelt = meltrate.cumsum(axis='time') * 0.1 # mm/yr ==> cm\n",
      "    return cummelt"
     ],
     "language": "python",
     "metadata": {},
     "outputs": [],
     "prompt_number": 57
    },
    {
     "cell_type": "heading",
     "level": 3,
     "metadata": {},
     "source": [
      "First example using single temperature curve"
     ]
    },
    {
     "cell_type": "code",
     "collapsed": false,
     "input": [
      "%pylab\n",
      "%matplotlib inline"
     ],
     "language": "python",
     "metadata": {},
     "outputs": [
      {
       "output_type": "stream",
       "stream": "stdout",
       "text": [
        "Using matplotlib backend: module://IPython.kernel.zmq.pylab.backend_inline\n",
        "Populating the interactive namespace from numpy and matplotlib\n"
       ]
      }
     ],
     "prompt_number": 37
    },
    {
     "cell_type": "code",
     "collapsed": false,
     "input": [
      "# Say projected temperature is a quadratic increase over time\n",
      "time = np.arange(2000, 2100)\n",
      "T = 0.7 + (0.02*(time-2000))**2\n",
      "T = da.array(T, axes=('time', time))\n",
      "T.plot() # plot using underlying pandas method (T.to_pandas().plot())\n",
      "title(\"Temperature anomaly since pre-industrial (idealized)\")\n",
      "ylabel(\"$^\\circ$C\")"
     ],
     "language": "python",
     "metadata": {},
     "outputs": [
      {
       "metadata": {},
       "output_type": "pyout",
       "prompt_number": 56,
       "text": [
        "<matplotlib.text.Text at 0x777c3d0>"
       ]
      },
      {
       "metadata": {},
       "output_type": "display_data",
       "png": "[encoded data removed]",
       "text": [
        "<matplotlib.figure.Figure at 0x79bce50>"
       ]
      }
     ],
     "prompt_number": 56
    },
    {
     "cell_type": "code",
     "collapsed": false,
     "input": [
      "da.rcParams['display.max'] = 100 # max display : 100 (back to default)\n",
      "melt = projection(T, params=a3d)\n",
      "melt"
     ],
     "language": "python",
     "metadata": {},
     "outputs": [
      {
       "metadata": {},
       "output_type": "pyout",
       "prompt_number": 31,
       "text": [
        "dimarray: 7200 non-null elements (0 null)\n",
        "0 / HiRes (4): ECHAM4 to MIROC3.2(hires)\n",
        "1 / GCM (18): bccr_bcm2_0 to ukmo_hadgem1\n",
        "2 / time (100): 2000 to 2099\n",
        "array(...)"
       ]
      }
     ],
     "prompt_number": 31
    },
    {
     "cell_type": "code",
     "collapsed": false,
     "input": [
      "meanmelt = melt.mean(axis=('GCM','HiRes')) # average over two dimensions\n",
      "meanmelt.plot()\n",
      "title('Cumulative Greenland melt')\n",
      "xlabel('Time (Years)')\n",
      "ylabel('Cumul. melt (cm)')"
     ],
     "language": "python",
     "metadata": {},
     "outputs": [
      {
       "output_type": "stream",
       "stream": "stdout",
       "text": [
        "Using matplotlib backend: module://IPython.kernel.zmq.pylab.backend_inline\n",
        "Populating the interactive namespace from numpy and matplotlib\n"
       ]
      },
      {
       "metadata": {},
       "output_type": "pyout",
       "prompt_number": 36,
       "text": [
        "<matplotlib.text.Text at 0x512c610>"
       ]
      },
      {
       "metadata": {},
       "output_type": "display_data",
       "png": "[encoded data removed]",
       "text": [
        "<matplotlib.figure.Figure at 0x4eebad0>"
       ]
      }
     ],
     "prompt_number": 36
    },
    {
     "cell_type": "heading",
     "level": 3,
     "metadata": {},
     "source": [
      "More advanced example with multi-dimensional input"
     ]
    },
    {
     "cell_type": "markdown",
     "metadata": {},
     "source": [
      "Define temperature curve with two GCMs, use stack function to join a dictionary of DimArrays"
     ]
    },
    {
     "cell_type": "code",
     "collapsed": false,
     "input": [
      "T2 = da.stack ({'bccr_bcm2_0':T*0.9, 'cccma_cgcm3_1_t47': T*1.2}, axis='GCM')\n",
      "T2"
     ],
     "language": "python",
     "metadata": {},
     "outputs": [
      {
       "metadata": {},
       "output_type": "pyout",
       "prompt_number": 84,
       "text": [
        "dimarray: 200 non-null elements (0 null)\n",
        "0 / GCM (2): cccma_cgcm3_1_t47 to bccr_bcm2_0\n",
        "1 / time (100): 2000 to 2099\n",
        "stack(...)"
       ]
      }
     ],
     "prompt_number": 84
    },
    {
     "cell_type": "markdown",
     "metadata": {},
     "source": [
      "Projection automatically reindexes the 'GCM' dimension before operation is performed, missing GCMs replaced by NaN (therefore 6400 NaN values)"
     ]
    },
    {
     "cell_type": "code",
     "collapsed": false,
     "input": [
      "melt2 = projection(T2, params=a3d)\n",
      "melt2 "
     ],
     "language": "python",
     "metadata": {},
     "outputs": [
      {
       "metadata": {},
       "output_type": "pyout",
       "prompt_number": 85,
       "text": [
        "dimarray: 800 non-null elements (6400 null)\n",
        "0 / HiRes (4): ECHAM4 to MIROC3.2(hires)\n",
        "1 / GCM (18): bccr_bcm2_0 to ukmo_hadgem1\n",
        "2 / time (100): 2000 to 2099\n",
        "array(...)"
       ]
      }
     ],
     "prompt_number": 85
    },
    {
     "cell_type": "markdown",
     "metadata": {},
     "source": [
      "Remove NaN values (only the two GCMs remain):"
     ]
    },
    {
     "cell_type": "code",
     "collapsed": false,
     "input": [
      "melt2 = melt2.dropna(axis='GCM')  # drop missing GCMs\n",
      "melt2"
     ],
     "language": "python",
     "metadata": {},
     "outputs": [
      {
       "metadata": {},
       "output_type": "pyout",
       "prompt_number": 86,
       "text": [
        "dimarray: 800 non-null elements (0 null)\n",
        "0 / HiRes (4): ECHAM4 to MIROC3.2(hires)\n",
        "1 / GCM (2): bccr_bcm2_0 to cccma_cgcm3_1_t47\n",
        "2 / time (100): 2000 to 2099\n",
        "array(...)"
       ]
      }
     ],
     "prompt_number": 86
    },
    {
     "cell_type": "markdown",
     "metadata": {},
     "source": [
      "Average over High-resolution regional models and plot:"
     ]
    },
    {
     "cell_type": "code",
     "collapsed": false,
     "input": [
      "meanmelt2 = melt2.mean(axis='HiRes') # average over two dimensions\n",
      "meanmelt2.T.plot() # transpose before plotting to have time as first dimension\n",
      "title('Cumulative Greenland melt')\n",
      "xlabel('Time (Years)')\n",
      "ylabel('Cumul. melt (cm)')"
     ],
     "language": "python",
     "metadata": {},
     "outputs": [
      {
       "metadata": {},
       "output_type": "pyout",
       "prompt_number": 99,
       "text": [
        "<matplotlib.text.Text at 0x94341d0>"
       ]
      },
      {
       "metadata": {},
       "output_type": "display_data",
       "png": "[encoded data removed]",
       "text": [
        "<matplotlib.figure.Figure at 0x8da0910>"
       ]
      }
     ],
     "prompt_number": 99
    }
   ],
   "metadata": {}
  }
 ]
}
