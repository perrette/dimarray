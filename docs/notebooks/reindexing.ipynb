{
 "metadata": {
  "name": "",
  "signature": "sha256:90244beb6973360c1ec9e707d54eb528023f0ce3875255aaadfb813a2e58c74e"
 },
 "nbformat": 3,
 "nbformat_minor": 0,
 "worksheets": [
  {
   "cells": [
    {
     "cell_type": "heading",
     "level": 2,
     "metadata": {},
     "source": [
      "Reindexing: align axes"
     ]
    },
    {
     "cell_type": "markdown",
     "metadata": {},
     "source": [
      "Reindexing is the action of shrinking or extending an array to match a new index, in some ways similar to interpolation, except that by default, the new index has to be present, or it is filled with NaN. Actual interpolation is performed by passing `method=\"nearest\"` or `method=\"interp\"` parameter."
     ]
    },
    {
     "cell_type": "heading",
     "level": 3,
     "metadata": {},
     "source": [
      "reindex_axis"
     ]
    },
    {
     "cell_type": "code",
     "collapsed": false,
     "input": [
      "import dimarray as da\n",
      "a = da.DimArray([3,4],[('x0',[1,3])])\n",
      "a.reindex_axis([1,2,3])"
     ],
     "language": "python",
     "metadata": {},
     "outputs": [
      {
       "metadata": {},
       "output_type": "pyout",
       "prompt_number": 1,
       "text": [
        "dimarray: 2 non-null elements (1 null)\n",
        "dimensions: 'x0'\n",
        "0 / x0 (3): 1 to 3\n",
        "array([  3.,  nan,   4.])"
       ]
      }
     ],
     "prompt_number": 1
    },
    {
     "cell_type": "markdown",
     "metadata": {},
     "source": [
      "Also works with string indices"
     ]
    },
    {
     "cell_type": "code",
     "collapsed": false,
     "input": [
      "b = da.DimArray([1,2,3],[('x0', ['a','b','c'])])\n",
      "b.reindex_axis(['b','d'])"
     ],
     "language": "python",
     "metadata": {},
     "outputs": [
      {
       "metadata": {},
       "output_type": "pyout",
       "prompt_number": 2,
       "text": [
        "dimarray: 1 non-null elements (1 null)\n",
        "dimensions: 'x0'\n",
        "0 / x0 (2): b to d\n",
        "array([  2.,  nan])"
       ]
      }
     ],
     "prompt_number": 2
    },
    {
     "cell_type": "heading",
     "level": 3,
     "metadata": {},
     "source": [
      "reindex_like"
     ]
    },
    {
     "cell_type": "markdown",
     "metadata": {},
     "source": [
      "Same as reindex_axis, except that the new axes are searched for in another array."
     ]
    },
    {
     "cell_type": "code",
     "collapsed": false,
     "input": [
      "c = da.DimArray([[1,2,3], [4,5,6]],[('x0',[\"a\",\"b\"]),('x1',[1, 2, 3])])\n",
      "c.reindex_like(b)"
     ],
     "language": "python",
     "metadata": {},
     "outputs": [
      {
       "metadata": {},
       "output_type": "pyout",
       "prompt_number": 3,
       "text": [
        "dimarray: 6 non-null elements (3 null)\n",
        "dimensions: 'x0', 'x1'\n",
        "0 / x0 (3): a to c\n",
        "1 / x1 (3): 1 to 3\n",
        "array([[  1.,   2.,   3.],\n",
        "       [  4.,   5.,   6.],\n",
        "       [ nan,  nan,  nan]])"
       ]
      }
     ],
     "prompt_number": 3
    },
    {
     "cell_type": "heading",
     "level": 3,
     "metadata": {},
     "source": [
      "Interpolation"
     ]
    },
    {
     "cell_type": "markdown",
     "metadata": {},
     "source": [
      "The `method=` parameter can be passed to `reindex_axis` and `reindex_like` with values \"nearest\" and \"interp\" to proceed to nearest and linear interpolation."
     ]
    },
    {
     "cell_type": "code",
     "collapsed": false,
     "input": [
      "# Can also reindex in \"interp\" mode\n",
      "a.reindex_axis([0,1,2,3], method='interp')"
     ],
     "language": "python",
     "metadata": {},
     "outputs": [
      {
       "metadata": {},
       "output_type": "pyout",
       "prompt_number": 4,
       "text": [
        "dimarray: 3 non-null elements (1 null)\n",
        "dimensions: 'x0'\n",
        "0 / x0 (4): 0 to 3\n",
        "array([ nan,  3. ,  3.5,  4. ])"
       ]
      }
     ],
     "prompt_number": 4
    },
    {
     "cell_type": "code",
     "collapsed": false,
     "input": [
      "import numpy as np\n",
      "import dimarray as da\n",
      "time=np.linspace(1950,1955,8)\n",
      "v = da.array_kw(np.cos(time), time=time)\n",
      "w = da.reindex_axis(v, np.linspace(1948,1957,10), axis='time', method='interp')\n",
      "x = v.reindex_axis(np.linspace(1948,1957,10), axis='time', method='nearest')"
     ],
     "language": "python",
     "metadata": {},
     "outputs": [],
     "prompt_number": 5
    },
    {
     "cell_type": "code",
     "collapsed": false,
     "input": [
      "import matplotlib.pyplot as plt\n",
      "plt.clf()  # doctest: +SKIP\n",
      "plt.plot(v.time, v.values, 's-', label='original')  # doctest: +SKIP\n",
      "plt.plot(w.time, w.values, 'o-', label='interp')  # doctest: +SKIP\n",
      "#plt.plot(w1.time, w.values, 'o--', color='k', label='interp')\n",
      "plt.plot(x.time, x.values, '*-',label='nearest') # doctest: +SKIP\n",
      "plt.legend(loc='upper left')  # doctest: +SKIP"
     ],
     "language": "python",
     "metadata": {},
     "outputs": [
      {
       "metadata": {},
       "output_type": "pyout",
       "prompt_number": 6,
       "text": [
        "<matplotlib.legend.Legend at 0x7eff9661e850>"
       ]
      }
     ],
     "prompt_number": 6
    },
    {
     "cell_type": "heading",
     "level": 3,
     "metadata": {},
     "source": [
      "align_axes"
     ]
    },
    {
     "cell_type": "markdown",
     "metadata": {},
     "source": [
      "It is also possible to proceed to axis alignment on a sequence of arrays (not in interpolation mode!):"
     ]
    },
    {
     "cell_type": "code",
     "collapsed": false,
     "input": [
      "# align axes\n",
      "x = da.DimArray([1,2,3],('x0',[1,2,3]))\n",
      "y = da.DimArray([3,4],('x0',[2,4]))\n",
      "xa, ya = da.align_axes(x, y)\n",
      "ya"
     ],
     "language": "python",
     "metadata": {},
     "outputs": [
      {
       "metadata": {},
       "output_type": "pyout",
       "prompt_number": 12,
       "text": [
        "dimarray: 2 non-null elements (2 null)\n",
        "dimensions: 'x0'\n",
        "0 / x0 (4): 1 to 4\n",
        "array([ nan,   3.,  nan,   4.])"
       ]
      }
     ],
     "prompt_number": 12
    }
   ],
   "metadata": {}
  }
 ]
}