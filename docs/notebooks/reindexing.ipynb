{
 "metadata": {
  "name": "",
  "signature": "sha256:d7627aca236091ef995b1c9ae351aa6bba23e960e93025dea61f23d57438fe64"
 },
 "nbformat": 3,
 "nbformat_minor": 0,
 "worksheets": [
  {
   "cells": [
    {
     "cell_type": "heading",
     "level": 2,
     "metadata": {},
     "source": [
      "Reindexing: align axes"
     ]
    },
    {
     "cell_type": "markdown",
     "metadata": {},
     "source": [
      "Reindexing is the action of shrinking or extending an array to match a new index, in some ways similar to interpolation, except that by default, the new index has to be present, or it is filled with NaN. Actual interpolation is performed by passing `method=\"nearest\"` or `method=\"interp\"` parameter."
     ]
    },
    {
     "cell_type": "heading",
     "level": 3,
     "metadata": {},
     "source": [
      "reindex_axis"
     ]
    },
    {
     "cell_type": "code",
     "collapsed": false,
     "input": [
      "from dimarray import DimArray\n",
      "a = DimArray([3,4],[('x0',[1,3])])\n",
      "a.reindex_axis([1,2,3])"
     ],
     "language": "python",
     "metadata": {},
     "outputs": [
      {
       "metadata": {},
       "output_type": "pyout",
       "prompt_number": 1,
       "text": [
        "dimarray: 2 non-null elements (1 null)\n",
        "0 / x0 (3): 1 to 3\n",
        "array([  3.,  nan,   4.])"
       ]
      }
     ],
     "prompt_number": 1
    },
    {
     "cell_type": "markdown",
     "metadata": {},
     "source": [
      "Also works with string indices"
     ]
    },
    {
     "cell_type": "code",
     "collapsed": false,
     "input": [
      "b = DimArray([1,2,3],[('x0', ['a','b','c'])])\n",
      "b.reindex_axis(['b','d'])"
     ],
     "language": "python",
     "metadata": {},
     "outputs": [
      {
       "metadata": {},
       "output_type": "pyout",
       "prompt_number": 2,
       "text": [
        "dimarray: 1 non-null elements (1 null)\n",
        "0 / x0 (2): 'b' to 'd'\n",
        "array([  2.,  nan])"
       ]
      }
     ],
     "prompt_number": 2
    },
    {
     "cell_type": "markdown",
     "metadata": {},
     "source": [
      "It is possible to fill the missing values with the preceding, or following values of the sorted array (see numpy.searchsorted for more ample documentation):"
     ]
    },
    {
     "cell_type": "markdown",
     "metadata": {},
     "source": [
      "See :meth:`dimarray.DimArray.reindex_axis`"
     ]
    },
    {
     "cell_type": "code",
     "collapsed": false,
     "input": [
      "b.reindex_axis(['b','d'], method='left')"
     ],
     "language": "python",
     "metadata": {},
     "outputs": [
      {
       "metadata": {},
       "output_type": "pyout",
       "prompt_number": 3,
       "text": [
        "dimarray: 2 non-null elements (0 null)\n",
        "0 / x0 (2): 'b' to 'd'\n",
        "array([2, 3])"
       ]
      }
     ],
     "prompt_number": 3
    },
    {
     "cell_type": "code",
     "collapsed": false,
     "input": [
      "b.reindex_axis(['b','d'], method='right')"
     ],
     "language": "python",
     "metadata": {},
     "outputs": [
      {
       "metadata": {},
       "output_type": "pyout",
       "prompt_number": 4,
       "text": [
        "dimarray: 2 non-null elements (0 null)\n",
        "0 / x0 (2): 'b' to 'd'\n",
        "array([3, 3])"
       ]
      }
     ],
     "prompt_number": 4
    },
    {
     "cell_type": "heading",
     "level": 3,
     "metadata": {},
     "source": [
      "reindex_like"
     ]
    },
    {
     "cell_type": "markdown",
     "metadata": {},
     "source": [
      "Same as reindex_axis, except that the new axes are searched for in another array."
     ]
    },
    {
     "cell_type": "code",
     "collapsed": false,
     "input": [
      "c = DimArray([[1,2,3], [4,5,6]],[('x0',[\"a\",\"b\"]),('x1',[1, 2, 3])])\n",
      "c.reindex_like(b)"
     ],
     "language": "python",
     "metadata": {},
     "outputs": [
      {
       "metadata": {},
       "output_type": "pyout",
       "prompt_number": 5,
       "text": [
        "dimarray: 6 non-null elements (3 null)\n",
        "0 / x0 (3): 'a' to 'c'\n",
        "1 / x1 (3): 1 to 3\n",
        "array([[  1.,   2.,   3.],\n",
        "       [  4.,   5.,   6.],\n",
        "       [ nan,  nan,  nan]])"
       ]
      }
     ],
     "prompt_number": 5
    },
    {
     "cell_type": "markdown",
     "metadata": {},
     "source": [
      "See :meth:`dimarray.DimArray.reindex_like`"
     ]
    },
    {
     "cell_type": "heading",
     "level": 3,
     "metadata": {},
     "source": [
      "Interpolation"
     ]
    },
    {
     "cell_type": "markdown",
     "metadata": {},
     "source": [
      "Sometimes you do not want one-to-one re-indexing but interpolation. Use the `interp1d` function for linear, piecewise interpolation (wrapper around np.interp)"
     ]
    },
    {
     "cell_type": "code",
     "collapsed": false,
     "input": [
      "import dimarray as da\n",
      "da.interp1d(a, [0,1,2,3])"
     ],
     "language": "python",
     "metadata": {},
     "outputs": [
      {
       "metadata": {},
       "output_type": "pyout",
       "prompt_number": 6,
       "text": [
        "dimarray: 3 non-null elements (1 null)\n",
        "0 / x0 (4): 0 to 3\n",
        "array([ nan,  3. ,  3.5,  4. ])"
       ]
      }
     ],
     "prompt_number": 6
    },
    {
     "cell_type": "code",
     "collapsed": false,
     "input": [
      "import numpy as np\n",
      "time=np.linspace(1950,1955,8)\n",
      "v = DimArray(np.cos(time), axes=('time',time))\n",
      "#w = v.reindex_axis(np.linspace(1948,1957,10), axis='time', method='interp')\n",
      "xl = v.reindex_axis(np.linspace(1948,1957,10), axis='time', method='left')\n",
      "xr = v.reindex_axis(np.linspace(1948,1957,10), axis='time', method='right')\n",
      "w = da.interp1d(v, np.linspace(1948,1957,10), axis='time')"
     ],
     "language": "python",
     "metadata": {},
     "outputs": [],
     "prompt_number": 7
    },
    {
     "cell_type": "code",
     "collapsed": false,
     "input": [
      "import matplotlib.pyplot as plt\n",
      "%matplotlib inline\n",
      "plt.clf()  # doctest: +SKIP\n",
      "plt.plot(v.time, v.values, 's-', label='original')  # doctest: +SKIP\n",
      "plt.plot(w.time, w.values, 'o-', label='interp')  # doctest: +SKIP\n",
      "#plt.plot(w1.time, w.values, 'o--', color='k', label='interp')\n",
      "plt.plot(xl.time, xl.values, '*-',label='left') # doctest: +SKIP\n",
      "plt.plot(xr.time, xr.values, '+-',label='right') # doctest: +SKIP\n",
      "plt.legend(loc='upper left')  "
     ],
     "language": "python",
     "metadata": {},
     "outputs": [
      {
       "metadata": {},
       "output_type": "pyout",
       "prompt_number": 8,
       "text": [
        "<matplotlib.legend.Legend at 0x7f3cdfc83c50>"
       ]
      },
      {
       "metadata": {},
       "output_type": "display_data",
       "png": "[encoded data removed]",
       "text": [
        "<matplotlib.figure.Figure at 0x7f3ce8943290>"
       ]
      }
     ],
     "prompt_number": 8
    },
    {
     "cell_type": "heading",
     "level": 3,
     "metadata": {},
     "source": [
      "align_axes"
     ]
    },
    {
     "cell_type": "markdown",
     "metadata": {},
     "source": [
      "It is also possible to proceed to axis alignment on a sequence of arrays"
     ]
    },
    {
     "cell_type": "code",
     "collapsed": false,
     "input": [
      "# align axes\n",
      "from dimarray import align_axes\n",
      "x = DimArray([1,2,3],('x0',[1,2,3]))\n",
      "y = DimArray([3,4],('x0',[2,4]))\n",
      "xa, ya = align_axes(x, y)\n",
      "ya"
     ],
     "language": "python",
     "metadata": {},
     "outputs": [
      {
       "metadata": {},
       "output_type": "pyout",
       "prompt_number": 9,
       "text": [
        "dimarray: 2 non-null elements (2 null)\n",
        "0 / x0 (4): 1 to 4\n",
        "array([ nan,   3.,  nan,   4.])"
       ]
      }
     ],
     "prompt_number": 9
    },
    {
     "cell_type": "markdown",
     "metadata": {},
     "source": [
      "See :func:`dimarray.align_axes`"
     ]
    }
   ],
   "metadata": {}
  }
 ]
}