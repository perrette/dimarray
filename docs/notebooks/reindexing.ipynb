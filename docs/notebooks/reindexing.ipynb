{
 "cells": [
  {
   "cell_type": "markdown",
   "metadata": {},
   "source": [
    "# Reindexing: align axes"
   ]
  },
  {
   "cell_type": "markdown",
   "metadata": {},
   "source": [
    "Reindexing is the action of shrinking or extending an array to match a new index, in some ways similar to interpolation, except that by default, the new index has to be present, or it is filled with NaN. Actual interpolation is performed by passing `method=\"nearest\"` or `method=\"interp\"` parameter."
   ]
  },
  {
   "cell_type": "markdown",
   "metadata": {},
   "source": [
    "### reindex_axis"
   ]
  },
  {
   "cell_type": "code",
   "execution_count": 1,
   "metadata": {
    "collapsed": false
   },
   "outputs": [
    {
     "data": {
      "text/plain": [
       "dimarray: 2 non-null elements (1 null)\n",
       "0 / x0 (3): 1 to 3\n",
       "array([  3.,  nan,   4.])"
      ]
     },
     "execution_count": 1,
     "metadata": {},
     "output_type": "execute_result"
    }
   ],
   "source": [
    "from dimarray import DimArray\n",
    "a = DimArray([3,4],[('x0',[1,3])])\n",
    "a.reindex_axis([1,2,3])"
   ]
  },
  {
   "cell_type": "markdown",
   "metadata": {},
   "source": [
    "Also works with string indices"
   ]
  },
  {
   "cell_type": "code",
   "execution_count": 2,
   "metadata": {
    "collapsed": false
   },
   "outputs": [
    {
     "data": {
      "text/plain": [
       "dimarray: 1 non-null elements (1 null)\n",
       "0 / x0 (2): 'b' to 'd'\n",
       "array([  2.,  nan])"
      ]
     },
     "execution_count": 2,
     "metadata": {},
     "output_type": "execute_result"
    }
   ],
   "source": [
    "b = DimArray([1,2,3],[('x0', ['a','b','c'])])\n",
    "b.reindex_axis(['b','d'])"
   ]
  },
  {
   "cell_type": "markdown",
   "metadata": {},
   "source": [
    "It is possible to fill the missing values with the preceding, or following values of the sorted array (see numpy.searchsorted for more ample documentation):"
   ]
  },
  {
   "cell_type": "markdown",
   "metadata": {},
   "source": [
    "See :meth:`dimarray.DimArray.reindex_axis`"
   ]
  },
  {
   "cell_type": "code",
   "execution_count": 3,
   "metadata": {
    "collapsed": false
   },
   "outputs": [
    {
     "data": {
      "text/plain": [
       "dimarray: 2 non-null elements (0 null)\n",
       "0 / x0 (2): 'b' to 'd'\n",
       "array([2, 3])"
      ]
     },
     "execution_count": 3,
     "metadata": {},
     "output_type": "execute_result"
    }
   ],
   "source": [
    "b.reindex_axis(['b','d'], method='left')"
   ]
  },
  {
   "cell_type": "code",
   "execution_count": 4,
   "metadata": {
    "collapsed": false
   },
   "outputs": [
    {
     "data": {
      "text/plain": [
       "dimarray: 2 non-null elements (0 null)\n",
       "0 / x0 (2): 'b' to 'd'\n",
       "array([3, 3])"
      ]
     },
     "execution_count": 4,
     "metadata": {},
     "output_type": "execute_result"
    }
   ],
   "source": [
    "b.reindex_axis(['b','d'], method='right')"
   ]
  },
  {
   "cell_type": "markdown",
   "metadata": {},
   "source": [
    "### reindex_like"
   ]
  },
  {
   "cell_type": "markdown",
   "metadata": {},
   "source": [
    "Same as reindex_axis, except that the new axes are searched for in another array."
   ]
  },
  {
   "cell_type": "code",
   "execution_count": 5,
   "metadata": {
    "collapsed": false
   },
   "outputs": [
    {
     "data": {
      "text/plain": [
       "dimarray: 6 non-null elements (3 null)\n",
       "0 / x0 (3): 'a' to 'c'\n",
       "1 / x1 (3): 1 to 3\n",
       "array([[  1.,   2.,   3.],\n",
       "       [  4.,   5.,   6.],\n",
       "       [ nan,  nan,  nan]])"
      ]
     },
     "execution_count": 5,
     "metadata": {},
     "output_type": "execute_result"
    }
   ],
   "source": [
    "c = DimArray([[1,2,3], [4,5,6]],[('x0',[\"a\",\"b\"]),('x1',[1, 2, 3])])\n",
    "c.reindex_like(b)"
   ]
  },
  {
   "cell_type": "markdown",
   "metadata": {},
   "source": [
    "See :meth:`dimarray.DimArray.reindex_like`"
   ]
  },
  {
   "cell_type": "markdown",
   "metadata": {},
   "source": [
    "### Interpolation"
   ]
  },
  {
   "cell_type": "markdown",
   "metadata": {},
   "source": [
    "Sometimes you do not want one-to-one re-indexing but interpolation. Use the `DimArray.interp_axis` method for linear, piecewise interpolation (wrapper around np.interp)"
   ]
  },
  {
   "cell_type": "code",
   "execution_count": 6,
   "metadata": {
    "collapsed": false
   },
   "outputs": [
    {
     "data": {
      "text/plain": [
       "dimarray: 3 non-null elements (1 null)\n",
       "0 / x0 (4): 0 to 3\n",
       "array([ nan,  3. ,  3.5,  4. ])"
      ]
     },
     "execution_count": 6,
     "metadata": {},
     "output_type": "execute_result"
    }
   ],
   "source": [
    "a.interp_axis([0,1,2,3])"
   ]
  },
  {
   "cell_type": "code",
   "execution_count": 7,
   "metadata": {
    "collapsed": false
   },
   "outputs": [],
   "source": [
    "import numpy as np\n",
    "time=np.linspace(1950,1955,8)\n",
    "v = DimArray(np.cos(time), axes=('time',time))\n",
    "#w = v.reindex_axis(np.linspace(1948,1957,10), axis='time', method='interp')\n",
    "xl = v.reindex_axis(np.linspace(1948,1957,10), axis='time', method='left')\n",
    "xr = v.reindex_axis(np.linspace(1948,1957,10), axis='time', method='right')\n",
    "w = v.interp_axis(np.linspace(1948,1957,10), axis='time')"
   ]
  },
  {
   "cell_type": "code",
   "execution_count": 8,
   "metadata": {
    "collapsed": false
   },
   "outputs": [
    {
     "data": {
      "text/plain": [
       "<matplotlib.legend.Legend at 0x7fe5a780f090>"
      ]
     },
     "execution_count": 8,
     "metadata": {},
     "output_type": "execute_result"
    },
    {
     "data": {
      "image/png": "[encoded data removed]",
      "text/plain": [
       "<matplotlib.figure.Figure at 0x7fe5aa50b590>"
      ]
     },
     "metadata": {},
     "output_type": "display_data"
    }
   ],
   "source": [
    "import matplotlib.pyplot as plt\n",
    "%matplotlib inline\n",
    "plt.clf()  # doctest: +SKIP\n",
    "plt.plot(v.time, v.values, 's-', label='original')  # doctest: +SKIP\n",
    "plt.plot(w.time, w.values, 'o-', label='interp')  # doctest: +SKIP\n",
    "#plt.plot(w1.time, w.values, 'o--', color='k', label='interp')\n",
    "plt.plot(xl.time, xl.values, '*-',label='left') # doctest: +SKIP\n",
    "plt.plot(xr.time, xr.values, '+-',label='right') # doctest: +SKIP\n",
    "plt.legend(loc='upper left')  "
   ]
  },
  {
   "cell_type": "markdown",
   "metadata": {},
   "source": [
    "### align"
   ]
  },
  {
   "cell_type": "markdown",
   "metadata": {},
   "source": [
    "It is also possible to proceed to axis alignment on a sequence of arrays"
   ]
  },
  {
   "cell_type": "code",
   "execution_count": 9,
   "metadata": {
    "collapsed": false
   },
   "outputs": [
    {
     "data": {
      "text/plain": [
       "dimarray: 2 non-null elements (2 null)\n",
       "0 / x0 (4): 1 to 4\n",
       "array([ nan,   3.,  nan,   4.])"
      ]
     },
     "execution_count": 9,
     "metadata": {},
     "output_type": "execute_result"
    }
   ],
   "source": [
    "# align axes\n",
    "from dimarray import align\n",
    "x = DimArray([1,2,3],('x0',[1,2,3]))\n",
    "y = DimArray([3,4],('x0',[2,4]))\n",
    "xa, ya = align(x, y)\n",
    "ya"
   ]
  },
  {
   "cell_type": "markdown",
   "metadata": {},
   "source": [
    "See :func:`dimarray.align`"
   ]
  }
 ],
 "metadata": {
  "kernelspec": {
   "display_name": "Python 2",
   "language": "python",
   "name": "python2"
  },
  "language_info": {
   "codemirror_mode": {
    "name": "ipython",
    "version": 2
   },
   "file_extension": ".py",
   "mimetype": "text/x-python",
   "name": "python",
   "nbconvert_exporter": "python",
   "pygments_lexer": "ipython2",
   "version": "2.7.6"
  }
 },
 "nbformat": 4,
 "nbformat_minor": 0
}
