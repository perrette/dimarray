{
 "metadata": {
  "name": "",
  "signature": "sha256:8d088090be4f379ac3a2be372b2dae6d5ecc62c124db353e60aea0ddfaaaba47"
 },
 "nbformat": 3,
 "nbformat_minor": 0,
 "worksheets": [
  {
   "cells": [
    {
     "cell_type": "heading",
     "level": 2,
     "metadata": {},
     "source": [
      "DimArray class"
     ]
    },
    {
     "cell_type": "markdown",
     "metadata": {},
     "source": [
      "Let's use this dimarray as example:"
     ]
    },
    {
     "cell_type": "code",
     "collapsed": false,
     "input": [
      "from dimarray import DimArray\n",
      "a = DimArray([[1.,2,3], [4,5,6]], axes=[['a', 'b'], [1950, 1960, 1970]], dims=['variable', 'time'])\n",
      "a"
     ],
     "language": "python",
     "metadata": {},
     "outputs": [
      {
       "metadata": {},
       "output_type": "pyout",
       "prompt_number": 1,
       "text": [
        "dimarray: 6 non-null elements (0 null)\n",
        "dimensions: 'variable', 'time'\n",
        "0 / variable (2): a to b\n",
        "1 / time (3): 1950 to 1970\n",
        "array([[ 1.,  2.,  3.],\n",
        "       [ 4.,  5.,  6.]])"
       ]
      }
     ],
     "prompt_number": 1
    },
    {
     "cell_type": "heading",
     "level": 3,
     "metadata": {},
     "source": [
      "values and axes"
     ]
    },
    {
     "cell_type": "markdown",
     "metadata": {},
     "source": [
      "Array data are stored in a `values` **attribute**:"
     ]
    },
    {
     "cell_type": "code",
     "collapsed": false,
     "input": [
      "a.values"
     ],
     "language": "python",
     "metadata": {},
     "outputs": [
      {
       "metadata": {},
       "output_type": "pyout",
       "prompt_number": 2,
       "text": [
        "array([[ 1.,  2.,  3.],\n",
        "       [ 4.,  5.,  6.]])"
       ]
      }
     ],
     "prompt_number": 2
    },
    {
     "cell_type": "markdown",
     "metadata": {},
     "source": [
      "while its axes are stored in `axes`:"
     ]
    },
    {
     "cell_type": "code",
     "collapsed": false,
     "input": [
      "a.axes"
     ],
     "language": "python",
     "metadata": {},
     "outputs": [
      {
       "metadata": {},
       "output_type": "pyout",
       "prompt_number": 3,
       "text": [
        "dimensions: 'variable', 'time'\n",
        "0 / variable (2): a to b\n",
        "1 / time (3): 1950 to 1970"
       ]
      }
     ],
     "prompt_number": 3
    },
    {
     "cell_type": "markdown",
     "metadata": {},
     "source": [
      "An axis is the equivalent of pandas's index, except that it always has a name. Each axis can be accessed by its rank or its name:"
     ]
    },
    {
     "cell_type": "code",
     "collapsed": false,
     "input": [
      "ax0 = a.axes[0]         # \"variable\" axis by rank \n",
      "ax0"
     ],
     "language": "python",
     "metadata": {},
     "outputs": [
      {
       "metadata": {},
       "output_type": "pyout",
       "prompt_number": 4,
       "text": [
        "variable (2): a to b"
       ]
      }
     ],
     "prompt_number": 4
    },
    {
     "cell_type": "code",
     "collapsed": false,
     "input": [
      "ax1 = a.axes['time']    # \"time\" axis by name\n",
      "ax1"
     ],
     "language": "python",
     "metadata": {},
     "outputs": [
      {
       "metadata": {},
       "output_type": "pyout",
       "prompt_number": 5,
       "text": [
        "time (3): 1950 to 1970"
       ]
      }
     ],
     "prompt_number": 5
    },
    {
     "cell_type": "markdown",
     "metadata": {},
     "source": [
      "Name and values can be accessed as expected."
     ]
    },
    {
     "cell_type": "code",
     "collapsed": false,
     "input": [
      "ax1.name"
     ],
     "language": "python",
     "metadata": {},
     "outputs": [
      {
       "metadata": {},
       "output_type": "pyout",
       "prompt_number": 6,
       "text": [
        "'time'"
       ]
      }
     ],
     "prompt_number": 6
    },
    {
     "cell_type": "code",
     "collapsed": false,
     "input": [
      "ax1.values"
     ],
     "language": "python",
     "metadata": {},
     "outputs": [
      {
       "metadata": {},
       "output_type": "pyout",
       "prompt_number": 7,
       "text": [
        "array([1950, 1960, 1970])"
       ]
      }
     ],
     "prompt_number": 7
    },
    {
     "cell_type": "markdown",
     "metadata": {},
     "source": [
      "In many cases (like plotting) you just want the values, so for convenience you can just access them as a DimArray attribute via axis name (as long as the name is not a protected DimArray attribute):"
     ]
    },
    {
     "cell_type": "code",
     "collapsed": false,
     "input": [
      "a.time"
     ],
     "language": "python",
     "metadata": {},
     "outputs": [
      {
       "metadata": {},
       "output_type": "pyout",
       "prompt_number": 8,
       "text": [
        "array([1950, 1960, 1970])"
       ]
      }
     ],
     "prompt_number": 8
    },
    {
     "cell_type": "heading",
     "level": 3,
     "metadata": {},
     "source": [
      "numpy-like attributes"
     ]
    },
    {
     "cell_type": "markdown",
     "metadata": {},
     "source": [
      "Numpy-like attributes `dtype`, `shape`, `size` or `ndim` are defined, and are now augmented with `dims` and `labels`"
     ]
    },
    {
     "cell_type": "code",
     "collapsed": false,
     "input": [
      "a.shape"
     ],
     "language": "python",
     "metadata": {},
     "outputs": [
      {
       "metadata": {},
       "output_type": "pyout",
       "prompt_number": 9,
       "text": [
        "(2, 3)"
       ]
      }
     ],
     "prompt_number": 9
    },
    {
     "cell_type": "code",
     "collapsed": false,
     "input": [
      "a.dims      # grab axis names (the dimensions)"
     ],
     "language": "python",
     "metadata": {},
     "outputs": [
      {
       "metadata": {},
       "output_type": "pyout",
       "prompt_number": 10,
       "text": [
        "('variable', 'time')"
       ]
      }
     ],
     "prompt_number": 10
    },
    {
     "cell_type": "code",
     "collapsed": false,
     "input": [
      "a.labels   # grab axis values"
     ],
     "language": "python",
     "metadata": {},
     "outputs": [
      {
       "metadata": {},
       "output_type": "pyout",
       "prompt_number": 11,
       "text": [
        "(array(['a', 'b'], dtype=object), array([1950, 1960, 1970]))"
       ]
      }
     ],
     "prompt_number": 11
    },
    {
     "cell_type": "markdown",
     "metadata": {},
     "source": [
      "while dimensions are located in an `axes` attribute, an `Axes` instance"
     ]
    },
    {
     "cell_type": "code",
     "collapsed": false,
     "input": [
      "a.axes"
     ],
     "language": "python",
     "metadata": {},
     "outputs": [
      {
       "metadata": {},
       "output_type": "pyout",
       "prompt_number": 12,
       "text": [
        "dimensions: 'variable', 'time'\n",
        "0 / variable (2): a to b\n",
        "1 / time (3): 1950 to 1970"
       ]
      }
     ],
     "prompt_number": 12
    },
    {
     "cell_type": "markdown",
     "metadata": {},
     "source": [
      "Individual axes can be accessed as well, which are `Axis` instances."
     ]
    },
    {
     "cell_type": "heading",
     "level": 3,
     "metadata": {},
     "source": [
      "metadata"
     ]
    },
    {
     "cell_type": "markdown",
     "metadata": {},
     "source": [
      "The straightforward way to define them is via the standard `.` syntax to access an object attribute:"
     ]
    },
    {
     "cell_type": "code",
     "collapsed": false,
     "input": [
      "from dimarray import DimArray\n",
      "a = DimArray([1,2,3])"
     ],
     "language": "python",
     "metadata": {},
     "outputs": [],
     "prompt_number": 8
    },
    {
     "cell_type": "code",
     "collapsed": false,
     "input": [
      "a.name = 'myname'\n",
      "a.units = 'myunits'"
     ],
     "language": "python",
     "metadata": {},
     "outputs": [],
     "prompt_number": 9
    },
    {
     "cell_type": "markdown",
     "metadata": {},
     "source": [
      "The `_metadata` property returns a dictionary of metadata, for checking:"
     ]
    },
    {
     "cell_type": "code",
     "collapsed": false,
     "input": [
      "a._metadata # doctest: +SKIP"
     ],
     "language": "python",
     "metadata": {},
     "outputs": [
      {
       "metadata": {},
       "output_type": "pyout",
       "prompt_number": 10,
       "text": [
        "{'name': 'myname', 'units': 'myunits'}"
       ]
      }
     ],
     "prompt_number": 10
    },
    {
     "cell_type": "markdown",
     "metadata": {},
     "source": [
      "Metadata are conserved by slicing and along-axis transformation, but are lost with any other transformation."
     ]
    },
    {
     "cell_type": "code",
     "collapsed": false,
     "input": [
      "a[:]._metadata  # doctest: +SKIP"
     ],
     "language": "python",
     "metadata": {},
     "outputs": [
      {
       "metadata": {},
       "output_type": "pyout",
       "prompt_number": 13,
       "text": [
        "{'name': 'myname', 'units': 'myunits'}"
       ]
      }
     ],
     "prompt_number": 13
    },
    {
     "cell_type": "markdown",
     "metadata": {},
     "source": [
      ".. note:: Currently metadata are not stored in the `_metadata` attribute but quite classically in the class's `__dict__` attribute. `_metadata` is only a convenience property that makes a copy of all non-private instance attributes. Therefore modifying its values element-wise will have no effect on actual metadata. \n",
      "\n",
      ".. note:: Any attribute starting with  `_` will not show up in `_metadata`. This `private` attributes will not be conserved via indexing or transformation, and will not be written to netCDF. They can still be read from a netCDF file, though.\n"
     ]
    }
   ],
   "metadata": {}
  }
 ]
}