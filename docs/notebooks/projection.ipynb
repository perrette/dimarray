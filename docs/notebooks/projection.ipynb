{
 "metadata": {
  "name": "",
  "signature": "sha256:d2ced08bc07850c286e7a2c6f077ceefe0d485e2c02079c6f34ae75adc65cbd6"
 },
 "nbformat": 3,
 "nbformat_minor": 0,
 "worksheets": [
  {
   "cells": [
    {
     "cell_type": "markdown",
     "metadata": {},
     "source": [
      ".. _projection:"
     ]
    },
    {
     "cell_type": "heading",
     "level": 1,
     "metadata": {},
     "source": [
      "Coordinate systems and Projections"
     ]
    },
    {
     "cell_type": "markdown",
     "metadata": {},
     "source": [
      ".. contents::\n",
      "    :local:"
     ]
    },
    {
     "cell_type": "markdown",
     "metadata": {},
     "source": [
      "dimarray.geo is shipped with :func:`dimarray.geo.transform` and :func:`dimarray.geo.transform_vectors` functions to handle transformations across coordinate reference systems. They are based on `cartopy.crs` methods, themselves built on `PROJ.4` library.\n",
      "\n",
      "In contrast to cartopy/PROJ.4, dimarray.geo functions perform both coordinate transforms and regridding onto a regular grid in the new coordinate system. This is because of the structure of DimArray and GeoArray classes, which only accept regular grids (in the sense of a collection of 1-D axes)."
     ]
    },
    {
     "cell_type": "heading",
     "level": 2,
     "metadata": {},
     "source": [
      "Coordinate systems: CF-conventions, PROJ.4, cartopy"
     ]
    },
    {
     "cell_type": "markdown",
     "metadata": {},
     "source": [
      "A typical software to make projections is PROJ.4. Python bindings exist, such as pyproj. One problem is that PROJ.4 parameters differ from those present in the netCDF file.\n",
      "\n",
      "The grid mapping attributes in netCDF files are defined according to a set of `CF conventions <http://cfconventions.org/Data/cf-convetions/cf-conventions-1.7/build/cf-conventions.html#appendix-grid-mappings>`_. Following the indications in this document, and given some understanding of the underlying projection, it is not too difficult to find the matching PROJ.4 parameters.\n",
      "\n",
      "A good understanding may still require a bit of time, though. And when it comes to plotting this may not be enough ! basemap is actually pretty close to PROJ.4 in term of parameter names (but not one to one) so the PROJ.4 to basemap step is small. Other tools, like the younger `cartopy <http://scitools.org.uk/cartopy/>`_ introduces its own parameter names, which are also slightly different from those introduced by another sister project from the Met' Office, `iris <http://scitools.org.uk/iris/>`_. Note that under the hood both projects use cartopy's own bindings to PROJ.4.  \n",
      "\n",
      ":module:dimarray.geo.crs attempts to ease mapping between CF-convention and PROJ.4 parameters by defining a few common projection classes. These classes inherit from the generic class :class:`cartopy.crs.CRS`, but are not limited to the projection list defined by cartopy (which add another layer on top of PROJ.4 / CRS to help plotting). In fact, the :class:`dimarray.geo.crs.Proj4` class can be initialized by any PROJ.4 string.\n",
      "\n",
      ".. note :: Why cartopy and not just pyproj? Pyproj would be just fine, and is more minimalistic, but cartopy also implements vector transformas and offers other useful features related to plotting, reading shapefiles, download online data and so on, which come in handy. Moreover it feels more `\"pythonic\" <http://legacy.python.org/dev/peps/pep-0008>`_, is actively developed with support from the Met' Office, and is related to another interesting project, iris. It builds on other powerful packages such as shapely and it feels like in the long (or not so long) run it might grow toward something even more useful."
     ]
    },
    {
     "cell_type": "heading",
     "level": 2,
     "metadata": {},
     "source": [
      "A practical example"
     ]
    },
    {
     "cell_type": "code",
     "collapsed": false,
     "input": [
      "from pylab import *  # %pylab would break the doctest\n",
      "%matplotlib inline\n",
      "from dimarray.geo import GeoArray, get_ncfile, read_nc"
     ],
     "language": "python",
     "metadata": {},
     "outputs": [],
     "prompt_number": 1
    },
    {
     "cell_type": "markdown",
     "metadata": {},
     "source": [
      "Let's use a real-world example of surface velocity data from Joughin et al (2010) (see exact reference below), sub-sampled at lower resolution for testing purposes."
     ]
    },
    {
     "cell_type": "code",
     "collapsed": false,
     "input": [
      "ncfile = get_ncfile('greenland_velocity.nc')\n",
      "ds = read_nc(ncfile)\n",
      "#print ds.summary()\n",
      "ds"
     ],
     "language": "python",
     "metadata": {},
     "outputs": [
      {
       "metadata": {},
       "output_type": "pyout",
       "prompt_number": 2,
       "text": [
        "Dataset of 6 variables\n",
        "0 / y1 (113): -3400000.0 to -600000.0\n",
        "1 / x1 (61): -800000.0 to 700000.0\n",
        "surfvelmag: ('y1', 'x1')\n",
        "lat: ('y1', 'x1')\n",
        "lon: ('y1', 'x1')\n",
        "surfvely: ('y1', 'x1')\n",
        "surfvelx: ('y1', 'x1')\n",
        "mapping: nan"
       ]
      }
     ],
     "prompt_number": 2
    },
    {
     "cell_type": "markdown",
     "metadata": {},
     "source": [
      "\"lon\" and \"lat\" are not the standard coordinates here. But \"x1\" and \"y1\". Let's have a closer look:"
     ]
    },
    {
     "cell_type": "code",
     "collapsed": false,
     "input": [
      "print ds.axes.summary()"
     ],
     "language": "python",
     "metadata": {},
     "outputs": [
      {
       "output_type": "stream",
       "stream": "stdout",
       "text": [
        "0 / y1 (113): -3400000.0 to -600000.0\n",
        "        units : meters\n",
        "        long_name : Cartesian y-coordinate\n",
        "        standard_name : projection_y_coordinate\n",
        "1 / x1 (61): -800000.0 to 700000.0\n",
        "        units : meters\n",
        "        long_name : Cartesian x-coordinate\n",
        "        standard_name : projection_x_coordinate\n"
       ]
      }
     ],
     "prompt_number": 3
    },
    {
     "cell_type": "markdown",
     "metadata": {},
     "source": [
      "They are obviously projection coordinates. 2-dimensional longitude and latitude coordinates are also present in the dataset."
     ]
    },
    {
     "cell_type": "markdown",
     "metadata": {},
     "source": [
      "Examining closer the attributes of 'surfvelmag' variable, a \"grid_mapping\" attribute is present:"
     ]
    },
    {
     "cell_type": "code",
     "collapsed": false,
     "input": [
      "ds['surfvelmag']._metadata()"
     ],
     "language": "python",
     "metadata": {},
     "outputs": [
      {
       "metadata": {},
       "output_type": "pyout",
       "prompt_number": 4,
       "text": [
        "{'grid_mapping': u'mapping',\n",
        " 'long_name': u'Surface Velocity Magnitude',\n",
        " 'note': u'Ian Joughin notes that \"Having any papers that use the data we provided to searise cite this paper [the reference provided] gives us something we can track through ISI and report to NASA to satisfy their metrics requirements, which is a necessary evil to ensure continued production of such data sets.  So ... any publication of results based on this data should cite the above paper.\"',\n",
        " 'reference': u'Joughin I., Smith B.E., Howat I.M., Scambos T., Moon T., \"Greenland flow variability from ice-sheet wide velocity mapping\", JGlac 56(197), 2010.',\n",
        " 'units': u'meters/year'}"
       ]
      }
     ],
     "prompt_number": 4
    },
    {
     "cell_type": "markdown",
     "metadata": {},
     "source": [
      "\"grid_mapping\" is a string which points to another variable in the dataset, here \"mapping\". This is according to CF-conventions. *mapping* is a dummy variable whose attributes contain the information needed to define a coordinate reference system. "
     ]
    },
    {
     "cell_type": "code",
     "collapsed": false,
     "input": [
      "grid_mapping = ds['mapping']._metadata()\n",
      "grid_mapping"
     ],
     "language": "python",
     "metadata": {},
     "outputs": [
      {
       "metadata": {},
       "output_type": "pyout",
       "prompt_number": 5,
       "text": [
        "{'ellipsoid': u'WGS84',\n",
        " 'false_easting': 0.0,\n",
        " 'false_northing': 0.0,\n",
        " 'grid_mapping_name': u'polar_stereographic',\n",
        " 'latitude_of_projection_origin': 90.0,\n",
        " 'standard_parallel': 71.0,\n",
        " 'straight_vertical_longitude_from_pole': -39.0}"
       ]
      }
     ],
     "prompt_number": 5
    },
    {
     "cell_type": "markdown",
     "metadata": {},
     "source": [
      "We can use matplotlib's contourf to get a feeling for what that all mean. Below using regular x1, y1 grid, in the projection plane."
     ]
    },
    {
     "cell_type": "code",
     "collapsed": false,
     "input": [
      "v = ds['surfvelmag']  # velopcity magnitude\n",
      "h = log(clip(v,1e-3,inf)).contourf() # logarithm of velocity\n",
      "colorbar(h)\n",
      "ax = gca() # get plot axis\n",
      "ax.set_aspect('equal') # equal aspect ratio\n",
      "_ = ax.set_xticks([-500e3,0,500e3]) # ticks every 500 km"
     ],
     "language": "python",
     "metadata": {},
     "outputs": [
      {
       "metadata": {},
       "output_type": "display_data",
       "png": "[encoded data removed]",
       "text": [
        "<matplotlib.figure.Figure at 0x7f10e98e00d0>"
       ]
      }
     ],
     "prompt_number": 6
    },
    {
     "cell_type": "markdown",
     "metadata": {},
     "source": [
      "And now plotting versus lon and lat (irregular, 2-D grid in this case):"
     ]
    },
    {
     "cell_type": "code",
     "collapsed": false,
     "input": [
      "contourf(ds['lon'], ds['lat'], log(clip(v, 1e-3,inf))); colorbar()"
     ],
     "language": "python",
     "metadata": {},
     "outputs": [
      {
       "metadata": {},
       "output_type": "pyout",
       "prompt_number": 7,
       "text": [
        "<matplotlib.colorbar.Colorbar instance at 0x7f10e95d32d8>"
       ]
      },
      {
       "metadata": {},
       "output_type": "display_data",
       "png": "[encoded data removed]",
       "text": [
        "<matplotlib.figure.Figure at 0x7f110da98a90>"
       ]
      }
     ],
     "prompt_number": 7
    },
    {
     "cell_type": "markdown",
     "metadata": {},
     "source": [
      "The polar stereographic projection (top) represent real distances in kilometers because points are projected on a plane close to the region of interest (Greenland).  In the longitude / latitude (or geodetic) (bottom) coordinate system horizontal distances are exagerated toward the pole. This is clearly visible on this figure. "
     ]
    },
    {
     "cell_type": "heading",
     "level": 2,
     "metadata": {},
     "source": [
      "Coordinate systems"
     ]
    },
    {
     "cell_type": "markdown",
     "metadata": {},
     "source": [
      "The :func:`get_crs` function returns the most adequate projection class:"
     ]
    },
    {
     "cell_type": "code",
     "collapsed": false,
     "input": [
      "from dimarray.geo.crs import get_crs"
     ],
     "language": "python",
     "metadata": {},
     "outputs": [],
     "prompt_number": 8
    },
    {
     "cell_type": "code",
     "collapsed": false,
     "input": [
      "stere = get_crs(grid_mapping)\n",
      "stere"
     ],
     "language": "python",
     "metadata": {},
     "outputs": [
      {
       "metadata": {},
       "output_type": "pyout",
       "prompt_number": 9,
       "text": [
        "<dimarray.geo.crs.PolarStereographic at 0x7f10e8cb56b0>"
       ]
      }
     ],
     "prompt_number": 9
    },
    {
     "cell_type": "markdown",
     "metadata": {},
     "source": [
      "All projection classes defined in dimarray inherit from :class:cartopy.crs.CRS. A few common transformations have a Cartopy equivalent, and are defined as subclass, where possible."
     ]
    },
    {
     "cell_type": "code",
     "collapsed": false,
     "input": [
      "import cartopy.crs as ccrs\n",
      "isinstance(stere, ccrs.Stereographic)"
     ],
     "language": "python",
     "metadata": {},
     "outputs": [
      {
       "metadata": {},
       "output_type": "pyout",
       "prompt_number": 10,
       "text": [
        "True"
       ]
      }
     ],
     "prompt_number": 10
    },
    {
     "cell_type": "code",
     "collapsed": false,
     "input": [
      "stere.transform_point(-40,71,ccrs.Geodetic()) # project lon=-40 lat=71 (geodetic coordinates) onto our coord system"
     ],
     "language": "python",
     "metadata": {},
     "outputs": [
      {
       "metadata": {},
       "output_type": "pyout",
       "prompt_number": 11,
       "text": [
        "(-36349.17592565123, -2082442.894090307)"
       ]
      }
     ],
     "prompt_number": 11
    },
    {
     "cell_type": "markdown",
     "metadata": {},
     "source": [
      "So that it is also possible to directly provide a cartopy class (for user more familiar with cartopy than with CF-conventions). Note also that any such class has a :attr:`proj4_init` attribute (see cartopy's doc and source code) which is passed to PROJ.4 when performing the actual transformations:"
     ]
    },
    {
     "cell_type": "code",
     "collapsed": false,
     "input": [
      "stere.proj4_init"
     ],
     "language": "python",
     "metadata": {},
     "outputs": [
      {
       "metadata": {},
       "output_type": "pyout",
       "prompt_number": 12,
       "text": [
        "'+ellps=WGS84 +proj=stere +lat_0=90.0 +lon_0=-39.0 +x_0=0.0 +y_0=0.0 +lat_ts=71.0 +no_defs'"
       ]
      }
     ],
     "prompt_number": 12
    },
    {
     "cell_type": "markdown",
     "metadata": {},
     "source": [
      "In some cases they are no cartopy pre-defined classes, nor dimarray. If you figure out which PROJ.4 parameters should be used, it is possible to initialize a :class:dimarray.geo.crs.Proj4 class with a PROJ.4 string, still as a subclass of cartopy's CRS. "
     ]
    },
    {
     "cell_type": "code",
     "collapsed": false,
     "input": [
      "from dimarray.geo.crs import Proj4\n",
      "stere2 = Proj4(\"+ellps=WGS84 +proj=stere +lat_0=90.0 +lon_0=-39.0 +x_0=0.0 +y_0=0.0 +lat_ts=71.0\")\n",
      "stere2.transform_point(-40,71,ccrs.Geodetic())"
     ],
     "language": "python",
     "metadata": {},
     "outputs": [
      {
       "metadata": {},
       "output_type": "pyout",
       "prompt_number": 13,
       "text": [
        "(-36349.17592565123, -2082442.894090307)"
       ]
      }
     ],
     "prompt_number": 13
    },
    {
     "cell_type": "markdown",
     "metadata": {},
     "source": [
      "The :func:`dimarray.geo.get_crs` function takes these various conventions and return the matching CRS instance. "
     ]
    },
    {
     "cell_type": "heading",
     "level": 2,
     "metadata": {},
     "source": [
      "Transform dimarrays"
     ]
    },
    {
     "cell_type": "markdown",
     "metadata": {},
     "source": [
      "Let's do our first transformation with diamrray and cartopy"
     ]
    },
    {
     "cell_type": "code",
     "collapsed": false,
     "input": [
      "from dimarray.geo import transform"
     ],
     "language": "python",
     "metadata": {},
     "outputs": [],
     "prompt_number": 14
    },
    {
     "cell_type": "code",
     "collapsed": false,
     "input": [
      "v = ds['surfvelmag']\n",
      "vt = transform(v, from_grid_mapping=stere, to_grid_mapping=ccrs.Geodetic())\n",
      "vt"
     ],
     "language": "python",
     "metadata": {},
     "outputs": [
      {
       "metadata": {},
       "output_type": "pyout",
       "prompt_number": 15,
       "text": [
        "geoarray: 6893 non-null elements (0 null)\n",
        "0 / lat (113): 58.6292691402 to 84.4819014732 (Latitude)\n",
        "1 / lon (61): -92.1301023542 to 10.398705355 (Longitude)\n",
        "array(...)"
       ]
      }
     ],
     "prompt_number": 15
    },
    {
     "cell_type": "markdown",
     "metadata": {},
     "source": [
      "The coordinates are quite messy, let's do something better by providing the final domain."
     ]
    },
    {
     "cell_type": "code",
     "collapsed": false,
     "input": [
      "vt = transform(v, from_grid_mapping=stere, to_grid_mapping=ccrs.Geodetic(), xt=np.arange(-92,10,0.25), yt=np.arange(59,85,0.25))\n",
      "vt"
     ],
     "language": "python",
     "metadata": {},
     "outputs": [
      {
       "metadata": {},
       "output_type": "pyout",
       "prompt_number": 16,
       "text": [
        "geoarray: 42432 non-null elements (0 null)\n",
        "0 / lat (104): 59.0 to 84.75 (Latitude)\n",
        "1 / lon (408): -92.0 to 9.75 (Longitude)\n",
        "array(...)"
       ]
      }
     ],
     "prompt_number": 16
    },
    {
     "cell_type": "markdown",
     "metadata": {},
     "source": [
      ".. note :: If xt and yt are not provided, they are determined by a forward transformation of the (meshed) original coordinates onto the new coordinate system and by building a regular grid from the transformed (irregular) coordinates. In any case, xt and yt then need to be mapped back into the original coordinate system, where the dimarray is interpolated. For that reason, it is preferable to provide xt and yt, so that only one (backward !) transformation is performed."
     ]
    },
    {
     "cell_type": "markdown",
     "metadata": {},
     "source": [
      "Double-check against earlier figures, this looks all right:"
     ]
    },
    {
     "cell_type": "code",
     "collapsed": false,
     "input": [
      "h = log(clip(vt,1e-3,inf)).contourf(levels=np.linspace(-7.5, 10, 8))\n",
      "colorbar(h)"
     ],
     "language": "python",
     "metadata": {},
     "outputs": [
      {
       "metadata": {},
       "output_type": "pyout",
       "prompt_number": 17,
       "text": [
        "<matplotlib.colorbar.Colorbar instance at 0x7f10e85bfcf8>"
       ]
      },
      {
       "metadata": {},
       "output_type": "display_data",
       "png": "[encoded data removed]",
       "text": [
        "<matplotlib.figure.Figure at 0x7f10e8ccbf10>"
       ]
      }
     ],
     "prompt_number": 17
    },
    {
     "cell_type": "markdown",
     "metadata": {},
     "source": [
      "So in summary transformations between coordinate reference systems are performed using cartopy's CRS subclasses. The result is always a regular dimarray."
     ]
    },
    {
     "cell_type": "heading",
     "level": 2,
     "metadata": {},
     "source": [
      "Transform vector fields"
     ]
    },
    {
     "cell_type": "markdown",
     "metadata": {},
     "source": [
      "It is also possible to perform vector transformation (wrapper around :meth:`cartopy.crs.CRS.transform_vectors` method)"
     ]
    },
    {
     "cell_type": "markdown",
     "metadata": {},
     "source": [
      "That is the original field on the projection plane."
     ]
    },
    {
     "cell_type": "code",
     "collapsed": false,
     "input": [
      "vx = ds['surfvelx']\n",
      "vy = ds['surfvely']\n",
      "log(clip(v,1e-3,inf)).contourf()\n",
      "streamplot(vx.x1, vx.y1, vx.values, vy.values, color='k')\n",
      "ax = gca()\n",
      "ax.set_aspect('equal') # equal aspect ratio\n",
      "_ = ax.set_xticks([-500e3,0,500e3]) # ticks every 500 km"
     ],
     "language": "python",
     "metadata": {},
     "outputs": [
      {
       "metadata": {},
       "output_type": "display_data",
       "png": "[encoded data removed]",
       "text": [
        "<matplotlib.figure.Figure at 0x7f10e85e1650>"
       ]
      }
     ],
     "prompt_number": 18
    },
    {
     "cell_type": "markdown",
     "metadata": {},
     "source": [
      "Transforming vectors in longitude latitude coordinates does not make much sense because the angles cannot be conserved. Let's rather use a polar stereographic projection focused on the north-east side of Greenland."
     ]
    },
    {
     "cell_type": "code",
     "collapsed": false,
     "input": [
      "grid_mapping = {'ellipsoid': 'WGS84',\n",
      " 'grid_mapping_name': 'polar_stereographic',\n",
      " 'latitude_of_projection_origin': 90.0, # +90 or -90 are accepted with this class \n",
      " 'standard_parallel': 71.0,\n",
      " 'straight_vertical_longitude_from_pole': -20}\n",
      "\n",
      "stere_ne = get_crs(grid_mapping)\n",
      "stere_ne._x_limits = [-2000e3, 1000e3]\n",
      "#stere_ne._y_limits = [-2000e3, 1000e3]"
     ],
     "language": "python",
     "metadata": {},
     "outputs": [],
     "prompt_number": 19
    },
    {
     "cell_type": "markdown",
     "metadata": {},
     "source": [
      ".. note:: A stereographic projection would achieve similar result with parameters {'longitude_of_projection_origin':-20, 'latitude_of_projection_origin': 78.0} and further adjustment of 'false_northing'. While a stereographic projection uses a plane tangent to the Earth surface at the specified point, a polar_stereographic always uses a plane parallel to the equator, but secant to the Earth surface along the standard_parallel, where the deformation between distances on the plane and on the ellipsoid is minimal. See `cartopy issue #455 <https://github.com/SciTools/cartopy/issues/455>`_ for more discussion. "
     ]
    },
    {
     "cell_type": "code",
     "collapsed": false,
     "input": [
      "from dimarray.geo import transform_vectors"
     ],
     "language": "python",
     "metadata": {},
     "outputs": [],
     "prompt_number": 20
    },
    {
     "cell_type": "code",
     "collapsed": false,
     "input": [
      "vt = transform(v, from_grid_mapping=stere, to_grid_mapping=stere_ne)\n",
      "vxt, vyt = transform_vectors(vx,vy, from_grid_mapping=stere, to_grid_mapping=stere_ne)\n",
      "\n",
      "log(clip(vt,1e-3,inf)).contourf()\n",
      "streamplot(vxt.x, vxt.y, vxt.values, vyt.values, color='k')\n",
      "\n",
      "ax = gca()\n",
      "ax.set_aspect('equal') # equal aspect ratio\n",
      "_ = ax.set_xticks([-1000e3,0]) # ticks every 1000 km"
     ],
     "language": "python",
     "metadata": {},
     "outputs": [
      {
       "metadata": {},
       "output_type": "display_data",
       "png": "[encoded data removed]",
       "text": [
        "<matplotlib.figure.Figure at 0x7f10e97949d0>"
       ]
      }
     ],
     "prompt_number": 21
    },
    {
     "cell_type": "markdown",
     "metadata": {},
     "source": [
      ".. note:: The rotation is due to changing the straight longitude from pole. At x=0 north-south features lie along the y axis, whereas elsewhere they appear rotated. As far as distances are concerned, the standard parellel specification indicates the latitude at which there is no distorsion compared to the ellipsoid surface."
     ]
    },
    {
     "cell_type": "markdown",
     "metadata": {},
     "source": [
      "We can check that magnitude of the vectors have been conserved in the transformation."
     ]
    },
    {
     "cell_type": "code",
     "collapsed": false,
     "input": [
      "vtmag = (vxt**2 + vyt**2)**0.5\n",
      "vtmag.take(-1250e3, axis='y', tol=100e3)\n",
      "#(np.abs(v - (vx**2+vy**2)**0.5) > 1e-2).sum()"
     ],
     "language": "python",
     "metadata": {},
     "outputs": [
      {
       "metadata": {},
       "output_type": "pyout",
       "prompt_number": 22,
       "text": [
        "geoarray: 61 non-null elements (0 null)\n",
        "0 / x (61): -1863346.58563 to 466522.110245 (X)\n",
        "array([   0.        ,    0.        ,    0.        ,    0.        ,\n",
        "          0.        ,    0.        ,    0.        ,    0.        ,\n",
        "          0.        ,    0.        ,    0.        ,    0.        ,\n",
        "          0.        ,    0.        ,    0.        ,    0.        ,\n",
        "          0.        ,    0.        ,    0.        ,    0.        ,\n",
        "          0.        ,    0.        ,    0.        ,   90.35084744,\n",
        "        110.8354396 ,   66.05272041,   36.68251113,   26.18777277,\n",
        "         17.57719055,   10.09171408,    5.75939845,    3.88534234,\n",
        "          3.03914975,    3.14114868,    5.58967128,    5.36864275,\n",
        "          6.92504611,    8.73040925,   10.78680748,   15.33915127,\n",
        "         25.77392335,   39.67596188,   47.05791413,   66.88628736,\n",
        "        177.78644865,  331.12541901,   60.37719117,    5.80588963,\n",
        "        329.64676724,   11.42843485,    0.        ,    0.        ,\n",
        "          0.        ,    0.        ,    0.        ,    0.        ,\n",
        "          0.        ,    0.        ,    0.        ,    0.        ,    0.        ])"
       ]
      }
     ],
     "prompt_number": 22
    },
    {
     "cell_type": "code",
     "collapsed": false,
     "input": [
      "vt.take(-1250e3, axis='y', tol=100e3)"
     ],
     "language": "python",
     "metadata": {},
     "outputs": [
      {
       "metadata": {},
       "output_type": "pyout",
       "prompt_number": 23,
       "text": [
        "geoarray: 61 non-null elements (0 null)\n",
        "0 / x (61): -1863346.58563 to 466522.110245 (X)\n",
        "array([   0.        ,    0.        ,    0.        ,    0.        ,\n",
        "          0.        ,    0.        ,    0.        ,    0.        ,\n",
        "          0.        ,    0.        ,    0.        ,    0.        ,\n",
        "          0.        ,    0.        ,    0.        ,    0.        ,\n",
        "          0.        ,    0.        ,    0.        ,    0.        ,\n",
        "          0.        ,    0.        ,    0.        ,   90.98062336,\n",
        "        111.265301  ,   66.17082304,   36.81300015,   26.20765007,\n",
        "         17.60422935,   10.09561511,    5.76371627,    3.91823933,\n",
        "          3.18606217,    3.378308  ,    5.60135265,    5.379735  ,\n",
        "          6.98582682,    8.73775437,   10.92189524,   15.45036607,\n",
        "         25.83135895,   39.68524036,   47.38063866,   68.49116886,\n",
        "        181.59244643,  331.25150532,   69.29903008,    6.86233265,\n",
        "        349.68772307,   11.58363965,    0.        ,    0.        ,\n",
        "          0.        ,    0.        ,    0.        ,    0.        ,\n",
        "          0.        ,    0.        ,    0.        ,    0.        ,    0.        ])"
       ]
      }
     ],
     "prompt_number": 23
    },
    {
     "cell_type": "code",
     "collapsed": false,
     "input": [
      "stere2 = Proj4(stere.proj4_init[:-8])\n",
      "_ = transform_vectors(vx,vy, from_grid_mapping=stere2, to_grid_mapping=stere)"
     ],
     "language": "python",
     "metadata": {},
     "outputs": [],
     "prompt_number": 24
    },
    {
     "cell_type": "code",
     "collapsed": false,
     "input": [
      "stere2._x_limits = stere.x_limits \n",
      "stere2._y_limits = stere.y_limits \n",
      "_ = transform_vectors(vx,vy, from_grid_mapping=stere2, to_grid_mapping=stere)"
     ],
     "language": "python",
     "metadata": {},
     "outputs": [],
     "prompt_number": 25
    },
    {
     "cell_type": "code",
     "collapsed": false,
     "input": [
      "_ = transform_vectors(vx,vy, from_grid_mapping=ccrs.Geodetic(), to_grid_mapping=stere. delta=)"
     ],
     "language": "python",
     "metadata": {},
     "outputs": [
      {
       "output_type": "stream",
       "stream": "stderr",
       "text": [
        "/home/perrette/anaconda/lib/python2.7/site-packages/numpy/core/function_base.py:87: RuntimeWarning: invalid value encountered in double_scalars\n",
        "  step = (stop-start)/float((num-1))\n",
        "/home/perrette/anaconda/lib/python2.7/site-packages/dimarray-0.1.8.dev_d281923-py2.7.egg/dimarray/geo/projection.py:565: RuntimeWarning: invalid value encountered in subtract\n",
        "  projected_angles = np.arctan2(target_y_perturbed - target_y,\n",
        "/home/perrette/anaconda/lib/python2.7/site-packages/dimarray-0.1.8.dev_d281923-py2.7.egg/dimarray/geo/projection.py:566: RuntimeWarning: invalid value encountered in subtract\n",
        "  target_x_perturbed - target_x)\n"
       ]
      },
      {
       "ename": "IndexError",
       "evalue": "index -2147483648 is out of bounds for axis 0 with size 113",
       "output_type": "pyerr",
       "traceback": [
        "\u001b[1;31m---------------------------------------------------------------------------\u001b[0m",
        "\u001b[1;31mIndexError\u001b[0m                                Traceback (most recent call last)",
        "\u001b[1;32m<ipython-input-26-cf56ecdd7651>\u001b[0m in \u001b[0;36m<module>\u001b[1;34m()\u001b[0m\n\u001b[1;32m----> 1\u001b[1;33m \u001b[0m_\u001b[0m \u001b[1;33m=\u001b[0m \u001b[0mtransform_vectors\u001b[0m\u001b[1;33m(\u001b[0m\u001b[0mvx\u001b[0m\u001b[1;33m,\u001b[0m\u001b[0mvy\u001b[0m\u001b[1;33m,\u001b[0m \u001b[0mfrom_grid_mapping\u001b[0m\u001b[1;33m=\u001b[0m\u001b[0mccrs\u001b[0m\u001b[1;33m.\u001b[0m\u001b[0mGeodetic\u001b[0m\u001b[1;33m(\u001b[0m\u001b[1;33m)\u001b[0m\u001b[1;33m,\u001b[0m \u001b[0mto_grid_mapping\u001b[0m\u001b[1;33m=\u001b[0m\u001b[0mstere\u001b[0m\u001b[1;33m)\u001b[0m\u001b[1;33m\u001b[0m\u001b[0m\n\u001b[0m",
        "\u001b[1;32m/home/perrette/anaconda/lib/python2.7/site-packages/dimarray-0.1.8.dev_d281923-py2.7.egg/dimarray/geo/projection.pyc\u001b[0m in \u001b[0;36mtransform_vectors\u001b[1;34m(u, v, to_grid_mapping, from_grid_mapping, xt, yt, horizontal_coordinates, x_limits, y_limits, delta)\u001b[0m\n\u001b[0;32m    384\u001b[0m \u001b[1;33m\u001b[0m\u001b[0m\n\u001b[0;32m    385\u001b[0m     \u001b[1;32mif\u001b[0m \u001b[0mu\u001b[0m\u001b[1;33m.\u001b[0m\u001b[0mndim\u001b[0m \u001b[1;33m==\u001b[0m \u001b[1;36m2\u001b[0m\u001b[1;33m:\u001b[0m\u001b[1;33m\u001b[0m\u001b[0m\n\u001b[1;32m--> 386\u001b[1;33m         \u001b[0mnewu\u001b[0m \u001b[1;33m=\u001b[0m \u001b[0minterp\u001b[0m\u001b[1;33m(\u001b[0m\u001b[0mu\u001b[0m\u001b[1;33m.\u001b[0m\u001b[0mvalues\u001b[0m\u001b[1;33m,\u001b[0m \u001b[0mx0\u001b[0m\u001b[1;33m.\u001b[0m\u001b[0mvalues\u001b[0m\u001b[1;33m,\u001b[0m \u001b[0my0\u001b[0m\u001b[1;33m.\u001b[0m\u001b[0mvalues\u001b[0m\u001b[1;33m,\u001b[0m \u001b[0mx0_interp\u001b[0m\u001b[1;33m,\u001b[0m \u001b[0my0_interp\u001b[0m\u001b[1;33m)\u001b[0m\u001b[1;33m\u001b[0m\u001b[0m\n\u001b[0m\u001b[0;32m    387\u001b[0m         \u001b[0mut\u001b[0m \u001b[1;33m=\u001b[0m \u001b[0mu\u001b[0m\u001b[1;33m.\u001b[0m\u001b[0m_constructor\u001b[0m\u001b[1;33m(\u001b[0m\u001b[0mnewu\u001b[0m\u001b[1;33m,\u001b[0m \u001b[1;33m[\u001b[0m\u001b[0myt\u001b[0m\u001b[1;33m,\u001b[0m \u001b[0mxt\u001b[0m\u001b[1;33m]\u001b[0m\u001b[1;33m)\u001b[0m\u001b[1;33m\u001b[0m\u001b[0m\n\u001b[0;32m    388\u001b[0m         \u001b[0mnewv\u001b[0m \u001b[1;33m=\u001b[0m \u001b[0minterp\u001b[0m\u001b[1;33m(\u001b[0m\u001b[0mv\u001b[0m\u001b[1;33m.\u001b[0m\u001b[0mvalues\u001b[0m\u001b[1;33m,\u001b[0m \u001b[0mx0\u001b[0m\u001b[1;33m.\u001b[0m\u001b[0mvalues\u001b[0m\u001b[1;33m,\u001b[0m \u001b[0my0\u001b[0m\u001b[1;33m.\u001b[0m\u001b[0mvalues\u001b[0m\u001b[1;33m,\u001b[0m \u001b[0mx0_interp\u001b[0m\u001b[1;33m,\u001b[0m \u001b[0my0_interp\u001b[0m\u001b[1;33m)\u001b[0m\u001b[1;33m\u001b[0m\u001b[0m\n",
        "\u001b[1;32m/home/perrette/anaconda/lib/python2.7/site-packages/dimarray-0.1.8.dev_d281923-py2.7.egg/dimarray/compat/basemap.pyc\u001b[0m in \u001b[0;36minterp\u001b[1;34m(datain, xin, yin, xout, yout, checkbounds, masked, order)\u001b[0m\n\u001b[0;32m    131\u001b[0m         \u001b[0mdataout\u001b[0m \u001b[1;33m=\u001b[0m \u001b[1;33m(\u001b[0m\u001b[1;36m1.\u001b[0m\u001b[1;33m-\u001b[0m\u001b[0mdelx\u001b[0m\u001b[1;33m)\u001b[0m\u001b[1;33m*\u001b[0m\u001b[1;33m(\u001b[0m\u001b[1;36m1.\u001b[0m\u001b[1;33m-\u001b[0m\u001b[0mdely\u001b[0m\u001b[1;33m)\u001b[0m\u001b[1;33m*\u001b[0m\u001b[0mdatain\u001b[0m\u001b[1;33m[\u001b[0m\u001b[0myi\u001b[0m\u001b[1;33m,\u001b[0m\u001b[0mxi\u001b[0m\u001b[1;33m]\u001b[0m \u001b[1;33m+\u001b[0m\u001b[0;31m \u001b[0m\u001b[0;31m\\\u001b[0m\u001b[1;33m\u001b[0m\u001b[0m\n\u001b[0;32m    132\u001b[0m                   \u001b[0mdelx\u001b[0m\u001b[1;33m*\u001b[0m\u001b[0mdely\u001b[0m\u001b[1;33m*\u001b[0m\u001b[0mdatain\u001b[0m\u001b[1;33m[\u001b[0m\u001b[0myip1\u001b[0m\u001b[1;33m,\u001b[0m\u001b[0mxip1\u001b[0m\u001b[1;33m]\u001b[0m \u001b[1;33m+\u001b[0m\u001b[0;31m \u001b[0m\u001b[0;31m\\\u001b[0m\u001b[1;33m\u001b[0m\u001b[0m\n\u001b[1;32m--> 133\u001b[1;33m                   \u001b[1;33m(\u001b[0m\u001b[1;36m1.\u001b[0m\u001b[1;33m-\u001b[0m\u001b[0mdelx\u001b[0m\u001b[1;33m)\u001b[0m\u001b[1;33m*\u001b[0m\u001b[0mdely\u001b[0m\u001b[1;33m*\u001b[0m\u001b[0mdatain\u001b[0m\u001b[1;33m[\u001b[0m\u001b[0myip1\u001b[0m\u001b[1;33m,\u001b[0m\u001b[0mxi\u001b[0m\u001b[1;33m]\u001b[0m \u001b[1;33m+\u001b[0m\u001b[0;31m \u001b[0m\u001b[0;31m\\\u001b[0m\u001b[1;33m\u001b[0m\u001b[0m\n\u001b[0m\u001b[0;32m    134\u001b[0m                   \u001b[0mdelx\u001b[0m\u001b[1;33m*\u001b[0m\u001b[1;33m(\u001b[0m\u001b[1;36m1.\u001b[0m\u001b[1;33m-\u001b[0m\u001b[0mdely\u001b[0m\u001b[1;33m)\u001b[0m\u001b[1;33m*\u001b[0m\u001b[0mdatain\u001b[0m\u001b[1;33m[\u001b[0m\u001b[0myi\u001b[0m\u001b[1;33m,\u001b[0m\u001b[0mxip1\u001b[0m\u001b[1;33m]\u001b[0m\u001b[1;33m\u001b[0m\u001b[0m\n\u001b[0;32m    135\u001b[0m     \u001b[1;32melif\u001b[0m \u001b[0morder\u001b[0m \u001b[1;33m==\u001b[0m \u001b[1;36m0\u001b[0m\u001b[1;33m:\u001b[0m\u001b[1;33m\u001b[0m\u001b[0m\n",
        "\u001b[1;31mIndexError\u001b[0m: index -2147483648 is out of bounds for axis 0 with size 113"
       ]
      }
     ],
     "prompt_number": 26
    }
   ],
   "metadata": {}
  }
 ]
}