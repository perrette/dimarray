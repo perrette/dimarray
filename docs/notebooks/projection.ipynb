{
 "metadata": {
  "name": "",
  "signature": "sha256:edc546c9f9d2de2d833dd0efdff7b01401678283611c4a8dd6ada00dce8a6104"
 },
 "nbformat": 3,
 "nbformat_minor": 0,
 "worksheets": [
  {
   "cells": [
    {
     "cell_type": "markdown",
     "metadata": {},
     "source": [
      ".. _projection:"
     ]
    },
    {
     "cell_type": "heading",
     "level": 1,
     "metadata": {},
     "source": [
      "Cookbook: read and transform Greenland data"
     ]
    },
    {
     "cell_type": "markdown",
     "metadata": {},
     "source": [
      ".. versionadded:: 0.1.9"
     ]
    },
    {
     "cell_type": "markdown",
     "metadata": {},
     "source": [
      ".. contents::\n",
      "    :local:"
     ]
    },
    {
     "cell_type": "heading",
     "level": 3,
     "metadata": {},
     "source": [
      "Explore the data"
     ]
    },
    {
     "cell_type": "code",
     "collapsed": false,
     "input": [
      "from pylab import *  # %pylab would break the doctest\n",
      "%matplotlib inline\n",
      "from dimarray.geo import GeoArray, get_ncfile, read_nc"
     ],
     "language": "python",
     "metadata": {},
     "outputs": [],
     "prompt_number": 1
    },
    {
     "cell_type": "markdown",
     "metadata": {},
     "source": [
      "Let's use a real-world example of surface velocity data from Joughin et al (2010) (see exact reference below), sub-sampled at lower resolution for testing purposes."
     ]
    },
    {
     "cell_type": "code",
     "collapsed": false,
     "input": [
      "ncfile = get_ncfile('greenland_velocity.nc')\n",
      "ds = read_nc(ncfile)\n",
      "#ds.summary()\n",
      "ds"
     ],
     "language": "python",
     "metadata": {},
     "outputs": [
      {
       "metadata": {},
       "output_type": "pyout",
       "prompt_number": 2,
       "text": [
        "Dataset of 6 variables\n",
        "0 / y1 (113): -3400000.0 to -600000.0\n",
        "1 / x1 (61): -800000.0 to 700000.0\n",
        "surfvelmag: (u'y1', u'x1')\n",
        "lat: (u'y1', u'x1')\n",
        "lon: (u'y1', u'x1')\n",
        "surfvely: (u'y1', u'x1')\n",
        "surfvelx: (u'y1', u'x1')\n",
        "mapping: nan"
       ]
      }
     ],
     "prompt_number": 2
    },
    {
     "cell_type": "markdown",
     "metadata": {},
     "source": [
      "\"lon\" and \"lat\" are not the standard coordinates here. But \"x1\" and \"y1\". Let's have a closer look:"
     ]
    },
    {
     "cell_type": "code",
     "collapsed": false,
     "input": [
      "ds.summary()"
     ],
     "language": "python",
     "metadata": {},
     "outputs": [
      {
       "output_type": "stream",
       "stream": "stdout",
       "text": [
        "Dataset of 6 variables\n",
        "\n",
        "//dimensions:\n",
        "0 / y1 (113): -3400000.0 to -600000.0\n",
        "    units: u'meters'\n",
        "    long_name: u'Cartesian y-coordinate'\n",
        "    standard_name: u'projection_y_coordinate'\n",
        "1 / x1 (61): -800000.0 to 700000.0\n",
        "    units: u'meters'\n",
        "    long_name: u'Cartesian x-coordinate'\n",
        "    standard_name: u'projection_x_coordinate'\n",
        "\n",
        "//variables:\n",
        "surfvelmag: (u'y1', u'x1')\n",
        "    grid_mapping: u'mapping'\n",
        "    reference: u'Joughin I., Smith B.E., Howat I.M., Scambos T., Moon T., \"Greenland flow variability from ice-sheet wide velocity mapping\", JGlac 56(197), 2010.'\n",
        "    note: u'Ian Joughin notes that \"Having any papers that use the data we provided to searise cite this paper [the reference provided] gives us something we can track through ISI and report to NASA to satisfy their metrics requirements, which is a necessary evil to ensure continued production of such data sets.  So ... any publication of results based on this data should cite the above paper.\"'\n",
        "    long_name: u'Surface Velocity Magnitude'\n",
        "    units: u'meters/year'\n",
        "lat: (u'y1', u'x1')\n",
        "    units: u'degreeN'\n",
        "    long_name: u'Latitude'\n",
        "    standard_name: u'latitude'\n",
        "    grid_mapping: u'mapping'\n",
        "lon: (u'y1', u'x1')\n",
        "    units: u'degreeE'\n",
        "    long_name: u'Longitude'\n",
        "    standard_name: u'longitude'\n",
        "    grid_mapping: u'mapping'\n",
        "surfvely: (u'y1', u'x1')\n",
        "    grid_mapping: u'mapping'\n",
        "    reference: u'Joughin I., Smith B.E., Howat I.M., Scambos T., Moon T., \"Greenland flow variability from ice-sheet wide velocity mapping\", JGlac 56(197), 2010.'\n",
        "    note: u'Ian Joughin notes that \"Having any papers that use the data we provided to searise cite this paper [the reference provided] gives us something we can track through ISI and report to NASA to satisfy their metrics requirements, which is a necessary evil to ensure continued production of such data sets.  So ... any publication of results based on this data should cite the above paper.\"'\n",
        "    long_name: u'y-Component of Ice Surface Velocity'\n",
        "    standard_name: u'land_ice_y_velocity'\n",
        "    units: u'meters/year'\n",
        "surfvelx: (u'y1', u'x1')\n",
        "    grid_mapping: u'mapping'\n",
        "    reference: u'Joughin I., Smith B.E., Howat I.M., Scambos T., Moon T., \"Greenland flow variability from ice-sheet wide velocity mapping\", JGlac 56(197), 2010.'\n",
        "    note: u'Ian Joughin notes that \"Having any papers that use the data we provided to searise cite this paper [the reference provided] gives us something we can track through ISI and report to NASA to satisfy their metrics requirements, which is a necessary evil to ensure continued production of such data sets.  So ... any publication of results based on this data should cite the above paper.\"'\n",
        "    long_name: u'x-Component of Ice Surface Velocity'\n",
        "    standard_name: u'land_ice_x_velocity'\n",
        "    units: u'meters/year'\n",
        "mapping: nan\n",
        "    ellipsoid: u'WGS84'\n",
        "    latitude_of_projection_origin: 90.0\n",
        "    straight_vertical_longitude_from_pole: -39.0\n",
        "    standard_parallel: 71.0\n",
        "    false_northing: 0.0\n",
        "    grid_mapping_name: u'polar_stereographic'\n",
        "    false_easting: 0.0\n",
        "\n",
        "//global attributes:\n",
        "    Creators: u'Jesse Johnson, Brian Hand, Tim Bocek - University of Montana'\n",
        "    Conventions: u'CF-1.3'\n",
        "    History: u'Original data set created February 2009'\n",
        "    Comments: u'Extracted from Greenland Standard Data Set by M. Perrette in 2014 to be part of dimarray.geo CRS transform test suite'\n",
        "    Title: u'Greenland Standard Data Set'\n"
       ]
      }
     ],
     "prompt_number": 4
    },
    {
     "cell_type": "markdown",
     "metadata": {},
     "source": [
      "They are obviously projection coordinates. 2-dimensional longitude and latitude coordinates are also present in the dataset."
     ]
    },
    {
     "cell_type": "markdown",
     "metadata": {},
     "source": [
      "Examining closer the attributes of 'surfvelmag' variable, a \"grid_mapping\" attribute is present:"
     ]
    },
    {
     "cell_type": "code",
     "collapsed": false,
     "input": [
      "ds['surfvelmag'].attrs # doctest: +SKIP"
     ],
     "language": "python",
     "metadata": {},
     "outputs": [
      {
       "metadata": {},
       "output_type": "pyout",
       "prompt_number": 5,
       "text": [
        "OrderedDict([(u'grid_mapping', u'mapping'), (u'reference', u'Joughin I., Smith B.E., Howat I.M., Scambos T., Moon T., \"Greenland flow variability from ice-sheet wide velocity mapping\", JGlac 56(197), 2010.'), (u'note', u'Ian Joughin notes that \"Having any papers that use the data we provided to searise cite this paper [the reference provided] gives us something we can track through ISI and report to NASA to satisfy their metrics requirements, which is a necessary evil to ensure continued production of such data sets.  So ... any publication of results based on this data should cite the above paper.\"'), (u'long_name', u'Surface Velocity Magnitude'), (u'units', u'meters/year')])"
       ]
      }
     ],
     "prompt_number": 5
    },
    {
     "cell_type": "markdown",
     "metadata": {},
     "source": [
      "\"grid_mapping\" is a string which points to another variable in the dataset, here \"mapping\". This is according to CF-conventions. *mapping* is a dummy variable whose attributes contain the information needed to define a coordinate reference system. "
     ]
    },
    {
     "cell_type": "code",
     "collapsed": false,
     "input": [
      "grid_mapping = ds['mapping'].attrs\n",
      "grid_mapping # doctest: +SKIP"
     ],
     "language": "python",
     "metadata": {},
     "outputs": [
      {
       "metadata": {},
       "output_type": "pyout",
       "prompt_number": 6,
       "text": [
        "OrderedDict([(u'ellipsoid', u'WGS84'), (u'latitude_of_projection_origin', 90.0), (u'straight_vertical_longitude_from_pole', -39.0), (u'standard_parallel', 71.0), (u'false_northing', 0.0), (u'grid_mapping_name', u'polar_stereographic'), (u'false_easting', 0.0)])"
       ]
      }
     ],
     "prompt_number": 6
    },
    {
     "cell_type": "markdown",
     "metadata": {},
     "source": [
      "We can use matplotlib's contourf to get a feeling for what that all mean. Below using regular x1, y1 grid, in the projection plane."
     ]
    },
    {
     "cell_type": "code",
     "collapsed": false,
     "input": [
      "v = ds['surfvelmag']  # velopcity magnitude\n",
      "h = log(clip(v,1e-3,inf)).contourf() # logarithm of velocity\n",
      "colorbar(h)  # doctest: +SKIP\n",
      "ax = gca() # get plot axis\n",
      "ax.set_aspect('equal') # equal aspect ratio\n",
      "ax.set_xticks([-500e3,0,500e3]) # ticks every 500 km  # doctest: +SKIP"
     ],
     "language": "python",
     "metadata": {},
     "outputs": [
      {
       "metadata": {},
       "output_type": "pyout",
       "prompt_number": 7,
       "text": [
        "[<matplotlib.axis.XTick at 0x7f924d5dc650>,\n",
        " <matplotlib.axis.XTick at 0x7f924d66ae90>,\n",
        " <matplotlib.axis.XTick at 0x7f924d49d7d0>]"
       ]
      },
      {
       "metadata": {},
       "output_type": "display_data",
       "png": "[encoded data removed]",
       "text": [
        "<matplotlib.figure.Figure at 0x7f924d6a6d50>"
       ]
      }
     ],
     "prompt_number": 7
    },
    {
     "cell_type": "markdown",
     "metadata": {},
     "source": [
      "And now plotting versus lon and lat (irregular, 2-D grid in this case):"
     ]
    },
    {
     "cell_type": "code",
     "collapsed": false,
     "input": [
      "contourf(ds['lon'], ds['lat'], log(clip(v, 1e-3,inf))); colorbar()  # doctest: +SKIP"
     ],
     "language": "python",
     "metadata": {},
     "outputs": [
      {
       "metadata": {},
       "output_type": "pyout",
       "prompt_number": 8,
       "text": [
        "<matplotlib.colorbar.Colorbar instance at 0x7f924d3156c8>"
       ]
      },
      {
       "metadata": {},
       "output_type": "display_data",
       "png": "[encoded data removed]",
       "text": [
        "<matplotlib.figure.Figure at 0x7f924d6a6b90>"
       ]
      }
     ],
     "prompt_number": 8
    },
    {
     "cell_type": "markdown",
     "metadata": {},
     "source": [
      "The polar stereographic projection (top) represent real distances in kilometers because points are projected on a plane close to the region of interest (Greenland).  In the longitude / latitude (or geodetic) (bottom) coordinate system horizontal distances are exagerated toward the pole. This is clearly visible on this figure. "
     ]
    },
    {
     "cell_type": "heading",
     "level": 3,
     "metadata": {},
     "source": [
      "Grid mapping to CRS class"
     ]
    },
    {
     "cell_type": "markdown",
     "metadata": {},
     "source": [
      "The :func:`dimarray.geo.crs.get_crs` function returns the most adequate projection class:"
     ]
    },
    {
     "cell_type": "code",
     "collapsed": false,
     "input": [
      "from dimarray.geo.crs import get_crs"
     ],
     "language": "python",
     "metadata": {},
     "outputs": [],
     "prompt_number": 9
    },
    {
     "cell_type": "code",
     "collapsed": false,
     "input": [
      "stere = get_crs(grid_mapping)\n",
      "stere # doctest: +SKIP"
     ],
     "language": "python",
     "metadata": {},
     "outputs": [
      {
       "metadata": {},
       "output_type": "pyout",
       "prompt_number": 10,
       "text": [
        "<dimarray.geo.crs.PolarStereographic at 0x7f924d6301d0>"
       ]
      }
     ],
     "prompt_number": 10
    },
    {
     "cell_type": "markdown",
     "metadata": {},
     "source": [
      "All projection classes defined in dimarray inherit from :class:cartopy.crs.CRS. A few common transformations have a Cartopy equivalent, and are defined as subclass, where possible."
     ]
    },
    {
     "cell_type": "code",
     "collapsed": false,
     "input": [
      "import cartopy.crs as ccrs\n",
      "isinstance(stere, ccrs.Stereographic)"
     ],
     "language": "python",
     "metadata": {},
     "outputs": [
      {
       "metadata": {},
       "output_type": "pyout",
       "prompt_number": 11,
       "text": [
        "True"
       ]
      }
     ],
     "prompt_number": 11
    },
    {
     "cell_type": "code",
     "collapsed": false,
     "input": [
      "stere.transform_point(-40,71,ccrs.PlateCarree()) # project lon=-40 lat=71 (longlat coordinates) onto our coord system"
     ],
     "language": "python",
     "metadata": {},
     "outputs": [
      {
       "metadata": {},
       "output_type": "pyout",
       "prompt_number": 12,
       "text": [
        "(-36349.17592524537, -2082442.8940927587)"
       ]
      }
     ],
     "prompt_number": 12
    },
    {
     "cell_type": "markdown",
     "metadata": {},
     "source": [
      "So that it is also possible to directly provide a cartopy class (for user more familiar with cartopy than with CF-conventions). Note also that any such class has a :attr:`proj4_init` attribute (see cartopy's doc and source code) which is passed to PROJ.4 when performing the actual transformations:"
     ]
    },
    {
     "cell_type": "code",
     "collapsed": false,
     "input": [
      "stere.proj4_init"
     ],
     "language": "python",
     "metadata": {},
     "outputs": [
      {
       "metadata": {},
       "output_type": "pyout",
       "prompt_number": 13,
       "text": [
        "'+ellps=WGS84 +proj=stere +lat_0=90.0 +lon_0=-39.0 +x_0=0.0 +y_0=0.0 +lat_ts=71.0 +no_defs'"
       ]
      }
     ],
     "prompt_number": 13
    },
    {
     "cell_type": "markdown",
     "metadata": {},
     "source": [
      "In some cases they are no cartopy pre-defined classes, nor dimarray. If you figure out which PROJ.4 parameters should be used, it is possible to initialize a :class:dimarray.geo.crs.Proj4 class with a PROJ.4 string, still as a subclass of cartopy's CRS. "
     ]
    },
    {
     "cell_type": "code",
     "collapsed": false,
     "input": [
      "from dimarray.geo.crs import Proj4\n",
      "stere2 = Proj4(\"+ellps=WGS84 +proj=stere +lat_0=90.0 +lon_0=-39.0 +x_0=0.0 +y_0=0.0 +lat_ts=71.0\")\n",
      "stere2.transform_point(-40,71,ccrs.PlateCarree())"
     ],
     "language": "python",
     "metadata": {},
     "outputs": [
      {
       "metadata": {},
       "output_type": "pyout",
       "prompt_number": 14,
       "text": [
        "(-36349.17592524537, -2082442.8940927587)"
       ]
      }
     ],
     "prompt_number": 14
    },
    {
     "cell_type": "markdown",
     "metadata": {},
     "source": [
      "The :func:`dimarray.geo.get_crs` function takes these various conventions and return the matching CRS instance. "
     ]
    },
    {
     "cell_type": "heading",
     "level": 3,
     "metadata": {},
     "source": [
      "Transform dimarrays"
     ]
    },
    {
     "cell_type": "markdown",
     "metadata": {},
     "source": [
      "Let's do our first transformation with diamrray and cartopy"
     ]
    },
    {
     "cell_type": "code",
     "collapsed": false,
     "input": [
      "from dimarray.geo import transform"
     ],
     "language": "python",
     "metadata": {},
     "outputs": [],
     "prompt_number": 15
    },
    {
     "cell_type": "code",
     "collapsed": false,
     "input": [
      "v = ds['surfvelmag']\n",
      "vt = transform(v, from_crs=stere, to_crs=ccrs.PlateCarree())\n",
      "vt"
     ],
     "language": "python",
     "metadata": {},
     "outputs": [
      {
       "metadata": {},
       "output_type": "pyout",
       "prompt_number": 16,
       "text": [
        "geoarray: 3208 non-null elements (3685 null)\n",
        "0 / y (113): 58.6292691402 to 84.4819014732\n",
        "1 / x (61): -92.1301023542 to 10.398705355\n",
        "array(...)"
       ]
      }
     ],
     "prompt_number": 16
    },
    {
     "cell_type": "markdown",
     "metadata": {},
     "source": [
      "The coordinates are quite messy, let's do something better by providing the final domain."
     ]
    },
    {
     "cell_type": "code",
     "collapsed": false,
     "input": [
      "vt = transform(v, from_crs=stere, to_crs=ccrs.PlateCarree(), xt=np.arange(-92,10,0.25), yt=np.arange(59,85,0.25))\n",
      "vt"
     ],
     "language": "python",
     "metadata": {},
     "outputs": [
      {
       "metadata": {},
       "output_type": "pyout",
       "prompt_number": 17,
       "text": [
        "geoarray: 20259 non-null elements (22173 null)\n",
        "0 / y (104): 59.0 to 84.75\n",
        "1 / x (408): -92.0 to 9.75\n",
        "array(...)"
       ]
      }
     ],
     "prompt_number": 17
    },
    {
     "cell_type": "markdown",
     "metadata": {},
     "source": [
      ".. note :: If xt and yt are not provided, they are determined by a forward transformation of the (meshed) original coordinates onto the new coordinate system and by building a regular grid from the transformed (irregular) coordinates. In any case, xt and yt then need to be mapped back into the original coordinate system, where the dimarray is interpolated. For that reason, it is preferable to provide xt and yt, so that only one (backward !) transformation is performed."
     ]
    },
    {
     "cell_type": "markdown",
     "metadata": {},
     "source": [
      "Double-check against earlier figures, this looks all right:"
     ]
    },
    {
     "cell_type": "code",
     "collapsed": false,
     "input": [
      "h = log(clip(vt,1e-3,inf)).contourf(levels=np.linspace(-7.5, 10, 8))  # doctest: +SKIP\n",
      "colorbar(h) # doctest: +SKIP"
     ],
     "language": "python",
     "metadata": {},
     "outputs": [
      {
       "metadata": {},
       "output_type": "pyout",
       "prompt_number": 18,
       "text": [
        "<matplotlib.colorbar.Colorbar instance at 0x7f924c37ed40>"
       ]
      },
      {
       "metadata": {},
       "output_type": "display_data",
       "png": "[encoded data removed]",
       "text": [
        "<matplotlib.figure.Figure at 0x7f924c394b50>"
       ]
      }
     ],
     "prompt_number": 18
    },
    {
     "cell_type": "markdown",
     "metadata": {},
     "source": [
      "So in summary transformations between coordinate reference systems are performed using cartopy's CRS subclasses. The result is always a regular dimarray."
     ]
    },
    {
     "cell_type": "heading",
     "level": 3,
     "metadata": {},
     "source": [
      "Transform vector fields"
     ]
    },
    {
     "cell_type": "markdown",
     "metadata": {},
     "source": [
      "It is also possible to perform vector transformation (wrapper around :meth:`cartopy.crs.CRS.transform_vectors` method)"
     ]
    },
    {
     "cell_type": "markdown",
     "metadata": {},
     "source": [
      "That is the original field on the projection plane."
     ]
    },
    {
     "cell_type": "code",
     "collapsed": false,
     "input": [
      "vx = ds['surfvelx']\n",
      "vy = ds['surfvely']\n",
      "log(clip(v,1e-3,inf)).contourf()   # doctest: +SKIP\n",
      "streamplot(vx.x1, vx.y1, vx.values, vy.values, color='k')   # doctest: +SKIP\n",
      "ax = gca()\n",
      "ax.set_aspect('equal') # equal aspect ratio\n",
      "ax.set_xticks([-500e3,0,500e3]) # ticks every 500 km  # doctest: +SKIP"
     ],
     "language": "python",
     "metadata": {},
     "outputs": [
      {
       "metadata": {},
       "output_type": "pyout",
       "prompt_number": 19,
       "text": [
        "[<matplotlib.axis.XTick at 0x7f924d4f7450>,\n",
        " <matplotlib.axis.XTick at 0x7f924c1c9790>,\n",
        " <matplotlib.axis.XTick at 0x7f924b55bdd0>]"
       ]
      },
      {
       "metadata": {},
       "output_type": "display_data",
       "png": "[encoded data removed]",
       "text": [
        "<matplotlib.figure.Figure at 0x7f924c31c3d0>"
       ]
      }
     ],
     "prompt_number": 19
    },
    {
     "cell_type": "markdown",
     "metadata": {},
     "source": [
      "Transforming vectors in longitude latitude coordinates does not make much sense because the angles cannot be conserved. Let's rather use a polar stereographic projection focused on the north-east side of Greenland."
     ]
    },
    {
     "cell_type": "code",
     "collapsed": false,
     "input": [
      "grid_mapping = {'ellipsoid': 'WGS84',\n",
      "  'grid_mapping_name': 'polar_stereographic',\n",
      "  'latitude_of_projection_origin': 90.0, # +90 or -90 are accepted with this class \n",
      "  'standard_parallel': 71.0,\n",
      "  'straight_vertical_longitude_from_pole': -20}\n",
      "\n",
      "stere_ne = get_crs(grid_mapping)"
     ],
     "language": "python",
     "metadata": {},
     "outputs": [],
     "prompt_number": 20
    },
    {
     "cell_type": "markdown",
     "metadata": {},
     "source": [
      ".. note:: A stereographic projection would achieve similar result with parameters {'longitude_of_projection_origin':-20, 'latitude_of_projection_origin': 78.0} and further adjustment of 'false_northing'. While a stereographic projection uses a plane tangent to the Earth surface at the specified point, a polar_stereographic always uses a plane parallel to the equator, but secant to the Earth surface along the standard_parallel, where the deformation between distances on the plane and on the ellipsoid is minimal. See `cartopy issue #455 <https://github.com/SciTools/cartopy/issues/455>`_ for more discussion. "
     ]
    },
    {
     "cell_type": "code",
     "collapsed": false,
     "input": [
      "from dimarray.geo import transform_vectors"
     ],
     "language": "python",
     "metadata": {},
     "outputs": [],
     "prompt_number": 21
    },
    {
     "cell_type": "code",
     "collapsed": false,
     "input": [
      "vt = transform(v, from_crs=stere, to_crs=stere_ne)\n",
      "vxt, vyt = transform_vectors(vx,vy, from_crs=stere, to_crs=stere_ne)\n",
      "\n",
      "log(clip(vt,1e-3,inf)).contourf()   # doctest: +SKIP\n",
      "streamplot(vxt.x, vxt.y, vxt.values, vyt.values, color='k')   # doctest: +SKIP\n",
      "\n",
      "ax = gca()\n",
      "ax.set_aspect('equal') # equal aspect ratio\n",
      "ax.set_xticks([-1000e3,0]) # ticks every 1000 km  # doctest: +SKIP"
     ],
     "language": "python",
     "metadata": {},
     "outputs": [
      {
       "output_type": "stream",
       "stream": "stderr",
       "text": [
        "/home/perrette/anaconda/lib/python2.7/site-packages/numpy/ma/core.py:785: RuntimeWarning: invalid value encountered in greater_equal\n",
        "  return umath.absolute(a) * self.tolerance >= umath.absolute(b)\n"
       ]
      },
      {
       "metadata": {},
       "output_type": "pyout",
       "prompt_number": 22,
       "text": [
        "[<matplotlib.axis.XTick at 0x7f924c0a6910>,\n",
        " <matplotlib.axis.XTick at 0x7f924c0467d0>]"
       ]
      },
      {
       "metadata": {},
       "output_type": "display_data",
       "png": "[encoded data removed]",
       "text": [
        "<matplotlib.figure.Figure at 0x7f924c195110>"
       ]
      }
     ],
     "prompt_number": 22
    },
    {
     "cell_type": "markdown",
     "metadata": {},
     "source": [
      ".. note:: The rotation is due to changing the straight longitude from pole. At x=0 north-south features lie along the y axis, whereas elsewhere they appear rotated. As far as distances are concerned, the standard parellel specification indicates the latitude at which there is no distorsion compared to the ellipsoid surface."
     ]
    }
   ],
   "metadata": {}
  }
 ]
}