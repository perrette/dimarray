{
 "metadata": {
  "name": "",
  "signature": "sha256:3bf572825c503eeaca237dba102ad8499c5fa049df0372a6ff59cd64f8df2ff9"
 },
 "nbformat": 3,
 "nbformat_minor": 0,
 "worksheets": [
  {
   "cells": [
    {
     "cell_type": "markdown",
     "metadata": {},
     "source": [
      ".. _projection:"
     ]
    },
    {
     "cell_type": "heading",
     "level": 1,
     "metadata": {},
     "source": [
      "Coordinate reference systems and Projections"
     ]
    },
    {
     "cell_type": "markdown",
     "metadata": {},
     "source": [
      ".. contents::\n",
      "    :local:"
     ]
    },
    {
     "cell_type": "markdown",
     "metadata": {},
     "source": [
      "dimarray.geo is shipped with :func:`dimarray.geo.transform` and :func:`dimarray.geo.transform_vectors` functions to handle transformations across coordinate reference systems. It is based on `cartopy.crs` methods, itself built on `PROJ.4` library.\n",
      "\n",
      "In contrast to cartopy/PROJ.4, dimarray.geo functions perform both coordinate transforms and regridding onto a regular grid in the new coordinate system. This is because of the structure of DimArray and GeoArray classes, which only accept regular grids (in the sense of a collection of 1-D axes)."
     ]
    },
    {
     "cell_type": "heading",
     "level": 2,
     "metadata": {},
     "source": [
      "A practical example"
     ]
    },
    {
     "cell_type": "code",
     "collapsed": false,
     "input": [
      "from dimarray.geo import GeoArray, get_ncfile, read_nc"
     ],
     "language": "python",
     "metadata": {},
     "outputs": [],
     "prompt_number": 1
    },
    {
     "cell_type": "markdown",
     "metadata": {},
     "source": [
      "Let's use a real-world example of surface velocity data from Joughin et al (2010) (see exact reference below), sub-sampled at lower resolution for testing purposes."
     ]
    },
    {
     "cell_type": "code",
     "collapsed": false,
     "input": [
      "ncfile = get_ncfile('greenland_velocity.nc')\n",
      "ds = read_nc(ncfile)\n",
      "#print ds.summary()\n",
      "ds"
     ],
     "language": "python",
     "metadata": {},
     "outputs": [
      {
       "metadata": {},
       "output_type": "pyout",
       "prompt_number": 2,
       "text": [
        "Dataset of 6 variables\n",
        "0 / y1 (113): -3400000.0 to -600000.0\n",
        "1 / x1 (61): -800000.0 to 700000.0\n",
        "surfvelmag: ('y1', 'x1')\n",
        "lat: ('y1', 'x1')\n",
        "lon: ('y1', 'x1')\n",
        "surfvely: ('y1', 'x1')\n",
        "surfvelx: ('y1', 'x1')\n",
        "mapping: nan"
       ]
      }
     ],
     "prompt_number": 2
    },
    {
     "cell_type": "markdown",
     "metadata": {},
     "source": [
      "\"lon\" and \"lat\" are not the standard coordinates here. But \"x1\" and \"y1\". Let's have a closer look:"
     ]
    },
    {
     "cell_type": "code",
     "collapsed": false,
     "input": [
      "print ds.axes.summary()"
     ],
     "language": "python",
     "metadata": {},
     "outputs": [
      {
       "output_type": "stream",
       "stream": "stdout",
       "text": [
        "0 / y1 (113): -3400000.0 to -600000.0\n",
        "        units : meters\n",
        "        long_name : Cartesian y-coordinate\n",
        "        standard_name : projection_y_coordinate\n",
        "1 / x1 (61): -800000.0 to 700000.0\n",
        "        units : meters\n",
        "        long_name : Cartesian x-coordinate\n",
        "        standard_name : projection_x_coordinate\n"
       ]
      }
     ],
     "prompt_number": 3
    },
    {
     "cell_type": "markdown",
     "metadata": {},
     "source": [
      "They are obviously projection coordinates. Examining closer the attributes of 'surfvelmag' variable, a \"grid_mapping\" attribute is present:"
     ]
    },
    {
     "cell_type": "code",
     "collapsed": false,
     "input": [
      "ds['surfvelmag']._metadata()"
     ],
     "language": "python",
     "metadata": {},
     "outputs": [
      {
       "metadata": {},
       "output_type": "pyout",
       "prompt_number": 4,
       "text": [
        "{'grid_mapping': u'mapping',\n",
        " 'long_name': u'Surface Velocity Magnitude',\n",
        " 'note': u'Ian Joughin notes that \"Having any papers that use the data we provided to searise cite this paper [the reference provided] gives us something we can track through ISI and report to NASA to satisfy their metrics requirements, which is a necessary evil to ensure continued production of such data sets.  So ... any publication of results based on this data should cite the above paper.\"',\n",
        " 'reference': u'Joughin I., Smith B.E., Howat I.M., Scambos T., Moon T., \"Greenland flow variability from ice-sheet wide velocity mapping\", JGlac 56(197), 2010.',\n",
        " 'units': u'meters/year'}"
       ]
      }
     ],
     "prompt_number": 4
    },
    {
     "cell_type": "markdown",
     "metadata": {},
     "source": [
      "\"grid_mapping\" is a string which points to another variable in the dataset, here \"mapping\". This is according to CF-conventions. *mapping* is a dummy variable whose attributes contain the information needed to define a coordinate reference system. "
     ]
    },
    {
     "cell_type": "code",
     "collapsed": false,
     "input": [
      "grid_mapping = ds['mapping']._metadata()\n",
      "grid_mapping"
     ],
     "language": "python",
     "metadata": {},
     "outputs": [
      {
       "metadata": {},
       "output_type": "pyout",
       "prompt_number": 5,
       "text": [
        "{'ellipsoid': u'WGS84',\n",
        " 'false_easting': 0.0,\n",
        " 'false_northing': 0.0,\n",
        " 'grid_mapping_name': u'polar_stereographic',\n",
        " 'latitude_of_projection_origin': 90.0,\n",
        " 'standard_parallel': 71.0,\n",
        " 'straight_vertical_longitude_from_pole': -39.0}"
       ]
      }
     ],
     "prompt_number": 5
    },
    {
     "cell_type": "heading",
     "level": 2,
     "metadata": {},
     "source": [
      "Coordinate reference system and the programmer's headache"
     ]
    },
    {
     "cell_type": "markdown",
     "metadata": {},
     "source": [
      "These attributes are defined according to a set of (`CF conventions <http://cfconventions.org/Data/cf-convetions/cf-conventions-1.7/build/cf-conventions.html#appendix-grid-mappings>`_). Following the indications in the CF-convention document, and given some understanding of the underlying projection, it should be possible to map the meaning of the CF parameters onto the meaning PROJ.4 parameters (a widely-used software to make coordinate projections). \n",
      "\n",
      "A good understanding may still require a bit of time, though. And sometimes you have to deal with various softwares, e.g. for plotting. To complicate things a little more, a handy python binding around PROJ.4 (among other things), `cartopy <http://scitools.org.uk/cartopy/>`_ introduces its own parameter names, which are also slightly different from those introduced by another sister project from the Met' Office, `iris <http://scitools.org.uk/iris/>`_. \n",
      "\n",
      ":module:dimarray.geo.crs offers a few functions to ease mapping of parameters between CF names and PROJ.4 (work in progress !)."
     ]
    },
    {
     "cell_type": "code",
     "collapsed": false,
     "input": [
      "from dimarray.geo.crs import get_crs"
     ],
     "language": "python",
     "metadata": {},
     "outputs": [],
     "prompt_number": 6
    },
    {
     "cell_type": "code",
     "collapsed": false,
     "input": [
      "crs = get_crs(grid_mapping)\n",
      "crs"
     ],
     "language": "python",
     "metadata": {},
     "outputs": [
      {
       "metadata": {},
       "output_type": "pyout",
       "prompt_number": 7,
       "text": [
        "<dimarray.geo.crs.PolarStereographic at 0x7f31224fb590>"
       ]
      }
     ],
     "prompt_number": 7
    },
    {
     "cell_type": "markdown",
     "metadata": {},
     "source": [
      "All projection classes defined in dimarray inherit from :class:cartopy.crs.CRS. "
     ]
    },
    {
     "cell_type": "code",
     "collapsed": false,
     "input": [
      "import cartopy.crs as ccrs\n",
      "isinstance(crs, ccrs.Stereographic)"
     ],
     "language": "python",
     "metadata": {},
     "outputs": [
      {
       "metadata": {},
       "output_type": "pyout",
       "prompt_number": 8,
       "text": [
        "True"
       ]
      }
     ],
     "prompt_number": 8
    },
    {
     "cell_type": "code",
     "collapsed": false,
     "input": [
      "crs.transform_point(-40,71,ccrs.Geodetic()) # project lon=-40 lat=71 (geodetic coordinates) onto our coord system"
     ],
     "language": "python",
     "metadata": {},
     "outputs": [
      {
       "metadata": {},
       "output_type": "pyout",
       "prompt_number": 9,
       "text": [
        "(-36349.17592565123, -2082442.894090307)"
       ]
      }
     ],
     "prompt_number": 9
    },
    {
     "cell_type": "markdown",
     "metadata": {},
     "source": [
      "So that it is also possible to directly provide a cartopy class (for user more familiar with cartopy than with CF-conventions). Note also that any such class has a :attr:`proj4_init` attribute (see cartopy's doc and source code) which is passed to PROJ.4 when performing the actual transformations:"
     ]
    },
    {
     "cell_type": "code",
     "collapsed": false,
     "input": [
      "crs.proj4_init"
     ],
     "language": "python",
     "metadata": {},
     "outputs": [
      {
       "metadata": {},
       "output_type": "pyout",
       "prompt_number": 10,
       "text": [
        "'+ellps=WGS84 +proj=stere +lat_0=90.0 +lon_0=-39.0 +x_0=0.0 +y_0=0.0 +lat_ts=71.0 +no_defs'"
       ]
      }
     ],
     "prompt_number": 10
    },
    {
     "cell_type": "markdown",
     "metadata": {},
     "source": [
      "In some cases they are no cartopy pre-defined classes, nor dimarray. If you figure out which PROJ.4 parameters should be used, it is possible to initialize a :class:dimarray.geo.crs.Proj4 class with a PROJ.4 string, still as a subclass of cartopy's CRS. "
     ]
    },
    {
     "cell_type": "code",
     "collapsed": false,
     "input": [
      "from dimarray.geo.crs import Proj4\n",
      "crs2 = Proj4(\"+ellps=WGS84 +proj=stere +lat_0=90.0 +lon_0=-39.0 +x_0=0.0 +y_0=0.0 +lat_ts=71.0\")\n",
      "crs2.transform_point(-40,71,ccrs.Geodetic())"
     ],
     "language": "python",
     "metadata": {},
     "outputs": [
      {
       "metadata": {},
       "output_type": "pyout",
       "prompt_number": 11,
       "text": [
        "(-36349.17592565123, -2082442.894090307)"
       ]
      }
     ],
     "prompt_number": 11
    },
    {
     "cell_type": "markdown",
     "metadata": {},
     "source": [
      "The :func:`dimarray.geo.get_crs` function takes these various conventions and return the matching CRS instance. "
     ]
    },
    {
     "cell_type": "heading",
     "level": 2,
     "metadata": {},
     "source": [
      "Transform dimarrays"
     ]
    },
    {
     "cell_type": "markdown",
     "metadata": {},
     "source": [
      "Let's do our first transformation with diamrray and cartopy"
     ]
    },
    {
     "cell_type": "code",
     "collapsed": false,
     "input": [
      "from dimarray.geo.projection import transform, transform_vectors"
     ],
     "language": "python",
     "metadata": {},
     "outputs": [],
     "prompt_number": 12
    },
    {
     "cell_type": "code",
     "collapsed": false,
     "input": [
      "v = ds['surfvelmag']\n",
      "vt = transform(v, from_grid_mapping=crs, to_grid_mapping=ccrs.Geodetic())\n",
      "vt"
     ],
     "language": "python",
     "metadata": {},
     "outputs": [
      {
       "metadata": {},
       "output_type": "pyout",
       "prompt_number": 13,
       "text": [
        "geoarray: 6893 non-null elements (0 null)\n",
        "0 / lat (113): 58.6292691402 to 84.4819014732 (Latitude)\n",
        "1 / lon (61): -92.1301023542 to 10.398705355 (Longitude)\n",
        "array(...)"
       ]
      }
     ],
     "prompt_number": 13
    },
    {
     "cell_type": "markdown",
     "metadata": {},
     "source": [
      "The coordinates are quite messy, let's do something better by oroviding the final domain."
     ]
    },
    {
     "cell_type": "code",
     "collapsed": false,
     "input": [
      "import numpy as np"
     ],
     "language": "python",
     "metadata": {},
     "outputs": [],
     "prompt_number": 14
    },
    {
     "cell_type": "code",
     "collapsed": false,
     "input": [
      "#vt = transform(v, from_grid_mapping=crs, to_grid_mapping=ccrs.Geodetic(), xt=np.arange(-60,10), yt=np.arange(55,85))\n",
      "#vt"
     ],
     "language": "python",
     "metadata": {},
     "outputs": [],
     "prompt_number": 15
    },
    {
     "cell_type": "markdown",
     "metadata": {},
     "source": [
      "And let's check the results"
     ]
    },
    {
     "cell_type": "code",
     "collapsed": false,
     "input": [
      "%pylab \n",
      "%matplotlib inline"
     ],
     "language": "python",
     "metadata": {},
     "outputs": [
      {
       "output_type": "stream",
       "stream": "stdout",
       "text": [
        "Using matplotlib backend: Qt4Agg\n",
        "Populating the interactive namespace from numpy and matplotlib\n"
       ]
      }
     ],
     "prompt_number": 16
    },
    {
     "cell_type": "markdown",
     "metadata": {},
     "source": [
      "Projection plane (from file)"
     ]
    },
    {
     "cell_type": "code",
     "collapsed": false,
     "input": [
      "h = log(v.clip(1e-3,inf)).contourf()\n",
      "colorbar(h)"
     ],
     "language": "python",
     "metadata": {},
     "outputs": [
      {
       "metadata": {},
       "output_type": "pyout",
       "prompt_number": 17,
       "text": [
        "<matplotlib.colorbar.Colorbar instance at 0x7f3115e38d40>"
       ]
      },
      {
       "metadata": {},
       "output_type": "display_data",
       "png": "[encoded data removed]",
       "text": [
        "<matplotlib.figure.Figure at 0x7f3115fdeed0>"
       ]
      }
     ],
     "prompt_number": 17
    },
    {
     "cell_type": "markdown",
     "metadata": {},
     "source": [
      "Lon / lat coord system (from file)"
     ]
    },
    {
     "cell_type": "code",
     "collapsed": false,
     "input": [
      "contourf(ds['lon'], ds['lat'], log(v.clip(1e-3,inf))); colorbar()"
     ],
     "language": "python",
     "metadata": {},
     "outputs": [
      {
       "metadata": {},
       "output_type": "pyout",
       "prompt_number": 18,
       "text": [
        "<matplotlib.colorbar.Colorbar instance at 0x7f3115c7d320>"
       ]
      },
      {
       "metadata": {},
       "output_type": "display_data",
       "png": "[encoded data removed]",
       "text": [
        "<matplotlib.figure.Figure at 0x7f312256a410>"
       ]
      }
     ],
     "prompt_number": 18
    },
    {
     "cell_type": "markdown",
     "metadata": {},
     "source": [
      "Lon / lat coord system as transformed by dimarray"
     ]
    },
    {
     "cell_type": "code",
     "collapsed": false,
     "input": [
      "h = log(vt.clip(1e-3,inf)).contourf()\n",
      "colorbar(h)"
     ],
     "language": "python",
     "metadata": {},
     "outputs": [
      {
       "metadata": {},
       "output_type": "pyout",
       "prompt_number": 19,
       "text": [
        "<matplotlib.colorbar.Colorbar instance at 0x7f3115c03680>"
       ]
      },
      {
       "metadata": {},
       "output_type": "display_data",
       "png": "[encoded data removed]",
       "text": [
        "<matplotlib.figure.Figure at 0x7f3115cda610>"
       ]
      }
     ],
     "prompt_number": 19
    }
   ],
   "metadata": {}
  }
 ]
}