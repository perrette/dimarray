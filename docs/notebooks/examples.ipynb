{
 "metadata": {
  "name": "",
  "signature": "sha256:bf51362dde4c30c7eb7039b37383b4a9b0ed325f3f0357fee4351c96b81acccf"
 },
 "nbformat": 3,
 "nbformat_minor": 0,
 "worksheets": [
  {
   "cells": [
    {
     "cell_type": "heading",
     "level": 1,
     "metadata": {},
     "source": [
      "Examples of use"
     ]
    },
    {
     "cell_type": "heading",
     "level": 2,
     "metadata": {},
     "source": [
      "Create a generic time-mean function"
     ]
    },
    {
     "cell_type": "markdown",
     "metadata": {},
     "source": [
      "This function applies to any kind of input array, as long as the \"time\" dimension is present. "
     ]
    },
    {
     "cell_type": "code",
     "collapsed": false,
     "input": [
      "def time_mean(a, t1=None, t2=None):\n",
      "    \"\"\" compute time mean between two instants\n",
      "    \n",
      "    Parameters:\n",
      "    -----------\n",
      "    a : DimArray\n",
      "        must include a \"time\" dimension\n",
      "    t1, t2 : same type as a.time (typically int or float)\n",
      "        start and end times\n",
      "    \n",
      "    Returns:\n",
      "    --------\n",
      "    ma : DimArray\n",
      "        time-average between t1 and t2\n",
      "    \"\"\"\n",
      "    assert 'time' in a.dims, 'dimarray must have the \"time\" dimension'\n",
      "    return a.swapaxes(0, 'time')[t1:t2].mean(axis='time')"
     ],
     "language": "python",
     "metadata": {},
     "outputs": [],
     "prompt_number": 25
    },
    {
     "cell_type": "code",
     "collapsed": false,
     "input": [
      "from dimarray import DimArray\n",
      "import numpy as np"
     ],
     "language": "python",
     "metadata": {},
     "outputs": [],
     "prompt_number": 26
    },
    {
     "cell_type": "code",
     "collapsed": false,
     "input": [
      "a = DimArray([1,2,3,4], axes=[[2000,2001,2002,2003]], dims=['time'])\n",
      "time_mean(a, 2001, 2003)  # average over 2001, 2002, 2003"
     ],
     "language": "python",
     "metadata": {},
     "outputs": [
      {
       "metadata": {},
       "output_type": "pyout",
       "prompt_number": 27,
       "text": [
        "2.5"
       ]
      }
     ],
     "prompt_number": 27
    },
    {
     "cell_type": "code",
     "collapsed": false,
     "input": [
      "a = DimArray([[1,2,3,4],[5,6,7,8]], axes=[['a','b'],[2000,2001,2002,2003]], dims=['items','time'])\n",
      "time_mean(a)  # average over the full time axis"
     ],
     "language": "python",
     "metadata": {},
     "outputs": [
      {
       "metadata": {},
       "output_type": "pyout",
       "prompt_number": 29,
       "text": [
        "dimarray: 2 non-null elements (0 null)\n",
        "dimensions: 'items'\n",
        "0 / items (2): a to b\n",
        "array([ 2.5,  6.5])"
       ]
      }
     ],
     "prompt_number": 29
    }
   ],
   "metadata": {}
  }
 ]
}