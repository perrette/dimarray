{
 "metadata": {
  "name": "",
  "signature": "sha256:6b202edf546010beb539f8092de939caece033f86bca0c0e874e0233c71bca4a"
 },
 "nbformat": 3,
 "nbformat_minor": 0,
 "worksheets": [
  {
   "cells": [
    {
     "cell_type": "heading",
     "level": 1,
     "metadata": {},
     "source": [
      "Along-axis transformations"
     ]
    },
    {
     "cell_type": "heading",
     "level": 2,
     "metadata": {},
     "source": [
      "Basics"
     ]
    },
    {
     "cell_type": "markdown",
     "metadata": {},
     "source": [
      "Most numpy transformations are built in. Let's create some data to try it out:"
     ]
    },
    {
     "cell_type": "code",
     "collapsed": false,
     "input": [
      "from dimarray import DimArray\n",
      "a = DimArray([[1,2,3],[4,5,6]], axes=[['a','b'], [2000,2001,2002]], dims=['time', 'items'])\n",
      "a"
     ],
     "language": "python",
     "metadata": {},
     "outputs": [
      {
       "metadata": {},
       "output_type": "pyout",
       "prompt_number": 1,
       "text": [
        "dimarray: 6 non-null elements (0 null)\n",
        "0 / time (2): a to b\n",
        "1 / items (3): 2000 to 2002\n",
        "array([[1, 2, 3],\n",
        "       [4, 5, 6]])"
       ]
      }
     ],
     "prompt_number": 1
    },
    {
     "cell_type": "markdown",
     "metadata": {},
     "source": [
      "The classical numpy syntax names are used (`sum`, `mean`, `max`...) are used. For transformation that reduce an axis, the default behaviour is to flatten the array prior to the transformation, consistently with numpy:"
     ]
    },
    {
     "cell_type": "code",
     "collapsed": false,
     "input": [
      "a.mean() # sum over all axes"
     ],
     "language": "python",
     "metadata": {},
     "outputs": [
      {
       "metadata": {},
       "output_type": "pyout",
       "prompt_number": 2,
       "text": [
        "3.5"
       ]
      }
     ],
     "prompt_number": 2
    },
    {
     "cell_type": "markdown",
     "metadata": {},
     "source": [
      "But the `axis=` parameter can also be passed explicitly to reduce only a specific axis:"
     ]
    },
    {
     "cell_type": "code",
     "collapsed": false,
     "input": [
      "a.mean(axis=0) # sum over first axis "
     ],
     "language": "python",
     "metadata": {},
     "outputs": [
      {
       "metadata": {},
       "output_type": "pyout",
       "prompt_number": 3,
       "text": [
        "dimarray: 3 non-null elements (0 null)\n",
        "0 / items (3): 2000 to 2002\n",
        "array([ 2.5,  3.5,  4.5])"
       ]
      }
     ],
     "prompt_number": 3
    },
    {
     "cell_type": "markdown",
     "metadata": {},
     "source": [
      "but it is now also possible to indicate axis name:"
     ]
    },
    {
     "cell_type": "code",
     "collapsed": false,
     "input": [
      "a.mean(axis='time') # named axis"
     ],
     "language": "python",
     "metadata": {},
     "outputs": [
      {
       "metadata": {},
       "output_type": "pyout",
       "prompt_number": 4,
       "text": [
        "dimarray: 3 non-null elements (0 null)\n",
        "0 / items (3): 2000 to 2002\n",
        "array([ 2.5,  3.5,  4.5])"
       ]
      }
     ],
     "prompt_number": 4
    },
    {
     "cell_type": "markdown",
     "metadata": {},
     "source": [
      "In addition, one can now provide a tuple to the `axis=` parameter, to reduce several axes at once"
     ]
    },
    {
     "cell_type": "code",
     "collapsed": false,
     "input": [
      "a.mean(axis=('time','items')) #  named axis"
     ],
     "language": "python",
     "metadata": {},
     "outputs": [
      {
       "metadata": {},
       "output_type": "pyout",
       "prompt_number": 5,
       "text": [
        "3.5"
       ]
      }
     ],
     "prompt_number": 5
    },
    {
     "cell_type": "markdown",
     "metadata": {},
     "source": [
      "Of course, the above example makes more sense when they are more than two axes. To perform an operation on the flatten array, the convention is to provide the `None` value for `axis=`, which is the default behaviour in all reduction operators.\n",
      "\n",
      "..  note :: transformations that accumulate along an axis (`cumsum`, `cumprod`) default on the last axis (axis=-1) instead of flattening the array. This is also true of the `diff` operator. \n",
      "\n",
      "While most methods directly call numpy's in most cases, some subtle differences may exist that have to do with the need to define an axis values consistent with the operation. For example the :meth:`diff <dimarray.DimArray.diff>` method proposes several values for a `scheme` parameter (\"centered\", \"backward\", \"forward\"). Of interest also, the :meth:`argmin <dimarray.DimArray.argmin>` and :meth:`argmax <dimarray.DimArray.argmax>` methods return the value of the axis at the extrema instead of the integer position:"
     ]
    },
    {
     "cell_type": "code",
     "collapsed": false,
     "input": [
      "a.argmin() "
     ],
     "language": "python",
     "metadata": {},
     "outputs": [
      {
       "metadata": {},
       "output_type": "pyout",
       "prompt_number": 6,
       "text": [
        "('a', 2000)"
       ]
      }
     ],
     "prompt_number": 6
    },
    {
     "cell_type": "markdown",
     "metadata": {},
     "source": [
      "...which is consistent with dimarray indexing:"
     ]
    },
    {
     "cell_type": "code",
     "collapsed": false,
     "input": [
      "a[a.argmin()]"
     ],
     "language": "python",
     "metadata": {},
     "outputs": [
      {
       "metadata": {},
       "output_type": "pyout",
       "prompt_number": 7,
       "text": [
        "1"
       ]
      }
     ],
     "prompt_number": 7
    },
    {
     "cell_type": "heading",
     "level": 2,
     "metadata": {},
     "source": [
      "Missing values"
     ]
    },
    {
     "cell_type": "markdown",
     "metadata": {},
     "source": [
      "`dimarray` treats `NaN` as missing values, which can be skipped in transformations by passing skipna=True. In the example below we use a float-typed array because there is no `NaN` type in integer arrays."
     ]
    },
    {
     "cell_type": "code",
     "collapsed": false,
     "input": [
      "import numpy as np\n",
      "a = DimArray([[1,2,3],[4,5,6]], dtype=float)\n",
      "a[1,2] = np.nan\n",
      "a"
     ],
     "language": "python",
     "metadata": {},
     "outputs": [
      {
       "metadata": {},
       "output_type": "pyout",
       "prompt_number": 8,
       "text": [
        "dimarray: 5 non-null elements (1 null)\n",
        "0 / x0 (2): 0 to 1\n",
        "1 / x1 (3): 0 to 2\n",
        "array([[  1.,   2.,   3.],\n",
        "       [  4.,   5.,  nan]])"
       ]
      }
     ],
     "prompt_number": 8
    },
    {
     "cell_type": "code",
     "collapsed": false,
     "input": [
      "a.sum(axis=0)  # here the nans are not skipped"
     ],
     "language": "python",
     "metadata": {},
     "outputs": [
      {
       "metadata": {},
       "output_type": "pyout",
       "prompt_number": 9,
       "text": [
        "dimarray: 2 non-null elements (1 null)\n",
        "0 / x1 (3): 0 to 2\n",
        "array([  5.,   7.,  nan])"
       ]
      }
     ],
     "prompt_number": 9
    },
    {
     "cell_type": "code",
     "collapsed": false,
     "input": [
      "a.sum(axis=0, skipna=True)"
     ],
     "language": "python",
     "metadata": {},
     "outputs": [
      {
       "metadata": {},
       "output_type": "pyout",
       "prompt_number": 10,
       "text": [
        "dimarray: 3 non-null elements (0 null)\n",
        "0 / x1 (3): 0 to 2\n",
        "array([ 5.,  7.,  3.])"
       ]
      }
     ],
     "prompt_number": 10
    },
    {
     "cell_type": "heading",
     "level": 2,
     "metadata": {},
     "source": [
      "Weighted mean, std and var"
     ]
    },
    {
     "cell_type": "markdown",
     "metadata": {},
     "source": [
      "These three functions check for the `weights` attribute of the axes they operate on. If different from `None` (the default), then the average is weighted according to `weights`. Here a practical example:"
     ]
    },
    {
     "cell_type": "code",
     "collapsed": false,
     "input": [
      "np.random.seed(0) # to make results reproducible\n",
      "v = DimArray(np.random.rand(3,2), axes=[[-80, 0, 80], [-180, 180]], dims=['lat','lon'])"
     ],
     "language": "python",
     "metadata": {},
     "outputs": [],
     "prompt_number": 11
    },
    {
     "cell_type": "markdown",
     "metadata": {},
     "source": [
      "Classical, unweighted mean:"
     ]
    },
    {
     "cell_type": "code",
     "collapsed": false,
     "input": [
      "v.mean()  "
     ],
     "language": "python",
     "metadata": {},
     "outputs": [
      {
       "metadata": {},
       "output_type": "pyout",
       "prompt_number": 12,
       "text": [
        "0.58019972362897432"
       ]
      }
     ],
     "prompt_number": 12
    },
    {
     "cell_type": "markdown",
     "metadata": {},
     "source": [
      "Now we build a weight array as the cosine of the latitude (because of the sphericity of the Earth) and the smaller area of latitude bands at high latitudes:"
     ]
    },
    {
     "cell_type": "code",
     "collapsed": false,
     "input": [
      "w = np.cos(np.radians(v.lat)) # weight based on latitude values "
     ],
     "language": "python",
     "metadata": {},
     "outputs": [],
     "prompt_number": 13
    },
    {
     "cell_type": "markdown",
     "metadata": {},
     "source": [
      "We can pass this array of weights via the `weights` parameter:"
     ]
    },
    {
     "cell_type": "code",
     "collapsed": false,
     "input": [
      "v.mean(weights={'lat':w})  # lat axis receives weights"
     ],
     "language": "python",
     "metadata": {},
     "outputs": [
      {
       "metadata": {},
       "output_type": "pyout",
       "prompt_number": 14,
       "text": [
        "0.57628879031663871"
       ]
      }
     ],
     "prompt_number": 14
    },
    {
     "cell_type": "markdown",
     "metadata": {},
     "source": [
      "Or by setting the `weights` attribute to the \"lat\" axis, to make this change permanent:"
     ]
    },
    {
     "cell_type": "code",
     "collapsed": false,
     "input": [
      "v.axes['lat'].weights = w"
     ],
     "language": "python",
     "metadata": {},
     "outputs": [],
     "prompt_number": 15
    },
    {
     "cell_type": "code",
     "collapsed": false,
     "input": [
      "v.mean()"
     ],
     "language": "python",
     "metadata": {},
     "outputs": [
      {
       "metadata": {},
       "output_type": "pyout",
       "prompt_number": 16,
       "text": [
        "0.57628879031663871"
       ]
      }
     ],
     "prompt_number": 16
    },
    {
     "cell_type": "markdown",
     "metadata": {},
     "source": [
      "Weights are conserved by slicing and array-indexing:"
     ]
    },
    {
     "cell_type": "code",
     "collapsed": false,
     "input": [
      "v[[0,80]].axes['lat'].weights"
     ],
     "language": "python",
     "metadata": {},
     "outputs": [
      {
       "metadata": {},
       "output_type": "pyout",
       "prompt_number": 17,
       "text": [
        "array([ 1.        ,  0.17364818])"
       ]
      }
     ],
     "prompt_number": 17
    },
    {
     "cell_type": "markdown",
     "metadata": {},
     "source": [
      "Weights can also be defined as a function of axis values:"
     ]
    },
    {
     "cell_type": "code",
     "collapsed": false,
     "input": [
      "v.axes['lat'].weights = lambda x : np.cos(np.radians(x))"
     ],
     "language": "python",
     "metadata": {},
     "outputs": [],
     "prompt_number": 18
    },
    {
     "cell_type": "code",
     "collapsed": false,
     "input": [
      "v.mean()"
     ],
     "language": "python",
     "metadata": {},
     "outputs": [
      {
       "metadata": {},
       "output_type": "pyout",
       "prompt_number": 19,
       "text": [
        "0.57628879031663871"
       ]
      }
     ],
     "prompt_number": 19
    },
    {
     "cell_type": "markdown",
     "metadata": {},
     "source": [
      "Under the hood, weights are computed via the :meth:`DimArray._get_weights` method, so you can always check which weights are being used:"
     ]
    },
    {
     "cell_type": "code",
     "collapsed": false,
     "input": [
      "v._get_weights()"
     ],
     "language": "python",
     "metadata": {},
     "outputs": [
      {
       "metadata": {},
       "output_type": "pyout",
       "prompt_number": 20,
       "text": [
        "dimarray: 6 non-null elements (0 null)\n",
        "0 / lat (3): -80 to 80\n",
        "1 / lon (2): -180 to 180\n",
        "array([[ 0.17364818,  0.17364818],\n",
        "       [ 1.        ,  1.        ],\n",
        "       [ 0.17364818,  0.17364818]])"
       ]
      }
     ],
     "prompt_number": 20
    },
    {
     "cell_type": "markdown",
     "metadata": {},
     "source": [
      "It is normally `None`:"
     ]
    },
    {
     "cell_type": "code",
     "collapsed": false,
     "input": [
      "v.axes['lat'].weights = None\n",
      "v._get_weights()"
     ],
     "language": "python",
     "metadata": {},
     "outputs": [],
     "prompt_number": 29
    },
    {
     "cell_type": "markdown",
     "metadata": {},
     "source": [
      "The `GeoArray` class defines weights automatically for latitude:"
     ]
    },
    {
     "cell_type": "code",
     "collapsed": false,
     "input": [
      "from dimarray.geo import GeoArray\n",
      "g = GeoArray(v, copy=True)\n",
      "g._get_weights()"
     ],
     "language": "python",
     "metadata": {},
     "outputs": [
      {
       "metadata": {},
       "output_type": "pyout",
       "prompt_number": 30,
       "text": [
        "dimarray: 6 non-null elements (0 null)\n",
        "0 / lat (3): -80 to 80\n",
        "1 / lon (2): -180 to 180\n",
        "array([[ 0.17364818,  0.17364818],\n",
        "       [ 1.        ,  1.        ],\n",
        "       [ 0.17364818,  0.17364818]])"
       ]
      }
     ],
     "prompt_number": 30
    }
   ],
   "metadata": {}
  }
 ]
}