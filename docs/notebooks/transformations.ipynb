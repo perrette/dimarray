{
 "metadata": {
  "name": "",
  "signature": "sha256:bae35aacf7c819b0eed5a2ff1308c5e387b07a08786655e3f5af34671de5c93e"
 },
 "nbformat": 3,
 "nbformat_minor": 0,
 "worksheets": [
  {
   "cells": [
    {
     "cell_type": "heading",
     "level": 1,
     "metadata": {},
     "source": [
      "Along-axis transformations"
     ]
    },
    {
     "cell_type": "heading",
     "level": 2,
     "metadata": {},
     "source": [
      "Use axis name"
     ]
    },
    {
     "cell_type": "markdown",
     "metadata": {},
     "source": [
      "Most numpy transformations are built in. Let's create some data to try it out:"
     ]
    },
    {
     "cell_type": "code",
     "collapsed": false,
     "input": [
      "import dimarray as da\n",
      "import numpy as np\n",
      "values = np.arange(4*3).reshape(4,3)\n",
      "time = 'time', np.arange(1950,1954) \n",
      "lat = 'lat', np.linspace(-90,90,3)\n",
      "v = da.DimArray(values, axes=[np.arange(1950,1954), np.linspace(-90,90,3)], dims=['time','lat'])\n",
      "v"
     ],
     "language": "python",
     "metadata": {},
     "outputs": [
      {
       "metadata": {},
       "output_type": "pyout",
       "prompt_number": 1,
       "text": [
        "dimarray: 12 non-null elements (0 null)\n",
        "dimensions: 'time', 'lat'\n",
        "0 / time (4): 1950 to 1953\n",
        "1 / lat (3): -90.0 to 90.0\n",
        "array([[ 0,  1,  2],\n",
        "       [ 3,  4,  5],\n",
        "       [ 6,  7,  8],\n",
        "       [ 9, 10, 11]])"
       ]
      }
     ],
     "prompt_number": 1
    },
    {
     "cell_type": "markdown",
     "metadata": {},
     "source": [
      "In axis-reduction operations, not providing the axis results in the operation being applied to the flattened array, following numpy's rule:"
     ]
    },
    {
     "cell_type": "code",
     "collapsed": false,
     "input": [
      "v.sum() # sum over all axes"
     ],
     "language": "python",
     "metadata": {},
     "outputs": [
      {
       "metadata": {},
       "output_type": "pyout",
       "prompt_number": 2,
       "text": [
        "66"
       ]
      }
     ],
     "prompt_number": 2
    },
    {
     "cell_type": "markdown",
     "metadata": {},
     "source": [
      "To perform the operation along an axis, it must be indicated by an integer (axis rank) or - new in dimarray - by a string (axis name):"
     ]
    },
    {
     "cell_type": "code",
     "collapsed": false,
     "input": [
      "s = v.sum(axis=0) # sum over first axis\n",
      "s = v.sum(axis='time') # named axis\n",
      "s"
     ],
     "language": "python",
     "metadata": {},
     "outputs": [
      {
       "metadata": {},
       "output_type": "pyout",
       "prompt_number": 3,
       "text": [
        "dimarray: 3 non-null elements (0 null)\n",
        "dimensions: 'lat'\n",
        "0 / lat (3): -90.0 to 90.0\n",
        "array([18, 22, 26])"
       ]
      }
     ],
     "prompt_number": 3
    },
    {
     "cell_type": "markdown",
     "metadata": {},
     "source": [
      "All axis-reduction transformations, following numpy:\n",
      "sum, prod, mean, var, std, median, min, max, php, argmin, argmax, all, any"
     ]
    },
    {
     "cell_type": "markdown",
     "metadata": {},
     "source": [
      "In `dimarray`, the `argmin` and `argmax` functions return axis value instead of axis position."
     ]
    },
    {
     "cell_type": "code",
     "collapsed": false,
     "input": [
      "v.argmin() "
     ],
     "language": "python",
     "metadata": {},
     "outputs": [
      {
       "metadata": {},
       "output_type": "pyout",
       "prompt_number": 4,
       "text": [
        "(1950, -90.0)"
       ]
      }
     ],
     "prompt_number": 4
    },
    {
     "cell_type": "markdown",
     "metadata": {},
     "source": [
      "...which is consistent with indexing on axis values:"
     ]
    },
    {
     "cell_type": "code",
     "collapsed": false,
     "input": [
      "v[v.argmin()], v.min() "
     ],
     "language": "python",
     "metadata": {},
     "outputs": [
      {
       "metadata": {},
       "output_type": "pyout",
       "prompt_number": 5,
       "text": [
        "(0, 0)"
       ]
      }
     ],
     "prompt_number": 5
    },
    {
     "cell_type": "markdown",
     "metadata": {},
     "source": [
      "The along axis version works similarly:"
     ]
    },
    {
     "cell_type": "code",
     "collapsed": false,
     "input": [
      "date_min = v.argmin(axis='time') \n",
      "date_min"
     ],
     "language": "python",
     "metadata": {},
     "outputs": [
      {
       "metadata": {},
       "output_type": "pyout",
       "prompt_number": 6,
       "text": [
        "dimarray: 3 non-null elements (0 null)\n",
        "dimensions: 'lat'\n",
        "0 / lat (3): -90.0 to 90.0\n",
        "array([1950, 1950, 1950])"
       ]
      }
     ],
     "prompt_number": 6
    },
    {
     "cell_type": "code",
     "collapsed": false,
     "input": [
      "v[date_min, v.lat]  # this makes use of array-broadcasting when indexing with two arrays"
     ],
     "language": "python",
     "metadata": {},
     "outputs": [
      {
       "metadata": {},
       "output_type": "pyout",
       "prompt_number": 7,
       "text": [
        "dimarray: 3 non-null elements (0 null)\n",
        "dimensions: 'time,lat'\n",
        "0 / time,lat (3): (1950.0, -90.0) to (1950.0, 90.0)\n",
        "array([0, 1, 2])"
       ]
      }
     ],
     "prompt_number": 7
    },
    {
     "cell_type": "markdown",
     "metadata": {},
     "source": [
      "Operations that accumulate along an axis are also implemented, by default along the last axis, consistently with numpy. Let's use a simpler 1-D example here."
     ]
    },
    {
     "cell_type": "code",
     "collapsed": false,
     "input": [
      "v = da.DimArray(np.arange(1,5), time, dtype=float)\n",
      "v"
     ],
     "language": "python",
     "metadata": {},
     "outputs": [
      {
       "metadata": {},
       "output_type": "pyout",
       "prompt_number": 8,
       "text": [
        "dimarray: 4 non-null elements (0 null)\n",
        "dimensions: 'time'\n",
        "0 / time (4): 1950 to 1953\n",
        "array([ 1.,  2.,  3.,  4.])"
       ]
      }
     ],
     "prompt_number": 8
    },
    {
     "cell_type": "code",
     "collapsed": false,
     "input": [
      "v.cumprod()\n",
      "v.cumsum()"
     ],
     "language": "python",
     "metadata": {},
     "outputs": [
      {
       "metadata": {},
       "output_type": "pyout",
       "prompt_number": 9,
       "text": [
        "dimarray: 4 non-null elements (0 null)\n",
        "dimensions: 'time'\n",
        "0 / time (4): 1950 to 1953\n",
        "array([  1.,   3.,   6.,  10.])"
       ]
      }
     ],
     "prompt_number": 9
    },
    {
     "cell_type": "markdown",
     "metadata": {},
     "source": [
      "A new `diff` method comes with `dimarray`, which reduces axis size by one, by default (and by default `diff` operates along the last axis, like `cumsum`)."
     ]
    },
    {
     "cell_type": "code",
     "collapsed": false,
     "input": [
      "s = v.cumsum()"
     ],
     "language": "python",
     "metadata": {},
     "outputs": [],
     "prompt_number": 10
    },
    {
     "cell_type": "code",
     "collapsed": false,
     "input": [
      "s.diff()"
     ],
     "language": "python",
     "metadata": {},
     "outputs": [
      {
       "metadata": {},
       "output_type": "pyout",
       "prompt_number": 11,
       "text": [
        "dimarray: 3 non-null elements (0 null)\n",
        "dimensions: 'time'\n",
        "0 / time (3): 1951 to 1953\n",
        "array([ 2.,  3.,  4.])"
       ]
      }
     ],
     "prompt_number": 11
    },
    {
     "cell_type": "markdown",
     "metadata": {},
     "source": [
      "The `keepaxis=` parameter fills array with `nan` where necessary to keep the axis unchanged. Default is backward differencing: `diff[i] = v[i] - v[i-1]`."
     ]
    },
    {
     "cell_type": "code",
     "collapsed": false,
     "input": [
      "s.diff(keepaxis=True)"
     ],
     "language": "python",
     "metadata": {},
     "outputs": [
      {
       "metadata": {},
       "output_type": "pyout",
       "prompt_number": 12,
       "text": [
        "dimarray: 3 non-null elements (1 null)\n",
        "dimensions: 'time'\n",
        "0 / time (4): 1950 to 1953\n",
        "array([ nan,   2.,   3.,   4.])"
       ]
      }
     ],
     "prompt_number": 12
    },
    {
     "cell_type": "markdown",
     "metadata": {},
     "source": [
      "But other schemes are available to control how the new axis is defined: `backward` (default), `forward` and even `centered`"
     ]
    },
    {
     "cell_type": "code",
     "collapsed": false,
     "input": [
      "s.diff(keepaxis=True, scheme=\"forward\") # diff[i] = v[i+1] - v[i]"
     ],
     "language": "python",
     "metadata": {},
     "outputs": [
      {
       "metadata": {},
       "output_type": "pyout",
       "prompt_number": 13,
       "text": [
        "dimarray: 3 non-null elements (1 null)\n",
        "dimensions: 'time'\n",
        "0 / time (4): 1950 to 1953\n",
        "array([  2.,   3.,   4.,  nan])"
       ]
      }
     ],
     "prompt_number": 13
    },
    {
     "cell_type": "markdown",
     "metadata": {},
     "source": [
      "The `keepaxis=True` option is invalid with the `centered` scheme, since every axis value is modified by definition:"
     ]
    },
    {
     "cell_type": "code",
     "collapsed": false,
     "input": [
      "s.diff(axis='time', scheme='centered')"
     ],
     "language": "python",
     "metadata": {},
     "outputs": [
      {
       "metadata": {},
       "output_type": "pyout",
       "prompt_number": 14,
       "text": [
        "dimarray: 3 non-null elements (0 null)\n",
        "dimensions: 'time'\n",
        "0 / time (3): 1950.5 to 1952.5\n",
        "array([ 2.,  3.,  4.])"
       ]
      }
     ],
     "prompt_number": 14
    },
    {
     "cell_type": "heading",
     "level": 2,
     "metadata": {},
     "source": [
      "Missing values"
     ]
    },
    {
     "cell_type": "markdown",
     "metadata": {},
     "source": [
      "`dimarray` treats `nan` as missing values, which can be skipped in transformations by passing skipna=True. Note that `nan` is has a `float` type so it cannot be assigned to an integer array."
     ]
    },
    {
     "cell_type": "code",
     "collapsed": false,
     "input": [
      "import numpy as np\n",
      "import dimarray as da"
     ],
     "language": "python",
     "metadata": {},
     "outputs": [],
     "prompt_number": 15
    },
    {
     "cell_type": "code",
     "collapsed": false,
     "input": [
      "a = da.DimArray([[1,2,3],[4,5,6]], dtype=float)\n",
      "a[1,2] = np.nan\n",
      "a"
     ],
     "language": "python",
     "metadata": {},
     "outputs": [
      {
       "metadata": {},
       "output_type": "pyout",
       "prompt_number": 16,
       "text": [
        "dimarray: 5 non-null elements (1 null)\n",
        "dimensions: 'x0', 'x1'\n",
        "0 / x0 (2): 0 to 1\n",
        "1 / x1 (3): 0 to 2\n",
        "array([[  1.,   2.,   3.],\n",
        "       [  4.,   5.,  nan]])"
       ]
      }
     ],
     "prompt_number": 16
    },
    {
     "cell_type": "code",
     "collapsed": false,
     "input": [
      "a.mean(axis=0)"
     ],
     "language": "python",
     "metadata": {},
     "outputs": [
      {
       "metadata": {},
       "output_type": "pyout",
       "prompt_number": 17,
       "text": [
        "dimarray: 2 non-null elements (1 null)\n",
        "dimensions: 'x1'\n",
        "0 / x1 (3): 0 to 2\n",
        "array([ 2.5,  3.5,  nan])"
       ]
      }
     ],
     "prompt_number": 17
    },
    {
     "cell_type": "code",
     "collapsed": false,
     "input": [
      "a.mean(axis=0, skipna=True)"
     ],
     "language": "python",
     "metadata": {},
     "outputs": [
      {
       "metadata": {},
       "output_type": "pyout",
       "prompt_number": 18,
       "text": [
        "dimarray: 3 non-null elements (0 null)\n",
        "dimensions: 'x1'\n",
        "0 / x1 (3): 0 to 2\n",
        "array([ 2.5,  3.5,  3. ])"
       ]
      }
     ],
     "prompt_number": 18
    },
    {
     "cell_type": "markdown",
     "metadata": {},
     "source": [
      "A few other methods exist but are experimental. They are mere aliases for classical `a[np.isnan[a]] = value` syntax, but automatically coerce integer type to float, and perform a copy by default. This could also be useful in the future to define a missing value flag other than `nan`, for example when working with integer array."
     ]
    },
    {
     "cell_type": "code",
     "collapsed": false,
     "input": [
      "a.fillna(99)"
     ],
     "language": "python",
     "metadata": {},
     "outputs": [
      {
       "metadata": {},
       "output_type": "pyout",
       "prompt_number": 19,
       "text": [
        "dimarray: 6 non-null elements (0 null)\n",
        "dimensions: 'x0', 'x1'\n",
        "0 / x0 (2): 0 to 1\n",
        "1 / x1 (3): 0 to 2\n",
        "array([[  1.,   2.,   3.],\n",
        "       [  4.,   5.,  99.]])"
       ]
      }
     ],
     "prompt_number": 19
    },
    {
     "cell_type": "markdown",
     "metadata": {},
     "source": [
      "`setna` can also be provided with a list of values (or boolean arrays) to set to nan:"
     ]
    },
    {
     "cell_type": "code",
     "collapsed": false,
     "input": [
      "b = a.setna([1,4])\n",
      "b"
     ],
     "language": "python",
     "metadata": {},
     "outputs": [
      {
       "metadata": {},
       "output_type": "pyout",
       "prompt_number": 20,
       "text": [
        "dimarray: 3 non-null elements (3 null)\n",
        "dimensions: 'x0', 'x1'\n",
        "0 / x0 (2): 0 to 1\n",
        "1 / x1 (3): 0 to 2\n",
        "array([[ nan,   2.,   3.],\n",
        "       [ nan,   5.,  nan]])"
       ]
      }
     ],
     "prompt_number": 20
    },
    {
     "cell_type": "markdown",
     "metadata": {},
     "source": [
      "More interestingly, the `dropna` methods helps getting rid of nans arising in grouping operations, similarly to `pandas`:"
     ]
    },
    {
     "cell_type": "code",
     "collapsed": false,
     "input": [
      "b.dropna(axis=1)"
     ],
     "language": "python",
     "metadata": {},
     "outputs": [
      {
       "metadata": {},
       "output_type": "pyout",
       "prompt_number": 21,
       "text": [
        "dimarray: 2 non-null elements (0 null)\n",
        "dimensions: 'x0', 'x1'\n",
        "0 / x0 (2): 0 to 1\n",
        "1 / x1 (1): 1 to 1\n",
        "array([[ 2.],\n",
        "       [ 5.]])"
       ]
      }
     ],
     "prompt_number": 21
    },
    {
     "cell_type": "markdown",
     "metadata": {},
     "source": [
      "But in some cases, you are still ok with a certain number of nans, but want to have a minimum of 1 or more valid values:"
     ]
    },
    {
     "cell_type": "code",
     "collapsed": false,
     "input": [
      "b.dropna(axis=1, minvalid=1)  # minimum number of valid values, equivalent to `how=\"all\"` in pandas"
     ],
     "language": "python",
     "metadata": {},
     "outputs": [
      {
       "metadata": {},
       "output_type": "pyout",
       "prompt_number": 22,
       "text": [
        "dimarray: 3 non-null elements (1 null)\n",
        "dimensions: 'x0', 'x1'\n",
        "0 / x0 (2): 0 to 1\n",
        "1 / x1 (2): 1 to 2\n",
        "array([[  2.,   3.],\n",
        "       [  5.,  nan]])"
       ]
      }
     ],
     "prompt_number": 22
    },
    {
     "cell_type": "heading",
     "level": 2,
     "metadata": {},
     "source": [
      "Weighted mean [experimental]"
     ]
    },
    {
     "cell_type": "markdown",
     "metadata": {},
     "source": [
      "Each axis can have a `weights` attribute. If not None, it will be automatically used when computing mean, var, std"
     ]
    },
    {
     "cell_type": "code",
     "collapsed": false,
     "input": [
      "a = da.DimArray(np.arange(5))\n",
      "a"
     ],
     "language": "python",
     "metadata": {},
     "outputs": [
      {
       "metadata": {},
       "output_type": "pyout",
       "prompt_number": 23,
       "text": [
        "dimarray: 5 non-null elements (0 null)\n",
        "dimensions: 'x0'\n",
        "0 / x0 (5): 0 to 4\n",
        "array([0, 1, 2, 3, 4])"
       ]
      }
     ],
     "prompt_number": 23
    },
    {
     "cell_type": "markdown",
     "metadata": {},
     "source": [
      "The mean as you'd expect:"
     ]
    },
    {
     "cell_type": "code",
     "collapsed": false,
     "input": [
      "a.mean()  #  standard mean"
     ],
     "language": "python",
     "metadata": {},
     "outputs": [
      {
       "metadata": {},
       "output_type": "pyout",
       "prompt_number": 24,
       "text": [
        "2.0"
       ]
      }
     ],
     "prompt_number": 24
    },
    {
     "cell_type": "markdown",
     "metadata": {},
     "source": [
      "Now adding the weight parameter:"
     ]
    },
    {
     "cell_type": "code",
     "collapsed": false,
     "input": [
      "a.axes[0].weights = [0, 0, 0, 1, 0]\n",
      "a.mean()"
     ],
     "language": "python",
     "metadata": {},
     "outputs": [
      {
       "metadata": {},
       "output_type": "pyout",
       "prompt_number": 25,
       "text": [
        "3.0"
       ]
      }
     ],
     "prompt_number": 25
    },
    {
     "cell_type": "markdown",
     "metadata": {},
     "source": [
      "Note it is preserved via indexing "
     ]
    },
    {
     "cell_type": "code",
     "collapsed": false,
     "input": [
      "a.ix[-3:].axes[0].weights"
     ],
     "language": "python",
     "metadata": {},
     "outputs": [
      {
       "metadata": {},
       "output_type": "pyout",
       "prompt_number": 26,
       "text": [
        "array([0, 1, 0])"
       ]
      }
     ],
     "prompt_number": 26
    },
    {
     "cell_type": "markdown",
     "metadata": {},
     "source": [
      "Also possible as a function:"
     ]
    },
    {
     "cell_type": "code",
     "collapsed": false,
     "input": [
      "a.axes[0].weights = lambda x: x**2\n",
      "a.mean()"
     ],
     "language": "python",
     "metadata": {},
     "outputs": [
      {
       "metadata": {},
       "output_type": "pyout",
       "prompt_number": 27,
       "text": [
        "3.3333333333333335"
       ]
      }
     ],
     "prompt_number": 27
    }
   ],
   "metadata": {}
  }
 ]
}