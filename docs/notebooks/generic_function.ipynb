{
 "metadata": {
  "name": "",
  "signature": "sha256:a62d6f2cd6fd602541f52f85a85e709e5a07320d1b018cc1e16780362c31369d"
 },
 "nbformat": 3,
 "nbformat_minor": 0,
 "worksheets": [
  {
   "cells": [
    {
     "cell_type": "heading",
     "level": 1,
     "metadata": {},
     "source": [
      "Create a generic time-mean function"
     ]
    },
    {
     "cell_type": "markdown",
     "metadata": {},
     "source": [
      "This function applies to any kind of input array, as long as the \"time\" dimension is present. "
     ]
    },
    {
     "cell_type": "code",
     "collapsed": false,
     "input": [
      "def time_mean(a, t1=None, t2=None):\n",
      "    \"\"\" compute time mean between two instants\n",
      "    \n",
      "    Parameters:\n",
      "    -----------\n",
      "    a : DimArray\n",
      "        must include a \"time\" dimension\n",
      "    t1, t2 : same type as a.time (typically int or float)\n",
      "        start and end times\n",
      "    \n",
      "    Returns:\n",
      "    --------\n",
      "    ma : DimArray\n",
      "        time-average between t1 and t2\n",
      "    \"\"\"\n",
      "    assert 'time' in a.dims, 'dimarray must have the \"time\" dimension'\n",
      "    return a.swapaxes(0, 'time')[t1:t2].mean(axis='time')"
     ],
     "language": "python",
     "metadata": {},
     "outputs": [],
     "prompt_number": 1
    },
    {
     "cell_type": "code",
     "collapsed": false,
     "input": [
      "from dimarray import DimArray\n",
      "import numpy as np"
     ],
     "language": "python",
     "metadata": {},
     "outputs": [],
     "prompt_number": 2
    },
    {
     "cell_type": "code",
     "collapsed": false,
     "input": [
      "a = DimArray([1,2,3,4], axes=[[2000,2001,2002,2003]], dims=['time'])\n",
      "time_mean(a, 2001, 2003)  # average over 2001, 2002, 2003"
     ],
     "language": "python",
     "metadata": {},
     "outputs": [
      {
       "metadata": {},
       "output_type": "pyout",
       "prompt_number": 3,
       "text": [
        "3.0"
       ]
      }
     ],
     "prompt_number": 3
    },
    {
     "cell_type": "code",
     "collapsed": false,
     "input": [
      "a = DimArray([[1,2,3,4],[5,6,7,8]], axes=[['a','b'],[2000,2001,2002,2003]], dims=['items','time'])\n",
      "time_mean(a)  # average over the full time axis"
     ],
     "language": "python",
     "metadata": {},
     "outputs": [
      {
       "metadata": {},
       "output_type": "pyout",
       "prompt_number": 4,
       "text": [
        "dimarray: 2 non-null elements (0 null)\n",
        "0 / items (2): 'a' to 'b'\n",
        "array([ 2.5,  6.5])"
       ]
      }
     ],
     "prompt_number": 4
    }
   ],
   "metadata": {}
  }
 ]
}