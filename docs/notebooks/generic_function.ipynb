{
 "cells": [
  {
   "cell_type": "markdown",
   "metadata": {},
   "source": [
    "# Create a generic time-mean function"
   ]
  },
  {
   "cell_type": "markdown",
   "metadata": {},
   "source": [
    "This function applies to any kind of input array, as long as the \"time\" dimension is present. "
   ]
  },
  {
   "cell_type": "code",
   "execution_count": 1,
   "metadata": {
    "collapsed": false
   },
   "outputs": [],
   "source": [
    "def time_mean(a, t1=None, t2=None):\n",
    "    \"\"\" compute time mean between two instants\n",
    "    \n",
    "    Parameters:\n",
    "    -----------\n",
    "    a : DimArray\n",
    "        must include a \"time\" dimension\n",
    "    t1, t2 : same type as a.time (typically int or float)\n",
    "        start and end times\n",
    "    \n",
    "    Returns:\n",
    "    --------\n",
    "    ma : DimArray\n",
    "        time-average between t1 and t2\n",
    "    \"\"\"\n",
    "    assert 'time' in a.dims, 'dimarray must have the \"time\" dimension'\n",
    "    return a.swapaxes(0, 'time')[t1:t2].mean(axis='time')"
   ]
  },
  {
   "cell_type": "code",
   "execution_count": 2,
   "metadata": {
    "collapsed": false
   },
   "outputs": [],
   "source": [
    "from dimarray import DimArray\n",
    "import numpy as np"
   ]
  },
  {
   "cell_type": "code",
   "execution_count": 3,
   "metadata": {
    "collapsed": false
   },
   "outputs": [
    {
     "data": {
      "text/plain": [
       "3.0"
      ]
     },
     "execution_count": 3,
     "metadata": {},
     "output_type": "execute_result"
    }
   ],
   "source": [
    "a = DimArray([1,2,3,4], axes=[[2000,2001,2002,2003]], dims=['time'])\n",
    "time_mean(a, 2001, 2003)  # average over 2001, 2002, 2003"
   ]
  },
  {
   "cell_type": "code",
   "execution_count": 4,
   "metadata": {
    "collapsed": false
   },
   "outputs": [
    {
     "data": {
      "text/plain": [
       "dimarray: 2 non-null elements (0 null)\n",
       "0 / items (2): 'a' to 'b'\n",
       "array([ 2.5,  6.5])"
      ]
     },
     "execution_count": 4,
     "metadata": {},
     "output_type": "execute_result"
    }
   ],
   "source": [
    "a = DimArray([[1,2,3,4],[5,6,7,8]], axes=[['a','b'],[2000,2001,2002,2003]], dims=['items','time'])\n",
    "time_mean(a)  # average over the full time axis"
   ]
  }
 ],
 "metadata": {},
 "nbformat": 4,
 "nbformat_minor": 0
}