{
 "cells": [
  {
   "cell_type": "markdown",
   "metadata": {},
   "source": [
    "# The geo sub-package"
   ]
  },
  {
   "cell_type": "markdown",
   "metadata": {},
   "source": [
    ".. versionadded:: 0.1.9"
   ]
  },
  {
   "cell_type": "markdown",
   "metadata": {},
   "source": [
    ".. contents::\n",
    "    :local:"
   ]
  },
  {
   "cell_type": "markdown",
   "metadata": {},
   "source": [
    ":class:`dimarray.geo.GeoArray` is a subclass of :class:`dimarray.DimArray` that is more specific to geoscientific applications. The most recognizable features are automatic checks for longitude and latitude coordinates."
   ]
  },
  {
   "cell_type": "code",
   "execution_count": 1,
   "metadata": {
    "collapsed": false
   },
   "outputs": [],
   "source": [
    "from dimarray.geo import GeoArray"
   ]
  },
  {
   "cell_type": "code",
   "execution_count": 2,
   "metadata": {
    "collapsed": false
   },
   "outputs": [
    {
     "data": {
      "text/plain": [
       "geoarray: 3 non-null elements (0 null)\n",
       "0 / lon (3): -180.0 to 180.0\n",
       "array([0, 0, 0])"
      ]
     },
     "execution_count": 2,
     "metadata": {},
     "output_type": "execute_result"
    }
   ],
   "source": [
    "a = GeoArray([0,0,0], axes=[('lon',[-180,0,180])])\n",
    "a"
   ]
  },
  {
   "cell_type": "markdown",
   "metadata": {},
   "source": [
    "Coordinate axes can now be defined as keyword arguments:"
   ]
  },
  {
   "cell_type": "code",
   "execution_count": 3,
   "metadata": {
    "collapsed": false
   },
   "outputs": [],
   "source": [
    "import numpy as np"
   ]
  },
  {
   "cell_type": "code",
   "execution_count": 4,
   "metadata": {
    "collapsed": false
   },
   "outputs": [
    {
     "data": {
      "text/plain": [
       "geoarray: 24 non-null elements (0 null)\n",
       "0 / time (2): 1950.0 to 1960.0\n",
       "1 / lat (3): -90.0 to 90.0\n",
       "2 / lon (4): -180.0 to 180.0\n",
       "array([[[ 1.,  1.,  1.,  1.],\n",
       "        [ 1.,  1.,  1.,  1.],\n",
       "        [ 1.,  1.,  1.,  1.]],\n",
       "\n",
       "       [[ 1.,  1.,  1.,  1.],\n",
       "        [ 1.,  1.,  1.,  1.],\n",
       "        [ 1.,  1.,  1.,  1.]]])"
      ]
     },
     "execution_count": 4,
     "metadata": {},
     "output_type": "execute_result"
    }
   ],
   "source": [
    "a = GeoArray(np.ones((2,3,4)), time=[1950., 1960.], lat=np.linspace(-90,90,3), lon=np.linspace(-180,180,4))\n",
    "a"
   ]
  },
  {
   "cell_type": "markdown",
   "metadata": {},
   "source": [
    ".. note:: The keyword arguments assume an order time (`time`), vertical dimension (`z`), horizontal northing dimension (`lat` or `y`) and  horizontal easting dimension (`x` or `lon`), following CF-recommandations. "
   ]
  },
  {
   "cell_type": "markdown",
   "metadata": {},
   "source": [
    "All standard dimarray functions are available under dimarray.geo (so that `import dimarray.geo as da` works), and a few functions or classes such as :func:`read_nc` or :class:`Dataset` are modified to return :class:`GeoArray` instead of :class:`DimArray` instances."
   ]
  },
  {
   "cell_type": "markdown",
   "metadata": {},
   "source": [
    "## Coordinate Axes"
   ]
  },
  {
   "cell_type": "markdown",
   "metadata": {},
   "source": [
    "Under the hood, there are new :class:`Coordinate` classes which inherit from :class:`Axis`.\n",
    "\n",
    "For example, the inheritance relations of Latitude is: :class:`Latitude` -> :class:`Y` -> :class:`Coordinate` -> :class:`Axis`."
   ]
  },
  {
   "cell_type": "code",
   "execution_count": 5,
   "metadata": {
    "collapsed": false
   },
   "outputs": [],
   "source": [
    "from dimarray.geo import Latitude, Y, Coordinate, Axis"
   ]
  },
  {
   "cell_type": "code",
   "execution_count": 6,
   "metadata": {
    "collapsed": false
   },
   "outputs": [],
   "source": [
    "assert isinstance(a.axes['lat'], Latitude) \n",
    "assert issubclass(Latitude, Y) \n",
    "assert issubclass(Y, Coordinate) \n",
    "assert issubclass(Coordinate, Axis)"
   ]
  },
  {
   "cell_type": "markdown",
   "metadata": {},
   "source": [
    "Weights are automatically defined Latitude axis, so that a mean is weighed by default."
   ]
  },
  {
   "cell_type": "code",
   "execution_count": 7,
   "metadata": {
    "collapsed": false
   },
   "outputs": [
    {
     "data": {
      "text/plain": [
       "<function dimarray.geo.geoarray.<lambda>>"
      ]
     },
     "execution_count": 7,
     "metadata": {},
     "output_type": "execute_result"
    }
   ],
   "source": [
    "a.axes['lat'].weights  # lat -> cos(lat) weighted mean # doctest: +SKIP"
   ]
  },
  {
   "cell_type": "markdown",
   "metadata": {},
   "source": [
    "In the case of Latitude and Longitude, some metadata are also provided by default."
   ]
  },
  {
   "cell_type": "code",
   "execution_count": 8,
   "metadata": {
    "collapsed": false
   },
   "outputs": [
    {
     "data": {
      "text/plain": [
       "OrderedDict([('units', 'degrees_north'),\n",
       "             ('long_name', 'latitude'),\n",
       "             ('standard_name', 'latitude')])"
      ]
     },
     "execution_count": 8,
     "metadata": {},
     "output_type": "execute_result"
    }
   ],
   "source": [
    "a.axes['lat'].attrs  # doctest: +SKIP"
   ]
  },
  {
   "cell_type": "markdown",
   "metadata": {},
   "source": [
    ".. note :: For now there is no constraint on the coordinate axis. This might change in the future, by imposing a strict ordering relationship. "
   ]
  },
  {
   "cell_type": "markdown",
   "metadata": {},
   "source": [
    ".. seealso:: :ref:`ref_api_geo`"
   ]
  },
  {
   "cell_type": "markdown",
   "metadata": {},
   "source": [
    "## Projections"
   ]
  },
  {
   "cell_type": "markdown",
   "metadata": {},
   "source": [
    "dimarray.geo is shipped with :func:`dimarray.geo.transform` and :func:`dimarray.geo.transform_vectors` functions to handle transformations across coordinate reference systems. They are based on :class:`cartopy.crs.CRS`. Cartopy itself makes use of the `PROJ.4` library. In addition to the list of cartopy projections, the :class:`dimarray.geo.crs.Proj4` class makes it possible to define a projection directly from `PROJ.4 parameters <https://trac.osgeo.org/proj/wiki/GenParms>`_. For the most common projections, :mod:`dimarray.geo.crs` also provides wrapper classes that can be initialized with `CF parameters <http://cfconventions.org>`_. See :func:`dimarray.geo.crs.get_crs` for more information.\n",
    "\n",
    "In contrast to cartopy/PROJ.4, dimarray.geo functions perform both coordinate transforms and regridding onto a regular grid in the new coordinate system. This is because of the structure of DimArray and GeoArray classes, which only accept regular grids (in the sense of a collection of 1-D axes).\n",
    "\n",
    ".. note :: Why cartopy and not just pyproj? Pyproj would be just fine, and is more minimalistic, but cartopy also implements vector transformas and offers other useful features related to plotting, reading shapefiles, download online data and so on, which come in handy. Moreover it feels more `\"pythonic\" <http://legacy.python.org/dev/peps/pep-0008>`_, is actively developed with support from the Met' Office, and is related to another interesting project, iris. It builds on other powerful packages such as shapely and it feels like in the long (or not so long) run it might grow toward something even more useful.\n",
    "\n",
    ".. seealso:: :ref:`projection`"
   ]
  }
 ],
 "metadata": {},
 "nbformat": 4,
 "nbformat_minor": 0
}