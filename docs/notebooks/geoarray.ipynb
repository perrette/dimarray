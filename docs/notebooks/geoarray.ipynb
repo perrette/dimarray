{
 "metadata": {
  "name": "",
  "signature": "sha256:9fa36aa0d71304eca1b6007de6ae89d87ee4d728890c08df04262d79f6e43365"
 },
 "nbformat": 3,
 "nbformat_minor": 0,
 "worksheets": [
  {
   "cells": [
    {
     "cell_type": "heading",
     "level": 1,
     "metadata": {},
     "source": [
      "The geo sub-package."
     ]
    },
    {
     "cell_type": "markdown",
     "metadata": {},
     "source": [
      ".. versionadded:: 0.1.9"
     ]
    },
    {
     "cell_type": "markdown",
     "metadata": {},
     "source": [
      ":class:`dimarray.geo.GeoArray` is a subclass of :class:`dimarray.DimArray` that is more specific to geoscientifical applications. The most recognizable features are an automatic check for longitude and latitude coordinates."
     ]
    },
    {
     "cell_type": "code",
     "collapsed": false,
     "input": [
      "from dimarray.geo import GeoArray"
     ],
     "language": "python",
     "metadata": {},
     "outputs": [],
     "prompt_number": 3
    },
    {
     "cell_type": "code",
     "collapsed": false,
     "input": [
      "a = GeoArray([0,0,0], axes=[('lon',[-180,0,180])])\n",
      "a"
     ],
     "language": "python",
     "metadata": {},
     "outputs": [
      {
       "metadata": {},
       "output_type": "pyout",
       "prompt_number": 4,
       "text": [
        "geoarray: 3 non-null elements (0 null)\n",
        "0 / lon (3): -180.0 to 180.0 (Longitude)\n",
        "array([0, 0, 0])"
       ]
      }
     ],
     "prompt_number": 4
    },
    {
     "cell_type": "markdown",
     "metadata": {},
     "source": [
      "There are also pre-defined axes which key-word arguments to ease the definition of common arrays"
     ]
    },
    {
     "cell_type": "code",
     "collapsed": false,
     "input": [
      "import numpy as np"
     ],
     "language": "python",
     "metadata": {},
     "outputs": [],
     "prompt_number": 5
    },
    {
     "cell_type": "code",
     "collapsed": false,
     "input": [
      "a = GeoArray(np.ones((2,3,4)), time=[1950., 1960.], lat=np.linspace(-90,90,3), lon=np.linspace(-180,180,4))\n",
      "a"
     ],
     "language": "python",
     "metadata": {},
     "outputs": [
      {
       "metadata": {},
       "output_type": "pyout",
       "prompt_number": 6,
       "text": [
        "geoarray: 24 non-null elements (0 null)\n",
        "0 / time (2): 1950.0 to 1960.0 (Time)\n",
        "1 / lat (3): -90.0 to 90.0 (Latitude)\n",
        "2 / lon (4): -180.0 to 180.0 (Longitude)\n",
        "array([[[ 1.,  1.,  1.,  1.],\n",
        "        [ 1.,  1.,  1.,  1.],\n",
        "        [ 1.,  1.,  1.,  1.]],\n",
        "\n",
        "       [[ 1.,  1.,  1.,  1.],\n",
        "        [ 1.,  1.,  1.,  1.],\n",
        "        [ 1.,  1.,  1.,  1.]]])"
       ]
      }
     ],
     "prompt_number": 6
    },
    {
     "cell_type": "markdown",
     "metadata": {},
     "source": [
      ".. note:: The keyword arguments assume an order `time`, `lat`, `lon` following common usage and CF-recommandations. Additional predefined coordinate axes are `z`,`y` and `x` to indicate vertical and horizontal coordinates, more generally. "
     ]
    },
    {
     "cell_type": "markdown",
     "metadata": {},
     "source": [
      ".. note :: For now there is no constraint on the coordinate axis. This might change in the future, by imposing a strict ordering relationship. "
     ]
    },
    {
     "cell_type": "markdown",
     "metadata": {},
     "source": [
      "All standard dimarray functions are available under dimarray.geo, and a few functions or classes such as :func:`read_nc` or :class:`Dataset` are modified to return :class:`GeoArray` instead of :class:`DimArray` instances."
     ]
    },
    {
     "cell_type": "heading",
     "level": 2,
     "metadata": {},
     "source": [
      "Coordinate classes"
     ]
    },
    {
     "cell_type": "markdown",
     "metadata": {},
     "source": [
      "Under the hood, there are new :class:`Coordinate` classes which inherit from :class:`Axis`.\n",
      "\n",
      "For example, the inheritance relations of Latitude is: :class:`Latitude` -> :class:`Y` -> :class:`Coordinate` -> :class:`Axis`."
     ]
    },
    {
     "cell_type": "code",
     "collapsed": false,
     "input": [
      "from dimarray.geo import Latitude, Y, Coordinate, Axis"
     ],
     "language": "python",
     "metadata": {},
     "outputs": [],
     "prompt_number": 12
    },
    {
     "cell_type": "code",
     "collapsed": false,
     "input": [
      "assert isinstance(a.axes['lat'], Latitude) \n",
      "assert issubclass(Latitude, Y) \n",
      "assert issubclass(Y, Coordinate) \n",
      "assert issubclass(Coordinate, Axis)"
     ],
     "language": "python",
     "metadata": {},
     "outputs": [],
     "prompt_number": 14
    },
    {
     "cell_type": "markdown",
     "metadata": {},
     "source": [
      "The advantage of this architecture is that specific properties such as weights or 360-modulo indexing are automatically defined. "
     ]
    },
    {
     "cell_type": "code",
     "collapsed": false,
     "input": [
      "a.axes['lat'].weights  # lat -> cos(lat) weighted mean # doctest: +SKIP"
     ],
     "language": "python",
     "metadata": {},
     "outputs": [
      {
       "metadata": {},
       "output_type": "pyout",
       "prompt_number": 7,
       "text": [
        "<function dimarray.geo.geoarray.<lambda>>"
       ]
      }
     ],
     "prompt_number": 7
    },
    {
     "cell_type": "code",
     "collapsed": false,
     "input": [
      "a.axes['lon'].modulo"
     ],
     "language": "python",
     "metadata": {},
     "outputs": [
      {
       "metadata": {},
       "output_type": "pyout",
       "prompt_number": 8,
       "text": [
        "360.0"
       ]
      }
     ],
     "prompt_number": 8
    },
    {
     "cell_type": "markdown",
     "metadata": {},
     "source": [
      "In the case of Latitude and Longitude, some metadata are also provided by default."
     ]
    },
    {
     "cell_type": "code",
     "collapsed": false,
     "input": [
      "a.axes['lat']._metadata()  # doctest: +SKIP"
     ],
     "language": "python",
     "metadata": {},
     "outputs": [
      {
       "metadata": {},
       "output_type": "pyout",
       "prompt_number": 5,
       "text": [
        "{'long_name': 'latitude',\n",
        " 'standard_name': 'latitude',\n",
        " 'units': 'degrees_north'}"
       ]
      }
     ],
     "prompt_number": 5
    },
    {
     "cell_type": "heading",
     "level": 2,
     "metadata": {},
     "source": [
      "Projections"
     ]
    },
    {
     "cell_type": "markdown",
     "metadata": {},
     "source": [
      "Transformation between various coordinate reference systems is addressed in the chapter :ref:`projection`."
     ]
    }
   ],
   "metadata": {}
  }
 ]
}