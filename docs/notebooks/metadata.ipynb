{
 "metadata": {
  "name": "",
  "signature": "sha256:f7e97a81843f3faa889cd376b15f596cea6074866c4325b748178f1781080a13"
 },
 "nbformat": 3,
 "nbformat_minor": 0,
 "worksheets": [
  {
   "cells": [
    {
     "cell_type": "heading",
     "level": 1,
     "metadata": {},
     "source": [
      "Metadata"
     ]
    },
    {
     "cell_type": "markdown",
     "metadata": {},
     "source": [
      ":class:`DimArray`, :class:`Dataset` and :class:`Axis` all support metadata. The straightforward way to define them is via the standard `.` syntax to access an object attribute:"
     ]
    },
    {
     "cell_type": "code",
     "collapsed": false,
     "input": [
      "from dimarray import DimArray\n",
      "a = DimArray([1,2,3])"
     ],
     "language": "python",
     "metadata": {},
     "outputs": [],
     "prompt_number": 1
    },
    {
     "cell_type": "code",
     "collapsed": false,
     "input": [
      "a.name = 'distance'\n",
      "a.units = 'meters'"
     ],
     "language": "python",
     "metadata": {},
     "outputs": [],
     "prompt_number": 2
    },
    {
     "cell_type": "markdown",
     "metadata": {},
     "source": [
      "Although they are nothing more than usual python attributes, the :meth:`_metadata` method gives an overview of all metadata:"
     ]
    },
    {
     "cell_type": "code",
     "collapsed": false,
     "input": [
      "a._metadata() # doctest: +SKIP"
     ],
     "language": "python",
     "metadata": {},
     "outputs": [
      {
       "metadata": {},
       "output_type": "pyout",
       "prompt_number": 3,
       "text": [
        "{'name': 'distance', 'units': 'meters'}"
       ]
      }
     ],
     "prompt_number": 3
    },
    {
     "cell_type": "markdown",
     "metadata": {},
     "source": [
      "Metadata are conserved by slicing and along-axis transformation, but are lost with more ambiguous operations."
     ]
    },
    {
     "cell_type": "code",
     "collapsed": false,
     "input": [
      "a[:]._metadata()  # doctest: +SKIP"
     ],
     "language": "python",
     "metadata": {},
     "outputs": [
      {
       "metadata": {},
       "output_type": "pyout",
       "prompt_number": 4,
       "text": [
        "{'name': 'distance', 'units': 'meters'}"
       ]
      }
     ],
     "prompt_number": 4
    },
    {
     "cell_type": "markdown",
     "metadata": {},
     "source": [
      ".. warning :: until version 0.1.8 metadata used to be accessed as a property (no explicit call). In subsequent versions this has been changed to a method for clarity."
     ]
    },
    {
     "cell_type": "markdown",
     "metadata": {},
     "source": [
      "A :meth:`summary` method is also defined that provide an overview of both the data and its metadata."
     ]
    },
    {
     "cell_type": "code",
     "collapsed": false,
     "input": [
      "a.axes[0].units = 'axis units'\n",
      "print a.summary()"
     ],
     "language": "python",
     "metadata": {},
     "outputs": [
      {
       "output_type": "stream",
       "stream": "stdout",
       "text": [
        "dimarray: 3 non-null elements (0 null)\n",
        "0 / x0 (3): 0 to 2\n",
        "        units : axis units\n",
        "metadata:\n",
        "        units : meters\n",
        "        name : distance\n",
        "array([1, 2, 3])\n"
       ]
      }
     ],
     "prompt_number": 5
    },
    {
     "cell_type": "heading",
     "level": 2,
     "metadata": {},
     "source": [
      "Private attributes"
     ]
    },
    {
     "cell_type": "markdown",
     "metadata": {},
     "source": [
      "Metadata are nothing more than python attributes. The :meth:`_metadata` method just scans the DimArray's `__dict__` and filters out \"private\" attributes (start with an underscore `_`), as well as a number of special names listed in `__metadata_exclude__` class attribute. "
     ]
    },
    {
     "cell_type": "markdown",
     "metadata": {},
     "source": [
      ".. note:: Metadata that start with an underscore `_` or use any protected class attribute as name (e.g. `values`, `axes`, `dims` and so on) can be set and accessed using :meth:`set_metadata`, :meth:`get_metadata` and  :meth:`del_metadata` methods. "
     ]
    },
    {
     "cell_type": "code",
     "collapsed": false,
     "input": [
      "a.set_metadata('dims','this is a bad name')"
     ],
     "language": "python",
     "metadata": {},
     "outputs": [],
     "prompt_number": 6
    },
    {
     "cell_type": "code",
     "collapsed": false,
     "input": [
      "a._metadata() # doctest: +SKIP"
     ],
     "language": "python",
     "metadata": {},
     "outputs": [
      {
       "metadata": {},
       "output_type": "pyout",
       "prompt_number": 7,
       "text": [
        "{'dims': 'this is a bad name', 'name': 'distance', 'units': 'meters'}"
       ]
      }
     ],
     "prompt_number": 7
    },
    {
     "cell_type": "code",
     "collapsed": false,
     "input": [
      "a.dims"
     ],
     "language": "python",
     "metadata": {},
     "outputs": [
      {
       "metadata": {},
       "output_type": "pyout",
       "prompt_number": 8,
       "text": [
        "('x0',)"
       ]
      }
     ],
     "prompt_number": 8
    },
    {
     "cell_type": "code",
     "collapsed": false,
     "input": [
      "a.get_metadata('dims')"
     ],
     "language": "python",
     "metadata": {},
     "outputs": [
      {
       "metadata": {},
       "output_type": "pyout",
       "prompt_number": 9,
       "text": [
        "'this is a bad name'"
       ]
      }
     ],
     "prompt_number": 9
    },
    {
     "cell_type": "code",
     "collapsed": false,
     "input": [
      "a._metadata() # doctest: +SKIP"
     ],
     "language": "python",
     "metadata": {},
     "outputs": [
      {
       "metadata": {},
       "output_type": "pyout",
       "prompt_number": 10,
       "text": [
        "{'dims': 'this is a bad name', 'name': 'distance', 'units': 'meters'}"
       ]
      }
     ],
     "prompt_number": 10
    },
    {
     "cell_type": "markdown",
     "metadata": {},
     "source": [
      "Internatlly, these special metadata will be stored in a :attr:`_metadata_private` attribute (an actual dictionary, not like :meth:`_metadata`):"
     ]
    },
    {
     "cell_type": "code",
     "collapsed": false,
     "input": [
      "a._metadata_private"
     ],
     "language": "python",
     "metadata": {},
     "outputs": [
      {
       "metadata": {},
       "output_type": "pyout",
       "prompt_number": 11,
       "text": [
        "{'dims': 'this is a bad name'}"
       ]
      }
     ],
     "prompt_number": 11
    },
    {
     "cell_type": "code",
     "collapsed": false,
     "input": [
      "a.del_metadata('dims')"
     ],
     "language": "python",
     "metadata": {},
     "outputs": [],
     "prompt_number": 12
    },
    {
     "cell_type": "markdown",
     "metadata": {},
     "source": [
      "Note that :meth:`set_metadata` will first try to use python's :func:`setattr` function:."
     ]
    },
    {
     "cell_type": "code",
     "collapsed": false,
     "input": [
      "a.set_metadata('long_name','this is not a private attribute')\n",
      "a.set_metadata('long name','but that one is')\n",
      "a._metadata()"
     ],
     "language": "python",
     "metadata": {},
     "outputs": [
      {
       "metadata": {},
       "output_type": "pyout",
       "prompt_number": 13,
       "text": [
        "{'long name': 'but that one is',\n",
        " 'long_name': 'this is not a private attribute',\n",
        " 'name': 'distance',\n",
        " 'units': 'meters'}"
       ]
      }
     ],
     "prompt_number": 13
    },
    {
     "cell_type": "code",
     "collapsed": false,
     "input": [
      "a._metadata_private"
     ],
     "language": "python",
     "metadata": {},
     "outputs": [
      {
       "metadata": {},
       "output_type": "pyout",
       "prompt_number": 14,
       "text": [
        "{'long name': 'but that one is'}"
       ]
      }
     ],
     "prompt_number": 14
    },
    {
     "cell_type": "heading",
     "level": 2,
     "metadata": {},
     "source": [
      "Under the hood"
     ]
    },
    {
     "cell_type": "markdown",
     "metadata": {},
     "source": [
      ":class:`DimArray`, :class:`Axis` and :class:`Dataset` all inherit from a :class:`dimarray.core.metadata.MetadataBase` which provides metadata-specific methods."
     ]
    }
   ],
   "metadata": {}
  }
 ]
}