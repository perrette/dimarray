{
 "metadata": {
  "name": "",
  "signature": "sha256:f161226b472b31269ed393613678eee674c8fbf66fdb28dfbc62803571ae4024"
 },
 "nbformat": 3,
 "nbformat_minor": 0,
 "worksheets": [
  {
   "cells": [
    {
     "cell_type": "heading",
     "level": 3,
     "metadata": {},
     "source": [
      "Metadata"
     ]
    },
    {
     "cell_type": "markdown",
     "metadata": {},
     "source": [
      ":class:`dimarray.DimArray`, :class.`dimarray.Dataset` and :class:`dimarray.Axis` all support metadata. The straightforward way to define them is via the standard `.` syntax to access an object attribute:"
     ]
    },
    {
     "cell_type": "code",
     "collapsed": false,
     "input": [
      "from dimarray import DimArray\n",
      "a = DimArray([1,2,3])"
     ],
     "language": "python",
     "metadata": {},
     "outputs": [],
     "prompt_number": 8
    },
    {
     "cell_type": "code",
     "collapsed": false,
     "input": [
      "a.name = 'myname'\n",
      "a.units = 'myunits'"
     ],
     "language": "python",
     "metadata": {},
     "outputs": [],
     "prompt_number": 9
    },
    {
     "cell_type": "markdown",
     "metadata": {},
     "source": [
      "The `_metadata` property returns a dictionary of metadata, for checking:"
     ]
    },
    {
     "cell_type": "code",
     "collapsed": false,
     "input": [
      "a._metadata # doctest: +SKIP"
     ],
     "language": "python",
     "metadata": {},
     "outputs": [
      {
       "metadata": {},
       "output_type": "pyout",
       "prompt_number": 10,
       "text": [
        "{'name': 'myname', 'units': 'myunits'}"
       ]
      }
     ],
     "prompt_number": 10
    },
    {
     "cell_type": "markdown",
     "metadata": {},
     "source": [
      "Metadata are conserved by slicing and along-axis transformation, but are lost with any other transformation."
     ]
    },
    {
     "cell_type": "code",
     "collapsed": false,
     "input": [
      "a[:]._metadata  # doctest: +SKIP"
     ],
     "language": "python",
     "metadata": {},
     "outputs": [
      {
       "metadata": {},
       "output_type": "pyout",
       "prompt_number": 13,
       "text": [
        "{'name': 'myname', 'units': 'myunits'}"
       ]
      }
     ],
     "prompt_number": 13
    },
    {
     "cell_type": "markdown",
     "metadata": {},
     "source": [
      ".. note:: Currently metadata are not stored in the `_metadata` attribute but quite classically in the class's `__dict__` attribute. `_metadata` is only a convenience property that makes a copy of all non-private instance attributes. Therefore modifying its values element-wise will have no effect on actual metadata. \n",
      "\n",
      ".. note:: Any attribute starting with  `_` will not show up in `_metadata`. This `private` attributes will not be conserved via indexing or transformation, and will not be written to netCDF. They can still be read from a netCDF file, though.\n"
     ]
    }
   ],
   "metadata": {}
  }
 ]
}