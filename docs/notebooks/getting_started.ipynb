{
 "metadata": {
  "name": "",
  "signature": "sha256:23420e72c6611e5ef55191f78094a26d5e4a511f8727ed057d160c1931331816"
 },
 "nbformat": 3,
 "nbformat_minor": 0,
 "worksheets": [
  {
   "cells": [
    {
     "cell_type": "heading",
     "level": 1,
     "metadata": {},
     "source": [
      "Getting started"
     ]
    },
    {
     "cell_type": "heading",
     "level": 2,
     "metadata": {},
     "source": [
      "define a dimarray"
     ]
    },
    {
     "cell_type": "markdown",
     "metadata": {},
     "source": [
      "A **``DimArray``** can be defined just like a numpy array, with\n",
      "additional information about its axes, which can be given\n",
      "via `axes` and `dims` parameters."
     ]
    },
    {
     "cell_type": "code",
     "collapsed": false,
     "input": [
      "from dimarray import DimArray, Dataset\n",
      "a = DimArray([[1.,2,3], [4,5,6]], axes=[['a', 'b'], [1950, 1960, 1970]], dims=['variable', 'time'])\n",
      "a"
     ],
     "language": "python",
     "metadata": {},
     "outputs": [
      {
       "metadata": {},
       "output_type": "pyout",
       "prompt_number": 1,
       "text": [
        "dimarray: 6 non-null elements (0 null)\n",
        "dimensions: 'variable', 'time'\n",
        "0 / variable (2): a to b\n",
        "1 / time (3): 1950 to 1970\n",
        "array([[ 1.,  2.,  3.],\n",
        "       [ 4.,  5.,  6.]])"
       ]
      }
     ],
     "prompt_number": 1
    },
    {
     "cell_type": "heading",
     "level": 2,
     "metadata": {},
     "source": [
      "data structure"
     ]
    },
    {
     "cell_type": "markdown",
     "metadata": {},
     "source": [
      "Array data are stored in a `values` **attribute**:"
     ]
    },
    {
     "cell_type": "code",
     "collapsed": false,
     "input": [
      "a.values"
     ],
     "language": "python",
     "metadata": {},
     "outputs": [
      {
       "metadata": {},
       "output_type": "pyout",
       "prompt_number": 2,
       "text": [
        "array([[ 1.,  2.,  3.],\n",
        "       [ 4.,  5.,  6.]])"
       ]
      }
     ],
     "prompt_number": 2
    },
    {
     "cell_type": "markdown",
     "metadata": {},
     "source": [
      "while its axes are stored in `axes`"
     ]
    },
    {
     "cell_type": "code",
     "collapsed": false,
     "input": [
      "a.axes"
     ],
     "language": "python",
     "metadata": {},
     "outputs": [
      {
       "metadata": {},
       "output_type": "pyout",
       "prompt_number": 3,
       "text": [
        "dimensions: 'variable', 'time'\n",
        "0 / variable (2): a to b\n",
        "1 / time (3): 1950 to 1970"
       ]
      }
     ],
     "prompt_number": 3
    },
    {
     "cell_type": "markdown",
     "metadata": {},
     "source": [
      "For more information refer to section on :ref:`page_data_structure` (as well as :py:class:`dimarray.Axis` and :py:class:`dimarray.Axes`)"
     ]
    },
    {
     "cell_type": "heading",
     "level": 2,
     "metadata": {},
     "source": [
      "numpy-like attributes"
     ]
    },
    {
     "cell_type": "markdown",
     "metadata": {},
     "source": [
      "Numpy-like attributes `dtype`, `shape`, `size` or `ndim` are defined, and are not augmented with `dims` and `labels`"
     ]
    },
    {
     "cell_type": "code",
     "collapsed": false,
     "input": [
      "a.shape"
     ],
     "language": "python",
     "metadata": {},
     "outputs": [
      {
       "metadata": {},
       "output_type": "pyout",
       "prompt_number": 4,
       "text": [
        "(2, 3)"
       ]
      }
     ],
     "prompt_number": 4
    },
    {
     "cell_type": "code",
     "collapsed": false,
     "input": [
      "a.dims      # grab axis names (the dimensions)"
     ],
     "language": "python",
     "metadata": {},
     "outputs": [
      {
       "metadata": {},
       "output_type": "pyout",
       "prompt_number": 5,
       "text": [
        "('variable', 'time')"
       ]
      }
     ],
     "prompt_number": 5
    },
    {
     "cell_type": "code",
     "collapsed": false,
     "input": [
      "a.labels   # grab axis values"
     ],
     "language": "python",
     "metadata": {},
     "outputs": [
      {
       "metadata": {},
       "output_type": "pyout",
       "prompt_number": 6,
       "text": [
        "(array(['a', 'b'], dtype=object), array([1950, 1960, 1970]))"
       ]
      }
     ],
     "prompt_number": 6
    },
    {
     "cell_type": "heading",
     "level": 2,
     "metadata": {},
     "source": [
      "indexing "
     ]
    },
    {
     "cell_type": "markdown",
     "metadata": {},
     "source": [
      "**Indexing** works on labels just as expected, including `slice` and boolean array."
     ]
    },
    {
     "cell_type": "code",
     "collapsed": false,
     "input": [
      "a['b', 1970]"
     ],
     "language": "python",
     "metadata": {},
     "outputs": [
      {
       "metadata": {},
       "output_type": "pyout",
       "prompt_number": 7,
       "text": [
        "6.0"
       ]
      }
     ],
     "prompt_number": 7
    },
    {
     "cell_type": "markdown",
     "metadata": {},
     "source": [
      "but integer-index is always possible via `ix` toogle between `labels`- and `position`-based indexing:"
     ]
    },
    {
     "cell_type": "code",
     "collapsed": false,
     "input": [
      "a.ix[0, -1]"
     ],
     "language": "python",
     "metadata": {},
     "outputs": [
      {
       "metadata": {},
       "output_type": "pyout",
       "prompt_number": 8,
       "text": [
        "3.0"
       ]
      }
     ],
     "prompt_number": 8
    },
    {
     "cell_type": "markdown",
     "metadata": {},
     "source": [
      "See also: documentation on :ref:`page_indexing`"
     ]
    },
    {
     "cell_type": "heading",
     "level": 2,
     "metadata": {},
     "source": [
      "transformation"
     ]
    },
    {
     "cell_type": "markdown",
     "metadata": {},
     "source": [
      "Standard numpy transformations are defined, and now accept axis name:"
     ]
    },
    {
     "cell_type": "code",
     "collapsed": false,
     "input": [
      "a.mean(axis='time')"
     ],
     "language": "python",
     "metadata": {},
     "outputs": [
      {
       "metadata": {},
       "output_type": "pyout",
       "prompt_number": 9,
       "text": [
        "dimarray: 2 non-null elements (0 null)\n",
        "dimensions: 'variable'\n",
        "0 / variable (2): a to b\n",
        "array([ 2.,  5.])"
       ]
      }
     ],
     "prompt_number": 9
    },
    {
     "cell_type": "markdown",
     "metadata": {},
     "source": [
      "and can ignore **missing values (nans)** if asked to:"
     ]
    },
    {
     "cell_type": "code",
     "collapsed": false,
     "input": [
      "import numpy as np \n",
      "a['a',1950] = np.nan\n",
      "a.mean(axis='time', skipna=True)"
     ],
     "language": "python",
     "metadata": {},
     "outputs": [
      {
       "metadata": {},
       "output_type": "pyout",
       "prompt_number": 10,
       "text": [
        "dimarray: 2 non-null elements (0 null)\n",
        "dimensions: 'variable'\n",
        "0 / variable (2): a to b\n",
        "array([ 2.5,  5. ])"
       ]
      }
     ],
     "prompt_number": 10
    },
    {
     "cell_type": "markdown",
     "metadata": {},
     "source": [
      "See also: documentation on :ref:`Along-axis_transformations`"
     ]
    },
    {
     "cell_type": "heading",
     "level": 2,
     "metadata": {},
     "source": [
      "data alignment: automatic broadcasting and reindexing"
     ]
    },
    {
     "cell_type": "markdown",
     "metadata": {},
     "source": [
      "During an operation, arrays are **automatically re-indexed** to span the \n",
      "same axis domain, with nan filling if needed. \n",
      "This is quite useful when working with partly-overlapping time series or \n",
      "with incomplete sets of items."
     ]
    },
    {
     "cell_type": "code",
     "collapsed": false,
     "input": [
      "yearly_data = DimArray([0, 1, 2], axes=[[1950, 1960, 1970]], dims=['year'])  \n",
      "incomplete_yearly_data = DimArray([10, 100], axes=[[1950, 1960]], dims=['year']) # last year 1970 is missing\n",
      "yearly_data + incomplete_yearly_data"
     ],
     "language": "python",
     "metadata": {},
     "outputs": [
      {
       "metadata": {},
       "output_type": "pyout",
       "prompt_number": 11,
       "text": [
        "dimarray: 2 non-null elements (1 null)\n",
        "dimensions: 'year'\n",
        "0 / year (3): 1950 to 1970\n",
        "array([  10.,  101.,   nan])"
       ]
      }
     ],
     "prompt_number": 11
    },
    {
     "cell_type": "markdown",
     "metadata": {},
     "source": [
      "A check is also performed on the dimensions, to ensure consistency of the data.\n",
      "If dimensions do not match this is not interpreted as an error but rather as a \n",
      "combination of dimensions. For example, you may want to combine some fixed \n",
      "spatial pattern (such as an EOF) with a time-varying time series (the principal\n",
      "component). Or you may want to combine results from a sensitivity analysis\n",
      "where several parameters have been varied (one dimension per parameter). \n",
      "Here a minimal example where the above-define annual variable is combined with \n",
      "seasonally-varying data (camping summer and winter prices). \n",
      "\n",
      "Arrays are said to be **broadcast**: "
     ]
    },
    {
     "cell_type": "code",
     "collapsed": false,
     "input": [
      "seasonal_data = DimArray([10, 100], axes=[['winter','summer']], dims=['season'])\n",
      "combined_data = yearly_data * seasonal_data\n",
      "combined_data "
     ],
     "language": "python",
     "metadata": {},
     "outputs": [
      {
       "metadata": {},
       "output_type": "pyout",
       "prompt_number": 12,
       "text": [
        "dimarray: 6 non-null elements (0 null)\n",
        "dimensions: 'year', 'season'\n",
        "0 / year (3): 1950 to 1970\n",
        "1 / season (2): winter to summer\n",
        "array([[  0,   0],\n",
        "       [ 10, 100],\n",
        "       [ 20, 200]])"
       ]
      }
     ],
     "prompt_number": 12
    },
    {
     "cell_type": "heading",
     "level": 2,
     "metadata": {},
     "source": [
      "Dataset"
     ]
    },
    {
     "cell_type": "markdown",
     "metadata": {},
     "source": [
      "As a commodity, the **`Dataset`** class is an ordered dictionary of DimArrays which also maintains axis aligment"
     ]
    },
    {
     "cell_type": "code",
     "collapsed": false,
     "input": [
      "dataset = Dataset({'combined_data':combined_data, 'yearly_data':yearly_data,'seasonal_data':seasonal_data})\n",
      "dataset"
     ],
     "language": "python",
     "metadata": {},
     "outputs": [
      {
       "metadata": {},
       "output_type": "pyout",
       "prompt_number": 13,
       "text": [
        "Dataset of 3 variables\n",
        "dimensions: 'season', 'year'\n",
        "0 / season (2): winter to summer\n",
        "1 / year (3): 1950 to 1970\n",
        "seasonal_data: ('season',)\n",
        "combined_data: ('year', 'season')\n",
        "yearly_data: ('year',)"
       ]
      }
     ],
     "prompt_number": 13
    },
    {
     "cell_type": "markdown",
     "metadata": {},
     "source": [
      "It is one step away from creating a new DimArray from these various arrays, by broadcasting dimensions as needed:"
     ]
    },
    {
     "cell_type": "code",
     "collapsed": false,
     "input": [
      "dataset.to_array(axis='variable')"
     ],
     "language": "python",
     "metadata": {},
     "outputs": [
      {
       "metadata": {},
       "output_type": "pyout",
       "prompt_number": 14,
       "text": [
        "dimarray: 18 non-null elements (0 null)\n",
        "dimensions: 'variable', 'season', 'year'\n",
        "0 / variable (3): seasonal_data to yearly_data\n",
        "1 / season (2): winter to summer\n",
        "2 / year (3): 1950 to 1970\n",
        "array([[[ 10,  10,  10],\n",
        "        [100, 100, 100]],\n",
        "\n",
        "       [[  0,  10,  20],\n",
        "        [  0, 100, 200]],\n",
        "\n",
        "       [[  0,   1,   2],\n",
        "        [  0,   1,   2]]])"
       ]
      }
     ],
     "prompt_number": 14
    },
    {
     "cell_type": "markdown",
     "metadata": {},
     "source": [
      "Note that they are various ways of combining DimArray instances. In many case (when no dimension broadcasting is involved), it is simpler to just use the :py:func:`dimarray.stack` method."
     ]
    },
    {
     "cell_type": "heading",
     "level": 2,
     "metadata": {},
     "source": [
      "NetCDF reading and writing"
     ]
    },
    {
     "cell_type": "markdown",
     "metadata": {},
     "source": [
      "A natural I/O format for such an array is netCDF, common in geophysics, which rely on\n",
      "the netCDF4 package. If netCDF4 is installed (much recommanded), a dataset can easily read and write to the netCDF format:"
     ]
    },
    {
     "cell_type": "code",
     "collapsed": false,
     "input": [
      "dataset.write_nc('test.nc', mode='w')"
     ],
     "language": "python",
     "metadata": {},
     "outputs": [],
     "prompt_number": 15
    },
    {
     "cell_type": "code",
     "collapsed": false,
     "input": [
      "import dimarray as da\n",
      "da.read_nc('test.nc', 'combined_data')"
     ],
     "language": "python",
     "metadata": {},
     "outputs": [
      {
       "metadata": {},
       "output_type": "pyout",
       "prompt_number": 16,
       "text": [
        "dimarray: 6 non-null elements (0 null)\n",
        "dimensions: 'year', 'season'\n",
        "0 / year (3): 1950 to 1970\n",
        "1 / season (2): winter to summer\n",
        "array([[  0,   0],\n",
        "       [ 10, 100],\n",
        "       [ 20, 200]])"
       ]
      }
     ],
     "prompt_number": 16
    },
    {
     "cell_type": "heading",
     "level": 2,
     "metadata": {},
     "source": [
      "Reshaping arrays"
     ]
    },
    {
     "cell_type": "markdown",
     "metadata": {},
     "source": [
      "Additional novelty includes methods to reshaping an array in easy ways, very useful for high-dimensional data analysis."
     ]
    },
    {
     "cell_type": "code",
     "collapsed": false,
     "input": [
      "large_array = da.array(np.arange(2*2*5*2).reshape(2,2,5,2), dims=('A','B','C','D'))\n",
      "small_array = large_array.group('A','B').group('C','D')  # same as reshape('A,B','C,D')\n",
      "small_array"
     ],
     "language": "python",
     "metadata": {},
     "outputs": [
      {
       "metadata": {},
       "output_type": "pyout",
       "prompt_number": 17,
       "text": [
        "dimarray: 40 non-null elements (0 null)\n",
        "dimensions: 'A,B', 'C,D'\n",
        "0 / A,B (4): (0, 0) to (1, 1)\n",
        "1 / C,D (10): (0, 0) to (4, 1)\n",
        "array([[ 0,  1,  2,  3,  4,  5,  6,  7,  8,  9],\n",
        "       [10, 11, 12, 13, 14, 15, 16, 17, 18, 19],\n",
        "       [20, 21, 22, 23, 24, 25, 26, 27, 28, 29],\n",
        "       [30, 31, 32, 33, 34, 35, 36, 37, 38, 39]])"
       ]
      }
     ],
     "prompt_number": 17
    },
    {
     "cell_type": "heading",
     "level": 2,
     "metadata": {},
     "source": [
      "interfacing with pandas"
     ]
    },
    {
     "cell_type": "markdown",
     "metadata": {},
     "source": [
      "For things that pandas does better, such as pretty printing, I/O to many formats, and low-dimensional data analysis, just use the :py:meth:`dimarray.DimArray.to_pandas` method"
     ]
    },
    {
     "cell_type": "code",
     "collapsed": false,
     "input": [
      "small_array.to_pandas()"
     ],
     "language": "python",
     "metadata": {},
     "outputs": [
      {
       "html": [
        "<div style=\"max-height:1000px;max-width:1500px;overflow:auto;\">\n",
        "<table border=\"1\" class=\"dataframe\">\n",
        "  <thead>\n",
        "    <tr>\n",
        "      <th></th>\n",
        "      <th>C</th>\n",
        "      <th colspan=\"2\" halign=\"left\">0</th>\n",
        "      <th colspan=\"2\" halign=\"left\">1</th>\n",
        "      <th colspan=\"2\" halign=\"left\">2</th>\n",
        "      <th colspan=\"2\" halign=\"left\">3</th>\n",
        "      <th colspan=\"2\" halign=\"left\">4</th>\n",
        "    </tr>\n",
        "    <tr>\n",
        "      <th></th>\n",
        "      <th>D</th>\n",
        "      <th>0</th>\n",
        "      <th>1</th>\n",
        "      <th>0</th>\n",
        "      <th>1</th>\n",
        "      <th>0</th>\n",
        "      <th>1</th>\n",
        "      <th>0</th>\n",
        "      <th>1</th>\n",
        "      <th>0</th>\n",
        "      <th>1</th>\n",
        "    </tr>\n",
        "    <tr>\n",
        "      <th>A</th>\n",
        "      <th>B</th>\n",
        "      <th></th>\n",
        "      <th></th>\n",
        "      <th></th>\n",
        "      <th></th>\n",
        "      <th></th>\n",
        "      <th></th>\n",
        "      <th></th>\n",
        "      <th></th>\n",
        "      <th></th>\n",
        "      <th></th>\n",
        "    </tr>\n",
        "  </thead>\n",
        "  <tbody>\n",
        "    <tr>\n",
        "      <th rowspan=\"2\" valign=\"top\">0</th>\n",
        "      <th>0</th>\n",
        "      <td>  0</td>\n",
        "      <td>  1</td>\n",
        "      <td>  2</td>\n",
        "      <td>  3</td>\n",
        "      <td>  4</td>\n",
        "      <td>  5</td>\n",
        "      <td>  6</td>\n",
        "      <td>  7</td>\n",
        "      <td>  8</td>\n",
        "      <td>  9</td>\n",
        "    </tr>\n",
        "    <tr>\n",
        "      <th>1</th>\n",
        "      <td> 10</td>\n",
        "      <td> 11</td>\n",
        "      <td> 12</td>\n",
        "      <td> 13</td>\n",
        "      <td> 14</td>\n",
        "      <td> 15</td>\n",
        "      <td> 16</td>\n",
        "      <td> 17</td>\n",
        "      <td> 18</td>\n",
        "      <td> 19</td>\n",
        "    </tr>\n",
        "    <tr>\n",
        "      <th rowspan=\"2\" valign=\"top\">1</th>\n",
        "      <th>0</th>\n",
        "      <td> 20</td>\n",
        "      <td> 21</td>\n",
        "      <td> 22</td>\n",
        "      <td> 23</td>\n",
        "      <td> 24</td>\n",
        "      <td> 25</td>\n",
        "      <td> 26</td>\n",
        "      <td> 27</td>\n",
        "      <td> 28</td>\n",
        "      <td> 29</td>\n",
        "    </tr>\n",
        "    <tr>\n",
        "      <th>1</th>\n",
        "      <td> 30</td>\n",
        "      <td> 31</td>\n",
        "      <td> 32</td>\n",
        "      <td> 33</td>\n",
        "      <td> 34</td>\n",
        "      <td> 35</td>\n",
        "      <td> 36</td>\n",
        "      <td> 37</td>\n",
        "      <td> 38</td>\n",
        "      <td> 39</td>\n",
        "    </tr>\n",
        "  </tbody>\n",
        "</table>\n",
        "</div>"
       ],
       "metadata": {},
       "output_type": "pyout",
       "prompt_number": 20,
       "text": [
        "C     0       1       2       3       4    \n",
        "D     0   1   0   1   0   1   0   1   0   1\n",
        "A B                                        \n",
        "0 0   0   1   2   3   4   5   6   7   8   9\n",
        "  1  10  11  12  13  14  15  16  17  18  19\n",
        "1 0  20  21  22  23  24  25  26  27  28  29\n",
        "  1  30  31  32  33  34  35  36  37  38  39"
       ]
      }
     ],
     "prompt_number": 20
    },
    {
     "cell_type": "markdown",
     "metadata": {},
     "source": [
      "And :py:meth:`dimarray.DimArray.from_pandas` works to convert pandas objects to `DimArray` (also supports `MultiIndex`):"
     ]
    },
    {
     "cell_type": "code",
     "collapsed": false,
     "input": [
      "import pandas as pd\n",
      "s = pd.DataFrame([[1,2],[3,4]], index=['a','b'], columns=[1950, 1960])\n",
      "da.from_pandas(s)"
     ],
     "language": "python",
     "metadata": {},
     "outputs": [
      {
       "metadata": {},
       "output_type": "pyout",
       "prompt_number": 19,
       "text": [
        "dimarray: 4 non-null elements (0 null)\n",
        "dimensions: 'x0', 'x1'\n",
        "0 / x0 (2): a to b\n",
        "1 / x1 (2): 1950 to 1960\n",
        "array([[1, 2],\n",
        "       [3, 4]])"
       ]
      }
     ],
     "prompt_number": 19
    }
   ],
   "metadata": {}
  }
 ]
}