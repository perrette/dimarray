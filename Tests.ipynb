{
 "metadata": {
  "name": ""
 },
 "nbformat": 3,
 "nbformat_minor": 0,
 "worksheets": [
  {
   "cells": [
    {
     "cell_type": "heading",
     "level": 1,
     "metadata": {},
     "source": [
      "Test suite for Dimarray"
     ]
    },
    {
     "cell_type": "markdown",
     "metadata": {},
     "source": [
      "Download dimarray at:\n",
      "https://github.com/perrette/dimarray/\n",
      "\n",
      "Including the latest version of this notebook:\n",
      "https://github.com/perrette/dimarray/blob/master/Tests.ipynb"
     ]
    },
    {
     "cell_type": "code",
     "collapsed": false,
     "input": [
      "import dimarray as da\n",
      "from dimarray import Dimarray"
     ],
     "language": "python",
     "metadata": {},
     "outputs": [],
     "prompt_number": 1
    },
    {
     "cell_type": "markdown",
     "metadata": {},
     "source": [
      "##Define a Dimarray"
     ]
    },
    {
     "cell_type": "code",
     "collapsed": false,
     "input": [
      "#from dimarray import datasets\n",
      "values = [[1,2,3],[4,5,6]]\n",
      "Dimarray(values)\n",
      "Dimarray(values, 'items','time')\n",
      "Dimarray(values, list(\"ab\"), np.arange(1950,1953))\n",
      "a= Dimarray(values, ('items',list(\"ab\")), ('time',np.arange(1950,1953)))\n",
      "b= Dimarray(values, items=list(\"ab\"), time=np.arange(1950,1953))\n",
      "c= Dimarray.from_kw(values, items=list(\"ab\"), time=np.arange(1950,1953))\n",
      "d= Dimarray.from_list(values, [list(\"ab\"), np.arange(1950,1953)], dims=['items','time'])\n",
      "e= da.array(values, items=list(\"ab\"), time=np.arange(1950,1953))\n",
      "assert np.all(a == b == c == d == e)\n",
      "a"
     ],
     "language": "python",
     "metadata": {},
     "outputs": [
      {
       "metadata": {},
       "output_type": "pyout",
       "prompt_number": 2,
       "text": [
        "dimarray: 6 non-null elements (0 null)\n",
        "dimensions: 'items', 'time'\n",
        "0 / items (2): a to b\n",
        "1 / time (3): 1950 to 1952\n",
        "array([[1, 2, 3],\n",
        "       [4, 5, 6]])"
       ]
      }
     ],
     "prompt_number": 2
    },
    {
     "cell_type": "markdown",
     "metadata": {},
     "source": [
      "##Indexing"
     ]
    },
    {
     "cell_type": "code",
     "collapsed": false,
     "input": [
      "random.seed(0)\n",
      "v = da.array(randn(2,5,7), time=arange(1950,1955), lat=linspace(-90,90,7), items=array(['greenland','antarctica']))"
     ],
     "language": "python",
     "metadata": {},
     "outputs": [],
     "prompt_number": 3
    },
    {
     "cell_type": "markdown",
     "metadata": {},
     "source": [
      "### 'index' method: axis value"
     ]
    },
    {
     "cell_type": "code",
     "collapsed": false,
     "input": [
      "### Single value\n",
      "print v\n",
      "a = v[:,:,60]\n",
      "b = v.xs(60, axis=2)\n",
      "c = v.xs(60, axis='lat')\n",
      "d = v.xs(lat=60)\n",
      "assert(a==b==c==d)\n",
      "a"
     ],
     "language": "python",
     "metadata": {},
     "outputs": [
      {
       "output_type": "stream",
       "stream": "stdout",
       "text": [
        "dimarray: 70 non-null elements (0 null)\n",
        "dimensions: 'items', 'time', 'lat'\n",
        "0 / items (2): greenland to antarctica\n",
        "1 / time (5): 1950 to 1954\n",
        "2 / lat (7): -90.0 to 90.0\n",
        "array([[[ 1.76405235,  0.40015721,  0.97873798,  2.2408932 ,  1.86755799,\n",
        "         -0.97727788,  0.95008842],\n",
        "        [-0.15135721, -0.10321885,  0.4105985 ,  0.14404357,  1.45427351,\n",
        "          0.76103773,  0.12167502],\n",
        "        [ 0.44386323,  0.33367433,  1.49407907, -0.20515826,  0.3130677 ,\n",
        "         -0.85409574, -2.55298982],\n",
        "        [ 0.6536186 ,  0.8644362 , -0.74216502,  2.26975462, -1.45436567,\n",
        "          0.04575852, -0.18718385],\n",
        "        [ 1.53277921,  1.46935877,  0.15494743,  0.37816252, -0.88778575,\n",
        "         -1.98079647, -0.34791215]],\n",
        "\n",
        "       [[ 0.15634897,  1.23029068,  1.20237985, -0.38732682, -0.30230275,\n",
        "         -1.04855297, -1.42001794],\n",
        "        [-1.70627019,  1.9507754 , -0.50965218, -0.4380743 , -1.25279536,\n",
        "          0.77749036, -1.61389785],\n",
        "        [-0.21274028, -0.89546656,  0.3869025 , -0.51080514, -1.18063218,\n",
        "         -0.02818223,  0.42833187],\n",
        "        [ 0.06651722,  0.3024719 , -0.63432209, -0.36274117, -0.67246045,\n",
        "         -0.35955316, -0.81314628],\n",
        "        [-1.7262826 ,  0.17742614, -0.40178094, -1.63019835,  0.46278226,\n",
        "         -0.90729836,  0.0519454 ]]])\n"
       ]
      },
      {
       "metadata": {},
       "output_type": "pyout",
       "prompt_number": 4,
       "text": [
        "dimarray: 10 non-null elements (0 null)\n",
        "stamp: [\"lat=60.0\"]\n",
        "dimensions: 'items', 'time'\n",
        "0 / items (2): greenland to antarctica\n",
        "1 / time (5): 1950 to 1954\n",
        "array([[-0.97727788,  0.76103773, -0.85409574,  0.04575852, -1.98079647],\n",
        "       [-1.04855297,  0.77749036, -0.02818223, -0.35955316, -0.90729836]])"
       ]
      }
     ],
     "prompt_number": 4
    },
    {
     "cell_type": "code",
     "collapsed": false,
     "input": [
      "### List\n",
      "a = v[:,:,[60,90]]\n",
      "b = v.xs([60,90], axis='lat')\n",
      "assert np.all(a==b)"
     ],
     "language": "python",
     "metadata": {},
     "outputs": [],
     "prompt_number": 5
    },
    {
     "cell_type": "code",
     "collapsed": false,
     "input": [
      "### Slice\n",
      "c = v[:,:,30:90] # slice include last element\n",
      "d = v.xs((30,90), axis='lat') # slice via tuple\n",
      "assert all(c==d)\n",
      "assert c.shape[2] == 3  # include last element"
     ],
     "language": "python",
     "metadata": {},
     "outputs": [],
     "prompt_number": 6
    },
    {
     "cell_type": "markdown",
     "metadata": {},
     "source": [
      "### 'numpy' method: integer position"
     ]
    },
    {
     "cell_type": "code",
     "collapsed": false,
     "input": [
      "### Single values\n",
      "v.ix[:,:,5]  # WARNING: 'ix' stands for integer index, in contrast to pandas\n",
      "v.xs(5, axis=2, method='numpy')\n",
      "v.xs(5, axis='lat', method='numpy')\n",
      "v.xs(lat=5, method='numpy')\n",
      "assert np.all(v.ix[:,:,5]==v[:,:,60])"
     ],
     "language": "python",
     "metadata": {},
     "outputs": [],
     "prompt_number": 7
    },
    {
     "cell_type": "code",
     "collapsed": false,
     "input": [
      "### list\n",
      "a = v.ix[:,:,[5,6]]\n",
      "b = v.xs([5,6], axis='lat', method=\"numpy\")\n",
      "assert np.all(a==b)"
     ],
     "language": "python",
     "metadata": {},
     "outputs": [],
     "prompt_number": 8
    },
    {
     "cell_type": "code",
     "collapsed": false,
     "input": [
      "### slice: BUG TO FIX : does not include last element if not slice\n",
      "a = v.ix[:,:,5:7]  # does NOT include last element\n",
      "b = v.xs(slice(5,None), axis='lat', method=\"numpy\") # slice via tuple\n",
      "assert np.all(a==b)"
     ],
     "language": "python",
     "metadata": {},
     "outputs": [],
     "prompt_number": 9
    },
    {
     "cell_type": "markdown",
     "metadata": {},
     "source": [
      "### 'nearest' and \"interp\" methods"
     ]
    },
    {
     "cell_type": "code",
     "collapsed": false,
     "input": [
      "x = v.xs(lat=50, method='nearest')\n",
      "assert np.all(x == v.xs(lat=60))"
     ],
     "language": "python",
     "metadata": {},
     "outputs": [],
     "prompt_number": 10
    },
    {
     "cell_type": "code",
     "collapsed": false,
     "input": [
      "x = v.xs(lat=50, method='interp')\n",
      "assert np.all(x != v.xs(lat=60))\n",
      "x"
     ],
     "language": "python",
     "metadata": {},
     "outputs": [
      {
       "metadata": {},
       "output_type": "pyout",
       "prompt_number": 11,
       "text": [
        "dimarray: 10 non-null elements (0 null)\n",
        "dimensions: 'items', 'time'\n",
        "0 / items (2): greenland to antarctica\n",
        "1 / time (5): 1950 to 1954\n",
        "array([[-0.02899926,  0.99211632, -0.46504126, -0.45428288, -1.61645956],\n",
        "       [-0.79980289,  0.10072845, -0.41233221, -0.46385559, -0.45060482]])"
       ]
      }
     ],
     "prompt_number": 11
    },
    {
     "cell_type": "markdown",
     "metadata": {},
     "source": [
      "## Reindex Axis"
     ]
    },
    {
     "cell_type": "code",
     "collapsed": false,
     "input": [
      "import dimarray.core._indexing as re; reload(re)\n",
      "import dimarray as da\n",
      "a = da.Dimarray([1,2,3],('x0',[1,2,3]))\n",
      "b = da.Dimarray([3,4],('x0',[1,3]))\n",
      "b.reindex_axis([1,2,3])"
     ],
     "language": "python",
     "metadata": {},
     "outputs": [
      {
       "metadata": {},
       "output_type": "pyout",
       "prompt_number": 13,
       "text": [
        "dimarray: 2 non-null elements (1 null)\n",
        "dimensions: 'x0'\n",
        "0 / x0 (3): 1 to 3\n",
        "array([  3.,  nan,   4.])"
       ]
      }
     ],
     "prompt_number": 13
    },
    {
     "cell_type": "code",
     "collapsed": false,
     "input": [
      "# Can also reindex in \"interp\" mode\n",
      "b.reindex_axis([1,2,3], method='interp')"
     ],
     "language": "python",
     "metadata": {},
     "outputs": [
      {
       "metadata": {},
       "output_type": "pyout",
       "prompt_number": 15,
       "text": [
        "dimarray: 3 non-null elements (0 null)\n",
        "dimensions: 'x0'\n",
        "0 / x0 (3): 1 to 3\n",
        "array([ 3. ,  3.5,  4. ])"
       ]
      }
     ],
     "prompt_number": 15
    },
    {
     "cell_type": "code",
     "collapsed": false,
     "input": [
      "# Or like another array\n",
      "c = da.Dimarray([[1,2,3], [1,2,3]],('x1',[\"a\",\"b\"]),('x0',[0.5, 1.5, 3]))\n",
      "b.reindex_like(c, method='interp')"
     ],
     "language": "python",
     "metadata": {},
     "outputs": [
      {
       "metadata": {},
       "output_type": "pyout",
       "prompt_number": 17,
       "text": [
        "dimarray: 2 non-null elements (1 null)\n",
        "dimensions: 'x0'\n",
        "0 / x0 (3): 0.5 to 3.0\n",
        "array([  nan,  3.25,  4.  ])"
       ]
      }
     ],
     "prompt_number": 17
    },
    {
     "cell_type": "markdown",
     "metadata": {},
     "source": [
      "##Modify dimensions"
     ]
    },
    {
     "cell_type": "markdown",
     "metadata": {},
     "source": [
      "###Transpose"
     ]
    },
    {
     "cell_type": "code",
     "collapsed": false,
     "input": [
      "a = Dimarray([[1,2,3],[3,4,5]],'x0','x1')\n",
      "a.transpose()\n",
      "a.T"
     ],
     "language": "python",
     "metadata": {},
     "outputs": [
      {
       "metadata": {},
       "output_type": "pyout",
       "prompt_number": 18,
       "text": [
        "dimarray: 6 non-null elements (0 null)\n",
        "dimensions: 'x1', 'x0'\n",
        "0 / x1 (3): 0 to 2\n",
        "1 / x0 (2): 0 to 1\n",
        "array([[1, 3],\n",
        "       [2, 4],\n",
        "       [3, 5]])"
       ]
      }
     ],
     "prompt_number": 18
    },
    {
     "cell_type": "code",
     "collapsed": false,
     "input": [
      "a = Dimarray([[[1,2,3],[3,4,5]]],'x2','x0','x1')\n",
      "a.transpose(('x1','x2','x0'))"
     ],
     "language": "python",
     "metadata": {},
     "outputs": [
      {
       "metadata": {},
       "output_type": "pyout",
       "prompt_number": 19,
       "text": [
        "dimarray: 6 non-null elements (0 null)\n",
        "dimensions: 'x1', 'x2', 'x0'\n",
        "0 / x1 (3): 0 to 2\n",
        "1 / x2 (1): 0 to 0\n",
        "2 / x0 (2): 0 to 1\n",
        "array([[[1, 3]],\n",
        "\n",
        "       [[2, 4]],\n",
        "\n",
        "       [[3, 5]]])"
       ]
      }
     ],
     "prompt_number": 19
    },
    {
     "cell_type": "markdown",
     "metadata": {},
     "source": [
      "###Insert new axis"
     ]
    },
    {
     "cell_type": "code",
     "collapsed": false,
     "input": [
      "a = Dimarray([1,2])\n",
      "a.newaxis('new', pos=1)  # singleton"
     ],
     "language": "python",
     "metadata": {},
     "outputs": [
      {
       "metadata": {},
       "output_type": "pyout",
       "prompt_number": 20,
       "text": [
        "dimarray: 2 non-null elements (0 null)\n",
        "dimensions: 'x0', 'new'\n",
        "0 / x0 (2): 0 to 1\n",
        "1 / new (1): None to None\n",
        "array([[1],\n",
        "       [2]])"
       ]
      }
     ],
     "prompt_number": 20
    },
    {
     "cell_type": "markdown",
     "metadata": {},
     "source": [
      "###Reshape"
     ]
    },
    {
     "cell_type": "code",
     "collapsed": false,
     "input": [
      "a = da.Dimarray.from_kw(arange(2), lon=[30., 40.])\n",
      "b = a.reshape(('time','lon'))\n",
      "b"
     ],
     "language": "python",
     "metadata": {},
     "outputs": [
      {
       "metadata": {},
       "output_type": "pyout",
       "prompt_number": 21,
       "text": [
        "dimarray: 2 non-null elements (0 null)\n",
        "dimensions: 'time', 'lon'\n",
        "0 / time (1): None to None\n",
        "1 / lon (2): 30.0 to 40.0\n",
        "array([[0, 1]])"
       ]
      }
     ],
     "prompt_number": 21
    },
    {
     "cell_type": "markdown",
     "metadata": {},
     "source": [
      "### Repeat"
     ]
    },
    {
     "cell_type": "code",
     "collapsed": false,
     "input": [
      "### Single axis:\n",
      ">>> b.repeat(np.arange(1950,1955), axis=\"time\")  # doctest: +ELLIPSIS"
     ],
     "language": "python",
     "metadata": {},
     "outputs": [
      {
       "metadata": {},
       "output_type": "pyout",
       "prompt_number": 22,
       "text": [
        "dimarray: 10 non-null elements (0 null)\n",
        "dimensions: 'time', 'lon'\n",
        "0 / time (5): 1950 to 1954\n",
        "1 / lon (2): 30.0 to 40.0\n",
        "array([[0, 1],\n",
        "       [0, 1],\n",
        "       [0, 1],\n",
        "       [0, 1],\n",
        "       [0, 1]])"
       ]
      }
     ],
     "prompt_number": 22
    },
    {
     "cell_type": "code",
     "collapsed": false,
     "input": [
      "### Multi-axis\n",
      "# ...create some dummy data:\n",
      "lon = np.linspace(10, 30, 2)\n",
      "lat = np.linspace(10, 50, 3)\n",
      "time = np.arange(1950,1955)\n",
      "ts = da.Dimarray.from_kw(np.arange(5), time=time)\n",
      "cube = da.Dimarray.from_kw(np.zeros((3,2,5)), lon=lon, lat=lat, time=time)  # lat x lon x time\n",
      "cube.axes  # doctest: +ELLIPSIS"
     ],
     "language": "python",
     "metadata": {},
     "outputs": [
      {
       "metadata": {},
       "output_type": "pyout",
       "prompt_number": 23,
       "text": [
        "dimensions: 'lat', 'lon', 'time'\n",
        "0 / lat (3): 10.0 to 50.0\n",
        "1 / lon (2): 10.0 to 30.0\n",
        "2 / time (5): 1950 to 1954"
       ]
      }
     ],
     "prompt_number": 23
    },
    {
     "cell_type": "code",
     "collapsed": false,
     "input": [
      "### In combination with repeat\n",
      "a.newaxis('new', values=['a','b'],pos=1) # repeat 2 times along the first axis"
     ],
     "language": "python",
     "metadata": {},
     "outputs": [
      {
       "metadata": {},
       "output_type": "pyout",
       "prompt_number": 24,
       "text": [
        "dimarray: 4 non-null elements (0 null)\n",
        "dimensions: 'lon', 'new'\n",
        "0 / lon (2): 30.0 to 40.0\n",
        "1 / new (2): a to b\n",
        "array([[0, 0],\n",
        "       [1, 1]])"
       ]
      }
     ],
     "prompt_number": 24
    },
    {
     "cell_type": "markdown",
     "metadata": {},
     "source": [
      "###Broadcast"
     ]
    },
    {
     "cell_type": "code",
     "collapsed": false,
     "input": [
      "# broadcast along new axes (reshape + repeat array)\n",
      ">>> ts3D = ts.broadcast(cube) #  lat x lon x time\n",
      "ts3D"
     ],
     "language": "python",
     "metadata": {},
     "outputs": [
      {
       "metadata": {},
       "output_type": "pyout",
       "prompt_number": 25,
       "text": [
        "dimarray: 30 non-null elements (0 null)\n",
        "dimensions: 'lat', 'lon', 'time'\n",
        "0 / lat (3): 10.0 to 50.0\n",
        "1 / lon (2): 10.0 to 30.0\n",
        "2 / time (5): 1950 to 1954\n",
        "array([[[0, 1, 2, 3, 4],\n",
        "        [0, 1, 2, 3, 4]],\n",
        "\n",
        "       [[0, 1, 2, 3, 4],\n",
        "        [0, 1, 2, 3, 4]],\n",
        "\n",
        "       [[0, 1, 2, 3, 4],\n",
        "        [0, 1, 2, 3, 4]]])"
       ]
      }
     ],
     "prompt_number": 25
    },
    {
     "cell_type": "markdown",
     "metadata": {},
     "source": [
      "##Align a list of arrays"
     ]
    },
    {
     "cell_type": "markdown",
     "metadata": {},
     "source": [
      "###Align dimensions"
     ]
    },
    {
     "cell_type": "code",
     "collapsed": false,
     "input": [
      "# Keep new axes as singleton dimensions\n",
      "x = da.Dimarray(np.arange(2), 'x0')\n",
      "y = da.Dimarray(np.arange(3), 'x1')\n",
      "da.align_dims(x, y)"
     ],
     "language": "python",
     "metadata": {},
     "outputs": [
      {
       "metadata": {},
       "output_type": "pyout",
       "prompt_number": 26,
       "text": [
        "[dimarray: 2 non-null elements (0 null)\n",
        "dimensions: 'x0', 'x1'\n",
        "0 / x0 (2): 0 to 1\n",
        "1 / x1 (1): None to None\n",
        "array([[0],\n",
        "       [1]]),\n",
        " dimarray: 3 non-null elements (0 null)\n",
        "dimensions: 'x0', 'x1'\n",
        "0 / x0 (1): None to None\n",
        "1 / x1 (3): 0 to 2\n",
        "array([[0, 1, 2]])]"
       ]
      }
     ],
     "prompt_number": 26
    },
    {
     "cell_type": "code",
     "collapsed": false,
     "input": [
      "# Broadcast arrays: all array have same size\n",
      "da.broadcast_arrays(x, y)"
     ],
     "language": "python",
     "metadata": {},
     "outputs": [
      {
       "metadata": {},
       "output_type": "pyout",
       "prompt_number": 27,
       "text": [
        "[dimarray: 6 non-null elements (0 null)\n",
        "dimensions: 'x0', 'x1'\n",
        "0 / x0 (2): 0 to 1\n",
        "1 / x1 (3): 0 to 2\n",
        "array([[0, 0, 0],\n",
        "       [1, 1, 1]]),\n",
        " dimarray: 6 non-null elements (0 null)\n",
        "dimensions: 'x0', 'x1'\n",
        "0 / x0 (2): 0 to 1\n",
        "1 / x1 (3): 0 to 2\n",
        "array([[0, 1, 2],\n",
        "       [0, 1, 2]])]"
       ]
      }
     ],
     "prompt_number": 27
    },
    {
     "cell_type": "markdown",
     "metadata": {},
     "source": [
      "### Align axes"
     ]
    },
    {
     "cell_type": "code",
     "collapsed": false,
     "input": [
      "a = da.Dimarray([1,2,3],('x0',[1,2,3]))\n",
      "b = da.Dimarray([3,4],('x0',[2,4]))\n",
      "da.align_axes(a, b)"
     ],
     "language": "python",
     "metadata": {},
     "outputs": [
      {
       "metadata": {},
       "output_type": "pyout",
       "prompt_number": 28,
       "text": [
        "[dimarray: 3 non-null elements (1 null)\n",
        "dimensions: 'x0'\n",
        "0 / x0 (4): 1 to 4\n",
        "array([  1.,   2.,   3.,  nan]),\n",
        " dimarray: 2 non-null elements (2 null)\n",
        "dimensions: 'x0'\n",
        "0 / x0 (4): 1 to 4\n",
        "array([ nan,   3.,  nan,   4.])]"
       ]
      }
     ],
     "prompt_number": 28
    },
    {
     "cell_type": "markdown",
     "metadata": {},
     "source": [
      "##Operations"
     ]
    },
    {
     "cell_type": "markdown",
     "metadata": {},
     "source": [
      "###Basic Operations        "
     ]
    },
    {
     "cell_type": "code",
     "collapsed": false,
     "input": [
      "a = da.Dimarray([[1,2,3],[3,4,5]],'x0','x1')\n",
      "assert all(a == a)\n",
      "assert all(a+2 == a + np.ones(a.shape)*2)\n",
      "assert all(a+a == a*2)\n",
      "assert all(a*a == a**2)\n",
      "assert all((a - a.values) == a - a)\n",
      "a == a"
     ],
     "language": "python",
     "metadata": {},
     "outputs": [
      {
       "metadata": {},
       "output_type": "pyout",
       "prompt_number": 29,
       "text": [
        "dimarray: 6 non-null elements (0 null)\n",
        "dimensions: 'x0', 'x1'\n",
        "0 / x0 (2): 0 to 1\n",
        "1 / x1 (3): 0 to 2\n",
        "array([[ True,  True,  True],\n",
        "       [ True,  True,  True]], dtype=bool)"
       ]
      }
     ],
     "prompt_number": 29
    },
    {
     "cell_type": "markdown",
     "metadata": {},
     "source": [
      "### Operation with data alignment "
     ]
    },
    {
     "cell_type": "code",
     "collapsed": false,
     "input": [
      "# broadcasting\n",
      "x = da.Dimarray(np.arange(2), 'x0')\n",
      "y = da.Dimarray(np.arange(3), 'x1')\n",
      "x+y"
     ],
     "language": "python",
     "metadata": {},
     "outputs": [
      {
       "metadata": {},
       "output_type": "pyout",
       "prompt_number": 30,
       "text": [
        "dimarray: 6 non-null elements (0 null)\n",
        "dimensions: 'x0', 'x1'\n",
        "0 / x0 (2): 0 to 1\n",
        "1 / x1 (3): 0 to 2\n",
        "array([[0, 1, 2],\n",
        "       [1, 2, 3]])"
       ]
      }
     ],
     "prompt_number": 30
    },
    {
     "cell_type": "code",
     "collapsed": false,
     "input": [
      "# axis alignment\n",
      "z = da.Dimarray([0,1,2],('x0',[0,1,2]))\n",
      "x+z"
     ],
     "language": "python",
     "metadata": {},
     "outputs": [
      {
       "metadata": {},
       "output_type": "pyout",
       "prompt_number": 31,
       "text": [
        "dimarray: 2 non-null elements (1 null)\n",
        "dimensions: 'x0'\n",
        "0 / x0 (3): 0 to 2\n",
        "array([  0.,   2.,  nan])"
       ]
      }
     ],
     "prompt_number": 31
    },
    {
     "cell_type": "code",
     "collapsed": false,
     "input": [
      "# or both\n",
      "(x+y)+(x+z)"
     ],
     "language": "python",
     "metadata": {},
     "outputs": [
      {
       "metadata": {},
       "output_type": "pyout",
       "prompt_number": 32,
       "text": [
        "dimarray: 6 non-null elements (3 null)\n",
        "dimensions: 'x0', 'x1'\n",
        "0 / x0 (3): 0 to 2\n",
        "1 / x1 (3): 0 to 2\n",
        "array([[  0.,   1.,   2.],\n",
        "       [  3.,   4.,   5.],\n",
        "       [ nan,  nan,  nan]])"
       ]
      }
     ],
     "prompt_number": 32
    },
    {
     "cell_type": "markdown",
     "metadata": {},
     "source": [
      "##Numpy Transformations"
     ]
    },
    {
     "cell_type": "code",
     "collapsed": false,
     "input": [
      "np.random.seed(0)\n",
      "v = da.array(randn(5,7), time=arange(1950,1955), lat=linspace(-90,90,7))"
     ],
     "language": "python",
     "metadata": {},
     "outputs": [],
     "prompt_number": 33
    },
    {
     "cell_type": "markdown",
     "metadata": {},
     "source": [
      "Basic transforms: reduce axis"
     ]
    },
    {
     "cell_type": "code",
     "collapsed": false,
     "input": [
      "v.sum() # sum over all axes\n",
      "v.sum(axis=0) # sum over first axis\n",
      "v.sum(axis='time') # named axis\n",
      "v.prod(axis='time') # named axis\n",
      "v.mean(axis='time') # named axis\n",
      "v.var(axis='time') # named axis\n",
      "v.std(axis='time') # named axis\n",
      "v.median(axis='time') # named axis\n",
      "v.min(axis='time') # named axis\n",
      "v.max(axis='time') # named axis\n",
      "v.ptp(axis='time') # named axis\n",
      "v.all(axis='time') # named axis\n",
      "v.any(axis='time') # named axis"
     ],
     "language": "python",
     "metadata": {},
     "outputs": [
      {
       "metadata": {},
       "output_type": "pyout",
       "prompt_number": 34,
       "text": [
        "dimarray: 7 non-null elements (0 null)\n",
        "stamp: [\"any(time(5)=1950:1954)\"]\n",
        "dimensions: 'lat'\n",
        "0 / lat (7): -90.0 to 90.0\n",
        "array([ True,  True,  True,  True,  True,  True,  True], dtype=bool)"
       ]
      }
     ],
     "prompt_number": 34
    },
    {
     "cell_type": "markdown",
     "metadata": {},
     "source": [
      "locmin/locmax as dimarray equivalent of argmin/argmax: return axis value "
     ]
    },
    {
     "cell_type": "code",
     "collapsed": false,
     "input": [
      "v.locmin(axis='time') \n",
      "v.locmin() # over all axes\n",
      "v.locmax(axis='time') \n",
      "v.locmax() # over all axes\n",
      "v.locmax(axis='time')\n",
      "assert v[v.locmax()] == v.max(), \"problem with locmax/max\"\n",
      "assert v[v.locmin()] == v.min(), \"problem with locmin/min\"\n",
      "res = np.array([v.ix[i][ix] for i, ix in enumerate(v.locmax(axis=1).values)])\n",
      "assert np.all(res == v.max(axis=1)), \"problem with locmax/max\"\n",
      "v.locmax()"
     ],
     "language": "python",
     "metadata": {},
     "outputs": [
      {
       "metadata": {},
       "output_type": "pyout",
       "prompt_number": 35,
       "text": [
        "(1953, 0.0)"
       ]
      }
     ],
     "prompt_number": 35
    },
    {
     "cell_type": "markdown",
     "metadata": {},
     "source": [
      "cumulative transformation"
     ]
    },
    {
     "cell_type": "code",
     "collapsed": false,
     "input": [
      "v.cumsum() # last axis\n",
      "v.cumsum(axis=None) # return numpy array\n",
      "assert np.all(v.cumsum(axis=-1) == v.cumsum()), \"default last axis\""
     ],
     "language": "python",
     "metadata": {},
     "outputs": [],
     "prompt_number": 36
    },
    {
     "cell_type": "markdown",
     "metadata": {},
     "source": [
      "new diff method"
     ]
    },
    {
     "cell_type": "code",
     "collapsed": false,
     "input": [
      "v.diff(axis='time', keepaxis=False)\n",
      "v.diff(axis=0, keepaxis=False, scheme='centered')\n",
      "v.diff(axis=0, keepaxis=False, scheme='backward')\n",
      "v.diff(axis=0, keepaxis=False, scheme='forward')\n",
      "v.diff(axis=0, keepaxis=True, scheme='backward')\n",
      "v.diff(axis=0, keepaxis=True, scheme='forward')\n",
      "v.diff(n=2,axis=('time'), scheme='centered')"
     ],
     "language": "python",
     "metadata": {},
     "outputs": [
      {
       "metadata": {},
       "output_type": "pyout",
       "prompt_number": 37,
       "text": [
        "dimarray: 21 non-null elements (0 null)\n",
        "dimensions: 'time', 'lat'\n",
        "0 / time (3): 1951.0 to 1953.0\n",
        "1 / lat (7): -90.0 to 90.0\n",
        "array([[ 2.51063   ,  0.94026924,  1.65162005,  1.74764779, -0.72792132,\n",
        "        -3.35344907, -1.84625143],\n",
        "       [-0.38546508,  0.09386869, -3.31972466,  2.82411472, -0.62622757,\n",
        "         2.51498772,  5.0404708 ],\n",
        "       [ 0.66940526,  0.0741607 ,  3.13335654, -4.36650499,  2.3340133 ,\n",
        "        -2.92640924, -2.52653427]])"
       ]
      }
     ],
     "prompt_number": 37
    },
    {
     "cell_type": "code",
     "collapsed": false,
     "input": [
      "# CHECK AGAINST PANDAS\n",
      "assert np.all(v.std(ddof=1, axis=0).values==v.to_pandas().std().values), \"std vs pandas\"\n",
      "assert np.sum((v.var(ddof=1, axis=0).values-v.to_pandas().var().values)**2)<1e-10, \"var vs pandas\"\n",
      "assert np.all(v.cumsum(axis=0).values == v.to_pandas().cumsum().values), \"error against pandas\"\n",
      "assert np.all(v.cumprod(axis=0).values == v.to_pandas().cumprod().values), \"error against pandas\"\n",
      "assert np.nansum((v.diff(axis=0, keepaxis=True).cumsum(axis=0).values - v.to_pandas().diff().cumsum().values)**2) \\\n",
      "  < 1e-10, \"error against pandas\""
     ],
     "language": "python",
     "metadata": {},
     "outputs": [],
     "prompt_number": 38
    },
    {
     "cell_type": "markdown",
     "metadata": {},
     "source": [
      "##Dataset"
     ]
    },
    {
     "cell_type": "markdown",
     "metadata": {},
     "source": [
      "Aggregate several datasets to a Dataset object, it will automatically align the data"
     ]
    },
    {
     "cell_type": "code",
     "collapsed": false,
     "input": [
      "import dimarray as da\n",
      "seed(0)\n",
      "mymap = da.array(randn(50,7), lon=linspace(-180,180,50), lat=linspace(-90,90,7))\n",
      "ts = da.Dimarray(np.arange(5), ('time',arange(1950,1955)))\n",
      "ts2 = da.Dimarray(np.arange(10), ('time',arange(1950,1960)))\n",
      "\n",
      "# Define a Dataset made of several variables\n",
      "data = da.Dataset({'ts':ts, 'ts2':ts2, 'mymap':mymap})\n",
      "data = da.Dataset([ts, ts2, mymap], keys=['ts','ts2','mymap'])"
     ],
     "language": "python",
     "metadata": {},
     "outputs": [],
     "prompt_number": 40
    },
    {
     "cell_type": "markdown",
     "metadata": {},
     "source": [
      "Data have been automatically aligned, while keeping the same shape"
     ]
    },
    {
     "cell_type": "code",
     "collapsed": false,
     "input": [
      "assert np.all(data['ts'].time == data['ts2'].time),\"Dataset: pb data alignment\" \n",
      "data['ts']"
     ],
     "language": "python",
     "metadata": {},
     "outputs": [
      {
       "metadata": {},
       "output_type": "pyout",
       "prompt_number": 41,
       "text": [
        "dimarray: 5 non-null elements (5 null)\n",
        "name: ts\n",
        "dimensions: 'time'\n",
        "0 / time (10): 1950 to 1959\n",
        "array([  0.,   1.,   2.,   3.,   4.,  nan,  nan,  nan,  nan,  nan])"
       ]
      }
     ],
     "prompt_number": 41
    },
    {
     "cell_type": "markdown",
     "metadata": {},
     "source": [
      "Can also add any other data as long as it is aligned with the dataset"
     ]
    },
    {
     "cell_type": "code",
     "collapsed": false,
     "input": [
      "data['test'] = da.Dimarray([0],('source',['greenland']))  # new axis\n",
      "try:\n",
      "    data['test2'] = da.Dimarray([0,3],('source',['greenland','antarctica']))\n",
      "except Exception, msg:\n",
      "    print msg\n",
      "data\n",
      "## TODO: \"expand\" Dataset (such as reindex_axis)"
     ],
     "language": "python",
     "metadata": {},
     "outputs": [
      {
       "output_type": "stream",
       "stream": "stdout",
       "text": [
        "axes values do not match, align data first.\t\t\t    \n",
        "Dataset: source(1)=greenland:greenland, \n",
        "Got: source(2)=greenland:antarctica\n"
       ]
      },
      {
       "metadata": {},
       "output_type": "pyout",
       "prompt_number": 42,
       "text": [
        "Dataset of 4 variables\n",
        "dimensions: 'time', 'lon', 'lat', 'source'\n",
        "0 / time (10): 1950 to 1959\n",
        "1 / lon (50): -180.0 to 180.0\n",
        "2 / lat (7): -90.0 to 90.0\n",
        "3 / source (1): greenland to greenland\n",
        "ts: time\n",
        "ts2: time\n",
        "mymap: lon, lat\n",
        "test: source"
       ]
      }
     ],
     "prompt_number": 42
    },
    {
     "cell_type": "code",
     "collapsed": false,
     "input": [
      "# Export to a Dimarray\n",
      "print data.to_array()"
     ],
     "language": "python",
     "metadata": {},
     "outputs": [
      {
       "output_type": "stream",
       "stream": "stdout",
       "text": [
        "dimarray: 12250 non-null elements (1750 null)\n",
        "dimensions: 'items', 'time', 'lon', 'lat', 'source'\n",
        "0 / items (4): ts to test\n",
        "1 / time (10): 1950 to 1959\n",
        "2 / lon (50): -180.0 to 180.0\n",
        "3 / lat (7): -90.0 to 90.0\n",
        "4 / source (1): greenland to greenland\n",
        "array(...)\n"
       ]
      }
     ],
     "prompt_number": 43
    },
    {
     "cell_type": "markdown",
     "metadata": {},
     "source": [
      "##NetCDF I/O"
     ]
    },
    {
     "cell_type": "markdown",
     "metadata": {},
     "source": [
      "### From a Dimarray"
     ]
    },
    {
     "cell_type": "code",
     "collapsed": false,
     "input": [
      "seed(0)\n",
      "v = da.array(randn(2,5,7), time=arange(1950,1955), lat=linspace(-90,90,7), items=array(['greenland','antarctica']))"
     ],
     "language": "python",
     "metadata": {},
     "outputs": [],
     "prompt_number": 44
    },
    {
     "cell_type": "code",
     "collapsed": false,
     "input": [
      "# writing\n",
      "v.write_nc(\"test2.nc\",\"myvarstr\")"
     ],
     "language": "python",
     "metadata": {},
     "outputs": [
      {
       "output_type": "stream",
       "stream": "stdout",
       "text": [
        "write to test2.nc\n"
       ]
      }
     ],
     "prompt_number": 45
    },
    {
     "cell_type": "code",
     "collapsed": false,
     "input": [
      "# checking\n",
      "da.summary_nc(\"test2.nc\")"
     ],
     "language": "python",
     "metadata": {},
     "outputs": [
      {
       "output_type": "stream",
       "stream": "stdout",
       "text": [
        "test2.nc:\n",
        "--------\n",
        "Dataset of 1 variable\n",
        "dimensions: u'items', u'time', u'lat'\n",
        "0 / items (2): greenland to antarctica\n",
        "1 / time (5): 1950 to 1954\n",
        "2 / lat (7): -90.0 to 90.0"
       ]
      },
      {
       "output_type": "stream",
       "stream": "stdout",
       "text": [
        "\n",
        "myvarstr : items, time, lat\n"
       ]
      }
     ],
     "prompt_number": 46
    },
    {
     "cell_type": "code",
     "collapsed": false,
     "input": [
      "# reading\n",
      "w = da.read_nc(\"test2.nc\")\n",
      "assert np.all(w['myvarstr'] == v), \"Problem when reading netcdf\"\n",
      "w"
     ],
     "language": "python",
     "metadata": {},
     "outputs": [
      {
       "output_type": "stream",
       "stream": "stdout",
       "text": [
        "read from test2.nc\n"
       ]
      },
      {
       "metadata": {},
       "output_type": "pyout",
       "prompt_number": 47,
       "text": [
        "Dataset of 1 variable\n",
        "dimensions: u'items', u'time', u'lat'\n",
        "0 / items (2): greenland to antarctica\n",
        "1 / time (5): 1950 to 1954\n",
        "2 / lat (7): -90.0 to 90.0\n",
        "myvarstr: items, time, lat"
       ]
      }
     ],
     "prompt_number": 47
    },
    {
     "cell_type": "markdown",
     "metadata": {},
     "source": [
      "### From/To Dataset"
     ]
    },
    {
     "cell_type": "code",
     "collapsed": false,
     "input": [
      "data.write('test3.nc')\n",
      "da.summary_nc('test3.nc')"
     ],
     "language": "python",
     "metadata": {},
     "outputs": [
      {
       "output_type": "stream",
       "stream": "stdout",
       "text": [
        "write to test3.nc\n",
        "test3.nc:\n",
        "--------\n",
        "Dataset of 4 variables\n",
        "dimensions: u'time', u'lon', u'lat', u'source'\n",
        "0 / time (10): 1950 to 1959\n",
        "1 / lon (50): -180.0 to 180.0\n",
        "2 / lat (7): -90.0 to 90.0\n",
        "3 / source (1): greenland to greenland"
       ]
      },
      {
       "output_type": "stream",
       "stream": "stdout",
       "text": [
        "\n",
        "ts : time\n",
        "ts2 : time\n",
        "mymap : lon, lat\n",
        "test : source\n"
       ]
      }
     ],
     "prompt_number": 48
    },
    {
     "cell_type": "markdown",
     "metadata": {},
     "source": [
      "##Experimental Features"
     ]
    },
    {
     "cell_type": "markdown",
     "metadata": {},
     "source": [
      "###Group / Ungroup"
     ]
    },
    {
     "cell_type": "code",
     "collapsed": false,
     "input": [
      "import dimarray as da"
     ],
     "language": "python",
     "metadata": {},
     "outputs": [],
     "prompt_number": 49
    },
    {
     "cell_type": "code",
     "collapsed": false,
     "input": [
      ">>> np.random.seed(0)\n",
      ">>> v = da.array(randn(2,5,180), time=arange(1950,1955), lat=linspace(-90,90,180), items=array(['greenland','antarctica']))\n",
      "#axes = v.axes[('time','lat')]\n",
      "#ax.GroupedAxis(*[v.axes[k] for k in ('time','lat')])\n",
      "print v\n",
      "\n",
      "# group time, lat\n",
      ">>> w = v.group(('time','lat'))\n",
      "print \"\\nBasic grouping:\\n\\n\", w\n",
      "\n",
      "# group dimensions and insert as first dimension\n",
      ">>> w = v.group(('time','lat'), insert=0) \n",
      "print \"\\nGroup + insert as first:\\n\\n\", w\n",
      "\n",
      "# group and ungroup\n",
      ">>> v2 = v.group(('time','items')).ungroup()\n",
      "print \"\\ngroup/ungroup no reshaping:\", np.all(v2 == v)\n",
      "print \"\\ngroup/ungroup with reshaping:\", np.all(v2.reshape(v.dims) == v)\n",
      "\n",
      "# grouping in transformations\n",
      ">>> res = v.mean(axis=('time','lat'))\n",
      "print \"\\nmean with grouping time,lat grouping:\\n\\n\",res"
     ],
     "language": "python",
     "metadata": {},
     "outputs": [
      {
       "output_type": "stream",
       "stream": "stdout",
       "text": [
        "dimarray: 1800 non-null elements (0 null)\n",
        "dimensions: 'items', 'time', 'lat'\n",
        "0 / items (2): greenland to antarctica\n",
        "1 / time (5): 1950 to 1954\n",
        "2 / lat (180): -90.0 to 90.0\n",
        "array(...)\n",
        "\n",
        "Basic grouping:\n",
        "\n",
        "dimarray: 1800 non-null elements (0 null)\n",
        "dimensions: 'items', 'time,lat'\n",
        "0 / items (2): greenland to antarctica\n",
        "1 / time,lat (900): (1950, -90.0) to (1954, 90.0)\n",
        "array(...)\n",
        "\n",
        "Group + insert as first:\n",
        "\n",
        "dimarray: 1800 non-null elements (0 null)\n",
        "dimensions: 'time,lat', 'items'\n",
        "0 / time,lat (900): (1950, -90.0) to (1954, 90.0)\n",
        "1 / items (2): greenland to antarctica\n",
        "array(...)\n",
        "\n",
        "group/ungroup no reshaping: False\n",
        "\n",
        "group/ungroup with reshaping: True\n",
        "\n",
        "mean with grouping time,lat grouping:\n",
        "\n",
        "dimarray: 2 non-null elements (0 null)\n",
        "stamp: [\"mean(time(5)=1950:1954,lat(180)=-90.0:90.0)\"]\n",
        "dimensions: 'items'\n",
        "0 / items (2): greenland to antarctica\n",
        "array([-0.06849458,  0.04075616])\n"
       ]
      }
     ],
     "prompt_number": 50
    },
    {
     "cell_type": "markdown",
     "metadata": {},
     "source": [
      "###Weighted mean"
     ]
    },
    {
     "cell_type": "markdown",
     "metadata": {},
     "source": [
      "Each axis can have a `weights` attribute. If not None, it will be automatically used when computing mean, var, std"
     ]
    },
    {
     "cell_type": "code",
     "collapsed": false,
     "input": [
      ">>> np.random.seed(0)\n",
      ">>> data = da.array(randn(7), lat=linspace(-90,90,7))\n",
      "\n",
      ">>> umean = data.mean(axis='lat')\n",
      "print \"\\nunweighted zonal mean:\\n\\n\", umean\n",
      "\n",
      "# now add weights\n",
      ">>> data.axes['lat'].weights = lambda x: np.cos(np.radians(x))\n",
      "\n",
      ">>> wmean = data.mean(axis='lat')\n",
      "print \"\\nweighted zonal mean:\\n\", wmean\n",
      "\n",
      ">>> wmean = data[:].mean(axis='lat')\n",
      "print \"\\nweighted zonal mean after [:]:\\n\", wmean\n",
      "\n",
      ">>> test =  data.mean(axis='lat', weights=None) \n",
      "print \"\\nCHECK:\", test == umean\n",
      "\n",
      "# Weighted mean with grouping\n",
      "#>>> mymap[mymap.lon > 0])\n",
      "#lon=linspace(-180,180,50), \n",
      ">>> mymap = data.reshape(('lat','lon')).repeat(lon=linspace(-180,180,5))\n",
      ">>> mymap.values[:,0] = np.nan\n",
      "#>>> print mymap\n",
      "#lon=linspace(-180,180,50)\n",
      ">>> wmean = mymap.mean()\n",
      "print \"\\nNaN + flatten all:\\n\",umean\n",
      "#>>> wmean = mymap.mean(axis=('lon','lat'))\n",
      ">>> wmean = mymap.mean(axis='lon').mean(axis='lat')\n",
      "print \"\\nNaN + sequential:\\n\",wmean\n",
      ">>> cube = da.array(randn(5,50,7), lon=linspace(-180,180,50), lat=linspace(-90,90,7), time=arange(1950,1955))\n",
      ">>> cube.axes['lat'].weights = lambda x: np.cos(np.radians(x))"
     ],
     "language": "python",
     "metadata": {},
     "outputs": [
      {
       "output_type": "stream",
       "stream": "stdout",
       "text": [
        "\n",
        "unweighted zonal mean:\n",
        "\n",
        "1.03202989506\n",
        "\n",
        "weighted zonal mean:\n",
        "1.18361129352\n",
        "\n",
        "weighted zonal mean after [:]:\n",
        "1.18361129352\n",
        "\n",
        "CHECK: True\n",
        "\n",
        "NaN + flatten all:\n",
        "1.03202989506\n",
        "\n",
        "NaN + sequential:\n",
        "1.18361129352\n"
       ]
      }
     ],
     "prompt_number": 51
    },
    {
     "cell_type": "markdown",
     "metadata": {},
     "source": [
      "###Interpolation"
     ]
    },
    {
     "cell_type": "code",
     "collapsed": false,
     "input": [
      "time=np.linspace(1950,1955,8)\n",
      "v = da.array(cos(time), time=time)\n",
      "#w = v.reindex_axis(arange(1940,1960), axis='time') \n",
      "w = da.interp1d(v, np.linspace(1948,1957,10), axis='time')\n",
      "#%matplotlib inline\n",
      "clf()\n",
      "plot(v.time, v.values, label='original')\n",
      "plot(w.time, w.values, label='interp')\n",
      "legend()\n",
      "show()\n",
      "draw()"
     ],
     "language": "python",
     "metadata": {},
     "outputs": [],
     "prompt_number": 52
    },
    {
     "cell_type": "markdown",
     "metadata": {},
     "source": [
      "###Export to other formats"
     ]
    },
    {
     "cell_type": "code",
     "collapsed": false,
     "input": [
      "#reload(da) # for dict\n",
      "v = da.array(randn(2,5,7), time=arange(1950,1955), lat=linspace(-90,90,7), items=array(['greenland','antarctica']))\n",
      "#reload(co) # for dict\n",
      "\n",
      "print \"\\nExport to pandas\\n\"\n",
      "print v.to_pandas()\n",
      "print \"\\nExport to larry\\n\"\n",
      "print v.to_larry()\n",
      "print \"\\nExport to Dataset\\n\"\n",
      "print v.to_dict()\n",
      "#v.to_MaskedArray() # to masked array"
     ],
     "language": "python",
     "metadata": {},
     "outputs": [
      {
       "output_type": "stream",
       "stream": "stdout",
       "text": [
        "\n",
        "Export to pandas\n",
        "\n",
        "<class 'pandas.core.panel.Panel'>\n",
        "Dimensions: 2 (items) x 5 (major_axis) x 7 (minor_axis)\n",
        "Items axis: greenland to antarctica\n",
        "Major_axis axis: 1950 to 1954\n",
        "Minor_axis axis: -90.0 to 90.0\n",
        "\n",
        "Export to larry\n",
        "\n",
        "warning: dimension names have not been passed to larry\n",
        "label_0\n",
        "    greenland\n",
        "    antarctica\n",
        "label_1\n",
        "    1950\n",
        "    1951\n",
        "    1952\n",
        "    1953\n",
        "    1954\n",
        "label_2\n",
        "    -90.0\n",
        "    -60.0\n",
        "    -30.0\n",
        "    0.0\n",
        "    30.0\n",
        "    60.0\n",
        "    90.0\n",
        "x\n",
        "array([[[ 0.02429091,  1.27981202, -0.88596648,  0.40088568, -0.00965724,\n",
        "         -1.79716462, -0.80225317],\n",
        "        [ 0.19321355,  1.29734209,  1.00133102,  0.5972125 , -0.81527566,\n",
        "          1.80121399,  0.21524047],\n",
        "        [-1.00636552, -0.18290498,  0.89624843,  0.0076175 ,  0.88686469,\n",
        "          1.10369396,  0.40053068],\n",
        "        [-0.85770262,  0.13545466,  0.04516586,  1.85934633, -1.62632194,\n",
        "         -0.13482245, -0.58409355],\n",
        "        [ 0.33510562, -2.43756436,  1.11492456,  0.01374849, -1.84470116,\n",
        "         -0.36111313,  0.60896234]],\n",
        "\n",
        "       [[-1.59144788,  0.00322222, -1.05747365, -0.55598503,  0.02673838,\n",
        "          0.18345025, -0.4707425 ],\n",
        "        [ 0.27279639,  0.81797761, -0.27891428,  1.43156776,  1.46221417,\n",
        "         -0.42870207, -0.63784056],\n",
        "        [-1.66417299, -0.12656933, -0.36343778,  0.77905122, -1.50966161,\n",
        "         -0.27739139,  0.96874439],\n",
        "        [-0.7303571 , -0.76236154, -1.44694033,  2.62057385, -0.74747318,\n",
        "         -1.30034683, -0.8038504 ],\n",
        "        [-0.77429508, -0.26938978,  0.82537223, -0.29832317, -0.92282331,\n",
        "         -1.4513385 ,  0.02185736]]])\n",
        "\n",
        "Export to Dataset\n",
        "\n",
        "Dataset of 2 variables\n",
        "dimensions: 'time', 'lat'\n",
        "0 / time (5): 1950 to 1954\n",
        "1 / lat (7): -90.0 to 90.0\n",
        "greenland: time, lat\n",
        "antarctica: time, lat\n"
       ]
      }
     ],
     "prompt_number": 53
    },
    {
     "cell_type": "code",
     "collapsed": false,
     "input": [],
     "language": "python",
     "metadata": {},
     "outputs": []
    }
   ],
   "metadata": {}
  }
 ]
}