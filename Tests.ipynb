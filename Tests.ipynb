{
 "metadata": {
  "name": ""
 },
 "nbformat": 3,
 "nbformat_minor": 0,
 "worksheets": [
  {
   "cells": [
    {
     "cell_type": "heading",
     "level": 1,
     "metadata": {},
     "source": [
      "Test suite for Dimarray"
     ]
    },
    {
     "cell_type": "markdown",
     "metadata": {},
     "source": [
      "Download dimarray at:\n",
      "https://github.com/perrette/dimarray/\n",
      "\n",
      "Including the latest version of this notebook:\n",
      "https://github.com/perrette/dimarray/blob/master/Tests.ipynb"
     ]
    },
    {
     "cell_type": "code",
     "collapsed": false,
     "input": [
      "%pylab\n",
      "%matplotlib inline"
     ],
     "language": "python",
     "metadata": {},
     "outputs": [
      {
       "output_type": "stream",
       "stream": "stdout",
       "text": [
        "Using matplotlib backend: GTKAgg\n",
        "Populating the interactive namespace from numpy and matplotlib\n"
       ]
      }
     ],
     "prompt_number": 1
    },
    {
     "cell_type": "code",
     "collapsed": false,
     "input": [
      "import dimarray as da\n",
      "from dimarray import Dimarray"
     ],
     "language": "python",
     "metadata": {},
     "outputs": [],
     "prompt_number": 2
    },
    {
     "cell_type": "markdown",
     "metadata": {},
     "source": [
      "##Define a Dimarray"
     ]
    },
    {
     "cell_type": "code",
     "collapsed": false,
     "input": [
      "#from dimarray import datasets\n",
      "values = [[1,2,3],[4,5,6]]\n",
      "Dimarray(values)\n",
      "Dimarray(values, 'items','time')\n",
      "Dimarray(values, list(\"ab\"), np.arange(1950,1953))\n",
      "a= Dimarray(values, ('items',list(\"ab\")), ('time',np.arange(1950,1953)))\n",
      "b= Dimarray(values, items=list(\"ab\"), time=np.arange(1950,1953))\n",
      "c= Dimarray.from_kw(values, items=list(\"ab\"), time=np.arange(1950,1953))\n",
      "d= Dimarray.from_array(values, [list(\"ab\"), np.arange(1950,1953)], dims=['items','time'])\n",
      "e= da.array(values, items=list(\"ab\"), time=np.arange(1950,1953))\n",
      "assert np.all(a == b == c == d == e)\n",
      "a"
     ],
     "language": "python",
     "metadata": {},
     "outputs": [
      {
       "ename": "AttributeError",
       "evalue": "type object 'Dimarray' has no attribute 'from_list'",
       "output_type": "pyerr",
       "traceback": [
        "\u001b[1;31m---------------------------------------------------------------------------\u001b[0m\n\u001b[1;31mAttributeError\u001b[0m                            Traceback (most recent call last)",
        "\u001b[1;32m<ipython-input-3-a5238e8d87d9>\u001b[0m in \u001b[0;36m<module>\u001b[1;34m()\u001b[0m\n\u001b[0;32m      7\u001b[0m \u001b[0mb\u001b[0m\u001b[1;33m=\u001b[0m \u001b[0mDimarray\u001b[0m\u001b[1;33m(\u001b[0m\u001b[0mvalues\u001b[0m\u001b[1;33m,\u001b[0m \u001b[0mitems\u001b[0m\u001b[1;33m=\u001b[0m\u001b[0mlist\u001b[0m\u001b[1;33m(\u001b[0m\u001b[1;34m\"ab\"\u001b[0m\u001b[1;33m)\u001b[0m\u001b[1;33m,\u001b[0m \u001b[0mtime\u001b[0m\u001b[1;33m=\u001b[0m\u001b[0mnp\u001b[0m\u001b[1;33m.\u001b[0m\u001b[0marange\u001b[0m\u001b[1;33m(\u001b[0m\u001b[1;36m1950\u001b[0m\u001b[1;33m,\u001b[0m\u001b[1;36m1953\u001b[0m\u001b[1;33m)\u001b[0m\u001b[1;33m)\u001b[0m\u001b[1;33m\u001b[0m\u001b[0m\n\u001b[0;32m      8\u001b[0m \u001b[0mc\u001b[0m\u001b[1;33m=\u001b[0m \u001b[0mDimarray\u001b[0m\u001b[1;33m.\u001b[0m\u001b[0mfrom_kw\u001b[0m\u001b[1;33m(\u001b[0m\u001b[0mvalues\u001b[0m\u001b[1;33m,\u001b[0m \u001b[0mitems\u001b[0m\u001b[1;33m=\u001b[0m\u001b[0mlist\u001b[0m\u001b[1;33m(\u001b[0m\u001b[1;34m\"ab\"\u001b[0m\u001b[1;33m)\u001b[0m\u001b[1;33m,\u001b[0m \u001b[0mtime\u001b[0m\u001b[1;33m=\u001b[0m\u001b[0mnp\u001b[0m\u001b[1;33m.\u001b[0m\u001b[0marange\u001b[0m\u001b[1;33m(\u001b[0m\u001b[1;36m1950\u001b[0m\u001b[1;33m,\u001b[0m\u001b[1;36m1953\u001b[0m\u001b[1;33m)\u001b[0m\u001b[1;33m)\u001b[0m\u001b[1;33m\u001b[0m\u001b[0m\n\u001b[1;32m----> 9\u001b[1;33m \u001b[0md\u001b[0m\u001b[1;33m=\u001b[0m \u001b[0mDimarray\u001b[0m\u001b[1;33m.\u001b[0m\u001b[0mfrom_list\u001b[0m\u001b[1;33m(\u001b[0m\u001b[0mvalues\u001b[0m\u001b[1;33m,\u001b[0m \u001b[1;33m[\u001b[0m\u001b[0mlist\u001b[0m\u001b[1;33m(\u001b[0m\u001b[1;34m\"ab\"\u001b[0m\u001b[1;33m)\u001b[0m\u001b[1;33m,\u001b[0m \u001b[0mnp\u001b[0m\u001b[1;33m.\u001b[0m\u001b[0marange\u001b[0m\u001b[1;33m(\u001b[0m\u001b[1;36m1950\u001b[0m\u001b[1;33m,\u001b[0m\u001b[1;36m1953\u001b[0m\u001b[1;33m)\u001b[0m\u001b[1;33m]\u001b[0m\u001b[1;33m,\u001b[0m \u001b[0mdims\u001b[0m\u001b[1;33m=\u001b[0m\u001b[1;33m[\u001b[0m\u001b[1;34m'items'\u001b[0m\u001b[1;33m,\u001b[0m\u001b[1;34m'time'\u001b[0m\u001b[1;33m]\u001b[0m\u001b[1;33m)\u001b[0m\u001b[1;33m\u001b[0m\u001b[0m\n\u001b[0m\u001b[0;32m     10\u001b[0m \u001b[0me\u001b[0m\u001b[1;33m=\u001b[0m \u001b[0mda\u001b[0m\u001b[1;33m.\u001b[0m\u001b[0marray\u001b[0m\u001b[1;33m(\u001b[0m\u001b[0mvalues\u001b[0m\u001b[1;33m,\u001b[0m \u001b[0mitems\u001b[0m\u001b[1;33m=\u001b[0m\u001b[0mlist\u001b[0m\u001b[1;33m(\u001b[0m\u001b[1;34m\"ab\"\u001b[0m\u001b[1;33m)\u001b[0m\u001b[1;33m,\u001b[0m \u001b[0mtime\u001b[0m\u001b[1;33m=\u001b[0m\u001b[0mnp\u001b[0m\u001b[1;33m.\u001b[0m\u001b[0marange\u001b[0m\u001b[1;33m(\u001b[0m\u001b[1;36m1950\u001b[0m\u001b[1;33m,\u001b[0m\u001b[1;36m1953\u001b[0m\u001b[1;33m)\u001b[0m\u001b[1;33m)\u001b[0m\u001b[1;33m\u001b[0m\u001b[0m\n\u001b[0;32m     11\u001b[0m \u001b[1;32massert\u001b[0m \u001b[0mnp\u001b[0m\u001b[1;33m.\u001b[0m\u001b[0mall\u001b[0m\u001b[1;33m(\u001b[0m\u001b[0ma\u001b[0m \u001b[1;33m==\u001b[0m \u001b[0mb\u001b[0m \u001b[1;33m==\u001b[0m \u001b[0mc\u001b[0m \u001b[1;33m==\u001b[0m \u001b[0md\u001b[0m \u001b[1;33m==\u001b[0m \u001b[0me\u001b[0m\u001b[1;33m)\u001b[0m\u001b[1;33m\u001b[0m\u001b[0m\n",
        "\u001b[1;31mAttributeError\u001b[0m: type object 'Dimarray' has no attribute 'from_list'"
       ]
      }
     ],
     "prompt_number": 3
    },
    {
     "cell_type": "markdown",
     "metadata": {},
     "source": [
      "##Indexing"
     ]
    },
    {
     "cell_type": "code",
     "collapsed": false,
     "input": [
      "random.seed(0)\n",
      "v = da.array(randn(2,5,7), time=arange(1950,1955), lat=linspace(-90,90,7), items=array(['greenland','antarctica']))"
     ],
     "language": "python",
     "metadata": {},
     "outputs": []
    },
    {
     "cell_type": "markdown",
     "metadata": {},
     "source": [
      "### 'index' method: axis value"
     ]
    },
    {
     "cell_type": "code",
     "collapsed": false,
     "input": [
      "### Single value\n",
      "print v\n",
      "a = v[:,:,60]\n",
      "b = v.xs(60, axis=2)\n",
      "c = v.xs(60, axis='lat')\n",
      "d = v.xs(lat=60)\n",
      "assert(a==b==c==d)\n",
      "a"
     ],
     "language": "python",
     "metadata": {},
     "outputs": []
    },
    {
     "cell_type": "code",
     "collapsed": false,
     "input": [
      "### List\n",
      "a = v[:,:,[60,90]]\n",
      "b = v.xs([60,90], axis='lat')\n",
      "assert np.all(a==b)"
     ],
     "language": "python",
     "metadata": {},
     "outputs": []
    },
    {
     "cell_type": "code",
     "collapsed": false,
     "input": [
      "### Slice\n",
      "c = v[:,:,30:90] # slice include last element\n",
      "d = v.xs((30,90), axis='lat') # slice via tuple\n",
      "assert all(c==d)\n",
      "assert c.shape[2] == 3  # include last element"
     ],
     "language": "python",
     "metadata": {},
     "outputs": []
    },
    {
     "cell_type": "markdown",
     "metadata": {},
     "source": [
      "### 'numpy' method: integer position"
     ]
    },
    {
     "cell_type": "code",
     "collapsed": false,
     "input": [
      "### Single values\n",
      "v.ix[:,:,5]  # WARNING: 'ix' stands for integer index, in contrast to pandas\n",
      "v.xs(5, axis=2, method='numpy')\n",
      "v.xs(5, axis='lat', method='numpy')\n",
      "v.xs(lat=5, method='numpy')\n",
      "assert np.all(v.ix[:,:,5]==v[:,:,60])"
     ],
     "language": "python",
     "metadata": {},
     "outputs": []
    },
    {
     "cell_type": "code",
     "collapsed": false,
     "input": [
      "### list\n",
      "a = v.ix[:,:,[5,6]]\n",
      "b = v.xs([5,6], axis='lat', method=\"numpy\")\n",
      "assert np.all(a==b)"
     ],
     "language": "python",
     "metadata": {},
     "outputs": []
    },
    {
     "cell_type": "code",
     "collapsed": false,
     "input": [
      "### slice: BUG TO FIX : does not include last element if not slice\n",
      "a = v.ix[:,:,5:7]  # does NOT include last element\n",
      "b = v.xs(slice(5,None), axis='lat', method=\"numpy\") # slice via tuple\n",
      "assert np.all(a==b)"
     ],
     "language": "python",
     "metadata": {},
     "outputs": []
    },
    {
     "cell_type": "markdown",
     "metadata": {},
     "source": [
      "### 'nearest' and \"interp\" methods"
     ]
    },
    {
     "cell_type": "code",
     "collapsed": false,
     "input": [
      "x = v.xs(lat=50, method='nearest')\n",
      "assert np.all(x == v.xs(lat=60))"
     ],
     "language": "python",
     "metadata": {},
     "outputs": []
    },
    {
     "cell_type": "code",
     "collapsed": false,
     "input": [
      "x = v.xs(lat=50, method='interp')\n",
      "assert np.all(x != v.xs(lat=60))\n",
      "x"
     ],
     "language": "python",
     "metadata": {},
     "outputs": []
    },
    {
     "cell_type": "markdown",
     "metadata": {},
     "source": [
      "## Reindex Axis"
     ]
    },
    {
     "cell_type": "code",
     "collapsed": false,
     "input": [
      "import dimarray.core._indexing as re; reload(re)\n",
      "import dimarray as da\n",
      "a = da.Dimarray([1,2,3],('x0',[1,2,3]))\n",
      "b = da.Dimarray([3,4],('x0',[1,3]))\n",
      "b.reindex_axis([1,2,3])"
     ],
     "language": "python",
     "metadata": {},
     "outputs": []
    },
    {
     "cell_type": "code",
     "collapsed": false,
     "input": [
      "# Can also reindex in \"interp\" mode\n",
      "b.reindex_axis([1,2,3], method='interp')"
     ],
     "language": "python",
     "metadata": {},
     "outputs": []
    },
    {
     "cell_type": "code",
     "collapsed": false,
     "input": [
      "# Or like another array\n",
      "c = da.Dimarray([[1,2,3], [1,2,3]],('x1',[\"a\",\"b\"]),('x0',[0.5, 1.5, 3]))\n",
      "b.reindex_like(c, method='interp')"
     ],
     "language": "python",
     "metadata": {},
     "outputs": []
    },
    {
     "cell_type": "markdown",
     "metadata": {},
     "source": [
      "##Modify dimensions: basic functionality"
     ]
    },
    {
     "cell_type": "markdown",
     "metadata": {},
     "source": [
      "Basic numpy methods to modify array dimensions are implemented in dimarray, with some additional functionality allowed by named dimensions."
     ]
    },
    {
     "cell_type": "markdown",
     "metadata": {},
     "source": [
      "###Transpose"
     ]
    },
    {
     "cell_type": "markdown",
     "metadata": {},
     "source": [
      "Transpose, just like its numpy equivalent, permutes dimensions, but in dimarray it can be provided with axis names instead of just axis position."
     ]
    },
    {
     "cell_type": "code",
     "collapsed": false,
     "input": [
      "a = Dimarray([[1,2,3],[3,4,5]],'x0','x1')\n",
      "a.transpose()\n",
      "a.T"
     ],
     "language": "python",
     "metadata": {},
     "outputs": []
    },
    {
     "cell_type": "code",
     "collapsed": false,
     "input": [
      "a = Dimarray([[[1,2,3],[3,4,5]]],'x2','x0','x1')\n",
      "a.transpose(('x1','x2','x0'))"
     ],
     "language": "python",
     "metadata": {},
     "outputs": []
    },
    {
     "cell_type": "markdown",
     "metadata": {},
     "source": [
      "###Insert new axis"
     ]
    },
    {
     "cell_type": "markdown",
     "metadata": {},
     "source": [
      "Numpy provides a np.newaxis constant (equal to None), to augment the array dimensions with new singleton axes. In dimarray, newaxis has been implemented as an array method, which requires to indicate axis name and optionally axis position (`pos=`). Under the `repeat` section, you'll see it is also possible to input the values of the new axis in order to repeast the array along it."
     ]
    },
    {
     "cell_type": "code",
     "collapsed": false,
     "input": [
      "a = Dimarray([1,2])\n",
      "a.newaxis('new', pos=1)  # singleton"
     ],
     "language": "python",
     "metadata": {},
     "outputs": []
    },
    {
     "cell_type": "markdown",
     "metadata": {},
     "source": [
      "###Reshape"
     ]
    },
    {
     "cell_type": "code",
     "collapsed": false,
     "input": [
      "a = da.Dimarray.from_kw(arange(2), lon=[30., 40.])\n",
      "b = a.reshape(('time','lon'))\n",
      "b"
     ],
     "language": "python",
     "metadata": {},
     "outputs": []
    },
    {
     "cell_type": "markdown",
     "metadata": {},
     "source": [
      "### Repeat"
     ]
    },
    {
     "cell_type": "code",
     "collapsed": false,
     "input": [
      "### Single axis:\n",
      ">>> b.repeat(np.arange(1950,1955), axis=\"time\")  # doctest: +ELLIPSIS"
     ],
     "language": "python",
     "metadata": {},
     "outputs": []
    },
    {
     "cell_type": "code",
     "collapsed": false,
     "input": [
      "### Multi-axis\n",
      "# ...create some dummy data:\n",
      "lon = np.linspace(10, 30, 2)\n",
      "lat = np.linspace(10, 50, 3)\n",
      "time = np.arange(1950,1955)\n",
      "ts = da.Dimarray.from_kw(np.arange(5), time=time)\n",
      "cube = da.Dimarray.from_kw(np.zeros((3,2,5)), lon=lon, lat=lat, time=time)  # lat x lon x time\n",
      "cube.axes  # doctest: +ELLIPSIS"
     ],
     "language": "python",
     "metadata": {},
     "outputs": []
    },
    {
     "cell_type": "code",
     "collapsed": false,
     "input": [
      "### In combination with repeat\n",
      "a.newaxis('new', values=['a','b'],pos=1) # repeat 2 times along the first axis"
     ],
     "language": "python",
     "metadata": {},
     "outputs": []
    },
    {
     "cell_type": "markdown",
     "metadata": {},
     "source": [
      "##Align arrays"
     ]
    },
    {
     "cell_type": "markdown",
     "metadata": {},
     "source": [
      "Sometimes one simply wants to "
     ]
    },
    {
     "cell_type": "markdown",
     "metadata": {},
     "source": [
      "###Broadcast"
     ]
    },
    {
     "cell_type": "code",
     "collapsed": false,
     "input": [
      "# broadcast along new axes (reshape + repeat array)\n",
      ">>> ts3D = ts.broadcast(cube) #  lat x lon x time\n",
      "ts3D"
     ],
     "language": "python",
     "metadata": {},
     "outputs": []
    },
    {
     "cell_type": "markdown",
     "metadata": {},
     "source": [
      "###Align dimensions"
     ]
    },
    {
     "cell_type": "code",
     "collapsed": false,
     "input": [
      "# Keep new axes as singleton dimensions\n",
      "x = da.Dimarray(np.arange(2), 'x0')\n",
      "y = da.Dimarray(np.arange(3), 'x1')\n",
      "da.align_dims(x, y)"
     ],
     "language": "python",
     "metadata": {},
     "outputs": []
    },
    {
     "cell_type": "code",
     "collapsed": false,
     "input": [
      "# Broadcast arrays: all array have same size\n",
      "da.broadcast_arrays(x, y)"
     ],
     "language": "python",
     "metadata": {},
     "outputs": []
    },
    {
     "cell_type": "markdown",
     "metadata": {},
     "source": [
      "### Align axes"
     ]
    },
    {
     "cell_type": "code",
     "collapsed": false,
     "input": [
      "a = da.Dimarray([1,2,3],('x0',[1,2,3]))\n",
      "b = da.Dimarray([3,4],('x0',[2,4]))\n",
      "da.align_axes(a, b)"
     ],
     "language": "python",
     "metadata": {},
     "outputs": []
    },
    {
     "cell_type": "markdown",
     "metadata": {},
     "source": [
      "##Operations"
     ]
    },
    {
     "cell_type": "markdown",
     "metadata": {},
     "source": [
      "###Basic Operations        "
     ]
    },
    {
     "cell_type": "code",
     "collapsed": false,
     "input": [
      "a = da.Dimarray([[1,2,3],[3,4,5]],'x0','x1')\n",
      "assert all(a == a)\n",
      "assert all(a+2 == a + np.ones(a.shape)*2)\n",
      "assert all(a+a == a*2)\n",
      "assert all(a*a == a**2)\n",
      "assert all((a - a.values) == a - a)\n",
      "a == a"
     ],
     "language": "python",
     "metadata": {},
     "outputs": []
    },
    {
     "cell_type": "markdown",
     "metadata": {},
     "source": [
      "### Operation with data alignment "
     ]
    },
    {
     "cell_type": "code",
     "collapsed": false,
     "input": [
      "# broadcasting\n",
      "x = da.Dimarray(np.arange(2), 'x0')\n",
      "y = da.Dimarray(np.arange(3), 'x1')\n",
      "x+y"
     ],
     "language": "python",
     "metadata": {},
     "outputs": []
    },
    {
     "cell_type": "code",
     "collapsed": false,
     "input": [
      "# axis alignment\n",
      "z = da.Dimarray([0,1,2],('x0',[0,1,2]))\n",
      "x+z"
     ],
     "language": "python",
     "metadata": {},
     "outputs": []
    },
    {
     "cell_type": "code",
     "collapsed": false,
     "input": [
      "# or both\n",
      "(x+y)+(x+z)"
     ],
     "language": "python",
     "metadata": {},
     "outputs": []
    },
    {
     "cell_type": "markdown",
     "metadata": {},
     "source": [
      "##Numpy Transformations"
     ]
    },
    {
     "cell_type": "code",
     "collapsed": false,
     "input": [
      "np.random.seed(0)\n",
      "v = da.array(randn(5,7), time=arange(1950,1955), lat=linspace(-90,90,7))"
     ],
     "language": "python",
     "metadata": {},
     "outputs": []
    },
    {
     "cell_type": "markdown",
     "metadata": {},
     "source": [
      "Basic transforms: reduce axis"
     ]
    },
    {
     "cell_type": "code",
     "collapsed": false,
     "input": [
      "v.sum() # sum over all axes\n",
      "v.sum(axis=0) # sum over first axis\n",
      "v.sum(axis='time') # named axis\n",
      "v.prod(axis='time') # named axis\n",
      "v.mean(axis='time') # named axis\n",
      "v.var(axis='time') # named axis\n",
      "v.std(axis='time') # named axis\n",
      "v.median(axis='time') # named axis\n",
      "v.min(axis='time') # named axis\n",
      "v.max(axis='time') # named axis\n",
      "v.ptp(axis='time') # named axis\n",
      "v.all(axis='time') # named axis\n",
      "v.any(axis='time') # named axis"
     ],
     "language": "python",
     "metadata": {},
     "outputs": []
    },
    {
     "cell_type": "markdown",
     "metadata": {},
     "source": [
      "locmin/locmax as dimarray equivalent of argmin/argmax: return axis value "
     ]
    },
    {
     "cell_type": "code",
     "collapsed": false,
     "input": [
      "v.locmin(axis='time') \n",
      "v.locmin() # over all axes\n",
      "v.locmax(axis='time') \n",
      "v.locmax() # over all axes\n",
      "v.locmax(axis='time')\n",
      "assert v[v.locmax()] == v.max(), \"problem with locmax/max\"\n",
      "assert v[v.locmin()] == v.min(), \"problem with locmin/min\"\n",
      "res = np.array([v.ix[i][ix] for i, ix in enumerate(v.locmax(axis=1).values)])\n",
      "assert np.all(res == v.max(axis=1)), \"problem with locmax/max\"\n",
      "v.locmax()"
     ],
     "language": "python",
     "metadata": {},
     "outputs": []
    },
    {
     "cell_type": "markdown",
     "metadata": {},
     "source": [
      "cumulative transformation"
     ]
    },
    {
     "cell_type": "code",
     "collapsed": false,
     "input": [
      "v.cumsum() # last axis\n",
      "v.cumsum(axis=None) # return numpy array\n",
      "assert np.all(v.cumsum(axis=-1) == v.cumsum()), \"default last axis\""
     ],
     "language": "python",
     "metadata": {},
     "outputs": [
      {
       "ename": "NameError",
       "evalue": "name 'v' is not defined",
       "output_type": "pyerr",
       "traceback": [
        "\u001b[1;31m---------------------------------------------------------------------------\u001b[0m\n\u001b[1;31mNameError\u001b[0m                                 Traceback (most recent call last)",
        "\u001b[1;32m<ipython-input-4-d8d225b7fa61>\u001b[0m in \u001b[0;36m<module>\u001b[1;34m()\u001b[0m\n\u001b[1;32m----> 1\u001b[1;33m \u001b[0mv\u001b[0m\u001b[1;33m.\u001b[0m\u001b[0mcumsum\u001b[0m\u001b[1;33m(\u001b[0m\u001b[1;33m)\u001b[0m \u001b[1;31m# last axis\u001b[0m\u001b[1;33m\u001b[0m\u001b[0m\n\u001b[0m\u001b[0;32m      2\u001b[0m \u001b[0mv\u001b[0m\u001b[1;33m.\u001b[0m\u001b[0mcumsum\u001b[0m\u001b[1;33m(\u001b[0m\u001b[0maxis\u001b[0m\u001b[1;33m=\u001b[0m\u001b[0mNone\u001b[0m\u001b[1;33m)\u001b[0m \u001b[1;31m# return numpy array\u001b[0m\u001b[1;33m\u001b[0m\u001b[0m\n\u001b[0;32m      3\u001b[0m \u001b[1;32massert\u001b[0m \u001b[0mnp\u001b[0m\u001b[1;33m.\u001b[0m\u001b[0mall\u001b[0m\u001b[1;33m(\u001b[0m\u001b[0mv\u001b[0m\u001b[1;33m.\u001b[0m\u001b[0mcumsum\u001b[0m\u001b[1;33m(\u001b[0m\u001b[0maxis\u001b[0m\u001b[1;33m=\u001b[0m\u001b[1;33m-\u001b[0m\u001b[1;36m1\u001b[0m\u001b[1;33m)\u001b[0m \u001b[1;33m==\u001b[0m \u001b[0mv\u001b[0m\u001b[1;33m.\u001b[0m\u001b[0mcumsum\u001b[0m\u001b[1;33m(\u001b[0m\u001b[1;33m)\u001b[0m\u001b[1;33m)\u001b[0m\u001b[1;33m,\u001b[0m \u001b[1;34m\"default last axis\"\u001b[0m\u001b[1;33m\u001b[0m\u001b[0m\n",
        "\u001b[1;31mNameError\u001b[0m: name 'v' is not defined"
       ]
      }
     ],
     "prompt_number": 4
    },
    {
     "cell_type": "markdown",
     "metadata": {},
     "source": [
      "new diff method"
     ]
    },
    {
     "cell_type": "code",
     "collapsed": false,
     "input": [
      "v.diff(axis='time', keepaxis=False)\n",
      "v.diff(axis=0, keepaxis=False, scheme='centered')\n",
      "v.diff(axis=0, keepaxis=False, scheme='backward')\n",
      "v.diff(axis=0, keepaxis=False, scheme='forward')\n",
      "v.diff(axis=0, keepaxis=True, scheme='backward')\n",
      "v.diff(axis=0, keepaxis=True, scheme='forward')\n",
      "v.diff(n=2,axis=('time'), scheme='centered')"
     ],
     "language": "python",
     "metadata": {},
     "outputs": [
      {
       "ename": "NameError",
       "evalue": "name 'v' is not defined",
       "output_type": "pyerr",
       "traceback": [
        "\u001b[1;31m---------------------------------------------------------------------------\u001b[0m\n\u001b[1;31mNameError\u001b[0m                                 Traceback (most recent call last)",
        "\u001b[1;32m<ipython-input-5-aec5d98fdbb3>\u001b[0m in \u001b[0;36m<module>\u001b[1;34m()\u001b[0m\n\u001b[1;32m----> 1\u001b[1;33m \u001b[0mv\u001b[0m\u001b[1;33m.\u001b[0m\u001b[0mdiff\u001b[0m\u001b[1;33m(\u001b[0m\u001b[0maxis\u001b[0m\u001b[1;33m=\u001b[0m\u001b[1;34m'time'\u001b[0m\u001b[1;33m,\u001b[0m \u001b[0mkeepaxis\u001b[0m\u001b[1;33m=\u001b[0m\u001b[0mFalse\u001b[0m\u001b[1;33m)\u001b[0m\u001b[1;33m\u001b[0m\u001b[0m\n\u001b[0m\u001b[0;32m      2\u001b[0m \u001b[0mv\u001b[0m\u001b[1;33m.\u001b[0m\u001b[0mdiff\u001b[0m\u001b[1;33m(\u001b[0m\u001b[0maxis\u001b[0m\u001b[1;33m=\u001b[0m\u001b[1;36m0\u001b[0m\u001b[1;33m,\u001b[0m \u001b[0mkeepaxis\u001b[0m\u001b[1;33m=\u001b[0m\u001b[0mFalse\u001b[0m\u001b[1;33m,\u001b[0m \u001b[0mscheme\u001b[0m\u001b[1;33m=\u001b[0m\u001b[1;34m'centered'\u001b[0m\u001b[1;33m)\u001b[0m\u001b[1;33m\u001b[0m\u001b[0m\n\u001b[0;32m      3\u001b[0m \u001b[0mv\u001b[0m\u001b[1;33m.\u001b[0m\u001b[0mdiff\u001b[0m\u001b[1;33m(\u001b[0m\u001b[0maxis\u001b[0m\u001b[1;33m=\u001b[0m\u001b[1;36m0\u001b[0m\u001b[1;33m,\u001b[0m \u001b[0mkeepaxis\u001b[0m\u001b[1;33m=\u001b[0m\u001b[0mFalse\u001b[0m\u001b[1;33m,\u001b[0m \u001b[0mscheme\u001b[0m\u001b[1;33m=\u001b[0m\u001b[1;34m'backward'\u001b[0m\u001b[1;33m)\u001b[0m\u001b[1;33m\u001b[0m\u001b[0m\n\u001b[0;32m      4\u001b[0m \u001b[0mv\u001b[0m\u001b[1;33m.\u001b[0m\u001b[0mdiff\u001b[0m\u001b[1;33m(\u001b[0m\u001b[0maxis\u001b[0m\u001b[1;33m=\u001b[0m\u001b[1;36m0\u001b[0m\u001b[1;33m,\u001b[0m \u001b[0mkeepaxis\u001b[0m\u001b[1;33m=\u001b[0m\u001b[0mFalse\u001b[0m\u001b[1;33m,\u001b[0m \u001b[0mscheme\u001b[0m\u001b[1;33m=\u001b[0m\u001b[1;34m'forward'\u001b[0m\u001b[1;33m)\u001b[0m\u001b[1;33m\u001b[0m\u001b[0m\n\u001b[0;32m      5\u001b[0m \u001b[0mv\u001b[0m\u001b[1;33m.\u001b[0m\u001b[0mdiff\u001b[0m\u001b[1;33m(\u001b[0m\u001b[0maxis\u001b[0m\u001b[1;33m=\u001b[0m\u001b[1;36m0\u001b[0m\u001b[1;33m,\u001b[0m \u001b[0mkeepaxis\u001b[0m\u001b[1;33m=\u001b[0m\u001b[0mTrue\u001b[0m\u001b[1;33m,\u001b[0m \u001b[0mscheme\u001b[0m\u001b[1;33m=\u001b[0m\u001b[1;34m'backward'\u001b[0m\u001b[1;33m)\u001b[0m\u001b[1;33m\u001b[0m\u001b[0m\n",
        "\u001b[1;31mNameError\u001b[0m: name 'v' is not defined"
       ]
      }
     ],
     "prompt_number": 5
    },
    {
     "cell_type": "code",
     "collapsed": false,
     "input": [
      "# CHECK AGAINST PANDAS\n",
      "assert np.all(v.std(ddof=1, axis=0).values==v.to_pandas().std().values), \"std vs pandas\"\n",
      "assert np.sum((v.var(ddof=1, axis=0).values-v.to_pandas().var().values)**2)<1e-10, \"var vs pandas\"\n",
      "assert np.all(v.cumsum(axis=0).values == v.to_pandas().cumsum().values), \"error against pandas\"\n",
      "assert np.all(v.cumprod(axis=0).values == v.to_pandas().cumprod().values), \"error against pandas\"\n",
      "assert np.nansum((v.diff(axis=0, keepaxis=True).cumsum(axis=0).values - v.to_pandas().diff().cumsum().values)**2) \\\n",
      "  < 1e-10, \"error against pandas\""
     ],
     "language": "python",
     "metadata": {},
     "outputs": [
      {
       "ename": "NameError",
       "evalue": "name 'v' is not defined",
       "output_type": "pyerr",
       "traceback": [
        "\u001b[1;31m---------------------------------------------------------------------------\u001b[0m\n\u001b[1;31mNameError\u001b[0m                                 Traceback (most recent call last)",
        "\u001b[1;32m<ipython-input-6-2c683d50f2e6>\u001b[0m in \u001b[0;36m<module>\u001b[1;34m()\u001b[0m\n\u001b[0;32m      1\u001b[0m \u001b[1;31m# CHECK AGAINST PANDAS\u001b[0m\u001b[1;33m\u001b[0m\u001b[1;33m\u001b[0m\u001b[0m\n\u001b[1;32m----> 2\u001b[1;33m \u001b[1;32massert\u001b[0m \u001b[0mnp\u001b[0m\u001b[1;33m.\u001b[0m\u001b[0mall\u001b[0m\u001b[1;33m(\u001b[0m\u001b[0mv\u001b[0m\u001b[1;33m.\u001b[0m\u001b[0mstd\u001b[0m\u001b[1;33m(\u001b[0m\u001b[0mddof\u001b[0m\u001b[1;33m=\u001b[0m\u001b[1;36m1\u001b[0m\u001b[1;33m,\u001b[0m \u001b[0maxis\u001b[0m\u001b[1;33m=\u001b[0m\u001b[1;36m0\u001b[0m\u001b[1;33m)\u001b[0m\u001b[1;33m.\u001b[0m\u001b[0mvalues\u001b[0m\u001b[1;33m==\u001b[0m\u001b[0mv\u001b[0m\u001b[1;33m.\u001b[0m\u001b[0mto_pandas\u001b[0m\u001b[1;33m(\u001b[0m\u001b[1;33m)\u001b[0m\u001b[1;33m.\u001b[0m\u001b[0mstd\u001b[0m\u001b[1;33m(\u001b[0m\u001b[1;33m)\u001b[0m\u001b[1;33m.\u001b[0m\u001b[0mvalues\u001b[0m\u001b[1;33m)\u001b[0m\u001b[1;33m,\u001b[0m \u001b[1;34m\"std vs pandas\"\u001b[0m\u001b[1;33m\u001b[0m\u001b[0m\n\u001b[0m\u001b[0;32m      3\u001b[0m \u001b[1;32massert\u001b[0m \u001b[0mnp\u001b[0m\u001b[1;33m.\u001b[0m\u001b[0msum\u001b[0m\u001b[1;33m(\u001b[0m\u001b[1;33m(\u001b[0m\u001b[0mv\u001b[0m\u001b[1;33m.\u001b[0m\u001b[0mvar\u001b[0m\u001b[1;33m(\u001b[0m\u001b[0mddof\u001b[0m\u001b[1;33m=\u001b[0m\u001b[1;36m1\u001b[0m\u001b[1;33m,\u001b[0m \u001b[0maxis\u001b[0m\u001b[1;33m=\u001b[0m\u001b[1;36m0\u001b[0m\u001b[1;33m)\u001b[0m\u001b[1;33m.\u001b[0m\u001b[0mvalues\u001b[0m\u001b[1;33m-\u001b[0m\u001b[0mv\u001b[0m\u001b[1;33m.\u001b[0m\u001b[0mto_pandas\u001b[0m\u001b[1;33m(\u001b[0m\u001b[1;33m)\u001b[0m\u001b[1;33m.\u001b[0m\u001b[0mvar\u001b[0m\u001b[1;33m(\u001b[0m\u001b[1;33m)\u001b[0m\u001b[1;33m.\u001b[0m\u001b[0mvalues\u001b[0m\u001b[1;33m)\u001b[0m\u001b[1;33m**\u001b[0m\u001b[1;36m2\u001b[0m\u001b[1;33m)\u001b[0m\u001b[1;33m<\u001b[0m\u001b[1;36m1e-10\u001b[0m\u001b[1;33m,\u001b[0m \u001b[1;34m\"var vs pandas\"\u001b[0m\u001b[1;33m\u001b[0m\u001b[0m\n\u001b[0;32m      4\u001b[0m \u001b[1;32massert\u001b[0m \u001b[0mnp\u001b[0m\u001b[1;33m.\u001b[0m\u001b[0mall\u001b[0m\u001b[1;33m(\u001b[0m\u001b[0mv\u001b[0m\u001b[1;33m.\u001b[0m\u001b[0mcumsum\u001b[0m\u001b[1;33m(\u001b[0m\u001b[0maxis\u001b[0m\u001b[1;33m=\u001b[0m\u001b[1;36m0\u001b[0m\u001b[1;33m)\u001b[0m\u001b[1;33m.\u001b[0m\u001b[0mvalues\u001b[0m \u001b[1;33m==\u001b[0m \u001b[0mv\u001b[0m\u001b[1;33m.\u001b[0m\u001b[0mto_pandas\u001b[0m\u001b[1;33m(\u001b[0m\u001b[1;33m)\u001b[0m\u001b[1;33m.\u001b[0m\u001b[0mcumsum\u001b[0m\u001b[1;33m(\u001b[0m\u001b[1;33m)\u001b[0m\u001b[1;33m.\u001b[0m\u001b[0mvalues\u001b[0m\u001b[1;33m)\u001b[0m\u001b[1;33m,\u001b[0m \u001b[1;34m\"error against pandas\"\u001b[0m\u001b[1;33m\u001b[0m\u001b[0m\n\u001b[0;32m      5\u001b[0m \u001b[1;32massert\u001b[0m \u001b[0mnp\u001b[0m\u001b[1;33m.\u001b[0m\u001b[0mall\u001b[0m\u001b[1;33m(\u001b[0m\u001b[0mv\u001b[0m\u001b[1;33m.\u001b[0m\u001b[0mcumprod\u001b[0m\u001b[1;33m(\u001b[0m\u001b[0maxis\u001b[0m\u001b[1;33m=\u001b[0m\u001b[1;36m0\u001b[0m\u001b[1;33m)\u001b[0m\u001b[1;33m.\u001b[0m\u001b[0mvalues\u001b[0m \u001b[1;33m==\u001b[0m \u001b[0mv\u001b[0m\u001b[1;33m.\u001b[0m\u001b[0mto_pandas\u001b[0m\u001b[1;33m(\u001b[0m\u001b[1;33m)\u001b[0m\u001b[1;33m.\u001b[0m\u001b[0mcumprod\u001b[0m\u001b[1;33m(\u001b[0m\u001b[1;33m)\u001b[0m\u001b[1;33m.\u001b[0m\u001b[0mvalues\u001b[0m\u001b[1;33m)\u001b[0m\u001b[1;33m,\u001b[0m \u001b[1;34m\"error against pandas\"\u001b[0m\u001b[1;33m\u001b[0m\u001b[0m\n",
        "\u001b[1;31mNameError\u001b[0m: name 'v' is not defined"
       ]
      }
     ],
     "prompt_number": 6
    },
    {
     "cell_type": "markdown",
     "metadata": {},
     "source": [
      "##Dataset"
     ]
    },
    {
     "cell_type": "markdown",
     "metadata": {},
     "source": [
      "Aggregate several datasets to a Dataset object, it will automatically align the data"
     ]
    },
    {
     "cell_type": "code",
     "collapsed": false,
     "input": [
      "import dimarray as da\n",
      "seed(0)\n",
      "mymap = da.array(randn(50,7), lon=linspace(-180,180,50), lat=linspace(-90,90,7))\n",
      "ts = da.Dimarray(np.arange(5), ('time',arange(1950,1955)))\n",
      "ts2 = da.Dimarray(np.arange(10), ('time',arange(1950,1960)))\n",
      "\n",
      "# Define a Dataset made of several variables\n",
      "data = da.Dataset({'ts':ts, 'ts2':ts2, 'mymap':mymap})\n",
      "data = da.Dataset([ts, ts2, mymap], keys=['ts','ts2','mymap'])"
     ],
     "language": "python",
     "metadata": {},
     "outputs": []
    },
    {
     "cell_type": "markdown",
     "metadata": {},
     "source": [
      "Data have been automatically aligned, while keeping the same shape"
     ]
    },
    {
     "cell_type": "code",
     "collapsed": false,
     "input": [
      "assert np.all(data['ts'].time == data['ts2'].time),\"Dataset: pb data alignment\" \n",
      "data['ts']"
     ],
     "language": "python",
     "metadata": {},
     "outputs": [
      {
       "ename": "NameError",
       "evalue": "name 'data' is not defined",
       "output_type": "pyerr",
       "traceback": [
        "\u001b[1;31m---------------------------------------------------------------------------\u001b[0m\n\u001b[1;31mNameError\u001b[0m                                 Traceback (most recent call last)",
        "\u001b[1;32m<ipython-input-7-c3e9801bce08>\u001b[0m in \u001b[0;36m<module>\u001b[1;34m()\u001b[0m\n\u001b[1;32m----> 1\u001b[1;33m \u001b[1;32massert\u001b[0m \u001b[0mnp\u001b[0m\u001b[1;33m.\u001b[0m\u001b[0mall\u001b[0m\u001b[1;33m(\u001b[0m\u001b[0mdata\u001b[0m\u001b[1;33m[\u001b[0m\u001b[1;34m'ts'\u001b[0m\u001b[1;33m]\u001b[0m\u001b[1;33m.\u001b[0m\u001b[0mtime\u001b[0m \u001b[1;33m==\u001b[0m \u001b[0mdata\u001b[0m\u001b[1;33m[\u001b[0m\u001b[1;34m'ts2'\u001b[0m\u001b[1;33m]\u001b[0m\u001b[1;33m.\u001b[0m\u001b[0mtime\u001b[0m\u001b[1;33m)\u001b[0m\u001b[1;33m,\u001b[0m\u001b[1;34m\"Dataset: pb data alignment\"\u001b[0m\u001b[1;33m\u001b[0m\u001b[0m\n\u001b[0m\u001b[0;32m      2\u001b[0m \u001b[0mdata\u001b[0m\u001b[1;33m[\u001b[0m\u001b[1;34m'ts'\u001b[0m\u001b[1;33m]\u001b[0m\u001b[1;33m\u001b[0m\u001b[0m\n",
        "\u001b[1;31mNameError\u001b[0m: name 'data' is not defined"
       ]
      }
     ],
     "prompt_number": 7
    },
    {
     "cell_type": "markdown",
     "metadata": {},
     "source": [
      "Can also add any other data as long as it is aligned with the dataset"
     ]
    },
    {
     "cell_type": "code",
     "collapsed": false,
     "input": [
      "data['test'] = da.Dimarray([0],('source',['greenland']))  # new axis\n",
      "try:\n",
      "    data['test2'] = da.Dimarray([0,3],('source',['greenland','antarctica']))\n",
      "except Exception, msg:\n",
      "    print msg\n",
      "data\n",
      "## TODO: \"expand\" Dataset (such as reindex_axis)"
     ],
     "language": "python",
     "metadata": {},
     "outputs": [
      {
       "ename": "NameError",
       "evalue": "name 'data' is not defined",
       "output_type": "pyerr",
       "traceback": [
        "\u001b[1;31m---------------------------------------------------------------------------\u001b[0m\n\u001b[1;31mNameError\u001b[0m                                 Traceback (most recent call last)",
        "\u001b[1;32m<ipython-input-8-adc6878fc169>\u001b[0m in \u001b[0;36m<module>\u001b[1;34m()\u001b[0m\n\u001b[1;32m----> 1\u001b[1;33m \u001b[0mdata\u001b[0m\u001b[1;33m[\u001b[0m\u001b[1;34m'test'\u001b[0m\u001b[1;33m]\u001b[0m \u001b[1;33m=\u001b[0m \u001b[0mda\u001b[0m\u001b[1;33m.\u001b[0m\u001b[0mDimarray\u001b[0m\u001b[1;33m(\u001b[0m\u001b[1;33m[\u001b[0m\u001b[1;36m0\u001b[0m\u001b[1;33m]\u001b[0m\u001b[1;33m,\u001b[0m\u001b[1;33m(\u001b[0m\u001b[1;34m'source'\u001b[0m\u001b[1;33m,\u001b[0m\u001b[1;33m[\u001b[0m\u001b[1;34m'greenland'\u001b[0m\u001b[1;33m]\u001b[0m\u001b[1;33m)\u001b[0m\u001b[1;33m)\u001b[0m  \u001b[1;31m# new axis\u001b[0m\u001b[1;33m\u001b[0m\u001b[0m\n\u001b[0m\u001b[0;32m      2\u001b[0m \u001b[1;32mtry\u001b[0m\u001b[1;33m:\u001b[0m\u001b[1;33m\u001b[0m\u001b[0m\n\u001b[0;32m      3\u001b[0m     \u001b[0mdata\u001b[0m\u001b[1;33m[\u001b[0m\u001b[1;34m'test2'\u001b[0m\u001b[1;33m]\u001b[0m \u001b[1;33m=\u001b[0m \u001b[0mda\u001b[0m\u001b[1;33m.\u001b[0m\u001b[0mDimarray\u001b[0m\u001b[1;33m(\u001b[0m\u001b[1;33m[\u001b[0m\u001b[1;36m0\u001b[0m\u001b[1;33m,\u001b[0m\u001b[1;36m3\u001b[0m\u001b[1;33m]\u001b[0m\u001b[1;33m,\u001b[0m\u001b[1;33m(\u001b[0m\u001b[1;34m'source'\u001b[0m\u001b[1;33m,\u001b[0m\u001b[1;33m[\u001b[0m\u001b[1;34m'greenland'\u001b[0m\u001b[1;33m,\u001b[0m\u001b[1;34m'antarctica'\u001b[0m\u001b[1;33m]\u001b[0m\u001b[1;33m)\u001b[0m\u001b[1;33m)\u001b[0m\u001b[1;33m\u001b[0m\u001b[0m\n\u001b[0;32m      4\u001b[0m \u001b[1;32mexcept\u001b[0m \u001b[0mException\u001b[0m\u001b[1;33m,\u001b[0m \u001b[0mmsg\u001b[0m\u001b[1;33m:\u001b[0m\u001b[1;33m\u001b[0m\u001b[0m\n\u001b[0;32m      5\u001b[0m     \u001b[1;32mprint\u001b[0m \u001b[0mmsg\u001b[0m\u001b[1;33m\u001b[0m\u001b[0m\n",
        "\u001b[1;31mNameError\u001b[0m: name 'data' is not defined"
       ]
      }
     ],
     "prompt_number": 8
    },
    {
     "cell_type": "code",
     "collapsed": false,
     "input": [
      "# Export to a Dimarray\n",
      "print data.to_array()"
     ],
     "language": "python",
     "metadata": {},
     "outputs": [
      {
       "ename": "NameError",
       "evalue": "name 'data' is not defined",
       "output_type": "pyerr",
       "traceback": [
        "\u001b[1;31m---------------------------------------------------------------------------\u001b[0m\n\u001b[1;31mNameError\u001b[0m                                 Traceback (most recent call last)",
        "\u001b[1;32m<ipython-input-9-1ee0a94c5b77>\u001b[0m in \u001b[0;36m<module>\u001b[1;34m()\u001b[0m\n\u001b[0;32m      1\u001b[0m \u001b[1;31m# Export to a Dimarray\u001b[0m\u001b[1;33m\u001b[0m\u001b[1;33m\u001b[0m\u001b[0m\n\u001b[1;32m----> 2\u001b[1;33m \u001b[1;32mprint\u001b[0m \u001b[0mdata\u001b[0m\u001b[1;33m.\u001b[0m\u001b[0mto_array\u001b[0m\u001b[1;33m(\u001b[0m\u001b[1;33m)\u001b[0m\u001b[1;33m\u001b[0m\u001b[0m\n\u001b[0m",
        "\u001b[1;31mNameError\u001b[0m: name 'data' is not defined"
       ]
      }
     ],
     "prompt_number": 9
    },
    {
     "cell_type": "markdown",
     "metadata": {},
     "source": [
      "##NetCDF I/O"
     ]
    },
    {
     "cell_type": "code",
     "collapsed": false,
     "input": [
      "from dimarray import Dimarray, summary_nc, read_nc\n",
      "a = Dimarray([1,2], 'x0')\n",
      "b = Dimarray([3,4,5], 'x1')\n",
      "a.write_nc(\"test.nc\",\"a\")\n",
      "b.write_nc(\"test.nc\",\"b\", mode='a')\n",
      "data = read_nc(\"test.nc\")\n",
      "data"
     ],
     "language": "python",
     "metadata": {},
     "outputs": []
    },
    {
     "cell_type": "markdown",
     "metadata": {},
     "source": [
      "A real-data example"
     ]
    },
    {
     "cell_type": "code",
     "collapsed": false,
     "input": [
      "path=\"/media/PIK/Data/All/Etopo/Etopo5.cdf\"\n",
      "import dimarray.io.nc as ncio; reload(ncio) \n",
      "import dimarray as da\n",
      "print da.summary_nc(path)\n",
      "da.read_nc(path, X=(0.0,10), Y=(80., 70), method='nearest')"
     ],
     "language": "python",
     "metadata": {},
     "outputs": []
    },
    {
     "cell_type": "markdown",
     "metadata": {},
     "source": [
      "### From a Dimarray"
     ]
    },
    {
     "cell_type": "code",
     "collapsed": false,
     "input": [
      "seed(0)\n",
      "v = da.array(randn(2,5,7), time=arange(1950,1955), lat=linspace(-90,90,7), items=array(['greenland','antarctica']))"
     ],
     "language": "python",
     "metadata": {},
     "outputs": [],
     "prompt_number": 10
    },
    {
     "cell_type": "code",
     "collapsed": false,
     "input": [
      "# writing\n",
      "v.write_nc(\"test2.nc\",\"myvarstr\")"
     ],
     "language": "python",
     "metadata": {},
     "outputs": [
      {
       "output_type": "stream",
       "stream": "stdout",
       "text": [
        "write to test2.nc\n"
       ]
      }
     ],
     "prompt_number": 11
    },
    {
     "cell_type": "code",
     "collapsed": false,
     "input": [
      "# checking\n",
      "da.summary_nc(\"test2.nc\")"
     ],
     "language": "python",
     "metadata": {},
     "outputs": [
      {
       "output_type": "stream",
       "stream": "stdout",
       "text": [
        "test2.nc:\n",
        "--------\n",
        "Dataset of 1 variable\n",
        "dimensions: u'items', u'time', u'lat'\n",
        "0 / items (2): greenland to antarctica\n",
        "1 / time (5): 1950 to 1954\n",
        "2 / lat (7): -90.0 to 90.0\n",
        "myvarstr : items, time, lat\n"
       ]
      }
     ],
     "prompt_number": 12
    },
    {
     "cell_type": "code",
     "collapsed": false,
     "input": [
      "# reading\n",
      "w = da.read_nc(\"test2.nc\")\n",
      "assert np.all(w['myvarstr'] == v), \"Problem when reading netcdf\"\n",
      "w"
     ],
     "language": "python",
     "metadata": {},
     "outputs": [
      {
       "output_type": "stream",
       "stream": "stdout",
       "text": [
        "read from test2.nc\n"
       ]
      },
      {
       "metadata": {},
       "output_type": "pyout",
       "prompt_number": 13,
       "text": [
        "Dataset of 1 variable\n",
        "dimensions: u'items', u'time', u'lat'\n",
        "0 / items (2): greenland to antarctica\n",
        "1 / time (5): 1950 to 1954\n",
        "2 / lat (7): -90.0 to 90.0\n",
        "myvarstr: items, time, lat"
       ]
      }
     ],
     "prompt_number": 13
    },
    {
     "cell_type": "markdown",
     "metadata": {},
     "source": [
      "### From/To Dataset"
     ]
    },
    {
     "cell_type": "code",
     "collapsed": false,
     "input": [
      "data.write('test3.nc')\n",
      "da.summary_nc('test3.nc')"
     ],
     "language": "python",
     "metadata": {},
     "outputs": [
      {
       "ename": "NameError",
       "evalue": "name 'data' is not defined",
       "output_type": "pyerr",
       "traceback": [
        "\u001b[1;31m---------------------------------------------------------------------------\u001b[0m\n\u001b[1;31mNameError\u001b[0m                                 Traceback (most recent call last)",
        "\u001b[1;32m<ipython-input-14-b452cbd3aa9e>\u001b[0m in \u001b[0;36m<module>\u001b[1;34m()\u001b[0m\n\u001b[1;32m----> 1\u001b[1;33m \u001b[0mdata\u001b[0m\u001b[1;33m.\u001b[0m\u001b[0mwrite\u001b[0m\u001b[1;33m(\u001b[0m\u001b[1;34m'test3.nc'\u001b[0m\u001b[1;33m)\u001b[0m\u001b[1;33m\u001b[0m\u001b[0m\n\u001b[0m\u001b[0;32m      2\u001b[0m \u001b[0mda\u001b[0m\u001b[1;33m.\u001b[0m\u001b[0msummary_nc\u001b[0m\u001b[1;33m(\u001b[0m\u001b[1;34m'test3.nc'\u001b[0m\u001b[1;33m)\u001b[0m\u001b[1;33m\u001b[0m\u001b[0m\n",
        "\u001b[1;31mNameError\u001b[0m: name 'data' is not defined"
       ]
      }
     ],
     "prompt_number": 14
    },
    {
     "cell_type": "markdown",
     "metadata": {},
     "source": [
      "##Experimental Features"
     ]
    },
    {
     "cell_type": "markdown",
     "metadata": {},
     "source": [
      "###Group / Ungroup"
     ]
    },
    {
     "cell_type": "code",
     "collapsed": false,
     "input": [
      "import dimarray as da"
     ],
     "language": "python",
     "metadata": {},
     "outputs": []
    },
    {
     "cell_type": "code",
     "collapsed": false,
     "input": [
      ">>> np.random.seed(0)\n",
      ">>> v = da.array(randn(2,5,180), time=arange(1950,1955), lat=linspace(-90,90,180), items=array(['greenland','antarctica']))\n",
      "#axes = v.axes[('time','lat')]\n",
      "#ax.GroupedAxis(*[v.axes[k] for k in ('time','lat')])\n",
      "print v\n",
      "\n",
      "# group time, lat\n",
      ">>> w = v.group(('time','lat'))\n",
      "print \"\\nBasic grouping:\\n\\n\", w\n",
      "\n",
      "# group dimensions and insert as first dimension\n",
      ">>> w = v.group(('time','lat'), insert=0) \n",
      "print \"\\nGroup + insert as first:\\n\\n\", w\n",
      "\n",
      "# group and ungroup\n",
      ">>> v2 = v.group(('time','items')).ungroup()\n",
      "print \"\\ngroup/ungroup no reshaping:\", np.all(v2 == v)\n",
      "print \"\\ngroup/ungroup with reshaping:\", np.all(v2.reshape(v.dims) == v)\n",
      "\n",
      "# grouping in transformations\n",
      ">>> res = v.mean(axis=('time','lat'))\n",
      "print \"\\nmean with grouping time,lat grouping:\\n\\n\",res"
     ],
     "language": "python",
     "metadata": {},
     "outputs": []
    },
    {
     "cell_type": "markdown",
     "metadata": {},
     "source": [
      "###Weighted mean"
     ]
    },
    {
     "cell_type": "markdown",
     "metadata": {},
     "source": [
      "Each axis can have a `weights` attribute. If not None, it will be automatically used when computing mean, var, std"
     ]
    },
    {
     "cell_type": "code",
     "collapsed": false,
     "input": [
      ">>> np.random.seed(0)\n",
      ">>> data = da.array(randn(7), lat=linspace(-90,90,7))\n",
      "\n",
      ">>> umean = data.mean(axis='lat')\n",
      "print \"\\nunweighted zonal mean:\\n\\n\", umean\n",
      "\n",
      "# now add weights\n",
      ">>> data.axes['lat'].weights = lambda x: np.cos(np.radians(x))\n",
      "\n",
      ">>> wmean = data.mean(axis='lat')\n",
      "print \"\\nweighted zonal mean:\\n\", wmean\n",
      "\n",
      ">>> wmean = data[:].mean(axis='lat')\n",
      "print \"\\nweighted zonal mean after [:]:\\n\", wmean\n",
      "\n",
      ">>> test =  data.mean(axis='lat', weights=None) \n",
      "print \"\\nCHECK:\", test == umean\n",
      "\n",
      "# Weighted mean with grouping\n",
      "#>>> mymap[mymap.lon > 0])\n",
      "#lon=linspace(-180,180,50), \n",
      ">>> mymap = data.reshape(('lat','lon')).repeat(lon=linspace(-180,180,5))\n",
      ">>> mymap.values[:,0] = np.nan\n",
      "#>>> print mymap\n",
      "#lon=linspace(-180,180,50)\n",
      ">>> wmean = mymap.mean()\n",
      "print \"\\nNaN + flatten all:\\n\",umean\n",
      "#>>> wmean = mymap.mean(axis=('lon','lat'))\n",
      ">>> wmean = mymap.mean(axis='lon').mean(axis='lat')\n",
      "print \"\\nNaN + sequential:\\n\",wmean\n",
      ">>> cube = da.array(randn(5,50,7), lon=linspace(-180,180,50), lat=linspace(-90,90,7), time=arange(1950,1955))\n",
      ">>> cube.axes['lat'].weights = lambda x: np.cos(np.radians(x))"
     ],
     "language": "python",
     "metadata": {},
     "outputs": []
    },
    {
     "cell_type": "markdown",
     "metadata": {},
     "source": [
      "###Interpolation"
     ]
    },
    {
     "cell_type": "code",
     "collapsed": false,
     "input": [
      "time=np.linspace(1950,1955,8)\n",
      "v = da.array(cos(time), time=time)\n",
      "#w = v.reindex_axis(arange(1940,1960), axis='time') \n",
      "w = da.interp1d(v, np.linspace(1948,1957,10), axis='time')\n",
      "#%matplotlib inline\n",
      "clf()\n",
      "plot(v.time, v.values, label='original')\n",
      "plot(w.time, w.values, label='interp')\n",
      "legend()\n",
      "show()\n",
      "draw()"
     ],
     "language": "python",
     "metadata": {},
     "outputs": []
    },
    {
     "cell_type": "markdown",
     "metadata": {},
     "source": [
      "###Export to other formats"
     ]
    },
    {
     "cell_type": "code",
     "collapsed": false,
     "input": [
      "#reload(da) # for dict\n",
      "v = da.array(randn(2,5,7), time=arange(1950,1955), lat=linspace(-90,90,7), items=array(['greenland','antarctica']))\n",
      "#reload(co) # for dict\n",
      "\n",
      "print \"\\nExport to pandas\\n\"\n",
      "print v.to_pandas()\n",
      "print \"\\nExport to larry\\n\"\n",
      "print v.to_larry()\n",
      "print \"\\nExport to Dataset\\n\"\n",
      "print v.to_dict()\n",
      "#v.to_MaskedArray() # to masked array"
     ],
     "language": "python",
     "metadata": {},
     "outputs": []
    },
    {
     "cell_type": "code",
     "collapsed": false,
     "input": [],
     "language": "python",
     "metadata": {},
     "outputs": []
    }
   ],
   "metadata": {}
  }
 ]
}