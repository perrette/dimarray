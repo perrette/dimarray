{
 "metadata": {
  "name": ""
 },
 "nbformat": 3,
 "nbformat_minor": 0,
 "worksheets": [
  {
   "cells": [
    {
     "cell_type": "code",
     "collapsed": false,
     "input": [
      "%pylab\n",
      "%matplotlib inline\n",
      "%load_ext autoreload\n",
      "%autoreload 2"
     ],
     "language": "python",
     "metadata": {},
     "outputs": [
      {
       "output_type": "stream",
       "stream": "stdout",
       "text": [
        "Using matplotlib backend: GTKAgg\n",
        "Populating the interactive namespace from numpy and matplotlib\n"
       ]
      }
     ],
     "prompt_number": 1
    },
    {
     "cell_type": "code",
     "collapsed": false,
     "input": [
      "import dimarray as da\n",
      "import dimarray.geo as geo\n",
      "import pandas as pd"
     ],
     "language": "python",
     "metadata": {},
     "outputs": [],
     "prompt_number": 2
    },
    {
     "cell_type": "code",
     "collapsed": false,
     "input": [
      "a = geo.GeoArray(np.arange(3*2).reshape((3,2)), lon=[50., 100.], lat=[0., 30., 60.])+0.\n",
      "b = a.newaxis('z',[0,1,2])\n",
      "geo.regional_mean(b)"
     ],
     "language": "python",
     "metadata": {},
     "outputs": [
      {
       "metadata": {},
       "output_type": "pyout",
       "prompt_number": 4,
       "text": [
        "geoarray: 3 non-null elements (0 null)\n",
        "dimensions: 'z'\n",
        "0 / z (3): 0 to 2\n",
        "array([-16.84629197, -16.84629197, -16.84629197])"
       ]
      }
     ],
     "prompt_number": 4
    },
    {
     "cell_type": "code",
     "collapsed": false,
     "input": [
      "%debug"
     ],
     "language": "python",
     "metadata": {},
     "outputs": [
      {
       "output_type": "stream",
       "stream": "stdout",
       "text": [
        "> \u001b[1;32m/media/PIK/Projects/dimarray/dimarray/core/axes.py\u001b[0m(238)\u001b[0;36m_flatten\u001b[1;34m()\u001b[0m\n",
        "\u001b[1;32m    237 \u001b[1;33m    \"\"\"\n",
        "\u001b[0m\u001b[1;32m--> 238 \u001b[1;33m    \u001b[1;32massert\u001b[0m \u001b[0mlen\u001b[0m\u001b[1;33m(\u001b[0m\u001b[0mlist_of_arrays\u001b[0m\u001b[1;33m)\u001b[0m \u001b[1;33m>\u001b[0m \u001b[1;36m1\u001b[0m\u001b[1;33m,\u001b[0m \u001b[1;34m\"only one axis!\"\u001b[0m\u001b[1;33m\u001b[0m\u001b[0m\n",
        "\u001b[0m\u001b[1;32m    239 \u001b[1;33m\u001b[1;33m\u001b[0m\u001b[0m\n",
        "\u001b[0m\n"
       ]
      },
      {
       "name": "stdout",
       "output_type": "stream",
       "stream": "stdout",
       "text": [
        "ipdb> up\n"
       ]
      },
      {
       "output_type": "stream",
       "stream": "stdout",
       "text": [
        "> \u001b[1;32m/media/PIK/Projects/dimarray/dimarray/core/axes.py\u001b[0m(198)\u001b[0;36mvalues\u001b[1;34m()\u001b[0m\n",
        "\u001b[1;32m    197 \u001b[1;33m        \u001b[1;31m# Each element of the new axis is a tuple, which makes a 2-D numpy array\u001b[0m\u001b[1;33m\u001b[0m\u001b[1;33m\u001b[0m\u001b[0m\n",
        "\u001b[0m\u001b[1;32m--> 198 \u001b[1;33m        \u001b[1;32mreturn\u001b[0m \u001b[0m_flatten\u001b[0m\u001b[1;33m(\u001b[0m\u001b[1;33m*\u001b[0m\u001b[1;33m[\u001b[0m\u001b[0max\u001b[0m\u001b[1;33m.\u001b[0m\u001b[0mvalues\u001b[0m \u001b[1;32mfor\u001b[0m \u001b[0max\u001b[0m \u001b[1;32min\u001b[0m \u001b[0mself\u001b[0m\u001b[1;33m.\u001b[0m\u001b[0maxes\u001b[0m\u001b[1;33m]\u001b[0m\u001b[1;33m)\u001b[0m\u001b[1;33m\u001b[0m\u001b[0m\n",
        "\u001b[0m\u001b[1;32m    199 \u001b[1;33m\u001b[1;33m\u001b[0m\u001b[0m\n",
        "\u001b[0m\n"
       ]
      },
      {
       "name": "stdout",
       "output_type": "stream",
       "stream": "stdout",
       "text": [
        "ipdb> q\n"
       ]
      }
     ],
     "prompt_number": 4
    },
    {
     "cell_type": "code",
     "collapsed": false,
     "input": [
      "array([[[5,6,3],[4,7,2,2]],[[1,2,2],[3,4,5,6]]])"
     ],
     "language": "python",
     "metadata": {},
     "outputs": [
      {
       "metadata": {},
       "output_type": "pyout",
       "prompt_number": 25,
       "text": [
        "array([[[5, 6, 3], [4, 7, 2, 2]],\n",
        "       [[1, 2, 2], [3, 4, 5, 6]]], dtype=object)"
       ]
      }
     ],
     "prompt_number": 25
    },
    {
     "cell_type": "code",
     "collapsed": false,
     "input": [
      "a = geo.GeoArray([1.,2,3],time=[1950, 1955, 1960])\n",
      "a.sum(axis='time')\n",
      "a[a.values == 11]"
     ],
     "language": "python",
     "metadata": {},
     "outputs": [
      {
       "metadata": {},
       "output_type": "pyout",
       "prompt_number": 4,
       "text": [
        "geoarray: 0 non-null elements (0 null)\n",
        "dimensions: 'time'\n",
        "0 / time (0): None to None\n",
        "array([], dtype=float64)"
       ]
      }
     ],
     "prompt_number": 4
    },
    {
     "cell_type": "code",
     "collapsed": false,
     "input": [
      "a.ix[1] = nan\n",
      "#import pandas as pd\n",
      "#pd.DataFrame.fillna?\n",
      "#a.mean()\n",
      "a\n",
      "geo.GeoArray(a)"
     ],
     "language": "python",
     "metadata": {},
     "outputs": [
      {
       "metadata": {},
       "output_type": "pyout",
       "prompt_number": 5,
       "text": [
        "geoarray: 2 non-null elements (1 null)\n",
        "dimensions: 'time'\n",
        "0 / time (3): 1950 to 1960\n",
        "array([  1.,  nan,   3.])"
       ]
      }
     ],
     "prompt_number": 5
    },
    {
     "cell_type": "code",
     "collapsed": false,
     "input": [
      "a[~isnan(a)]"
     ],
     "language": "python",
     "metadata": {},
     "outputs": [
      {
       "metadata": {},
       "output_type": "pyout",
       "prompt_number": 5,
       "text": [
        "geoarray: 2 non-null elements (0 null)\n",
        "dimensions: 'time'\n",
        "0 / time (2): 1950 to 1960\n",
        "array([ 1.,  3.])"
       ]
      }
     ],
     "prompt_number": 5
    },
    {
     "cell_type": "code",
     "collapsed": false,
     "input": [
      "a = geo.GeoArray(np.arange(3*2).reshape((3,2)))+0.\n",
      "a[1,0] = np.nan\n",
      "b = geo.dropna(a, axis=1)\n",
      "b"
     ],
     "language": "python",
     "metadata": {},
     "outputs": [
      {
       "metadata": {},
       "output_type": "pyout",
       "prompt_number": 6,
       "text": [
        "geoarray: 0 non-null elements (0 null)\n",
        "dimensions: 'x0', 'x1'\n",
        "0 / x0 (3): 0 to 2\n",
        "1 / x1 (0): None to None\n",
        "array([], shape=(3, 0), dtype=float64)"
       ]
      }
     ],
     "prompt_number": 6
    },
    {
     "cell_type": "code",
     "collapsed": false,
     "input": [
      "a = geo.GeoArray(np.arange(3*2).reshape((3,2)), lon=[50., 100.], lat=[0., 30., 60.])+0.\n",
      "geo.apply_recursive(a, geo.)"
     ],
     "language": "python",
     "metadata": {},
     "outputs": []
    },
    {
     "cell_type": "code",
     "collapsed": false,
     "input": [
      "%debug"
     ],
     "language": "python",
     "metadata": {},
     "outputs": [
      {
       "output_type": "stream",
       "stream": "stdout",
       "text": [
        "> \u001b[1;32m/media/PIK/Projects/dimarray/dimarray/core/axes.py\u001b[0m(384)\u001b[0;36mget_idx\u001b[1;34m()\u001b[0m\n",
        "\u001b[1;32m    383 \u001b[1;33m\u001b[1;33m\u001b[0m\u001b[0m\n",
        "\u001b[0m\u001b[1;32m--> 384 \u001b[1;33m        \u001b[1;32mreturn\u001b[0m \u001b[0mdims\u001b[0m\u001b[1;33m.\u001b[0m\u001b[0mindex\u001b[0m\u001b[1;33m(\u001b[0m\u001b[0maxis\u001b[0m\u001b[1;33m)\u001b[0m\u001b[1;33m\u001b[0m\u001b[0m\n",
        "\u001b[0m\u001b[1;32m    385 \u001b[1;33m\u001b[1;33m\u001b[0m\u001b[0m\n",
        "\u001b[0m\n"
       ]
      },
      {
       "name": "stdout",
       "output_type": "stream",
       "stream": "stdout",
       "text": [
        "ipdb> list\n"
       ]
      },
      {
       "output_type": "stream",
       "stream": "stdout",
       "text": [
        "\u001b[0;32m    379 \u001b[0m        \u001b[1;32mif\u001b[0m \u001b[0mtype\u001b[0m\u001b[1;33m(\u001b[0m\u001b[0maxis\u001b[0m\u001b[1;33m)\u001b[0m \u001b[1;32mis\u001b[0m \u001b[0mint\u001b[0m\u001b[1;33m:\u001b[0m\u001b[1;33m\u001b[0m\u001b[0m\n",
        "\u001b[0;32m    380 \u001b[0m            \u001b[1;32mreturn\u001b[0m \u001b[0maxis\u001b[0m\u001b[1;33m\u001b[0m\u001b[0m\n",
        "\u001b[0;32m    381 \u001b[0m\u001b[1;33m\u001b[0m\u001b[0m\n",
        "\u001b[0;32m    382 \u001b[0m        \u001b[0mdims\u001b[0m \u001b[1;33m=\u001b[0m \u001b[1;33m[\u001b[0m\u001b[0max\u001b[0m\u001b[1;33m.\u001b[0m\u001b[0mname\u001b[0m \u001b[1;32mfor\u001b[0m \u001b[0max\u001b[0m \u001b[1;32min\u001b[0m \u001b[0mself\u001b[0m\u001b[1;33m]\u001b[0m\u001b[1;33m\u001b[0m\u001b[0m\n",
        "\u001b[0;32m    383 \u001b[0m\u001b[1;33m\u001b[0m\u001b[0m\n",
        "\u001b[1;32m--> 384 \u001b[1;33m        \u001b[1;32mreturn\u001b[0m \u001b[0mdims\u001b[0m\u001b[1;33m.\u001b[0m\u001b[0mindex\u001b[0m\u001b[1;33m(\u001b[0m\u001b[0maxis\u001b[0m\u001b[1;33m)\u001b[0m\u001b[1;33m\u001b[0m\u001b[0m\n",
        "\u001b[0m\u001b[0;32m    385 \u001b[0m\u001b[1;33m\u001b[0m\u001b[0m\n",
        "\u001b[0;32m    386 \u001b[0m    \u001b[1;33m@\u001b[0m\u001b[0mproperty\u001b[0m\u001b[1;33m\u001b[0m\u001b[0m\n",
        "\u001b[0;32m    387 \u001b[0m    \u001b[1;32mdef\u001b[0m \u001b[0mloc\u001b[0m\u001b[1;33m(\u001b[0m\u001b[0mself\u001b[0m\u001b[1;33m)\u001b[0m\u001b[1;33m:\u001b[0m\u001b[1;33m\u001b[0m\u001b[0m\n",
        "\u001b[0;32m    388 \u001b[0m        \u001b[1;32mreturn\u001b[0m \u001b[0mLocatorAxes\u001b[0m\u001b[1;33m(\u001b[0m\u001b[0mself\u001b[0m\u001b[1;33m)\u001b[0m\u001b[1;33m\u001b[0m\u001b[0m\n",
        "\u001b[0;32m    389 \u001b[0m\u001b[1;33m\u001b[0m\u001b[0m\n",
        "\n"
       ]
      },
      {
       "name": "stdout",
       "output_type": "stream",
       "stream": "stdout",
       "text": [
        "ipdb> up\n"
       ]
      },
      {
       "output_type": "stream",
       "stream": "stdout",
       "text": [
        "> \u001b[1;32m/media/PIK/Projects/dimarray/dimarray/core/axes.py\u001b[0m(346)\u001b[0;36m__getitem__\u001b[1;34m()\u001b[0m\n",
        "\u001b[1;32m    345 \u001b[1;33m        \u001b[1;32mif\u001b[0m \u001b[0mtype\u001b[0m\u001b[1;33m(\u001b[0m\u001b[0mitem\u001b[0m\u001b[1;33m)\u001b[0m \u001b[1;32min\u001b[0m \u001b[1;33m[\u001b[0m\u001b[0mstr\u001b[0m\u001b[1;33m,\u001b[0m \u001b[0municode\u001b[0m\u001b[1;33m,\u001b[0m \u001b[0mtuple\u001b[0m\u001b[1;33m]\u001b[0m\u001b[1;33m:\u001b[0m\u001b[1;33m\u001b[0m\u001b[0m\n",
        "\u001b[0m\u001b[1;32m--> 346 \u001b[1;33m            \u001b[0mitem\u001b[0m \u001b[1;33m=\u001b[0m \u001b[0mself\u001b[0m\u001b[1;33m.\u001b[0m\u001b[0mget_idx\u001b[0m\u001b[1;33m(\u001b[0m\u001b[0mitem\u001b[0m\u001b[1;33m)\u001b[0m\u001b[1;33m\u001b[0m\u001b[0m\n",
        "\u001b[0m\u001b[1;32m    347 \u001b[1;33m\u001b[1;33m\u001b[0m\u001b[0m\n",
        "\u001b[0m\n"
       ]
      },
      {
       "name": "stdout",
       "output_type": "stream",
       "stream": "stdout",
       "text": [
        "ipdb> up\n"
       ]
      },
      {
       "output_type": "stream",
       "stream": "stdout",
       "text": [
        "> \u001b[1;32m/media/PIK/Projects/dimarray/dimarray/geo/decorators.py\u001b[0m(44)\u001b[0;36mdimarray_fun\u001b[1;34m()\u001b[0m\n",
        "\u001b[1;32m     43 \u001b[1;33m        \u001b[0mobj\u001b[0m \u001b[1;33m=\u001b[0m \u001b[0mGeoArray\u001b[0m\u001b[1;33m(\u001b[0m\u001b[0mobj\u001b[0m\u001b[1;33m)\u001b[0m \u001b[1;31m# just make sure the order of dimensions if OK, otherwise transpose\u001b[0m\u001b[1;33m\u001b[0m\u001b[0m\n",
        "\u001b[0m\u001b[1;32m---> 44 \u001b[1;33m        \u001b[0margs0\u001b[0m \u001b[1;33m=\u001b[0m \u001b[1;33m[\u001b[0m\u001b[0mobj\u001b[0m\u001b[1;33m.\u001b[0m\u001b[0maxes\u001b[0m\u001b[1;33m[\u001b[0m\u001b[0mk\u001b[0m\u001b[1;33m]\u001b[0m\u001b[1;33m.\u001b[0m\u001b[0mvalues\u001b[0m \u001b[1;32mfor\u001b[0m \u001b[0mk\u001b[0m \u001b[1;32min\u001b[0m \u001b[0mdims\u001b[0m\u001b[1;33m]\u001b[0m \u001b[1;31m# coordinates: e.g. lon, lat...\u001b[0m\u001b[1;33m\u001b[0m\u001b[0m\n",
        "\u001b[0m\u001b[1;32m     45 \u001b[1;33m        \u001b[0margs0\u001b[0m\u001b[1;33m.\u001b[0m\u001b[0mappend\u001b[0m\u001b[1;33m(\u001b[0m\u001b[0mobj\u001b[0m\u001b[1;33m.\u001b[0m\u001b[0mvalues\u001b[0m\u001b[1;33m)\u001b[0m    \u001b[1;31m# add values\u001b[0m\u001b[1;33m\u001b[0m\u001b[0m\n",
        "\u001b[0m\n"
       ]
      },
      {
       "name": "stdout",
       "output_type": "stream",
       "stream": "stdout",
       "text": [
        "ipdb> dims\n"
       ]
      },
      {
       "output_type": "stream",
       "stream": "stdout",
       "text": [
        "['lon', 'lat']\n"
       ]
      },
      {
       "name": "stdout",
       "output_type": "stream",
       "stream": "stdout",
       "text": [
        "ipdb> args0\n"
       ]
      },
      {
       "output_type": "stream",
       "stream": "stdout",
       "text": [
        "*** NameError: name 'args0' is not defined\n"
       ]
      },
      {
       "name": "stdout",
       "output_type": "stream",
       "stream": "stdout",
       "text": [
        "ipdb> dims\n"
       ]
      },
      {
       "output_type": "stream",
       "stream": "stdout",
       "text": [
        "['lon', 'lat']\n"
       ]
      },
      {
       "name": "stdout",
       "output_type": "stream",
       "stream": "stdout",
       "text": [
        "ipdb> obj\n"
       ]
      },
      {
       "output_type": "stream",
       "stream": "stdout",
       "text": [
        "geoarray: 6 non-null elements (0 null)\n",
        "dimensions: 'x0', 'x1'\n",
        "0 / x0 (3): 0 to 2\n",
        "1 / x1 (2): 0 to 1\n",
        "array([[ 0.,  1.],\n",
        "       [ 2.,  3.],\n",
        "       [ 4.,  5.]])\n"
       ]
      },
      {
       "name": "stdout",
       "output_type": "stream",
       "stream": "stdout",
       "text": [
        "ipdb> up\n"
       ]
      },
      {
       "output_type": "stream",
       "stream": "stdout",
       "text": [
        "> \u001b[1;32m/media/PIK/Projects/dimarray/dimarray/lib/transform.py\u001b[0m(29)\u001b[0;36mapply_recursive\u001b[1;34m()\u001b[0m\n",
        "\u001b[1;32m     28 \u001b[1;33m        \u001b[1;31m#assert set(obj.dims) == set(dims), \"something went wrong\"\u001b[0m\u001b[1;33m\u001b[0m\u001b[1;33m\u001b[0m\u001b[0m\n",
        "\u001b[0m\u001b[1;32m---> 29 \u001b[1;33m        \u001b[1;32mreturn\u001b[0m \u001b[0mfun\u001b[0m\u001b[1;33m(\u001b[0m\u001b[0mobj\u001b[0m\u001b[1;33m,\u001b[0m \u001b[1;33m*\u001b[0m\u001b[0margs\u001b[0m\u001b[1;33m,\u001b[0m \u001b[1;33m**\u001b[0m\u001b[0mkwargs\u001b[0m\u001b[1;33m)\u001b[0m\u001b[1;33m\u001b[0m\u001b[0m\n",
        "\u001b[0m\u001b[1;32m     30 \u001b[1;33m\u001b[1;33m\u001b[0m\u001b[0m\n",
        "\u001b[0m\n"
       ]
      },
      {
       "name": "stdout",
       "output_type": "stream",
       "stream": "stdout",
       "text": [
        "ipdb> lon\n"
       ]
      },
      {
       "output_type": "stream",
       "stream": "stdout",
       "text": [
        "*** NameError: name 'lon' is not defined\n"
       ]
      },
      {
       "name": "stdout",
       "output_type": "stream",
       "stream": "stdout",
       "text": [
        "ipdb> obj\n"
       ]
      },
      {
       "output_type": "stream",
       "stream": "stdout",
       "text": [
        "geoarray: 6 non-null elements (0 null)\n",
        "dimensions: 'lat', 'lon'\n",
        "0 / lat (3): 0.0 to 60.0\n",
        "1 / lon (2): 50.0 to 100.0\n",
        "array([[ 0.,  1.],\n",
        "       [ 2.,  3.],\n",
        "       [ 4.,  5.]])\n"
       ]
      },
      {
       "name": "stdout",
       "output_type": "stream",
       "stream": "stdout",
       "text": [
        "ipdb> aa = args\n"
       ]
      },
      {
       "name": "stdout",
       "output_type": "stream",
       "stream": "stdout",
       "text": [
        "ipdb> aa\n"
       ]
      },
      {
       "output_type": "stream",
       "stream": "stdout",
       "text": [
        "()\n"
       ]
      },
      {
       "name": "stdout",
       "output_type": "stream",
       "stream": "stdout",
       "text": [
        "ipdb> kwargs\n"
       ]
      },
      {
       "output_type": "stream",
       "stream": "stdout",
       "text": [
        "{}\n"
       ]
      },
      {
       "name": "stdout",
       "output_type": "stream",
       "stream": "stdout",
       "text": [
        "ipdb> dims\n"
       ]
      },
      {
       "output_type": "stream",
       "stream": "stdout",
       "text": [
        "['lon', 'lat']\n"
       ]
      },
      {
       "name": "stdout",
       "output_type": "stream",
       "stream": "stdout",
       "text": [
        "ipdb> obj\n"
       ]
      },
      {
       "output_type": "stream",
       "stream": "stdout",
       "text": [
        "geoarray: 6 non-null elements (0 null)\n",
        "dimensions: 'lat', 'lon'\n",
        "0 / lat (3): 0.0 to 60.0\n",
        "1 / lon (2): 50.0 to 100.0\n",
        "array([[ 0.,  1.],\n",
        "       [ 2.,  3.],\n",
        "       [ 4.,  5.]])\n"
       ]
      },
      {
       "name": "stdout",
       "output_type": "stream",
       "stream": "stdout",
       "text": [
        "ipdb> fun\n"
       ]
      },
      {
       "output_type": "stream",
       "stream": "stdout",
       "text": [
        "<function dimarray_funregional_mean at 0xac8472c>\n"
       ]
      },
      {
       "name": "stdout",
       "output_type": "stream",
       "stream": "stdout",
       "text": [
        "ipdb> fun(obj)\n"
       ]
      },
      {
       "output_type": "stream",
       "stream": "stdout",
       "text": [
        "*** ValueError: 'lon' is not in list\n"
       ]
      },
      {
       "name": "stdout",
       "output_type": "stream",
       "stream": "stdout",
       "text": [
        "ipdb> fun(obj, *args, **kwargs)\n"
       ]
      },
      {
       "output_type": "stream",
       "stream": "stdout",
       "text": [
        "*** ValueError: 'lon' is not in list\n"
       ]
      },
      {
       "name": "stdout",
       "output_type": "stream",
       "stream": "stdout",
       "text": [
        "ipdb> obj\n"
       ]
      },
      {
       "output_type": "stream",
       "stream": "stdout",
       "text": [
        "geoarray: 6 non-null elements (0 null)\n",
        "dimensions: 'lat', 'lon'\n",
        "0 / lat (3): 0.0 to 60.0\n",
        "1 / lon (2): 50.0 to 100.0\n",
        "array([[ 0.,  1.],\n",
        "       [ 2.,  3.],\n",
        "       [ 4.,  5.]])\n"
       ]
      },
      {
       "name": "stdout",
       "output_type": "stream",
       "stream": "stdout",
       "text": [
        "ipdb> down\n"
       ]
      },
      {
       "output_type": "stream",
       "stream": "stdout",
       "text": [
        "> \u001b[1;32m/media/PIK/Projects/dimarray/dimarray/geo/decorators.py\u001b[0m(44)\u001b[0;36mdimarray_fun\u001b[1;34m()\u001b[0m\n",
        "\u001b[1;32m     43 \u001b[1;33m        \u001b[0mobj\u001b[0m \u001b[1;33m=\u001b[0m \u001b[0mGeoArray\u001b[0m\u001b[1;33m(\u001b[0m\u001b[0mobj\u001b[0m\u001b[1;33m)\u001b[0m \u001b[1;31m# just make sure the order of dimensions if OK, otherwise transpose\u001b[0m\u001b[1;33m\u001b[0m\u001b[0m\n",
        "\u001b[0m\u001b[1;32m---> 44 \u001b[1;33m        \u001b[0margs0\u001b[0m \u001b[1;33m=\u001b[0m \u001b[1;33m[\u001b[0m\u001b[0mobj\u001b[0m\u001b[1;33m.\u001b[0m\u001b[0maxes\u001b[0m\u001b[1;33m[\u001b[0m\u001b[0mk\u001b[0m\u001b[1;33m]\u001b[0m\u001b[1;33m.\u001b[0m\u001b[0mvalues\u001b[0m \u001b[1;32mfor\u001b[0m \u001b[0mk\u001b[0m \u001b[1;32min\u001b[0m \u001b[0mdims\u001b[0m\u001b[1;33m]\u001b[0m \u001b[1;31m# coordinates: e.g. lon, lat...\u001b[0m\u001b[1;33m\u001b[0m\u001b[0m\n",
        "\u001b[0m\u001b[1;32m     45 \u001b[1;33m        \u001b[0margs0\u001b[0m\u001b[1;33m.\u001b[0m\u001b[0mappend\u001b[0m\u001b[1;33m(\u001b[0m\u001b[0mobj\u001b[0m\u001b[1;33m.\u001b[0m\u001b[0mvalues\u001b[0m\u001b[1;33m)\u001b[0m    \u001b[1;31m# add values\u001b[0m\u001b[1;33m\u001b[0m\u001b[0m\n",
        "\u001b[0m\n"
       ]
      },
      {
       "name": "stdout",
       "output_type": "stream",
       "stream": "stdout",
       "text": [
        "ipdb> obj\n"
       ]
      },
      {
       "output_type": "stream",
       "stream": "stdout",
       "text": [
        "geoarray: 6 non-null elements (0 null)\n",
        "dimensions: 'x0', 'x1'\n",
        "0 / x0 (3): 0 to 2\n",
        "1 / x1 (2): 0 to 1\n",
        "array([[ 0.,  1.],\n",
        "       [ 2.,  3.],\n",
        "       [ 4.,  5.]])\n"
       ]
      },
      {
       "name": "stdout",
       "output_type": "stream",
       "stream": "stdout",
       "text": [
        "ipdb> q\n"
       ]
      }
     ],
     "prompt_number": 17
    }
   ],
   "metadata": {}
  }
 ]
}