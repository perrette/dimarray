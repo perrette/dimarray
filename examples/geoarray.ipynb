{
 "metadata": {
  "name": ""
 },
 "nbformat": 3,
 "nbformat_minor": 0,
 "worksheets": [
  {
   "cells": [
    {
     "cell_type": "code",
     "collapsed": false,
     "input": [
      "%pylab\n",
      "%matplotlib inline\n",
      "\n",
      "%load_ext autoreload\n",
      "%autoreload 2"
     ],
     "language": "python",
     "metadata": {},
     "outputs": [
      {
       "output_type": "stream",
       "stream": "stdout",
       "text": [
        "Using matplotlib backend: GTKAgg\n",
        "Populating the interactive namespace from numpy and matplotlib\n"
       ]
      }
     ],
     "prompt_number": 1
    },
    {
     "cell_type": "code",
     "collapsed": false,
     "input": [
      "import dimarray as da\n",
      "import dimarray.geo as geo\n",
      "import pandas as pd"
     ],
     "language": "python",
     "metadata": {},
     "outputs": [],
     "prompt_number": 2
    },
    {
     "cell_type": "code",
     "collapsed": false,
     "input": [
      "a = geo.GeoArray(np.arange(3*2).reshape((3,2)), lon=[50., 100.], lat=[0., 30., 60.])+0.\n",
      "print geo.regional_mean(a)\n",
      "a = a.newaxis('z',[0,1,2])\n",
      "#a = a.newaxis('w',[10,20,30,40])\n",
      "a = a.transpose(('lon','z','lat'))\n",
      "geo.regional_mean(a)\n",
      "#a.get_weights()\n",
      "yy = a.groupby('z').a.values\n",
      "xx = a.groupby('z').a.axes[0].values\n",
      "xx\n",
      "yy\n",
      "scatter(xx.repeat(size(yy)/size(xx)), yy)"
     ],
     "language": "python",
     "metadata": {},
     "outputs": [
      {
       "output_type": "stream",
       "stream": "stdout",
       "text": [
        "-16.8462919682\n"
       ]
      },
      {
       "metadata": {},
       "output_type": "pyout",
       "prompt_number": 12,
       "text": [
        "<matplotlib.collections.PathCollection at 0xb3d680c>"
       ]
      },
      {
       "metadata": {},
       "output_type": "display_data",
       "png": "[encoded data removed]",
       "text": [
        "<matplotlib.figure.Figure at 0xb083eac>"
       ]
      }
     ],
     "prompt_number": 12
    },
    {
     "cell_type": "code",
     "collapsed": false,
     "input": [
      "import dimarray.tests as tests\n",
      "reload(tests)\n",
      "tests.main()"
     ],
     "language": "python",
     "metadata": {},
     "outputs": [
      {
       "output_type": "stream",
       "stream": "stdout",
       "text": [
        "\n",
        "\n",
        "============================\n",
        "TEST dimarray.core.metadata\n",
        "============================\n",
        "\n",
        "\n",
        "\n",
        "\n",
        "============================\n",
        "TEST dimarray.core.dimarraycls\n",
        "============================\n",
        "\n",
        "\n",
        "\n",
        "\n",
        "============================"
       ]
      },
      {
       "output_type": "stream",
       "stream": "stdout",
       "text": [
        "\n",
        "TEST dimarray.core.axes\n",
        "============================\n",
        "\n",
        "\n",
        "\n",
        "\n",
        "============================\n",
        "TEST dimarray.core._indexing\n",
        "============================\n",
        "\n",
        "\n",
        "\n",
        "\n",
        "============================\n",
        "TEST dimarray.core._transform\n",
        "============================\n",
        "\n",
        "\n",
        "\n",
        "\n",
        "============================\n",
        "TEST dimarray.core._reshape\n",
        "============================\n",
        "\n",
        "\n",
        "\n",
        "\n",
        "============================"
       ]
      },
      {
       "output_type": "stream",
       "stream": "stdout",
       "text": [
        "\n",
        "TEST dimarray.geo.geoarray\n",
        "============================\n",
        "\n",
        "\n",
        "\n",
        "\n",
        "============================\n",
        "TEST dimarray.geo.region\n",
        "============================\n",
        "\n",
        "\n",
        "\n",
        "\n",
        "============================\n",
        "TEST dimarray.geo.transform\n",
        "============================\n",
        "\n",
        "\n",
        "\n",
        "\n",
        "============================\n",
        "TEST dimarray.geo.grid\n",
        "============================\n",
        "\n",
        "\n",
        "\n",
        "\n",
        "============================\n",
        "TEST decorator\n",
        "============================\n",
        "\n",
        "\n",
        "\n",
        "\n",
        "============================\n",
        "TEST dimarray\n",
        "============================\n",
        "\n",
        "\n"
       ]
      }
     ],
     "prompt_number": 2
    }
   ],
   "metadata": {}
  }
 ]
}